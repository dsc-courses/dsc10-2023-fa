{
 "cells": [
  {
   "cell_type": "markdown",
   "metadata": {},
   "source": [
    "# Lab 0: Expressions and Data Types\n",
    "\n",
    "## Due Thursday, October 5th at 11:59PM\n",
    "\n",
    "Welcome to DSC 10!  Each week, you will complete a lab assignment like this one. You can think of the labs as being hands-on, interactive reading assignments where you'll get practical experience with the topics from lecture. In a given week, the lab will prepare you for the homework assignment, so make sure to work on the lab first. \n",
    "\n",
    "<div class=\"alert alert-block alert-warning\">\n",
    "<b>Don’t worry if this content seems foreign – we will start covering it in Monday’s lecture. With that said, the lab is pretty self-guided, so you may even be able to get started over the weekend! You should complete this entire lab so that all tests pass and submit it to Gradescope by 11:59PM on the due date.</b>\n",
    "</div>\n",
    "\n",
    "Each person must submit each lab independently, but you are encouraged to discuss the lab with other students (no sharing code). If you get stuck at any point during the lab, make sure to look through the lecture notebooks and readings linked on the course website. You can also post on EdStem or come to office hours (check the [Calendar](https://dsc10.com/calendar) on the course website for the schedule).\n",
    "\n",
    "This week's lab will cover the basics of Python and Jupyter Notebooks. You'll learn how to:\n",
    "\n",
    "* Navigate Jupyter notebooks (like this one)\n",
    "* Write and evaluate some basic *expressions* in Python, a popular programming language\n",
    "* Call *functions* to use code that other people have written\n",
    "* Break down Python code into smaller parts to understand it\n",
    "* Work with another type of data: text\n",
    "* Invoke methods and import code\n",
    "\n",
    "This lab references [BPD 1-6](https://notes.dsc10.com/01-getting_started/tools.html) in the `babypandas` notes; make sure to check them out, especially if you run into trouble."
   ]
  },
  {
   "cell_type": "markdown",
   "metadata": {},
   "source": [
    "# Part 1: Jupyter Notebooks and Python Basics\n",
    "\n",
    "# 1. Jupyter notebooks\n",
    "This webpage is called a Jupyter notebook. A notebook is a place to write programs and view their results. (If you're [curious](https://realpython.com/jupyter-notebook-introduction/#:~:text=The%20name%2C%20Jupyter%2C%20comes%20from,that%20you%20can%20also%20use.), it's called a Jupyter notebook because the three programming languages it initially supported were **Ju**lia, **Py**thon, and **R**.)\n",
    "\n",
    "## 1.1. Text cells\n",
    "In a notebook, each rectangle containing text or code is called a *cell*.\n",
    "\n",
    "Text cells (like this one) can be edited by double-clicking on them. They're written in a simple format called [Markdown](http://daringfireball.net/projects/markdown/syntax) that allows us to add formatting and section headings.  You don't need to learn Markdown, but you might want to."
   ]
  },
  {
   "cell_type": "markdown",
   "metadata": {},
   "source": [
    "**Question 1.1.1.** This paragraph is in its own text cell.  Try editing it so that this sentence is the last sentence in the paragraph, and then click the \"run cell\" ▶ button at the top of the page.  This sentence, for example, should be deleted.  So should this one."
   ]
  },
  {
   "cell_type": "markdown",
   "metadata": {},
   "source": [
    "## 1.2. Code cells\n",
    "Other cells contain code in the Python programming language (more specifically, Python 3). Running a code cell will execute all of the code it contains.\n",
    "\n",
    "To run the code in a code cell, first click on that cell to activate it.  It'll be highlighted with a little green or blue rectangle.  Next, either press ▶ or hold down the `shift` key and press `return` or `enter` on your keyboard. **It is much, much faster to use the keyboard shortcut!**\n",
    "\n",
    "Try running this cell:"
   ]
  },
  {
   "cell_type": "code",
   "execution_count": null,
   "metadata": {},
   "outputs": [],
   "source": [
    "print(\"Hello, World!\")"
   ]
  },
  {
   "cell_type": "markdown",
   "metadata": {},
   "source": [
    "And this one:"
   ]
  },
  {
   "cell_type": "code",
   "execution_count": null,
   "metadata": {},
   "outputs": [],
   "source": [
    "print(\"\\N{DOG}, \\N{BONE}!\")"
   ]
  },
  {
   "cell_type": "markdown",
   "metadata": {},
   "source": [
    "You should see a dog and a bone."
   ]
  },
  {
   "cell_type": "markdown",
   "metadata": {},
   "source": [
    "The fundamental building block of Python code is an expression. Cells can contain multiple lines with multiple expressions. When you run a cell, the lines of code are executed in the order in which they appear. Every `print` expression prints a line. Run the next cell and notice the order of the output."
   ]
  },
  {
   "cell_type": "code",
   "execution_count": null,
   "metadata": {},
   "outputs": [],
   "source": [
    "print(\"First this line is printed,\")\n",
    "print(\"and then this one.\")"
   ]
  },
  {
   "cell_type": "markdown",
   "metadata": {},
   "source": [
    "**Question 1.2.1.** Change the cell above so that it prints out exactly:\n",
    "\n",
    "    First I pet my dog 🐕,\n",
    "    and then I feed her a 🦴.\n",
    "\n",
    "*Hint:* If you're stuck for more than a few minutes, try talking to a classmate, tutor, or TA.  That's a good idea for any lab problem."
   ]
  },
  {
   "cell_type": "markdown",
   "metadata": {},
   "source": [
    "## 1.3. Writing Jupyter notebooks\n",
    "You can use Jupyter notebooks for your own projects or documents.  When you make your own notebook, you'll need to create your own cells for text and code.\n",
    "\n",
    "To add a cell, click the + button in the menu bar.  It will start out as a text cell.  You can change it to a code cell by clicking inside it so it's highlighted, clicking the drop-down box next to the restart (⟳) button in the menu bar, and choosing \"Code\".\n",
    "\n",
    "**Question 1.3.1.** Add a code cell below this one.  Write code in it that prints out:\n",
    "   \n",
    "       ♪ A whole new cell! ♪\n",
    "\n",
    "(That musical note symbol is like the dog symbol.  Its long-form name is `\\N{EIGHTH NOTE}`.)\n",
    "\n",
    "Run your cell to verify that it works."
   ]
  },
  {
   "cell_type": "markdown",
   "metadata": {},
   "source": [
    "## 1.4. Errors\n",
    "Python is a language, and like natural human languages, it has rules.  It differs from natural language in two important ways:\n",
    "1. The rules are *simple*.  You can learn most of them in a few weeks and gain reasonable proficiency with the language in a quarter.\n",
    "2. The rules are *rigid*.  If you're proficient in a natural language, you can understand a non-proficient speaker, glossing over small mistakes.  A computer running Python code is not smart enough to do that.\n",
    "\n",
    "Whenever you write code, you'll make mistakes.  When you run a code cell that has errors, Python will sometimes produce error messages to tell you what you did wrong.\n",
    "\n",
    "Errors are okay; even experienced programmers make many errors.  When you make an error, you just have to find the source of the problem, fix it, and move on.\n",
    "\n",
    "We have made an error in the next cell.  Run it and see what happens."
   ]
  },
  {
   "cell_type": "code",
   "execution_count": null,
   "metadata": {},
   "outputs": [],
   "source": [
    "print(\"This line is missing something.\""
   ]
  },
  {
   "cell_type": "markdown",
   "metadata": {},
   "source": [
    "You should see something like this (minus our annotations):\n",
    "\n",
    "<img src=\"./data/error.jpg\"/>\n",
    "\n",
    "The last line of the error output attempts to tell you what went wrong.  The *syntax* of a language is its structure, and this `SyntaxError` tells you that you have created an illegal structure.  `EOF` means \"end of file,\" so the message is saying Python expected you to write something more (in this case, a right parenthesis) before finishing the cell.\n",
    "\n",
    "There's a lot of terminology in programming languages, but you don't need to know it all in order to program effectively. If you see a cryptic message like this, you can often get by without deciphering it.  Of course, if you're frustrated, ask for help. You can also feel free to Google the error message to get a better sense of what it means and what the problem might be. Computer programmers do this all the time!\n",
    "\n",
    "Try to fix the code above so that you can run the cell and see the intended message instead of an error."
   ]
  },
  {
   "cell_type": "markdown",
   "metadata": {},
   "source": [
    "# 2. Numbers\n",
    "\n",
    "Quantitative information arises everywhere in data science. In addition to representing commands to print out lines, expressions can represent numbers and methods of combining numbers. The expression `3.2500` evaluates to the number 3.25. (Run the cell and see.)"
   ]
  },
  {
   "cell_type": "code",
   "execution_count": null,
   "metadata": {},
   "outputs": [],
   "source": [
    "3.2500"
   ]
  },
  {
   "cell_type": "markdown",
   "metadata": {},
   "source": [
    "Notice that we didn't have to `print`. When you run a notebook cell, if the last line has a value, then Jupyter helpfully prints out that value for you. However, it won't print out prior lines automatically."
   ]
  },
  {
   "cell_type": "code",
   "execution_count": null,
   "metadata": {
    "scrolled": true
   },
   "outputs": [],
   "source": [
    "print(2)\n",
    "3\n",
    "4"
   ]
  },
  {
   "cell_type": "markdown",
   "metadata": {},
   "source": [
    "Above, you should see that 4 is the value of the last expression, 2 is printed, but 3 is lost forever because it was neither printed nor last.\n",
    "\n",
    "You don't want to print everything all the time anyway.  But if you feel sorry for 3, change the cell above to print it."
   ]
  },
  {
   "cell_type": "markdown",
   "metadata": {},
   "source": [
    "## 2.1. Arithmetic\n",
    "The line in the next cell subtracts.  Its value is what you'd expect.  Run it."
   ]
  },
  {
   "cell_type": "code",
   "execution_count": null,
   "metadata": {},
   "outputs": [],
   "source": [
    "3.25 - 1.75"
   ]
  },
  {
   "cell_type": "markdown",
   "metadata": {},
   "source": [
    "Many basic arithmetic operations are built in to Python:\n",
    "\n",
    "| Operation | Operator | Example | Value | \n",
    "| --- | --- | --- | --- |\n",
    "| Addition | `+` | `2 + 3` | `5` |\n",
    "| Subtraction | `-` | `2 - 3` | `-1` |\n",
    "| Multiplication | `*` | `2 * 3` | `6` |\n",
    "| Division | `/` | `7 / 3` | `2.66667` |\n",
    "| Remainder | `%` | `7 % 3` | `1` |\n",
    "| Exponentiation | `**` | `2 ** 0.5` | `1.41421` |\n",
    "\n",
    "Note that the exponentiation operator differs from typical math notation. Python uses `**` to raise one number to the power of another. So, `2**3` stands for $2^3$ and evaluates to 8. \n",
    "\n",
    "The order of operations is what you learned in elementary school, PEMDAS.  For example, compare the outputs of the cells below."
   ]
  },
  {
   "cell_type": "code",
   "execution_count": null,
   "metadata": {},
   "outputs": [],
   "source": [
    "7 + 6 * 5 - 6 * 3**2 * 2**3 / 4 * 7 "
   ]
  },
  {
   "cell_type": "code",
   "execution_count": null,
   "metadata": {},
   "outputs": [],
   "source": [
    "7 + (6 * 5 - (6 * 3))**2 * ((2**3) / 4 * 7) "
   ]
  },
  {
   "cell_type": "markdown",
   "metadata": {},
   "source": [
    "In standard math notation, the first expression is\n",
    "\n",
    "$$7 + (6 \\times 5) - \\left(6 \\times 3^2 \\times \\frac{2^3}{4} \\times 7\\right)$$\n",
    "\n",
    "while the second expression is\n",
    "\n",
    "$$7 + \\left(6 \\times 5 - 6 \\times 3\\right)^2 \\times \\left(\\frac{2^3}{4} \\times 7\\right)$$\n",
    "\n",
    "**Question 2.1.1.** Write a Python expression in the next cell that's equal to\n",
    "\n",
    "$$(10 + 3^2) \\times 8 \\times (\\sqrt{49} + 6) + \\left(5\\frac{1}{3} + 4\\right) \\times \\left(5 - \\frac{1}{6}\\right) + \\frac{2^3 + \\sqrt{81}}{3^2} $$\n",
    "\n",
    "Replace the ellipses (`...`) with your expression.  Try to use parentheses only when necessary. If you do this correctly, the number will be very familiar.\n",
    "\n",
    "Some guidance:\n",
    "- $5 \\frac{1}{3}$ is the mixed number \"five and one third\", **not** $5 \\times \\frac{1}{3}$.\n",
    "- $\\sqrt{x}$ is the same as $x^{0.5}$."
   ]
  },
  {
   "cell_type": "code",
   "execution_count": null,
   "metadata": {},
   "outputs": [],
   "source": [
    "..."
   ]
  },
  {
   "cell_type": "markdown",
   "metadata": {},
   "source": [
    "# 3. Names\n",
    "In natural language, we have terminology that lets us quickly reference very complicated concepts.  We don't say, \"That's a large mammal with brown fur and sharp teeth that lives throughout California and supposedly really enjoys honey!\"  Instead, we just say, \"Bear!\" 🐻\n",
    "\n",
    "Similarly, an effective strategy for writing code is to define names for data as we compute it, like a lawyer would define terms for complex ideas at the start of a legal document to simplify the rest of the writing. Another word for \"name\" is \"variable\"."
   ]
  },
  {
   "cell_type": "markdown",
   "metadata": {},
   "source": [
    "## 3.1. Assignment statements\n",
    "\n",
    "In Python, we do this with *assignment statements*. An assignment statement has a name on the left side of an `=` sign and an expression to be evaluated on the right."
   ]
  },
  {
   "cell_type": "code",
   "execution_count": null,
   "metadata": {},
   "outputs": [],
   "source": [
    "ten = 3 * 2 + 4"
   ]
  },
  {
   "cell_type": "markdown",
   "metadata": {},
   "source": [
    "When you run that cell, Python first evaluates the first line.  It computes the value of the expression `3 * 2 + 4`, which is the number 10.  Then it gives that value the name `ten`.  At that point, the code in the cell is done running.\n",
    "\n",
    "After you run that cell, the value 10 is bound to the name `ten`, and we can use the name `ten` to refer to the value 10:"
   ]
  },
  {
   "cell_type": "code",
   "execution_count": null,
   "metadata": {},
   "outputs": [],
   "source": [
    "ten"
   ]
  },
  {
   "cell_type": "code",
   "execution_count": null,
   "metadata": {},
   "outputs": [],
   "source": [
    "ten + 5"
   ]
  },
  {
   "cell_type": "markdown",
   "metadata": {},
   "source": [
    "The statement `ten = 3 * 2 + 4` is not asserting that `ten` is already equal to `3 * 2 + 4`, as we might expect by analogy with math notation.  Rather, that line of code changes what `ten` means; it now refers to the value 10, whereas before it meant nothing at all.\n",
    "\n",
    "If the designers of Python had been ruthlessly pedantic (like lawyers), they might have made us write\n",
    "\n",
    "    define the name ten to hereafter have the value of 3 * 2 + 4 \n",
    "\n",
    "instead.  You will probably appreciate the brevity of \"`=`\"!  But keep in mind that this is the real meaning.\n",
    "\n",
    "**Question 3.1.1.** Try writing code that uses a name (like `eleven`) that hasn't been assigned to anything.  You'll see an error!"
   ]
  },
  {
   "cell_type": "code",
   "execution_count": null,
   "metadata": {},
   "outputs": [],
   "source": []
  },
  {
   "cell_type": "markdown",
   "metadata": {},
   "source": [
    "A common pattern in Jupyter notebooks is to assign a value to a name and then immediately evaluate the name in the last line in the cell so that the value is displayed as output. "
   ]
  },
  {
   "cell_type": "code",
   "execution_count": null,
   "metadata": {},
   "outputs": [],
   "source": [
    "close_to_pi = 355 / 113\n",
    "close_to_pi"
   ]
  },
  {
   "cell_type": "markdown",
   "metadata": {},
   "source": [
    "Another common pattern is that a series of lines in a single cell will build up a complex computation in stages, naming the intermediate results."
   ]
  },
  {
   "cell_type": "code",
   "execution_count": null,
   "metadata": {},
   "outputs": [],
   "source": [
    "bimonthly_salary = 2840\n",
    "monthly_salary = 2 * bimonthly_salary\n",
    "number_of_months_in_a_year = 12\n",
    "yearly_salary = number_of_months_in_a_year * monthly_salary\n",
    "yearly_salary"
   ]
  },
  {
   "cell_type": "markdown",
   "metadata": {},
   "source": [
    "Names in Python can have letters (upper- and lower-case letters are both okay and count as different letters), underscores, and numbers.  The first character can't be a number (otherwise a name might look like a number).  And names can't contain spaces, since spaces are used to separate pieces of code from each other.\n",
    "\n",
    "Other than those rules, what you name something doesn't matter *to Python*.  For example, this cell does the same thing as the above cell, except everything has a different name:"
   ]
  },
  {
   "cell_type": "code",
   "execution_count": null,
   "metadata": {},
   "outputs": [],
   "source": [
    "a = 2840\n",
    "b = 2 * a\n",
    "c = 12\n",
    "d = c * b\n",
    "d"
   ]
  },
  {
   "cell_type": "markdown",
   "metadata": {},
   "source": [
    "**However**, names are very important for making your code *readable* to yourself and others.  The cell above is shorter, but it's totally uninterpretable without an explanation of what it does.\n",
    "\n",
    "According to a famous joke among computer scientists, naming things is one of the two hardest problems in computer \n",
    "science.  (The other two are cache invalidation and \"off-by-one\" errors.  And people say computer scientists have an odd sense of humor...)\n",
    "\n",
    "**Question 3.1.2.** Assign the name `seconds_in_a_day` to the number of seconds in a day. Although you *could* use a calculator or look it up, try computing the answer with Python code."
   ]
  },
  {
   "cell_type": "code",
   "execution_count": null,
   "metadata": {},
   "outputs": [],
   "source": [
    "# Change the next line so that it computes the number of\n",
    "# seconds in a day and assigns that number the name\n",
    "# seconds_in_a_day.\n",
    "seconds_in_a_day = ...\n",
    "\n",
    "# We've put this line in this cell so that it will print\n",
    "# the value you've given to seconds_in_a_day when you\n",
    "# run it.  You don't need to change this.\n",
    "seconds_in_a_day"
   ]
  },
  {
   "cell_type": "markdown",
   "metadata": {},
   "source": [
    "## 3.2. Checking your code\n",
    "\n",
    "Each assignment in DSC 10 includes a set of built-in tests to help you towards the right answer. We'll use a piece of software called `otter` to run these tests and to grade your assignment. \n",
    "\n",
    "<img src=\"./data/otter.jpg\" width=500/>\n",
    "\n",
    "Run the cell below to load otter:"
   ]
  },
  {
   "cell_type": "code",
   "execution_count": null,
   "metadata": {},
   "outputs": [],
   "source": [
    "# run this cell, but don't change it!\n",
    "import otter\n",
    "grader = otter.Notebook()"
   ]
  },
  {
   "cell_type": "markdown",
   "metadata": {},
   "source": [
    "Below, you should see a question, a place to write your answer, and another cell containing `grader.check('q3_2_1')`. Running this last cell will check your answer to the question. If it is wrong, it will give you a helpful error message! Try putting in the wrong answer first, just to try it out."
   ]
  },
  {
   "cell_type": "markdown",
   "metadata": {},
   "source": [
    "**Question 3.2.1.** How many seconds are in an hour?"
   ]
  },
  {
   "cell_type": "code",
   "execution_count": null,
   "metadata": {
    "scrolled": true
   },
   "outputs": [],
   "source": [
    "seconds_in_an_hour = ...\n",
    "seconds_in_an_hour"
   ]
  },
  {
   "cell_type": "code",
   "execution_count": null,
   "metadata": {
    "deletable": false,
    "editable": false
   },
   "outputs": [],
   "source": [
    "grader.check(\"q3_2_1\")"
   ]
  },
  {
   "cell_type": "markdown",
   "metadata": {},
   "source": [
    "Make sure to **never** change the cell that runs the test. If you change that cell, the test might not run, and the autograder will not give you credit for that question."
   ]
  },
  {
   "cell_type": "markdown",
   "metadata": {},
   "source": [
    "**Question 3.2.2.** Assign the name `seconds_in_a_decade` to the number of seconds between midnight January 1, 2010 and midnight January 1, 2020.\n",
    "\n",
    "*Hint:* If you get a specific wrong answer and then run the cell with `grader.check`, the output may show you a message – read that message carefully!"
   ]
  },
  {
   "cell_type": "code",
   "execution_count": null,
   "metadata": {},
   "outputs": [],
   "source": [
    "seconds_in_a_decade = ...\n",
    "seconds_in_a_decade"
   ]
  },
  {
   "cell_type": "code",
   "execution_count": null,
   "metadata": {
    "deletable": false,
    "editable": false
   },
   "outputs": [],
   "source": [
    "grader.check(\"q3_2_2\")"
   ]
  },
  {
   "cell_type": "markdown",
   "metadata": {},
   "source": [
    "One of the big differences between **labs** and **homeworks** is how the tests work. In a lab, the test checks that your answer is right – if you pass all of the tests in the lab, congratulations: you'll get a score of 100%! If you work through labs fully and leave enough time to get help if you get stuck, you should be able to get 100% on all lab assignments this quarter!\n",
    "\n",
    "On the other hand, the tests in the homeworks only check that your answer is *formatted properly*. For example, if the question asks you to calculate a percent, the test in the homework might check that the answer you provide is a number between 0 and 100.\n",
    "\n",
    "We run a separate set of tests on your notebook at a later time to check for *correctness*. Then we might check that you computed the correct percentage, say 56 percent, and you'll only get credit for the homework problem if you have that exact number. Therefore your homework may pass all of the tests when you submit it, but still not earn a perfect score! Like homework assignments in most of your classes, it's up to you to check your own work before submitting; we won't tell you the answers ahead of time!"
   ]
  },
  {
   "cell_type": "markdown",
   "metadata": {},
   "source": [
    "## 3.3. Comments\n",
    "\n",
    "What is the `#` doing in the code below?"
   ]
  },
  {
   "cell_type": "code",
   "execution_count": null,
   "metadata": {},
   "outputs": [],
   "source": [
    "99 * 2 - 14 * 10 - 16 # The answer to everything"
   ]
  },
  {
   "cell_type": "markdown",
   "metadata": {},
   "source": [
    "That is called a *comment*.  It doesn't make anything happen in Python; Python ignores anything on a line after a #.  Instead, it's there to communicate something about the code to you, the human reader.  Comments are extremely useful for improving the readability of your code. You should write them often to explain to anyone else looking at your code (or to yourself in the future!) what your code is doing.\n",
    "\n",
    "<img src=\"http://imgs.xkcd.com/comics/future_self.png\">"
   ]
  },
  {
   "cell_type": "markdown",
   "metadata": {},
   "source": [
    "One (mis)use of comments is to prevent code from running. For instance, run the cell below..."
   ]
  },
  {
   "cell_type": "code",
   "execution_count": null,
   "metadata": {},
   "outputs": [],
   "source": [
    "1 / 0"
   ]
  },
  {
   "cell_type": "markdown",
   "metadata": {},
   "source": [
    "Now place a `#` in front of the `1 / 0` and re-run the cell. The error is gone!\n",
    "\n",
    "This might be considered a misuse of comments, because you should probably just remove code that isn't running. Still, it has its uses."
   ]
  },
  {
   "cell_type": "markdown",
   "metadata": {},
   "source": [
    "## 3.4. Weirdness\n",
    "\n",
    "If at any time something seems strange – Jupyter isn't acting how you expect it to, you're not seeing any output, etc. – try this first. Select **Kernel** -> **Restart & Run All**. This will \"restart\" Python, causing it to forget all of the variables that have been defined so far. Then the entire notebook will be run from top to bottom. Don't worry, you won't lose any work by doing this. \n",
    "\n",
    "Try it now! We'll wait...\n",
    "\n",
    "Did something go wrong? You might notice that it looks like Python evaluated part of your notebook, but only got so far before stopping. You can tell because most cells still have `In [ ]` next to them; if a cell has been run, it will have a number, too, like `In [3]`. What gives?\n",
    "\n",
    "Remember back in Section 1.4 we included some code that raises an error. When you run **Kernel** -> **Restart & Run All**, Python will evaluate the cells of your notebook one-by-one *until* it encounters an error. At this point it stops and gives up. That's probably the right thing for it to do, since the cells to come might depend on the cell that had an error. \n",
    "\n",
    "Go ahead and fix that error in Section 1.4, and any other errors that might still be around in the portion of the lab you've done so far. You might see some errors below this cell, but that's OK: they're just saying that you haven't defined a variable that another piece of code was expecting. Of course not – we haven't completed that part of the notebook yet!"
   ]
  },
  {
   "cell_type": "markdown",
   "metadata": {},
   "source": [
    "# 4. Calling functions\n",
    "\n",
    "The most common way to combine or manipulate values in Python is by calling (that is, using) functions. Python comes with many built-in functions that perform common operations.\n",
    "\n",
    "For example, the `abs` function takes a single number as its argument (or input) and returns the absolute value of that number.  The absolute value of a number is its distance from 0 on the number line, so `abs(5)` is 5 and `abs(-5)` is also 5."
   ]
  },
  {
   "cell_type": "code",
   "execution_count": null,
   "metadata": {},
   "outputs": [],
   "source": [
    "abs(5)"
   ]
  },
  {
   "cell_type": "code",
   "execution_count": null,
   "metadata": {},
   "outputs": [],
   "source": [
    "abs(-5)"
   ]
  },
  {
   "cell_type": "markdown",
   "metadata": {},
   "source": [
    "##### Multiple arguments\n",
    "Some functions take multiple arguments, separated by commas. For example, the built-in `max` function needs at least two inputs, and it returns the largest of the provided inputs."
   ]
  },
  {
   "cell_type": "code",
   "execution_count": null,
   "metadata": {},
   "outputs": [],
   "source": [
    "max(2, -3, 5, -4)"
   ]
  },
  {
   "cell_type": "markdown",
   "metadata": {},
   "source": [
    "## 4.1. Understanding nested expressions\n",
    "Function calls and arithmetic expressions can themselves contain expressions.  For example:\n",
    "\n",
    "```py\n",
    "abs(42-34)\n",
    "```\n",
    "\n",
    "has two number expressions in a subtraction expression in a function call expression. \n",
    "\n",
    "Nested expressions can turn into complicated-looking code. However, the way in which complicated expressions break down is very straightforward. Here's an example:\n",
    "\n",
    "Suppose we are interested in analyzing how much sleep someone gets each night.  We'll say that an amount of sleep is unusual to the extent that it's far away on the number line from the typical amount of sleep that people usually get in a night.  One estimate of the average amount of sleep for adults (averaging over all adults on Earth today) is 7.5 hours.\n",
    "\n",
    "So if Charlie gets 6.54 hours of sleep one night, then his amount of sleep is $|6.54 - 7.5|$, or $0.96$, hours away from the average.  Here's a picture of that:\n",
    "\n",
    "<img src=\"./data/numberline_0.png\" width=60%>\n",
    "\n",
    "And here's how we'd write that in one line of Python code:"
   ]
  },
  {
   "cell_type": "code",
   "execution_count": null,
   "metadata": {},
   "outputs": [],
   "source": [
    "abs(6.54 - 7.5)"
   ]
  },
  {
   "cell_type": "markdown",
   "metadata": {},
   "source": [
    "What's going on here?  `abs` takes just one argument, so the stuff inside the parentheses is all part of that *single argument*.  Specifically, the argument is the value of the expression `6.54 - 7.5`.  The value of that expression is `-0.96`.  That value is the argument to `abs`.  The absolute value of that is `0.96`, so `0.96` is the value of the full expression `abs(6.54 - 7.5)`.\n",
    "\n",
    "Imagine simplifying the expression in several steps:\n",
    "\n",
    "1. `abs(6.54 - 7.5)`\n",
    "2. `abs(-0.96)`\n",
    "3. `0.96`\n",
    "\n",
    "That's essentially what Python does to compute the value of the expression."
   ]
  },
  {
   "cell_type": "markdown",
   "metadata": {},
   "source": [
    "**Question 4.1.1.** Say that Abel gets 8.23 hours of sleep one night.  In the next cell, use `abs` to compute the absolute value of the difference between Abel's amount of sleep and the average amount of sleep.  Give that value the name `abel_distance_from_average_hrs`.\n",
    "\n",
    "<img src=\"./data/numberline_1.png\" width=60%>\n",
    "\n",
    "Note that we could solve this problem without using the `abs` function at all, since Abel got _more_ sleep than average. However, we want to use absolute value here because that would allow us to make minimal changes to our code if, on another night, Abel got _less_ sleep than average. Programmers often try to write _general_ code that can be used to solve many similar problems, instead of just one particular problem."
   ]
  },
  {
   "cell_type": "code",
   "execution_count": null,
   "metadata": {},
   "outputs": [],
   "source": [
    "# Replace the ... with an expression to compute the absolute\n",
    "# value of the difference between Abel's amount of sleep (8.23 hours) and\n",
    "# the average amount of sleep.\n",
    "abel_distance_from_average_hrs = ...\n",
    "\n",
    "# Again, we've written this here so that the distance you\n",
    "# compute will get printed when you run this cell.\n",
    "abel_distance_from_average_hrs"
   ]
  },
  {
   "cell_type": "code",
   "execution_count": null,
   "metadata": {
    "deletable": false,
    "editable": false
   },
   "outputs": [],
   "source": [
    "grader.check(\"q4_1_1\")"
   ]
  },
  {
   "cell_type": "markdown",
   "metadata": {},
   "source": [
    "Did you notice that the value stored in the variable `abel_distance_from_average_hrs` is not *exactly* equal to the value you would expect? That's an unfortunate thing that happens sometimes in Python, and other programming languages, due to the limited precision of `float` variables. The last few decimals sometimes wind up incorrect because there are just too many possible decimal values for a computer to be able to represent them all; sometimes we wind up getting a nearby value instead of the one we really wanted. Most of the time, you can ignore these small differences, and they shouldn't affect the results of the autograder tests."
   ]
  },
  {
   "cell_type": "markdown",
   "metadata": {},
   "source": [
    "## 4.2. More nesting\n",
    "Now say that we want to determine whose sleep was more unusual, Charlie's or Abel's?  We'll use the function `max`, which (again) takes two numbers as arguments and returns the larger of the two arguments.  Combining that with the `abs` function, we can compute the further distance from the average, among the two amounts of sleep:"
   ]
  },
  {
   "cell_type": "code",
   "execution_count": null,
   "metadata": {},
   "outputs": [],
   "source": [
    "# Just read and run this cell.\n",
    "\n",
    "charlie_sleep_hrs = 6.54\n",
    "abel_sleep_hrs = 8.23\n",
    "average_adult_sleep_hrs = 7.5\n",
    "\n",
    "# The further distance from the average amount of sleep, among the two amounts of sleep:\n",
    "biggest_distance_hrs = max(abs(charlie_sleep_hrs - average_adult_sleep_hrs), \n",
    "                           abs(abel_sleep_hrs - average_adult_sleep_hrs))\n",
    "\n",
    "# Print out our results in a nice readable format:\n",
    "print(\"The further distance from the average amount of sleep is\", biggest_distance_hrs, \"hours.\")"
   ]
  },
  {
   "cell_type": "markdown",
   "metadata": {},
   "source": [
    "The line where `biggest_distance_hrs` is computed looks complicated, but we can break it down into simpler components just like we did before.\n",
    "\n",
    "The basic recipe is repeated simplification of small parts of the expression:\n",
    "* We start with the simplest components whose values we know, like plain names or numbers.  (Example: `charlie_sleep_hrs`.)\n",
    "* **Find a simple-enough group of expressions**: We look for a group of simple expressions that are directly connected to each other in the code, for example by arithmetic or as arguments to a function call.\n",
    "* **Evaluate that group**: We evaluate the arithmetic expressions or function calls they're part of, and replace the whole group with whatever we compute.  (Example: `charlie_sleep_hrs - average_adult_sleep_hrs` becomes `-0.96`.)\n",
    "* **Repeat**: We continue this process, using the values of the glommed-together stuff as our new basic components.  (Example: `abs(-0.96)` becomes `0.96`, and `max(0.96, 0.73)` later becomes `0.96`.)\n",
    "* We keep doing that until we've evaluated the whole expression.\n",
    "\n",
    "You can run the next cell to see a slideshow of that process."
   ]
  },
  {
   "cell_type": "code",
   "execution_count": null,
   "metadata": {
    "scrolled": false
   },
   "outputs": [],
   "source": [
    "from IPython.display import display, IFrame\n",
    "display(IFrame('https://docs.google.com/presentation/d/1GEDuwDqva9O_0UbHNhrsOahhUsIXIs_w2GntQzku86E/embed?start=false&loop=false&delayms=3000', 950, 500))"
   ]
  },
  {
   "cell_type": "markdown",
   "metadata": {},
   "source": [
    "Ok, your turn. \n",
    "\n",
    "**Question 4.2.1.** Given the amounts of sleep of three players on this year's Los Angeles Lakers 🏀 (LeBron James, Anthony Davis, and Austin Reaves), write an expression that computes the **min**imum difference between any of the three amounts of sleep. Your expression shouldn't have any numbers in it, only function calls and the names `lebron`, `anthony`, and `reaves`. Give the value of your expression the name `min_sleep_difference`."
   ]
  },
  {
   "cell_type": "code",
   "execution_count": null,
   "metadata": {},
   "outputs": [],
   "source": [
    "# The three players' amounts of sleep, in hours:\n",
    "lebron = 11.06\n",
    "anthony = 8.57\n",
    "reaves = 6.98\n",
    "\n",
    "# We'd like to look at all 3 pairs of amounts of sleep, compute the absolute\n",
    "# difference between each pair, and then find the smallest of those\n",
    "# 3 absolute differences.  This is left to you!  If you're stuck,\n",
    "# try computing the value for each step of the process (like the\n",
    "# difference between LeBron's amount of sleep and Reaves' amount of sleep) on a separate\n",
    "# line and giving it a name (like lebron_reaves_sleep_diff).\n",
    "min_sleep_difference = ...\n",
    "min_sleep_difference"
   ]
  },
  {
   "cell_type": "code",
   "execution_count": null,
   "metadata": {
    "deletable": false,
    "editable": false
   },
   "outputs": [],
   "source": [
    "grader.check(\"q4_2_1\")"
   ]
  },
  {
   "cell_type": "markdown",
   "metadata": {},
   "source": [
    "## 4.3. Putting it all together\n",
    "\n",
    "Let's revisit everything we've seen so far.\n",
    "\n",
    "The two building blocks of Python code are *expressions* and *statements*. To be clear, an expression is a piece of code that\n",
    "\n",
    "* is self-contained, meaning it would make sense to write it on a line by itself, and\n",
    "* usually has a value.\n",
    "\n",
    "\n",
    "Here are two expressions that both evaluate to 3\n",
    "\n",
    "```py\n",
    "3\n",
    "5 - 2\n",
    "```\n",
    "    \n",
    "One important form of an expression is the function call expression, which first names a function and then describes its arguments. The function returns some value, based on its arguments. We've already seen `abs`, `max`, and `min`. Here are those, along with some others:\n",
    "\n",
    "| Function | Description                                                   |\n",
    "|----------|---------------------------------------------------------------|\n",
    "| `abs`      | Returns the absolute value of its argument                    |\n",
    "| `max`      | Returns the maximum of all its arguments                      |\n",
    "| `min`      | Returns the minimum of all its arguments                      |\n",
    "| `pow`      | Raises its first argument to the power of its second argument |\n",
    "| `round`    | Round its argument to the nearest integer                     |\n",
    "\n",
    "Here are two function call expressions. The first evaluates to 5, the second evaluates to 3.\n",
    "\n",
    "```py\n",
    "abs(2 + 3)\n",
    "max(round(2.8), min(pow(2, 10), -1 * pow(2, 10)))\n",
    "```\n",
    "\n",
    "Both of the above expressions are **compound expressions**, meaning that they are actually combinations of several smaller expressions.  `2 + 3` combines the expressions `2` and `3` by addition.  In this case, `2` and `3` are called **subexpressions** because they're expressions that are part of a larger expression.\n",
    "\n",
    "A **statement** is a whole line of code.  Some statements are just expressions.  The expressions listed above are examples.\n",
    "\n",
    "Other statements *make something happen* rather than *having a value*.  After they are run, something in the world has changed.  For example, an assignment statement assigns a value to a name. \n",
    "\n",
    "A good way to think about this is that we're **evaluating the right-hand side** of the equals sign and **assigning it to the left-hand side**. Here are some assignment statements:\n",
    "    \n",
    "```py\n",
    "sleep = 7.31\n",
    "the_number_five = abs(-5)\n",
    "absolute_sleep_difference = abs(sleep - 7.5)\n",
    "```\n",
    "\n",
    "A key idea in programming is that large, interesting things can be built by combining many simple, uninteresting things.  The key to understanding a complicated piece of code is breaking it down into its simple components.\n",
    "\n",
    "For example, a lot is going on in the last statement above, but it's really just a combination of a few things.  This picture describes what's going on.\n",
    "\n",
    "<img src=\"./data/statement.png\" width=60%>"
   ]
  },
  {
   "cell_type": "markdown",
   "metadata": {},
   "source": [
    "Let's try one more problem.\n",
    "\n",
    "**Question 4.3.1.** In the next cell, assign the name `larger_number` to the larger number among the following two numbers:\n",
    "\n",
    "1. the absolute value of $2^{5}-2^{11}-2^2$, and \n",
    "2. $(10 + (9 + 8 \\times 7) \\times 6) \\times 5 + 4 \\times 3 \\times 2 - 1$.\n",
    "\n",
    "Try to use just one statement (one line of code)."
   ]
  },
  {
   "cell_type": "code",
   "execution_count": null,
   "metadata": {},
   "outputs": [],
   "source": [
    "larger_number = ...\n",
    "larger_number"
   ]
  },
  {
   "cell_type": "code",
   "execution_count": null,
   "metadata": {
    "deletable": false,
    "editable": false
   },
   "outputs": [],
   "source": [
    "grader.check(\"q4_3_1\")"
   ]
  },
  {
   "cell_type": "markdown",
   "metadata": {},
   "source": [
    "---\n",
    "\n",
    "# Part 2: Data Types\n",
    "\n",
    "In Part 1, we had our first look at Python and Jupyter notebooks.  So far, we've only used Python to manipulate numbers.  There's a lot more to life than numbers, so Python lets us represent many other types of data in programs.\n",
    "\n",
    "In this part, you'll first see how to represent and manipulate another fundamental type of data: text.  A piece of text is called a *string* in Python.\n",
    "\n",
    "You'll also see how to invoke *methods*.  A method is very similar to a function.  It just looks a little different because it's tied to a particular piece of data (like a piece of text or a number)."
   ]
  },
  {
   "cell_type": "markdown",
   "metadata": {},
   "source": [
    "# 5. Text\n",
    "Programming doesn't just concern numbers. Text is one of the most common types of values used in programs.\n",
    "\n",
    "## 5.1. Introduction to strings\n",
    "\n",
    "A snippet of text is represented by a **string value** in Python. The word \"*string*\" is a programming term for a sequence of characters. A string might contain a single character, a word, a sentence, or a whole book.\n",
    "\n",
    "To distinguish text data from actual code, we demarcate strings by putting quotation marks around them. Single quotes (`'`) and double quotes (`\"`) are both valid, but the types of opening and closing quotation marks must match. The contents can be any sequence of characters, including numbers and symbols. \n",
    "\n",
    "We've seen strings before in `print` statements.  Below, two different strings are passed as arguments to the `print` function."
   ]
  },
  {
   "cell_type": "code",
   "execution_count": null,
   "metadata": {},
   "outputs": [],
   "source": [
    "print(\"I <3\", 'Data Science')"
   ]
  },
  {
   "cell_type": "markdown",
   "metadata": {},
   "source": [
    "Just like names can be given to numbers, names can be given to string values.  The names and strings aren't required to be similar in any way. Any name can be assigned to any string."
   ]
  },
  {
   "cell_type": "code",
   "execution_count": null,
   "metadata": {},
   "outputs": [],
   "source": [
    "one = 'two'\n",
    "plus = '*'\n",
    "print(one, plus, one)"
   ]
  },
  {
   "cell_type": "markdown",
   "metadata": {},
   "source": [
    "**Question 5.1.1.** Yuri Gagarin was the first person to travel through outer space.  When he emerged from his capsule upon landing on Earth, he [reportedly](https://en.wikiquote.org/wiki/Yuri_Gagarin) had the following conversation with a woman and girl who saw the landing:\n",
    "\n",
    "    The woman asked: \"Can it be that you have come from outer space?\"\n",
    "    Gagarin replied: \"As a matter of fact, I have!\"\n",
    "\n",
    "The cell below contains unfinished code.  Fill in the `...`s so that it prints out this conversation *exactly* as it appears above."
   ]
  },
  {
   "cell_type": "code",
   "execution_count": null,
   "metadata": {},
   "outputs": [],
   "source": [
    "woman_asking = ...\n",
    "woman_quote = '\"Can it be that you have come from outer space?\"'\n",
    "gagarin_reply = 'Gagarin replied:'\n",
    "gagarin_quote = ...\n",
    "\n",
    "print(woman_asking, woman_quote)\n",
    "print(gagarin_reply, gagarin_quote)"
   ]
  },
  {
   "cell_type": "code",
   "execution_count": null,
   "metadata": {
    "deletable": false,
    "editable": false
   },
   "outputs": [],
   "source": [
    "grader.check(\"q5_1_1\")"
   ]
  },
  {
   "cell_type": "markdown",
   "metadata": {},
   "source": [
    "## 5.2. String methods"
   ]
  },
  {
   "cell_type": "markdown",
   "metadata": {},
   "source": [
    "Strings can be transformed using **methods**, which are functions that involve an existing string and some other arguments. One example is the `replace` method, which replaces all instances of some part of a string with some alternative. \n",
    "\n",
    "A method is invoked on a string by placing a `.` after the string value, then the name of the method, and finally parentheses containing the arguments. Here's a sketch, where the `<` and `>` symbols aren't part of the syntax; they just mark the boundaries of sub-expressions.\n",
    "\n",
    "    <expression that evaluates to a string>.<method name>(<argument>, <argument>, ...)\n",
    "\n",
    "Try to predict the output of these examples, then execute them."
   ]
  },
  {
   "cell_type": "code",
   "execution_count": null,
   "metadata": {},
   "outputs": [],
   "source": [
    "# Replace one letter.\n",
    "'Hello'.replace('o', 'a')"
   ]
  },
  {
   "cell_type": "code",
   "execution_count": null,
   "metadata": {},
   "outputs": [],
   "source": [
    "# Replace a sequence of letters, which appears twice.\n",
    "'hitchhiker'.replace('hi', 'ma')"
   ]
  },
  {
   "cell_type": "markdown",
   "metadata": {},
   "source": [
    "Once a variable is bound to a string value, methods can be invoked on that variable as well (remember, \"variable\" is another word for \"name\"). The variable `sharp` doesn't change in this case, so a new variable is needed to capture the result. "
   ]
  },
  {
   "cell_type": "code",
   "execution_count": null,
   "metadata": {},
   "outputs": [],
   "source": [
    "sharp = 'edged'\n",
    "hot = sharp.replace('ed', 'ma')\n",
    "print('sharp:', sharp)\n",
    "print('hot:', hot)"
   ]
  },
  {
   "cell_type": "markdown",
   "metadata": {},
   "source": [
    "You can call functions on the results of other functions.  For example,\n",
    "\n",
    "```py\n",
    "max(abs(-5), abs(3))\n",
    "```\n",
    "\n",
    "has value 5.  Similarly, you can invoke methods on the results of other method (or function) calls. We will do this quite often."
   ]
  },
  {
   "cell_type": "code",
   "execution_count": null,
   "metadata": {},
   "outputs": [],
   "source": [
    "# Calling replace on the output of another call to replace\n",
    "'train'.replace('t', 'ing').replace('in', 'de')"
   ]
  },
  {
   "cell_type": "markdown",
   "metadata": {},
   "source": [
    "Here's a picture of how Python evaluates a \"chained\" method call like that:\n",
    "\n",
    "<img src=\"./data/chaining_method_calls.jpg\"/>"
   ]
  },
  {
   "cell_type": "markdown",
   "metadata": {},
   "source": [
    "**Question 5.2.1.** Assign strings to the names `you` and `this` so that by the end of the cell, the name `the` contains a 10-letter English word with three double letters in a row.\n",
    "\n",
    "*Hints:* \n",
    "- After you guess at some values for `you` and `this`, you may want to look at the value of `the` after the line `the = a.replace('p', you)` is run, but before the line `the = the.replace('bee', this)` is run. To do this, add a print statement between those two lines:\n",
    "```py\n",
    "print(the)\n",
    "```\n",
    "- Run the tests if you're stuck. They'll often give you help."
   ]
  },
  {
   "cell_type": "code",
   "execution_count": null,
   "metadata": {},
   "outputs": [],
   "source": [
    "you = ...\n",
    "this = ...\n",
    "a = 'beeper'\n",
    "the = a.replace('p', you)\n",
    "the = the.replace('bee', this)\n",
    "the"
   ]
  },
  {
   "cell_type": "code",
   "execution_count": null,
   "metadata": {
    "deletable": false,
    "editable": false
   },
   "outputs": [],
   "source": [
    "grader.check(\"q5_2_1\")"
   ]
  },
  {
   "cell_type": "markdown",
   "metadata": {},
   "source": [
    "Other string methods do not take any arguments at all, because the original string is all that's needed to compute the result. In this case, parentheses are still needed, but there's nothing in between the parentheses. Here are some methods that work that way:\n",
    "\n",
    "|Method name|Value|\n",
    "|-|-|\n",
    "|`lower`|a lowercased version of the string|\n",
    "|`upper`|an uppercased version of the string|\n",
    "|`capitalize`|a version with the first letter capitalized|\n",
    "|`title`|a version with the first letter of every word capitalized||\n"
   ]
  },
  {
   "cell_type": "code",
   "execution_count": null,
   "metadata": {},
   "outputs": [],
   "source": [
    "'UnIvErSiTy Of CaLiFoRnIa, SaN diEGO'.title()"
   ]
  },
  {
   "cell_type": "code",
   "execution_count": null,
   "metadata": {},
   "outputs": [],
   "source": [
    "'happy Fall 🍂 Quarter :)'.upper()"
   ]
  },
  {
   "cell_type": "markdown",
   "metadata": {},
   "source": [
    "All these string methods are useful, but most programmers don't memorize their names or how to use them.  In the \"real world,\" people usually just search the internet for documentation and examples. A complete [list of string methods](https://docs.python.org/3/library/stdtypes.html#string-methods) appears in the Python language documentation. [Stack Overflow](http://stackoverflow.com) has a huge database of answered questions that often demonstrate how to use these methods to achieve various ends. In this class, you are more than welcome to use these and other internet resources to learn about Python methods and how to use them. "
   ]
  },
  {
   "cell_type": "markdown",
   "metadata": {},
   "source": [
    "## 5.3. Converting to and from strings"
   ]
  },
  {
   "cell_type": "markdown",
   "metadata": {},
   "source": [
    "Strings and numbers are different *types* of values, even when a string contains the digits of a number. For example, evaluating the following cell causes an error because an integer cannot be added to a string."
   ]
  },
  {
   "cell_type": "code",
   "execution_count": null,
   "metadata": {},
   "outputs": [],
   "source": [
    "8 + \"8\""
   ]
  },
  {
   "cell_type": "markdown",
   "metadata": {},
   "source": [
    "**Tip**: Now \"comment out\" the code in the cell above so that it doesn't result in an error."
   ]
  },
  {
   "cell_type": "markdown",
   "metadata": {},
   "source": [
    "However, there are built-in functions to convert numbers to strings and strings to numbers. \n",
    "\n",
    "- `int`:   Converts a string of digits to an integer (\"int\") value.\n",
    "- `float`: Converts a string of digits, perhaps with a decimal point, to a decimal (\"float\") value.\n",
    "- `str`:   Converts any value to a string."
   ]
  },
  {
   "cell_type": "markdown",
   "metadata": {},
   "source": [
    "Try to predict what the following cell will evaluate to, then evaluate it."
   ]
  },
  {
   "cell_type": "code",
   "execution_count": null,
   "metadata": {},
   "outputs": [],
   "source": [
    "8 + int(\"8\")"
   ]
  },
  {
   "cell_type": "markdown",
   "metadata": {},
   "source": [
    "Suppose you're writing a program that looks for dates in text, and you want your program to find the amount of time that elapsed between two years it has identified.  It doesn't make sense to subtract two pieces of text, but you can first convert the text containing the years into numbers.\n",
    "\n",
    "**Question 5.3.1.** Finish the code below to compute the number of years that elapsed between `one_year` and `another_year`.  Don't just write the numbers `1618` and `1648` (or the answer, `30`); use a conversion function to turn the given text data into numbers."
   ]
  },
  {
   "cell_type": "code",
   "execution_count": null,
   "metadata": {},
   "outputs": [],
   "source": [
    "# Some text data:\n",
    "one_year = \"1618\"\n",
    "another_year = \"1648\"\n",
    "\n",
    "# Complete the next line.  Note that we can't just write:\n",
    "#   another_year - one_year\n",
    "# If you don't see why, try it out and see what happens.\n",
    "difference = ...\n",
    "difference"
   ]
  },
  {
   "cell_type": "code",
   "execution_count": null,
   "metadata": {
    "deletable": false,
    "editable": false
   },
   "outputs": [],
   "source": [
    "grader.check(\"q5_3_1\")"
   ]
  },
  {
   "cell_type": "markdown",
   "metadata": {},
   "source": [
    "## 5.4. Strings as function arguments\n",
    "\n",
    "String values, like numbers, can be arguments to functions and can be returned by functions.  The function `len` takes a single string as its argument and returns the number of characters in the string: its **len**-gth.  \n",
    "\n",
    "Note that it doesn't count *words*. `len(\"one small step for man\")` is 22, not 5. It *does* count spaces as characters.\n",
    "\n",
    "**Question 5.4.1.**  Use `len` to find out the number of characters in the very long string in the next cell.  (It's the full lyrics to the [*Pickwick Triplets* patter song](https://www.youtube.com/watch?v=Piv19tK4lH4) from *Only Murders in the Building*.)  The length of a string is the total number of characters in it, including things like spaces and punctuation.  Assign `pickwick_length` to that number."
   ]
  },
  {
   "cell_type": "code",
   "execution_count": null,
   "metadata": {},
   "outputs": [],
   "source": [
    "pickwick_triplets = \"Three little babes in their bassinets.\\nAngelic little triplets?\\nOr triple-threats?\\n\\nThey might have fooled the others, but they won't fool me.\\nIt's time to give these thieving scheming three\\nThe third degree.\\n\\nWhich of the Pickwick Triplets did it?\\nWho of the crew could commit this crime?\\nMight a little brat, make a mommy go splat?\\nIt's a story pretty gory for a nursery rhyme.\\n\\nWhich of the Pickwick Triplets did it?\\nWhich of the spawn had the brawn to kill?\\nWill a baby get tried for matricide?\\nCoochi-coochi-coo, time for you or you or you, to admit it.\\nSo quick as a whip gotta pick which Pickwick Triplet did it.\\n\\nPenelope in pink sure is making quite a stink,\\nIs she trying to throw me off the scent?\\nThough she bats her little eyes is she a killer in disguise\\nWith a diaper full of criminal intent?\\n\\nPreening Patrick is pernicious with an appetite so vicious\\nHe would bite the hand that feeds him with a sneer.\\nBut could that rotten tot be behind this evil plot,\\nBaby-stepping towards a murderous career?\\n\\nPouty little Paco's looking coy but he's a bad, bad boy,\\nCould Paco's passion prove apocalyptic?\\nWith his paci and his rattle did this pisher go to battle\\nProving he's the perp amidst this Pickwick triptych?\\n\\nIn this picaresque puzzle of the Pickwick pack\\nWill a lighthouse shed some light\\nOn which kid gave old mom a whack?\\nThere's an infant to indict.\\nI'll book this little crook tonight.\\nBut...\\n\\nWhich of the Pickwick Triplets did it?\\nWho of the crew would commit this crime?\\nWhich little brat, made mommy go splat\\nWhich Pickwick sib will be doing hard time?\\n\\nWhich of the Pickwick Triplets did it?\\nWhich little putz had the guts to kill?\\nLike a forensic pediatrician I'll complete this inquisition,\\nI will name the neonatal from the cradle that proved fatal,\\nI will find the perpetrator who did murder to their mater...\\n\\nOr coochi-coochi-coo,\\nWhat if none of it is true?\\nHas my inspection been too cursory?\\nShould I look outside this nursery?\\nWhat if none of the Pickwick Triplets did it?\\nWho'd have had a menacing motive and hid it?\\nWho? Who? Who?\\nWell\\nI\\nPick\\nYou!\"\n",
    "pickwick_length = ...\n",
    "pickwick_length"
   ]
  },
  {
   "cell_type": "code",
   "execution_count": null,
   "metadata": {
    "deletable": false,
    "editable": false
   },
   "outputs": [],
   "source": [
    "grader.check(\"q5_4_1\")"
   ]
  },
  {
   "cell_type": "markdown",
   "metadata": {},
   "source": [
    "Try printing the lyrics to the *Picwick Triplets* song in the next cell."
   ]
  },
  {
   "cell_type": "code",
   "execution_count": null,
   "metadata": {},
   "outputs": [],
   "source": [
    "print(pickwick_triplets)"
   ]
  },
  {
   "cell_type": "markdown",
   "metadata": {},
   "source": [
    "If you need a little break, run the next cell to watch Steve Martin perform the song on *Only Murders in the Building*. (Yes, you can watch videos 🎥 within Jupyter Notebooks!)"
   ]
  },
  {
   "cell_type": "code",
   "execution_count": null,
   "metadata": {
    "scrolled": false
   },
   "outputs": [],
   "source": [
    "from IPython.display import YouTubeVideo\n",
    "YouTubeVideo(\"Piv19tK4lH4\")"
   ]
  },
  {
   "cell_type": "markdown",
   "metadata": {},
   "source": [
    "# 6. Importing code\n",
    "\n",
    "> What has been will be again,  \n",
    "> what has been done will be done again;  \n",
    "> there is nothing new under the sun.\n",
    "\n",
    "Most programming involves work that is very similar to work that has been done before.  Since writing code is time-consuming, it's good to rely on others' published code when you can.  Rather than copy-pasting, Python allows us to **import** other code, creating a **module** that contains all of the names created by that code. This is a programmer's way of attributing the material to the original creator, as you should always do!\n",
    "\n",
    "Python includes many useful modules that are just an `import` away.  We'll look at the `math` module as a first example. The `math` module helps us compute mathematical expressions in Python.\n",
    "\n",
    "## 6.1. Importing constants\n",
    "\n",
    "Suppose we want to very accurately compute the area of a circle with radius 5 meters.  For that, we need the constant $\\pi$, which is roughly 3.14.  Conveniently, the `math` module has `pi` defined for us:"
   ]
  },
  {
   "cell_type": "code",
   "execution_count": null,
   "metadata": {},
   "outputs": [],
   "source": [
    "import math\n",
    "radius = 5\n",
    "area_of_circle = math.pi * radius**2 \n",
    "area_of_circle"
   ]
  },
  {
   "cell_type": "markdown",
   "metadata": {},
   "source": [
    "`pi` is defined inside `math`, and the way that we access names that are inside modules is by writing the module's name, then a dot, then the name of the thing we want:\n",
    "\n",
    "    <module name>.<name>\n",
    "    \n",
    "In order to use a module at all, we must first write the statement `import <module name>`.  That statement creates a module object with things like `pi` in it and then assigns the name `math` to that module.  Above we have done that for `math`."
   ]
  },
  {
   "cell_type": "markdown",
   "metadata": {},
   "source": [
    "**Question 6.1.1.** `math` also provides the name `e` for the base of the natural logarithm, which is roughly 2.71.  Compute $e^{\\pi}-\\pi$, giving it the name `near_twenty`."
   ]
  },
  {
   "cell_type": "code",
   "execution_count": null,
   "metadata": {},
   "outputs": [],
   "source": [
    "near_twenty = ...\n",
    "near_twenty"
   ]
  },
  {
   "cell_type": "code",
   "execution_count": null,
   "metadata": {
    "deletable": false,
    "editable": false
   },
   "outputs": [],
   "source": [
    "grader.check(\"q6_1_1\")"
   ]
  },
  {
   "cell_type": "markdown",
   "metadata": {},
   "source": [
    "![XKCD](http://imgs.xkcd.com/comics/e_to_the_pi_minus_pi.png)"
   ]
  },
  {
   "cell_type": "markdown",
   "metadata": {},
   "source": [
    "## 6.2. Importing functions\n",
    "\n",
    "**Modules** can provide other named things besides constants, including **functions**.  For example, `math` provides the name `sin` for the sine function.  Having imported `math` already, we can write `math.sin(3)` to compute the sine of 3.  \n",
    "\n",
    "Note that this sine function considers its argument to be in [radians](https://en.wikipedia.org/wiki/Radian), not degrees.  180 degrees are equivalent to $\\pi$ radians.\n",
    "\n",
    "**Question 6.2.1.** A $\\frac{\\pi}{4}$-radian (45-degree) angle forms a right triangle with equal base and height, pictured below.  If the hypotenuse (the radius of the circle in the picture) is 1, then the height is $\\sin(\\frac{\\pi}{4})$.  Compute that height using `sin` and `pi` from the `math` module.  Give the result the name `sine_of_pi_over_four`.\n",
    "\n",
    "<img src=\"http://mathworld.wolfram.com/images/eps-gif/TrigonometryAnglesPi4_1000.gif\" width=30%>\n",
    "\n",
    "Source: [Wolfram MathWorld](http://mathworld.wolfram.com/images/eps-gif/TrigonometryAnglesPi4_1000.gif)"
   ]
  },
  {
   "cell_type": "code",
   "execution_count": null,
   "metadata": {},
   "outputs": [],
   "source": [
    "sine_of_pi_over_four = ...\n",
    "sine_of_pi_over_four"
   ]
  },
  {
   "cell_type": "code",
   "execution_count": null,
   "metadata": {
    "deletable": false,
    "editable": false
   },
   "outputs": [],
   "source": [
    "grader.check(\"q6_2_1\")"
   ]
  },
  {
   "cell_type": "markdown",
   "metadata": {},
   "source": [
    "For your reference, here are some more examples of functions from the `math` module.\n",
    "\n",
    "Note how different methods take in different number of arguments. Often, the documentation of the module will provide information on how many arguments is required for each method."
   ]
  },
  {
   "cell_type": "code",
   "execution_count": null,
   "metadata": {},
   "outputs": [],
   "source": [
    "# Calculating factorials.\n",
    "math.factorial(5)"
   ]
  },
  {
   "cell_type": "code",
   "execution_count": null,
   "metadata": {},
   "outputs": [],
   "source": [
    "# Calculating logarithms (the logarithm of 8 in base 2).\n",
    "# The result is 3 because 2 to the power of 3 is 8.\n",
    "math.log(8, 2)"
   ]
  },
  {
   "cell_type": "code",
   "execution_count": null,
   "metadata": {},
   "outputs": [],
   "source": [
    "# Calculating square roots.\n",
    "math.sqrt(5)"
   ]
  },
  {
   "cell_type": "code",
   "execution_count": null,
   "metadata": {},
   "outputs": [],
   "source": [
    "# Calculating cosines.\n",
    "math.cos(math.pi)"
   ]
  },
  {
   "cell_type": "markdown",
   "metadata": {
    "deletable": false,
    "editable": false
   },
   "source": [
    "# 7. Welcome Survey\n",
    "\n",
    "Make sure that you've completed the Welcome Survey, linked [here](https://forms.gle/uJANuR6WRgamLyjf7). You **must** complete it in order for you to receive any grades in this course.\n",
    "\n",
    "Once you've completed the survey, assign the variable `done_survey` to the string `'done'`.\n",
    "\n",
    "<!--\n",
    "BEGIN QUESTION\n",
    "name: q7\n",
    "-->"
   ]
  },
  {
   "cell_type": "code",
   "execution_count": null,
   "metadata": {},
   "outputs": [],
   "source": [
    "done_survey = ..."
   ]
  },
  {
   "cell_type": "code",
   "execution_count": null,
   "metadata": {
    "deletable": false,
    "editable": false
   },
   "outputs": [],
   "source": [
    "grader.check(\"q7\")"
   ]
  },
  {
   "cell_type": "markdown",
   "metadata": {},
   "source": [
    "# Recommended: Video on Navigating DataHub and Jupyter Notebooks\n",
    "\n",
    "We put together a video that explains how DataHub works and how to navigate your way around a Jupyter Notebook. Now that you're somewhat familiar with the idea of a notebook, we recommend you watch this video to make sure you're comfortable with these tools.\n",
    "\n",
    "The video is quite long. There are timestamps in the description of the video that allow you to jump to particular points of interest. (In particular, you can skip 6:30-9:55, as that part is not all that relevant for now.) You can also come back to this video in the future since it's linked in the [Instructional Videos section of the Resources tab](https://dsc10.com/resources/#instructional-videos) on the course website.\n",
    "\n",
    "Run the cell below to see the video. "
   ]
  },
  {
   "cell_type": "code",
   "execution_count": null,
   "metadata": {
    "scrolled": false
   },
   "outputs": [],
   "source": [
    "from IPython.display import YouTubeVideo\n",
    "YouTubeVideo(\"Hq8VaNirDRQ\")"
   ]
  },
  {
   "cell_type": "markdown",
   "metadata": {},
   "source": [
    "# Finish Line"
   ]
  },
  {
   "cell_type": "markdown",
   "metadata": {},
   "source": [
    "Congratulations! You've finished the first lab, and hopefully learned something about Python programming! 🥳\n",
    "\n",
    "The instructions at the bottom of the notebook tell you how to submit the lab. If you'd rather see the steps in a video, run the cell below. (The most relevant part starts at 3:00, though you're free to watch the entire video.)"
   ]
  },
  {
   "cell_type": "code",
   "execution_count": null,
   "metadata": {},
   "outputs": [],
   "source": [
    "YouTubeVideo(\"tNuZe6iAPF0?t=156\")"
   ]
  },
  {
   "cell_type": "markdown",
   "metadata": {},
   "source": [
    "To submit your lab:\n",
    "\n",
    "1. Select `Kernel -> Restart & Run All` to ensure that you have executed all cells, including the test cells.\n",
    "2. Read through the notebook to make sure everything is fine and all tests passed.\n",
    "3. Run the cell below to run all tests, and make sure that they all pass.\n",
    "4. Download your notebook using `File -> Download as -> Notebook (.ipynb)`, then upload your notebook to Gradescope under \"Lab 0\".\n",
    "5. Stick around while the Gradescope autograder grades your work. Make sure you see that all tests have passed on Gradescope.\n",
    "6. Check that you have a confirmation email from Gradescope and save it as proof of your submission."
   ]
  },
  {
   "cell_type": "code",
   "execution_count": null,
   "metadata": {
    "scrolled": false
   },
   "outputs": [],
   "source": [
    "grader.check_all()"
   ]
  }
 ],
 "metadata": {
  "kernelspec": {
   "display_name": "Python 3 (ipykernel)",
   "language": "python",
   "name": "python3"
  },
  "language_info": {
   "codemirror_mode": {
    "name": "ipython",
    "version": 3
   },
   "file_extension": ".py",
   "mimetype": "text/x-python",
   "name": "python",
   "nbconvert_exporter": "python",
   "pygments_lexer": "ipython3",
   "version": "3.9.17"
  }
 },
 "nbformat": 4,
 "nbformat_minor": 1
}
