{
 "cells": [
  {
   "cell_type": "markdown",
   "metadata": {},
   "source": [
    "# Lab 7: Regression\n",
    "\n",
    "## Due Thursday, December 7th at 11:59PM\n",
    "\n",
    "Welcome to Lab 7, the final lab of the quarter! In this lab you will get some hands-on practice with linear regression, which is covered in [CIT 15](https://inferentialthinking.com/chapters/15/Prediction.html).\n",
    "\n",
    "You should complete this entire lab so that all tests pass and submit it to Gradescope by 11:59PM on the due date.\n",
    "\n",
    "The content relevant to this lab is covered in Lectures 24 and 25, and in [Chapter 15 of the CIT textbook](https://inferentialthinking.com/chapters/15/Prediction.html). \n"
   ]
  },
  {
   "cell_type": "code",
   "execution_count": null,
   "metadata": {},
   "outputs": [],
   "source": [
    "import numpy as np\n",
    "import babypandas as bpd\n",
    "\n",
    "import matplotlib.pyplot as plt\n",
    "plt.style.use('ggplot')\n",
    "plt.rcParams['figure.figsize'] = (10, 5)\n",
    "\n",
    "from IPython.display import YouTubeVideo\n",
    "\n",
    "import otter\n",
    "grader = otter.Notebook()"
   ]
  },
  {
   "cell_type": "markdown",
   "metadata": {},
   "source": [
    "## 1. How faithful is Old Faithful?\n",
    "\n",
    "(The clever title comes from [here](http://web.pdx.edu/~jfreder/M212/oldfaithful.pdf).)\n",
    "\n",
    "Old Faithful is a geyser in Yellowstone National Park in the central United States.  It's famous for erupting on a fairly regular schedule.  You can see a video below."
   ]
  },
  {
   "cell_type": "code",
   "execution_count": null,
   "metadata": {},
   "outputs": [],
   "source": [
    "# Run this cell.\n",
    "YouTubeVideo('wE8NDuzt8eg')"
   ]
  },
  {
   "cell_type": "markdown",
   "metadata": {},
   "source": [
    "Some of Old Faithful's eruptions last longer than others.  When it has a long eruption, there's generally a longer wait until the next eruption.\n",
    "\n",
    "If you visit Yellowstone, you might want to **predict when the next eruption will happen**, so you can see the rest of the park and come to see the geyser when it is erupting.  In this lab, we will use a dataset on eruption durations and waiting times to see if we can make such predictions accurately with linear regression.\n",
    "\n",
    "The dataset has one row for each observed eruption.  It includes the following columns:\n",
    "- `'duration'`: Eruption duration, in minutes.\n",
    "- `'wait'`: Time between this eruption and the next, also in minutes.\n",
    "\n",
    "Run the next cell to load the dataset."
   ]
  },
  {
   "cell_type": "code",
   "execution_count": null,
   "metadata": {},
   "outputs": [],
   "source": [
    "faithful = bpd.read_csv('data/faithful.csv')\n",
    "faithful"
   ]
  },
  {
   "cell_type": "markdown",
   "metadata": {},
   "source": [
    "We would like to use linear regression to make predictions about waiting time given a duration, but that won't work well if the data aren't roughly linearly related.  To check that, we should look at the data."
   ]
  },
  {
   "cell_type": "markdown",
   "metadata": {},
   "source": [
    "**Question 1.1.** Make a scatter plot of the data.  It's conventional to put the column we will try to predict on the **vertical axis** and the other column on the horizontal axis."
   ]
  },
  {
   "cell_type": "code",
   "execution_count": null,
   "metadata": {
    "scrolled": true
   },
   "outputs": [],
   "source": [
    "# Make your scatter plot.\n",
    "..."
   ]
  },
  {
   "cell_type": "markdown",
   "metadata": {},
   "source": [
    "**Question 1.2.** Look at the scatter plot. Are the duration of the eruption and the waiting time roughly linearly related?  If so, is the relationship between them negative or positive?  Assign either 1, 2, or 3 to the variable `faith_q2` below. \n",
    "1. Eruption duration and waiting time are not roughly linearly related.\n",
    "2. Eruption duration and waiting time are roughly linearly related. The relationship between them is negative.\n",
    "3. Eruption duration and waiting time are roughly linearly related. The relationship between them is positive."
   ]
  },
  {
   "cell_type": "code",
   "execution_count": null,
   "metadata": {},
   "outputs": [],
   "source": [
    "faith_q2 = ..."
   ]
  },
  {
   "cell_type": "code",
   "execution_count": null,
   "metadata": {
    "deletable": false,
    "editable": false
   },
   "outputs": [],
   "source": [
    "grader.check(\"q1_2\")"
   ]
  },
  {
   "cell_type": "markdown",
   "metadata": {},
   "source": [
    "The scatterplot suggests that it is reasonable to use linear regression to analyze this data.\n",
    "\n",
    "Next, we'd like to plot the data in standard units.  Recall that, if `nums` is a Series of numbers, then\n",
    "\n",
    "```py\n",
    "(nums - nums.mean()) / np.std(nums)\n",
    "```\n",
    "\n",
    "is a Series of those numbers in standard units."
   ]
  },
  {
   "cell_type": "markdown",
   "metadata": {},
   "source": [
    "**Question 1.3.** Compute the mean and standard deviation of the eruption durations and waiting times.  Then create a DataFrame called `faithful_su` containing the eruption durations and waiting times in **standard units**. The columns should be named `'duration_su'` and `'wait_su'`, respectively.\n",
    "\n",
    "*Note*: You must use `np.std` to calculate the standard deviation."
   ]
  },
  {
   "cell_type": "code",
   "execution_count": null,
   "metadata": {
    "for_assignment_type": "student"
   },
   "outputs": [],
   "source": [
    "duration_mean = ...\n",
    "duration_std = ...\n",
    "wait_mean = ...\n",
    "wait_std = ...\n",
    "\n",
    "faithful_su = ...\n",
    "faithful_su"
   ]
  },
  {
   "cell_type": "code",
   "execution_count": null,
   "metadata": {
    "deletable": false,
    "editable": false
   },
   "outputs": [],
   "source": [
    "grader.check(\"q1_3\")"
   ]
  },
  {
   "cell_type": "markdown",
   "metadata": {},
   "source": [
    "**Question 1.4.** Create a scatter plot of the data again, but this time in standard units."
   ]
  },
  {
   "cell_type": "code",
   "execution_count": null,
   "metadata": {},
   "outputs": [],
   "source": [
    "# Make your scatter plot.\n",
    "..."
   ]
  },
  {
   "cell_type": "markdown",
   "metadata": {},
   "source": [
    "You'll notice that this plot looks exactly the same as the last one!  The data really are different, but the plots look the same because the axes are scaled differently.  The method `.plot` automatically scales the axes so the data fill up the available space.  This means it's important to read the ticks on the axes!"
   ]
  },
  {
   "cell_type": "markdown",
   "metadata": {},
   "source": [
    "**Question 1.5.** Among the following numbers, which would you guess is closest to the correlation between eruption duration and waiting time in this dataset: `-1`, `0`, or `1`? Assign your answer to `correlation_guess`."
   ]
  },
  {
   "cell_type": "code",
   "execution_count": null,
   "metadata": {},
   "outputs": [],
   "source": [
    "correlation_guess = ..."
   ]
  },
  {
   "cell_type": "code",
   "execution_count": null,
   "metadata": {
    "deletable": false,
    "editable": false
   },
   "outputs": [],
   "source": [
    "grader.check(\"q1_5\")"
   ]
  },
  {
   "cell_type": "markdown",
   "metadata": {},
   "source": [
    "Now, you'll actually compute the correlation between duration and waiting time. To help you do so, we've defined a function `standard_units` that takes in an array or Series of numbers and returns a copy in which all values are in standard units:"
   ]
  },
  {
   "cell_type": "code",
   "execution_count": null,
   "metadata": {},
   "outputs": [],
   "source": [
    "def standard_units(any_numbers):\n",
    "    '''Convert an array or Series of numbers to standard units.'''\n",
    "    return (any_numbers - any_numbers.mean()) / np.std(any_numbers)"
   ]
  },
  {
   "cell_type": "markdown",
   "metadata": {},
   "source": [
    "**Question 1.6.** Complete the implementation of the function `correlation`, which takes in a DataFrame `df` and two column names `x` and `y` and returns the correlation between the two columns. Then, use your function to find the correlation between duration and waiting time, and assign it to the variable `r`. \n",
    "\n",
    "*Hints*:\n",
    "- Does it matter if we compute the correlation between `'duration_su'` and `'wait_su'` or `'duration'` and `'wait'`?\n",
    "- [CIT 15.1.2.](https://inferentialthinking.com/chapters/15/1/Correlation.html#calculating-r) explains how to do this, if you're stuck."
   ]
  },
  {
   "cell_type": "code",
   "execution_count": null,
   "metadata": {},
   "outputs": [],
   "source": [
    "def correlation(df, x, y):\n",
    "    ...\n",
    "r = ...\n",
    "r"
   ]
  },
  {
   "cell_type": "code",
   "execution_count": null,
   "metadata": {
    "deletable": false,
    "editable": false
   },
   "outputs": [],
   "source": [
    "grader.check(\"q1_6\")"
   ]
  },
  {
   "cell_type": "markdown",
   "metadata": {},
   "source": [
    "## 2. The regression line\n",
    "\n",
    "Recall that the correlation is the *slope* of the regression line when the data are put in standard units.\n",
    "\n",
    "The next cell plots the **regression line in standard units**:\n",
    "\n",
    "$$\\text{wait_su} = r \\times \\text{duration_su}$$\n",
    "\n",
    "Then, it overlays the line on a plot of the original data (in standard units) for comparison.  (You don't need to fully understand the code, **just run it**.)"
   ]
  },
  {
   "cell_type": "code",
   "execution_count": null,
   "metadata": {},
   "outputs": [],
   "source": [
    "def plot_data_and_line(dataset, x, y, point_0, point_1):\n",
    "    '''Makes a scatter plot of the dataset, along with a line passing through two points.'''\n",
    "    dataset.plot(kind='scatter', x=x, y=y, label='data', figsize=(10, 5))\n",
    "    xs, ys = zip(point_0, point_1)\n",
    "    plt.plot(xs, ys, label='regression line', color='orange')\n",
    "    plt.xlabel('duration')\n",
    "    plt.ylabel('wait')\n",
    "    plt.legend()\n",
    "\n",
    "plot_data_and_line(faithful_su, \n",
    "                   'duration_su', \n",
    "                   'wait_su', \n",
    "                   [-2, -2 * r], \n",
    "                   [2, 2 * r])"
   ]
  },
  {
   "cell_type": "markdown",
   "metadata": {},
   "source": [
    "How would you take a point in standard units and convert it back to original units?  We'd have to \"stretch\" its horizontal position by `duration_std` and its vertical position by `wait_std`.\n",
    "\n",
    "That means the same thing would happen to the slope of the line.\n",
    "\n",
    "Stretching a line **horizontally** makes it less steep, so we **divide the slope by a horizontal stretching factor**.  Stretching a line **vertically** makes it more steep, so we **multiply the slope by a vertical stretching factor**. (What value describes how spread out the durations are? What value describes how spread out the waiting times are?)\n",
    "\n",
    "**Question 2.1.** What is the slope of the regression line in original units?\n",
    "\n",
    "*Hint*: If the \"stretching\" explanation is unintuitive, consult [CIT 15.2.5](https://inferentialthinking.com/chapters/15/2/Regression_Line.html#the-equation-of-the-regression-line)."
   ]
  },
  {
   "cell_type": "code",
   "execution_count": null,
   "metadata": {},
   "outputs": [],
   "source": [
    "slope = ...\n",
    "slope"
   ]
  },
  {
   "cell_type": "code",
   "execution_count": null,
   "metadata": {
    "deletable": false,
    "editable": false
   },
   "outputs": [],
   "source": [
    "grader.check(\"q2_1\")"
   ]
  },
  {
   "cell_type": "markdown",
   "metadata": {},
   "source": [
    "We know that the regression line passes through the point $(\\verb|duration_mean|, \\verb|wait_mean|)$.  So, now we know the slope of the regression line and a point that it passes through. You might recall the point-slope form of a line from high-school algebra. It says the equation for the line is:\n",
    "\n",
    "$$\\text{waiting time} - \\verb|wait_mean| = \\texttt{slope} \\times (\\text{eruption duration} - \\verb|duration_mean|)$$\n",
    "\n",
    "**Question 2.2.** Rearrange the above equation to find the intercept of the line. Then, assign `intercept` to be the intercept of the regression line.\n",
    "\n",
    "*Hint*: Think of $\\text{eruption duration}$ as $x$ and $\\text{waiting time}$ as $y$. Try and rearrange the above equation to be in the form $y = mx + b$. $b$ is the intercept."
   ]
  },
  {
   "cell_type": "code",
   "execution_count": null,
   "metadata": {},
   "outputs": [],
   "source": [
    "intercept = ...\n",
    "intercept"
   ]
  },
  {
   "cell_type": "code",
   "execution_count": null,
   "metadata": {
    "deletable": false,
    "editable": false
   },
   "outputs": [],
   "source": [
    "grader.check(\"q2_2\")"
   ]
  },
  {
   "cell_type": "markdown",
   "metadata": {},
   "source": [
    "## 3. Investigating the regression line \n",
    "The slope and intercept tell you exactly what the regression line looks like.  \n",
    "\n",
    "$$\\text{waiting time} = \\texttt{slope} \\times (\\text{eruption duration}) + \\texttt{intercept}$$"
   ]
  },
  {
   "cell_type": "code",
   "execution_count": null,
   "metadata": {},
   "outputs": [],
   "source": [
    "slope"
   ]
  },
  {
   "cell_type": "code",
   "execution_count": null,
   "metadata": {},
   "outputs": [],
   "source": [
    "intercept"
   ]
  },
  {
   "cell_type": "markdown",
   "metadata": {},
   "source": [
    "To predict the waiting time for an eruption, multiply the eruption's duration by `slope` and then add `intercept`.\n",
    "\n",
    "**Question 3.1.** Compute the predicted waiting time for an eruption that lasts 2 minutes, and for an eruption that lasts 5 minutes."
   ]
  },
  {
   "cell_type": "code",
   "execution_count": null,
   "metadata": {
    "scrolled": true
   },
   "outputs": [],
   "source": [
    "two_minute_predicted_waiting_time = ...\n",
    "five_minute_predicted_waiting_time = ...\n",
    "\n",
    "# Here is a helper function to print out your predictions.\n",
    "# Please don't modify it.\n",
    "def print_prediction(duration, predicted_waiting_time):\n",
    "    print('After an eruption lasting', duration,\n",
    "          'minutes, we predict you\\'ll wait', predicted_waiting_time,\n",
    "          'minutes until the next eruption.')\n",
    "\n",
    "print_prediction(2, two_minute_predicted_waiting_time)\n",
    "print_prediction(5, five_minute_predicted_waiting_time)"
   ]
  },
  {
   "cell_type": "code",
   "execution_count": null,
   "metadata": {
    "deletable": false,
    "editable": false
   },
   "outputs": [],
   "source": [
    "grader.check(\"q3_1\")"
   ]
  },
  {
   "cell_type": "markdown",
   "metadata": {},
   "source": [
    "The next cell plots the line that goes between those two points, which is (a segment of) the regression line."
   ]
  },
  {
   "cell_type": "code",
   "execution_count": null,
   "metadata": {},
   "outputs": [],
   "source": [
    "plot_data_and_line(faithful, 'duration', 'wait', \n",
    "                   [2, two_minute_predicted_waiting_time], \n",
    "                   [5, five_minute_predicted_waiting_time])"
   ]
  },
  {
   "cell_type": "markdown",
   "metadata": {},
   "source": [
    "**Question 3.2.** Make predictions for the waiting time after **each** eruption in the `faithful` DataFrame. Put these numbers into a column in a new DataFrame called `faithful_predictions`. Its first row should look like this:\n",
    "\n",
    "||duration|wait|predicted_wait|\n",
    "|-|-|-|-|\n",
    "|**0**|3.600|79.0|72.101106|\n",
    "\n",
    "Note that we know exactly what the true waiting times were for every eruption in our dataset!  We are doing this so we can see how accurate our predictions are.\n",
    "\n",
    "*Hint*: There is no need for a `for`-loop or even `.apply`; use Series arithmetic instead."
   ]
  },
  {
   "cell_type": "code",
   "execution_count": null,
   "metadata": {},
   "outputs": [],
   "source": [
    "faithful_predictions = ...\n",
    "faithful_predictions"
   ]
  },
  {
   "cell_type": "code",
   "execution_count": null,
   "metadata": {
    "deletable": false,
    "editable": false
   },
   "outputs": [],
   "source": [
    "grader.check(\"q3_2\")"
   ]
  },
  {
   "cell_type": "markdown",
   "metadata": {},
   "source": [
    "**Question 3.3.** How good are our predictions? To answer this question, we can compute the **residual** for each prediction. Residuals are defined as follows (note that there is no absolute value):\n",
    "\n",
    "$$\\text{residual} = \\text{actual wait} - \\text{predicted wait}$$\n",
    "\n",
    "Compute the residual for each eruption in the dataset. Add the residuals to `faithful_predictions` as a new column called `'residual'`, naming the resulting DataFrame `faithful_residuals`.\n",
    "\n",
    "*Hint*: Again, there is no need for a `for`-loop or `.apply`."
   ]
  },
  {
   "cell_type": "code",
   "execution_count": null,
   "metadata": {},
   "outputs": [],
   "source": [
    "faithful_residuals = ...\n",
    "faithful_residuals"
   ]
  },
  {
   "cell_type": "code",
   "execution_count": null,
   "metadata": {
    "deletable": false,
    "editable": false
   },
   "outputs": [],
   "source": [
    "grader.check(\"q3_3\")"
   ]
  },
  {
   "cell_type": "markdown",
   "metadata": {},
   "source": [
    "Here is a plot of the residuals you computed.  Each point corresponds to one eruption.  It shows how much our prediction over- or under-estimated the waiting time."
   ]
  },
  {
   "cell_type": "code",
   "execution_count": null,
   "metadata": {},
   "outputs": [],
   "source": [
    "faithful_residuals.plot(kind='scatter', x='duration', y='residual', color='purple', figsize=(10, 5));"
   ]
  },
  {
   "cell_type": "markdown",
   "metadata": {},
   "source": [
    "If a linear fit is good, the residual plot should look like a patternless \"blob\". This implies that the accuracy of the line's predictions is roughly the same for all durations. (This is an idea you will study further in future courses; see [CIT 15.5.](https://inferentialthinking.com/chapters/15/5/Visual_Diagnostics.html) for more details).\n",
    "\n",
    "In the residual plot above, there isn't really a pattern in the residuals, which confirms that it was reasonable to try linear regression.  It's true that there are two separate clouds; the eruption durations seemed to fall into two distinct clusters.  But that's just a pattern in the eruption durations themselves, not a pattern in the relationship between eruption durations and waiting times."
   ]
  },
  {
   "cell_type": "markdown",
   "metadata": {},
   "source": [
    "## 4. How accurate are different predictions?\n",
    "Earlier, you should have found that the correlation is fairly close to 1, so a line fits the data fairly well.  This means that, overall, the residuals are small (close to 0) in comparison to the waiting times.\n",
    "\n",
    "We can see that visually by plotting the waiting times and residuals together:"
   ]
  },
  {
   "cell_type": "code",
   "execution_count": null,
   "metadata": {},
   "outputs": [],
   "source": [
    "faithful_residuals.plot(kind='scatter', x='duration', y='wait', label='actual waiting time', figsize=(10, 5));\n",
    "plt.scatter(faithful_residuals.get('duration'), faithful_residuals.get('residual'), label='residual', color='purple', s=15)\n",
    "plt.plot([2, 5], [two_minute_predicted_waiting_time, five_minute_predicted_waiting_time], label='regression line', color='orange')\n",
    "plt.legend();"
   ]
  },
  {
   "cell_type": "markdown",
   "metadata": {},
   "source": [
    "However, even though the regression line fits the data well, you should be wary of applying your prediction model to data that are very different from the data in your sample."
   ]
  },
  {
   "cell_type": "markdown",
   "metadata": {},
   "source": [
    "**Question 4.1.** In `faithful`, no eruption lasted exactly 0, 2.5, or 60 minutes.  Using this line, what is the predicted waiting time for an eruption that lasts 0 minutes?  2.5 minutes?  60 minutes (an hour)?"
   ]
  },
  {
   "cell_type": "code",
   "execution_count": null,
   "metadata": {},
   "outputs": [],
   "source": [
    "zero_minute_predicted_waiting_time = ...\n",
    "two_point_five_minute_predicted_waiting_time = ...\n",
    "hour_predicted_waiting_time = ...\n",
    "\n",
    "print_prediction(0, zero_minute_predicted_waiting_time)\n",
    "print_prediction(2.5, two_point_five_minute_predicted_waiting_time)\n",
    "print_prediction(60, hour_predicted_waiting_time)"
   ]
  },
  {
   "cell_type": "code",
   "execution_count": null,
   "metadata": {
    "deletable": false,
    "editable": false
   },
   "outputs": [],
   "source": [
    "grader.check(\"q4_1\")"
   ]
  },
  {
   "cell_type": "markdown",
   "metadata": {},
   "source": [
    "**Question 4.2.** Do you believe any of these values are reliable predictions?  Why or why not? Assign `true_predictions` to a list of the correct statements.\n",
    "1. The predicted waiting time for a zero minute duration is reliable.\n",
    "2. The predicted waiting time for a 2.5 minute duration is reliable.\n",
    "3. The predicted waiting time for an hour duration is reliable.\n",
    "4. We have data for all of the durations we predicted waiting times for.\n",
    "5. We have data surrounding (above and below) all of the durations we predicted waiting times for.\n",
    "\n",
    "*Hint*: What does a duration of zero minutes mean?"
   ]
  },
  {
   "cell_type": "code",
   "execution_count": null,
   "metadata": {},
   "outputs": [],
   "source": [
    "true_predictions = ..."
   ]
  },
  {
   "cell_type": "code",
   "execution_count": null,
   "metadata": {
    "deletable": false,
    "editable": false
   },
   "outputs": [],
   "source": [
    "grader.check(\"q4_2\")"
   ]
  },
  {
   "cell_type": "markdown",
   "metadata": {},
   "source": [
    "## 5. Divide and conquer"
   ]
  },
  {
   "cell_type": "markdown",
   "metadata": {},
   "source": [
    "It appears from the scatter plot that there are two clusters of points: one for durations around 2 and another for durations between 3.5 and 5. A vertical line at 3 divides the two clusters."
   ]
  },
  {
   "cell_type": "code",
   "execution_count": null,
   "metadata": {},
   "outputs": [],
   "source": [
    "faithful_residuals.plot(kind='scatter', x='duration', y='wait', figsize=(10, 5));\n",
    "plt.plot([3, 3], [40, 100], color='black');"
   ]
  },
  {
   "cell_type": "markdown",
   "metadata": {},
   "source": [
    "The `standardize` function below returns a DataFrame with all columns converted to standard units. It uses the `standard_units` function we defined for you right before Question 1.6. Pay attention to the names of the columns in the DataFrame that `standardize` returns."
   ]
  },
  {
   "cell_type": "code",
   "execution_count": null,
   "metadata": {},
   "outputs": [],
   "source": [
    "def standardize(df):\n",
    "    '''Return a DataFrame in which all columns of df are converted to standard units.'''\n",
    "    df_su = bpd.DataFrame().assign(duration_su=standard_units(df.get('duration')),\n",
    "                                   wait_su=standard_units(df.get('wait')))\n",
    "    return df_su"
   ]
  },
  {
   "cell_type": "markdown",
   "metadata": {},
   "source": [
    "**Question 5.1.** Assign `below_3_r` to the correlation coefficient of all points with a duration below 3 and `above_3_r` to the correlation coefficient of all points with a duration greater than or equal to 3. To do so:\n",
    "1. Create two DataFrames, `below_3` and `above_3`. `below_3` should contain all rows in `faithful` in which the duration is below 3, and `above_3` should contain all rows in `faithful` in which the duration is greater than or equal to 3.\n",
    "2. Call your `correlation` function from Question 1.6 on both `below_3` and `above_3`."
   ]
  },
  {
   "cell_type": "code",
   "execution_count": null,
   "metadata": {},
   "outputs": [],
   "source": [
    "below_3 = ...\n",
    "above_3 = ...\n",
    "\n",
    "below_3_r = ...\n",
    "above_3_r = ...\n",
    "print(f'For points below 3, r is {below_3_r}. \\nFor points above 3, r is {above_3_r}.')"
   ]
  },
  {
   "cell_type": "code",
   "execution_count": null,
   "metadata": {
    "deletable": false,
    "editable": false
   },
   "outputs": [],
   "source": [
    "grader.check(\"q5_1\")"
   ]
  },
  {
   "cell_type": "markdown",
   "metadata": {},
   "source": [
    "**Question 5.2.** Below, complete the implementation of the functions `slope_of` and `intercept_of`. Both functions should take in a DataFrame `df` that contains a `'duration'` column and a `'wait'` column (both of which are in **original units**, not standard units).\n",
    "\n",
    "When you're done, the functions `wait_below_3` and `wait_above_3` should each use a different regression line to predict a wait time for a duration. The first function should use the regression line for all points with duration **below** 3. The second function should use the regression line for all points with duration **greater than or equal to** 3."
   ]
  },
  {
   "cell_type": "code",
   "execution_count": null,
   "metadata": {},
   "outputs": [],
   "source": [
    "def slope_of(df):\n",
    "    '''Return the slope of the regression line for the given DataFrame in original units.    \n",
    "    Assume that the `duration` column contains x values and the `wait` column contains y values.\n",
    "    '''\n",
    "    r = ...\n",
    "    ...\n",
    "\n",
    "def intercept_of(df):\n",
    "    '''Return the intercept of the regression line for the given DataFrame in original units.\n",
    "    Assume that the `duration` column contains x values and the `wait` column contains y values.\n",
    "    '''\n",
    "    ...\n",
    "    \n",
    "below_3_a = slope_of(below_3)\n",
    "below_3_b = intercept_of(below_3)\n",
    "above_3_a = slope_of(above_3)\n",
    "above_3_b = intercept_of(above_3)\n",
    "\n",
    "def wait_below_3(duration):\n",
    "    return below_3_a * duration + below_3_b\n",
    "\n",
    "def wait_above_3(duration):\n",
    "    return above_3_a * duration + above_3_b"
   ]
  },
  {
   "cell_type": "code",
   "execution_count": null,
   "metadata": {
    "deletable": false,
    "editable": false
   },
   "outputs": [],
   "source": [
    "grader.check(\"q5_2\")"
   ]
  },
  {
   "cell_type": "markdown",
   "metadata": {},
   "source": [
    "The plot below shows two different regression lines, one for each cluster!"
   ]
  },
  {
   "cell_type": "code",
   "execution_count": null,
   "metadata": {},
   "outputs": [],
   "source": [
    "faithful_residuals.plot(kind='scatter', x='duration', y='wait', figsize=(10, 5))\n",
    "plt.plot([1, 3], [wait_below_3(1), wait_below_3(3)], ':', color='orange', label='Below 3', linewidth=3)\n",
    "plt.plot([3, 6], [wait_above_3(3), wait_above_3(6)], '--', color='orange', label='Above 3', linewidth=2)\n",
    "plt.legend();"
   ]
  },
  {
   "cell_type": "markdown",
   "metadata": {},
   "source": [
    "**Question 5.3.** Write a function `predict_wait` that takes a `duration` and returns the predicted wait time using the appropriate regression line, depending on whether the duration is below 3 or greater than or equal to 3."
   ]
  },
  {
   "cell_type": "code",
   "execution_count": null,
   "metadata": {
    "for_assignment_type": "student"
   },
   "outputs": [],
   "source": [
    "def predict_wait(duration):\n",
    "    '''Return the wait predicted by the appropriate one of the two regression lines above.'''\n",
    "    ..."
   ]
  },
  {
   "cell_type": "code",
   "execution_count": null,
   "metadata": {
    "deletable": false,
    "editable": false
   },
   "outputs": [],
   "source": [
    "grader.check(\"q5_3\")"
   ]
  },
  {
   "cell_type": "markdown",
   "metadata": {},
   "source": [
    "The predicted wait times for each point appear below."
   ]
  },
  {
   "cell_type": "code",
   "execution_count": null,
   "metadata": {},
   "outputs": [],
   "source": [
    "new_faithful = faithful.assign(predicted = faithful.get('duration').apply(predict_wait))\n",
    "new_faithful.plot(kind='scatter', x='duration', y='predicted', color='orange', figsize=(10, 5));"
   ]
  },
  {
   "cell_type": "markdown",
   "metadata": {},
   "source": [
    "**Question 5.4.** Do you think the predictions produced by `predict_wait` are more or less accurate than the predictions from the original regression line you created in Question 2? How can you tell? To answer this question, let's create another plot of the residuals, this time from `new_faithful`, and see if they're any different than before.  \n",
    "\n",
    "Add a column called `new_residuals` to the `new_faithful` DataFrame. This column should contain the residuals from the predictions made by `predict_wait`. Then, create a residual plot to show, for each eruption, how much the new prediction over- or under-estimates the actual wait time."
   ]
  },
  {
   "cell_type": "code",
   "execution_count": null,
   "metadata": {
    "scrolled": true
   },
   "outputs": [],
   "source": [
    "new_faithful = ...\n",
    "\n",
    "# Create your residual plot here.\n",
    "..."
   ]
  },
  {
   "cell_type": "markdown",
   "metadata": {},
   "source": [
    "For comparison's sake, here is the residual plot we created with our old predictions in Question 3."
   ]
  },
  {
   "cell_type": "code",
   "execution_count": null,
   "metadata": {
    "scrolled": true
   },
   "outputs": [],
   "source": [
    "faithful_residuals.plot(kind='scatter', x='duration', y='residual', color='purple', figsize=(10, 5));"
   ]
  },
  {
   "cell_type": "markdown",
   "metadata": {},
   "source": [
    "**Question 5.5.** Now that we have plotted the residuals, can we say that the new set of predictions are more or less accurate than before?  Assign either 1, 2, 3, or 4 to the variable `new_predict` below.\n",
    "1. The new predictions are more accurate than the old predictions because the new residuals have a lower max value than the old residuals, as well as a lower minimum value than the old residuals, so the new predictions are closer to the true values than the old predictions.\n",
    "2. The new predictions are more accurate than the old predictions because the new residuals exhibit less spread than the old residuals, so the new predictions are closer to the true values more often than the old predictions.\n",
    "3. The new predictions are less accurate than the old predictions because they can't predict what will happen after a three minute duration.\n",
    "4. We cannot tell if the new predictions are more accurate than the old predictions because the new and old residuals look similar."
   ]
  },
  {
   "cell_type": "code",
   "execution_count": null,
   "metadata": {},
   "outputs": [],
   "source": [
    "new_predict = ..."
   ]
  },
  {
   "cell_type": "code",
   "execution_count": null,
   "metadata": {
    "deletable": false,
    "editable": false
   },
   "outputs": [],
   "source": [
    "grader.check(\"q5_5\")"
   ]
  },
  {
   "cell_type": "markdown",
   "metadata": {},
   "source": [
    "## Finish Line 🏁\n",
    "\n",
    "Congratulations! You've finished the last lab of the quarter!\n",
    "\n",
    "**Citations:** Did you use any generative artificial intelligence tools to assist you on this assignment? If so, please state, for each tool you used, the name of the tool (ex. ChatGPT) and the problem(s) in this assignment where you used the tool for help."
   ]
  },
  {
   "cell_type": "markdown",
   "metadata": {},
   "source": [
    "<hr style=\"color:Maroon;background-color:Maroon;border:0 none; height: 3px;\">\n",
    "\n",
    "Please cite tools here.\n",
    "\n",
    "<hr style=\"color:Maroon;background-color:Maroon;border:0 none; height: 3px;\">"
   ]
  },
  {
   "cell_type": "markdown",
   "metadata": {},
   "source": [
    "To submit your assignment:\n",
    "\n",
    "1. Select `Kernel -> Restart & Run All` to ensure that you have executed all cells, including the test cells.\n",
    "2. Read through the notebook to make sure everything is fine and all tests passed.\n",
    "3. Run the cell below to run all tests, and make sure that they all pass.\n",
    "4. Download your notebook using `File -> Download as -> Notebook (.ipynb)`, then upload your notebook to Gradescope.\n",
    "5. Stick around while the Gradescope autograder grades your work. Make sure you see that all tests have passed on Gradescope.\n",
    "6. Check that you have a confirmation email from Gradescope and save it as proof of your submission."
   ]
  },
  {
   "cell_type": "code",
   "execution_count": null,
   "metadata": {},
   "outputs": [],
   "source": [
    "# For your convenience, you can run this cell to run all the tests at once!\n",
    "grader.check_all()"
   ]
  },
  {
   "cell_type": "code",
   "execution_count": null,
   "metadata": {},
   "outputs": [],
   "source": []
  }
 ],
 "metadata": {
  "anaconda-cloud": {},
  "kernelspec": {
   "display_name": "Python 3 (ipykernel)",
   "language": "python",
   "name": "python3"
  },
  "language_info": {
   "codemirror_mode": {
    "name": "ipython",
    "version": 3
   },
   "file_extension": ".py",
   "mimetype": "text/x-python",
   "name": "python",
   "nbconvert_exporter": "python",
   "pygments_lexer": "ipython3",
   "version": "3.8.16"
  }
 },
 "nbformat": 4,
 "nbformat_minor": 4
}
