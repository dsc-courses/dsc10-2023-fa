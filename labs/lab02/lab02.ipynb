{
 "cells": [
  {
   "cell_type": "markdown",
   "metadata": {},
   "source": [
    "# Lab 2: Data Visualizations and Python Functions\n",
    "\n",
    "## Due Saturday, April 22nd at 11:59PM\n",
    "\n",
    "Welcome to Lab 2! This week, you'll practice some DataFrame methods (especially `groupby`), create data visualizations, and learn how to write your very own functions in Python. Creating functions may be new to you, but don't worry, this assignment will guide you through that process! You should complete this entire lab so that all tests pass and submit it to Gradescope by 11:59PM on the due date.\n",
    "\n",
    "The topics on this lab are covered in [BPD 6](https://notes.dsc10.com/01-getting_started/functions-defining.html), [11](https://notes.dsc10.com/02-data_sets/groupby.html), [12](https://notes.dsc10.com/02-data_sets/apply.html) in the `babypandas` notes and [Chapter 7](https://inferentialthinking.com/chapters/07/Visualization.html) in the CIT textbook.\n",
    "\n",
    "**Please do not use for-loops for any questions in this lab.** If you don't know what a for-loop is, don't worry -- we haven't covered them yet. But if you do know what they are and are wondering why it's not OK to use them, it is because loops in Python are slow, and looping over arrays and DataFrames should usually be avoided.\n",
    "\n",
    "First, set up the tests and imports by running the cell below."
   ]
  },
  {
   "cell_type": "code",
   "execution_count": null,
   "metadata": {},
   "outputs": [],
   "source": [
    "import numpy as np\n",
    "import babypandas as bpd\n",
    "\n",
    "# These lines set up graphing capabilities.\n",
    "import matplotlib\n",
    "import matplotlib.pyplot as plt\n",
    "from matplotlib_inline.backend_inline import set_matplotlib_formats\n",
    "set_matplotlib_formats(\"svg\")\n",
    "plt.style.use('ggplot')\n",
    "plt.rcParams['figure.figsize'] = (10, 5)\n",
    "\n",
    "import otter\n",
    "grader = otter.Notebook()\n",
    "\n",
    "%reload_ext pandas_tutor"
   ]
  },
  {
   "cell_type": "markdown",
   "metadata": {},
   "source": [
    "## 1. Google Play Store Apps 📲"
   ]
  },
  {
   "cell_type": "markdown",
   "metadata": {},
   "source": [
    "In this problem, we will practice DataFrame manipulations and data visualizations, while exploring the [Google Play Store Apps Dataset](https://www.kaggle.com/lava18/google-play-store-apps), scraped from the Google Play Store."
   ]
  },
  {
   "cell_type": "code",
   "execution_count": null,
   "metadata": {},
   "outputs": [],
   "source": [
    "# Run this cell to load in the dataset\n",
    "apps = bpd.read_csv('data/googleplaystore.csv')\n",
    "apps"
   ]
  },
  {
   "cell_type": "markdown",
   "metadata": {},
   "source": [
    "Each row in the DataFrame corresponds to an app. Here are descriptions of some of the columns. \n",
    "- `'Category'`: Category the app belongs to.\n",
    "- `'Rating'`: Overall user rating of the app out of 5 (at the time of data retrieval).\n",
    "- `'Reviews'`: Number of user reviews for the app (at the time of data retrieval).\n",
    "- `'Installs'`: Number of user downloads/installs for the app (at the time of data retrieval).\n",
    "- `'Content Rating'`: Intended audience of the app, such as \"Everyone\" or \"Teen\".\n",
    "\n",
    "⚠️ Note that `'Rating'` and `'Content Rating'` mean different things. Don't get them mixed up!"
   ]
  },
  {
   "cell_type": "markdown",
   "metadata": {},
   "source": [
    "Notice that we did not set the index of the DataFrame, even though it looks like the app name would be a good candidate. But the app names are not unique! We can verify this with the help of the Series method `.unique()`. When called on a Series, this method returns an array of all the distinct values in the Series, without duplicates.\n",
    "\n",
    "We see above that the DataFrame has 10,825 rows. This means that there are 10,825 apps in the dataset. But let's calculate how many unique app names there are:"
   ]
  },
  {
   "cell_type": "code",
   "execution_count": null,
   "metadata": {},
   "outputs": [],
   "source": [
    "len(apps.get('App').unique())"
   ]
  },
  {
   "cell_type": "markdown",
   "metadata": {},
   "source": [
    "Since $9644 < 10825$, there must be duplicates!\n",
    "\n",
    "Because there are duplicates, the app name is not a good row label. In fact, there is no good row label in this case. In situations like this, we'll leave the index as-is."
   ]
  },
  {
   "cell_type": "markdown",
   "metadata": {
    "deletable": false,
    "editable": false
   },
   "source": [
    "**Question 1.1.** You might think that on a 1 to 5 scale, a typical middle-of-the-pack app should have a rating of about 3. \n",
    "Make a histogram of the \"Rating\" column to see if that's the case.\n",
    "\n",
    "<!--\n",
    "BEGIN QUESTION\n",
    "name: q1_1\n",
    "-->"
   ]
  },
  {
   "cell_type": "code",
   "execution_count": null,
   "metadata": {
    "scrolled": true
   },
   "outputs": [],
   "source": [
    "..."
   ]
  },
  {
   "cell_type": "markdown",
   "metadata": {},
   "source": [
    "There certainly seems to be a lot of excellent apps out there! It would be interesting to see whether the apps with higher ratings also have more reviews. \n",
    "\n",
    "**Question 1.2.** What type of plot would you want to create to help you determine whether higher-rated apps also have more reviews? Assign either 1, 2, 3, or 4 to the name `plot_type` below.\n",
    "\n",
    "1. scatter plot\n",
    "2. line graph\n",
    "3. bar graph\n",
    "4. histogram"
   ]
  },
  {
   "cell_type": "code",
   "execution_count": null,
   "metadata": {},
   "outputs": [],
   "source": [
    "plot_type = ..."
   ]
  },
  {
   "cell_type": "code",
   "execution_count": null,
   "metadata": {
    "deletable": false,
    "editable": false
   },
   "outputs": [],
   "source": [
    "grader.check(\"q1_2\")"
   ]
  },
  {
   "cell_type": "markdown",
   "metadata": {
    "deletable": false,
    "editable": false
   },
   "source": [
    "**Question 1.3.** Now create the plot you identified above to help you determine whether higher-rated apps also have more reviews.\n",
    "\n",
    "<!--\n",
    "BEGIN QUESTION\n",
    "name: q1_3\n",
    "-->"
   ]
  },
  {
   "cell_type": "code",
   "execution_count": null,
   "metadata": {},
   "outputs": [],
   "source": [
    "..."
   ]
  },
  {
   "cell_type": "markdown",
   "metadata": {},
   "source": [
    "**Question 1.4.** Which of the following can we conclude, based on this data? Assign either 1, 2, 3, or 4 to the name `plot_conclusion` below.\n",
    "\n",
    "1. Apps with higher ratings become more popular, and since more people are using these apps, more reviews are given.\n",
    "2. Apps with more reviews become more popular, and since more people are using these apps, higher ratings are given.\n",
    "3. Both 1 and 2.\n",
    "4. Neither 1 nor 2."
   ]
  },
  {
   "cell_type": "code",
   "execution_count": null,
   "metadata": {},
   "outputs": [],
   "source": [
    "plot_conclusion = ..."
   ]
  },
  {
   "cell_type": "code",
   "execution_count": null,
   "metadata": {
    "deletable": false,
    "editable": false
   },
   "outputs": [],
   "source": [
    "grader.check(\"q1_4\")"
   ]
  },
  {
   "cell_type": "markdown",
   "metadata": {},
   "source": [
    "**Question 1.5.** Assign the name `by_content` to a DataFrame which counts the number of apps per Content Rating. List the Content Ratings alphabetically.\n",
    "\n",
    "*Hint*: To keep only certain columns in a DataFrame, call `get` with a `list` of column names you want to keep. "
   ]
  },
  {
   "cell_type": "code",
   "execution_count": null,
   "metadata": {
    "scrolled": true
   },
   "outputs": [],
   "source": [
    "by_content = ...\n",
    "by_content"
   ]
  },
  {
   "cell_type": "code",
   "execution_count": null,
   "metadata": {
    "deletable": false,
    "editable": false
   },
   "outputs": [],
   "source": [
    "grader.check(\"q1_5\")"
   ]
  },
  {
   "cell_type": "markdown",
   "metadata": {},
   "source": [
    "**Question 1.6.** Create a DataFrame called `install_stats` which has a single column, `'Installs'`, that contains the mean number of Installs for each type of Content Rating. It's okay if the answers display in scientific notation."
   ]
  },
  {
   "cell_type": "code",
   "execution_count": null,
   "metadata": {},
   "outputs": [],
   "source": [
    "install_stats = ...\n",
    "install_stats"
   ]
  },
  {
   "cell_type": "code",
   "execution_count": null,
   "metadata": {
    "deletable": false,
    "editable": false
   },
   "outputs": [],
   "source": [
    "grader.check(\"q1_6\")"
   ]
  },
  {
   "cell_type": "markdown",
   "metadata": {},
   "source": [
    "**Question 1.7.** Create a DataFrame called `top_communication_apps_by_content_rating` that contains, for each unique Content Rating, the number of apps satisfying both of these conditions:\n",
    "- Category is `'COMMUNICATION'`. \n",
    "- Rating is between 4 and 5 (inclusive).\n",
    "\n",
    "The structure of `top_communication_apps_by_content_rating` should be as follows:\n",
    "- It should have just one column, `'Top_Comm_Apps'`.\n",
    "- It should be sorted by `'Top_Comm_Apps'` in decreasing order.\n",
    "\n",
    "*Hint:* You can do this however you'd like, but one way to proceed is to first create a single DataFrame that contains only the rows matching the specified conditions, and then create a second DataFrame that results from grouping the first DataFrame."
   ]
  },
  {
   "cell_type": "code",
   "execution_count": null,
   "metadata": {},
   "outputs": [],
   "source": [
    "top_communication_apps_by_content_rating = ...\n",
    "top_communication_apps_by_content_rating"
   ]
  },
  {
   "cell_type": "code",
   "execution_count": null,
   "metadata": {
    "deletable": false,
    "editable": false
   },
   "outputs": [],
   "source": [
    "grader.check(\"q1_7\")"
   ]
  },
  {
   "cell_type": "markdown",
   "metadata": {},
   "source": [
    "**Question 1.8.** Suppose a good app is one with at least one million installs and a rating of at least 4.0. Create a variable called `best_category` containing the name of the category with the most good apps.\n",
    "\n",
    "_Note:_ Your answer should be generated using code – not by hard-coding a string! (In other words, don't write `best_category = \"DATING\"` if you think that's the best category)."
   ]
  },
  {
   "cell_type": "code",
   "execution_count": null,
   "metadata": {},
   "outputs": [],
   "source": [
    "...\n",
    "best_category"
   ]
  },
  {
   "cell_type": "code",
   "execution_count": null,
   "metadata": {
    "deletable": false,
    "editable": false
   },
   "outputs": [],
   "source": [
    "grader.check(\"q1_8\")"
   ]
  },
  {
   "cell_type": "markdown",
   "metadata": {},
   "source": [
    "**Question 1.9.** Make a bar chart of the average rating by category in which the bars are sorted from smallest to largest. Your result should look like this:\n",
    "\n",
    "<img src=\"data/barchart.jpg\" width=50%/>"
   ]
  },
  {
   "cell_type": "code",
   "execution_count": null,
   "metadata": {},
   "outputs": [],
   "source": [
    "# YOUR CODE HERE\n",
    "..."
   ]
  },
  {
   "cell_type": "markdown",
   "metadata": {},
   "source": [
    "## 2. Incomes of CEOs 💼\n",
    "\n",
    "For the rest of this lab, we'll look at the 2015 compensation of Chief Executive Officers (CEOs) at the 100 largest companies in California.  The data were compiled for a Los Angeles Times analysis [here](http://spreadsheets.latimes.com/california-ceo-compensation/), and ultimately came from [filings](https://www.sec.gov/answers/proxyhtf.htm) mandated by the US Securities and Exchange Commission from all publicly-traded companies.  Two of the companies in our dataset have two CEOs, so there are 102 CEOs in the dataset.\n",
    "\n",
    "We've copied the data from the LA Times page into a file called `raw_compensation.csv`.  The page notes that all dollar amounts are in millions of dollars."
   ]
  },
  {
   "cell_type": "code",
   "execution_count": null,
   "metadata": {},
   "outputs": [],
   "source": [
    "raw_compensation = bpd.read_csv('data/raw_compensation.csv').set_index('Rank')\n",
    "raw_compensation"
   ]
  },
  {
   "cell_type": "markdown",
   "metadata": {},
   "source": [
    "We want to compute the average of the CEOs' pay. Try running the cell below. 🚨 When you're done, make sure to comment it out."
   ]
  },
  {
   "cell_type": "code",
   "execution_count": null,
   "metadata": {
    "tags": [
     "raises-exception"
    ]
   },
   "outputs": [],
   "source": [
    "# after running this cell to see the error, please prevent it from running again\n",
    "# by placing a '#' in front of the line of code to \"comment it out\".\n",
    "\n",
    "raw_compensation.get(\"Total Pay\").mean()"
   ]
  },
  {
   "cell_type": "markdown",
   "metadata": {},
   "source": [
    "You should see an error. Let's examine why this error occured by looking at the values in the `'Total Pay'` column. \n",
    "\n",
    "**Question 2.1.** Use the `type` function to set `total_pay_type` to the type of the first item from the `'Total Pay'` column."
   ]
  },
  {
   "cell_type": "code",
   "execution_count": null,
   "metadata": {},
   "outputs": [],
   "source": [
    "total_pay_type = ...\n",
    "total_pay_type"
   ]
  },
  {
   "cell_type": "code",
   "execution_count": null,
   "metadata": {
    "deletable": false,
    "editable": false
   },
   "outputs": [],
   "source": [
    "grader.check(\"q2_1\")"
   ]
  },
  {
   "cell_type": "markdown",
   "metadata": {},
   "source": [
    "**Question 2.2.** You should have found that the values in the `'Total Pay'` column are strings (text). It doesn't make sense to take the average of text values, so we need to convert them to numbers if we want to do this. Extract the first value in the `'Total Pay'` column.  It's the 2015 pay of Mark Hurd, one of the two CEOs of Oracle in 2015, in *millions* of dollars.  Call it `mark_hurd_pay_string`."
   ]
  },
  {
   "cell_type": "code",
   "execution_count": null,
   "metadata": {},
   "outputs": [],
   "source": [
    "mark_hurd_pay_string = ...\n",
    "mark_hurd_pay_string"
   ]
  },
  {
   "cell_type": "code",
   "execution_count": null,
   "metadata": {
    "deletable": false,
    "editable": false
   },
   "outputs": [],
   "source": [
    "grader.check(\"q2_2\")"
   ]
  },
  {
   "cell_type": "markdown",
   "metadata": {},
   "source": [
    "**Question 2.3.** Using code, convert `mark_hurd_pay_string` to a number of *dollars* and store the result in the variable `mark_hurd_pay`, which should be a float.  \n",
    "- The string method `strip` will be useful for removing the dollar sign; it removes a specified character from the start or end of a string.  For example, the value of `\"100%\".strip(\"%\")` is the string `\"100\"`.  \n",
    "- You'll also need the function `float`, which converts a string that looks like a number to an actual number.  \n",
    "- Last, remember that the answer should be in dollars, not millions of dollars."
   ]
  },
  {
   "cell_type": "code",
   "execution_count": null,
   "metadata": {},
   "outputs": [],
   "source": [
    "mark_hurd_pay = ...\n",
    "mark_hurd_pay"
   ]
  },
  {
   "cell_type": "code",
   "execution_count": null,
   "metadata": {
    "deletable": false,
    "editable": false
   },
   "outputs": [],
   "source": [
    "grader.check(\"q2_3\")"
   ]
  },
  {
   "cell_type": "markdown",
   "metadata": {},
   "source": [
    "To compute the average pay, we need to do this for every CEO.  But that looks like it would involve copying this code 102 times. No, thanks! 🙅\n",
    "\n",
    "This is where functions come in.  Suppose instead of `mark_hurd_pay_string`, we had a variable called `some_pay_string`, formatted in the same way as `mark_hurd_pay_string`, with a dollar sign followed by an amount. Now that we've done it for `mark_hurd_pay_string`, we could use essentially the same code on `some_pay_string` to extract the pay as a number of dollars. You'd just need to change `mark_hurd_pay_string` in your code to `some_pay_string`.\n",
    "\n",
    "**Question 2.4.** Inside the function below, type the word `return` (which should turn green), then copy the expression you used to compute `mark_hurd_pay`, but replace the specific `mark_hurd_pay_string` with the generic `some_pay_string`."
   ]
  },
  {
   "cell_type": "code",
   "execution_count": null,
   "metadata": {
    "for_assignment_type": "student"
   },
   "outputs": [],
   "source": [
    "def convert_pay_string_to_number(some_pay_string):\n",
    "    \"\"\"Converts a pay string like '$100' (in millions) to a number of dollars.\"\"\"\n",
    "    # After the word return, put your code to convert some_pay_string to a number of dollars\n",
    "    ..."
   ]
  },
  {
   "cell_type": "code",
   "execution_count": null,
   "metadata": {
    "deletable": false,
    "editable": false
   },
   "outputs": [],
   "source": [
    "grader.check(\"q2_4\")"
   ]
  },
  {
   "cell_type": "markdown",
   "metadata": {},
   "source": [
    "Here, we've defined a new function, giving a name to the expression that converts `'Total Pay'` strings to numeric values. This function can convert any string with the right format (like \"$100\") to a number representing millions of dollars. Later in this lab we'll see the payoff: we can call (use) that function on every pay string in the dataset at once."
   ]
  },
  {
   "cell_type": "markdown",
   "metadata": {},
   "source": [
    "We can call our function just like we call the built-in functions we've seen. It takes one argument, a string, and it returns a number."
   ]
  },
  {
   "cell_type": "code",
   "execution_count": null,
   "metadata": {},
   "outputs": [],
   "source": [
    "convert_pay_string_to_number('$42')"
   ]
  },
  {
   "cell_type": "code",
   "execution_count": null,
   "metadata": {},
   "outputs": [],
   "source": [
    "convert_pay_string_to_number(mark_hurd_pay_string)"
   ]
  },
  {
   "cell_type": "code",
   "execution_count": null,
   "metadata": {},
   "outputs": [],
   "source": [
    "# We can also compute Safra Catz's pay in the same way:\n",
    "convert_pay_string_to_number(raw_compensation.get('Total Pay').iloc[1])"
   ]
  },
  {
   "cell_type": "markdown",
   "metadata": {},
   "source": [
    "What have we gained?  Well, without the function, we'd have to copy that `float(some_pay_string.strip(\"$\")) * 1000000` stuff **each time** we wanted to convert a pay string.  Now we just call a function whose name says exactly what it's doing.\n",
    "\n",
    "Soon, we'll see how to apply this function to every pay string with a single expression. First, let's learn some more functions."
   ]
  },
  {
   "cell_type": "markdown",
   "metadata": {},
   "source": [
    "## 3. Defining Functions ➗\n",
    "\n",
    "Let's write a very simple function that converts a proportion to a percentage by multiplying it by 100.  For example, the value of `to_percentage(0.5)` should be the number 50.  (No percent sign.)\n",
    "\n",
    "A function definition has a few parts.\n",
    "\n",
    "##### `def`\n",
    "It always starts with `def` (short for **def**ine):\n",
    "\n",
    "    def\n",
    "\n",
    "##### Name\n",
    "Next comes the name of the function.  Let's call our function `to_percentage`.\n",
    "    \n",
    "    def to_percentage\n",
    "\n",
    "##### Signature\n",
    "Next comes something called the *signature* of the function.  This tells Python how many *arguments* your function should have, and what names you'll use to refer to those arguments in the function's code.  `to_percentage` should take one argument, and we'll call that argument `proportion` since it should be a proportion.\n",
    "\n",
    "    def to_percentage(proportion)\n",
    "\n",
    "We put a colon after the signature to tell Python it's over.\n",
    "\n",
    "    def to_percentage(proportion):\n",
    "\n",
    "##### Documentation\n",
    "Functions can do complicated things, so **you should write an explanation of what your function does**.  For small functions, this is less important, but it's a good habit to learn from the start.  Conventionally, Python functions are documented by writing a triple-quoted string:\n",
    "\n",
    "    def to_percentage(proportion):\n",
    "        \"\"\"Converts a proportion to a percentage.\"\"\"\n",
    "    \n",
    "    \n",
    "##### Body\n",
    "Now we start writing code that runs when the function is called.  This is called the *body* of the function.  We can write anything we could write anywhere else.  First let's give a name to the number we multiply a proportion by to get a percentage.\n",
    "\n",
    "    def to_percentage(proportion):\n",
    "        \"\"\"Converts a proportion to a percentage.\"\"\"\n",
    "        factor = 100\n",
    "\n",
    "##### `return`\n",
    "The special instruction `return` in a function's body tells Python to make the value of the function call equal to whatever comes right after `return`. The return statement also *ends the function* and once it's called *no lines in the body after it are run*. So, we want the value of `to_percentage(0.5)` to be the proportion 0.5 times the factor 100, so we write:\n",
    "\n",
    "    def to_percentage(proportion):\n",
    "        \"\"\"Converts a proportion to a percentage.\"\"\"\n",
    "        factor = 100\n",
    "        return proportion * factor"
   ]
  },
  {
   "cell_type": "markdown",
   "metadata": {},
   "source": [
    "**Question 3.1.** Define the function `to_percentage` in the cell below.  Call your function to convert the proportion `0.2` to a percentage.  Name that percentage `twenty_percent`."
   ]
  },
  {
   "cell_type": "code",
   "execution_count": null,
   "metadata": {
    "for_assignment_type": "student"
   },
   "outputs": [],
   "source": [
    "def to_percentage(proportion):\n",
    "    \"\"\" Converts a proportion to a percentage \"\"\"\n",
    "    ..."
   ]
  },
  {
   "cell_type": "code",
   "execution_count": null,
   "metadata": {
    "deletable": false,
    "editable": false
   },
   "outputs": [],
   "source": [
    "grader.check(\"q3_1_1\")"
   ]
  },
  {
   "cell_type": "code",
   "execution_count": null,
   "metadata": {},
   "outputs": [],
   "source": [
    "twenty_percent = ...\n",
    "twenty_percent"
   ]
  },
  {
   "cell_type": "code",
   "execution_count": null,
   "metadata": {
    "deletable": false,
    "editable": false
   },
   "outputs": [],
   "source": [
    "grader.check(\"q3_1_2\")"
   ]
  },
  {
   "cell_type": "markdown",
   "metadata": {},
   "source": [
    "Like the built-in functions, you can pass in variable names as arguments to your function.\n",
    "\n",
    "**Question 3.2.** Use `to_percentage` again to convert the proportion named `a_proportion` (defined below) to a percentage called `a_percentage`.\n",
    "\n",
    "*Note:* You don't need to define `to_percentage` again!  Just like other named things, functions stick around after you define them."
   ]
  },
  {
   "cell_type": "code",
   "execution_count": null,
   "metadata": {},
   "outputs": [],
   "source": [
    "a_proportion = 2**(0.5) / 2"
   ]
  },
  {
   "cell_type": "code",
   "execution_count": null,
   "metadata": {},
   "outputs": [],
   "source": [
    "a_percentage = ...\n",
    "a_percentage"
   ]
  },
  {
   "cell_type": "code",
   "execution_count": null,
   "metadata": {
    "deletable": false,
    "editable": false
   },
   "outputs": [],
   "source": [
    "grader.check(\"q3_2\")"
   ]
  },
  {
   "cell_type": "markdown",
   "metadata": {},
   "source": [
    "Here's an important fact about functions: the variable names assigned within a function's body are only accessible within that function's body. Once the function has returned, those names are gone. So even though you defined `factor = 100` inside `to_percentage` above and then called `to_percentage`, the variable name `factor` has no meaning outside the body of `to_percentage`.\n",
    "\n",
    "To show you what we mean, run the following cell. **It intentionally causes an error**. 🚨 When you're done, comment it out."
   ]
  },
  {
   "cell_type": "code",
   "execution_count": null,
   "metadata": {
    "tags": [
     "raises-exception"
    ]
   },
   "outputs": [],
   "source": [
    "# You should see an error when you run this.  (If you don't, you might\n",
    "# have defined factor somewhere above.) Comment this code out\n",
    "# after running it to prevent the error in the future.\n",
    "\n",
    "factor"
   ]
  },
  {
   "cell_type": "markdown",
   "metadata": {},
   "source": [
    "If we wanted to, we could define a new variable with the name `factor` outside of the definition of `to_percentage`, and it could have any value we want."
   ]
  },
  {
   "cell_type": "markdown",
   "metadata": {},
   "source": [
    "As we've seen with the built-in functions, functions can also take strings (or arrays, or DataFrames) as arguments, and they can return those things, too.\n",
    "\n",
    "**Question 3.3.** Define a function called `disemvowel`.  It should take a single string as its argument.  (You can call that argument whatever you want.)  It should return a copy of that string, but with all the characters that are vowels removed. You can assume that `disemvowel` will only be called on lowercase strings, meaning that you only have to get rid of lowercase vowels. (In English, the vowels are the characters \"a\", \"e\", \"i\", \"o\", and \"u\". We won't count \"y\".)\n",
    "\n",
    "*Hint:* To remove all the \"a\"s from a string, you can use `that_string.replace(\"a\", \"\")`.  And you can call `replace` multiple times."
   ]
  },
  {
   "cell_type": "code",
   "execution_count": null,
   "metadata": {},
   "outputs": [],
   "source": [
    "def disemvowel(a_string):\n",
    "    ...\n",
    "    \n",
    "# An example call to your function. (It's often helpful to run\n",
    "# an example call from time to time while you're writing a function,\n",
    "# to see how it currently works.)\n",
    "disemvowel(\"can you read this without vowels?\")"
   ]
  },
  {
   "cell_type": "code",
   "execution_count": null,
   "metadata": {
    "deletable": false,
    "editable": false
   },
   "outputs": [],
   "source": [
    "grader.check(\"q3_3\")"
   ]
  },
  {
   "cell_type": "markdown",
   "metadata": {},
   "source": [
    "##### Calls on calls on calls\n",
    "Just as you write a series of lines to build up a complex computation, it's useful to define a series of small functions that build on each other.  Since you can write any code inside a function's body, you can call other functions you've written.\n",
    "\n",
    "If a function is a like a recipe, defining a function in terms of other functions is like having a recipe for cake 🍰 telling you to follow another recipe to make the frosting, and another to make the filling.  This makes the cake recipe shorter and clearer, and it avoids having a bunch of duplicated frosting recipes.  It's a foundation of productive programming.\n",
    "\n",
    "For example, suppose you want to count the number of characters *that aren't vowels* in a piece of text.  One way to do that is this to remove all the vowels and count the size of the remaining string.\n",
    "\n",
    "**Question 3.4.** Write a function called `num_non_vowels`.  It should take a string as its argument and return a number.  The number should be the number of characters in the argument string that aren't vowels. Again, you can assume that `num_non_vowels` will only be called on lowercase strings.\n",
    "\n",
    "*Hint:* The function `len` takes a string as its argument and returns the number of characters in it."
   ]
  },
  {
   "cell_type": "code",
   "execution_count": null,
   "metadata": {},
   "outputs": [],
   "source": [
    "def num_non_vowels(a_string):\n",
    "    \"\"\"The number of characters in a string, not counting any vowels.\"\"\"\n",
    "    ..."
   ]
  },
  {
   "cell_type": "code",
   "execution_count": null,
   "metadata": {
    "deletable": false,
    "editable": false
   },
   "outputs": [],
   "source": [
    "grader.check(\"q3_4\")"
   ]
  },
  {
   "cell_type": "markdown",
   "metadata": {},
   "source": [
    "Functions can also encapsulate code that *does things* rather than just computing values.  For example, if you call `print` inside a function, and then call that function, something will get printed.\n",
    "\n",
    "The `movies_by_year` dataset in the course notes has information about movie sales in recent years.  Suppose you'd like to display the year with the 5th-highest total gross movie sales, printed in a human-readable way.  You might do this:"
   ]
  },
  {
   "cell_type": "code",
   "execution_count": null,
   "metadata": {},
   "outputs": [],
   "source": [
    "movies_by_year = bpd.read_csv(\"data/movies_by_year.csv\").set_index('Year')\n",
    "rank = 5\n",
    "fifth_from_top_movie_year = movies_by_year.sort_values(by='Total Gross', ascending=False).index[rank-1]\n",
    "\n",
    "print(\"Year number\", rank, \"for total gross movie sales was\", fifth_from_top_movie_year)"
   ]
  },
  {
   "cell_type": "markdown",
   "metadata": {},
   "source": [
    "After writing this, you realize you also wanted to print out the 2nd and 3rd-highest years.  Instead of copying your code, you decide to put it in a function.  Since the rank varies, you make that an argument to your function.\n",
    "\n",
    "**Question 3.5.** Write a function called `print_kth_top_movie_year`.  It should take a single argument, the rank of the year (like 2, 3, or 5 in the above examples).  It should print out a message like the one above.  It shouldn't have a `return` statement, because we want the function to print, not return."
   ]
  },
  {
   "cell_type": "code",
   "execution_count": null,
   "metadata": {
    "for_assignment_type": "student"
   },
   "outputs": [],
   "source": [
    "def print_kth_top_movie_year(k):\n",
    "    ..."
   ]
  },
  {
   "cell_type": "code",
   "execution_count": null,
   "metadata": {},
   "outputs": [],
   "source": [
    "# Example calls to your function:\n",
    "print_kth_top_movie_year(2)\n",
    "print_kth_top_movie_year(3)"
   ]
  },
  {
   "cell_type": "markdown",
   "metadata": {},
   "source": [
    "## 4. Applying Functions 🩹\n",
    "\n",
    "Defining a function is a lot like giving a name to a value with `=`.  In fact, a function is a value just like the number 1 or the string `\"hey\"`!\n",
    "\n",
    "For example, we can make a new name for the built-in function `max` if we want:"
   ]
  },
  {
   "cell_type": "code",
   "execution_count": null,
   "metadata": {},
   "outputs": [],
   "source": [
    "the_largest_of = max\n",
    "the_largest_of(2, 6)"
   ]
  },
  {
   "cell_type": "markdown",
   "metadata": {},
   "source": [
    "The old name for `max` is still around:"
   ]
  },
  {
   "cell_type": "code",
   "execution_count": null,
   "metadata": {},
   "outputs": [],
   "source": [
    "max(2, 6)"
   ]
  },
  {
   "cell_type": "markdown",
   "metadata": {},
   "source": [
    "Try just writing `max` or `the_largest_of` (or the name of any other function) in a cell, and run that cell.  Python will print out a (very brief) description of the function."
   ]
  },
  {
   "cell_type": "code",
   "execution_count": null,
   "metadata": {},
   "outputs": [],
   "source": [
    "max"
   ]
  },
  {
   "cell_type": "markdown",
   "metadata": {},
   "source": [
    "Why is this useful?  Since functions are just values, it's possible to pass them as arguments to other functions.  Here's a simple but not-so-practical example: we can make an array of functions."
   ]
  },
  {
   "cell_type": "code",
   "execution_count": null,
   "metadata": {},
   "outputs": [],
   "source": [
    "np.array([max, np.average, type])"
   ]
  },
  {
   "cell_type": "markdown",
   "metadata": {},
   "source": [
    "**Question 4.1.** Make an array containing any 3 other functions you've seen.  Call it `some_functions`."
   ]
  },
  {
   "cell_type": "code",
   "execution_count": null,
   "metadata": {},
   "outputs": [],
   "source": [
    "some_functions = ...\n",
    "some_functions"
   ]
  },
  {
   "cell_type": "code",
   "execution_count": null,
   "metadata": {
    "deletable": false,
    "editable": false
   },
   "outputs": [],
   "source": [
    "grader.check(\"q4_1\")"
   ]
  },
  {
   "cell_type": "markdown",
   "metadata": {},
   "source": [
    "Working with functions as values can lead to some funny-looking code.  For example, see if you can figure out how this line of code works:"
   ]
  },
  {
   "cell_type": "code",
   "execution_count": null,
   "metadata": {},
   "outputs": [],
   "source": [
    "np.array([max, np.average, type])[0](4, -2, 7)"
   ]
  },
  {
   "cell_type": "markdown",
   "metadata": {},
   "source": [
    "Here's a simpler example that's actually useful: the Series method `apply`.\n",
    "`apply` calls a function many times, once on *each* element of a Series, which typically comes from a column of a DataFrame. It produces a Series of the results, which we may want to then add to a DataFrame.\n",
    "\n",
    "Here's an example. Remember that the `'Total Pay'` column of the `raw_compensation` DataFrame contained strings:"
   ]
  },
  {
   "cell_type": "code",
   "execution_count": null,
   "metadata": {},
   "outputs": [],
   "source": [
    "raw_compensation.get(\"Total Pay\")"
   ]
  },
  {
   "cell_type": "markdown",
   "metadata": {},
   "source": [
    "We wrote a function, `convert_pay_string_to_number`, that converts one of these strings to a number.\n",
    "Here we use `apply` to convert every CEO's pay to a number, using the function you defined:"
   ]
  },
  {
   "cell_type": "markdown",
   "metadata": {},
   "source": [
    "Here's an illustration of what that did:\n",
    "\n",
    "<img src=\"data/apply.png\" width=700/>\n",
    "\n",
    "Note that we didn't write something like `convert_pay_string_to_number()` or `convert_pay_string_to_number(\"Total Pay\")`.  The job of `apply` is to call the function we give it, so instead of calling `convert_pay_string_to_number` ourselves, we just write its name as an argument to `apply`.\n",
    "\n",
    "**Question 4.2.** Using `apply`, make a DataFrame that's a copy of `raw_compensation` with one more column called `'Total_Pay_Dollars'`.  It should be the result of applying `convert_pay_string_to_number` to the `'Total Pay'` column, as we did above.  Call the new DataFrame `compensation`."
   ]
  },
  {
   "cell_type": "code",
   "execution_count": null,
   "metadata": {},
   "outputs": [],
   "source": [
    "compensation = ...\n",
    "compensation"
   ]
  },
  {
   "cell_type": "code",
   "execution_count": null,
   "metadata": {
    "deletable": false,
    "editable": false
   },
   "outputs": [],
   "source": [
    "grader.check(\"q4_2\")"
   ]
  },
  {
   "cell_type": "markdown",
   "metadata": {},
   "source": [
    "Now that we have the pay in numbers, we can perform arithmetic operations (and, as a result, compute numerical summaries) on the pay values.\n",
    "\n",
    "**Question 4.3.** Compute the average total pay of the CEOs in the dataset."
   ]
  },
  {
   "cell_type": "code",
   "execution_count": null,
   "metadata": {},
   "outputs": [],
   "source": [
    "average_total_pay = ...\n",
    "average_total_pay"
   ]
  },
  {
   "cell_type": "code",
   "execution_count": null,
   "metadata": {
    "deletable": false,
    "editable": false
   },
   "outputs": [],
   "source": [
    "grader.check(\"q4_3\")"
   ]
  },
  {
   "cell_type": "markdown",
   "metadata": {},
   "source": [
    "**Question 4.4.** Companies pay executives in a variety of ways: directly in cash; by granting stock or other \"equity\" in the company; or with ancillary benefits (like private jets ✈️).  Compute the proportion of each CEO's pay that was cash.  (Your answer should be a Series.)"
   ]
  },
  {
   "cell_type": "code",
   "execution_count": null,
   "metadata": {
    "scrolled": true
   },
   "outputs": [],
   "source": [
    "cash_proportion = ...\n",
    "cash_proportion"
   ]
  },
  {
   "cell_type": "code",
   "execution_count": null,
   "metadata": {
    "deletable": false,
    "editable": false
   },
   "outputs": [],
   "source": [
    "grader.check(\"q4_4\")"
   ]
  },
  {
   "cell_type": "markdown",
   "metadata": {},
   "source": [
    "Look closely at the result. The last line has a strange-looking value, `NaN`. `NaN` stands for \"not a number\".\n",
    "\n",
    "<img width=500 src=\"data/nan.png\"/>"
   ]
  },
  {
   "cell_type": "markdown",
   "metadata": {},
   "source": [
    "Let's look at the last few lines of the DataFrame:"
   ]
  },
  {
   "cell_type": "code",
   "execution_count": null,
   "metadata": {
    "scrolled": true
   },
   "outputs": [],
   "source": [
    "compensation.take(np.arange(-5, 0))"
   ]
  },
  {
   "cell_type": "markdown",
   "metadata": {},
   "source": [
    "Notice anything strange? \n",
    "\n",
    "**Question 4.5.** Why did we get the `NaN`?  Assign either 1, 2, or 3 to the name `apply_part5` below. \n",
    "1. The proportion would be 0.  Python can only calculate nonzero numbers.\n",
    "2. The `'Ratio of CEO pay to average industry worker pay'` rounds to 0, which Python does not know how to handle.\n",
    "3. The calculation is dividing by 0, so the result isn't a number."
   ]
  },
  {
   "cell_type": "code",
   "execution_count": null,
   "metadata": {},
   "outputs": [],
   "source": [
    "apply_part5 = ..."
   ]
  },
  {
   "cell_type": "code",
   "execution_count": null,
   "metadata": {
    "deletable": false,
    "editable": false
   },
   "outputs": [],
   "source": [
    "grader.check(\"q4_5\")"
   ]
  },
  {
   "cell_type": "markdown",
   "metadata": {},
   "source": [
    "A lot of real data is messy.  It might contain zeros, empty values, or `NaN`'s (not-a-number) that we need to watch out for when performing calculations! "
   ]
  },
  {
   "cell_type": "markdown",
   "metadata": {},
   "source": [
    "Alright, back to our CEOs.  Check out the `'% Change'` column in `compensation`.  It shows the percentage increase in the CEO's pay from the previous year.  For CEOs with no previous year on record, it instead says `'(No previous year)'`.  The values in this column are *strings*, not numbers, so like the `'Total Pay'` column, it's not usable without a bit of extra work.\n",
    "\n",
    "Given your current pay and the percentage increase from the previous year, you can compute your previous year's pay. This year's pay and last year's pay are related by the formula:\n",
    "\n",
    "$$\\text{this year's pay} = \\text{last year's pay} \\cdot \\left(1+\\dfrac{\\text{percent increase}}{100}\\right)$$\n",
    "\n",
    "For example, if you made \\$600 last year and your pay increased by 50\\%, then \n",
    "\n",
    "$$\\begin{align}\n",
    "\\text{this year's pay} &= \\text{600} \\cdot \\left(1+\\dfrac{\\text{50}}{100}\\right)\\\\\n",
    "&= \\text{600} \\cdot (1.5) \\\\\n",
    "&= 900\n",
    "\\end{align}$$\n",
    "\n",
    "Since we know how this year's pay and last year's pay are mathematically related, we can solve this equation for last year's pay to give a formula for the previous year's pay if we know the current year's pay and the percent increase from the previous year to the current year. Doing some algebra, we find:\n",
    "\n",
    "$$\\text{last year's pay} = \\dfrac{\\text{this year's pay}}{\\left(1+\\dfrac{\\text{percent increase}}{100}\\right)}$$\n",
    "\n",
    "**Question 4.6.** Create a new DataFrame called `with_previous_compensation`.  It should be a copy of `compensation`, but with the `'(No previous year)'` CEOs filtered out, and with an extra column called `'Previous_Total_Pay'`.  That column should have each CEO's pay in 2014.\n",
    "\n",
    "*Hints:* \n",
    "- This question takes several steps, but each one involves something you've already learned how to do.  Take it one step at a time, using as many lines as you need.  You can print out your results after each step to make sure you're on the right track.\n",
    "- You'll need to define a function to convert percentage strings, like `'-15%'`, to numbers.  You can do that just above your other code.\n",
    "- If you see an error saying `unsupported operand type(s) for +: 'int' and 'Series'`, try switching the order of your operation. Instead of writing something like `1 + series`, write `series + 1`.\n",
    "\n",
    "*Note:* Don't use the `~` symbol anywhere inside your code, or the Gradescope autograder may not be able to grade your work."
   ]
  },
  {
   "cell_type": "code",
   "execution_count": null,
   "metadata": {
    "for_assignment_type": "student"
   },
   "outputs": [],
   "source": [
    "# You can write code to perform intermediate steps here!\n",
    "with_previous_compensation = ...\n",
    "with_previous_compensation"
   ]
  },
  {
   "cell_type": "code",
   "execution_count": null,
   "metadata": {
    "deletable": false,
    "editable": false
   },
   "outputs": [],
   "source": [
    "grader.check(\"q4_6\")"
   ]
  },
  {
   "cell_type": "markdown",
   "metadata": {},
   "source": [
    "**Question 4.7.** What was the average pay of these CEOs in 2014?"
   ]
  },
  {
   "cell_type": "code",
   "execution_count": null,
   "metadata": {},
   "outputs": [],
   "source": [
    "average_pay_2014 = ...\n",
    "average_pay_2014"
   ]
  },
  {
   "cell_type": "code",
   "execution_count": null,
   "metadata": {
    "deletable": false,
    "editable": false
   },
   "outputs": [],
   "source": [
    "grader.check(\"q4_7\")"
   ]
  },
  {
   "cell_type": "markdown",
   "metadata": {},
   "source": [
    "## 5. Distribution of Wealth 💰\n",
    "Earlier, we computed the average pay among the CEOs in our 102-CEO dataset.  The average doesn't tell us everything about the amounts CEOs are paid, though.  Maybe just a few CEOs make the bulk of the money, even among these 102.\n",
    "\n",
    "We can use a *density histogram* to display more information about a set of numbers.  [Here's an example](https://dsc10.com/resources/lectures/lec07/lec07.html#Plotting-a-density-histogram) of the code that we use to create histograms. \n",
    "\n",
    "**Question 5.1.** Make a density histogram of the pay of the CEOs in `compensation`. "
   ]
  },
  {
   "cell_type": "code",
   "execution_count": null,
   "metadata": {},
   "outputs": [],
   "source": [
    "# Place your code here\n",
    "..."
   ]
  },
  {
   "cell_type": "markdown",
   "metadata": {},
   "source": [
    "**Question 5.2.** Looking at the histogram, about how many CEOs made more than \\$30 million? Make a good guess. (Answer the question by filling in your answer manually.  You'll have to do a bit of arithmetic; feel free to use Python as a calculator.)"
   ]
  },
  {
   "cell_type": "code",
   "execution_count": null,
   "metadata": {},
   "outputs": [],
   "source": [
    "num_ceos_more_than_30_million = ..."
   ]
  },
  {
   "cell_type": "code",
   "execution_count": null,
   "metadata": {
    "deletable": false,
    "editable": false
   },
   "outputs": [],
   "source": [
    "grader.check(\"q5_2\")"
   ]
  },
  {
   "cell_type": "markdown",
   "metadata": {},
   "source": [
    "**Question 5.3.** Answer the same question with code. That is, find the number of CEOs with a total pay of over \\$30 million using code, and assign the result to the name `num_ceos_more_than_30_million_code`."
   ]
  },
  {
   "cell_type": "code",
   "execution_count": null,
   "metadata": {},
   "outputs": [],
   "source": [
    "num_ceos_more_than_30_million_code = ...\n",
    "num_ceos_more_than_30_million_code"
   ]
  },
  {
   "cell_type": "code",
   "execution_count": null,
   "metadata": {
    "deletable": false,
    "editable": false
   },
   "outputs": [],
   "source": [
    "grader.check(\"q5_3\")"
   ]
  },
  {
   "cell_type": "markdown",
   "metadata": {},
   "source": [
    "Run the next cell if you want to see how far off you were."
   ]
  },
  {
   "cell_type": "code",
   "execution_count": null,
   "metadata": {},
   "outputs": [],
   "source": [
    "percent_diff = abs(num_ceos_more_than_30_million - num_ceos_more_than_30_million_code) / num_ceos_more_than_30_million_code\n",
    "print(f\"Your guess was only {percent_diff * 100}% off!\")"
   ]
  },
  {
   "cell_type": "markdown",
   "metadata": {},
   "source": [
    "# Finish Line 🏁\n",
    "\n",
    "Congratulations! You are done with Lab 2.\n",
    "\n",
    "To submit your assignment:\n",
    "\n",
    "1. Select `Kernel -> Restart & Run All` to ensure that you have executed all cells, including the test cells.\n",
    "2. Read through the notebook to make sure everything is fine and all tests passed.\n",
    "3. Run the cell below to run all tests, and make sure that they all pass.\n",
    "4. Download your notebook using `File -> Download as -> Notebook (.ipynb)`, then upload your notebook to Gradescope.\n",
    "5. Stick around while the Gradescope autograder grades your work. Make sure you see that all tests have passed on Gradescope.\n",
    "6. Check that you have a confirmation email from Gradescope and save it as proof of your submission."
   ]
  },
  {
   "cell_type": "code",
   "execution_count": null,
   "metadata": {
    "scrolled": true
   },
   "outputs": [],
   "source": [
    "# For your convenience, you can run this cell to run all the tests at once!\n",
    "grader.check_all()"
   ]
  }
 ],
 "metadata": {
  "anaconda-cloud": {},
  "kernelspec": {
   "display_name": "Python 3 (ipykernel)",
   "language": "python",
   "name": "python3"
  },
  "language_info": {
   "codemirror_mode": {
    "name": "ipython",
    "version": 3
   },
   "file_extension": ".py",
   "mimetype": "text/x-python",
   "name": "python",
   "nbconvert_exporter": "python",
   "pygments_lexer": "ipython3",
   "version": "3.9.12"
  },
  "toc": {
   "base_numbering": 1,
   "nav_menu": {},
   "number_sections": true,
   "sideBar": true,
   "skip_h1_title": false,
   "title_cell": "Table of Contents",
   "title_sidebar": "Contents",
   "toc_cell": false,
   "toc_position": {},
   "toc_section_display": true,
   "toc_window_display": false
  }
 },
 "nbformat": 4,
 "nbformat_minor": 4
}
