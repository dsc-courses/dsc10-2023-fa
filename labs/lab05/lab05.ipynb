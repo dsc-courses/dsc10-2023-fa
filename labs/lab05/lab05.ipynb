{
 "cells": [
  {
   "cell_type": "markdown",
   "metadata": {},
   "source": [
    "# Lab 5:  Variability and the Normal Distribution\n",
    "\n",
    "## Due Saturday, November 18th at 11:59PM"
   ]
  },
  {
   "cell_type": "markdown",
   "metadata": {},
   "source": [
    "Welcome to Lab 5! In this lab you will practice calculating variance and standard deviation, and converting values to standard units. You will use these skills to compare grades in a course and you will use Chebyshev’s inequality to predict how hard the students should work in order to rank in the top 5% of the class. Finally, you will use confidence intervals to help college administrators plan for next quarter by predicting the enrollment in a new course. The topics from this lab are covered in the following readings:\n",
    "* [CIT 14.2](https://www.inferentialthinking.com/chapters/14/2/Variability.html): Variability, Standard Deviation, Standard units, Chebyshev's Bounds.\n",
    "* [CIT 14.3](https://www.inferentialthinking.com/chapters/14/3/SD_and_the_Normal_Curve.html): The Standard Deviation (SD) and the Normal Curve \n",
    "* [CIT 14.4](https://www.inferentialthinking.com/chapters/14/4/Central_Limit_Theorem.html): The Central Limit Theorem\n",
    "* [CIT 14.5](https://www.inferentialthinking.com/chapters/14/5/Variability_of_the_Sample_Mean.html): The Variability of the Sample Mean\n",
    "* [CIT 14.6](https://inferentialthinking.com/chapters/14/6/Choosing_a_Sample_Size.html): Choosing a Sample Size\n",
    "\n",
    "You should complete this entire lab so that all tests pass and submit it to Gradescope by 11:59PM on the due date."
   ]
  },
  {
   "cell_type": "markdown",
   "metadata": {},
   "source": [
    "As usual, **run the cell** below to prepare the lab and the automatic tests."
   ]
  },
  {
   "cell_type": "code",
   "execution_count": null,
   "metadata": {},
   "outputs": [],
   "source": [
    "import numpy as np\n",
    "import babypandas as bpd\n",
    "\n",
    "import matplotlib.pyplot as plt\n",
    "plt.style.use('ggplot')\n",
    "plt.rcParams['figure.figsize'] = (10, 5)\n",
    "\n",
    "import otter\n",
    "grader = otter.Notebook()\n",
    "%reload_ext pandas_tutor"
   ]
  },
  {
   "cell_type": "markdown",
   "metadata": {},
   "source": [
    "## 1. Comparing Grades Using Standard Units\n",
    "\n",
    "Two of your friends, Jasmine and Chaninder, just took their midterms. Jasmine took her BILD 1 midterm and Chaninder took his MATH 18 midterm. Jasmine received a **B+** on her midterm (87%) and Chaninder received an **A-** (92%). Jasmine claims that while she received a lower grade on her midterm, she actually did better (relative to the rest of the class) than Chaninder. Chaninder disagrees. Knowing that you are taking DSC 10, your two friends come to you to settle their argument. \n",
    "\n",
    "They show you two DataFrames: `bild_midterm` and `math_midterm` that represent the grades for their classes. Both exams are out of 100 points.  Each DataFrame has a column called `'Student'` with student ID numbers and `'Score'` with the midterm scores."
   ]
  },
  {
   "cell_type": "markdown",
   "metadata": {},
   "source": [
    "_Note:_ You do ***not*** need to make any changes to the below cell. It is for you to visualize the two datasets."
   ]
  },
  {
   "cell_type": "code",
   "execution_count": null,
   "metadata": {},
   "outputs": [],
   "source": [
    "# Jasmine's exam\n",
    "bild_midterm = bpd.read_csv(\"data/bild1_scores.csv\")\n",
    "bild_midterm.plot(y='Score', kind='hist', density=True, bins=range(0, 101, 1), ec='w', title='Distribution of BILD 1 Midterm Scores')\n",
    "Jasmine_score = 87\n",
    "print(\"Jasmine's Score (BILD 1): \" + str(Jasmine_score))\n",
    "\n",
    "# Chaninder's exam\n",
    "math_midterm = bpd.read_csv(\"data/math18_scores.csv\")\n",
    "math_midterm.plot(y='Score', kind='hist', density=True, bins=range(0, 101, 1), ec='w', title='Distribution of MATH 18 Midterm Scores')\n",
    "Chaninder_score = 92\n",
    "print(\"Chaninder's Score (MATH 18): \" + str(Chaninder_score))"
   ]
  },
  {
   "cell_type": "markdown",
   "metadata": {},
   "source": [
    "You know that instead of comparing their actual scores, you should first convert their scores into **standard units**. Recall from [Lecture 17](https://dsc10.com/resources/lectures/lec17/lec17.html#Standard-units) that if $x$ is a numerical variable, and $x_i$ is one value of the variable, then\n",
    "\n",
    "$$x_{i \\: \\text{(su)}} = \\frac{x_i - \\text{mean of $x$}}{\\text{SD of $x$}}$$\n",
    "\n",
    "represents $x_i$ in **standard units** – the number of standard deviations $x_i$ is above the mean."
   ]
  },
  {
   "cell_type": "markdown",
   "metadata": {},
   "source": [
    "To compute the midterm score in standard units for each friend, we need to:\n",
    "1. Compute the **average** grade for each class. We will use the Series method `.mean()` to do this.\n",
    "2. Compute the **standard deviation** (SD) of the midterm scores for each class. We *could* use `np.std`, but we will write our own function to do that.\n",
    "\n",
    "Note that standard deviation is the square root of variance. So, we'll proceed by defining a function that computes the **variance** first. Recall that the variance is the mean squared deviation from the average:"
   ]
  },
  {
   "cell_type": "markdown",
   "metadata": {},
   "source": [
    "$$\\text{variance} = \\frac{(\\text{value}_1 - \\text{average})^2 + (\\text{value}_2 - \\text{average})^2 +...+ (\\text{value}_n - \\text{average})^2}{n}$$\n",
    "where $n$ is the number of values (e.g. number of exam scores, in our case).\n"
   ]
  },
  {
   "cell_type": "markdown",
   "metadata": {},
   "source": [
    "**Question 1.1.** Complete the function `compute_variance`. It takes as input a *Series of numbers* (`data`) and returns the variance as a single number. \n",
    "\n",
    "Then, use the `compute_variance` function to compute the variance of the two classes' midterm scores, and assign them to the two specified variable names.\n",
    "\n",
    "**Do not** use `np.std` in your solution. Instead, use the above formula for variance as guidance."
   ]
  },
  {
   "cell_type": "code",
   "execution_count": null,
   "metadata": {},
   "outputs": [],
   "source": [
    "def compute_variance(data):\n",
    "    n = ...\n",
    "    average = ...\n",
    "    sum_squared_diff = ...\n",
    "    variance = sum_squared_diff / n \n",
    "    return variance\n",
    "\n",
    "\n",
    "bild_midterm_var = ...\n",
    "print(\"Variance of BILD 1 midterm: \" + str(bild_midterm_var))\n",
    "\n",
    "math_midterm_var = ...\n",
    "print(\"Variance of MATH 18 midterm: \" + str(math_midterm_var))"
   ]
  },
  {
   "cell_type": "code",
   "execution_count": null,
   "metadata": {
    "deletable": false,
    "editable": false
   },
   "outputs": [],
   "source": [
    "grader.check(\"q1_1\")"
   ]
  },
  {
   "cell_type": "markdown",
   "metadata": {
    "deletable": false,
    "editable": false
   },
   "source": [
    "**Question 1.2.** Now that we have a function that computes the variance, we want to write a function that computes the standard deviation. Fill in the missing code to complete the function `compute_sd`. It takes as input a *series of numbers* (`data`) and returns the *standard deviation* as a single number. \n",
    "\n",
    "Then, use the `compute_sd` function to compute the standard deviation of scores of the two midterms.\n",
    "\n",
    "_Hint:_ Your implementation of `compute_sd` should only take ***one line***, that involves both the `return` keyword and the function `compute_variance`.\n",
    "\n",
    "<!--\n",
    "BEGIN QUESTION\n",
    "name: q1_2\n",
    "-->"
   ]
  },
  {
   "cell_type": "code",
   "execution_count": null,
   "metadata": {},
   "outputs": [],
   "source": [
    "def compute_sd(data):\n",
    "    ...\n",
    "\n",
    "bild_midterm_sd = ...\n",
    "print(\"Standard Deviation of BILD 1 midterm: \" + str(bild_midterm_sd))\n",
    "\n",
    "math_midterm_sd = ...\n",
    "print(\"Standard Deviation of MATH 18 midterm: \" + str(math_midterm_sd))"
   ]
  },
  {
   "cell_type": "code",
   "execution_count": null,
   "metadata": {
    "deletable": false,
    "editable": false
   },
   "outputs": [],
   "source": [
    "grader.check(\"q1_2\")"
   ]
  },
  {
   "cell_type": "markdown",
   "metadata": {},
   "source": [
    "**Question 1.3.** Now that you can compute the standard deviation, you are equipped to write a function that converts a given score to standard units. Fill in the missing code to complete the function `compute_su`. It takes in a *score* (`score`), the *average score* (`avg`), and the *standard deviation* (`sd`), and returns the score in standard units.\n",
    "\n",
    "Then, use the `compute_su` function to transform the scores earned by each friend into standard units.\n",
    "\n",
    "**Warning**: Be careful with the order of operations!"
   ]
  },
  {
   "cell_type": "code",
   "execution_count": null,
   "metadata": {},
   "outputs": [],
   "source": [
    "def compute_su(score, avg, sd):\n",
    "    standard_units = ...\n",
    "    return standard_units\n",
    "\n",
    "Jasmine_su = ...\n",
    "print(\"Jasmine's Score in Standard Units: \" + str(Jasmine_su))\n",
    "\n",
    "Chaninder_su = ...\n",
    "print(\"Chaninder's Score in Standard Units: \" + str(Chaninder_su))"
   ]
  },
  {
   "cell_type": "code",
   "execution_count": null,
   "metadata": {
    "deletable": false,
    "editable": false
   },
   "outputs": [],
   "source": [
    "grader.check(\"q1_3\")"
   ]
  },
  {
   "cell_type": "markdown",
   "metadata": {},
   "source": [
    "**Question 1.4.** Jasmine's score *is* higher than Chaninder's score when we convert to standard units, which can be seen as evidence that she did better on her exam relative to her classmates than Chaninder did relative to his. \n",
    "\n",
    "Another way to measure their relative performances is to calculate, for both Jasmine and Chaninder individually, the proportion of students they scored higher than (or the same as). Comparing Jasmine's proportion to Chaninder's proportion will give us another way of measuring who did better relative to their classmates. Calculate Jasmine's proportion and Chaninder's proportion below. (This will require looking at both `bild_midterm` and `math_midterm`.)"
   ]
  },
  {
   "cell_type": "code",
   "execution_count": null,
   "metadata": {},
   "outputs": [],
   "source": [
    "Jasmine_proportion = ...\n",
    "print(\"Jasmine's Proportion: \" + str(Jasmine_proportion))\n",
    "\n",
    "Chaninder_proportion = ...\n",
    "print(\"Chaninder's Proportion: \" + str(Chaninder_proportion))"
   ]
  },
  {
   "cell_type": "code",
   "execution_count": null,
   "metadata": {
    "deletable": false,
    "editable": false
   },
   "outputs": [],
   "source": [
    "grader.check(\"q1_4\")"
   ]
  },
  {
   "cell_type": "markdown",
   "metadata": {},
   "source": [
    "## 2. Chebyshev's Bounds and Normal Curves\n",
    "\n",
    "Lets look at the histograms of the scores of the two midterms again."
   ]
  },
  {
   "cell_type": "code",
   "execution_count": null,
   "metadata": {},
   "outputs": [],
   "source": [
    "bild_midterm.plot(y='Score', kind='hist', density=True, bins=range(0, 101, 1), ec='w', title='Distribution of BILD 1 Midterm Scores');\n",
    "math_midterm.plot(y='Score', kind='hist', density=True, bins=range(0, 101, 1), ec='w', title='Distribution of MATH 18 Midterm Scores');"
   ]
  },
  {
   "cell_type": "markdown",
   "metadata": {},
   "source": [
    "**Question 2.1.** Which of the two graphs roughly resembles a normal curve? Assign the variable `q2_1` to either 1, 2, 3, or 4.\n",
    "\n",
    "1. Only the first graph (distribution of BILD 1 midterm scores) is roughly normal.\n",
    "2. Only the lower graph (distribution of MATH 18 midterm scores) is roughly normal.\n",
    "3. Both graphs are roughly normal.\n",
    "4. Neither graph is roughly normal.\n",
    "\n",
    "Remember all normal curves have the following characteristics:\n",
    "\n",
    "* The mean (average) is always in the center of a normal curve.\n",
    "* A normal curve has only one mode (peak)."
   ]
  },
  {
   "cell_type": "code",
   "execution_count": null,
   "metadata": {},
   "outputs": [],
   "source": [
    "q2_1 = ...\n",
    "q2_1"
   ]
  },
  {
   "cell_type": "code",
   "execution_count": null,
   "metadata": {
    "deletable": false,
    "editable": false
   },
   "outputs": [],
   "source": [
    "grader.check(\"q2_1\")"
   ]
  },
  {
   "cell_type": "markdown",
   "metadata": {},
   "source": [
    "**Question 2.2.**\n",
    "By looking at the distribution of MATH 18 midterm scores above, rank the following values in order **from smallest to largest**.\n",
    "\n",
    "1. The mean score.\n",
    "2. The median score.\n",
    "3. The most common score (the mode).\n",
    "\n",
    "Set variable `q2_2` to a list containing the numbers 1, 2, 3 **in the appropriate order**. Don't compute any of these values manually!"
   ]
  },
  {
   "cell_type": "code",
   "execution_count": null,
   "metadata": {},
   "outputs": [],
   "source": [
    "q2_2 = ...\n",
    "q2_2"
   ]
  },
  {
   "cell_type": "code",
   "execution_count": null,
   "metadata": {
    "deletable": false,
    "editable": false
   },
   "outputs": [],
   "source": [
    "grader.check(\"q2_2\")"
   ]
  },
  {
   "cell_type": "markdown",
   "metadata": {},
   "source": [
    "### Recap: Chebyshev's inequality (i.e. Chebyshev's bounds)"
   ]
  },
  {
   "cell_type": "markdown",
   "metadata": {},
   "source": [
    "Chebyshev's inequality states that *no matter what the shape of the distribution* is, the proportion of the values that fall in the range\n",
    "\n",
    "$$\\mbox{average} \\pm z \\mbox { Standard Deviations}$$\n",
    "is at least \n",
    "$$1 - \\frac{1}{z^{2}}$$ \n",
    "\n",
    "**It's important to note that these are lower bounds, not approximations:** 75% of the data is guaranteed to lie within plus or minus of 2 standard deviations of the mean, but 100% of the data might also lie within plus or minus 2 standard deviations of the mean. \n",
    "\n",
    "### On the other hand...\n",
    "**If we know that our data forms a normal curve**, the standard deviation is even more informative.\n",
    "\n",
    "|Percent in Range | All Distributions (via Chebyshev's Inequality) | Normal Distributions|\n",
    "|---|---|---|\n",
    "|$\\text{average} \\pm 1 \\ \\text{SD}$ | $\\geq 0\\%$ | $\\approx 68\\%$ |\n",
    "|$\\text{average} \\pm 2\\text{SDs}$ | $\\geq 75\\%$ | $\\approx 95\\%$ |\n",
    "|$\\text{average} \\pm 3\\text{SDs}$ | $\\geq 88\\%$ | $\\approx 99.73\\%$ |\n",
    "\n",
    "**Note that for a normal distribution, the numbers in the last column of the DataFrame above are approximations, not lower bounds.**  \n",
    "* If the distribution is perfectly normal, then 68% of the data (not more, not less) will lie between plus and minus one standard deviation of the mean. \n",
    "* Additionally because a normal curve is symmetric, we know that 34% of the data lies between the average and the average plus one standard deviation. \n",
    " \n"
   ]
  },
  {
   "cell_type": "markdown",
   "metadata": {},
   "source": [
    "**Question 2.3.**  Jasmine, who is Pre-Med, really wanted to score in the top 5% of the class. But before taking the exam, she did not know if the scores would be normally distributed or not. \n",
    "\n",
    "Without making any assumptions about the distribution of scores, how many standard deviations above the mean would she have needed to score to **guarantee** that she fell in the top 5% of the the class? Set the variable `q2_3` to either 1, 2, 3, or 4, depending on your answer. \n",
    "\n",
    "\n",
    "1. Jasmine would need to score roughly 4.5 standard deviations above the average to guarantee being in the top five percent. Using Chebyshev's inequality, setting $z = \\sqrt{20} \\approx 4.5$  gives that 95% of the data will lie between plus or minus 4.5 SDs. If Jasmine scores above 4.5 SDs, then she is guaranteed to have scored better than 95% of the other students. \n",
    "\n",
    "2. Jasmine would need to score above 2 SDs. Since 95% of the data falls between plus or minus 2 SDs, if Jasmine scores above 2 SDs, she is guaranteed to score above 95% of the class. \n",
    "\n",
    "3. Jasmine would need to score slightly less than 2 SDs. 50% of the class will have scored below the average. Which means that if Jasmine scores 2 standard deviations above the average she'll have scored higher than 50% + (95% / 2) = 97.5%. \n",
    "\n",
    "4. No matter how many standard deviations above the mean Jasmine scores, there is no guarantee that she will score in the top 5% of the class. "
   ]
  },
  {
   "cell_type": "code",
   "execution_count": null,
   "metadata": {},
   "outputs": [],
   "source": [
    "q2_3 = ...\n",
    "q2_3"
   ]
  },
  {
   "cell_type": "code",
   "execution_count": null,
   "metadata": {
    "deletable": false,
    "editable": false
   },
   "outputs": [],
   "source": [
    "grader.check(\"q2_3\")"
   ]
  },
  {
   "cell_type": "markdown",
   "metadata": {},
   "source": [
    "**Question 2.4.** Now, assuming that the scores for the exam will be normally distributed (as many exams are), what is the minimum number of standard deviations above the mean Jasmine would have needed to score to **guarantee** that she fell in the top 5% of the class? Set variable `q2_4` to either 1, 2, 3, or 4, depending on your answer. \n",
    "\n",
    "\n",
    "1. Jasmine would need to score roughly 4.5 standard deviations above the average to guarantee being in the top five percent. Using Chebyshev's inequality, setting $z = \\sqrt{20} \\approx 4.5$  gives that 95% of the data will lie between plus or minus 4.5 SDs. If Jasmine scores above 4.5 SDs, then she is guaranteed to have scored better than 95% of the other students. \n",
    "\n",
    "2. Jasmine would need to score above 2 SDs. Since 95% of the data falls between plus or minus 2 SDs, if Jasmine scores above 2 SDs, she is guaranteed to score above 95% of the class. \n",
    "\n",
    "3. Jasmine would need to score slightly less than 2 SDs. 50% of the class will have scored below the average. Which means that if Jasmine scores 2 standard deviations above the average she'll have scored higher than 50% + (95% / 2) = 97.5% of the class.\n",
    "\n",
    "4. No matter how many standard deviations above the mean Jasmine scores, there is no guarantee that she will score in the top 5% of the class."
   ]
  },
  {
   "cell_type": "code",
   "execution_count": null,
   "metadata": {},
   "outputs": [],
   "source": [
    "q2_4 = ...\n",
    "q2_4"
   ]
  },
  {
   "cell_type": "code",
   "execution_count": null,
   "metadata": {
    "deletable": false,
    "editable": false
   },
   "outputs": [],
   "source": [
    "grader.check(\"q2_4\")"
   ]
  },
  {
   "cell_type": "markdown",
   "metadata": {},
   "source": [
    "Jasmine and Chaninder thank you for your analysis 👋, and go on their way to start studying for their finals, which are just around the corner."
   ]
  },
  {
   "cell_type": "markdown",
   "metadata": {},
   "source": [
    "## 3. Choosing Sample Size\n",
    "\n",
    "A new class is being offered at UCSD and the administration wants to know how many students will be taking the class so they know how big of a classroom it will need. To take the class, a student must have satisfied the prerequisites first. \n",
    "\n",
    "The administration knows there are 900 students who have completed the prerequisites and are eligible to take the class, but they don't know how many will actually enroll. They don't have the resources to ask each eligible student whether they are going to enroll, so they decide to ask a sample of the students, but they don't know how many students to ask. They want the width of their confidence interval to be **at most 10 students**. \n",
    "\n",
    "For example, if the results of their sample concluded that with 95% confidence between 200 and 210 students would take the class, the administration would be happy with that sample. However if the results of the sample concluded that with 95% confidence between 200 and 300 students would take the class, the sample would not have been informative enough because that range is too wide. We are going to help determine how big of a sample the administration should take. \n",
    "\n",
    "The population parameter we are interested in measuring is the proportion of eligible students who will take the class. We will estimate this using a sample statistic, the proportion of eligible students in the sample who plan to take the class. \n",
    "\n",
    "So **where do we start**?\n",
    "\n",
    "The Central Limit Theorem tells us that regardless of the distribution of our population, the distribution of the sample mean or sum will always be roughly normal. Fortunately, our sample statistic (the proportion of eligible students who will take the class) is also a sample mean, because proportions are just means of 0s and 1s. Let's run a simulation to see this for ourselves. \n",
    "\n",
    "Below is the data for the whole population of eligible students. (If the administration had the resources to ask every student whether they were going to take the class, this is what they would see. `0` means they won't take the class and `1` means they will.)"
   ]
  },
  {
   "cell_type": "code",
   "execution_count": null,
   "metadata": {
    "scrolled": false
   },
   "outputs": [],
   "source": [
    "population = bpd.read_csv(\"data/population.csv\")\n",
    "population"
   ]
  },
  {
   "cell_type": "code",
   "execution_count": null,
   "metadata": {},
   "outputs": [],
   "source": [
    "population.plot(y='Planning on taking', kind='hist', density=True, bins=np.arange(-0.5, 2.5, 1), ec='w');\n",
    "plt.xticks([0, 1], [0, 1]);"
   ]
  },
  {
   "cell_type": "markdown",
   "metadata": {
    "deletable": false,
    "editable": false
   },
   "source": [
    "**Question 3.1.** Below is partially implemented code to run a simulation. The simulation will repeatedly take samples of size `sample_size` (without replacement) from `population` and calculate the proportion of students who plan on taking the class. Fill in the missing parts. \n",
    "\n",
    "<!--\n",
    "BEGIN QUESTION\n",
    "name: q3_1\n",
    "-->"
   ]
  },
  {
   "cell_type": "code",
   "execution_count": null,
   "metadata": {},
   "outputs": [],
   "source": [
    "def simulation(population, num_iterations, sample_size):\n",
    "    results = np.array([])\n",
    "    for i in np.arange(num_iterations):\n",
    "        sampled = ...\n",
    "        proportion_taking_class = ...\n",
    "        results = ...\n",
    "        \n",
    "    bpd.DataFrame(data=results, columns=[\"Proportion\"]).plot(kind='hist', \n",
    "                                                             y='Proportion', \n",
    "                                                             density=True,\n",
    "                                                             ec='w',\n",
    "                                                             bins=np.arange(0, 1, 1/(sample_size+1)),\n",
    "                                                             title=f'Distribution of Sample Proportions (sample size = {sample_size})');\n",
    "    plt.xlim(0, 1);"
   ]
  },
  {
   "cell_type": "code",
   "execution_count": null,
   "metadata": {
    "deletable": false,
    "editable": false
   },
   "outputs": [],
   "source": [
    "grader.check(\"q3_1\")"
   ]
  },
  {
   "cell_type": "markdown",
   "metadata": {},
   "source": [
    "Run the cell below to see the empirical distribution of 10000 simulated sample proportions with a sample size of 40."
   ]
  },
  {
   "cell_type": "code",
   "execution_count": null,
   "metadata": {
    "scrolled": false
   },
   "outputs": [],
   "source": [
    "simulation(population, 10000, 40)"
   ]
  },
  {
   "cell_type": "markdown",
   "metadata": {},
   "source": [
    "**Question 3.2.** Does the distribution of the sample proportion look more like a normal curve or more like the population distribution? \n",
    "\n",
    "1. More like a normal curve.\n",
    "\n",
    "2. More like the original population."
   ]
  },
  {
   "cell_type": "code",
   "execution_count": null,
   "metadata": {},
   "outputs": [],
   "source": [
    "q3_2 = ...\n",
    "q3_2"
   ]
  },
  {
   "cell_type": "code",
   "execution_count": null,
   "metadata": {
    "deletable": false,
    "editable": false
   },
   "outputs": [],
   "source": [
    "grader.check(\"q3_2\")"
   ]
  },
  {
   "cell_type": "markdown",
   "metadata": {},
   "source": [
    "We also know that as we increase the sample size, the standard deviation of our sample proportion's distribution will decrease. Again we decide to run a simulation to double check. Run the following cell to see how the distribution of the sample proportion changes as we increase the size of our sample. **It might take a while to run.** "
   ]
  },
  {
   "cell_type": "code",
   "execution_count": null,
   "metadata": {
    "scrolled": false
   },
   "outputs": [],
   "source": [
    "simulation(population, 10000, 40)\n",
    "simulation(population, 10000, 120)\n",
    "simulation(population, 10000, 360)"
   ]
  },
  {
   "cell_type": "markdown",
   "metadata": {},
   "source": [
    "This trend is expressed by the formula\n",
    "$$ \\text{SD of Distribution of Possible Sample Means} = \\frac{\\text{Population SD}}{\\sqrt{\\text{sample size}}}$$"
   ]
  },
  {
   "cell_type": "markdown",
   "metadata": {
    "collapsed": true
   },
   "source": [
    "Since proportions are means, we can use this formula to find the sample size we need to get a desired standard deviation of the sample proportion, and thus a certain confidence interval for that sample proportion. However, before taking our sample, we don't have any way of knowing the standard deviation of our population. Lecture 19, the [CIT](https://inferentialthinking.com/chapters/14/6/Choosing_a_Sample_Size.html) textbook, and Homework 5 include some ways to get around this problem; here we will use the actual population standard deviation. "
   ]
  },
  {
   "cell_type": "markdown",
   "metadata": {},
   "source": [
    "**Question 3.3.** The administration wants the confidence interval to have a width of **10 students**, but we have been calculating the proportion of eligible students who are planning on taking the class. Fortunately, there is a relationship between a count and a proportion that will allow us to convert between these.\n",
    "\n",
    "Using the total number of students who are eligible to take the class, determine what proportion of that number equals 10 students, and save the result as `width_as_proportion`. For example, if 500 students are eligible to take the class, then 10 students as a proportion is 0.02."
   ]
  },
  {
   "cell_type": "code",
   "execution_count": null,
   "metadata": {
    "scrolled": true
   },
   "outputs": [],
   "source": [
    "num_eligible_students = ...\n",
    "print('Number of eligible students:', num_eligible_students)\n",
    "width_as_proportion = ...\n",
    "print('Desired confidence interval width, as a proportion:', width_as_proportion)"
   ]
  },
  {
   "cell_type": "code",
   "execution_count": null,
   "metadata": {
    "deletable": false,
    "editable": false
   },
   "outputs": [],
   "source": [
    "grader.check(\"q3_3\")"
   ]
  },
  {
   "cell_type": "markdown",
   "metadata": {},
   "source": [
    "**Question 3.4.** Now let's calculate the standard deviation that our distribution of sample proportions would need to have in order for our 95% confidence interval to have a width of `width_as_proportion`. Set the variable `target_sd` to this value. \n",
    "\n",
    "Remember that for a normal distribution, 95% of the data lies between *plus and minus* 2 SDs of the mean. "
   ]
  },
  {
   "cell_type": "code",
   "execution_count": null,
   "metadata": {},
   "outputs": [],
   "source": [
    "target_sd = ...\n",
    "target_sd"
   ]
  },
  {
   "cell_type": "code",
   "execution_count": null,
   "metadata": {
    "deletable": false,
    "editable": false
   },
   "outputs": [],
   "source": [
    "grader.check(\"q3_4\")"
   ]
  },
  {
   "cell_type": "markdown",
   "metadata": {},
   "source": [
    "**Question 3.5.** We also need to calculate the standard deviation of the total population. Calculate this value using the`compute_sd` function that you wrote earlier and store it in the variable `population_sd`."
   ]
  },
  {
   "cell_type": "code",
   "execution_count": null,
   "metadata": {},
   "outputs": [],
   "source": [
    "population_sd = ...\n",
    "population_sd"
   ]
  },
  {
   "cell_type": "code",
   "execution_count": null,
   "metadata": {
    "deletable": false,
    "editable": false
   },
   "outputs": [],
   "source": [
    "grader.check(\"q3_5\")"
   ]
  },
  {
   "cell_type": "markdown",
   "metadata": {},
   "source": [
    "**Question 3.6.** Now calculate the required **sample size** and store your result as `req_sample_size`. Recall that\n",
    "\n",
    "$$ \\text{SD of Distribution of Possible Sample Means} = \\frac{\\text{Population SD}}{\\sqrt{\\text{sample size}}}$$\n",
    "\n",
    "You have already calculated $\\text{SD of Distribution of Possible Sample Means}$, in Question 3.4, and $\\text{Population SD}$, in Question 3.5."
   ]
  },
  {
   "cell_type": "code",
   "execution_count": null,
   "metadata": {},
   "outputs": [],
   "source": [
    "req_sample_size = ...\n",
    "req_sample_size"
   ]
  },
  {
   "cell_type": "code",
   "execution_count": null,
   "metadata": {
    "deletable": false,
    "editable": false
   },
   "outputs": [],
   "source": [
    "grader.check(\"q3_6\")"
   ]
  },
  {
   "cell_type": "markdown",
   "metadata": {},
   "source": [
    "**Question 3.7.** Our required sample size is bigger than our entire population. For each part, say whether it is `True` or `False`.\n",
    "\n",
    "1. The administration will have to settle for a wider interval to get 95% confidence.\n",
    "2. Sampling with replacement will be a feasible way to determine the information the administration needs.\n",
    "3. The administration will have to settle for a lower degree of confidence to get an interval of width 10.\n",
    "4. We should increase the size of the population until the sample size is smaller than the size of the population.\n",
    "\n",
    "Set each variable below to either `True` or `False`.\n"
   ]
  },
  {
   "cell_type": "code",
   "execution_count": null,
   "metadata": {},
   "outputs": [],
   "source": [
    "statement_1 = ...\n",
    "statement_2 = ...\n",
    "statement_3 = ...\n",
    "statement_4 = ..."
   ]
  },
  {
   "cell_type": "code",
   "execution_count": null,
   "metadata": {
    "deletable": false,
    "editable": false
   },
   "outputs": [],
   "source": [
    "grader.check(\"q3_7\")"
   ]
  },
  {
   "cell_type": "markdown",
   "metadata": {},
   "source": [
    "## Finish Line 🏁\n",
    "\n",
    "Congratulations! You are done with Lab 5.\n",
    "\n",
    "**Citations:** Did you use any generative artificial intelligence tools to assist you on this assignment? If so, please state, for each tool you used, the name of the tool (ex. ChatGPT) and the problem(s) in this assignment where you used the tool for help."
   ]
  },
  {
   "cell_type": "markdown",
   "metadata": {},
   "source": [
    "<hr style=\"color:Maroon;background-color:Maroon;border:0 none; height: 3px;\">\n",
    "\n",
    "Please cite tools here.\n",
    "\n",
    "<hr style=\"color:Maroon;background-color:Maroon;border:0 none; height: 3px;\">"
   ]
  },
  {
   "cell_type": "markdown",
   "metadata": {},
   "source": [
    "To submit your assignment:\n",
    "\n",
    "1. Select `Kernel -> Restart & Run All` to ensure that you have executed all cells, including the test cells.\n",
    "2. Read through the notebook to make sure everything is fine and all tests passed.\n",
    "3. Run the cell below to run all tests, and make sure that they all pass.\n",
    "4. Download your notebook using `File -> Download as -> Notebook (.ipynb)`, then upload your notebook to Gradescope.\n",
    "5. Stick around while the Gradescope autograder grades your work. Make sure you see that all tests have passed on Gradescope.\n",
    "6. Check that you have a confirmation email from Gradescope and save it as proof of your submission."
   ]
  },
  {
   "cell_type": "code",
   "execution_count": null,
   "metadata": {},
   "outputs": [],
   "source": [
    "# For your convenience, you can run this cell to run all the tests at once!\n",
    "grader.check_all()"
   ]
  }
 ],
 "metadata": {
  "kernelspec": {
   "display_name": "Python 3 (ipykernel)",
   "language": "python",
   "name": "python3"
  },
  "language_info": {
   "codemirror_mode": {
    "name": "ipython",
    "version": 3
   },
   "file_extension": ".py",
   "mimetype": "text/x-python",
   "name": "python",
   "nbconvert_exporter": "python",
   "pygments_lexer": "ipython3",
   "version": "3.8.16"
  }
 },
 "nbformat": 4,
 "nbformat_minor": 2
}
