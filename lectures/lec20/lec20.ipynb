{
 "cells": [
  {
   "cell_type": "code",
   "execution_count": null,
   "metadata": {
    "slideshow": {
     "slide_type": "skip"
    }
   },
   "outputs": [],
   "source": [
    "# Set up packages for lecture. Don't worry about understanding this code,\n",
    "# but make sure to run it if you're following along.\n",
    "import numpy as np\n",
    "import babypandas as bpd\n",
    "import pandas as pd\n",
    "from matplotlib_inline.backend_inline import set_matplotlib_formats\n",
    "import matplotlib.pyplot as plt\n",
    "set_matplotlib_formats(\"svg\")\n",
    "plt.style.use('ggplot')\n",
    "\n",
    "np.set_printoptions(threshold=20, precision=2, suppress=True)\n",
    "pd.set_option(\"display.max_rows\", 7)\n",
    "pd.set_option(\"display.max_columns\", 8)\n",
    "pd.set_option(\"display.precision\", 2)"
   ]
  },
  {
   "cell_type": "markdown",
   "metadata": {
    "slideshow": {
     "slide_type": "slide"
    }
   },
   "source": [
    "# Lecture 20 – Hypothesis Testing\n",
    "\n",
    "## DSC 10, Fall 2023"
   ]
  },
  {
   "cell_type": "markdown",
   "metadata": {
    "slideshow": {
     "slide_type": "slide"
    }
   },
   "source": [
    "### Announcements\n",
    "\n",
    "- Lab 5 is due **tomorrow at 11:59PM**.\n",
    "- Homework 5 is due on **Tuesday at 11:59PM**.\n",
    "- The Final Project will be released this weekend. It is due on **Tuesday 12/5 at 11:59PM**.\n",
    "    - Consider finding a partner for the project; you can work with a different partner than you did on the Midterm Project.\n",
    "    - If you choose to work with a partner, you must follow [these guidelines](https://dsc10.com/project-partners/) and in particular, you must both contribute to all parts of the project.\n",
    "    - If you want to use slip days on the Final Project, both partners need to have slip days available!\n",
    "    - We will not extend the deadline of the Final Project because of proximity to the Final Exam on Saturday 12/9.\n",
    "- Quiz 3 scores have been released and the Grade Report was updated; see [this post on Ed](https://edstem.org/us/courses/48101/discussion/3880308) for more details."
   ]
  },
  {
   "cell_type": "markdown",
   "metadata": {
    "slideshow": {
     "slide_type": "slide"
    }
   },
   "source": [
    "### Agenda\n",
    "\n",
    "- Recap: Statistical models.\n",
    "- Example: Is our coin fair?\n",
    "    - Hypothesis tests.\n",
    "    - Null and alternative hypotheses.\n",
    "    - Test statistics, and how to choose them."
   ]
  },
  {
   "cell_type": "markdown",
   "metadata": {
    "slideshow": {
     "slide_type": "slide"
    }
   },
   "source": [
    "## Recap: Statistical models"
   ]
  },
  {
   "cell_type": "markdown",
   "metadata": {
    "slideshow": {
     "slide_type": "slide"
    }
   },
   "source": [
    "### Models"
   ]
  },
  {
   "cell_type": "markdown",
   "metadata": {
    "slideshow": {
     "slide_type": "fragment"
    }
   },
   "source": [
    "- A model is a set of assumptions about how data was generated.<br>\n",
    "<small>Example: Jury panels are selected randomly from the population of eligible jurors, which is 26% Black.</small>"
   ]
  },
  {
   "cell_type": "markdown",
   "metadata": {
    "slideshow": {
     "slide_type": "fragment"
    }
   },
   "source": [
    "- Our goal is to **assess the quality of a model**."
   ]
  },
  {
   "cell_type": "markdown",
   "metadata": {
    "slideshow": {
     "slide_type": "fragment"
    }
   },
   "source": [
    "- Given a dataset, our goal is to determine whether a model \"explains\" the patterns in the dataset.<br>\n",
    "<small>Example: How likely is it to draw a sample of 100 men from a population that is 26% Black and end up with only 8 Black men?</small>"
   ]
  },
  {
   "cell_type": "markdown",
   "metadata": {
    "slideshow": {
     "slide_type": "fragment"
    }
   },
   "source": [
    "- Our approach involves simulation. We **assume the model is true**, simulate many samples based on this model, and compare how frequently these samples look like our observed data.<br>\n",
    "<small>Example: In 10,000 simulated jury panels drawn randomly from a population that is 26% Black, rarely, if ever, did we see a sample that was only 8% Black.</small>"
   ]
  },
  {
   "cell_type": "markdown",
   "metadata": {
    "slideshow": {
     "slide_type": "fragment"
    }
   },
   "source": [
    "- Finally, we use the results of our simulation to draw a conclusion about the validity of the model.<br>\n",
    "<small>Example: It is unlikely that Robert Swain's jury panel was determined through random selection from among the eligible population of jurors. The model is likely **wrong**.</small>"
   ]
  },
  {
   "cell_type": "markdown",
   "metadata": {
    "slideshow": {
     "slide_type": "slide"
    }
   },
   "source": [
    "### Simulating a single jury panel using `np.random.multinomial`"
   ]
  },
  {
   "cell_type": "markdown",
   "metadata": {
    "slideshow": {
     "slide_type": "fragment"
    }
   },
   "source": [
    "A randomly selected member of our population is Black with probability 0.26 and not Black with probability 1 - 0.26 = 0.74."
   ]
  },
  {
   "cell_type": "code",
   "execution_count": null,
   "metadata": {},
   "outputs": [],
   "source": [
    "demographics = [0.26, 0.74]"
   ]
  },
  {
   "cell_type": "markdown",
   "metadata": {
    "slideshow": {
     "slide_type": "fragment"
    }
   },
   "source": [
    "Each time we run the following cell, we'll get a new random sample of 100 people from this population.\n",
    "- The first element of the resulting array is the number of Black men in the sample.\n",
    "- The second element is the number of non-Black men in the sample."
   ]
  },
  {
   "cell_type": "code",
   "execution_count": null,
   "metadata": {},
   "outputs": [],
   "source": [
    "np.random.multinomial(100, demographics)"
   ]
  },
  {
   "cell_type": "markdown",
   "metadata": {
    "slideshow": {
     "slide_type": "fragment"
    }
   },
   "source": [
    "We also need to calculate our statistic, which in this case is the number of Black men in the random sample of 100."
   ]
  },
  {
   "cell_type": "code",
   "execution_count": null,
   "metadata": {},
   "outputs": [],
   "source": [
    "np.random.multinomial(100, demographics)[0]"
   ]
  },
  {
   "cell_type": "markdown",
   "metadata": {
    "slideshow": {
     "slide_type": "slide"
    }
   },
   "source": [
    "### Simulating many jury panels\n",
    "\n",
    "* Let's run 10,000 simulations.\n",
    "* We'll keep track of the number of Black men in each simulated jury panel in the array `counts`."
   ]
  },
  {
   "cell_type": "code",
   "execution_count": null,
   "metadata": {},
   "outputs": [],
   "source": [
    "counts = np.array([])\n",
    "\n",
    "for i in np.arange(10000):\n",
    "    count = np.random.multinomial(100, demographics)[0]\n",
    "    counts = np.append(counts, count)\n",
    "    \n",
    "counts"
   ]
  },
  {
   "cell_type": "markdown",
   "metadata": {
    "slideshow": {
     "slide_type": "slide"
    }
   },
   "source": [
    "### Visualizing the empirical distribution of our statistic\n",
    "\n",
    "Was a jury panel with 8 Black men suspiciously unusual?"
   ]
  },
  {
   "cell_type": "code",
   "execution_count": null,
   "metadata": {
    "scrolled": false
   },
   "outputs": [],
   "source": [
    "(bpd.DataFrame().assign(count_black_men=counts)\n",
    "                .plot(kind='hist', bins = np.arange(9.5, 45, 1), \n",
    "                      density=True, ec='w', figsize=(10, 5),\n",
    "                      title='Empiricial Distribution of the Number of Black Men in Simulated Jury Panels of Size 100'));\n",
    "observed_count = 8\n",
    "plt.axvline(observed_count, color='black', linewidth=4, label='Observed Number of Black Men in Actual Jury Panel')\n",
    "plt.legend();"
   ]
  },
  {
   "cell_type": "code",
   "execution_count": null,
   "metadata": {},
   "outputs": [],
   "source": [
    "# In 10,000 random experiments, the panel with the fewest Black men had how many?\n",
    "counts.min()"
   ]
  },
  {
   "cell_type": "markdown",
   "metadata": {
    "slideshow": {
     "slide_type": "slide"
    }
   },
   "source": [
    "### Conclusion\n",
    "\n",
    "- Our simulation shows that there's essentially no chance that a random sample of 100 men drawn from a population in which 26% of men are Black will contain 8 or fewer Black men.\n",
    "- As a result, it seems that the model we proposed – that the jury panel was drawn at random from the eligible population – is flawed.\n",
    "- There were likely factors **other than chance** that explain why there were only 8 Black men on the jury panel."
   ]
  },
  {
   "cell_type": "markdown",
   "metadata": {
    "slideshow": {
     "slide_type": "slide"
    }
   },
   "source": [
    "## Example: Is our coin fair?"
   ]
  },
  {
   "cell_type": "markdown",
   "metadata": {
    "slideshow": {
     "slide_type": "slide"
    }
   },
   "source": [
    "### Example: Is our coin fair?\n",
    "\n",
    "Let's suppose we find a coin on the ground and we aren't sure whether it's a fair coin.\n",
    "\n",
    "Out of curiosity (and boredom), we flip it 400 times."
   ]
  },
  {
   "cell_type": "code",
   "execution_count": null,
   "metadata": {
    "slideshow": {
     "slide_type": "fragment"
    }
   },
   "outputs": [],
   "source": [
    "flips_400 = bpd.read_csv('data/flips-400.csv')\n",
    "flips_400"
   ]
  },
  {
   "cell_type": "code",
   "execution_count": null,
   "metadata": {},
   "outputs": [],
   "source": [
    "flips_400.groupby('outcome').count()"
   ]
  },
  {
   "cell_type": "markdown",
   "metadata": {
    "slideshow": {
     "slide_type": "fragment"
    }
   },
   "source": [
    "- **Question**: Does our coin look like a fair coin, or not?<br>\n",
    "<small>How \"weird\" is it to flip a fair coin 400 times and see only 188 heads?</small>"
   ]
  },
  {
   "cell_type": "markdown",
   "metadata": {
    "slideshow": {
     "slide_type": "fragment"
    }
   },
   "source": [
    "- This question is posed similarly to the question \"were jury panels selected at random from the eligible population?\""
   ]
  },
  {
   "cell_type": "markdown",
   "metadata": {
    "slideshow": {
     "slide_type": "slide"
    }
   },
   "source": [
    "### Hypothesis tests"
   ]
  },
  {
   "cell_type": "markdown",
   "metadata": {
    "slideshow": {
     "slide_type": "fragment"
    }
   },
   "source": [
    "- In the examples we've seen so far, our goal has been to **choose between two views of the world, based on data in a sample**.<br>\n",
    "<small markdown=\"1\">\n",
    "\n",
    "    - \"This jury panel was selected at random\" or \"this jury panel was not selected at random, since there weren't enough Black men on it.\"\n",
    "    - \"This coin is fair\" or \"this coin is not fair.\"\n",
    "    \n",
    "</small>"
   ]
  },
  {
   "cell_type": "markdown",
   "metadata": {
    "slideshow": {
     "slide_type": "fragment"
    }
   },
   "source": [
    "- A **hypothesis test** chooses between two views of how data were generated, based on data in a sample."
   ]
  },
  {
   "cell_type": "markdown",
   "metadata": {
    "slideshow": {
     "slide_type": "fragment"
    }
   },
   "source": [
    "- The views are called **hypotheses**."
   ]
  },
  {
   "cell_type": "markdown",
   "metadata": {
    "slideshow": {
     "slide_type": "fragment"
    }
   },
   "source": [
    "- The test picks the hypothesis that is *better* supported by the observed data; it doesn't guarantee that either hypothesis is correct."
   ]
  },
  {
   "cell_type": "markdown",
   "metadata": {
    "slideshow": {
     "slide_type": "slide"
    }
   },
   "source": [
    "### Null and alternative hypotheses"
   ]
  },
  {
   "cell_type": "markdown",
   "metadata": {
    "slideshow": {
     "slide_type": "fragment"
    }
   },
   "source": [
    "- In our current example, our two hypotheses are \"this coin is fair\" and \"this coin is not fair.\""
   ]
  },
  {
   "cell_type": "markdown",
   "metadata": {
    "slideshow": {
     "slide_type": "fragment"
    }
   },
   "source": [
    "- In a hypothesis test:\n",
    "    - One of the hypotheses needs to be a well-defined probability model about how the data was generated, so that we can use it for simulation. This hypothesis is called the **null hypothesis**.\n",
    "    - The **alternative hypothesis**, then, is a different view about how the data was generated."
   ]
  },
  {
   "cell_type": "markdown",
   "metadata": {
    "slideshow": {
     "slide_type": "fragment"
    }
   },
   "source": [
    "- We can simulate `n` flips of a fair coin using `np.random.multinomial(n, [0.5, 0.5])`, but we can't simulate `n` flips of an unfair coin.<br>\n",
    "    <small>What does \"unfair\" mean? Does it flip heads with probability 0.51? 0.03?</small>"
   ]
  },
  {
   "cell_type": "markdown",
   "metadata": {
    "slideshow": {
     "slide_type": "fragment"
    }
   },
   "source": [
    "- As such, \"this coin is fair\" is **null hypothesis**, and \"this coin is not fair\" is our **alternative hypothesis**."
   ]
  },
  {
   "cell_type": "markdown",
   "metadata": {
    "slideshow": {
     "slide_type": "slide"
    }
   },
   "source": [
    "### Test statistics"
   ]
  },
  {
   "cell_type": "markdown",
   "metadata": {
    "slideshow": {
     "slide_type": "fragment"
    }
   },
   "source": [
    "- Once we've established our null and alternative hypotheses, we'll start by assuming the null hypothesis is true."
   ]
  },
  {
   "cell_type": "markdown",
   "metadata": {
    "slideshow": {
     "slide_type": "fragment"
    }
   },
   "source": [
    "- Then, repeatedly, we'll generate samples under the assumption the null hypothesis is true (i.e. \"under the null\").<br>\n",
    "<small>In the jury panel example, we repeatedly drew samples from a population that was 26% Black. In our current example, we'll repeatedly flip a fair coin 400 times.</small>"
   ]
  },
  {
   "cell_type": "markdown",
   "metadata": {
    "slideshow": {
     "slide_type": "fragment"
    }
   },
   "source": [
    "- For each sample, we'll calculate a single number – that is, a statistic.<br>\n",
    "<small>In the jury panel example, this was the number of Black men. In our current example, a reasonable choice is the <b>number of heads</b>.</small>"
   ]
  },
  {
   "cell_type": "markdown",
   "metadata": {
    "slideshow": {
     "slide_type": "fragment"
    }
   },
   "source": [
    "- This single number is called the **test statistic** since we use it when \"testing\" which viewpoint the data better supports.<br>\n",
    "<small>Think of the test statistic a number you write down each time you perform an experiment.</small>"
   ]
  },
  {
   "cell_type": "markdown",
   "metadata": {
    "slideshow": {
     "slide_type": "fragment"
    }
   },
   "source": [
    "- The test statistic evaluated on our observed data is called the **observed statistic**.<br>\n",
    "<small>In our current example, the observed statistic is 188.</small>"
   ]
  },
  {
   "cell_type": "markdown",
   "metadata": {
    "slideshow": {
     "slide_type": "fragment"
    }
   },
   "source": [
    "- Our hypothesis test boils down to checking **whether our observed statistic is a \"typical value\" in the distribution of our test statistic.**"
   ]
  },
  {
   "cell_type": "markdown",
   "metadata": {
    "slideshow": {
     "slide_type": "slide"
    }
   },
   "source": [
    "### Simulating under the null"
   ]
  },
  {
   "cell_type": "markdown",
   "metadata": {
    "slideshow": {
     "slide_type": "fragment"
    }
   },
   "source": [
    "- Since our null hypothesis is \"this coin is fair\", we'll repeatedly flip a fair coin 400 times."
   ]
  },
  {
   "cell_type": "markdown",
   "metadata": {
    "slideshow": {
     "slide_type": "fragment"
    }
   },
   "source": [
    "- Since our test statistic is the **number of heads**, in each set of 400 flips, we'll count the number of heads."
   ]
  },
  {
   "cell_type": "markdown",
   "metadata": {
    "slideshow": {
     "slide_type": "fragment"
    }
   },
   "source": [
    "- Doing this will give us an **empirical distribution of our test statistic**."
   ]
  },
  {
   "cell_type": "code",
   "execution_count": null,
   "metadata": {},
   "outputs": [],
   "source": [
    "# Computes a single simulated test statistic.\n",
    "np.random.multinomial(400, [0.5, 0.5])[0]"
   ]
  },
  {
   "cell_type": "code",
   "execution_count": null,
   "metadata": {},
   "outputs": [],
   "source": [
    "# Computes 10,000 simulated test statistics.\n",
    "\n",
    "results = np.array([])\n",
    "for i in np.arange(10000):\n",
    "    result = np.random.multinomial(400, [0.5, 0.5])[0]\n",
    "    results = np.append(results, result)\n",
    "    \n",
    "results"
   ]
  },
  {
   "cell_type": "markdown",
   "metadata": {
    "slideshow": {
     "slide_type": "slide"
    }
   },
   "source": [
    "### Visualizing the empirical distribution of the test statistic\n",
    "\n",
    "Let's visualize the empirical distribution of the test statistic $\\text{number of heads}$."
   ]
  },
  {
   "cell_type": "code",
   "execution_count": null,
   "metadata": {},
   "outputs": [],
   "source": [
    "bpd.DataFrame().assign(results=results).plot(kind='hist', bins=np.arange(160, 240, 4), \n",
    "                                             density=True, ec='w', figsize=(10, 5),\n",
    "                                             title='Empirical Distribution of the Number of Heads in 400 Flips of a Fair Coin');\n",
    "plt.legend();"
   ]
  },
  {
   "cell_type": "markdown",
   "metadata": {
    "slideshow": {
     "slide_type": "fragment"
    }
   },
   "source": [
    "If we observed close to 200 heads, we'd think our coin is fair. \n",
    "\n",
    "There are two cases in which we'd think our coin is unfair:"
   ]
  },
  {
   "cell_type": "markdown",
   "metadata": {
    "slideshow": {
     "slide_type": "fragment"
    }
   },
   "source": [
    "- If we observed lots of heads, e.g. 225."
   ]
  },
  {
   "cell_type": "markdown",
   "metadata": {
    "slideshow": {
     "slide_type": "fragment"
    }
   },
   "source": [
    "- If we observed very few heads, e.g. 172."
   ]
  },
  {
   "cell_type": "markdown",
   "metadata": {
    "slideshow": {
     "slide_type": "fragment"
    }
   },
   "source": [
    "This means that the histogram above is divided into three regions, where two of them mean the same thing (we think our coin is unfair).\n",
    "\n",
    "It would be a bit simpler if we had a histogram that was divided into just two regions. How do we create such a histogram?\n",
    "\n",
    "<center><img src=\"data/folding.png\" width=1200></center>"
   ]
  },
  {
   "cell_type": "markdown",
   "metadata": {
    "slideshow": {
     "slide_type": "slide"
    }
   },
   "source": [
    "### Choosing a test statistic"
   ]
  },
  {
   "cell_type": "markdown",
   "metadata": {
    "slideshow": {
     "slide_type": "fragment"
    }
   },
   "source": [
    "- We'd like our test statistic to be such that:\n",
    "    - Large observed values side with one hypothesis.\n",
    "    - Small observed values side with the other hypothesis."
   ]
  },
  {
   "cell_type": "markdown",
   "metadata": {
    "slideshow": {
     "slide_type": "fragment"
    }
   },
   "source": [
    "- In this case, our statistic should capture how far our number of heads is from that of a fair coin."
   ]
  },
  {
   "cell_type": "markdown",
   "metadata": {
    "slideshow": {
     "slide_type": "fragment"
    }
   },
   "source": [
    "- One idea: $| \\text{number of heads} - 200 |$.\n",
    "    - If we use this as our test statistic, the observed statistic is $| 188 - 200 | = 12$.\n",
    "    - By simulating, we can quantify whether 12 is a reasonable value of the test statistic, or if it's larger than we'd expect from a fair coin."
   ]
  },
  {
   "cell_type": "markdown",
   "metadata": {
    "slideshow": {
     "slide_type": "slide"
    }
   },
   "source": [
    "### Simulating under the null, again"
   ]
  },
  {
   "cell_type": "markdown",
   "metadata": {
    "slideshow": {
     "slide_type": "fragment"
    }
   },
   "source": [
    "Let's define a function that computes a single value of our test statistic. We'll do this often moving forward."
   ]
  },
  {
   "cell_type": "code",
   "execution_count": null,
   "metadata": {},
   "outputs": [],
   "source": [
    "def num_heads_from_200(arr):\n",
    "    return abs(arr[0] - 200)\n",
    "\n",
    "num_heads_from_200([188, 212])"
   ]
  },
  {
   "cell_type": "markdown",
   "metadata": {
    "slideshow": {
     "slide_type": "fragment"
    }
   },
   "source": [
    "Now, we'll repeat the act of flipping a fair coin 10,000 times again. The only difference is the test statistic we'll compute each time."
   ]
  },
  {
   "cell_type": "code",
   "execution_count": null,
   "metadata": {},
   "outputs": [],
   "source": [
    "results = np.array([])\n",
    "for i in np.arange(10000):\n",
    "    result = num_heads_from_200(np.random.multinomial(400, [0.5, 0.5]))\n",
    "    results = np.append(results, result)\n",
    "    \n",
    "results"
   ]
  },
  {
   "cell_type": "markdown",
   "metadata": {
    "slideshow": {
     "slide_type": "slide"
    }
   },
   "source": [
    "### Visualizing the empirical distribution of the test statistic, again\n",
    "\n",
    "Let's visualize the empirical distribution of our **new** test statistic, $| \\text{number of heads} - 200 |$."
   ]
  },
  {
   "cell_type": "code",
   "execution_count": null,
   "metadata": {},
   "outputs": [],
   "source": [
    "bpd.DataFrame().assign(results=results).plot(kind='hist', bins=np.arange(0, 60, 4), \n",
    "                                             density=True, ec='w', figsize=(10, 5),\n",
    "                                             title=r'Empirical Distribution of | Num Heads - 200 | in 400 Flips of a Fair Coin');\n",
    "plt.axvline(12, color='black', linewidth=4, label='observed statistic (12)')\n",
    "plt.legend();"
   ]
  },
  {
   "cell_type": "markdown",
   "metadata": {},
   "source": [
    "In black, we've drawn our observed statistic, 12. Does 12 seem like a reasonable value of the test statistic – that is, how rare was it to see a test statistic of 12 or larger in our simulations?"
   ]
  },
  {
   "cell_type": "markdown",
   "metadata": {
    "slideshow": {
     "slide_type": "slide"
    }
   },
   "source": [
    "### Drawing a conclusion"
   ]
  },
  {
   "cell_type": "markdown",
   "metadata": {
    "slideshow": {
     "slide_type": "fragment"
    }
   },
   "source": [
    "- It's not uncommon for the test statistic to be 12, or even higher, when flipping a fair coin 400 times. So it looks like our observed coin flips could have come from a fair coin."
   ]
  },
  {
   "cell_type": "markdown",
   "metadata": {
    "slideshow": {
     "slide_type": "fragment"
    }
   },
   "source": [
    "- We are *not* saying that the coin is definitely fair, just that it's reasonably plausible that the coin is fair.\n"
   ]
  },
  {
   "cell_type": "markdown",
   "metadata": {
    "slideshow": {
     "slide_type": "fragment"
    }
   },
   "source": [
    "- More generally, if we frequently see values in the empirical distribution of the test statistic that are as or more extreme than our observed statistic, the null hypothesis seems plausible. In this case, we **fail to reject** the null hypothesis.\n"
   ]
  },
  {
   "cell_type": "markdown",
   "metadata": {
    "slideshow": {
     "slide_type": "fragment"
    }
   },
   "source": [
    "- If we rarely see values as extreme as our observed statistic, we **reject** the null hypothesis."
   ]
  },
  {
   "cell_type": "markdown",
   "metadata": {
    "slideshow": {
     "slide_type": "fragment"
    }
   },
   "source": [
    "- **Lingering question**: How do we determine where to draw the line between \"fail to reject\" and \"reject\"?\n",
    "    - The answer is coming soon."
   ]
  },
  {
   "cell_type": "markdown",
   "metadata": {
    "slideshow": {
     "slide_type": "slide"
    }
   },
   "source": [
    "### Our choice of test statistic depends on our alternative hypothesis!"
   ]
  },
  {
   "cell_type": "markdown",
   "metadata": {
    "slideshow": {
     "slide_type": "fragment"
    }
   },
   "source": [
    "- Suppose that our alternative hypothesis is now \"this coin is biased **towards tails**.\""
   ]
  },
  {
   "cell_type": "markdown",
   "metadata": {
    "slideshow": {
     "slide_type": "fragment"
    }
   },
   "source": [
    "- Now, the test statistic $| \\text{number of heads} - 200 |$ **won't work**. Why not?"
   ]
  },
  {
   "cell_type": "markdown",
   "metadata": {
    "slideshow": {
     "slide_type": "fragment"
    }
   },
   "source": [
    "- In our current example, the value of the statistic $| \\text{number of heads} - 200 |$ is 12. However, given just this information, we can't tell whether we saw:\n",
    "    - 188 heads (212 tails), which would be evidence that the coin is biased towards tails.\n",
    "    - 212 heads (188 tails), which would not be evidence that the coin is biased towards tails."
   ]
  },
  {
   "cell_type": "markdown",
   "metadata": {
    "slideshow": {
     "slide_type": "fragment"
    }
   },
   "source": [
    "- As such, with this alternative hypothesis, we need another test statistic."
   ]
  },
  {
   "cell_type": "markdown",
   "metadata": {
    "slideshow": {
     "slide_type": "fragment"
    }
   },
   "source": [
    "- Idea: $\\text{number of heads}$.\n",
    "    - Small observed values side with the alternative hypothesis (\"this coin is biased towards heads\").\n",
    "    - Large observed values side with the null hypothesis (\"this coin is fair\").\n",
    "    - We could also use $\\text{number of tails}$."
   ]
  },
  {
   "cell_type": "markdown",
   "metadata": {
    "slideshow": {
     "slide_type": "slide"
    }
   },
   "source": [
    "### Simulating under the null, one more time"
   ]
  },
  {
   "cell_type": "markdown",
   "metadata": {
    "slideshow": {
     "slide_type": "fragment"
    }
   },
   "source": [
    "Since we're using the number of heads as our test statistic again, our simulation code is the same as it was originally."
   ]
  },
  {
   "cell_type": "code",
   "execution_count": null,
   "metadata": {},
   "outputs": [],
   "source": [
    "results = np.array([])\n",
    "for i in np.arange(10000):\n",
    "    result = np.random.multinomial(400, [0.5, 0.5])[0]\n",
    "    results = np.append(results, result)\n",
    "    \n",
    "results"
   ]
  },
  {
   "cell_type": "markdown",
   "metadata": {
    "slideshow": {
     "slide_type": "slide"
    }
   },
   "source": [
    "### Visualizing the empirical distribution of the test statistic, one more time\n",
    "\n",
    "Let's visualize the empirical distribution of the test statistic $\\text{number of heads}$, one more time."
   ]
  },
  {
   "cell_type": "code",
   "execution_count": null,
   "metadata": {},
   "outputs": [],
   "source": [
    "bpd.DataFrame().assign(results=results).plot(kind='hist', bins=np.arange(160, 240, 4), \n",
    "                                             density=True, ec='w', figsize=(10, 5),\n",
    "                                             title='Empirical Distribution of the Number of Heads in 400 Flips of a Fair Coin');\n",
    "plt.axvline(188, color='black', linewidth=4, label='observed statistic (188)')\n",
    "plt.legend();"
   ]
  },
  {
   "cell_type": "markdown",
   "metadata": {
    "slideshow": {
     "slide_type": "fragment"
    }
   },
   "source": [
    "- We frequently saw 188 or fewer heads in 400 flips of a fair coin; our observation doesn't seem to be that rare."
   ]
  },
  {
   "cell_type": "markdown",
   "metadata": {
    "slideshow": {
     "slide_type": "fragment"
    }
   },
   "source": [
    "- As such, the null hypothesis seems plausible, so we **fail to reject** the null hypothesis."
   ]
  },
  {
   "cell_type": "markdown",
   "metadata": {
    "slideshow": {
     "slide_type": "slide"
    }
   },
   "source": [
    "### Questions to consider before choosing a test statistic"
   ]
  },
  {
   "cell_type": "markdown",
   "metadata": {
    "slideshow": {
     "slide_type": "fragment"
    }
   },
   "source": [
    "- **Key idea**: Our choice of test statistic depends on the pair of viewpoints we want to decide between."
   ]
  },
  {
   "cell_type": "markdown",
   "metadata": {
    "slideshow": {
     "slide_type": "fragment"
    }
   },
   "source": [
    "- Our test statistic should be such that **high observed values lean towards one hypothesis and low observed values lean towards the other**."
   ]
  },
  {
   "cell_type": "markdown",
   "metadata": {
    "slideshow": {
     "slide_type": "fragment"
    }
   },
   "source": [
    "- We will avoid test statistics where both high and low observed values lean towards one viewpoint and observed values in the middle lean towards the other.\n",
    "    - In other words, we will avoid \"two-sided\" tests.\n",
    "    - To do so, we can take an absolute value."
   ]
  },
  {
   "cell_type": "markdown",
   "metadata": {
    "slideshow": {
     "slide_type": "fragment"
    }
   },
   "source": [
    "- In our recent exploration, the null hypothesis was \"the coin is fair.\"\n",
    "    - When the alternative hypothesis was \"the coin is biased,\" the test statistic we chose was $$|\\text{number of heads} - 200 |.$$\n",
    "    - When the alternative hypothesis was \"the coin is biased towards heads,\" the test statistic we chose was $$\\text{number of heads}.$$"
   ]
  },
  {
   "cell_type": "markdown",
   "metadata": {
    "slideshow": {
     "slide_type": "slide"
    }
   },
   "source": [
    "## Summary, next time"
   ]
  },
  {
   "cell_type": "markdown",
   "metadata": {
    "slideshow": {
     "slide_type": "slide"
    }
   },
   "source": [
    "### Summary\n",
    "\n",
    "- In assessing a model, we are choosing between one of two viewpoints, or **hypotheses**.\n",
    "    - The **null hypothesis** must be a well-defined probability model about how the data was generated.\n",
    "    - The **alternative hypothesis** can be any other viewpoint about how the data was generated.\n",
    "- To test a pair of hypotheses, we:\n",
    "    1. Simulate the experiment many times under the assumption that the null hypothesis is true.\n",
    "    1. Compute a **test statistic** on each of the simulated samples, as well as on the observed sample.\n",
    "    1. Look at the resulting empirical distribution of test statistics and see where the observed test statistic falls. If it seems like an atypical value (too large or too small), we reject the null hypothesis; otherwise, we fail to reject the null.\n",
    "- When selecting a test statistic, we want to choose a quantity that helps us distinguish between the two hypotheses, in such a way that large observed values favor one hypothesis and small observed values favor the other."
   ]
  },
  {
   "cell_type": "markdown",
   "metadata": {
    "slideshow": {
     "slide_type": "slide"
    }
   },
   "source": [
    "### Next time\n",
    "\n",
    "We'll look more closely at how to draw a conclusion from a hypothesis test and come up with a more precise definition of being \"consistent\" with the empirical distribution of test statistics generated according to the model."
   ]
  }
 ],
 "metadata": {
  "kernelspec": {
   "display_name": "Python 3 (ipykernel)",
   "language": "python",
   "name": "python3"
  },
  "language_info": {
   "codemirror_mode": {
    "name": "ipython",
    "version": 3
   },
   "file_extension": ".py",
   "mimetype": "text/x-python",
   "name": "python",
   "nbconvert_exporter": "python",
   "pygments_lexer": "ipython3",
   "version": "3.9.13"
  },
  "livereveal": {
   "scroll": true,
   "transition": "none"
  },
  "rise": {
   "enable_chalkboard": true
  }
 },
 "nbformat": 4,
 "nbformat_minor": 2
}
