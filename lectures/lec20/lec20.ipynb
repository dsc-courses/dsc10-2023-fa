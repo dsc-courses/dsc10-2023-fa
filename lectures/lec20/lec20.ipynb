{
 "cells": [
  {
   "cell_type": "code",
   "execution_count": null,
   "metadata": {
    "slideshow": {
     "slide_type": "skip"
    }
   },
   "outputs": [],
   "source": [
    "# Set up packages for lecture. Don't worry about understanding this code,\n",
    "# but make sure to run it if you're following along.\n",
    "import numpy as np\n",
    "import babypandas as bpd\n",
    "import pandas as pd\n",
    "from matplotlib_inline.backend_inline import set_matplotlib_formats\n",
    "import matplotlib.pyplot as plt\n",
    "set_matplotlib_formats(\"svg\")\n",
    "plt.style.use('ggplot')\n",
    "\n",
    "np.set_printoptions(threshold=20, precision=2, suppress=True)\n",
    "pd.set_option(\"display.max_rows\", 7)\n",
    "pd.set_option(\"display.max_columns\", 8)\n",
    "pd.set_option(\"display.precision\", 2)\n",
    "\n",
    "# Animations\n",
    "from IPython.display import display, IFrame\n",
    "\n",
    "def show_confidence_interval_slides():\n",
    "    src=\"https://docs.google.com/presentation/d/e/2PACX-1vTaPZsueXI6fey_5cj2Y1TevkR1joBvpwaWVsZNvgBlnJSrw1EiBLHJywkFH_QNLU5Tdr6JZgDrhFxG/embed?start=false&loop=false&delayms=3000&rm=minimal\"\n",
    "    width = 940\n",
    "    height = 940\n",
    "    display(IFrame(src, width, height))"
   ]
  },
  {
   "cell_type": "markdown",
   "metadata": {
    "slideshow": {
     "slide_type": "slide"
    }
   },
   "source": [
    "# Lecture 20 – Confidence Intervals, Central Tendency\n",
    "\n",
    "## DSC 10, Spring 2023"
   ]
  },
  {
   "cell_type": "markdown",
   "metadata": {
    "slideshow": {
     "slide_type": "slide"
    }
   },
   "source": [
    "### Announcements\n",
    "\n",
    "- Lab 5 is due **tomorrow at 11:59PM**.\n",
    "- Homework 5 is due on **Tuesday 5/23 at 11:59PM**.\n",
    "    - See [this post on Ed](https://edstem.org/us/courses/38383/discussion/3133694) for a few important clarifications.\n",
    "- The Final Project is due on **Tuesday 6/6 at 11:59PM**.\n",
    "- The HDSI Undergraduate Scholarship application is due in July! Find a faculty member, propose a project, and if selected, you'll win money to work on your project. See [this page](https://datascience.ucsd.edu/current-students/undergraduate-financial-opportunities/) for details. All majors are welcome!"
   ]
  },
  {
   "cell_type": "markdown",
   "metadata": {
    "slideshow": {
     "slide_type": "slide"
    }
   },
   "source": [
    "### Agenda\n",
    "\n",
    "- Interpreting confidence intervals.\n",
    "- Confidence intervals for hypothesis testing.\n",
    "- Central tendency."
   ]
  },
  {
   "cell_type": "markdown",
   "metadata": {
    "slideshow": {
     "slide_type": "slide"
    }
   },
   "source": [
    "## Interpreting confidence intervals"
   ]
  },
  {
   "cell_type": "markdown",
   "metadata": {
    "slideshow": {
     "slide_type": "slide"
    }
   },
   "source": [
    "### Recap: City of San Diego employee salaries\n",
    "\n",
    "Let's rerun our code from last time to compute a 95% confidence interval for the median salary of all San Diego city employees, based on a sample of 500 people."
   ]
  },
  {
   "cell_type": "markdown",
   "metadata": {},
   "source": [
    "**Step 1**: Collect a single sample of size 500 from the population."
   ]
  },
  {
   "cell_type": "code",
   "execution_count": null,
   "metadata": {},
   "outputs": [],
   "source": [
    "population = bpd.read_csv('data/2021_salaries.csv').get(['TotalWages'])\n",
    "population_median = population.get('TotalWages').median()\n",
    "population_median # Can't see this in real life!"
   ]
  },
  {
   "cell_type": "code",
   "execution_count": null,
   "metadata": {},
   "outputs": [],
   "source": [
    "np.random.seed(38) # Magic to ensure that we get the same results every time this code is run.\n",
    "my_sample = population.sample(500)\n",
    "sample_median = my_sample.get('TotalWages').median()\n",
    "sample_median"
   ]
  },
  {
   "cell_type": "markdown",
   "metadata": {
    "slideshow": {
     "slide_type": "slide"
    }
   },
   "source": [
    "**Step 2**: Bootstrap! That is, resample from the sample a large number of times, and each time, compute the median of the resample. This will generate an empirical distribution of the sample median."
   ]
  },
  {
   "cell_type": "code",
   "execution_count": null,
   "metadata": {},
   "outputs": [],
   "source": [
    "np.random.seed(38)\n",
    "\n",
    "# Bootstrap the sample to get more sample medians.\n",
    "n_resamples = 5000\n",
    "boot_medians = np.array([])\n",
    "\n",
    "for i in np.arange(n_resamples):\n",
    "    resample = my_sample.sample(500, replace=True)\n",
    "    median = resample.get('TotalWages').median()\n",
    "    boot_medians = np.append(boot_medians, median)\n",
    "    \n",
    "boot_medians"
   ]
  },
  {
   "cell_type": "markdown",
   "metadata": {
    "slideshow": {
     "slide_type": "slide"
    }
   },
   "source": [
    "**Step 3**: Take the middle 95% of the empirical distribution of sample medians (i.e. `boot_medians`). This creates our 95% confidence interval."
   ]
  },
  {
   "cell_type": "code",
   "execution_count": null,
   "metadata": {
    "slideshow": {
     "slide_type": "-"
    }
   },
   "outputs": [],
   "source": [
    "left = np.percentile(boot_medians, 2.5)\n",
    "right = np.percentile(boot_medians, 97.5)\n",
    "\n",
    "# Therefore, our interval is:\n",
    "[left, right]"
   ]
  },
  {
   "cell_type": "code",
   "execution_count": null,
   "metadata": {},
   "outputs": [],
   "source": [
    "bpd.DataFrame().assign(BootstrapMedians=boot_medians).plot(kind='hist', density=True, bins=np.arange(60000, 85000, 1000), ec='w', figsize=(10, 5))\n",
    "plt.plot([left, right], [0, 0], color='gold', linewidth=12, label='95% confidence interval');\n",
    "plt.scatter(population_median, 0.000004, color='blue', s=100, label='population median').set_zorder(3)\n",
    "plt.legend();"
   ]
  },
  {
   "cell_type": "markdown",
   "metadata": {
    "slideshow": {
     "slide_type": "slide"
    }
   },
   "source": [
    "### Concept Check ✅ – Answer at [cc.dsc10.com](http://cc.dsc10.com)\n",
    "\n",
    "We computed the following 95% confidence interval:"
   ]
  },
  {
   "cell_type": "code",
   "execution_count": null,
   "metadata": {},
   "outputs": [],
   "source": [
    "print('Interval:', [left, right])\n",
    "print('Width:', right - left)"
   ]
  },
  {
   "cell_type": "markdown",
   "metadata": {},
   "source": [
    "If we instead computed an 80% confidence interval, would it be wider or narrower?\n",
    "\n",
    "<center>\n",
    "A. Wider &nbsp;&nbsp;&nbsp;&nbsp;&nbsp;&nbsp;&nbsp;&nbsp;&nbsp;&nbsp;&nbsp;&nbsp;&nbsp;&nbsp;&nbsp;&nbsp; B. Narrower &nbsp;&nbsp;&nbsp;&nbsp;&nbsp;&nbsp;&nbsp;&nbsp;&nbsp;&nbsp;&nbsp;&nbsp;&nbsp;&nbsp;&nbsp;&nbsp; C. Impossible to tell\n",
    "</center"
   ]
  },
  {
   "cell_type": "markdown",
   "metadata": {
    "slideshow": {
     "slide_type": "slide"
    }
   },
   "source": [
    "### Confidence intervals describe a guess for the value of an unknown parameter"
   ]
  },
  {
   "cell_type": "markdown",
   "metadata": {
    "slideshow": {
     "slide_type": "fragment"
    }
   },
   "source": [
    "Now, instead of saying\n",
    "\n",
    "> We think the population median is close to our sample median, \\\\$72,016."
   ]
  },
  {
   "cell_type": "markdown",
   "metadata": {
    "slideshow": {
     "slide_type": "fragment"
    }
   },
   "source": [
    "We can say:\n",
    "\n",
    "> A 95% confidence interval for the population median is \\\\$66,987 to \\\\$76,527."
   ]
  },
  {
   "cell_type": "markdown",
   "metadata": {
    "slideshow": {
     "slide_type": "fragment"
    }
   },
   "source": [
    "**Today, we'll address**: What does 95% confidence mean? What are we confident about? Is this technique always \"good\"?"
   ]
  },
  {
   "cell_type": "markdown",
   "metadata": {
    "slideshow": {
     "slide_type": "slide"
    }
   },
   "source": [
    "### Interpreting confidence intervals\n",
    "\n",
    "- We created a confidence interval that contained 95% of our bootstrapped sample medians.\n",
    "- We're pretty confident that the true population median does, too.\n",
    "- How confident should we be about this? **What does a 95% confidence level mean?**"
   ]
  },
  {
   "cell_type": "markdown",
   "metadata": {
    "slideshow": {
     "slide_type": "slide"
    }
   },
   "source": [
    "### Capturing the true value"
   ]
  },
  {
   "cell_type": "markdown",
   "metadata": {
    "slideshow": {
     "slide_type": "fragment"
    }
   },
   "source": [
    "- Consider the following three-step process:\n",
    "    1. Collecting a **new original sample** from the population.\n",
    "    1. Bootstrap resampling from it many times, computing the statistic (e.g. median) in each resample.\n",
    "    1. Constructing a new 95% confidence interval."
   ]
  },
  {
   "cell_type": "markdown",
   "metadata": {
    "slideshow": {
     "slide_type": "fragment"
    }
   },
   "source": [
    "- A 95% confidence level means that **approximately 95% of the time, the intervals you create through this process will contain the true population parameter**."
   ]
  },
  {
   "cell_type": "markdown",
   "metadata": {
    "slideshow": {
     "slide_type": "fragment"
    }
   },
   "source": [
    "- The confidence is in **the process** that generates the interval."
   ]
  },
  {
   "cell_type": "markdown",
   "metadata": {
    "slideshow": {
     "slide_type": "slide"
    }
   },
   "source": [
    "### Many confidence intervals\n",
    "\n",
    "- We repeated the aforementioned process 200 times, to come up with 200 confidence intervals.\n",
    "    - We did this in advance (it took a really long time) and saved the results to a file.\n",
    "- The resulting CIs are stored in the array `many_cis` below."
   ]
  },
  {
   "cell_type": "code",
   "execution_count": null,
   "metadata": {},
   "outputs": [],
   "source": [
    "many_cis = np.load('data/many_cis.npy')\n",
    "many_cis"
   ]
  },
  {
   "cell_type": "markdown",
   "metadata": {
    "slideshow": {
     "slide_type": "slide"
    }
   },
   "source": [
    "In the visualization below,\n",
    "- The blue line represents the population parameter. **This is not random.**\n",
    "- Each gold line represents a separate confidence interval, created using the specified process.\n",
    "- Most of these confidence intervals contain the true parameter – but not all!"
   ]
  },
  {
   "cell_type": "code",
   "execution_count": null,
   "metadata": {},
   "outputs": [],
   "source": [
    "plt.figure(figsize=(10, 6))\n",
    "for i, ci in enumerate(many_cis):\n",
    "    plt.plot([ci[0], ci[1]], [i, i], color='gold', linewidth=2)\n",
    "plt.axvline(x=population_median, color='blue');"
   ]
  },
  {
   "cell_type": "markdown",
   "metadata": {
    "slideshow": {
     "slide_type": "slide"
    }
   },
   "source": [
    "### Which confidence intervals don't contain the true parameter?"
   ]
  },
  {
   "cell_type": "code",
   "execution_count": null,
   "metadata": {},
   "outputs": [],
   "source": [
    "plt.figure(figsize=(10, 6))\n",
    "count_outside = 0\n",
    "for i, ci in enumerate(many_cis):\n",
    "    if ci[0] > population_median or ci[1] < population_median:\n",
    "        plt.plot([ci[0], ci[1]], [i, i], color='gold', linewidth=2)\n",
    "        count_outside = count_outside + 1\n",
    "plt.axvline(x=population_median, color='blue');"
   ]
  },
  {
   "cell_type": "code",
   "execution_count": null,
   "metadata": {},
   "outputs": [],
   "source": [
    "count_outside"
   ]
  },
  {
   "cell_type": "markdown",
   "metadata": {
    "slideshow": {
     "slide_type": "fragment"
    }
   },
   "source": [
    "- 11 of our 200 confidence intervals didn't contain the true parameter.\n",
    "- That means 189/200, or 94.5% of them, did.\n",
    "    - This is pretty close to 95%!"
   ]
  },
  {
   "cell_type": "markdown",
   "metadata": {
    "slideshow": {
     "slide_type": "fragment"
    }
   },
   "source": [
    "- In reality, you will have **only one confidence interval, and no way of knowing if it contains the true parameter**, since you have no way of knowing if your one original sample is good."
   ]
  },
  {
   "cell_type": "markdown",
   "metadata": {
    "slideshow": {
     "slide_type": "slide"
    }
   },
   "source": [
    "### Confidence tradeoffs"
   ]
  },
  {
   "cell_type": "markdown",
   "metadata": {
    "slideshow": {
     "slide_type": "fragment"
    }
   },
   "source": [
    "- When we use an \"unlucky\" sample to make our CI, the CI won't contain the population parameter."
   ]
  },
  {
   "cell_type": "markdown",
   "metadata": {
    "slideshow": {
     "slide_type": "fragment"
    }
   },
   "source": [
    "- If we choose a 99% confidence level, \n",
    "    - only about 1% of our samples will be \"unlucky\", but\n",
    "    - our intervals will be very wide and thus not that useful."
   ]
  },
  {
   "cell_type": "markdown",
   "metadata": {
    "slideshow": {
     "slide_type": "fragment"
    }
   },
   "source": [
    "- If we choose an 80% confidence level, \n",
    "    - more of our samples will be \"unlucky\", but\n",
    "    - our intervals will be narrower and thus more precise."
   ]
  },
  {
   "cell_type": "markdown",
   "metadata": {
    "slideshow": {
     "slide_type": "fragment"
    }
   },
   "source": [
    "- At a fixed confidence level, how do we decrease the width of a confidence interval?\n",
    "    - By taking a bigger sample!\n",
    "    - We'll soon see how sample sizes, confidence levels, and CI widths are related to one another."
   ]
  },
  {
   "cell_type": "markdown",
   "metadata": {
    "slideshow": {
     "slide_type": "slide"
    }
   },
   "source": [
    "### Misinterpreting confidence intervals\n",
    "\n",
    "Confidence intervals can be hard to interpret."
   ]
  },
  {
   "cell_type": "code",
   "execution_count": null,
   "metadata": {},
   "outputs": [],
   "source": [
    "# Our interval:\n",
    "[left, right]"
   ]
  },
  {
   "cell_type": "markdown",
   "metadata": {
    "slideshow": {
     "slide_type": "fragment"
    }
   },
   "source": [
    "**Does this interval contain 95% of all salaries? No!** ❌"
   ]
  },
  {
   "cell_type": "code",
   "execution_count": null,
   "metadata": {},
   "outputs": [],
   "source": [
    "population.plot(kind='hist', y='TotalWages', density=True, ec='w', figsize=(10, 5))\n",
    "plt.plot([left, right], [0, 0], color='gold', linewidth=12, label='95% confidence interval');\n",
    "plt.legend();"
   ]
  },
  {
   "cell_type": "markdown",
   "metadata": {
    "slideshow": {
     "slide_type": "fragment"
    }
   },
   "source": [
    "However, this interval does contain 95% of all bootstrapped median salaries."
   ]
  },
  {
   "cell_type": "code",
   "execution_count": null,
   "metadata": {},
   "outputs": [],
   "source": [
    "bpd.DataFrame().assign(BootstrapMedians=boot_medians).plot(kind='hist', density=True, bins=np.arange(60000, 85000, 1000), ec='w', figsize=(10, 5))\n",
    "plt.plot([left, right], [0, 0], color='gold', linewidth=12, label='95% confidence interval');\n",
    "plt.legend();"
   ]
  },
  {
   "cell_type": "code",
   "execution_count": null,
   "metadata": {
    "slideshow": {
     "slide_type": "slide"
    }
   },
   "outputs": [],
   "source": [
    "# Our interval:\n",
    "[left, right]"
   ]
  },
  {
   "cell_type": "markdown",
   "metadata": {
    "slideshow": {
     "slide_type": "fragment"
    }
   },
   "source": [
    "**Is there is a 95% chance that this interval contains the population parameter? No!** ❌"
   ]
  },
  {
   "cell_type": "markdown",
   "metadata": {
    "slideshow": {
     "slide_type": "fragment"
    }
   },
   "source": [
    "Why not?\n",
    "- The population parameter is fixed. In reality, we might not know it, but it is **not random**.\n",
    "- The interval above is not random, either (but the process that creates it is).\n",
    "- For a given interval, the population parameter is in the interval, or it is not. There is no randomness involved.\n",
    "- Remember that the 95% confidence is in the process that created an interval.\n",
    "- This process – sampling, then bootstrapping, then creating an interval – creates a good interval roughly 95% of the time."
   ]
  },
  {
   "cell_type": "code",
   "execution_count": null,
   "metadata": {
    "scrolled": false,
    "slideshow": {
     "slide_type": "slide"
    }
   },
   "outputs": [],
   "source": [
    "show_confidence_interval_slides()"
   ]
  },
  {
   "cell_type": "markdown",
   "metadata": {
    "slideshow": {
     "slide_type": "slide"
    }
   },
   "source": [
    "### Bootstrapping rules of thumb"
   ]
  },
  {
   "cell_type": "markdown",
   "metadata": {
    "slideshow": {
     "slide_type": "fragment"
    }
   },
   "source": [
    "- Bootstrapping is powerful! We only had to collect a single sample from the population to get the (approximate) distribution of the sample median."
   ]
  },
  {
   "cell_type": "markdown",
   "metadata": {
    "slideshow": {
     "slide_type": "fragment"
    }
   },
   "source": [
    "- But it has limitations:\n",
    "    - It is not good for sensitive statistics, like the max or min.\n",
    "         - A sensitive statistic is one that might change a lot for a different sample.\n",
    "    - It only gives useful results if the sample is a good approximation of population.\n",
    "        - If our original sample was not representative of the population, the resulting bootstrapped samples will also not be representative of the population."
   ]
  },
  {
   "cell_type": "markdown",
   "metadata": {
    "slideshow": {
     "slide_type": "slide"
    }
   },
   "source": [
    "### Example: Estimating the max of a population\n",
    "\n",
    "- Suppose we want to estimate the maximum salary of all San Diego city employees, given just a single sample, `my_sample`.\n",
    "- Our estimate will be the max in the sample. This is a statistic.\n",
    "- To get the empirical distribution of this statistic, we bootstrap:"
   ]
  },
  {
   "cell_type": "code",
   "execution_count": null,
   "metadata": {},
   "outputs": [],
   "source": [
    "n_resamples = 5000\n",
    "boot_maxes = np.array([])\n",
    "\n",
    "for i in range(n_resamples):\n",
    "    resample = my_sample.sample(my_sample.shape[0], replace=True)\n",
    "    boot_max = resample.get('TotalWages').max()\n",
    "    boot_maxes = np.append(boot_maxes, boot_max)"
   ]
  },
  {
   "cell_type": "code",
   "execution_count": null,
   "metadata": {},
   "outputs": [],
   "source": [
    "boot_maxes"
   ]
  },
  {
   "cell_type": "markdown",
   "metadata": {
    "slideshow": {
     "slide_type": "slide"
    }
   },
   "source": [
    "### Visualize\n",
    "\n",
    "Since we have access to the population, we can find the population maximum directly, without bootstrapping."
   ]
  },
  {
   "cell_type": "code",
   "execution_count": null,
   "metadata": {},
   "outputs": [],
   "source": [
    "population_max = population.get('TotalWages').max()\n",
    "population_max"
   ]
  },
  {
   "cell_type": "markdown",
   "metadata": {
    "slideshow": {
     "slide_type": "fragment"
    }
   },
   "source": [
    "Does the population maximum lie within the bulk of the bootstrapped distribution?"
   ]
  },
  {
   "cell_type": "code",
   "execution_count": null,
   "metadata": {
    "scrolled": false
   },
   "outputs": [],
   "source": [
    "bpd.DataFrame().assign(BootstrapMax=boot_maxes).plot(kind='hist', \n",
    "                                                     density=True, \n",
    "                                                     bins=10,\n",
    "                                                     ec='w',\n",
    "                                                     figsize=(10, 5))\n",
    "plt.scatter(population_max, 0.0000008, color='blue', s=100, label='population max')\n",
    "plt.legend();"
   ]
  },
  {
   "cell_type": "markdown",
   "metadata": {
    "slideshow": {
     "slide_type": "fragment"
    }
   },
   "source": [
    "No, the bootstrapped distribution doesn't capture the population maximum (<span style=\"color:blue\"><b>blue dot</b></span>) of \\$359,138. Why not? 🤔"
   ]
  },
  {
   "cell_type": "code",
   "execution_count": null,
   "metadata": {},
   "outputs": [],
   "source": [
    "my_sample.get('TotalWages').max()"
   ]
  },
  {
   "cell_type": "markdown",
   "metadata": {
    "slideshow": {
     "slide_type": "fragment"
    }
   },
   "source": [
    "- The largest value in our original sample was \\\\$329,949. So, the largest value in any bootstrapped sample is at most \\\\$329,949."
   ]
  },
  {
   "cell_type": "markdown",
   "metadata": {
    "slideshow": {
     "slide_type": "fragment"
    }
   },
   "source": [
    "- Generally, bootstrapping works better for measures of central tendency or variation (mean, median, standard deviation) than it does for extreme values (max and min)."
   ]
  },
  {
   "cell_type": "markdown",
   "metadata": {
    "slideshow": {
     "slide_type": "slide"
    }
   },
   "source": [
    "## Confidence intervals for hypothesis testing"
   ]
  },
  {
   "cell_type": "markdown",
   "metadata": {
    "slideshow": {
     "slide_type": "slide"
    }
   },
   "source": [
    "### Using confidence intervals for hypothesis testing\n",
    "\n",
    "It turns out that we can use confidence intervals for hypothesis testing!\n",
    "\n",
    "- **Null Hypothesis**: The population parameter is equal to some value, $x$.\n",
    "- **Alternative Hypothesis**: The population parameter is not equal to $x$."
   ]
  },
  {
   "cell_type": "markdown",
   "metadata": {
    "slideshow": {
     "slide_type": "fragment"
    }
   },
   "source": [
    "- Cutoff for p-value: p%."
   ]
  },
  {
   "cell_type": "markdown",
   "metadata": {
    "slideshow": {
     "slide_type": "fragment"
    }
   },
   "source": [
    "- Strategy:\n",
    "    - Construct a (100-p)% confidence interval for the population parameter.\n",
    "    - If $x$ is not in the interval, we reject the null hypothesis.\n",
    "    - If $x$ is in the interval, we fail to reject the null hypothesis (since our results are consistent with the null)."
   ]
  },
  {
   "cell_type": "markdown",
   "metadata": {
    "slideshow": {
     "slide_type": "slide"
    }
   },
   "source": [
    "### Example: Fire-Rescue Department 🚒"
   ]
  },
  {
   "cell_type": "code",
   "execution_count": null,
   "metadata": {
    "scrolled": false
   },
   "outputs": [],
   "source": [
    "population = bpd.read_csv('data/2021_salaries.csv')\n",
    "fire_rescue_population = population[population.get('DepartmentOrSubdivision') == 'Fire-Rescue']\n",
    "fire_rescue_population"
   ]
  },
  {
   "cell_type": "markdown",
   "metadata": {
    "slideshow": {
     "slide_type": "slide"
    }
   },
   "source": [
    "### Setting up a hypothesis test"
   ]
  },
  {
   "cell_type": "markdown",
   "metadata": {
    "slideshow": {
     "slide_type": "fragment"
    }
   },
   "source": [
    "- Suppose we only have access to a sample of 300 Fire-Rescue Department workers."
   ]
  },
  {
   "cell_type": "markdown",
   "metadata": {
    "slideshow": {
     "slide_type": "fragment"
    }
   },
   "source": [
    "- We want to understand the median salary of *all* Fire-Rescue Department workers. We have a guess that it's \\$75,000, but we're not sure."
   ]
  },
  {
   "cell_type": "markdown",
   "metadata": {
    "slideshow": {
     "slide_type": "fragment"
    }
   },
   "source": [
    "- **Null Hypothesis**: The median salary of Fire-Rescue Department workers is \\$75,000.\n",
    "- **Alternative Hypothesis**: The median salary of Fire-Rescue Department workers is not \\$75,000."
   ]
  },
  {
   "cell_type": "markdown",
   "metadata": {
    "slideshow": {
     "slide_type": "fragment"
    }
   },
   "source": [
    "- We'll use a significance level (i.e. p-value cutoff) of 0.01."
   ]
  },
  {
   "cell_type": "code",
   "execution_count": null,
   "metadata": {
    "scrolled": false
   },
   "outputs": [],
   "source": [
    "np.random.seed(38)\n",
    "\n",
    "# Let's once again suppose we only have access to a sample.\n",
    "fire_rescue_sample = fire_rescue_population.sample(300)\n",
    "fire_rescue_sample"
   ]
  },
  {
   "cell_type": "markdown",
   "metadata": {
    "slideshow": {
     "slide_type": "slide"
    }
   },
   "source": [
    "### Testing the hypotheses\n",
    "- Since we're using a significance level of 0.01 = 1%, we need a 99% confidence interval for the median salary of Fire-Rescue Department workers.\n",
    "- To construct this confidence interval, we'll bootstrap to compute many sample medians, and we'll find the middle 99% of the distribution of bootstrapped medians using `np.percentile`."
   ]
  },
  {
   "cell_type": "code",
   "execution_count": null,
   "metadata": {},
   "outputs": [],
   "source": [
    "n_resamples = 500\n",
    "fire_rescue_medians = np.array([])\n",
    "for i in range(n_resamples):\n",
    "    # Resample from fire_rescue_sample.\n",
    "    resample = fire_rescue_sample.sample(300, replace=True)\n",
    "    \n",
    "    # Compute the median.\n",
    "    median = resample.get('TotalWages').median()\n",
    "    \n",
    "    # Add it to our array of bootstrapped medians.\n",
    "    fire_rescue_medians = np.append(fire_rescue_medians, median)"
   ]
  },
  {
   "cell_type": "code",
   "execution_count": null,
   "metadata": {},
   "outputs": [],
   "source": [
    "fire_rescue_medians"
   ]
  },
  {
   "cell_type": "markdown",
   "metadata": {
    "slideshow": {
     "slide_type": "slide"
    }
   },
   "source": [
    "### Finding the interval"
   ]
  },
  {
   "cell_type": "code",
   "execution_count": null,
   "metadata": {},
   "outputs": [],
   "source": [
    "fire_left = np.percentile(fire_rescue_medians, 0.5)\n",
    "fire_left"
   ]
  },
  {
   "cell_type": "code",
   "execution_count": null,
   "metadata": {},
   "outputs": [],
   "source": [
    "fire_right = np.percentile(fire_rescue_medians, 99.5)\n",
    "fire_right"
   ]
  },
  {
   "cell_type": "code",
   "execution_count": null,
   "metadata": {},
   "outputs": [],
   "source": [
    "# Resulting interval:\n",
    "[fire_left, fire_right]"
   ]
  },
  {
   "cell_type": "markdown",
   "metadata": {
    "slideshow": {
     "slide_type": "fragment"
    }
   },
   "source": [
    "Is \\$75,000 in this interval? No. ❌"
   ]
  },
  {
   "cell_type": "markdown",
   "metadata": {
    "slideshow": {
     "slide_type": "slide"
    }
   },
   "source": [
    "### Conclusion of the hypothesis test\n",
    "- Since our 99% confidence interval did not contain \\$75,000, we reject the null.\n",
    "- It doesn't look like the median salary of all fire-rescue workers is \\$75,000, though we can't say why."
   ]
  },
  {
   "cell_type": "code",
   "execution_count": null,
   "metadata": {},
   "outputs": [],
   "source": [
    "bpd.DataFrame().assign(FireRescueBootstrapMedians=fire_rescue_medians).plot(kind='hist', density=True, bins=np.arange(75000, 125000, 1000), ec='w', figsize=(10, 5))\n",
    "plt.plot([fire_left, fire_right], [0, 0], color='gold', linewidth=12, label='99% confidence interval');\n",
    "plt.legend();"
   ]
  },
  {
   "cell_type": "code",
   "execution_count": null,
   "metadata": {},
   "outputs": [],
   "source": [
    "# Actual population median of Fire-Rescue Department salaries:\n",
    "fire_rescue_population.get('TotalWages').median()"
   ]
  },
  {
   "cell_type": "markdown",
   "metadata": {
    "slideshow": {
     "slide_type": "slide"
    }
   },
   "source": [
    "### Summary of methods"
   ]
  },
  {
   "cell_type": "markdown",
   "metadata": {
    "slideshow": {
     "slide_type": "fragment"
    }
   },
   "source": [
    "- To test whether a sample came from a known population distribution, use \"standard\" hypothesis testing.\n",
    "    - Examples: Swain vs. Alabama, Mendel's peas, coin flipping, Alameda jury panels."
   ]
  },
  {
   "cell_type": "markdown",
   "metadata": {
    "slideshow": {
     "slide_type": "fragment"
    }
   },
   "source": [
    "- To test whether two samples came from the same unknown population distribution, use permutation testing.\n",
    "    - Examples: Smoking mothers' baby weights, Deflategate."
   ]
  },
  {
   "cell_type": "markdown",
   "metadata": {
    "slideshow": {
     "slide_type": "fragment"
    }
   },
   "source": [
    "- To estimate a population parameter given a single sample, use bootstrapping to construct a confidence interval.\n",
    "    - Example: San Diego city employee salaries."
   ]
  },
  {
   "cell_type": "markdown",
   "metadata": {
    "slideshow": {
     "slide_type": "fragment"
    }
   },
   "source": [
    "- To test whether a population parameter is equal to a particular value, $x$, use bootstrapping to construct a confidence interval, and check whether $x$ is in the interval.\n",
    "    - Example: San Diego Fire-Rescue employee salaries."
   ]
  },
  {
   "cell_type": "markdown",
   "metadata": {
    "slideshow": {
     "slide_type": "fragment"
    }
   },
   "source": [
    "- **Remember this!**"
   ]
  },
  {
   "cell_type": "markdown",
   "metadata": {
    "slideshow": {
     "slide_type": "slide"
    }
   },
   "source": [
    "## Central tendency"
   ]
  },
  {
   "cell_type": "markdown",
   "metadata": {
    "slideshow": {
     "slide_type": "slide"
    }
   },
   "source": [
    "### Some questions"
   ]
  },
  {
   "cell_type": "markdown",
   "metadata": {
    "slideshow": {
     "slide_type": "fragment"
    }
   },
   "source": [
    "- If we know the mean and standard deviation of a distribution, but nothing else, what can we say about its shape?"
   ]
  },
  {
   "cell_type": "markdown",
   "metadata": {
    "slideshow": {
     "slide_type": "fragment"
    }
   },
   "source": [
    "- What is the \"normal\" distribution, and how does it relate to some of the distributions we've already seen?"
   ]
  },
  {
   "cell_type": "markdown",
   "metadata": {
    "slideshow": {
     "slide_type": "fragment"
    }
   },
   "source": [
    "- We're going to start to address these questions over the next few lectures."
   ]
  },
  {
   "cell_type": "markdown",
   "metadata": {
    "slideshow": {
     "slide_type": "fragment"
    }
   },
   "source": [
    "- But first, we need to formally discuss how the mean and median behave. Both are measures of **central tendency** – that is, the \"center\" of a distribution."
   ]
  },
  {
   "cell_type": "markdown",
   "metadata": {
    "slideshow": {
     "slide_type": "slide"
    }
   },
   "source": [
    "### The mean (i.e. average)\n",
    "\n",
    "The mean is a one-number summary of a set of numbers. For example, the mean of $2, 3, 3,$ and $9$ is $\\frac{2 + 3 + 3 + 9}{4} = 4.25$.\n",
    "\n",
    "Observe that the mean:"
   ]
  },
  {
   "cell_type": "markdown",
   "metadata": {
    "slideshow": {
     "slide_type": "fragment"
    }
   },
   "source": [
    "- Doesn't have to be equal to one of the data points.\n",
    "\n"
   ]
  },
  {
   "cell_type": "markdown",
   "metadata": {
    "slideshow": {
     "slide_type": "fragment"
    }
   },
   "source": [
    "- Doesn't have to be an integer, even if all of the data points are integers.\n",
    "\n"
   ]
  },
  {
   "cell_type": "markdown",
   "metadata": {
    "slideshow": {
     "slide_type": "fragment"
    }
   },
   "source": [
    "- Is somewhere between the min and max, but not necessarily halfway between."
   ]
  },
  {
   "cell_type": "markdown",
   "metadata": {
    "slideshow": {
     "slide_type": "fragment"
    }
   },
   "source": [
    "- Has the same units as the data."
   ]
  },
  {
   "cell_type": "markdown",
   "metadata": {
    "slideshow": {
     "slide_type": "slide"
    }
   },
   "source": [
    "### The median"
   ]
  },
  {
   "cell_type": "markdown",
   "metadata": {
    "slideshow": {
     "slide_type": "fragment"
    }
   },
   "source": [
    "- Like the mean, the median is a one-number summary of a set of numbers."
   ]
  },
  {
   "cell_type": "markdown",
   "metadata": {
    "slideshow": {
     "slide_type": "fragment"
    }
   },
   "source": [
    "- To calculate it, **sort the data points and pick the number in the middle**.\n",
    "    - If there are two middle numbers, we usually pick the number halfway between (i.e. the mean of the middle two)."
   ]
  },
  {
   "cell_type": "markdown",
   "metadata": {
    "slideshow": {
     "slide_type": "fragment"
    }
   },
   "source": [
    "- **Example:** $\\text{Median}(1, 4, 7, 12, 32) = 7$"
   ]
  },
  {
   "cell_type": "markdown",
   "metadata": {
    "slideshow": {
     "slide_type": "fragment"
    }
   },
   "source": [
    "- **Example:** $\\text{Median}(1, 4, 7, 12) = 5.5$"
   ]
  },
  {
   "cell_type": "markdown",
   "metadata": {
    "slideshow": {
     "slide_type": "fragment"
    }
   },
   "source": [
    "- As we saw last class, the median isn't necessarily equal to the 50th percentile, when using our mathematical definition of a percentile!"
   ]
  },
  {
   "cell_type": "markdown",
   "metadata": {
    "slideshow": {
     "slide_type": "slide"
    }
   },
   "source": [
    "### Activity\n",
    "\n",
    "Create a set of data points that has this histogram. (You can do it with a short list of whole numbers.)\n",
    "\n",
    "<br>\n",
    "<center><img src='data/hist.jpg' width=450></center>\n",
    "<br>\n",
    "\n",
    "What are its mean and median?"
   ]
  },
  {
   "cell_type": "code",
   "execution_count": null,
   "metadata": {},
   "outputs": [],
   "source": []
  },
  {
   "cell_type": "code",
   "execution_count": null,
   "metadata": {},
   "outputs": [],
   "source": []
  },
  {
   "cell_type": "markdown",
   "metadata": {
    "slideshow": {
     "slide_type": "slide"
    }
   },
   "source": [
    "### Concept Check ✅ – Answer at [cc.dsc10.com](http://cc.dsc10.com)\n",
    "\n",
    "<center>\n",
    "    <table><tr>\n",
    "        <td> <center><img src=\"data/hist.jpg\" width=70%></center>  </td>\n",
    "        <td> <center><img src=\"data/hist2.jpg\" width=70%></center> </td>\n",
    "    </tr></table>\n",
    "</center>\n",
    "\n",
    "Are the means of these two distributions the same or different? What about the medians?\n",
    "\n",
    "- A. Both are the same\n",
    "- B. Means are different, medians are same\n",
    "- C. Means are same, medians are different\n",
    "- D. Both are different"
   ]
  },
  {
   "cell_type": "markdown",
   "metadata": {
    "slideshow": {
     "slide_type": "slide"
    }
   },
   "source": [
    "## Summary, next time"
   ]
  },
  {
   "cell_type": "markdown",
   "metadata": {
    "slideshow": {
     "slide_type": "slide"
    }
   },
   "source": [
    "### Summary: Confidence intervals and hypothesis testing\n",
    "\n",
    "- **Null Hypothesis**: The population parameter is equal to some value, $x$.\n",
    "- **Alternative Hypothesis**: The population parameter is not equal to $x$.\n",
    "- Cutoff for p-value: p%.\n",
    "- Strategy:\n",
    "    - Construct a (100-p)% confidence interval for the population parameter.\n",
    "    - If $x$ is not in the interval, we reject the null hypothesis.\n",
    "    - If $x$ is in the interval, we fail to reject the null hypothesis (since our results are consistent with the null)."
   ]
  },
  {
   "cell_type": "markdown",
   "metadata": {
    "slideshow": {
     "slide_type": "slide"
    }
   },
   "source": [
    "### Next time\n",
    "\n",
    "- What is the standard deviation of a distribution?\n",
    "- If we know the mean and standard deviation of a distribution, but nothing else, what can we say about its shape?\n",
    "- What is the \"normal\" distribution, and how does it relate to some of the distributions we've already seen?"
   ]
  }
 ],
 "metadata": {
  "kernelspec": {
   "display_name": "Python 3 (ipykernel)",
   "language": "python",
   "name": "python3"
  },
  "language_info": {
   "codemirror_mode": {
    "name": "ipython",
    "version": 3
   },
   "file_extension": ".py",
   "mimetype": "text/x-python",
   "name": "python",
   "nbconvert_exporter": "python",
   "pygments_lexer": "ipython3",
   "version": "3.9.13"
  },
  "livereveal": {
   "scroll": true,
   "transition": "none"
  },
  "rise": {
   "enable_chalkboard": true
  }
 },
 "nbformat": 4,
 "nbformat_minor": 2
}
