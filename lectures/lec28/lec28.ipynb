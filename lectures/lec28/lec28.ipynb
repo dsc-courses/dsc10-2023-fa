{
 "cells": [
  {
   "cell_type": "code",
   "execution_count": null,
   "id": "61ca88b5",
   "metadata": {
    "slideshow": {
     "slide_type": "skip"
    }
   },
   "outputs": [],
   "source": [
    "# Set up packages for lecture. Don't worry about understanding this code,\n",
    "# but make sure to run it if you're following along.\n",
    "import numpy as np\n",
    "import babypandas as bpd\n",
    "import pandas as pd"
   ]
  },
  {
   "cell_type": "markdown",
   "id": "61a2a8dc",
   "metadata": {
    "slideshow": {
     "slide_type": "slide"
    }
   },
   "source": [
    "# Lecture 28 – Review, Conclusion\n",
    "\n",
    "## DSC 10, Fall 2023"
   ]
  },
  {
   "cell_type": "markdown",
   "id": "c86a31d6",
   "metadata": {
    "slideshow": {
     "slide_type": "slide"
    }
   },
   "source": [
    "### Announcements\n",
    "\n",
    "- The Final Exam is **tomorrow 12/9 from 7-10PM**. See [**this post on Ed**](https://edstem.org/us/courses/48101/discussion/3988059) for more details, including your assigned room and seat (ignore the room that WebReg says!).\n",
    "- If at least 85% of the class fills out both [**SETs**](https://academicaffairs.ucsd.edu/Modules/Evals/) and the internal [**End-of-Quarter Survey**](https://docs.google.com/forms/d/e/1FAIpQLSeaQYHSzfjHIVnn-XtIxEBjEacddwEVC2bomgkTV_vVM--wCA/viewform) **by tomorrow at 8AM**, then the entire class will have **1% of extra credit added to their overall grade**.\n",
    "    - As of last night, we were only at ~47% for the End-of-Quarter Survey. You can do it!\n",
    "- The solutions to the [**Spring 2023 Final Exam**](https://practice.dsc10.com/sp23-final) have been posted; Wednesday's podcasts, which explain most of the exam, are linked at the top."
   ]
  },
  {
   "cell_type": "markdown",
   "id": "a95b568a",
   "metadata": {
    "slideshow": {
     "slide_type": "slide"
    }
   },
   "source": [
    "### Agenda\n",
    "\n",
    "- More review of old exam problems.\n",
    "- Working on personal projects.\n",
    "- Demo: Gapminder 🌎.\n",
    "- Some parting thoughts."
   ]
  },
  {
   "cell_type": "markdown",
   "id": "44ca07f9",
   "metadata": {
    "slideshow": {
     "slide_type": "slide"
    }
   },
   "source": [
    "## More review"
   ]
  },
  {
   "cell_type": "markdown",
   "id": "8ab10998",
   "metadata": {
    "slideshow": {
     "slide_type": "slide"
    }
   },
   "source": [
    "### Selected problems\n",
    "\n",
    "We're going to work on as many of the following problems as we can in class. There's a PDF template linked on the course website that you can write on; we'll post annotated slides after class. \n",
    "\n",
    "- [Winter 2023 Final Exam, Problem 16](https://practice.dsc10.com/wi23-final/index.html#problem-16) (CLT and hypothesis testing).\n",
    "- [Fall 2022 Final Exam, Problem 6](https://practice.dsc10.com/fa22-final/index.html#problem-6) (regression).\n",
    "- [Spring 2022 Final Exam, Problem 16](https://practice.dsc10.com/sp22-final/index.html#problem-16) (probability)."
   ]
  },
  {
   "cell_type": "markdown",
   "id": "116bb9bf",
   "metadata": {
    "slideshow": {
     "slide_type": "slide"
    }
   },
   "source": [
    "## Personal projects"
   ]
  },
  {
   "cell_type": "markdown",
   "id": "1096e857",
   "metadata": {
    "slideshow": {
     "slide_type": "slide"
    }
   },
   "source": [
    "### Using Jupyter Notebooks after DSC 10\n",
    "\n",
    "- You may be interested in working on data science projects of your own.\n",
    "- In [this video](https://www.youtube.com/watch?v=Hq8VaNirDRQ), we show you how to make blank notebooks and upload datasets of your own to DataHub.\n",
    "- After this quarter, depending on the classes you're enrolled in, you may not have access to DataHub. Eventually, you'll want to install Jupyter Notebooks on your computer.\n",
    "    - [Anaconda](https://docs.anaconda.com/anaconda/install/index.html) is a great way to do that, as it also installs many commonly used packages.\n",
    "    - You may want to download your work from DataHub so you can refer to it after the course ends (though you can look at it on Gradescope too).\n",
    "    - Remember, all `babypandas` code is regular `pandas` code, too!"
   ]
  },
  {
   "cell_type": "markdown",
   "id": "11dcf19d",
   "metadata": {
    "slideshow": {
     "slide_type": "slide"
    }
   },
   "source": [
    "### Finding data\n",
    "\n",
    "These sites allow you to search for datasets (in CSV format) from a variety of different domains. Some may require you to sign up for an account; these are generally reputable sources.\n",
    "\n",
    "Note that all of these links are also available at [rampure.org/find-datasets](https://rampure.org/find-datasets).\n",
    "\n",
    "- [Data is Plural](https://www.data-is-plural.com/archive/)\n",
    "- [FiveThirtyEight](https://data.fivethirtyeight.com/).\n",
    "- [CORGIS](https://corgis-edu.github.io/corgis/csv/).\n",
    "- [Kaggle Datasets](https://www.kaggle.com/datasets).\n",
    "- [Google’s dataset search](http://toolbox.google.com/datasetsearch).\n",
    "- [DataHub.io](https://datahub.io/collections).\n",
    "- [Data.world.](https://data.world/)\n",
    "- [R datasets](https://vincentarelbundock.github.io/Rdatasets/articles/data.html).\n",
    "- Wikipedia. (Use [this site](https://wikitable2csv.ggor.de/) to extract and download tables as CSVs.)\n",
    "- [Awesome Public Datasets GitHub repo](https://github.com/awesomedata/awesome-public-datasets).\n",
    "- [Links to even more sources](https://rockcontent.com/blog/data-sources/)."
   ]
  },
  {
   "cell_type": "markdown",
   "id": "4d072278",
   "metadata": {
    "slideshow": {
     "slide_type": "slide"
    }
   },
   "source": [
    "### Domain-specific sources of data\n",
    "\n",
    "- Sports: [Basketball Reference](https://www.basketball-reference.com/), [Baseball Reference](https://www.baseball-reference.com/), etc.\n",
    "- US Government Sources: [census.gov](https://www.census.gov/data/tables.html), [data.gov](https://www.data.gov/), [data.ca.gov](https://data.ca.gov/), [data.sfgov.org](https://data.sfgov.org/browse?), [FBI’s Crime Data Explorer](https://crime-data-explorer.fr.cloud.gov/), [Centers for Disease Control and Prevention](https://data.cdc.gov/browse?category=NCHS).\n",
    "- Global Development: [data.worldbank.org](https://data.worldbank.org/), [databank.worldbank.org](https://databank.worldbank.org/home.aspx), [WHO](https://apps.who.int/gho/data/node.home).\n",
    "- Transportation: [New York Taxi trips](https://www1.nyc.gov/site/tlc/about/tlc-trip-record-data.page), [Bureau of Transportation Statistics](https://www.transtats.bts.gov/DataIndex.asp), [SFO Air Traffic Statistics](https://www.flysfo.com/media/facts-statistics/air-traffic-statistics).\n",
    "- Music: [Spotify Charts](https://spotifycharts.com/regional).\n",
    "- COVID: [Johns Hopkins](https://github.com/CSSEGISandData/COVID-19).\n",
    "- Any Google Forms survey you’ve administered! (Go to the results spreadsheet, then go to “File > Download > Comma-separated values”.)\n",
    "\n",
    "Tip: if a site only allows you to download a file as an Excel file, not a CSV file, you can download it, open it in a spreadsheet viewer (Excel, Numbers, Google Sheets), and export it to a CSV."
   ]
  },
  {
   "cell_type": "markdown",
   "id": "245a71d0",
   "metadata": {
    "slideshow": {
     "slide_type": "slide"
    }
   },
   "source": [
    "## Demo: Gapminder 🌎"
   ]
  },
  {
   "cell_type": "markdown",
   "id": "87466e3c",
   "metadata": {
    "slideshow": {
     "slide_type": "slide"
    }
   },
   "source": [
    "### `plotly`\n",
    "\n",
    "- All of the visualizations (scatter plots, histograms, etc.) in this course were created using a library called `matplotlib`.\n",
    "    - This library was called under-the-hood everytime we wrote `df.plot`.\n",
    "- `plotly` is a different visualization library that allows us to create **interactive** visualizations.\n",
    "- You may learn about it in a future course, but we'll briefly show you some cool visualizations you can make with it."
   ]
  },
  {
   "cell_type": "code",
   "execution_count": null,
   "id": "c44a828c",
   "metadata": {},
   "outputs": [],
   "source": [
    "import plotly.express as px"
   ]
  },
  {
   "cell_type": "markdown",
   "id": "fb785dbd",
   "metadata": {
    "slideshow": {
     "slide_type": "slide"
    }
   },
   "source": [
    "### Gapminder dataset\n",
    "\n",
    "> Gapminder Foundation is a non-profit venture registered in Stockholm, Sweden, that promotes sustainable global development and achievement of the United Nations Millennium Development Goals by increased use and understanding of statistics and other information about social, economic and environmental development at local, national and global levels. - [Gapminder Wikipedia](https://en.wikipedia.org/wiki/Gapminder_Foundation)"
   ]
  },
  {
   "cell_type": "code",
   "execution_count": null,
   "id": "f10fab42",
   "metadata": {
    "slideshow": {
     "slide_type": "slide"
    }
   },
   "outputs": [],
   "source": [
    "gapminder = px.data.gapminder()\n",
    "gapminder"
   ]
  },
  {
   "cell_type": "markdown",
   "id": "9bbda49a",
   "metadata": {},
   "source": [
    "The dataset contains information for each country for several different years."
   ]
  },
  {
   "cell_type": "code",
   "execution_count": null,
   "id": "61dc0d5e",
   "metadata": {},
   "outputs": [],
   "source": [
    "gapminder.get('year').unique()"
   ]
  },
  {
   "cell_type": "markdown",
   "id": "6b232020",
   "metadata": {
    "slideshow": {
     "slide_type": "slide"
    }
   },
   "source": [
    "Let's start by just looking at 2007 data (the most recent year in the dataset)."
   ]
  },
  {
   "cell_type": "code",
   "execution_count": null,
   "id": "39143d66",
   "metadata": {},
   "outputs": [],
   "source": [
    "gapminder_2007 = gapminder[gapminder.get('year') == 2007]\n",
    "gapminder_2007"
   ]
  },
  {
   "cell_type": "markdown",
   "id": "6056f0b5",
   "metadata": {
    "slideshow": {
     "slide_type": "slide"
    }
   },
   "source": [
    "### Scatter plot\n",
    "\n",
    "We can plot life expectancy vs. GDP per capita. If you hover over a point, you will see the name of the country."
   ]
  },
  {
   "cell_type": "code",
   "execution_count": null,
   "id": "3a3eb5e6",
   "metadata": {},
   "outputs": [],
   "source": [
    "px.scatter(gapminder_2007, x='gdpPercap', y='lifeExp', hover_name='country')"
   ]
  },
  {
   "cell_type": "markdown",
   "id": "67725db4",
   "metadata": {
    "slideshow": {
     "slide_type": "slide"
    }
   },
   "source": [
    "In future courses, you'll learn about transformations. Here, we'll apply a log transformation to the x-axis to make the plot look a little more linear."
   ]
  },
  {
   "cell_type": "code",
   "execution_count": null,
   "id": "7013549a",
   "metadata": {},
   "outputs": [],
   "source": [
    "px.scatter(gapminder_2007, x='gdpPercap', y='lifeExp', log_x=True, hover_name='country')"
   ]
  },
  {
   "cell_type": "markdown",
   "id": "b45de5a7",
   "metadata": {
    "slideshow": {
     "slide_type": "slide"
    }
   },
   "source": [
    "### Animated scatter plot\n",
    "\n",
    "We can take things one step further."
   ]
  },
  {
   "cell_type": "code",
   "execution_count": null,
   "id": "8cd8be7c",
   "metadata": {},
   "outputs": [],
   "source": [
    "px.scatter(gapminder,\n",
    "           x = 'gdpPercap',\n",
    "           y = 'lifeExp', \n",
    "           hover_name = 'country',\n",
    "           color = 'continent',\n",
    "           size = 'pop',\n",
    "           size_max = 60,\n",
    "           log_x = True,\n",
    "           range_y = [30, 90],\n",
    "           animation_frame = 'year',\n",
    "           title = 'Life Expectancy, GDP Per Capita, and Population over Time'\n",
    "          )"
   ]
  },
  {
   "cell_type": "markdown",
   "id": "49a1f26d",
   "metadata": {},
   "source": [
    "Watch [this video](https://www.youtube.com/watch?v=jbkSRLYSojo) if you want to see an even-more-animated version of this plot."
   ]
  },
  {
   "cell_type": "markdown",
   "id": "59dfb87a",
   "metadata": {
    "slideshow": {
     "slide_type": "slide"
    }
   },
   "source": [
    "### Animated histogram"
   ]
  },
  {
   "cell_type": "code",
   "execution_count": null,
   "id": "d5cc2b32",
   "metadata": {},
   "outputs": [],
   "source": [
    "px.histogram(gapminder,\n",
    "            x = 'lifeExp',\n",
    "            animation_frame = 'year',\n",
    "            range_x = [20, 90],\n",
    "            range_y = [0, 50],\n",
    "            title = 'Distribution of Life Expectancy over Time')"
   ]
  },
  {
   "cell_type": "markdown",
   "id": "ad53b2ea",
   "metadata": {
    "slideshow": {
     "slide_type": "slide"
    }
   },
   "source": [
    "### Choropleth"
   ]
  },
  {
   "cell_type": "code",
   "execution_count": null,
   "id": "2476bcf0",
   "metadata": {},
   "outputs": [],
   "source": [
    "px.choropleth(gapminder,\n",
    "              locations = 'iso_alpha',\n",
    "              color = 'lifeExp',\n",
    "              hover_name = 'country',\n",
    "              hover_data = {'iso_alpha': False},\n",
    "              title = 'Life Expectancy Per Country',\n",
    "              color_continuous_scale = px.colors.sequential.tempo\n",
    ")"
   ]
  },
  {
   "cell_type": "markdown",
   "id": "696860e3",
   "metadata": {
    "slideshow": {
     "slide_type": "slide"
    }
   },
   "source": [
    "## Parting thoughts"
   ]
  },
  {
   "cell_type": "markdown",
   "id": "256ec5f0",
   "metadata": {
    "slideshow": {
     "slide_type": "slide"
    }
   },
   "source": [
    "### From Lecture 1: What is \"data science\"?\n",
    "\n",
    "Data science is about **drawing useful conclusions from data using computation**. Throughout the quarter, we touched on several aspects of data science:"
   ]
  },
  {
   "cell_type": "markdown",
   "id": "be980375",
   "metadata": {
    "slideshow": {
     "slide_type": "fragment"
    }
   },
   "source": [
    "- In the first 4 weeks, we used Python to **explore** data.\n",
    "    - Lots of visualization 📈📊 and \"data manipulation\", using industry-standard tools."
   ]
  },
  {
   "cell_type": "markdown",
   "id": "801ac7cf",
   "metadata": {
    "slideshow": {
     "slide_type": "fragment"
    }
   },
   "source": [
    "- In the next 4 weeks, we used data to **infer** about a population, given just a sample.\n",
    "    - Rely heavily on simulation, rather than formulas."
   ]
  },
  {
   "cell_type": "markdown",
   "id": "3f9554fc",
   "metadata": {
    "slideshow": {
     "slide_type": "fragment"
    }
   },
   "source": [
    "- In the last 2 weeks, we used data from the past to **predict** what may happen in the future.\n",
    "    - A taste of machine learning 🤖."
   ]
  },
  {
   "cell_type": "markdown",
   "id": "54cdf3d6",
   "metadata": {
    "slideshow": {
     "slide_type": "fragment"
    }
   },
   "source": [
    "- In future courses – including DSC 20 and 40A, which you may be taking next quarter – you'll revisit all three of these aspects of data science."
   ]
  },
  {
   "cell_type": "markdown",
   "id": "66c2cb27",
   "metadata": {
    "slideshow": {
     "slide_type": "slide"
    }
   },
   "source": [
    "### Note on grades\n",
    "\n",
    "<center><img src='data/transcript.png' width=60%><i>Suraj's freshman year transcript.</i></center>\n",
    "\n",
    "Don't let your grades define you, they don't tell the full story."
   ]
  },
  {
   "cell_type": "markdown",
   "id": "cf8963a2",
   "metadata": {
    "slideshow": {
     "slide_type": "slide"
    }
   },
   "source": [
    "### Thank you!\n",
    "\n",
    "This course would not have been possible without...\n",
    "- **1 graduate TA**: Arya Rahnama.\n",
    "- **29 undergraduate tutors**: Oren Ciolli, Nate Del Rosario, Jack Determan, Sophia Fang, Charlie Gillet, Ashley Ho, Henry Ho, Vanessa Hu, Leena Kang, Norah Kerendian, Anthony Li, Weiyue Li, Jasmine Lo, Arjun Malleswaran, Mert Ozer, Aaron Rasin, Chandiner Rishi, Gina Roberg, Harshi Saha, Keenan Serrao, Abel Seyoum, Suhani Sharma, Yutian Shi, Ester Tsai, Bill Wang, Ylesia Wu, Jason Xu, Diego Zavalza, Ciro Zhang.\n",
    "- Learn [more about tutoring](https://datascience.ucsd.edu/current-students/dsc-tutors/) – it's fun, and you can be a tutor as early as your 3rd quarter at UCSD!\n",
    "- Keep in touch! [dsc10.com/staff](https://dsc10.com/staff)\n",
    "    - After grades are released, we'll make a post on Ed where you can ask course staff for advice on courses and UCSD more generally."
   ]
  },
  {
   "cell_type": "markdown",
   "id": "ad136be8",
   "metadata": {
    "slideshow": {
     "slide_type": "slide"
    }
   },
   "source": [
    "## Good luck on your finals...\n",
    "\n",
    "### ...and see you tomorrow at 7PM 😊."
   ]
  }
 ],
 "metadata": {
  "kernelspec": {
   "display_name": "Python 3 (ipykernel)",
   "language": "python",
   "name": "python3"
  },
  "language_info": {
   "codemirror_mode": {
    "name": "ipython",
    "version": 3
   },
   "file_extension": ".py",
   "mimetype": "text/x-python",
   "name": "python",
   "nbconvert_exporter": "python",
   "pygments_lexer": "ipython3",
   "version": "3.9.7"
  },
  "livereveal": {
   "scroll": true,
   "transition": "none"
  },
  "rise": {
   "enable_chalkboard": true
  }
 },
 "nbformat": 4,
 "nbformat_minor": 5
}
