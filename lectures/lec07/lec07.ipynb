{
 "cells": [
  {
   "cell_type": "code",
   "execution_count": null,
   "metadata": {
    "slideshow": {
     "slide_type": "skip"
    }
   },
   "outputs": [],
   "source": [
    "# Set up packages for lecture. Don't worry about understanding this code,\n",
    "# but make sure to run it if you're following along.\n",
    "import numpy as np\n",
    "import babypandas as bpd\n",
    "import pandas as pd\n",
    "\n",
    "import matplotlib.pyplot as plt\n",
    "from matplotlib_inline.backend_inline import set_matplotlib_formats\n",
    "set_matplotlib_formats(\"svg\")\n",
    "plt.style.use('ggplot')\n",
    "plt.rcParams['figure.figsize'] = (12, 5)\n",
    "\n",
    "np.set_printoptions(threshold=20, precision=2, suppress=True)\n",
    "pd.set_option(\"display.max_rows\", 7)\n",
    "pd.set_option(\"display.max_columns\", 8)\n",
    "pd.set_option(\"display.precision\", 2)\n",
    "\n",
    "from IPython.display import display, IFrame\n",
    "\n",
    "def binning_animation():\n",
    "    src=\"https://docs.google.com/presentation/d/e/2PACX-1vTnRGwEnKP2V-Z82DlxW1b1nMb2F0zWyrXIzFSpQx_8Wd3MFaf56y2_u3JrLwZ5SjWmfapL5BJLfsDG/embed?start=false&loop=false&delayms=60000&rm=minimal\"\n",
    "    width=900\n",
    "    height=270\n",
    "    display(IFrame(src, width, height))"
   ]
  },
  {
   "cell_type": "markdown",
   "metadata": {
    "slideshow": {
     "slide_type": "slide"
    }
   },
   "source": [
    "# Lecture 7 – Distributions and Histograms\n",
    "\n",
    "## DSC 10, Fall 2023"
   ]
  },
  {
   "cell_type": "markdown",
   "metadata": {
    "slideshow": {
     "slide_type": "slide"
    }
   },
   "source": [
    "### Announcements\n",
    "\n",
    "- Quiz 1 scores are released!\n",
    "    - Remember, it's only worth 5% of your grade, and will be dropped entirely if you do better on the remaining quizzes.\n",
    "- Homework 1 is due **tomorrow at 11:59PM**.\n",
    "- Lab 2 is coming out today and is due on **Thursday at 11:59PM**.\n",
    "- Come to office hours for help! The schedule is [here](https://dsc10.com/calendar).\n",
    "    - There are now Saturday office hours held in the CSE building (all other office hours are still in the HDSI building)."
   ]
  },
  {
   "cell_type": "markdown",
   "metadata": {
    "slideshow": {
     "slide_type": "slide"
    }
   },
   "source": [
    "### Agenda\n",
    "\n",
    "- Distributions.\n",
    "- Density histograms.\n",
    "- Overlaid plots.\n",
    "\n",
    "Today's material is quite theoretical – make sure to go to discussion next week to practice with it!"
   ]
  },
  {
   "cell_type": "markdown",
   "metadata": {
    "slideshow": {
     "slide_type": "slide"
    }
   },
   "source": [
    "### Review: Types of visualizations\n",
    "\n",
    "The type of visualization we create depends on the kinds of variables we're visualizing.\n",
    "\n",
    "- **Scatter plot**: Numerical vs. numerical.\n",
    "    - Example: Weight vs. height.\n",
    "- **Line plot**: Sequential numerical (time) vs. numerical.\n",
    "    - Example: Height vs. time.\n",
    "- **Bar chart**: Categorical vs. numerical.\n",
    "    - Example: Heights of different family members.\n",
    "- **Histogram**: Distribution of numerical.\n",
    "    \n",
    "We may interchange the words \"plot\", \"chart\", and \"graph\"; they all mean the same thing."
   ]
  },
  {
   "cell_type": "markdown",
   "metadata": {
    "slideshow": {
     "slide_type": "slide"
    }
   },
   "source": [
    "### Some bad visualizations\n",
    "\n",
    "<br>\n",
    "\n",
    "<center><img src=\"images/bananas.png\" width=60%></center>"
   ]
  },
  {
   "cell_type": "markdown",
   "metadata": {
    "slideshow": {
     "slide_type": "slide"
    }
   },
   "source": [
    "<center><img src=\"images/average_height.png\" width=50%></center>"
   ]
  },
  {
   "cell_type": "markdown",
   "metadata": {
    "slideshow": {
     "slide_type": "slide"
    }
   },
   "source": [
    "<center><img src=\"images/weather.png\" width=80%></center>"
   ]
  },
  {
   "cell_type": "markdown",
   "metadata": {
    "slideshow": {
     "slide_type": "slide"
    }
   },
   "source": [
    "## Distributions"
   ]
  },
  {
   "cell_type": "markdown",
   "metadata": {
    "slideshow": {
     "slide_type": "slide"
    }
   },
   "source": [
    "### What is the distribution of a variable?\n",
    "\n",
    "- The distribution of a variable consists of all values of the variable that occur in the data, along with their frequencies.\n",
    "- Distributions help you understand:\n",
    "    > _How often does a variable take on a certain value?_\n",
    "- Both categorical and numerical variables have distributions."
   ]
  },
  {
   "cell_type": "markdown",
   "metadata": {
    "slideshow": {
     "slide_type": "slide"
    }
   },
   "source": [
    "### Categorical variables\n",
    "\n",
    "The distribution of a categorical variable can be displayed as a table or bar chart, among other ways!\n",
    "\n",
    "For example, let's look at the distribution of exoplanet `'Type'`s. To do so, we'll need to group."
   ]
  },
  {
   "cell_type": "code",
   "execution_count": null,
   "metadata": {},
   "outputs": [],
   "source": [
    "exo = bpd.read_csv('data/exoplanets.csv').set_index('Name')\n",
    "exo"
   ]
  },
  {
   "cell_type": "code",
   "execution_count": null,
   "metadata": {},
   "outputs": [],
   "source": [
    "# Remember, when we group and use .count(), the column names aren't meaningful.\n",
    "type_counts = exo.groupby('Type').count()\n",
    "type_counts"
   ]
  },
  {
   "cell_type": "code",
   "execution_count": null,
   "metadata": {},
   "outputs": [],
   "source": [
    "# As a result, we could have set y='Magnitude', for example, and gotten the same plot.\n",
    "type_counts.plot(kind='barh', y='Distance', \n",
    "                 legend=False, xlabel='Count', title='Distribution of Exoplanet Types');"
   ]
  },
  {
   "cell_type": "markdown",
   "metadata": {
    "slideshow": {
     "slide_type": "fragment"
    }
   },
   "source": [
    "Notice the optional `title` argument. Some other useful optional arguments are `legend`, `figsize`, `xlabel`, and `ylabel`. There are [many optional arguments](https://pandas.pydata.org/docs/reference/api/pandas.DataFrame.plot.html)."
   ]
  },
  {
   "cell_type": "markdown",
   "metadata": {
    "slideshow": {
     "slide_type": "fragment"
    }
   },
   "source": [
    "It looks like terrestrial exoplanets are the most rare in the dataset. In the last lecture, we also saw that they have the smallest average radius of any `'Type'`, too."
   ]
  },
  {
   "cell_type": "code",
   "execution_count": null,
   "metadata": {},
   "outputs": [],
   "source": [
    "exo.groupby('Type').mean().get('Radius')"
   ]
  },
  {
   "cell_type": "markdown",
   "metadata": {},
   "source": [
    "Let's look into them further!"
   ]
  },
  {
   "cell_type": "markdown",
   "metadata": {
    "slideshow": {
     "slide_type": "slide"
    }
   },
   "source": [
    "### Terrestrial exoplanets 🌑"
   ]
  },
  {
   "cell_type": "code",
   "execution_count": null,
   "metadata": {},
   "outputs": [],
   "source": [
    "terr = exo[exo.get('Type') == 'Terrestrial']\n",
    "terr"
   ]
  },
  {
   "cell_type": "markdown",
   "metadata": {
    "slideshow": {
     "slide_type": "fragment"
    }
   },
   "source": [
    "Let's focus on the `'Radius'` column of `terr`. To learn more about it, we can use the `.describe()` method."
   ]
  },
  {
   "cell_type": "code",
   "execution_count": null,
   "metadata": {},
   "outputs": [],
   "source": [
    "terr.get('Radius').describe()"
   ]
  },
  {
   "cell_type": "markdown",
   "metadata": {},
   "source": [
    "But how do we visualize its distribution?"
   ]
  },
  {
   "cell_type": "markdown",
   "metadata": {
    "slideshow": {
     "slide_type": "slide"
    }
   },
   "source": [
    "### Visualizing the distribution of `'Radius'`, a numerical variable\n",
    "\n",
    "- A few slides ago, we looked at the distribution of `'Type'`, which is a categorical variable.\n",
    "- Now, we'll look at the distribution of `'Radius'`, which is a numerical variable. \n",
    "- As we'll see, **a bar chart is not the right choice of visualization for the distribution of a numerical variable**."
   ]
  },
  {
   "cell_type": "markdown",
   "metadata": {
    "slideshow": {
     "slide_type": "fragment"
    }
   },
   "source": [
    "To try and see the distribution of `'Radius'`, we need to group by that column and count how many terrestrial planets there are of each radius."
   ]
  },
  {
   "cell_type": "code",
   "execution_count": null,
   "metadata": {},
   "outputs": [],
   "source": [
    "terr_radius = terr.groupby('Radius').count()\n",
    "terr_radius = (terr_radius\n",
    "                 .assign(Count=terr_radius.get('Distance'))\n",
    "                 .get(['Count'])\n",
    "              )\n",
    "terr_radius"
   ]
  },
  {
   "cell_type": "code",
   "execution_count": null,
   "metadata": {
    "slideshow": {
     "slide_type": "slide"
    }
   },
   "outputs": [],
   "source": [
    "terr_radius.plot(kind='bar', y='Count', figsize=(15, 5));"
   ]
  },
  {
   "cell_type": "markdown",
   "metadata": {
    "slideshow": {
     "slide_type": "fragment"
    }
   },
   "source": [
    "The horizontal axis should be numerical (like a number line), not categorical. There should be more space between certain bars than others.\n",
    "\n",
    "For instance, the planet with `'Radius'` 1.8 is 80% larger than the planet with `'Radius'` 1, but they appear to be about the same size here."
   ]
  },
  {
   "cell_type": "markdown",
   "metadata": {
    "slideshow": {
     "slide_type": "slide"
    }
   },
   "source": [
    "## Density histograms"
   ]
  },
  {
   "cell_type": "markdown",
   "metadata": {
    "slideshow": {
     "slide_type": "slide"
    }
   },
   "source": [
    "### Density histograms show the distribution of numerical variables\n",
    "\n",
    "Instead of a bar chart, we'll visualize the distribution of a numerical variable with a **density histogram**. Let's see what a density histogram for `'Radius'` looks like. What do you notice about this visualization?"
   ]
  },
  {
   "cell_type": "code",
   "execution_count": null,
   "metadata": {},
   "outputs": [],
   "source": [
    "# Ignore the code for right now.\n",
    "terr.plot(kind='hist', y='Radius', density=True, bins = np.arange(0, 3.5, 0.25), ec='w');"
   ]
  },
  {
   "cell_type": "code",
   "execution_count": null,
   "metadata": {},
   "outputs": [],
   "source": [
    "# There are 7 terrestrial exoplanets with a radius of exactly 1.0,\n",
    "# but the height of the bar starting at 1.0 is not 7!\n",
    "terr[terr.get('Radius') == 1]"
   ]
  },
  {
   "cell_type": "markdown",
   "metadata": {
    "slideshow": {
     "slide_type": "slide"
    }
   },
   "source": [
    "### First key idea behind histograms: Binning 🗑️\n",
    "\n",
    "- Binning is the act of counting the number of numerical values that fall within ranges defined by two endpoints. These ranges are called “bins”.\n",
    "- A value falls in a bin if it is **greater than or equal to the left** endpoint and **less than the right** endpoint.\n",
    "    - [a, b): a is included, b is not.\n",
    "- The width of a bin is its right endpoint minus its left endpoint.\n"
   ]
  },
  {
   "cell_type": "code",
   "execution_count": null,
   "metadata": {
    "scrolled": true,
    "slideshow": {
     "slide_type": "-"
    }
   },
   "outputs": [],
   "source": [
    "binning_animation()"
   ]
  },
  {
   "cell_type": "markdown",
   "metadata": {
    "slideshow": {
     "slide_type": "slide"
    }
   },
   "source": [
    "### Plotting a density histogram\n",
    "\n",
    "- **Density histograms** (not bar charts!) visualize the distribution of a single numerical variable by placing numbers into bins.\n",
    "- To create one from a DataFrame `df`, use\n",
    "```py\n",
    "df.plot(\n",
    "    kind='hist', \n",
    "    y=column_name,\n",
    "    density=True\n",
    ")\n",
    "```\n",
    "- Optional but recommended: Use `ec='w'` to see where bins start and end more clearly."
   ]
  },
  {
   "cell_type": "markdown",
   "metadata": {
    "slideshow": {
     "slide_type": "slide"
    }
   },
   "source": [
    "### Customizing the bins\n",
    "\n",
    "- By default, Python will bin your data into 10 equally sized bins.\n",
    "- You can specify another number of equally sized bins by setting the optional argument `bins` equal to some other integer value.\n",
    "- You can also specify custom bin start and endpoints by setting `bins` equal to a list or array of bin endpoints."
   ]
  },
  {
   "cell_type": "code",
   "execution_count": null,
   "metadata": {},
   "outputs": [],
   "source": [
    "# There are 10 bins by default, some of which are empty.\n",
    "terr.plot(kind='hist', y='Radius', density=True, ec='w');"
   ]
  },
  {
   "cell_type": "code",
   "execution_count": null,
   "metadata": {},
   "outputs": [],
   "source": [
    "terr.plot(kind='hist', y='Radius', density=True, bins=20, ec='w');"
   ]
  },
  {
   "cell_type": "code",
   "execution_count": null,
   "metadata": {},
   "outputs": [],
   "source": [
    "terr.plot(kind='hist', y='Radius', density=True, bins=[0, 0.5, 1, 1.5, 2, 2.5, 3, 3.5], ec='w');"
   ]
  },
  {
   "cell_type": "markdown",
   "metadata": {
    "slideshow": {
     "slide_type": "fragment"
    }
   },
   "source": [
    "In the three histograms above, what is different and what is the same?"
   ]
  },
  {
   "cell_type": "markdown",
   "metadata": {
    "slideshow": {
     "slide_type": "slide"
    }
   },
   "source": [
    "### Observations\n",
    "- The general shape of all three histograms is the same, regardless of the bins.\n",
    "- More bins gives a finer, more granular picture of the distribution of the variable `'Radius'`.\n",
    "- The $y$-axis values seem to change a lot when we change the bins. Hang onto that thought; we'll see why shortly."
   ]
  },
  {
   "cell_type": "markdown",
   "metadata": {
    "slideshow": {
     "slide_type": "slide"
    }
   },
   "source": [
    "### Bin details\n",
    "\n",
    "- In a histogram, only the last bin is inclusive of the right endpoint!\n",
    "- The bins you specify don't have to include all data values; data values not in any bin won't be shown in the histogram.\n",
    "- For equally sized bins, use `np.arange`.\n",
    "    - Be **very careful** with the endpoints. \n",
    "    - For example, `bins=np.arange(4)` creates the bins [0, 1), [1, 2), [2, 3].\n",
    "- Bins can have different sizes!"
   ]
  },
  {
   "cell_type": "code",
   "execution_count": null,
   "metadata": {
    "slideshow": {
     "slide_type": "fragment"
    }
   },
   "outputs": [],
   "source": [
    "terr.plot(kind='hist', y='Radius', density=True,\n",
    "            bins=np.arange(0, 3.5, 0.5),\n",
    "            ec='w');"
   ]
  },
  {
   "cell_type": "code",
   "execution_count": null,
   "metadata": {},
   "outputs": [],
   "source": [
    "terr.sort_values('Radius', ascending=False)"
   ]
  },
  {
   "cell_type": "markdown",
   "metadata": {
    "slideshow": {
     "slide_type": "-"
    }
   },
   "source": [
    "In the above example, the terrestrial exoplanet with the largest radius (Kepler-33 c) is not included because the rightmost bin is [2.5, 3.0] and Kepler-33 c has a `'Radius'` of 3.13."
   ]
  },
  {
   "cell_type": "code",
   "execution_count": null,
   "metadata": {
    "slideshow": {
     "slide_type": "fragment"
    }
   },
   "outputs": [],
   "source": [
    "terr.plot(kind='hist', y='Radius', density=True,\n",
    "          bins=[0, 0.25, 0.5, 0.75, 2, 4]);"
   ]
  },
  {
   "cell_type": "markdown",
   "metadata": {},
   "source": [
    "In the above example, the bins have different widths!"
   ]
  },
  {
   "cell_type": "markdown",
   "metadata": {
    "slideshow": {
     "slide_type": "slide"
    }
   },
   "source": [
    "### Second key idea behind histograms: Total area is 1"
   ]
  },
  {
   "cell_type": "markdown",
   "metadata": {
    "slideshow": {
     "slide_type": "fragment"
    }
   },
   "source": [
    "- In a density histogram, the $y$-axis can be hard to interpret, but it's designed to give the histogram a very nice property: \n",
    "<br><br>\n",
    "<center>\n",
    "    <b>The bars of a density histogram<br>have a combined total area of 1.</b>\n",
    "</center>"
   ]
  },
  {
   "cell_type": "markdown",
   "metadata": {
    "slideshow": {
     "slide_type": "fragment"
    }
   },
   "source": [
    "- Important: <b>The area of a bar is equal to the proportion of all data points that fall into that bin</b>."
   ]
  },
  {
   "cell_type": "markdown",
   "metadata": {
    "slideshow": {
     "slide_type": "fragment"
    }
   },
   "source": [
    "- Recall from the pretest, proportions and percentages represent the same thing.\n",
    "    - A proportion is a decimal between 0 and 1, a percentage is between 0\\% and 100\\%.\n",
    "    - The proportion 0.34 means 34\\%."
   ]
  },
  {
   "cell_type": "markdown",
   "metadata": {
    "slideshow": {
     "slide_type": "slide"
    }
   },
   "source": [
    "### Example calculation"
   ]
  },
  {
   "cell_type": "code",
   "execution_count": null,
   "metadata": {
    "scrolled": false
   },
   "outputs": [],
   "source": [
    "terr.plot(kind='hist', y='Radius', density=True,\n",
    "          bins=[0, 0.25, 0.5, 0.75, 2, 4]);"
   ]
  },
  {
   "cell_type": "markdown",
   "metadata": {
    "slideshow": {
     "slide_type": "-"
    }
   },
   "source": [
    "Based on this histogram, what proportion of terrestrial exoplanets have a `'Radius'` between 0.5 and 0.75?"
   ]
  },
  {
   "cell_type": "markdown",
   "metadata": {
    "slideshow": {
     "slide_type": "slide"
    }
   },
   "source": [
    "### Example calculation\n",
    "\n",
    "- The height of the [0.5, 0.75) bar looks to be around 0.8.\n",
    "- The width of the bin is 0.75 - 0.5 = 0.25.\n",
    "\n",
    "- Therefore, using the formula for the area of a rectangle,\n",
    "\n",
    "$$\\begin{align}\\text{Area} &= \\text{Height} \\times \\text{Width} \\\\ &= 0.8 \\times 0.25 \\\\ &= 0.2\n",
    "\\end{align}$$\n",
    "\n",
    "- Since areas represent proportions, this means that the proportion of terrestrial exoplanets with a radius between 0.5 and 0.75 is about 0.2 (or 20\\%)."
   ]
  },
  {
   "cell_type": "markdown",
   "metadata": {
    "slideshow": {
     "slide_type": "slide"
    }
   },
   "source": [
    "### Check the math 🧮"
   ]
  },
  {
   "cell_type": "code",
   "execution_count": null,
   "metadata": {
    "slideshow": {
     "slide_type": "-"
    }
   },
   "outputs": [],
   "source": [
    "in_range = terr[(terr.get('Radius') >= 0.5) & (terr.get('Radius') < 0.75)].shape[0]\n",
    "in_range"
   ]
  },
  {
   "cell_type": "code",
   "execution_count": null,
   "metadata": {},
   "outputs": [],
   "source": [
    "in_range / terr.shape[0]"
   ]
  },
  {
   "cell_type": "markdown",
   "metadata": {
    "slideshow": {
     "slide_type": "fragment"
    }
   },
   "source": [
    "This matches the result we got. (Not exactly, since we made an estimate for the height.)"
   ]
  },
  {
   "cell_type": "markdown",
   "metadata": {
    "slideshow": {
     "slide_type": "slide"
    }
   },
   "source": [
    "### Calculating heights in a density histogram\n",
    "\n",
    "Since a bar of a histogram is a rectangle, its area is given by\n",
    "\n",
    "$$\\text{Area} = \\text{Height} \\times \\text{Width}$$\n",
    "\n",
    "That means\n",
    "\n",
    "$$\\text{Height} = \\frac{\\text{Area}}{\\text{Width}} = \\frac{\\text{Proportion (or Percentage)}}{\\text{Width}}$$"
   ]
  },
  {
   "cell_type": "markdown",
   "metadata": {
    "slideshow": {
     "slide_type": "fragment"
    }
   },
   "source": [
    "This implies that the units for height are \"proportion per ($x$-axis unit)\". The $y$-axis represents a sort of *density*, which is why we call it a density histogram.\n",
    "\n"
   ]
  },
  {
   "cell_type": "code",
   "execution_count": null,
   "metadata": {
    "slideshow": {
     "slide_type": "fragment"
    }
   },
   "outputs": [],
   "source": [
    "terr.plot(kind='hist', y='Radius', density=True,\n",
    "          bins=[0, 0.25, 0.5, 0.75, 2, 4]);"
   ]
  },
  {
   "cell_type": "markdown",
   "metadata": {},
   "source": [
    "The $y$-axis units here are \"proportion per radius\", since the $x$-axis represents radius.\n",
    "  - Unfortunately, the $y$-axis units on the histogram always displays as \"Frequency\". **This is wrong!**\n",
    "  - We can fix this with the optional argument `ylabel` but we usually don't."
   ]
  },
  {
   "cell_type": "markdown",
   "metadata": {
    "slideshow": {
     "slide_type": "slide"
    }
   },
   "source": [
    "### Concept Check ✅ – Answer at [cc.dsc10.com](http://cc.dsc10.com) \n",
    "\n",
    "Suppose we created a density histogram of people's shoe sizes. 👟 Below are the bins we chose along with their heights.\n",
    "\n",
    "| Bin | Height of Bar |\n",
    "| --- | --- |\n",
    "| [3, 7) | 0.05 |\n",
    "| [7, 10) | 0.1 |\n",
    "| [10, 12) | 0.15 |\n",
    "| [12, 16] | $X$ |\n",
    "\n",
    "\n",
    "What should the value of $X$ be so that this is a valid histogram?\n",
    "\n",
    "A. 0.02 &nbsp;&nbsp;&nbsp;&nbsp;&nbsp;&nbsp;&nbsp;&nbsp;&nbsp;&nbsp;&nbsp;&nbsp; \n",
    "B. 0.05 &nbsp;&nbsp;&nbsp;&nbsp;&nbsp;&nbsp;&nbsp;&nbsp;&nbsp;&nbsp;&nbsp;&nbsp;\n",
    "C. 0.2 &nbsp;&nbsp;&nbsp;&nbsp;&nbsp;&nbsp;&nbsp;&nbsp;&nbsp;&nbsp;&nbsp;&nbsp;\n",
    "D. 0.5 &nbsp;&nbsp;&nbsp;&nbsp;&nbsp;&nbsp;&nbsp;&nbsp;&nbsp;&nbsp;&nbsp;&nbsp;\n",
    "E. 0.7 &nbsp;&nbsp;&nbsp;&nbsp;&nbsp;&nbsp;&nbsp;&nbsp;&nbsp;&nbsp;&nbsp;&nbsp;\n"
   ]
  },
  {
   "cell_type": "markdown",
   "metadata": {
    "slideshow": {
     "slide_type": "slide"
    }
   },
   "source": [
    "### Bar charts vs. histograms\n",
    "\n",
    "Bar chart | Histogram\n",
    "---|---\n",
    "Shows the distribution of a categorical variable | Shows the distribution of a numerical variable\n",
    "Plotted from 2 columns of a DataFrame | Plotted from 1 column of a DataFrame\n",
    "1 categorical axis,  1 numerical axis | 2 numerical axes\n",
    "Bars have arbitrary, but equal, widths and spacing | Horizontal axis is numerical and to scale\n",
    "Lengths of bars are proportional to the numerical quantity of interest | Height measures density; areas are proportional to the proportion (percent) of individuals"
   ]
  },
  {
   "cell_type": "markdown",
   "metadata": {
    "slideshow": {
     "slide_type": "slide"
    }
   },
   "source": [
    "### 🌟 Important 🌟\n",
    "\n",
    "In this class, **\"histogram\" will always mean a \"density histogram\".** We will **only** use density histograms. "
   ]
  },
  {
   "cell_type": "markdown",
   "metadata": {
    "slideshow": {
     "slide_type": "fragment"
    }
   },
   "source": [
    "*Note:* It's possible to create what's called a *frequency histogram* where the $y$-axis simply represents a count of the number of values in each bin. \n",
    "\n",
    "While easier to interpret, frequency histograms don't have the important property that the total area is 1, so they can't be connected to probability in the same way that density histograms can. This property will be useful to us later on in the course."
   ]
  },
  {
   "cell_type": "markdown",
   "metadata": {
    "slideshow": {
     "slide_type": "slide"
    }
   },
   "source": [
    "## Overlaid plots"
   ]
  },
  {
   "cell_type": "markdown",
   "metadata": {
    "slideshow": {
     "slide_type": "slide"
    }
   },
   "source": [
    "### Multiple plots on the same axes\n",
    "\n",
    "Let's look back at the `exo` DataFrame."
   ]
  },
  {
   "cell_type": "code",
   "execution_count": null,
   "metadata": {},
   "outputs": [],
   "source": [
    "exo"
   ]
  },
  {
   "cell_type": "markdown",
   "metadata": {
    "slideshow": {
     "slide_type": "fragment"
    }
   },
   "source": [
    "Can we look at both the average `'Magnitude'` and the average `'Radius'` for each `'Type'` at the same time?"
   ]
  },
  {
   "cell_type": "code",
   "execution_count": null,
   "metadata": {},
   "outputs": [],
   "source": [
    "types = exo.groupby('Type').mean()\n",
    "types"
   ]
  },
  {
   "cell_type": "code",
   "execution_count": null,
   "metadata": {},
   "outputs": [],
   "source": [
    "types.get(['Magnitude', 'Radius']).plot(kind='barh');"
   ]
  },
  {
   "cell_type": "markdown",
   "metadata": {
    "slideshow": {
     "slide_type": "fragment"
    }
   },
   "source": [
    "How did we do that?"
   ]
  },
  {
   "cell_type": "markdown",
   "metadata": {
    "slideshow": {
     "slide_type": "slide"
    }
   },
   "source": [
    "### Overlaying plots\n",
    "\n",
    "When calling `.plot`, if we omit the `y=column_name` argument, **all other columns** are plotted."
   ]
  },
  {
   "cell_type": "code",
   "execution_count": null,
   "metadata": {},
   "outputs": [],
   "source": [
    "types"
   ]
  },
  {
   "cell_type": "code",
   "execution_count": null,
   "metadata": {},
   "outputs": [],
   "source": [
    "types.plot(kind='barh');"
   ]
  },
  {
   "cell_type": "markdown",
   "metadata": {
    "slideshow": {
     "slide_type": "slide"
    }
   },
   "source": [
    "### Selecting multiple columns at once\n",
    "- To select multiple columns, use `.get([column_1, ..., column_k])`.\n",
    "- Passing a list of column labels to `.get` returns a DataFrame.\n",
    "    - `.get([column_name])` will return a DataFrame with just one column!"
   ]
  },
  {
   "cell_type": "code",
   "execution_count": null,
   "metadata": {},
   "outputs": [],
   "source": [
    "types"
   ]
  },
  {
   "cell_type": "code",
   "execution_count": null,
   "metadata": {},
   "outputs": [],
   "source": [
    "types.get(['Magnitude', 'Radius'])"
   ]
  },
  {
   "cell_type": "code",
   "execution_count": null,
   "metadata": {},
   "outputs": [],
   "source": [
    "types.get(['Magnitude', 'Radius']).plot(kind='barh');"
   ]
  },
  {
   "cell_type": "markdown",
   "metadata": {
    "slideshow": {
     "slide_type": "slide"
    }
   },
   "source": [
    "### Plotting multiple graphs at once\n",
    "\n",
    "Recipe:\n",
    "1. `.get` only the columns that contain information relevant to your plot (or, equivalently, `.drop` all extraneous columns).\n",
    "1. Specify the column for the $x$-axis (if not the index) in `.plot(x=column_name)`.\n",
    "1. Omit the `y` argument. Then **all** other columns will be plotted on a shared $y$-axis.\n",
    "\n",
    "The same thing works for `'barh'`, `'bar'`, and `'hist'`, but not `'scatter'`."
   ]
  },
  {
   "cell_type": "markdown",
   "metadata": {
    "slideshow": {
     "slide_type": "slide"
    }
   },
   "source": [
    "### Another example: Heights of children and their parents 👪 📏\n",
    "\n",
    "- The data below was collected in the late 1800s by [Francis Galton](https://en.wikipedia.org/wiki/Francis_Galton).\n",
    "    - He was a eugenicist and proponent of scientific racism, which is why he collected this data.\n",
    "    - Today, we understand that eugenics is immoral, and that there is no scientific evidence or any other justification for racism.\n",
    "- We will revisit this dataset later on in the course.\n",
    "- For now, we'll only need the `'mother'`, and `'childHeight'` columns."
   ]
  },
  {
   "cell_type": "code",
   "execution_count": null,
   "metadata": {
    "scrolled": false,
    "slideshow": {
     "slide_type": "-"
    }
   },
   "outputs": [],
   "source": [
    "mother_child = bpd.read_csv('data/galton.csv').get(['mother', 'child'])\n",
    "mother_child"
   ]
  },
  {
   "cell_type": "markdown",
   "metadata": {
    "slideshow": {
     "slide_type": "slide"
    }
   },
   "source": [
    "### Plotting overlaid histograms\n",
    "\n",
    "`alpha` controls how transparent the bars are (`alpha=1` is opaque, `alpha=0` is transparent)."
   ]
  },
  {
   "cell_type": "code",
   "execution_count": null,
   "metadata": {
    "scrolled": true
   },
   "outputs": [],
   "source": [
    "height_bins = np.arange(55, 80, 2.5)\n",
    "mother_child.plot(kind='hist', density=True, ec='w',\n",
    "                  alpha=0.65, bins=height_bins);"
   ]
  },
  {
   "cell_type": "markdown",
   "metadata": {
    "slideshow": {
     "slide_type": "fragment"
    }
   },
   "source": [
    "Why do children seem so much taller than their mothers?"
   ]
  },
  {
   "cell_type": "markdown",
   "metadata": {
    "slideshow": {
     "slide_type": "slide"
    }
   },
   "source": [
    "### Extra Practice\n",
    "\n",
    "Try to answer these questions based on the overlaid histogram.\n",
    "\n",
    "1. What proportion of children were between 70 and 75 inches tall?\n",
    "\n",
    "2. What proportion of mothers were between 60 and 63 inches tall?\n",
    "\n",
    "<details>\n",
    "    <summary>✅ Click here to see the answers to the problems above <b>after</b> you've tried them on your own.</summary>\n",
    "    \n",
    "<b>Question 1</b>\n",
    "    \n",
    "The height of the $[70, 72.5)$ bar is around $0.08$, meaning that $0.08 \\cdot 2.5 = 0.2$ of children had heights in that interval. The height of the $[72.5, 75)$ bar is around $0.02$, meaning $0.02 \\cdot 2.5 = 0.05$ of children had heights in that interval. Thus, the overall proportion of children who were between $70$ and $75$ inches tall was around $0.20 + 0.05 = 0.25$, or $25\\%$.\n",
    "    \n",
    "To verify our answer, we can run\n",
    "\n",
    "<code>mother_child[(mother_child.get('child') >= 70) & (mother_child.get('child') < 75)].shape[0] / mother_child.shape[0]</code>\n",
    "    \n",
    "<b>Question 2</b>\n",
    "    \n",
    "We can't tell. We could try and breaking it up into the proportion of mothers in $[60, 62.5)$ and $[62.5, 63)$, but we don't know the latter. In the absence of any additional information, we can't infer about the distribution of values within a bin. For example, it could be that everyone in the interval $[62.5, 65)$ actually falls in the interval  $[62.5, 63)$ - or it could be that no one does!\n",
    "\n",
    "</details>"
   ]
  },
  {
   "cell_type": "markdown",
   "metadata": {
    "slideshow": {
     "slide_type": "slide"
    }
   },
   "source": [
    "## Summary, next time"
   ]
  },
  {
   "cell_type": "markdown",
   "metadata": {
    "slideshow": {
     "slide_type": "slide"
    }
   },
   "source": [
    "### Summary\n",
    "\n",
    "- Histograms (not bar charts!) are used to display the distribution of a numerical variable.\n",
    "- We will always use density histograms in this course.\n",
    "    - In a density histogram, the area of a bar represents the proportion (percentage) of values within its bin.\n",
    "    - The total area of all bars is 1 (100%).\n",
    "- We can overlay multiple line plots, bar charts, and histograms on top of one another to look at multiple relationships or distributions."
   ]
  },
  {
   "cell_type": "markdown",
   "metadata": {
    "slideshow": {
     "slide_type": "slide"
    }
   },
   "source": [
    "### Next time\n",
    "\n",
    "- Writing our own functions.\n",
    "- Applying functions to the data in a DataFrame."
   ]
  }
 ],
 "metadata": {
  "kernelspec": {
   "display_name": "Python 3 (ipykernel)",
   "language": "python",
   "name": "python3"
  },
  "language_info": {
   "codemirror_mode": {
    "name": "ipython",
    "version": 3
   },
   "file_extension": ".py",
   "mimetype": "text/x-python",
   "name": "python",
   "nbconvert_exporter": "python",
   "pygments_lexer": "ipython3",
   "version": "3.9.13"
  },
  "livereveal": {
   "scroll": true,
   "transition": "none"
  },
  "rise": {
   "enable_chalkboard": true
  }
 },
 "nbformat": 4,
 "nbformat_minor": 2
}
