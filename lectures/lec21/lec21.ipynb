{
 "cells": [
  {
   "cell_type": "code",
   "execution_count": null,
   "metadata": {
    "slideshow": {
     "slide_type": "skip"
    }
   },
   "outputs": [],
   "source": [
    "# Set up packages for lecture. Don't worry about understanding this code,\n",
    "# but make sure to run it if you're following along.\n",
    "import numpy as np\n",
    "import babypandas as bpd\n",
    "import pandas as pd\n",
    "from matplotlib_inline.backend_inline import set_matplotlib_formats\n",
    "import matplotlib.pyplot as plt\n",
    "set_matplotlib_formats(\"png\")\n",
    "plt.style.use('ggplot')\n",
    "\n",
    "np.set_printoptions(threshold=20, precision=2, suppress=True)\n",
    "pd.set_option(\"display.max_rows\", 7)\n",
    "pd.set_option(\"display.max_columns\", 8)\n",
    "pd.set_option(\"display.precision\", 2)\n",
    "\n",
    "def draw_cutoff(results):\n",
    "    ax = bpd.DataFrame().assign(results=results).plot(kind='hist', bins=np.arange(160, 240, 4), \n",
    "                                             density=True, figsize=(10, 5),\n",
    "                                             title='Empirical Distribution of the Number of Heads in 400 Flips of a Fair Coin')\n",
    "    for bar in ax.containers[0]:\n",
    "        x = bar.get_x() + 0.5 * bar.get_width()\n",
    "        if x < 184:\n",
    "            bar.set_color('#796fb3')\n",
    "    plt.annotate('likely biased\\ntowards tails', (160, 0.007), size=16, color='#796fb3', weight='bold')\n",
    "    plt.annotate('likely fair', (225, 0.008), size=16, color='#e24a33', weight='bold');"
   ]
  },
  {
   "cell_type": "markdown",
   "metadata": {
    "slideshow": {
     "slide_type": "slide"
    }
   },
   "source": [
    "# Lecture 21 – Hypothesis Testing and Total Variation Distance\n",
    "\n",
    "## DSC 10, Fall 2023"
   ]
  },
  {
   "cell_type": "markdown",
   "metadata": {
    "slideshow": {
     "slide_type": "slide"
    }
   },
   "source": [
    "### Announcements\n",
    "\n",
    "- Homework 5 is due **tomorrow at 11:59PM**.\n",
    "- Lab 6 is due **Monday 11/27 at 11:59PM**.\n",
    "- Happy Thanksgiving! 🦃\n",
    "    - There will be lecture and discussion section on Wednesday as usual, but there is no quiz. \n",
    "    - There will be no office hours on Thursday, Friday, or Saturday. "
   ]
  },
  {
   "cell_type": "markdown",
   "metadata": {
    "slideshow": {
     "slide_type": "slide"
    }
   },
   "source": [
    "### Final Project released,  due **Tuesday 12/5 at 11:59PM**\n",
    "- In the project, you'll explore data from NASA about meteorites. You'll look at where meteorites landed and where they were seen falling, and explore whether there is any relationship between these locations and the locations where people tend to live. For example, here are the places where meteorites have been seen falling.\n",
    "<center><img src=\"images/meteorites.jpg\" width=60%></center>\n",
    "- If you want to work with a partner, follow [these guidelines](https://dsc10.com/project-partners/) and get started soon!"
   ]
  },
  {
   "cell_type": "markdown",
   "metadata": {
    "slideshow": {
     "slide_type": "slide"
    }
   },
   "source": [
    "### Agenda\n",
    "\n",
    "- Example: Is our coin fair?\n",
    "    - p-values and conventions for consistency.\n",
    "- Example: Midterm scores.\n",
    "    - Does this sample look like it was drawn from this population?\n",
    "- Example: Jury selection in Alameda County.\n",
    "    - Total variation distance."
   ]
  },
  {
   "cell_type": "markdown",
   "metadata": {
    "slideshow": {
     "slide_type": "slide"
    }
   },
   "source": [
    "## Example: Is our coin fair?"
   ]
  },
  {
   "cell_type": "markdown",
   "metadata": {
    "slideshow": {
     "slide_type": "slide"
    }
   },
   "source": [
    "### Example: Is our coin fair?\n",
    "\n",
    "Last time we looked at an example where we found a coin on the ground, flipped it 400 times, and used the results to determine whether the coin was likely fair."
   ]
  },
  {
   "cell_type": "code",
   "execution_count": null,
   "metadata": {
    "slideshow": {
     "slide_type": "-"
    }
   },
   "outputs": [],
   "source": [
    "# The results of our 400 flips.\n",
    "flips_400 = bpd.read_csv('data/flips-400.csv')\n",
    "flips_400.groupby('outcome').count()"
   ]
  },
  {
   "cell_type": "markdown",
   "metadata": {
    "slideshow": {
     "slide_type": "fragment"
    }
   },
   "source": [
    "**Question**: Does our coin look like a fair coin, or not?<br>\n",
    "<small>How \"weird\" is it to flip a fair coin 400 times and see only 188 heads?</small>"
   ]
  },
  {
   "cell_type": "markdown",
   "metadata": {
    "slideshow": {
     "slide_type": "slide"
    }
   },
   "source": [
    "### Stating the hypotheses"
   ]
  },
  {
   "cell_type": "markdown",
   "metadata": {
    "slideshow": {
     "slide_type": "fragment"
    }
   },
   "source": [
    "- The **hypotheses** describe two views of how our data was generated.\n",
    "    - Remember, the null hypothesis needs to be a well-defined probability model about how the data was generated, so that we can use it for simulation. "
   ]
  },
  {
   "cell_type": "markdown",
   "metadata": {
    "slideshow": {
     "slide_type": "fragment"
    }
   },
   "source": [
    "- One pair of hypotheses is:\n",
    "    - **Null Hypothesis:** The coin is fair.\n",
    "    - **Alternative Hypothesis:** The coin is not fair."
   ]
  },
  {
   "cell_type": "markdown",
   "metadata": {
    "slideshow": {
     "slide_type": "fragment"
    }
   },
   "source": [
    "- A different pair is:\n",
    "    - **Null Hypothesis:** The coin is fair.\n",
    "    - **Alternative Hypothesis:** The coin is biased towards tails."
   ]
  },
  {
   "cell_type": "markdown",
   "metadata": {
    "slideshow": {
     "slide_type": "slide"
    }
   },
   "source": [
    "### Choosing a test statistic"
   ]
  },
  {
   "cell_type": "markdown",
   "metadata": {
    "slideshow": {
     "slide_type": "fragment"
    }
   },
   "source": [
    "- We plan to simulate 400 flips of a fair coin, many times, and keep track of a single number, called a **test statistic**, each time."
   ]
  },
  {
   "cell_type": "markdown",
   "metadata": {
    "slideshow": {
     "slide_type": "fragment"
    }
   },
   "source": [
    "- Our test statistic should be chosen such that **high observed values lean towards one hypothesis and low observed values lean towards the other**. <br>\n",
    "<small>The purpose of a test statistic is to help you distinguish between the two hypotheses.</small>"
   ]
  },
  {
   "cell_type": "markdown",
   "metadata": {
    "slideshow": {
     "slide_type": "slide"
    }
   },
   "source": [
    "### Example test statistics"
   ]
  },
  {
   "cell_type": "markdown",
   "metadata": {
    "slideshow": {
     "slide_type": "fragment"
    }
   },
   "source": [
    "- When choosing between \"the coin is fair\" and \"the coin is not fair\", we might select $|\\text{number of heads} - 200 |.$\n",
    "\n",
    "<center><img src=\"images/abs.jpg\" width=60%></center>"
   ]
  },
  {
   "cell_type": "markdown",
   "metadata": {
    "slideshow": {
     "slide_type": "fragment"
    }
   },
   "source": [
    "-  When choosing between \"the coin is fair\" and \"the coin is biased towards tails,\" we might select $\\text{number of heads}.$\n",
    "\n",
    "<center><img src=\"images/num_heads.jpg\" width=60%></center>"
   ]
  },
  {
   "cell_type": "markdown",
   "metadata": {
    "slideshow": {
     "slide_type": "slide"
    }
   },
   "source": [
    "### Rough guidelines for choosing a test statistic\n",
    "\n",
    "The test statistic you choose depends heavily on the pair of hypotheses you are testing. That said, these general guidelines may help."
   ]
  },
  {
   "cell_type": "markdown",
   "metadata": {
    "slideshow": {
     "slide_type": "fragment"
    }
   },
   "source": [
    "- If the alternative hypothesis is of the form “A > B” or \"A < B\", then the test statistic should measure a difference and should not contain an absolute value."
   ]
  },
  {
   "cell_type": "markdown",
   "metadata": {
    "slideshow": {
     "slide_type": "fragment"
    }
   },
   "source": [
    "- If the alternative hypothesis is of the form “A and B are different”, then the test statistic should measure distance and should contain an absolute value."
   ]
  },
  {
   "cell_type": "markdown",
   "metadata": {
    "slideshow": {
     "slide_type": "slide"
    }
   },
   "source": [
    "### Simulating under the null"
   ]
  },
  {
   "cell_type": "markdown",
   "metadata": {
    "slideshow": {
     "slide_type": "fragment"
    }
   },
   "source": [
    "- Once we have stated our hypotheses and chosen an appropriate test statistic, we repeatedly generate samples under the assumption that the null hypothesis is true and record the value of the test statistic for each generated sample. <br>\n",
    "<small> Here, we'll repeatedly flip a fair coin 400 times. </small>"
   ]
  },
  {
   "cell_type": "markdown",
   "metadata": {
    "slideshow": {
     "slide_type": "fragment"
    }
   },
   "source": [
    "- **Suppose we're choosing between \"the coin is fair\" and \"the coin is biased towards tails\".** <br>\n",
    "<small> Here, our test statistic is the number of heads in 400 flips. </small>\n",
    " "
   ]
  },
  {
   "cell_type": "code",
   "execution_count": null,
   "metadata": {},
   "outputs": [],
   "source": [
    "# Computes a single simulated test statistic.\n",
    "np.random.multinomial(400, [0.5, 0.5])[0]"
   ]
  },
  {
   "cell_type": "code",
   "execution_count": null,
   "metadata": {},
   "outputs": [],
   "source": [
    "# Computes 10,000 simulated test statistics.\n",
    "\n",
    "results = np.array([])\n",
    "for i in np.arange(10000):\n",
    "    result = np.random.multinomial(400, [0.5, 0.5])[0]\n",
    "    results = np.append(results, result)\n",
    "    \n",
    "results"
   ]
  },
  {
   "cell_type": "markdown",
   "metadata": {
    "slideshow": {
     "slide_type": "slide"
    }
   },
   "source": [
    "### Visualizing the empirical distribution of the test statistic\n",
    "\n",
    "Let's visualize the empirical distribution of the test statistic $\\text{number of heads}$."
   ]
  },
  {
   "cell_type": "code",
   "execution_count": null,
   "metadata": {},
   "outputs": [],
   "source": [
    "bpd.DataFrame().assign(results=results).plot(kind='hist', bins=np.arange(160, 240, 4), \n",
    "                                             density=True, ec='w', figsize=(10, 5),\n",
    "                                             title='Empirical Distribution of the Number of Heads in 400 Flips of a Fair Coin');\n",
    "plt.legend();"
   ]
  },
  {
   "cell_type": "markdown",
   "metadata": {
    "slideshow": {
     "slide_type": "fragment"
    }
   },
   "source": [
    "- Our hypothesis test boils down to checking **whether our observed statistic is a \"typical value\" in the distribution of our test statistic.**\n",
    "    - If we see a small number of heads, we'll **reject the null hypothesis** in favor of the alternative hypothesis, \"the coin is biased towards tails.\" \n",
    "    - Otherwise we'll **fail to reject the null hypothesis** because it's plausible that \"the coin is fair.\""
   ]
  },
  {
   "cell_type": "markdown",
   "metadata": {
    "slideshow": {
     "slide_type": "fragment"
    }
   },
   "source": [
    "- **Question:** Where do we draw the line between rejecting the null and failing to reject the null? How many heads, exactly, is considered a small number of heads?"
   ]
  },
  {
   "cell_type": "markdown",
   "metadata": {
    "slideshow": {
     "slide_type": "slide"
    }
   },
   "source": [
    "### Determining a cutoff"
   ]
  },
  {
   "cell_type": "code",
   "execution_count": null,
   "metadata": {},
   "outputs": [],
   "source": [
    "bpd.DataFrame().assign(results=results).plot(kind='hist', bins=np.arange(160, 240, 4), \n",
    "                                             density=True, ec='w', figsize=(10, 5),\n",
    "                                             title='Empirical Distribution of the Number of Heads in 400 Flips of a Fair Coin');\n",
    "plt.legend();"
   ]
  },
  {
   "cell_type": "markdown",
   "metadata": {
    "slideshow": {
     "slide_type": "fragment"
    }
   },
   "source": [
    "- The lower the number of heads we observe, the stronger the evidence for the alternative hypothesis, \"the coin is biased towards tails.\""
   ]
  },
  {
   "cell_type": "markdown",
   "metadata": {
    "slideshow": {
     "slide_type": "fragment"
    }
   },
   "source": [
    "- If we were to observe, say, 170 heads, even though such a result *could* happen with a fair coin, seeing 170 heads from a fair coin is sufficiently rare that we'd think the coin was biased towards tails. "
   ]
  },
  {
   "cell_type": "markdown",
   "metadata": {
    "slideshow": {
     "slide_type": "fragment"
    }
   },
   "source": [
    "- If we were to observe, say, 195 heads, such a result happens frequently enough from a fair coin that we would not have good reason to think the coin was unfair."
   ]
  },
  {
   "cell_type": "markdown",
   "metadata": {
    "slideshow": {
     "slide_type": "fragment"
    }
   },
   "source": [
    "- Let's say an outcome is **sufficiently rare** if it falls in the lowest **five percent** of outcomes in our simulation under the assumptions of the null hypothesis.\n",
    "    - Five percent could be something else - five is just a nice round number. "
   ]
  },
  {
   "cell_type": "markdown",
   "metadata": {
    "slideshow": {
     "slide_type": "slide"
    }
   },
   "source": [
    "### Determining a cutoff"
   ]
  },
  {
   "cell_type": "markdown",
   "metadata": {
    "slideshow": {
     "slide_type": "fragment"
    }
   },
   "source": [
    "- We can determine the boundary between the lowest five percent of outcomes and the remaining outcomes using the concept of percentile."
   ]
  },
  {
   "cell_type": "code",
   "execution_count": null,
   "metadata": {},
   "outputs": [],
   "source": [
    "np.percentile(results, 5)"
   ]
  },
  {
   "cell_type": "code",
   "execution_count": null,
   "metadata": {},
   "outputs": [],
   "source": [
    "draw_cutoff(results)"
   ]
  },
  {
   "cell_type": "markdown",
   "metadata": {
    "slideshow": {
     "slide_type": "fragment"
    }
   },
   "source": [
    "- Now we have a clear cutoff that tells us which hypothesis to side with.\n",
    "    - If we find a coin, flip it 400 times, and observe less than 184 heads, we'll side with \"the coin is biased towards tails.\"\n",
    "    - If we find a coin, flip it 400 times, and observe 184 heads or more, we'll side with \"the coin is fair.\""
   ]
  },
  {
   "cell_type": "markdown",
   "metadata": {
    "slideshow": {
     "slide_type": "fragment"
    }
   },
   "source": [
    "- The cutoff is somewhat arbitrary - we chose 5% but we could have chosen another number. 5% is a standard convention."
   ]
  },
  {
   "cell_type": "markdown",
   "metadata": {
    "slideshow": {
     "slide_type": "slide"
    }
   },
   "source": [
    "### p-values"
   ]
  },
  {
   "cell_type": "markdown",
   "metadata": {
    "slideshow": {
     "slide_type": "fragment"
    }
   },
   "source": [
    "- To quantify how rare our observed statistic is, under the null hypothesis, we can compute what’s called a **p-value**."
   ]
  },
  {
   "cell_type": "markdown",
   "metadata": {
    "slideshow": {
     "slide_type": "fragment"
    }
   },
   "source": [
    "- The p-value is defined as the probability, under the null hypothesis, that the test statistic **is equal** to the value that was observed in the data **or is even further in the direction of the alternative**. <br>\n",
    "<small>Its formal name is the observed significance level.</small>"
   ]
  },
  {
   "cell_type": "markdown",
   "metadata": {
    "slideshow": {
     "slide_type": "fragment"
    }
   },
   "source": [
    "- p-values correspond to the \"tail areas\" of a histogram, starting at the observed statistic."
   ]
  },
  {
   "cell_type": "markdown",
   "metadata": {
    "slideshow": {
     "slide_type": "slide"
    }
   },
   "source": [
    "### p-values"
   ]
  },
  {
   "cell_type": "code",
   "execution_count": null,
   "metadata": {
    "slideshow": {
     "slide_type": "-"
    }
   },
   "outputs": [],
   "source": [
    "bpd.DataFrame().assign(results=results).plot(kind='hist', bins=np.arange(160, 240, 4), \n",
    "                                             density=True, ec='w', figsize=(10, 5),\n",
    "                                             title='Empirical Distribution of the Number of Heads in 400 Flips of a Fair Coin');\n",
    "plt.legend();"
   ]
  },
  {
   "cell_type": "markdown",
   "metadata": {
    "slideshow": {
     "slide_type": "fragment"
    }
   },
   "source": [
    "- For example, it's extremely rare to flip a fair coin 400 times and see 170 heads or fewer."
   ]
  },
  {
   "cell_type": "code",
   "execution_count": null,
   "metadata": {},
   "outputs": [],
   "source": [
    "np.count_nonzero(results <= 170) / len(results)"
   ]
  },
  {
   "cell_type": "markdown",
   "metadata": {
    "slideshow": {
     "slide_type": "fragment"
    }
   },
   "source": [
    "- But it's much less rare to flip a fair coin 400 times and see 195 heads or fewer."
   ]
  },
  {
   "cell_type": "code",
   "execution_count": null,
   "metadata": {},
   "outputs": [],
   "source": [
    "np.count_nonzero(results <= 195) / len(results)"
   ]
  },
  {
   "cell_type": "markdown",
   "metadata": {
    "slideshow": {
     "slide_type": "fragment"
    }
   },
   "source": [
    "- The larger the p-value, the more likely our observation is, if the null hypothesis is true. Therefore, \n",
    "    - Larger p-values mean we should fail to reject the null.\n",
    "    - Smaller p-values mean we should reject the null."
   ]
  },
  {
   "cell_type": "markdown",
   "metadata": {
    "slideshow": {
     "slide_type": "slide"
    }
   },
   "source": [
    "### Conventions"
   ]
  },
  {
   "cell_type": "markdown",
   "metadata": {
    "slideshow": {
     "slide_type": "fragment"
    }
   },
   "source": [
    "- If the p-value is sufficiently large, we say the data is **consistent** with the null hypothesis and so we \"**fail to reject the null hypothesis**\".\n",
    "    - We never say that we \"accept\" the null hypothesis! The null hypothesis may be plausible, but there are many other possible explanations for our data."
   ]
  },
  {
   "cell_type": "markdown",
   "metadata": {
    "slideshow": {
     "slide_type": "fragment"
    }
   },
   "source": [
    "- If the p-value is below some cutoff, we say the data is **inconsistent** with the null hypothesis, and we **\"reject the null hypothesis\"**.\n",
    "    - If a p-value is less than 0.05, the result is said to be \"statistically significant\".\n",
    "    - If a p-value is less than 0.01, the result is said to be \"highly statistically significant\".\n",
    "    - These conventions are historical and completely arbitrary! (And controversial.)"
   ]
  },
  {
   "cell_type": "markdown",
   "metadata": {
    "slideshow": {
     "slide_type": "slide"
    }
   },
   "source": [
    "### Drawing a conclusion"
   ]
  },
  {
   "cell_type": "markdown",
   "metadata": {
    "slideshow": {
     "slide_type": "fragment"
    }
   },
   "source": [
    "- Recall that we found a coin, flipped it 400 times, and saw 188 heads. This is the **observed statistic**."
   ]
  },
  {
   "cell_type": "code",
   "execution_count": null,
   "metadata": {},
   "outputs": [],
   "source": [
    "bpd.DataFrame().assign(results=results).plot(kind='hist', bins=np.arange(160, 240, 4), \n",
    "                                             density=True, ec='w', figsize=(10, 5),\n",
    "                                             title='Empirical Distribution of the Number of Heads in 400 Flips of a Fair Coin');\n",
    "plt.axvline(188, color='black', linewidth=4, label='observed statistic (188)')\n",
    "plt.legend();"
   ]
  },
  {
   "cell_type": "markdown",
   "metadata": {
    "slideshow": {
     "slide_type": "fragment"
    }
   },
   "source": [
    "- How common is it to see 188 heads or fewer when we flip a fair coin 400 times? Let's calculate the p-value."
   ]
  },
  {
   "cell_type": "code",
   "execution_count": null,
   "metadata": {
    "slideshow": {
     "slide_type": "-"
    }
   },
   "outputs": [],
   "source": [
    "np.count_nonzero(results <= 188) / len(results)"
   ]
  },
  {
   "cell_type": "markdown",
   "metadata": {
    "slideshow": {
     "slide_type": "fragment"
    }
   },
   "source": [
    "- It happens about 12% of the time. It's not so rare. Since the p-value is at least 0.05, we **fail to reject** the null hypothesis at the standard 0.05 **significance level** and conclude that it's plausible that our coin is fair."
   ]
  },
  {
   "cell_type": "markdown",
   "metadata": {
    "slideshow": {
     "slide_type": "slide"
    }
   },
   "source": [
    "### But was the coin we found really fair?"
   ]
  },
  {
   "cell_type": "markdown",
   "metadata": {
    "slideshow": {
     "slide_type": "fragment"
    }
   },
   "source": [
    "- Unfortunately, we'll never know. 🤷‍♂️ "
   ]
  },
  {
   "cell_type": "markdown",
   "metadata": {
    "slideshow": {
     "slide_type": "fragment"
    }
   },
   "source": [
    "- But we can be assured that with a cutoff of 0.05, if the null hypothesis is actually true, we will incorrectly reject it only about 5% of the time. "
   ]
  },
  {
   "cell_type": "markdown",
   "metadata": {
    "slideshow": {
     "slide_type": "fragment"
    }
   },
   "source": [
    "- In this way, we can interpret our p-value cutoff as a probability of error."
   ]
  },
  {
   "cell_type": "markdown",
   "metadata": {
    "slideshow": {
     "slide_type": "slide"
    }
   },
   "source": [
    "### Left or right? 👈👉"
   ]
  },
  {
   "cell_type": "markdown",
   "metadata": {
    "slideshow": {
     "slide_type": "fragment"
    }
   },
   "source": [
    "- In this example, we calculated the p-value as the area in the **left** tail of the histogram."
   ]
  },
  {
   "cell_type": "markdown",
   "metadata": {
    "slideshow": {
     "slide_type": "fragment"
    }
   },
   "source": [
    "- But other times, when large values of the observed statistic indicate the alternative hypothesis, the p-value corresponds to the area in the **right** tail. "
   ]
  },
  {
   "cell_type": "markdown",
   "metadata": {
    "slideshow": {
     "slide_type": "fragment"
    }
   },
   "source": [
    "- In order to calculate a p-value, we have to know whether larger or smaller values correspond to the alternative hypothesis. "
   ]
  },
  {
   "cell_type": "markdown",
   "metadata": {
    "slideshow": {
     "slide_type": "fragment"
    }
   },
   "source": [
    "- We always calculate a p-value with `>=` or `<=` because it includes the probability that the test statistic exactly equals the observed statistic."
   ]
  },
  {
   "cell_type": "markdown",
   "metadata": {
    "slideshow": {
     "slide_type": "slide"
    }
   },
   "source": [
    "## Example: Midterm exam scores"
   ]
  },
  {
   "cell_type": "markdown",
   "metadata": {
    "slideshow": {
     "slide_type": "slide"
    }
   },
   "source": [
    "### The problem"
   ]
  },
  {
   "cell_type": "markdown",
   "metadata": {
    "slideshow": {
     "slide_type": "fragment"
    }
   },
   "source": [
    "- In Fall 2022, there were four sections of DSC 10 – A, B, C, and D."
   ]
  },
  {
   "cell_type": "markdown",
   "metadata": {
    "slideshow": {
     "slide_type": "fragment"
    }
   },
   "source": [
    "- One of the four sections – the one taught by Suraj – had a much lower average than the other three sections.\n",
    "    - All midterms were graded by the same people, with the same rubrics."
   ]
  },
  {
   "cell_type": "code",
   "execution_count": null,
   "metadata": {
    "scrolled": true,
    "slideshow": {
     "slide_type": "slide"
    }
   },
   "outputs": [],
   "source": [
    "# Midterm scores from DSC 10, Fall 2022, slightly perturbed for anonymity.\n",
    "scores = bpd.read_csv('data/fa22-midterm-scores.csv')\n",
    "scores"
   ]
  },
  {
   "cell_type": "code",
   "execution_count": null,
   "metadata": {},
   "outputs": [],
   "source": [
    "scores.plot(kind='hist', density=True, figsize=(10, 5), ec='w', bins=np.arange(10, 85, 5), title='Distribution of Midterm Exam Scores in DSC 10');"
   ]
  },
  {
   "cell_type": "code",
   "execution_count": null,
   "metadata": {},
   "outputs": [],
   "source": [
    "# Total number of students who took the exam.\n",
    "scores.shape[0]"
   ]
  },
  {
   "cell_type": "code",
   "execution_count": null,
   "metadata": {
    "scrolled": true
   },
   "outputs": [],
   "source": [
    "# Calculate the number of students in each section.\n",
    "scores.groupby('Section').count()"
   ]
  },
  {
   "cell_type": "code",
   "execution_count": null,
   "metadata": {
    "scrolled": true
   },
   "outputs": [],
   "source": [
    "# Calculate the average midterm score in each section.\n",
    "scores.groupby('Section').mean()"
   ]
  },
  {
   "cell_type": "markdown",
   "metadata": {
    "slideshow": {
     "slide_type": "-"
    }
   },
   "source": [
    "<details>\n",
    "    <summary>Click <b>here</b> to see Suraj's reaction 😱.</summary>\n",
    "    <center><img src=\"images/surprise.png\" width=25%></center>\n",
    "</details>"
   ]
  },
  {
   "cell_type": "markdown",
   "metadata": {
    "slideshow": {
     "slide_type": "slide"
    }
   },
   "source": [
    "### Thought experiment 💭🧪"
   ]
  },
  {
   "cell_type": "markdown",
   "metadata": {
    "slideshow": {
     "slide_type": "fragment"
    }
   },
   "source": [
    "- Suppose we _randomly_ place all 393 students into one of four sections and compute the average midterm score within each section. "
   ]
  },
  {
   "cell_type": "markdown",
   "metadata": {
    "slideshow": {
     "slide_type": "fragment"
    }
   },
   "source": [
    "- One of the sections would _have to_ have a lower average score than the others (unless multiple are tied for the lowest).\n",
    "    - In any set of four numbers, one of them has to be the minimum!"
   ]
  },
  {
   "cell_type": "markdown",
   "metadata": {
    "slideshow": {
     "slide_type": "fragment"
    }
   },
   "source": [
    "- But is Section C's average _lower_ than we'd expect due to chance? Let's perform a hypothesis test!"
   ]
  },
  {
   "cell_type": "markdown",
   "metadata": {
    "slideshow": {
     "slide_type": "slide"
    }
   },
   "source": [
    "### Suraj's defense"
   ]
  },
  {
   "cell_type": "markdown",
   "metadata": {
    "slideshow": {
     "slide_type": "fragment"
    }
   },
   "source": [
    "- **Null Hypothesis:** Section C's scores are drawn randomly from the distribution of scores in the course overall. The observed difference between the average score in Section C and the average score in the course overall is due to random chance."
   ]
  },
  {
   "cell_type": "markdown",
   "metadata": {
    "slideshow": {
     "slide_type": "fragment"
    }
   },
   "source": [
    "- **Alternative Hypothesis:** Section C's average score is too low to be explained by chance alone.\n",
    "\n",
    "\n"
   ]
  },
  {
   "cell_type": "markdown",
   "metadata": {
    "slideshow": {
     "slide_type": "slide"
    }
   },
   "source": [
    "### Does this sample look like it was drawn from this population?"
   ]
  },
  {
   "cell_type": "markdown",
   "metadata": {
    "slideshow": {
     "slide_type": "fragment"
    }
   },
   "source": [
    "- This hypothesis test, like others we have seen, can be framed as a question of whether a certain sample (Suraj's section) appears to have been drawn randomly from a certain population (all students). "
   ]
  },
  {
   "cell_type": "markdown",
   "metadata": {
    "slideshow": {
     "slide_type": "fragment"
    }
   },
   "source": [
    "- For the Robert Swain jury example, we asked if our sample of jury panelists looked like it was drawn from the population of eligible jurors."
   ]
  },
  {
   "cell_type": "markdown",
   "metadata": {
    "slideshow": {
     "slide_type": "fragment"
    }
   },
   "source": [
    "- Even the fair coin example can be posed in this way. \n",
    "    - In this case, the population distribution is the uniform distribution (50% heads, 50% tails), and when we flip a coin, we are sampling from this distribution with replacement. \n",
    "    - We wanted to know if the sample of coin flips we observed looked like it came from this population, which represents a fair coin."
   ]
  },
  {
   "cell_type": "markdown",
   "metadata": {
    "slideshow": {
     "slide_type": "slide"
    }
   },
   "source": [
    "### What are the observed characteristics of Section C?"
   ]
  },
  {
   "cell_type": "code",
   "execution_count": null,
   "metadata": {},
   "outputs": [],
   "source": [
    "section_size = scores.groupby('Section').count().get('Score').loc['C']\n",
    "observed_avg = scores.groupby('Section').mean().get('Score').loc['C']\n",
    "print(f'Section C had {section_size} students and an average midterm score of {observed_avg}.')"
   ]
  },
  {
   "cell_type": "markdown",
   "metadata": {
    "slideshow": {
     "slide_type": "slide"
    }
   },
   "source": [
    "### Simulating under the null hypothesis"
   ]
  },
  {
   "cell_type": "markdown",
   "metadata": {
    "slideshow": {
     "slide_type": "fragment"
    }
   },
   "source": [
    "- Model: There is no significant difference between the exam scores in different sections. Section C had a lower average purely due to chance.\n",
    "    - To simulate: sample 108 students uniformly at random without replacement from the class. "
   ]
  },
  {
   "cell_type": "markdown",
   "metadata": {
    "slideshow": {
     "slide_type": "fragment"
    }
   },
   "source": [
    "- Test statistic: the average midterm score of a section.\n",
    "    - The observed statistic is the average midterm score of Section C (about 46.17)."
   ]
  },
  {
   "cell_type": "code",
   "execution_count": null,
   "metadata": {},
   "outputs": [],
   "source": [
    "# Sample 108 students from the class, independent of section, \n",
    "# and compute the average score.\n",
    "scores.sample(int(section_size), replace=False).get('Score').mean()"
   ]
  },
  {
   "cell_type": "code",
   "execution_count": null,
   "metadata": {},
   "outputs": [],
   "source": [
    "averages = np.array([])\n",
    "repetitions = 1000\n",
    "for i in np.arange(repetitions):\n",
    "    random_sample = scores.sample(int(section_size), replace=False)\n",
    "    new_average = random_sample.get('Score').mean()\n",
    "    averages = np.append(averages, new_average)\n",
    "    \n",
    "averages"
   ]
  },
  {
   "cell_type": "markdown",
   "metadata": {
    "slideshow": {
     "slide_type": "slide"
    }
   },
   "source": [
    "### What's the verdict? 🤔"
   ]
  },
  {
   "cell_type": "code",
   "execution_count": null,
   "metadata": {},
   "outputs": [],
   "source": [
    "observed_avg"
   ]
  },
  {
   "cell_type": "code",
   "execution_count": null,
   "metadata": {},
   "outputs": [],
   "source": [
    "bpd.DataFrame().assign(RandomSampleAverage=averages).plot(kind='hist', bins=20, \n",
    "                                                          density=True, ec='w', figsize=(10, 5), \n",
    "                                                          title='Empirical Distribution of Midterm Averages for 108 Randomly Selected Students')\n",
    "plt.axvline(observed_avg, color='black', linewidth=4, label='observed statistic')\n",
    "plt.legend();"
   ]
  },
  {
   "cell_type": "code",
   "execution_count": null,
   "metadata": {},
   "outputs": [],
   "source": [
    "# p-value\n",
    "np.count_nonzero(averages <= observed_avg) / repetitions"
   ]
  },
  {
   "cell_type": "markdown",
   "metadata": {
    "slideshow": {
     "slide_type": "fragment"
    }
   },
   "source": [
    "The p-value is below the standard cutoff of 0.05, and even below the 0.01 cutoff for being \"highly statistically significant\" so we **reject the null hypothesis.** It's not looking good for you, Suraj! "
   ]
  },
  {
   "cell_type": "markdown",
   "metadata": {
    "slideshow": {
     "slide_type": "slide"
    }
   },
   "source": [
    "## Comparing distributions"
   ]
  },
  {
   "cell_type": "markdown",
   "metadata": {
    "slideshow": {
     "slide_type": "slide"
    }
   },
   "source": [
    "### Jury selection in Alameda County\n",
    "\n",
    "<br>\n",
    "\n",
    "<center><img src='images/aclu.png' width=500></center>"
   ]
  },
  {
   "cell_type": "markdown",
   "metadata": {
    "slideshow": {
     "slide_type": "slide"
    }
   },
   "source": [
    "### Jury panels\n",
    "\n",
    "Recall from Lecture 19:\n",
    "\n",
    "<center>$\\substack{\\text{eligible} \\\\ \\text{population}}\n",
    "\\xrightarrow{\\substack{\\text{representative} \\\\ \\text{sample}}} \n",
    "\\substack{\\text{jury} \\\\ \\text{panel}}\n",
    "\\xrightarrow{\\substack{\\text{selection by} \\\\ \\text{judge/attorneys}}} \n",
    "\\substack{\\text{actual} \\\\ \\text{jury}}$</center>"
   ]
  },
  {
   "cell_type": "markdown",
   "metadata": {
    "slideshow": {
     "slide_type": "fragment"
    }
   },
   "source": [
    "Section 197 of California's Code of Civil Procedure says, \n",
    "> \"All persons selected for jury service shall be selected at random, from a source or sources inclusive of a representative cross section of the population of the area served by the court.\""
   ]
  },
  {
   "cell_type": "markdown",
   "metadata": {
    "slideshow": {
     "slide_type": "slide"
    }
   },
   "source": [
    "### Racial and Ethnic Disparities in Alameda County Jury Pools"
   ]
  },
  {
   "cell_type": "markdown",
   "metadata": {
    "slideshow": {
     "slide_type": "fragment"
    }
   },
   "source": [
    "- The American Civil Liberties Union (ACLU) of Northern California [studied](https://www.aclunc.org/sites/default/files/racial_and_ethnic_disparities_in_alameda_county_jury_pools.pdf) the ethnic composition of jury panels in 11 felony trials in Alameda County between 2009 and 2010."
   ]
  },
  {
   "cell_type": "markdown",
   "metadata": {
    "slideshow": {
     "slide_type": "fragment"
    }
   },
   "source": [
    "- 1453 people reported for jury duty in total (we will call them \"panelists\")."
   ]
  },
  {
   "cell_type": "markdown",
   "metadata": {
    "slideshow": {
     "slide_type": "fragment"
    }
   },
   "source": [
    "- The following DataFrame shows the distribution in ethnicities for both the eligible population and for the panelists who were studied."
   ]
  },
  {
   "cell_type": "code",
   "execution_count": null,
   "metadata": {},
   "outputs": [],
   "source": [
    "jury = bpd.DataFrame().assign(\n",
    "    Ethnicity=['Asian', 'Black', 'Latino', 'White', 'Other'],\n",
    "    Eligible=[0.15, 0.18, 0.12, 0.54, 0.01],\n",
    "    Panels=[0.26, 0.08, 0.08, 0.54, 0.04]\n",
    ")\n",
    "jury"
   ]
  },
  {
   "cell_type": "markdown",
   "metadata": {
    "slideshow": {
     "slide_type": "fragment"
    }
   },
   "source": [
    "What do you notice? 👀"
   ]
  },
  {
   "cell_type": "markdown",
   "metadata": {
    "slideshow": {
     "slide_type": "slide"
    }
   },
   "source": [
    "### Are the differences in representation meaningful?"
   ]
  },
  {
   "cell_type": "markdown",
   "metadata": {
    "slideshow": {
     "slide_type": "fragment"
    }
   },
   "source": [
    "- **Null Hypothesis:** Panelists were selected at random from the eligible population."
   ]
  },
  {
   "cell_type": "markdown",
   "metadata": {
    "slideshow": {
     "slide_type": "fragment"
    }
   },
   "source": [
    "- **Alternative Hypothesis:** Panelists were _not_ selected at random from the eligible population."
   ]
  },
  {
   "cell_type": "markdown",
   "metadata": {
    "slideshow": {
     "slide_type": "fragment"
    }
   },
   "source": [
    "- Observation: 1453 panelists and the distribution of their ethnicities."
   ]
  },
  {
   "cell_type": "markdown",
   "metadata": {
    "slideshow": {
     "slide_type": "fragment"
    }
   },
   "source": [
    "- Test statistic: ???\n",
    "    - How do we deal with multiple categories?"
   ]
  },
  {
   "cell_type": "code",
   "execution_count": null,
   "metadata": {
    "slideshow": {
     "slide_type": "-"
    }
   },
   "outputs": [],
   "source": [
    "jury.plot(kind='barh', x='Ethnicity', figsize=(10, 5));"
   ]
  },
  {
   "cell_type": "markdown",
   "metadata": {
    "slideshow": {
     "slide_type": "slide"
    }
   },
   "source": [
    "### The distance between two distributions"
   ]
  },
  {
   "cell_type": "markdown",
   "metadata": {
    "slideshow": {
     "slide_type": "fragment"
    }
   },
   "source": [
    "- Panelists are categorized into one of 5 ethnicities. In other words, ethnicity is a **categorical** variable."
   ]
  },
  {
   "cell_type": "markdown",
   "metadata": {
    "slideshow": {
     "slide_type": "fragment"
    }
   },
   "source": [
    "- To see whether the the distribution of ethnicities for the panelists is similar to that of the eligible population, we have to measure the distance between two categorical distributions.\n",
    "    - We've done this for distributions with just two categories – heads and tails, for instance – but not when there are more than two categories."
   ]
  },
  {
   "cell_type": "markdown",
   "metadata": {
    "slideshow": {
     "slide_type": "slide"
    }
   },
   "source": [
    "### The distance between two distributions"
   ]
  },
  {
   "cell_type": "markdown",
   "metadata": {
    "slideshow": {
     "slide_type": "fragment"
    }
   },
   "source": [
    "- Let's start by considering the difference in proportions for each category."
   ]
  },
  {
   "cell_type": "code",
   "execution_count": null,
   "metadata": {},
   "outputs": [],
   "source": [
    "with_diffs = jury.assign(Difference=(jury.get('Panels') - jury.get('Eligible')))\n",
    "with_diffs"
   ]
  },
  {
   "cell_type": "markdown",
   "metadata": {
    "slideshow": {
     "slide_type": "fragment"
    }
   },
   "source": [
    "- Note that if we sum these differences, the result is 0 (you'll see the proof in DSC 40A).\n",
    "- To avoid cancellation of positive and negative differences, we can take the absolute value of these differences."
   ]
  },
  {
   "cell_type": "code",
   "execution_count": null,
   "metadata": {
    "slideshow": {
     "slide_type": "fragment"
    }
   },
   "outputs": [],
   "source": [
    "with_abs_diffs = with_diffs.assign(AbsoluteDifference=np.abs(with_diffs.get('Difference')))\n",
    "with_abs_diffs"
   ]
  },
  {
   "cell_type": "markdown",
   "metadata": {
    "slideshow": {
     "slide_type": "slide"
    }
   },
   "source": [
    "### Statistic: Total Variation Distance\n",
    "\n",
    "The **Total Variation Distance (TVD)** of two categorical distributions is **the sum of the absolute differences of their proportions, all divided by 2**."
   ]
  },
  {
   "cell_type": "markdown",
   "metadata": {
    "slideshow": {
     "slide_type": "fragment"
    }
   },
   "source": [
    "- We divide by 2 so that, for example, the distribution [0.51, 0.49] is 0.01 away from [0.50, 0.50]."
   ]
  },
  {
   "cell_type": "markdown",
   "metadata": {
    "slideshow": {
     "slide_type": "fragment"
    }
   },
   "source": [
    "- It would also be valid not to divide by 2. We just wouldn't call that statistic TVD anymore."
   ]
  },
  {
   "cell_type": "code",
   "execution_count": null,
   "metadata": {},
   "outputs": [],
   "source": [
    "with_abs_diffs"
   ]
  },
  {
   "cell_type": "code",
   "execution_count": null,
   "metadata": {},
   "outputs": [],
   "source": [
    "with_abs_diffs.get('AbsoluteDifference').sum() / 2"
   ]
  },
  {
   "cell_type": "code",
   "execution_count": null,
   "metadata": {},
   "outputs": [],
   "source": [
    "def total_variation_distance(dist1, dist2):\n",
    "    '''Computes the TVD between two categorical distributions, \n",
    "       assuming the categories appear in the same order.'''\n",
    "    return np.abs((dist1 - dist2)).sum() / 2\n",
    "\n",
    "jury.plot(kind='barh', x='Ethnicity', figsize=(10, 5))\n",
    "plt.annotate('If you add up the total amount by which the blue bars\\n are longer than the red bars, you get 0.14.', (0.08, 3.9), bbox=dict(boxstyle=\"larrow,pad=0.3\", fc=\"#e5e5e5\", ec=\"black\", lw=2));\n",
    "plt.annotate('If you add up the total amount by which the red bars\\n are longer than the blue bars, you also get 0.14!', (0.23, 0.9), bbox=dict(boxstyle=\"larrow,pad=0.3\", fc=\"#e5e5e5\", ec=\"black\", lw=2));"
   ]
  },
  {
   "cell_type": "markdown",
   "metadata": {
    "slideshow": {
     "slide_type": "fragment"
    }
   },
   "source": [
    "- TVD quantifies the **total overrepresentation** across all categories. \n",
    "    - Equivalently, it also quantifies total underrepresentation across all categories."
   ]
  },
  {
   "cell_type": "markdown",
   "metadata": {
    "slideshow": {
     "slide_type": "slide"
    }
   },
   "source": [
    "### Concept Check ✅ – Answer at [cc.dsc10.com](http://cc.dsc10.com) \n",
    "\n",
    "What is the TVD between the distributions of class standing in DSC 10 and DSC 40A?\n",
    "\n",
    "| **Class Standing** | **DSC 10** | **DSC 40A** |\n",
    "| --- | --- | --- |\n",
    "| Freshman | 0.45 | 0.15 |\n",
    "| Sophomore | 0.35 | 0.35 |\n",
    "| Junior | 0.15 | 0.35 |\n",
    "| Senior+ | 0.05 | 0.15 |\n",
    "\n",
    "- A. 0.2\n",
    "- B. 0.3\n",
    "- C. 0.5\n",
    "- D. 0.6\n",
    "- E. None of the above"
   ]
  },
  {
   "cell_type": "markdown",
   "metadata": {
    "slideshow": {
     "slide_type": "slide"
    }
   },
   "source": [
    "### Simulate drawing jury panels"
   ]
  },
  {
   "cell_type": "markdown",
   "metadata": {
    "slideshow": {
     "slide_type": "fragment"
    }
   },
   "source": [
    "- Model: Panels are drawn at from the eligible population."
   ]
  },
  {
   "cell_type": "markdown",
   "metadata": {
    "slideshow": {
     "slide_type": "fragment"
    }
   },
   "source": [
    "- Statistic: TVD between the random panel's ethnicity distribution and the eligible population's ethnicity distribution."
   ]
  },
  {
   "cell_type": "markdown",
   "metadata": {
    "slideshow": {
     "slide_type": "fragment"
    }
   },
   "source": [
    "- Repeat many times to generate many TVDs, and see where the TVD of the observed panelists lies."
   ]
  },
  {
   "cell_type": "markdown",
   "metadata": {
    "slideshow": {
     "slide_type": "fragment"
    }
   },
   "source": [
    "_Note_: `np.random.multinomial` creates samples drawn with replacement, even though real jury panels would be drawn without replacement. However, when the sample size (1453) is small relative to the population (number of people in Alameda County), the resulting distributions will be roughly the same whether we sample with or without replacement."
   ]
  },
  {
   "cell_type": "markdown",
   "metadata": {
    "slideshow": {
     "slide_type": "slide"
    }
   },
   "source": [
    "### The simulation"
   ]
  },
  {
   "cell_type": "code",
   "execution_count": null,
   "metadata": {
    "slideshow": {
     "slide_type": "-"
    }
   },
   "outputs": [],
   "source": [
    "eligible = jury.get('Eligible')\n",
    "sample_distribution = np.random.multinomial(1453, eligible) / 1453 \n",
    "sample_distribution"
   ]
  },
  {
   "cell_type": "code",
   "execution_count": null,
   "metadata": {},
   "outputs": [],
   "source": [
    "total_variation_distance(sample_distribution, eligible)"
   ]
  },
  {
   "cell_type": "markdown",
   "metadata": {
    "slideshow": {
     "slide_type": "slide"
    }
   },
   "source": [
    "### Repeating the experiment"
   ]
  },
  {
   "cell_type": "code",
   "execution_count": null,
   "metadata": {},
   "outputs": [],
   "source": [
    "tvds = np.array([])\n",
    "repetitions = 10000\n",
    "for i in np.arange(repetitions):\n",
    "    sample_distribution = np.random.multinomial(1453, eligible) / 1453\n",
    "    new_tvd = total_variation_distance(sample_distribution, eligible)\n",
    "    tvds = np.append(tvds, new_tvd)"
   ]
  },
  {
   "cell_type": "code",
   "execution_count": null,
   "metadata": {},
   "outputs": [],
   "source": [
    "observed_tvd = total_variation_distance(jury.get('Panels'), eligible)\n",
    "\n",
    "bpd.DataFrame().assign(tvds=tvds).plot(kind='hist', density=True, bins=20, ec='w', figsize=(10, 5),\n",
    "                                      title='Empirical Distribution of TVD Between Eligible Population and Random Sample')\n",
    "plt.axvline(observed_tvd, color='black', linewidth=4, label='Observed Statistic')\n",
    "plt.legend();"
   ]
  },
  {
   "cell_type": "markdown",
   "metadata": {
    "slideshow": {
     "slide_type": "slide"
    }
   },
   "source": [
    "### Calculating the p-value"
   ]
  },
  {
   "cell_type": "code",
   "execution_count": null,
   "metadata": {},
   "outputs": [],
   "source": [
    "np.count_nonzero(tvds >= observed_tvd) / repetitions"
   ]
  },
  {
   "cell_type": "markdown",
   "metadata": {
    "slideshow": {
     "slide_type": "fragment"
    }
   },
   "source": [
    "- Random samples from the eligible population are typically **much more similar** to the eligible population than our observed data. \n",
    "- We see this in the empirical distribution, which consists of **small TVDs** (much smaller than our observed TVD)."
   ]
  },
  {
   "cell_type": "code",
   "execution_count": null,
   "metadata": {},
   "outputs": [],
   "source": [
    "jury.assign(RandomSample=sample_distribution).plot(kind='barh', x='Ethnicity', figsize=(10, 5),\n",
    "                                                   title = \"A Random Sample is Usually Similar to the Eligible Population\");"
   ]
  },
  {
   "cell_type": "markdown",
   "metadata": {
    "slideshow": {
     "slide_type": "slide"
    }
   },
   "source": [
    "### Are the jury panels representative?"
   ]
  },
  {
   "cell_type": "markdown",
   "metadata": {
    "slideshow": {
     "slide_type": "fragment"
    }
   },
   "source": [
    "- Likely not! The distributions of ethnicities in our random samples are not like the distribution of ethnicities in our observed panelists."
   ]
  },
  {
   "cell_type": "markdown",
   "metadata": {
    "slideshow": {
     "slide_type": "fragment"
    }
   },
   "source": [
    "- This doesn't say *why* the distributions are different!\n",
    "    - Juries are drawn from voter registration lists and DMV records. Certain populations are less likely to be registered to vote or have a driver's license due to historical biases.\n",
    "    - The county rarely enacts penalties for those who don't appear for jury duty; certain populations are less likely to be able to miss work to appear for jury duty.\n",
    "    - [See the report](https://www.aclunc.org/sites/default/files/racial_and_ethnic_disparities_in_alameda_county_jury_pools.pdf) for more reasons."
   ]
  },
  {
   "cell_type": "markdown",
   "metadata": {
    "slideshow": {
     "slide_type": "slide"
    }
   },
   "source": [
    "## Summary, next time"
   ]
  },
  {
   "cell_type": "markdown",
   "metadata": {
    "slideshow": {
     "slide_type": "slide"
    }
   },
   "source": [
    "### The hypothesis testing \"recipe\"\n",
    "\n",
    "1. **State hypotheses**: State the null and alternative hypotheses. We must be able to simulate data under the null hypothesis.\n",
    "1. **Choose test statistic**: Choose something that allows you to distinguish between the two hypotheses based on whether its value is high or low.\n",
    "1. **Simulate**: Draw samples under the null hypothesis, and calculate the test statistic on each one.\n",
    "1. **Visualize**: Plot the simulated values of the test statistic in a histogram, and compare this to the observed statistic (black line).\n",
    "1. **Calculate p-value**: Find the proportion of simulations for which the test statistic was at least as extreme as the one observed."
   ]
  },
  {
   "cell_type": "markdown",
   "metadata": {
    "slideshow": {
     "slide_type": "slide"
    }
   },
   "source": [
    "### Why does it matter?\n",
    "\n",
    "- Hypothesis testing is used all the time to make decisions in science and business.\n",
    "- Hypothesis testing quantifies how \"weird\" a result is.\n",
    "    - Instead of saying, \"I think that's unusual,\" people say, \"This has a p-value of 0.001.\"\n",
    "- Through simulation, we have the tools to estimate how _likely_ something is, without needing to know a ton about probability theory."
   ]
  },
  {
   "cell_type": "markdown",
   "metadata": {
    "slideshow": {
     "slide_type": "slide"
    }
   },
   "source": [
    "### Next time\n",
    "\n",
    "- All our hypothesis tests so far have involved sampling from a known distribution. \n",
    "- How do we test whether two samples are from the same **unknown** distribution?"
   ]
  }
 ],
 "metadata": {
  "kernelspec": {
   "display_name": "Python 3 (ipykernel)",
   "language": "python",
   "name": "python3"
  },
  "language_info": {
   "codemirror_mode": {
    "name": "ipython",
    "version": 3
   },
   "file_extension": ".py",
   "mimetype": "text/x-python",
   "name": "python",
   "nbconvert_exporter": "python",
   "pygments_lexer": "ipython3",
   "version": "3.9.5"
  },
  "livereveal": {
   "scroll": true,
   "transition": "none"
  },
  "rise": {
   "enable_chalkboard": true
  }
 },
 "nbformat": 4,
 "nbformat_minor": 4
}
