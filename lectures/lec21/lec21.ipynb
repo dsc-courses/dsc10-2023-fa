{
 "cells": [
  {
   "cell_type": "code",
   "execution_count": null,
   "metadata": {
    "slideshow": {
     "slide_type": "skip"
    }
   },
   "outputs": [],
   "source": [
    "# Set up packages for lecture. Don't worry about understanding this code,\n",
    "# but make sure to run it if you're following along.\n",
    "import numpy as np\n",
    "import babypandas as bpd\n",
    "import pandas as pd\n",
    "from matplotlib_inline.backend_inline import set_matplotlib_formats\n",
    "import matplotlib.pyplot as plt\n",
    "set_matplotlib_formats(\"svg\")\n",
    "plt.style.use('ggplot')\n",
    "\n",
    "np.set_printoptions(threshold=20, precision=2, suppress=True)\n",
    "pd.set_option(\"display.max_rows\", 7)\n",
    "pd.set_option(\"display.max_columns\", 8)\n",
    "pd.set_option(\"display.precision\", 2)\n",
    "\n",
    "# Animations\n",
    "import ipywidgets as widgets\n",
    "from IPython.display import display, HTML"
   ]
  },
  {
   "cell_type": "markdown",
   "metadata": {
    "slideshow": {
     "slide_type": "slide"
    }
   },
   "source": [
    "# Lecture 21 – Spread, The Normal Distribution\n",
    "\n",
    "## DSC 10, Spring 2023"
   ]
  },
  {
   "cell_type": "markdown",
   "metadata": {
    "slideshow": {
     "slide_type": "slide"
    }
   },
   "source": [
    "### Announcements\n",
    "\n",
    "- Homework 5 is due **tomorrow at 11:59PM**.\n",
    "    - See [this post on Ed](https://edstem.org/us/courses/38383/discussion/3133694) for a few important clarifications.\n",
    "- Lab 6 is due on **Saturday 5/27 at 11:59PM**.\n",
    "- The Final Project is due on **Tuesday 6/6 at 11:59PM**.\n",
    "- The HDSI Undergraduate Scholarship application is due in July! Find a faculty member, propose a project, and if selected, you'll win money to work on your project. See [this page](https://datascience.ucsd.edu/current-students/undergraduate-financial-opportunities/) for details. All majors are welcome!\n",
    "- The Grade Report has been updated – take a look on Gradescope."
   ]
  },
  {
   "cell_type": "markdown",
   "metadata": {
    "slideshow": {
     "slide_type": "slide"
    }
   },
   "source": [
    "### Agenda\n",
    "\n",
    "- Recap: Central tendency.\n",
    "- Standard deviation.\n",
    "- Standardization.\n",
    "- The normal distribution."
   ]
  },
  {
   "cell_type": "markdown",
   "metadata": {
    "slideshow": {
     "slide_type": "slide"
    }
   },
   "source": [
    "## Central tendency"
   ]
  },
  {
   "cell_type": "markdown",
   "metadata": {
    "slideshow": {
     "slide_type": "slide"
    }
   },
   "source": [
    "### Example: Flight delays ✈️"
   ]
  },
  {
   "cell_type": "code",
   "execution_count": null,
   "metadata": {},
   "outputs": [],
   "source": [
    "delays = bpd.read_csv('data/delays.csv')\n",
    "delays.plot(kind='hist', y='Delay', bins=np.arange(-20.5, 210, 5), density=True, ec='w', figsize=(10, 5))\n",
    "plt.title('Flight Delays')\n",
    "plt.xlabel('Delay (minutes)');"
   ]
  },
  {
   "cell_type": "markdown",
   "metadata": {},
   "source": [
    "**Question**: Which is larger – the mean or the median?"
   ]
  },
  {
   "cell_type": "code",
   "execution_count": null,
   "metadata": {
    "slideshow": {
     "slide_type": "slide"
    }
   },
   "outputs": [],
   "source": [
    "delays.get('Delay').mean()"
   ]
  },
  {
   "cell_type": "code",
   "execution_count": null,
   "metadata": {},
   "outputs": [],
   "source": [
    "delays.get('Delay').median()"
   ]
  },
  {
   "cell_type": "code",
   "execution_count": null,
   "metadata": {
    "scrolled": false,
    "slideshow": {
     "slide_type": "slide"
    }
   },
   "outputs": [],
   "source": [
    "delays.plot(kind='hist', y='Delay', bins=np.arange(-20.5, 210, 5), density=True, ec='w', alpha=0.65, figsize=(10, 5))\n",
    "plt.plot([delays.get('Delay').mean(), delays.get('Delay').mean()], [0, 1], color='green', label='Mean', linewidth=2)\n",
    "plt.scatter([delays.get('Delay').mean()], [-0.0017], color='green', marker='^', s=250)\n",
    "plt.plot([delays.get('Delay').median(), delays.get('Delay').median()], [0, 1], color='purple', label='Median', linewidth=2)\n",
    "plt.title('Flight Delays')\n",
    "plt.xlabel('Delay (minutes)')\n",
    "plt.ylim(-0.005, 0.065)\n",
    "plt.legend();"
   ]
  },
  {
   "cell_type": "markdown",
   "metadata": {
    "slideshow": {
     "slide_type": "slide"
    }
   },
   "source": [
    "### Comparing the mean and median"
   ]
  },
  {
   "cell_type": "markdown",
   "metadata": {
    "slideshow": {
     "slide_type": "fragment"
    }
   },
   "source": [
    "- **Mean**: Balance point of the histogram.\n",
    "    - Numerically: the sum of the differences between all data points and the mean is 0.\n",
    "    - Physically: Think of a see-saw."
   ]
  },
  {
   "cell_type": "markdown",
   "metadata": {
    "slideshow": {
     "slide_type": "fragment"
    }
   },
   "source": [
    "- **Median**: Half-way point of the data.\n",
    "    - Half of the area of a histogram is to the left of the median, and half is to the right.\n"
   ]
  },
  {
   "cell_type": "markdown",
   "metadata": {
    "slideshow": {
     "slide_type": "fragment"
    }
   },
   "source": [
    "- If the distribution is symmetric around a value, then that value is both the mean and the median."
   ]
  },
  {
   "cell_type": "markdown",
   "metadata": {
    "slideshow": {
     "slide_type": "fragment"
    }
   },
   "source": [
    "- If the distribution is **skewed**, then the mean is pulled away from the median in the direction of the tail."
   ]
  },
  {
   "cell_type": "markdown",
   "metadata": {
    "slideshow": {
     "slide_type": "fragment"
    }
   },
   "source": [
    "- **Key property**: The median is more **robust** (less **sensitive**) to **outliers**."
   ]
  },
  {
   "cell_type": "markdown",
   "metadata": {
    "slideshow": {
     "slide_type": "slide"
    }
   },
   "source": [
    "## Standard deviation"
   ]
  },
  {
   "cell_type": "markdown",
   "metadata": {
    "slideshow": {
     "slide_type": "slide"
    }
   },
   "source": [
    "### Question: How \"wide\" is a distribution? "
   ]
  },
  {
   "cell_type": "markdown",
   "metadata": {
    "slideshow": {
     "slide_type": "fragment"
    }
   },
   "source": [
    "- **One idea**: “biggest value - smallest value” (known as the **range**).\n",
    "    - Issue: this doesn’t tell us much about the shape of the distribution."
   ]
  },
  {
   "cell_type": "markdown",
   "metadata": {
    "slideshow": {
     "slide_type": "fragment"
    }
   },
   "source": [
    "- **Another idea**: \"standard deviation\".\n",
    "    - The mean is at the center. \n",
    "    - The standard deviation quantifies how far the data points typically are from the center."
   ]
  },
  {
   "cell_type": "markdown",
   "metadata": {
    "slideshow": {
     "slide_type": "slide"
    }
   },
   "source": [
    "### Deviations from the mean"
   ]
  },
  {
   "cell_type": "code",
   "execution_count": null,
   "metadata": {},
   "outputs": [],
   "source": [
    "data = np.array([2, 3, 3, 9])\n",
    "np.mean(data)"
   ]
  },
  {
   "cell_type": "code",
   "execution_count": null,
   "metadata": {
    "slideshow": {
     "slide_type": "-"
    }
   },
   "outputs": [],
   "source": [
    "deviations = data - np.mean(data)\n",
    "deviations"
   ]
  },
  {
   "cell_type": "markdown",
   "metadata": {
    "slideshow": {
     "slide_type": "fragment"
    }
   },
   "source": [
    "Each entry in `deviations` describes how far the corresponding element in `data` is from 4.25.\n",
    "\n",
    "What is the average deviation?"
   ]
  },
  {
   "cell_type": "code",
   "execution_count": null,
   "metadata": {},
   "outputs": [],
   "source": [
    "np.mean(deviations)"
   ]
  },
  {
   "cell_type": "markdown",
   "metadata": {
    "slideshow": {
     "slide_type": "fragment"
    }
   },
   "source": [
    "- This is true of any dataset – the average deviation from the mean is always 0.\n",
    "- This implies that the average deviation itself is not useful in measuring the spread of data."
   ]
  },
  {
   "cell_type": "markdown",
   "metadata": {
    "slideshow": {
     "slide_type": "slide"
    }
   },
   "source": [
    "### Average **squared** deviation"
   ]
  },
  {
   "cell_type": "code",
   "execution_count": null,
   "metadata": {
    "scrolled": true,
    "slideshow": {
     "slide_type": "-"
    }
   },
   "outputs": [],
   "source": [
    "# Square all the deviations:\n",
    "deviations ** 2"
   ]
  },
  {
   "cell_type": "code",
   "execution_count": null,
   "metadata": {},
   "outputs": [],
   "source": [
    "variance = np.mean(deviations ** 2)\n",
    "variance"
   ]
  },
  {
   "cell_type": "markdown",
   "metadata": {
    "slideshow": {
     "slide_type": "fragment"
    }
   },
   "source": [
    "This quantity, the average squared deviation from the mean, is called the **variance**."
   ]
  },
  {
   "cell_type": "markdown",
   "metadata": {
    "slideshow": {
     "slide_type": "slide"
    }
   },
   "source": [
    "### Standard deviation\n",
    "\n",
    "- Our data usually has units, e.g. dollars.\n",
    "- The variance is in \"squared\" units, e.g. $\\text{dollars}^2$.\n",
    "- To account for this, we can take the square root of the variance, and the result is called the **standard deviation**."
   ]
  },
  {
   "cell_type": "code",
   "execution_count": null,
   "metadata": {
    "scrolled": true
   },
   "outputs": [],
   "source": [
    "# Standard deviation (SD) is the square root of the variance.\n",
    "sd = variance ** 0.5\n",
    "sd"
   ]
  },
  {
   "cell_type": "markdown",
   "metadata": {
    "slideshow": {
     "slide_type": "slide"
    }
   },
   "source": [
    "### Standard deviation"
   ]
  },
  {
   "cell_type": "markdown",
   "metadata": {
    "slideshow": {
     "slide_type": "fragment"
    }
   },
   "source": [
    "- The standard deviation (SD) measures something about how far the data values are from their average.\n",
    "    - It is not directly interpretable because of the squaring and square rooting.\n",
    "    - But generally, **larger SD = more spread out**."
   ]
  },
  {
   "cell_type": "markdown",
   "metadata": {
    "slideshow": {
     "slide_type": "fragment"
    }
   },
   "source": [
    "- The standard deviation has the same units as the original data."
   ]
  },
  {
   "cell_type": "markdown",
   "metadata": {
    "slideshow": {
     "slide_type": "fragment"
    }
   },
   "source": [
    "- `numpy` has a function, `np.std`, that calculates the standard deviation for us."
   ]
  },
  {
   "cell_type": "code",
   "execution_count": null,
   "metadata": {},
   "outputs": [],
   "source": [
    "# Note that this evaluates to the same number we found on the previous slide.\n",
    "np.std(data)"
   ]
  },
  {
   "cell_type": "markdown",
   "metadata": {
    "slideshow": {
     "slide_type": "slide"
    }
   },
   "source": [
    "### Variance and standard deviation\n",
    "\n",
    "To summarize:\n",
    "\n",
    "$$\\begin{align*}\\text{variance} &= \\text{average squared deviation from the mean}\\\\\n",
    "&= \\frac{(\\text{value}_1 - \\text{mean})^2 + ... + (\\text{value}_n - \\text{mean})^2}{n}\\\\\n",
    "\\text{standard deviation} &= \\sqrt{\\text{variance}}\n",
    "\\end{align*}$$\n",
    "\n",
    "where $n$ is the number of observations."
   ]
  },
  {
   "cell_type": "markdown",
   "metadata": {
    "slideshow": {
     "slide_type": "slide"
    }
   },
   "source": [
    "### What can we do with the standard deviation?\n",
    "\n",
    "It turns out, in **any** numerical distribution, the bulk of the data are in the range “mean ± a few SDs”."
   ]
  },
  {
   "cell_type": "markdown",
   "metadata": {
    "slideshow": {
     "slide_type": "fragment"
    }
   },
   "source": [
    "Let's make this more precise."
   ]
  },
  {
   "cell_type": "markdown",
   "metadata": {
    "slideshow": {
     "slide_type": "slide"
    }
   },
   "source": [
    "### Chebyshev’s inequality\n",
    "\n",
    "**Fact**: In **any** numerical distribution, the proportion of values in the range “mean ± $z$ SDs” is at least \n",
    "\n",
    "$$1 - \\frac{1}{z^2}\n",
    "$$"
   ]
  },
  {
   "cell_type": "markdown",
   "metadata": {
    "slideshow": {
     "slide_type": "fragment"
    }
   },
   "source": [
    "|Range|Proportion|\n",
    "|---|---|\n",
    "|mean ± 2 SDs|\tat least $1 - \\frac{1}{4}$   (75%)|\n",
    "|mean ± 3 SDs|\tat least $1 - \\frac{1}{9}$   (88.88..%)|\n",
    "|mean ± 4 SDs|\tat least $1 - \\frac{1}{16}$ (93.75%)|\n",
    "|mean ± 5 SDs|\tat least $1 - \\frac{1}{25}$  (96%)|\n"
   ]
  },
  {
   "cell_type": "markdown",
   "metadata": {
    "slideshow": {
     "slide_type": "slide"
    }
   },
   "source": [
    "### Flight delays, revisited"
   ]
  },
  {
   "cell_type": "code",
   "execution_count": null,
   "metadata": {
    "scrolled": false
   },
   "outputs": [],
   "source": [
    "delays.plot(kind='hist', y='Delay', bins=np.arange(-20.5, 210, 5), density=True, ec='w', figsize=(10, 5), title='Flight Delays')\n",
    "plt.xlabel('Delay (minutes)');"
   ]
  },
  {
   "cell_type": "code",
   "execution_count": null,
   "metadata": {},
   "outputs": [],
   "source": [
    "delay_mean = delays.get('Delay').mean()\n",
    "delay_mean"
   ]
  },
  {
   "cell_type": "code",
   "execution_count": null,
   "metadata": {},
   "outputs": [],
   "source": [
    "delay_std = np.std(delays.get('Delay')) # There is no .std() method in babypandas!\n",
    "delay_std"
   ]
  },
  {
   "cell_type": "markdown",
   "metadata": {
    "slideshow": {
     "slide_type": "slide"
    }
   },
   "source": [
    "### Mean and standard deviation\n",
    "\n",
    "Chebyshev's inequality tells us that"
   ]
  },
  {
   "cell_type": "markdown",
   "metadata": {
    "slideshow": {
     "slide_type": "fragment"
    }
   },
   "source": [
    "- **At least** 75% of delays are in the following interval:"
   ]
  },
  {
   "cell_type": "code",
   "execution_count": null,
   "metadata": {},
   "outputs": [],
   "source": [
    "delay_mean - 2 * delay_std, delay_mean + 2 * delay_std"
   ]
  },
  {
   "cell_type": "markdown",
   "metadata": {
    "slideshow": {
     "slide_type": "fragment"
    }
   },
   "source": [
    "- **At least** 88.88% of delays are in the following interval:"
   ]
  },
  {
   "cell_type": "code",
   "execution_count": null,
   "metadata": {},
   "outputs": [],
   "source": [
    "delay_mean - 3 * delay_std, delay_mean + 3 * delay_std"
   ]
  },
  {
   "cell_type": "markdown",
   "metadata": {
    "slideshow": {
     "slide_type": "fragment"
    }
   },
   "source": [
    "Let's visualize these intervals!"
   ]
  },
  {
   "cell_type": "code",
   "execution_count": null,
   "metadata": {
    "slideshow": {
     "slide_type": "-"
    }
   },
   "outputs": [],
   "source": [
    "delays.plot(kind='hist', y='Delay', bins=np.arange(-20.5, 210, 5), density=True, alpha=0.65, ec='w', figsize=(10, 5), title='Flight Delays')\n",
    "plt.axvline(delay_mean - 2 * delay_std, color='maroon', label='± 2 SD')\n",
    "plt.axvline(delay_mean + 2 * delay_std, color='maroon')\n",
    "\n",
    "plt.axvline(delay_mean + 3 * delay_std, color='blue',  label='± 3 SD')\n",
    "plt.axvline(delay_mean - 3 * delay_std, color='blue')\n",
    "\n",
    "plt.axvline(delay_mean, color='green', label='Mean')\n",
    "plt.scatter([delay_mean], [-0.0017], color='green', marker='^', s=250)\n",
    "plt.ylim(-0.0038, 0.06)\n",
    "plt.legend();"
   ]
  },
  {
   "cell_type": "markdown",
   "metadata": {
    "slideshow": {
     "slide_type": "slide"
    }
   },
   "source": [
    "### Chebyshev's inequality provides _lower_ bounds!\n",
    "\n",
    "Remember, Chebyshev's inequality states that **at least** $1 - \\frac{1}{z^2}$ of values are within $z$ SDs from the mean, for any numerical distribution.\n",
    "\n",
    "For instance, it tells us that **at least** 75% of delays are in the following interval:"
   ]
  },
  {
   "cell_type": "code",
   "execution_count": null,
   "metadata": {},
   "outputs": [],
   "source": [
    "delay_mean - 2 * delay_std, delay_mean + 2 * delay_std"
   ]
  },
  {
   "cell_type": "markdown",
   "metadata": {
    "slideshow": {
     "slide_type": "fragment"
    }
   },
   "source": [
    "However, in this case, a much larger fraction of delays are in that interval."
   ]
  },
  {
   "cell_type": "code",
   "execution_count": null,
   "metadata": {},
   "outputs": [],
   "source": [
    "within_2_sds = delays[(delays.get('Delay') >= delay_mean - 2 * delay_std) & \n",
    "                      (delays.get('Delay') <= delay_mean + 2 * delay_std)]\n",
    "\n",
    "within_2_sds.shape[0] / delays.shape[0]"
   ]
  },
  {
   "cell_type": "markdown",
   "metadata": {
    "slideshow": {
     "slide_type": "fragment"
    }
   },
   "source": [
    "If we know more about the shape of the distribution, we can provide better guarantees for the proportion of values within $z$ SDs of the mean."
   ]
  },
  {
   "cell_type": "markdown",
   "metadata": {
    "slideshow": {
     "slide_type": "slide"
    }
   },
   "source": [
    "### Activity\n",
    "\n",
    "For a particular set of data points, Chebyshev's inequality states that at least $\\frac{8}{9}$ of the data points are between $-20$ and $40$. What is the standard deviation of the data?"
   ]
  },
  {
   "cell_type": "markdown",
   "metadata": {
    "slideshow": {
     "slide_type": ""
    }
   },
   "source": [
    "\n",
    "<details><summary>✅ Click here to see the answer <b>after</b> you've tried it yourself.</summary>\n",
    "\n",
    "- Chebyshev's inequality states that at least $1 - \\frac{1}{z^2}$ of values are within $z$ standard deviations of the mean.\n",
    "- When $z = 3$, $1 - \\frac{1}{z^2} = \\frac{8}{9}$.\n",
    "- So, $-20$ is $3$ standard deviations below the mean, and $40$ is $3$ standard deviations above the mean.\n",
    "- $10$ is in the middle of $-20$ and $40$, so the mean is $10$.\n",
    "- $3$ standard deviations are between $10$ and $40$, so $1$ standard deviation is $\\frac{30}{3} = 10$.\n",
    "</details>"
   ]
  },
  {
   "cell_type": "markdown",
   "metadata": {
    "slideshow": {
     "slide_type": "slide"
    }
   },
   "source": [
    "## Standardization"
   ]
  },
  {
   "cell_type": "markdown",
   "metadata": {
    "slideshow": {
     "slide_type": "slide"
    }
   },
   "source": [
    "### Heights and weights 📏\n",
    "\n",
    "We'll work with a data set containing the heights and weights of 5000 adult males."
   ]
  },
  {
   "cell_type": "code",
   "execution_count": null,
   "metadata": {
    "slideshow": {
     "slide_type": "-"
    }
   },
   "outputs": [],
   "source": [
    "height_and_weight = bpd.read_csv('data/height_and_weight.csv')\n",
    "height_and_weight"
   ]
  },
  {
   "cell_type": "markdown",
   "metadata": {
    "slideshow": {
     "slide_type": "slide"
    }
   },
   "source": [
    "### Distributions of height and weight\n",
    "\n",
    "Let's look at the distributions of both numerical variables."
   ]
  },
  {
   "cell_type": "code",
   "execution_count": null,
   "metadata": {},
   "outputs": [],
   "source": [
    "height_and_weight.plot(kind='hist', y='Height', density=True, ec='w', bins=30, alpha=0.8, figsize=(10, 5));"
   ]
  },
  {
   "cell_type": "code",
   "execution_count": null,
   "metadata": {},
   "outputs": [],
   "source": [
    "height_and_weight.plot(kind='hist', y='Weight', density=True, ec='w', bins=30, alpha=0.8, color='C1', figsize=(10, 5));"
   ]
  },
  {
   "cell_type": "code",
   "execution_count": null,
   "metadata": {},
   "outputs": [],
   "source": [
    "height_and_weight.plot(kind='hist', density=True, ec='w', bins=60, alpha=0.8, figsize=(10, 5));"
   ]
  },
  {
   "cell_type": "markdown",
   "metadata": {
    "slideshow": {
     "slide_type": "fragment"
    }
   },
   "source": [
    "**Observation**: The two distributions look like shifted and stretched versions of the same basic shape, called a bell curve 🔔."
   ]
  },
  {
   "cell_type": "markdown",
   "metadata": {
    "slideshow": {
     "slide_type": "slide"
    }
   },
   "source": [
    "### Standard units\n",
    "\n",
    "Suppose $x$ is a numerical variable, and $x_i$ is one value of that variable. The function $$z(x_i) = \\frac{x_i - \\text{mean of $x$}}{\\text{SD of $x$}}$$\n",
    "\n",
    "converts $x_i$ to **standard units**, which represents the number of standard deviations $x_i$ is above the mean."
   ]
  },
  {
   "cell_type": "markdown",
   "metadata": {
    "slideshow": {
     "slide_type": "fragment"
    }
   },
   "source": [
    "**Example**: Suppose someone weighs 225 pounds. What is their weight in standard units?"
   ]
  },
  {
   "cell_type": "code",
   "execution_count": null,
   "metadata": {},
   "outputs": [],
   "source": [
    "weights = height_and_weight.get('Weight')\n",
    "(225 - weights.mean()) / np.std(weights)"
   ]
  },
  {
   "cell_type": "markdown",
   "metadata": {
    "slideshow": {
     "slide_type": "fragment"
    }
   },
   "source": [
    "- Interpretation: 225 is 1.92 standard deviations above the mean weight.\n",
    "- 225 becomes 1.92 in **standard units**."
   ]
  },
  {
   "cell_type": "markdown",
   "metadata": {
    "slideshow": {
     "slide_type": "slide"
    }
   },
   "source": [
    "### Standardization\n",
    "\n",
    "The process of converting all values of a variable (i.e. a column) to standard units is known as standardization, and the resulting values are considered to be **standardized**."
   ]
  },
  {
   "cell_type": "code",
   "execution_count": null,
   "metadata": {},
   "outputs": [],
   "source": [
    "def standard_units(col):\n",
    "    return (col - col.mean()) / np.std(col)"
   ]
  },
  {
   "cell_type": "code",
   "execution_count": null,
   "metadata": {},
   "outputs": [],
   "source": [
    "standardized_height = standard_units(height_and_weight.get('Height'))\n",
    "standardized_height"
   ]
  },
  {
   "cell_type": "code",
   "execution_count": null,
   "metadata": {},
   "outputs": [],
   "source": [
    "standardized_weight = standard_units(height_and_weight.get('Weight'))\n",
    "standardized_weight"
   ]
  },
  {
   "cell_type": "markdown",
   "metadata": {
    "slideshow": {
     "slide_type": "slide"
    }
   },
   "source": [
    "### The effect of standardization\n",
    "\n",
    "Standardized variables have:\n",
    "- A mean of 0.\n",
    "- An SD of 1.\n",
    "\n",
    "We often standardize variables to bring them to the same scale.\n",
    "\n",
    "_Aside: To quickly see summary statistics for a numerical Series, use the `.describe()` Series method._"
   ]
  },
  {
   "cell_type": "code",
   "execution_count": null,
   "metadata": {},
   "outputs": [],
   "source": [
    "# e-14 means 10^(-14), which is a very small number, effectively zero.\n",
    "standardized_height.describe()"
   ]
  },
  {
   "cell_type": "code",
   "execution_count": null,
   "metadata": {},
   "outputs": [],
   "source": [
    "standardized_weight.describe()"
   ]
  },
  {
   "cell_type": "markdown",
   "metadata": {
    "slideshow": {
     "slide_type": "slide"
    }
   },
   "source": [
    "Let's look at how the process of standardization works visually."
   ]
  },
  {
   "cell_type": "code",
   "execution_count": null,
   "metadata": {},
   "outputs": [],
   "source": [
    "HTML('data/height_anim.html')"
   ]
  },
  {
   "cell_type": "code",
   "execution_count": null,
   "metadata": {},
   "outputs": [],
   "source": [
    "HTML('data/weight_anim.html')"
   ]
  },
  {
   "cell_type": "markdown",
   "metadata": {
    "slideshow": {
     "slide_type": "slide"
    }
   },
   "source": [
    "### Standardized histograms\n",
    "\n",
    "Now that we've standardized the distributions of height and weight, let's see how they look on the same set of axes."
   ]
  },
  {
   "cell_type": "code",
   "execution_count": null,
   "metadata": {},
   "outputs": [],
   "source": [
    "standardized_height_and_weight = bpd.DataFrame().assign(\n",
    "    Height=standardized_height,\n",
    "    Weight=standardized_weight\n",
    ")"
   ]
  },
  {
   "cell_type": "code",
   "execution_count": null,
   "metadata": {},
   "outputs": [],
   "source": [
    "standardized_height_and_weight.plot(kind='hist', density=True, ec='w',bins=30, alpha=0.8, figsize=(10, 5));"
   ]
  },
  {
   "cell_type": "markdown",
   "metadata": {},
   "source": [
    "These both look pretty similar!"
   ]
  },
  {
   "cell_type": "markdown",
   "metadata": {
    "slideshow": {
     "slide_type": "slide"
    }
   },
   "source": [
    "## The standard normal distribution"
   ]
  },
  {
   "cell_type": "markdown",
   "metadata": {
    "slideshow": {
     "slide_type": "slide"
    }
   },
   "source": [
    "### The standard normal distribution\n",
    "\n",
    "- The distributions we've seen look essentially the same once standardized.\n",
    "- This distribution is called the **standard normal distribution**. The shape is called the **standard normal curve**.\n",
    "\n",
    "$$\n",
    "\\phi(z) = \\frac{1}{\\sqrt{2 \\pi}} e^{-\\frac{1}{2}z^2}\n",
    "$$\n",
    "\n",
    "\n",
    "- You don't need to know the formula – just the shape!\n",
    "    - We'll just use the formula today to make plots."
   ]
  },
  {
   "cell_type": "markdown",
   "metadata": {
    "slideshow": {
     "slide_type": "slide"
    }
   },
   "source": [
    "### The standard normal curve"
   ]
  },
  {
   "cell_type": "code",
   "execution_count": null,
   "metadata": {},
   "outputs": [],
   "source": [
    "def normal_curve(z):\n",
    "    return 1 / np.sqrt(2 * np.pi) * np.exp((-z**2)/2)"
   ]
  },
  {
   "cell_type": "code",
   "execution_count": null,
   "metadata": {},
   "outputs": [],
   "source": [
    "x = np.linspace(-4, 4, 1000)\n",
    "y = normal_curve(x)\n",
    "\n",
    "plt.figure(figsize=(10, 5))\n",
    "plt.plot(x, y, color='black');\n",
    "plt.xlabel('$z$');\n",
    "plt.title(r'$\\phi(z) = \\frac{1}{\\sqrt{2 \\pi}} e^{-\\frac{1}{2}z^2}$');"
   ]
  },
  {
   "cell_type": "markdown",
   "metadata": {
    "slideshow": {
     "slide_type": "slide"
    }
   },
   "source": [
    "### Heights/weights are roughly normal\n",
    "\n",
    "If a distribution follows this shape, we say it is roughly normal."
   ]
  },
  {
   "cell_type": "code",
   "execution_count": null,
   "metadata": {},
   "outputs": [],
   "source": [
    "standardized_height_and_weight.plot(kind='hist', density=True, ec='w', bins=120, alpha=0.8, figsize=(10, 5));\n",
    "plt.plot(x, y, color='black', linestyle='--', label='Normal', linewidth=5)\n",
    "plt.legend(loc='upper right');"
   ]
  },
  {
   "cell_type": "markdown",
   "metadata": {
    "slideshow": {
     "slide_type": "slide"
    }
   },
   "source": [
    "### The standard normal distribution"
   ]
  },
  {
   "cell_type": "markdown",
   "metadata": {
    "slideshow": {
     "slide_type": "fragment"
    }
   },
   "source": [
    "- Think of the normal distribution as a \"continuous histogram\"."
   ]
  },
  {
   "cell_type": "markdown",
   "metadata": {
    "slideshow": {
     "slide_type": "fragment"
    }
   },
   "source": [
    "- Its mean and median are both 0 – it is symmetric."
   ]
  },
  {
   "cell_type": "markdown",
   "metadata": {
    "slideshow": {
     "slide_type": "fragment"
    }
   },
   "source": [
    "- It has inflection points at $\\pm 1$.\n",
    "    - More on this later."
   ]
  },
  {
   "cell_type": "markdown",
   "metadata": {
    "slideshow": {
     "slide_type": "fragment"
    }
   },
   "source": [
    "- Like a histogram:\n",
    "    - The **area** between $a$ and $b$ is the **proportion** of values between $a$ and $b$.\n",
    "    - The total area underneath the normal curve is is 1."
   ]
  },
  {
   "cell_type": "code",
   "execution_count": null,
   "metadata": {
    "slideshow": {
     "slide_type": "slide"
    }
   },
   "outputs": [],
   "source": [
    "def normal_area(a, b, bars=False):\n",
    "    x = np.linspace(-4, 4, 1000)\n",
    "    y = normal_curve(x)\n",
    "    ix = (x >= a) & (x <= b)\n",
    "    plt.figure(figsize=(10, 5))\n",
    "    plt.plot(x, y, color='black')\n",
    "    plt.fill_between(x[ix], y[ix], color='gold')\n",
    "    if bars:\n",
    "        plt.axvline(a, color='red')\n",
    "        plt.axvline(b, color='red')\n",
    "    plt.title(f'Area between {np.round(a, 2)} and {np.round(b, 2)}')\n",
    "    plt.show()"
   ]
  },
  {
   "cell_type": "code",
   "execution_count": null,
   "metadata": {
    "scrolled": false,
    "slideshow": {
     "slide_type": "-"
    }
   },
   "outputs": [],
   "source": [
    "a = widgets.FloatSlider(value=0, min=-4,max=3,step=0.25, description='a')\n",
    "b = widgets.FloatSlider(value=1, min=-4,max=4,step=0.25, description='b')\n",
    "bars = widgets.Checkbox(value=False, description='bars')\n",
    "ui = widgets.HBox([a, b, bars])\n",
    "out = widgets.interactive_output(normal_area, {'a': a, 'b': b, 'bars': bars})\n",
    "display(ui, out)"
   ]
  },
  {
   "cell_type": "markdown",
   "metadata": {
    "slideshow": {
     "slide_type": "slide"
    }
   },
   "source": [
    "### Cumulative density functions"
   ]
  },
  {
   "cell_type": "markdown",
   "metadata": {
    "slideshow": {
     "slide_type": "fragment"
    }
   },
   "source": [
    "- The _cumulative density function_ (CDF) of a distribution is a function that takes in a value $z$ and returns the proportion of values in the distribution that are less than or equal to $z$, i.e. **the area under the curve to the left of $z$**."
   ]
  },
  {
   "cell_type": "code",
   "execution_count": null,
   "metadata": {},
   "outputs": [],
   "source": [
    "# cdf(0) should give us the gold area below.\n",
    "normal_area(-np.inf, 0)"
   ]
  },
  {
   "cell_type": "markdown",
   "metadata": {
    "slideshow": {
     "slide_type": "fragment"
    }
   },
   "source": [
    "- To find areas under curves, we typically use integration (calculus). However, the standard normal curve has no closed-form integral."
   ]
  },
  {
   "cell_type": "markdown",
   "metadata": {
    "slideshow": {
     "slide_type": "fragment"
    }
   },
   "source": [
    "- Often, people refer to [tables](https://cnx.org/resources/b274d975cd31dbe51c81c6e037c7aebfe751ac19/UNneg-z.png) that contain approximations of the CDF of the standard normal distribution."
   ]
  },
  {
   "cell_type": "markdown",
   "metadata": {
    "slideshow": {
     "slide_type": "fragment"
    }
   },
   "source": [
    "- We'll use an approximation built into the `scipy` module in Python. The function `scipy.stats.norm.cdf(z)` computes the **area under the standard normal curve to the left of `z`**."
   ]
  },
  {
   "cell_type": "markdown",
   "metadata": {
    "slideshow": {
     "slide_type": "slide"
    }
   },
   "source": [
    "### Areas under the standard normal curve\n",
    "\n",
    "What does `scipy.stats.norm.cdf(0)` evaluate to? Why?"
   ]
  },
  {
   "cell_type": "code",
   "execution_count": null,
   "metadata": {},
   "outputs": [],
   "source": [
    "normal_area(-np.inf, 0)"
   ]
  },
  {
   "cell_type": "code",
   "execution_count": null,
   "metadata": {
    "slideshow": {
     "slide_type": "-"
    }
   },
   "outputs": [],
   "source": [
    "from scipy import stats\n",
    "stats.norm.cdf(0)"
   ]
  },
  {
   "cell_type": "markdown",
   "metadata": {
    "slideshow": {
     "slide_type": "slide"
    }
   },
   "source": [
    "### Areas under the standard normal curve\n",
    "\n",
    "Suppose we want to find the area to the **right** of 2 under the standard normal curve."
   ]
  },
  {
   "cell_type": "code",
   "execution_count": null,
   "metadata": {
    "slideshow": {
     "slide_type": "-"
    }
   },
   "outputs": [],
   "source": [
    "normal_area(2, np.inf)"
   ]
  },
  {
   "cell_type": "markdown",
   "metadata": {},
   "source": [
    "The following expression gives us the area to the **left** of 2."
   ]
  },
  {
   "cell_type": "code",
   "execution_count": null,
   "metadata": {},
   "outputs": [],
   "source": [
    "stats.norm.cdf(2)"
   ]
  },
  {
   "cell_type": "code",
   "execution_count": null,
   "metadata": {},
   "outputs": [],
   "source": [
    "normal_area(-np.inf, 2)"
   ]
  },
  {
   "cell_type": "markdown",
   "metadata": {
    "slideshow": {
     "slide_type": "fragment"
    }
   },
   "source": [
    "However, since the total area under the standard normal curve is 1:\n",
    "\n",
    "$$\\text{area right of $2$} = 1 - (\\text{area left of $2$})$$"
   ]
  },
  {
   "cell_type": "code",
   "execution_count": null,
   "metadata": {},
   "outputs": [],
   "source": [
    "1 - stats.norm.cdf(2)"
   ]
  },
  {
   "cell_type": "markdown",
   "metadata": {
    "slideshow": {
     "slide_type": "slide"
    }
   },
   "source": [
    "### Areas under the standard normal curve\n",
    "\n",
    "How might we use `stats.norm.cdf` to compute the area between -1 and 0?"
   ]
  },
  {
   "cell_type": "code",
   "execution_count": null,
   "metadata": {
    "slideshow": {
     "slide_type": "-"
    }
   },
   "outputs": [],
   "source": [
    "normal_area(-1, 0)"
   ]
  },
  {
   "cell_type": "markdown",
   "metadata": {
    "slideshow": {
     "slide_type": "fragment"
    }
   },
   "source": [
    "Strategy:\n",
    "\n",
    "$$\\text{area from $-1$ to $0$} = (\\text{area left of $0$}) - (\\text{area left of $-1$})$$"
   ]
  },
  {
   "cell_type": "code",
   "execution_count": null,
   "metadata": {},
   "outputs": [],
   "source": [
    "stats.norm.cdf(0) - stats.norm.cdf(-1)"
   ]
  },
  {
   "cell_type": "markdown",
   "metadata": {
    "slideshow": {
     "slide_type": "slide"
    }
   },
   "source": [
    "### General strategy for finding area\n",
    "\n",
    "The area under a standard normal curve in the interval $[a, b]$ is \n",
    "\n",
    "```py\n",
    "stats.norm.cdf(b) - stats.norm.cdf(a)\n",
    "```"
   ]
  },
  {
   "cell_type": "markdown",
   "metadata": {
    "slideshow": {
     "slide_type": "fragment"
    }
   },
   "source": [
    "What can we do with this? We're about to see!"
   ]
  },
  {
   "cell_type": "markdown",
   "metadata": {
    "slideshow": {
     "slide_type": "slide"
    }
   },
   "source": [
    "## Using the normal distribution"
   ]
  },
  {
   "cell_type": "markdown",
   "metadata": {
    "slideshow": {
     "slide_type": "slide"
    }
   },
   "source": [
    "Let's return to our data set of heights and weights."
   ]
  },
  {
   "cell_type": "code",
   "execution_count": null,
   "metadata": {},
   "outputs": [],
   "source": [
    "height_and_weight"
   ]
  },
  {
   "cell_type": "markdown",
   "metadata": {
    "slideshow": {
     "slide_type": "-"
    }
   },
   "source": [
    "As we saw before, both variables are roughly normal. What _benefit_ is there to knowing that the two distributions are roughly normal?"
   ]
  },
  {
   "cell_type": "markdown",
   "metadata": {
    "slideshow": {
     "slide_type": "slide"
    }
   },
   "source": [
    "### Standard units and the normal distribution"
   ]
  },
  {
   "cell_type": "markdown",
   "metadata": {
    "slideshow": {
     "slide_type": "fragment"
    }
   },
   "source": [
    "- **Key idea: The $x$-axis in a plot of the <u>standard</u> normal distribution is in <u>standard</u> units.**\n",
    "    - For instance, the area between -1 and 1 is the proportion of values within 1 standard deviation of the mean."
   ]
  },
  {
   "cell_type": "markdown",
   "metadata": {
    "slideshow": {
     "slide_type": "fragment"
    }
   },
   "source": [
    "- Suppose a distribution is (roughly) normal. Then, these are two are approximately equal:\n",
    "    - The proportion of values in the distribution between $a$ and $b$.\n",
    "    - The area between $z(a)$ and $z(b)$ under the standard normal curve. (Recall, $z(x_i) = \\frac{x_i - \\text{mean of $x$}}{\\text{SD of $x$}}$.)"
   ]
  },
  {
   "cell_type": "markdown",
   "metadata": {
    "slideshow": {
     "slide_type": "slide"
    }
   },
   "source": [
    "### Example: Proportion of weights between 200 and 225 pounds\n",
    "\n",
    "Let's suppose, as is often the case, that we don't have access to the entire distribution of weights, but just the mean and SD."
   ]
  },
  {
   "cell_type": "code",
   "execution_count": null,
   "metadata": {},
   "outputs": [],
   "source": [
    "weight_mean = weights.mean()\n",
    "weight_mean"
   ]
  },
  {
   "cell_type": "code",
   "execution_count": null,
   "metadata": {},
   "outputs": [],
   "source": [
    "weight_std = np.std(weights)\n",
    "weight_std"
   ]
  },
  {
   "cell_type": "markdown",
   "metadata": {},
   "source": [
    "Using just this information, we can estimate the proportion of weights between 200 and 225 pounds:\n",
    "\n",
    "1. Convert 200 to standard units.\n",
    "2. Convert 225 to standard units.\n",
    "3. Use `stats.norm.cdf` to find the area between (1) and (2)."
   ]
  },
  {
   "cell_type": "code",
   "execution_count": null,
   "metadata": {},
   "outputs": [],
   "source": [
    "left = (200 - weight_mean) / weight_std\n",
    "left"
   ]
  },
  {
   "cell_type": "code",
   "execution_count": null,
   "metadata": {},
   "outputs": [],
   "source": [
    "right = (225 - weight_mean) / weight_std\n",
    "right"
   ]
  },
  {
   "cell_type": "code",
   "execution_count": null,
   "metadata": {},
   "outputs": [],
   "source": [
    "normal_area(left, right)"
   ]
  },
  {
   "cell_type": "code",
   "execution_count": null,
   "metadata": {},
   "outputs": [],
   "source": [
    "approximation = stats.norm.cdf(right) - stats.norm.cdf(left)\n",
    "approximation"
   ]
  },
  {
   "cell_type": "markdown",
   "metadata": {
    "slideshow": {
     "slide_type": "slide"
    }
   },
   "source": [
    "### Checking the approximation\n",
    "\n",
    "Since we have access to the entire set of weights, we can compute the true proportion of weights between 200 and 225 pounds."
   ]
  },
  {
   "cell_type": "code",
   "execution_count": null,
   "metadata": {},
   "outputs": [],
   "source": [
    "# True proportion of values between 200 and 225.\n",
    "height_and_weight[\n",
    "    (height_and_weight.get('Weight') >= 200) &\n",
    "    (height_and_weight.get('Weight') <= 225)\n",
    "].shape[0] / height_and_weight.shape[0]"
   ]
  },
  {
   "cell_type": "code",
   "execution_count": null,
   "metadata": {},
   "outputs": [],
   "source": [
    "# Approximation using the standard normal curve.\n",
    "approximation"
   ]
  },
  {
   "cell_type": "markdown",
   "metadata": {},
   "source": [
    "Pretty good for an approximation! 🤩"
   ]
  },
  {
   "cell_type": "markdown",
   "metadata": {
    "slideshow": {
     "slide_type": "slide"
    }
   },
   "source": [
    "### Warning: Standardization doesn't make a distribution normal!\n",
    "\n",
    "Consider the distribution of delays from earlier in the lecture."
   ]
  },
  {
   "cell_type": "code",
   "execution_count": null,
   "metadata": {},
   "outputs": [],
   "source": [
    "delays.plot(kind='hist', y='Delay', bins=np.arange(-20.5, 210, 5), density=True, ec='w', figsize=(10, 5), title='Flight Delays')\n",
    "plt.xlabel('Delay (minutes)');"
   ]
  },
  {
   "cell_type": "markdown",
   "metadata": {},
   "source": [
    "The distribution above does not look normal. It won't look normal even if we standardize it. By standardizing a distribution, all we do is move it horizontally and stretch it vertically – the shape itself doesn't change."
   ]
  },
  {
   "cell_type": "code",
   "execution_count": null,
   "metadata": {},
   "outputs": [],
   "source": [
    "HTML('data/delay_anim.html')"
   ]
  },
  {
   "cell_type": "markdown",
   "metadata": {
    "slideshow": {
     "slide_type": "slide"
    }
   },
   "source": [
    "## Summary, next time"
   ]
  },
  {
   "cell_type": "markdown",
   "metadata": {
    "slideshow": {
     "slide_type": "slide"
    }
   },
   "source": [
    "### Summary: Spread and Chebyshev's inequality\n",
    "\n",
    "- Variance and standard deviation (SD) quantify how spread out data points are.\n",
    "    - Standard deviation is the square root of variance.\n",
    "    - Roughly speaking, the standard deviation describes how far values in a dataset typically are from the mean.\n",
    "- Chebyshev's inequality states that, in any numerical distribution, the proportion of values within $z$ SDs of the mean is at least $1 - \\frac{1}{z^2}$.\n",
    "    - The true proportion of values within $z$ SDs of the mean may be larger than $1 - \\frac{1}{z^2}$, depending on the distribution, but it cannot be smaller."
   ]
  },
  {
   "cell_type": "markdown",
   "metadata": {
    "slideshow": {
     "slide_type": "slide"
    }
   },
   "source": [
    "### Summary: Standard units and the normal distribution\n",
    "\n",
    "- To convert a value $x_i$ from a column $x$ to standard units, use the function $z(x_i) = \\frac{x_i - \\text{mean of $x$}}{\\text{SD of $x$}}$.\n",
    "    - A value in standard units measures the number of SDs the value is above the mean.\n",
    "- The normal distribution is bell-shaped, and arises often in nature.\n",
    "- The $x$-axis of the **standard** normal distribution is in **standard** units.\n",
    "- If we know a distribution is roughly normal, and we know its mean and SD, then we can use the standard normal distribution's curve to approximate the proportion of values within a given range without needing access to all of the data."
   ]
  },
  {
   "cell_type": "markdown",
   "metadata": {
    "slideshow": {
     "slide_type": "slide"
    }
   },
   "source": [
    "### Next time\n",
    "\n",
    "- More properties of the normal distribution, and how they relate to Chebyshev's inequality.\n",
    "- The Central Limit Theorem.\n",
    "- Confidence intervals, revisited."
   ]
  }
 ],
 "metadata": {
  "kernelspec": {
   "display_name": "Python 3 (ipykernel)",
   "language": "python",
   "name": "python3"
  },
  "language_info": {
   "codemirror_mode": {
    "name": "ipython",
    "version": 3
   },
   "file_extension": ".py",
   "mimetype": "text/x-python",
   "name": "python",
   "nbconvert_exporter": "python",
   "pygments_lexer": "ipython3",
   "version": "3.9.7"
  },
  "livereveal": {
   "scroll": true,
   "transition": "none"
  },
  "rise": {
   "enable_chalkboard": true
  }
 },
 "nbformat": 4,
 "nbformat_minor": 2
}
