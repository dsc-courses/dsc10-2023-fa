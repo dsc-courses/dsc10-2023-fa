{
 "cells": [
  {
   "cell_type": "code",
   "execution_count": null,
   "metadata": {
    "slideshow": {
     "slide_type": "skip"
    }
   },
   "outputs": [],
   "source": [
    "# Set up packages for lecture. Don't worry about understanding this code, but\n",
    "# make sure to run it if you're following along.\n",
    "import numpy as np\n",
    "import babypandas as bpd\n",
    "import pandas as pd\n",
    "\n",
    "import matplotlib.pyplot as plt\n",
    "from matplotlib_inline.backend_inline import set_matplotlib_formats\n",
    "set_matplotlib_formats(\"svg\")\n",
    "plt.style.use('ggplot')\n",
    "plt.rcParams['figure.figsize'] = (10, 5)\n",
    "\n",
    "np.set_printoptions(threshold=20, precision=2, suppress=True)\n",
    "pd.set_option(\"display.max_rows\", 7)\n",
    "pd.set_option(\"display.max_columns\", 8)\n",
    "pd.set_option(\"display.precision\", 2)\n",
    "\n",
    "from IPython.display import display, IFrame, YouTubeVideo\n",
    "\n",
    "def show_grouping_animation():\n",
    "    src = \"https://docs.google.com/presentation/d/e/2PACX-1vTgVlFngQcLMYHP-z1vq5lVXjsBgcHebc-3TX7SW6L_gjX6TD1gsflvVDQUpWiDdeEPqJASenUIfBVd/embed?start=false&loop=false&delayms=60000\"\n",
    "    width = 960\n",
    "    height = 509\n",
    "    display(IFrame(src, width, height))\n",
    "    \n",
    "import warnings\n",
    "warnings.simplefilter('ignore')"
   ]
  },
  {
   "cell_type": "markdown",
   "metadata": {
    "slideshow": {
     "slide_type": "slide"
    }
   },
   "source": [
    "# Lecture 6 – Data Visualization 📈\n",
    "## DSC 10, Spring 2023"
   ]
  },
  {
   "cell_type": "markdown",
   "metadata": {
    "slideshow": {
     "slide_type": "slide"
    }
   },
   "source": [
    "### Announcements\n",
    "\n",
    "- Lab 1 is due **tomorrow at 11:59PM**.\n",
    "- Homework 1 is due on **Tuesday at 11:59PM**.\n",
    "- Come to office hours for help! The schedule is [here](https://dsc10.com/calendar).\n",
    "- Make sure to try the \"challenge problems\" at the end of Wednesday's lecture and watch [this](https://www.youtube.com/watch?v=xg7rnjWnZ48) walkthrough video for the answers.\n",
    "\n",
    "#### Don't forget about these resources!\n",
    "\n",
    "- [DSC 10 Reference Sheet 📌](https://drive.google.com/file/d/1ky0Np67HS2O4LO913P-ing97SJG0j27n/view). \n",
    "- [`babypandas` notes](https://notes.dsc10.com).\n",
    "- [`babypandas` documentation](https://babypandas.readthedocs.io/en/latest/index.html).\n",
    "- [The Resources tab of the course website](https://dsc10.com/resources/)."
   ]
  },
  {
   "cell_type": "markdown",
   "metadata": {
    "slideshow": {
     "slide_type": "slide"
    }
   },
   "source": [
    "### Agenda\n",
    "\n",
    "- Recap: GroupBy.\n",
    "- Why visualize?\n",
    "- Terminology.\n",
    "- Scatter plots.\n",
    "- Line plots.\n",
    "- Bar charts."
   ]
  },
  {
   "cell_type": "markdown",
   "metadata": {
    "slideshow": {
     "slide_type": "slide"
    }
   },
   "source": [
    "### Aside: Keyboard shortcuts\n",
    "\n",
    "There are several keyboard shortcuts built into Jupyter Notebooks designed to help you save time. To see them, either click the keyboard button in the toolbar above or hit the H key on your keyboard (as long as you're not actively editing a cell).\n",
    "\n",
    "Particularly useful shortcuts:\n",
    "\n",
    "| Action | Keyboard shortcut |\n",
    "| --- | --- |\n",
    "| Run cell + jump to next cell | SHIFT + ENTER |\n",
    "| Save the notebook | CTRL/CMD + S |\n",
    "| Create new cell above/below | A/B |\n",
    "| Delete cell | DD |"
   ]
  },
  {
   "cell_type": "markdown",
   "metadata": {
    "slideshow": {
     "slide_type": "slide"
    }
   },
   "source": [
    "## Recap: GroupBy"
   ]
  },
  {
   "cell_type": "code",
   "execution_count": null,
   "metadata": {
    "slideshow": {
     "slide_type": "slide"
    }
   },
   "outputs": [],
   "source": [
    "show_grouping_animation()"
   ]
  },
  {
   "cell_type": "markdown",
   "metadata": {
    "slideshow": {
     "slide_type": "slide"
    }
   },
   "source": [
    "Run the cell below to load in the `requests` DataFrame from last class."
   ]
  },
  {
   "cell_type": "code",
   "execution_count": null,
   "metadata": {
    "slideshow": {
     "slide_type": "-"
    }
   },
   "outputs": [],
   "source": [
    "requests = bpd.read_csv('data/get-it-done-requests.csv')\n",
    "requests = requests.assign(total=requests.get('closed') + requests.get('open'))\n",
    "requests"
   ]
  },
  {
   "cell_type": "markdown",
   "metadata": {
    "slideshow": {
     "slide_type": "slide"
    }
   },
   "source": [
    "### Which neighborhood had the most requests?"
   ]
  },
  {
   "cell_type": "code",
   "execution_count": null,
   "metadata": {},
   "outputs": [],
   "source": [
    "requests"
   ]
  },
  {
   "cell_type": "code",
   "execution_count": null,
   "metadata": {},
   "outputs": [],
   "source": [
    "requests.groupby('neighborhood').sum()"
   ]
  },
  {
   "cell_type": "code",
   "execution_count": null,
   "metadata": {},
   "outputs": [],
   "source": [
    "# Note the use of .index – remember, the index isn't a column!\n",
    "(\n",
    "    requests\n",
    "    .groupby('neighborhood')\n",
    "    .sum()\n",
    "    .sort_values(by='total', ascending=False)\n",
    "    .index[0]\n",
    ")"
   ]
  },
  {
   "cell_type": "markdown",
   "metadata": {
    "slideshow": {
     "slide_type": "slide"
    }
   },
   "source": [
    "### Example: Number of different services\n",
    "\n",
    "How do we find the number of different services requested in each neighborhood?\n",
    "\n",
    "As always when using `groupby`, there are two steps:"
   ]
  },
  {
   "cell_type": "markdown",
   "metadata": {
    "slideshow": {
     "slide_type": "fragment"
    }
   },
   "source": [
    "1. Choose a column to group by.\n",
    "    - Here, `'neighborhood'` seems like a good choice."
   ]
  },
  {
   "cell_type": "markdown",
   "metadata": {
    "slideshow": {
     "slide_type": "fragment"
    }
   },
   "source": [
    "2. Choose an aggregation method.\n",
    "   - Common aggregation methods include `.count()`, `.sum()`, `.mean()`, `.median()`, `.max()`, and `.min()`."
   ]
  },
  {
   "cell_type": "code",
   "execution_count": null,
   "metadata": {},
   "outputs": [],
   "source": [
    "# How many different requests are there for the neighborhood 'University'?\n",
    "requests[requests.get('neighborhood') == 'University']"
   ]
  },
  {
   "cell_type": "code",
   "execution_count": null,
   "metadata": {},
   "outputs": [],
   "source": [
    "# How do we find this result for every neighborhood?"
   ]
  },
  {
   "cell_type": "markdown",
   "metadata": {
    "slideshow": {
     "slide_type": "slide"
    }
   },
   "source": [
    "### Observation #4\n",
    "\n",
    "The column names of the output of `.groupby` don't make sense when using the `.count()` aggregation method."
   ]
  },
  {
   "cell_type": "code",
   "execution_count": null,
   "metadata": {
    "slideshow": {
     "slide_type": "-"
    }
   },
   "outputs": [],
   "source": [
    "num_diff_services = requests.groupby('neighborhood').count()\n",
    "num_diff_services"
   ]
  },
  {
   "cell_type": "markdown",
   "metadata": {
    "slideshow": {
     "slide_type": "fragment"
    }
   },
   "source": [
    "Consider dropping unneeded columns and renaming columns as follows:\n",
    "1. Use `.assign` to create a new column containing the same values as the old column(s).\n",
    "2. Use `.drop(columns=list_of_column_labels)` to drop the old column(s). Alternatively, use `.get(list_of_column_labels)` to keep only the columns in the given list. The columns will appear in the order you specify, so this is also useful for reordering columns!"
   ]
  },
  {
   "cell_type": "code",
   "execution_count": null,
   "metadata": {},
   "outputs": [],
   "source": [
    "num_diff_services = num_diff_services.assign(\n",
    "                    count_of_services=num_diff_services.get('open')\n",
    "                    ).drop(columns=['service', 'closed', 'open', 'total'])\n",
    "num_diff_services"
   ]
  },
  {
   "cell_type": "markdown",
   "metadata": {
    "slideshow": {
     "slide_type": "slide"
    }
   },
   "source": [
    "## Why visualize?"
   ]
  },
  {
   "cell_type": "markdown",
   "metadata": {
    "slideshow": {
     "slide_type": "slide"
    }
   },
   "source": [
    "Run these cells to load the _Little Women_ data from Lecture 1."
   ]
  },
  {
   "cell_type": "code",
   "execution_count": null,
   "metadata": {
    "slideshow": {
     "slide_type": "-"
    }
   },
   "outputs": [],
   "source": [
    "chapters = open('data/lw.txt').read().split('CHAPTER ')[1:]"
   ]
  },
  {
   "cell_type": "code",
   "execution_count": null,
   "metadata": {
    "slideshow": {
     "slide_type": "-"
    }
   },
   "outputs": [],
   "source": [
    "# Counts of names in the chapters of Little Women.\n",
    "\n",
    "counts = bpd.DataFrame().assign(\n",
    "    Amy=np.char.count(chapters, 'Amy'),\n",
    "    Beth=np.char.count(chapters, 'Beth'),\n",
    "    Jo=np.char.count(chapters, 'Jo'),\n",
    "    Meg=np.char.count(chapters, 'Meg'),\n",
    "    Laurie=np.char.count(chapters, 'Laurie'),\n",
    ")\n",
    "\n",
    "# Cumulative number of times each name appears.\n",
    "\n",
    "lw_counts = bpd.DataFrame().assign(\n",
    "    Amy=np.cumsum(counts.get('Amy')),\n",
    "    Beth=np.cumsum(counts.get('Beth')),\n",
    "    Jo=np.cumsum(counts.get('Jo')),\n",
    "    Meg=np.cumsum(counts.get('Meg')),\n",
    "    Laurie=np.cumsum(counts.get('Laurie')),\n",
    "    Chapter=np.arange(1, 48, 1)\n",
    ")\n",
    "\n",
    "lw_counts"
   ]
  },
  {
   "cell_type": "markdown",
   "metadata": {
    "slideshow": {
     "slide_type": "slide"
    }
   },
   "source": [
    "### Little Women\n",
    "\n",
    "In Lecture 1, we were able to answer questions about the plot of _Little Women_ without having to read the novel and without having to understand Python code. Some of those questions included:\n",
    "\n",
    "- Who is the main character?\n",
    "- Which pair of characters gets married in Chapter 35?\n",
    "\n",
    "We answered these questions from a data visualization alone!"
   ]
  },
  {
   "cell_type": "code",
   "execution_count": null,
   "metadata": {},
   "outputs": [],
   "source": [
    "lw_counts.plot(x='Chapter');"
   ]
  },
  {
   "cell_type": "markdown",
   "metadata": {
    "slideshow": {
     "slide_type": "slide"
    }
   },
   "source": [
    "### Napoleon's March\n",
    "\n",
    "> \"Probably the best statistical graphic ever drawn, this map by Charles Joseph Minard portrays the losses suffered by Napoleon's army in the Russian campaign of 1812.\" ([source](https://www.edwardtufte.com/tufte/posters))"
   ]
  },
  {
   "cell_type": "markdown",
   "metadata": {},
   "source": [
    "<center><img src=\"./images/minard.jpg\"/></center>"
   ]
  },
  {
   "cell_type": "markdown",
   "metadata": {
    "slideshow": {
     "slide_type": "slide"
    }
   },
   "source": [
    "### Why visualize?"
   ]
  },
  {
   "cell_type": "markdown",
   "metadata": {
    "slideshow": {
     "slide_type": "fragment"
    }
   },
   "source": [
    "- Computers are better than humans at crunching numbers, but humans are better at identifying visual patterns."
   ]
  },
  {
   "cell_type": "markdown",
   "metadata": {
    "slideshow": {
     "slide_type": "fragment"
    }
   },
   "source": [
    "- Visualizations allow us to understand lots of data quickly – they make it easier to spot trends and communicate our results with others."
   ]
  },
  {
   "cell_type": "markdown",
   "metadata": {
    "slideshow": {
     "slide_type": "fragment"
    }
   },
   "source": [
    "- There are many types of visualizations; in this class, we'll look at scatter plots, line plots, bar charts, and histograms, but there are many others.\n",
    "    - The right choice depends on the type of data."
   ]
  },
  {
   "cell_type": "markdown",
   "metadata": {
    "slideshow": {
     "slide_type": "slide"
    }
   },
   "source": [
    "## Terminology"
   ]
  },
  {
   "cell_type": "markdown",
   "metadata": {
    "slideshow": {
     "slide_type": "slide"
    }
   },
   "source": [
    "### Individuals and variables\n",
    "\n",
    "<center><img src='images/ind-var.png' width=90%/></center>"
   ]
  },
  {
   "cell_type": "markdown",
   "metadata": {
    "slideshow": {
     "slide_type": "fragment"
    }
   },
   "source": [
    "- <span style=\"color:#6d9eeb\"><b>Individual (row)</b></span>: Person/place/thing for which data is recorded. Also called an **observation**."
   ]
  },
  {
   "cell_type": "markdown",
   "metadata": {
    "slideshow": {
     "slide_type": "fragment"
    }
   },
   "source": [
    "- <span style=\"color:#ff9900\"><b>Variable (column)</b></span>: Something that is recorded for each individual. Also called a **feature**."
   ]
  },
  {
   "cell_type": "markdown",
   "metadata": {
    "slideshow": {
     "slide_type": "slide"
    }
   },
   "source": [
    "### Types of variables\n",
    "\n",
    "There are two main types of variables:\n",
    "\n",
    "- **Numerical**: It makes sense to do arithmetic with the values.\n",
    "- **Categorical**: Values fall into categories, that may or may not have some _order_ to them."
   ]
  },
  {
   "cell_type": "markdown",
   "metadata": {
    "slideshow": {
     "slide_type": "fragment"
    }
   },
   "source": [
    "Note that here, \"variable\" does not mean a variable in Python, but rather it means a column in a DataFrame."
   ]
  },
  {
   "cell_type": "markdown",
   "metadata": {
    "slideshow": {
     "slide_type": "slide"
    }
   },
   "source": [
    "### Examples of numerical variables"
   ]
  },
  {
   "cell_type": "markdown",
   "metadata": {
    "slideshow": {
     "slide_type": "fragment"
    }
   },
   "source": [
    "- Salaries of NBA players 🏀.\n",
    "    - Individual: An NBA player.\n",
    "    - Variable: Their salary."
   ]
  },
  {
   "cell_type": "markdown",
   "metadata": {
    "slideshow": {
     "slide_type": "fragment"
    }
   },
   "source": [
    "- Movie gross earnings 💰.\n",
    "    - Individual: A movie.\n",
    "    - Variable: Its gross earnings."
   ]
  },
  {
   "cell_type": "markdown",
   "metadata": {
    "slideshow": {
     "slide_type": "fragment"
    }
   },
   "source": [
    "- Booster doses administered per day 💉.\n",
    "    - Individual: Date.\n",
    "    - Variable: Number of booster doses administered on that date."
   ]
  },
  {
   "cell_type": "markdown",
   "metadata": {
    "slideshow": {
     "slide_type": "slide"
    }
   },
   "source": [
    "### Examples of categorical variables"
   ]
  },
  {
   "cell_type": "markdown",
   "metadata": {
    "slideshow": {
     "slide_type": "fragment"
    }
   },
   "source": [
    "- Movie genres 🎬.\n",
    "    - Individual: A movie.\n",
    "    - Variable: Its genre."
   ]
  },
  {
   "cell_type": "markdown",
   "metadata": {
    "slideshow": {
     "slide_type": "fragment"
    }
   },
   "source": [
    "- Zip codes 🏠.\n",
    "    - Individual: US resident.\n",
    "    - Variable: Zip code.\n",
    "        - Even though they look like numbers, zip codes are categorical (arithmetic doesn't make sense)."
   ]
  },
  {
   "cell_type": "markdown",
   "metadata": {
    "slideshow": {
     "slide_type": "fragment"
    }
   },
   "source": [
    "- Level of prior programming experience for students in DSC 10 🧑‍🎓.\n",
    "    - Individual: Student in DSC 10.\n",
    "    - Variable: Their level of prior programming experience, e.g. none, low, medium, or high. \n",
    "        - There is an _order_ to these categories!"
   ]
  },
  {
   "cell_type": "markdown",
   "metadata": {
    "slideshow": {
     "slide_type": "slide"
    }
   },
   "source": [
    "### Concept Check ✅ – Answer at [cc.dsc10.com](http://cc.dsc10.com) \n",
    "\n",
    "Which of these is **not** a numerical variable?\n",
    "\n",
    "A. Fuel economy in miles per gallon.\n",
    "\n",
    "B. Number of quarters at UCSD.\n",
    "\n",
    "C. College at UCSD (Sixth, Seventh, etc).\n",
    "\n",
    "D. Bank account number.\n",
    "\n",
    "E. More than one of these are not numerical variables."
   ]
  },
  {
   "cell_type": "markdown",
   "metadata": {
    "slideshow": {
     "slide_type": "slide"
    }
   },
   "source": [
    "### Types of visualizations\n",
    "\n",
    "The type of visualization we create depends on the kinds of variables we're visualizing.\n",
    "\n",
    "- **Scatter plot**: Numerical vs. numerical.\n",
    "- **Line plot**: Sequential numerical (time) vs. numerical.\n",
    "- **Bar chart**: Categorical vs. numerical.\n",
    "- **Histogram**: Numerical.\n",
    "    - Will cover next time.\n",
    "    \n",
    "We may interchange the words \"plot\", \"chart\", and \"graph\"; they all mean the same thing."
   ]
  },
  {
   "cell_type": "markdown",
   "metadata": {
    "slideshow": {
     "slide_type": "slide"
    }
   },
   "source": [
    "## Scatter plots"
   ]
  },
  {
   "cell_type": "markdown",
   "metadata": {
    "slideshow": {
     "slide_type": "slide"
    }
   },
   "source": [
    "### Dataset of 50 top-grossing actors"
   ]
  },
  {
   "cell_type": "markdown",
   "metadata": {
    "slideshow": {
     "slide_type": "-"
    }
   },
   "source": [
    "|Column |Contents|\n",
    "|----------|------------|\n",
    "`'Actor'`|Name of actor\n",
    "`'Total Gross'`|\tTotal gross domestic box office receipt, in millions of dollars, of all of the actor’s movies\n",
    "`'Number of Movies'`|\tThe number of movies the actor has been in\n",
    "`'Average per Movie'`|\tTotal gross divided by number of movies\n",
    "`'#1 Movie'`|\tThe highest grossing movie the actor has been in\n",
    "`'Gross'`|\tGross domestic box office receipt, in millions of dollars, of the actor’s #1 Movie"
   ]
  },
  {
   "cell_type": "code",
   "execution_count": null,
   "metadata": {
    "slideshow": {
     "slide_type": "slide"
    }
   },
   "outputs": [],
   "source": [
    "actors = bpd.read_csv('data/actors.csv').set_index('Actor')\n",
    "actors"
   ]
  },
  {
   "cell_type": "markdown",
   "metadata": {
    "slideshow": {
     "slide_type": "slide"
    }
   },
   "source": [
    "### Scatter plots\n",
    "\n",
    "What is the relationship between `'Number of Movies'` and `'Total Gross'`?"
   ]
  },
  {
   "cell_type": "code",
   "execution_count": null,
   "metadata": {},
   "outputs": [],
   "source": [
    "actors.plot(kind='scatter', x='Number of Movies', y='Total Gross');"
   ]
  },
  {
   "cell_type": "markdown",
   "metadata": {
    "slideshow": {
     "slide_type": "slide"
    }
   },
   "source": [
    "### Scatter plots\n",
    "\n",
    "- Scatter plots visualize the relationship between two numerical variables.\n",
    "- To create one from a DataFrame `df`, use\n",
    "```\n",
    "df.plot(\n",
    "    kind='scatter', \n",
    "    x=x_column_for_horizontal, \n",
    "    y=y_column_for_vertical\n",
    ")\n",
    "```\n",
    "- The resulting scatter plot has one point per row of `df`.\n",
    "- If you put a semicolon after a call to `.plot`, it will hide the weird text output that displays."
   ]
  },
  {
   "cell_type": "markdown",
   "metadata": {
    "slideshow": {
     "slide_type": "slide"
    }
   },
   "source": [
    "### Scatter plots\n",
    "\n",
    "What is the relationship between `'Number of Movies'` and `'Average per Movie'`?"
   ]
  },
  {
   "cell_type": "code",
   "execution_count": null,
   "metadata": {},
   "outputs": [],
   "source": [
    "actors.plot(kind='scatter', x='Number of Movies', y='Average per Movie');"
   ]
  },
  {
   "cell_type": "markdown",
   "metadata": {
    "slideshow": {
     "slide_type": "fragment"
    }
   },
   "source": [
    "Note that in the above plot, there's a _negative_ association and an outlier."
   ]
  },
  {
   "cell_type": "markdown",
   "metadata": {
    "slideshow": {
     "slide_type": "slide"
    }
   },
   "source": [
    "### Who was in 60 or more movies?"
   ]
  },
  {
   "cell_type": "code",
   "execution_count": null,
   "metadata": {},
   "outputs": [],
   "source": [
    "actors[actors.get('Number of Movies') >= 60]"
   ]
  },
  {
   "cell_type": "markdown",
   "metadata": {
    "slideshow": {
     "slide_type": "slide"
    }
   },
   "source": [
    "### Who is the outlier?\n",
    "\n",
    "Whoever they are, they made very few, high grossing movies."
   ]
  },
  {
   "cell_type": "code",
   "execution_count": null,
   "metadata": {},
   "outputs": [],
   "source": [
    "actors[actors.get('Number of Movies') < 10]"
   ]
  },
  {
   "cell_type": "markdown",
   "metadata": {
    "slideshow": {
     "slide_type": "slide"
    }
   },
   "source": [
    "<center><img src='images/c3po.png' width=200></center>"
   ]
  },
  {
   "cell_type": "markdown",
   "metadata": {
    "slideshow": {
     "slide_type": "slide"
    }
   },
   "source": [
    "## Line plots 📉"
   ]
  },
  {
   "cell_type": "markdown",
   "metadata": {
    "slideshow": {
     "slide_type": "slide"
    }
   },
   "source": [
    "### Dataset aggregating movies by year"
   ]
  },
  {
   "cell_type": "markdown",
   "metadata": {
    "slideshow": {
     "slide_type": "-"
    }
   },
   "source": [
    "|Column|\tContent|\n",
    "|------|-----------|\n",
    "`'Year'`|\tYear\n",
    "`'Total Gross in Billions'`|\tTotal domestic box office gross, in billions of dollars, of all movies released\n",
    "`'Number of Movies'`|\tNumber of movies released\n",
    "`'#1 Movie'`|\tHighest grossing movie"
   ]
  },
  {
   "cell_type": "code",
   "execution_count": null,
   "metadata": {
    "slideshow": {
     "slide_type": "slide"
    }
   },
   "outputs": [],
   "source": [
    "movies_by_year = bpd.read_csv('data/movies_by_year.csv').set_index('Year')\n",
    "movies_by_year"
   ]
  },
  {
   "cell_type": "markdown",
   "metadata": {
    "slideshow": {
     "slide_type": "slide"
    }
   },
   "source": [
    "### Line plots\n",
    "\n",
    "How has the number of movies changed over time? 🤔"
   ]
  },
  {
   "cell_type": "code",
   "execution_count": null,
   "metadata": {},
   "outputs": [],
   "source": [
    "movies_by_year.plot(kind='line', y='Number of Movies');"
   ]
  },
  {
   "cell_type": "markdown",
   "metadata": {
    "slideshow": {
     "slide_type": "slide"
    }
   },
   "source": [
    "### Line plots\n",
    "\n",
    "- Line plots show trends in numerical variables over time.\n",
    "- To create one from a DataFrame `df`, use\n",
    "```\n",
    "df.plot(\n",
    "    kind='line', \n",
    "    x=x_column_for_horizontal, \n",
    "    y=y_column_for_vertical\n",
    ")\n",
    "```"
   ]
  },
  {
   "cell_type": "markdown",
   "metadata": {
    "slideshow": {
     "slide_type": "slide"
    }
   },
   "source": [
    "### Plotting tip\n",
    "\n",
    "- If you want the x-axis to be the index, omit the `x=` argument!\n",
    "- Doesn't work for scatter plots, but works for most other plot types."
   ]
  },
  {
   "cell_type": "code",
   "execution_count": null,
   "metadata": {},
   "outputs": [],
   "source": [
    "movies_by_year.plot(kind='line', y='Number of Movies');"
   ]
  },
  {
   "cell_type": "markdown",
   "metadata": {
    "slideshow": {
     "slide_type": "slide"
    }
   },
   "source": [
    "### Zooming in\n",
    "\n",
    "We can create a line plot of just 2000 onwards by querying `movies_by_year` before calling `.plot`."
   ]
  },
  {
   "cell_type": "code",
   "execution_count": null,
   "metadata": {
    "scrolled": false,
    "slideshow": {
     "slide_type": "-"
    }
   },
   "outputs": [],
   "source": [
    "movies_by_year[movies_by_year.index >= 2000].plot(kind='line', y='Number of Movies');"
   ]
  },
  {
   "cell_type": "markdown",
   "metadata": {},
   "source": [
    "What do you think explains the declines around 2008 and 2020?"
   ]
  },
  {
   "cell_type": "markdown",
   "metadata": {
    "slideshow": {
     "slide_type": "slide"
    }
   },
   "source": [
    "### How did this affect total gross?"
   ]
  },
  {
   "cell_type": "code",
   "execution_count": null,
   "metadata": {},
   "outputs": [],
   "source": [
    "movies_by_year[movies_by_year.index >= 2000].plot(kind='line', y='Total Gross in Billions');"
   ]
  },
  {
   "cell_type": "markdown",
   "metadata": {
    "slideshow": {
     "slide_type": "slide"
    }
   },
   "source": [
    "### What was the top grossing movie of 2018?"
   ]
  },
  {
   "cell_type": "code",
   "execution_count": null,
   "metadata": {},
   "outputs": [],
   "source": [
    "..."
   ]
  },
  {
   "cell_type": "markdown",
   "metadata": {
    "slideshow": {
     "slide_type": "slide"
    }
   },
   "source": [
    "### Extra video on line plots\n",
    "\n",
    "If you're curious how line plots work under the hood, watch [this video](https://www.youtube.com/watch?v=glzZ04D1kDg) we made a few quarters ago."
   ]
  },
  {
   "cell_type": "code",
   "execution_count": null,
   "metadata": {},
   "outputs": [],
   "source": [
    "YouTubeVideo('glzZ04D1kDg')"
   ]
  },
  {
   "cell_type": "markdown",
   "metadata": {
    "slideshow": {
     "slide_type": "slide"
    }
   },
   "source": [
    "## Bar charts 📊"
   ]
  },
  {
   "cell_type": "markdown",
   "metadata": {
    "slideshow": {
     "slide_type": "slide"
    }
   },
   "source": [
    "### Dataset of the top 200 songs in the US on Spotify as of Thursday (4/13/2023)\n",
    "\n",
    "[Downloaded from here – check it out!](https://spotifycharts.com/regional)"
   ]
  },
  {
   "cell_type": "code",
   "execution_count": null,
   "metadata": {},
   "outputs": [],
   "source": [
    "charts = (bpd.read_csv('data/regional-us-daily-2023-04-13.csv')\n",
    "          .set_index('rank')\n",
    "          .get(['track_name', 'artist_names', 'streams', 'uri'])\n",
    "         )\n",
    "charts"
   ]
  },
  {
   "cell_type": "markdown",
   "metadata": {
    "slideshow": {
     "slide_type": "slide"
    }
   },
   "source": [
    "### Bar charts\n",
    "\n",
    "How many streams do the top 10 songs have?"
   ]
  },
  {
   "cell_type": "code",
   "execution_count": null,
   "metadata": {},
   "outputs": [],
   "source": [
    "charts"
   ]
  },
  {
   "cell_type": "code",
   "execution_count": null,
   "metadata": {},
   "outputs": [],
   "source": [
    "charts.take(np.arange(10))"
   ]
  },
  {
   "cell_type": "code",
   "execution_count": null,
   "metadata": {},
   "outputs": [],
   "source": [
    "charts.take(np.arange(10)).plot(kind='barh', x='track_name', y='streams');"
   ]
  },
  {
   "cell_type": "markdown",
   "metadata": {
    "slideshow": {
     "slide_type": "slide"
    }
   },
   "source": [
    "### Bar charts\n",
    "\n",
    "- Bar charts visualize the relationship between a categorical variable and a numerical variable.\n",
    "- In a bar chart...\n",
    "    - The thickness and spacing of bars is arbitrary.\n",
    "    - The order of the categorical labels doesn't matter.\n",
    "- To create one from a DataFrame `df`, use\n",
    "```\n",
    "df.plot(\n",
    "    kind='barh', \n",
    "    x=categorical_column_name, \n",
    "    y=numerical_column_name\n",
    ")\n",
    "```\n",
    "- The **\"h\"** in `'barh'` stands for **\"horizontal\"**.\n",
    "    - It's easier to read labels this way.\n",
    "- In the previous chart, we set `y='Streams'` even though streams are measured by x-axis length."
   ]
  },
  {
   "cell_type": "code",
   "execution_count": null,
   "metadata": {
    "slideshow": {
     "slide_type": "slide"
    }
   },
   "outputs": [],
   "source": [
    "# The bars appear in the opposite order relative to the DataFrame.\n",
    "(charts\n",
    " .take(np.arange(10))\n",
    " .sort_values(by='streams')\n",
    " .plot(kind='barh', x='track_name', y='streams')\n",
    ");"
   ]
  },
  {
   "cell_type": "code",
   "execution_count": null,
   "metadata": {
    "slideshow": {
     "slide_type": "-"
    }
   },
   "outputs": [],
   "source": [
    "# Change \"barh\" to \"bar\" to get a vertical bar chart. These are a little harder to read.\n",
    "(charts\n",
    " .take(np.arange(10))\n",
    " .sort_values(by='streams')\n",
    " .plot(kind='bar', x='track_name', y='streams')\n",
    ");"
   ]
  },
  {
   "cell_type": "markdown",
   "metadata": {
    "slideshow": {
     "slide_type": "slide"
    }
   },
   "source": [
    "### Aside: How many streams did The Weeknd's songs on the chart receive?"
   ]
  },
  {
   "cell_type": "code",
   "execution_count": null,
   "metadata": {},
   "outputs": [],
   "source": [
    "(charts\n",
    " [charts.get('artist_names') == 'The Weeknd']\n",
    " .sort_values('streams')\n",
    " .plot(kind='barh', x='track_name', y='streams')\n",
    ");"
   ]
  },
  {
   "cell_type": "markdown",
   "metadata": {
    "slideshow": {
     "slide_type": "fragment"
    }
   },
   "source": [
    "It seems like we're missing some popular songs..."
   ]
  },
  {
   "cell_type": "markdown",
   "metadata": {
    "slideshow": {
     "slide_type": "slide"
    }
   },
   "source": [
    "### How do we include songs with other artists, as well?\n",
    "\n",
    "Answer: Using `.str.contains`."
   ]
  },
  {
   "cell_type": "code",
   "execution_count": null,
   "metadata": {},
   "outputs": [],
   "source": [
    "weeknd = charts[charts.get('artist_names').str.contains('The Weeknd')]\n",
    "weeknd"
   ]
  },
  {
   "cell_type": "code",
   "execution_count": null,
   "metadata": {},
   "outputs": [],
   "source": [
    "weeknd.sort_values('streams').plot(kind='barh', x='track_name', y='streams');"
   ]
  },
  {
   "cell_type": "markdown",
   "metadata": {
    "slideshow": {
     "slide_type": "slide"
    }
   },
   "source": [
    "## Fun demo 🎵"
   ]
  },
  {
   "cell_type": "code",
   "execution_count": null,
   "metadata": {
    "slideshow": {
     "slide_type": "slide"
    }
   },
   "outputs": [],
   "source": [
    "# Run this cell, don't worry about what it does.\n",
    "def show_spotify(uri):\n",
    "    code = uri[uri.rfind(':')+1:]\n",
    "    src = f\"https://open.spotify.com/embed/track/{code}\"\n",
    "    width = 400\n",
    "    height = 75\n",
    "    display(IFrame(src, width, height))"
   ]
  },
  {
   "cell_type": "markdown",
   "metadata": {
    "slideshow": {
     "slide_type": "slide"
    }
   },
   "source": [
    "#### Let's find the URI of a song we care about."
   ]
  },
  {
   "cell_type": "code",
   "execution_count": null,
   "metadata": {},
   "outputs": [],
   "source": [
    "charts"
   ]
  },
  {
   "cell_type": "code",
   "execution_count": null,
   "metadata": {},
   "outputs": [],
   "source": [
    "favorite_song = 'Die For You (with Ariana Grande) - Remix'"
   ]
  },
  {
   "cell_type": "code",
   "execution_count": null,
   "metadata": {},
   "outputs": [],
   "source": [
    "song_uri = (charts\n",
    "            [charts.get('track_name') == favorite_song]\n",
    "            .get('uri')\n",
    "            .iloc[0])\n",
    "song_uri"
   ]
  },
  {
   "cell_type": "markdown",
   "metadata": {
    "slideshow": {
     "slide_type": "slide"
    }
   },
   "source": [
    "Watch what happens! 🎶"
   ]
  },
  {
   "cell_type": "code",
   "execution_count": null,
   "metadata": {},
   "outputs": [],
   "source": [
    "show_spotify(song_uri)"
   ]
  },
  {
   "cell_type": "markdown",
   "metadata": {},
   "source": [
    "Try it out yourself!"
   ]
  },
  {
   "cell_type": "markdown",
   "metadata": {
    "slideshow": {
     "slide_type": "slide"
    }
   },
   "source": [
    "## Summary"
   ]
  },
  {
   "cell_type": "markdown",
   "metadata": {
    "slideshow": {
     "slide_type": "slide"
    }
   },
   "source": [
    "### Summary\n",
    "\n",
    "- Visualizations make it easy to extract patterns from datasets.\n",
    "- There are two main types of variables: categorical and numerical.\n",
    "- The types of the variables we're visualizing inform our choice of which type of visualization to use.\n",
    "- Today, we looked at scatter plots, line plots, and bar charts.\n",
    "- **Next time**: More bar charts, histograms, and overlaid plots."
   ]
  }
 ],
 "metadata": {
  "kernelspec": {
   "display_name": "Python 3 (ipykernel)",
   "language": "python",
   "name": "python3"
  },
  "language_info": {
   "codemirror_mode": {
    "name": "ipython",
    "version": 3
   },
   "file_extension": ".py",
   "mimetype": "text/x-python",
   "name": "python",
   "nbconvert_exporter": "python",
   "pygments_lexer": "ipython3",
   "version": "3.9.7"
  },
  "livereveal": {
   "scroll": true,
   "transition": "none"
  },
  "rise": {
   "enable_chalkboard": true
  }
 },
 "nbformat": 4,
 "nbformat_minor": 2
}
