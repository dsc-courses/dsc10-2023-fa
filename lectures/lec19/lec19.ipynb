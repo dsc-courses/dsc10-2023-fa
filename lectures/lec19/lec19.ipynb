{
 "cells": [
  {
   "cell_type": "code",
   "execution_count": null,
   "metadata": {
    "slideshow": {
     "slide_type": "skip"
    }
   },
   "outputs": [],
   "source": [
    "# Set up packages for lecture. Don't worry about understanding this code,\n",
    "# but make sure to run it if you're following along.\n",
    "import numpy as np\n",
    "import babypandas as bpd\n",
    "import pandas as pd\n",
    "from matplotlib_inline.backend_inline import set_matplotlib_formats\n",
    "import matplotlib.pyplot as plt\n",
    "set_matplotlib_formats(\"svg\")\n",
    "plt.style.use('ggplot')\n",
    "\n",
    "np.set_printoptions(threshold=20, precision=2, suppress=True)\n",
    "pd.set_option(\"display.max_rows\", 7)\n",
    "pd.set_option(\"display.max_columns\", 8)\n",
    "pd.set_option(\"display.precision\", 2)\n",
    "\n",
    "# Animations\n",
    "from IPython.display import display, IFrame\n",
    "\n",
    "def show_bootstrapping_slides():\n",
    "    src = \"https://docs.google.com/presentation/d/e/2PACX-1vS_iYHJYXSVMMZ-YQVFwMEFR6EFN3FDSAvaMyUm-YJfLQgRMTHm3vI-wWJJ5999eFJq70nWp2hyItZg/embed?start=false&loop=false&delayms=3000\"\n",
    "    width = 960\n",
    "    height = 509\n",
    "    display(IFrame(src, width, height))"
   ]
  },
  {
   "cell_type": "markdown",
   "metadata": {
    "slideshow": {
     "slide_type": "slide"
    }
   },
   "source": [
    "# Lecture 19 – Bootstrapping, Percentiles, and Confidence Intervals\n",
    "\n",
    "## DSC 10, Spring 2023"
   ]
  },
  {
   "cell_type": "markdown",
   "metadata": {
    "slideshow": {
     "slide_type": "slide"
    }
   },
   "source": [
    "### Announcements\n",
    "\n",
    "- Lab 5 is due on **Saturday 5/20 at 11:59PM**.\n",
    "- Homework 5 is due on **Tuesday 5/23 at 11:59PM**.\n",
    "- The Final Project will be released later this week. It's on Meteorite landings ☄️.\n",
    "    - You can work with a different partner if you'd like.\n",
    "    - It won't be due until **Tuesday 6/6** – you'll have quite a bit of time to work on it, but it is longer than the Midterm Project.\n",
    "- The [Diagrams](https://dsc10.com/diagrams) page on the course website has been updated with all of the most recent interactive diagrams from lecture."
   ]
  },
  {
   "cell_type": "markdown",
   "metadata": {
    "slideshow": {
     "slide_type": "slide"
    }
   },
   "source": [
    "### Agenda \n",
    "\n",
    "- Bootstrapping.\n",
    "- Percentiles.\n",
    "- Confidence intervals.\n",
    "\n"
   ]
  },
  {
   "cell_type": "markdown",
   "metadata": {
    "slideshow": {
     "slide_type": "fragment"
    }
   },
   "source": [
    "### Resources\n",
    "\n",
    "- You may have noticed that we've quickly moved into much more theoretical material. \n",
    "\n",
    "- Remember to read the [textbook](https://inferentialthinking.com/chapters/intro.html) for more context and examples.\n",
    "\n",
    "- Additionally, [this site](https://www.jwilber.me/permutationtest/) contains a helpful visual explanation of permutation testing, and the [Diagrams](https://dsc10.com/diagrams) page contains all of the interactive diagrams we've seen so far in lecture."
   ]
  },
  {
   "cell_type": "markdown",
   "metadata": {
    "slideshow": {
     "slide_type": "slide"
    }
   },
   "source": [
    "## Bootstrapping 🥾"
   ]
  },
  {
   "cell_type": "markdown",
   "metadata": {
    "slideshow": {
     "slide_type": "slide"
    }
   },
   "source": [
    "### City of San Diego employee salary data\n",
    "\n",
    "All City of San Diego employee salary data [is public](https://publicpay.ca.gov/Reports/Cities/City.aspx?entityid=405&year=2021&rpt=1). We are using the latest available data."
   ]
  },
  {
   "cell_type": "code",
   "execution_count": null,
   "metadata": {
    "scrolled": true
   },
   "outputs": [],
   "source": [
    "population = bpd.read_csv('data/2021_salaries.csv')\n",
    "population"
   ]
  },
  {
   "cell_type": "markdown",
   "metadata": {
    "slideshow": {
     "slide_type": "fragment"
    }
   },
   "source": [
    "We only need the `'TotalWages'` column, so let's `get` just that column."
   ]
  },
  {
   "cell_type": "code",
   "execution_count": null,
   "metadata": {},
   "outputs": [],
   "source": [
    "population = population.get(['TotalWages'])\n",
    "population"
   ]
  },
  {
   "cell_type": "code",
   "execution_count": null,
   "metadata": {
    "scrolled": false
   },
   "outputs": [],
   "source": [
    "population.plot(kind='hist', bins=np.arange(0, 400000, 10000), density=True, ec='w', figsize=(10, 5),\n",
    "                title='Distribution of Total Wages of San Diego City Employees in 2021');"
   ]
  },
  {
   "cell_type": "markdown",
   "metadata": {
    "slideshow": {
     "slide_type": "slide"
    }
   },
   "source": [
    "### The median salary\n",
    "\n",
    "- We can use `.median()` to find the median salary of all city employees.\n",
    "- This is **not** a random quantity."
   ]
  },
  {
   "cell_type": "code",
   "execution_count": null,
   "metadata": {},
   "outputs": [],
   "source": [
    "population_median = population.get('TotalWages').median()\n",
    "population_median"
   ]
  },
  {
   "cell_type": "markdown",
   "metadata": {
    "slideshow": {
     "slide_type": "slide"
    }
   },
   "source": [
    "### Let's be realistic..."
   ]
  },
  {
   "cell_type": "markdown",
   "metadata": {
    "slideshow": {
     "slide_type": "fragment"
    }
   },
   "source": [
    "- In practice, it is costly and time-consuming to survey **all** 12,000+ employees.\n",
    "    - More generally, we can't expect to survey all members of the population we care about."
   ]
  },
  {
   "cell_type": "markdown",
   "metadata": {
    "slideshow": {
     "slide_type": "fragment"
    }
   },
   "source": [
    "- Instead, we gather salaries for a random sample of, say, 500 people."
   ]
  },
  {
   "cell_type": "markdown",
   "metadata": {
    "slideshow": {
     "slide_type": "fragment"
    }
   },
   "source": [
    "- Hopefully, the median of the sample is close to the median of the population."
   ]
  },
  {
   "cell_type": "markdown",
   "metadata": {
    "slideshow": {
     "slide_type": "slide"
    }
   },
   "source": [
    "### The sample median\n",
    "\n",
    "Let's survey 500 employees at random. To do so, we can use the `.sample` method."
   ]
  },
  {
   "cell_type": "code",
   "execution_count": null,
   "metadata": {},
   "outputs": [],
   "source": [
    "np.random.seed(38) # Magic to ensure that we get the same results every time this code is run.\n",
    "\n",
    "# Take a sample of size 500.\n",
    "my_sample = population.sample(500)\n",
    "my_sample"
   ]
  },
  {
   "cell_type": "markdown",
   "metadata": {},
   "source": [
    "We won't reassign `my_sample` at any point in this notebook, so it will always refer to this particular sample."
   ]
  },
  {
   "cell_type": "code",
   "execution_count": null,
   "metadata": {
    "scrolled": true
   },
   "outputs": [],
   "source": [
    "# Compute the sample median.\n",
    "sample_median = my_sample.get('TotalWages').median()\n",
    "sample_median"
   ]
  },
  {
   "cell_type": "markdown",
   "metadata": {
    "slideshow": {
     "slide_type": "slide"
    }
   },
   "source": [
    "### How confident are we that this is a good estimate?"
   ]
  },
  {
   "cell_type": "markdown",
   "metadata": {
    "slideshow": {
     "slide_type": "fragment"
    }
   },
   "source": [
    "- Our estimate depended on a random sample."
   ]
  },
  {
   "cell_type": "markdown",
   "metadata": {
    "slideshow": {
     "slide_type": "fragment"
    }
   },
   "source": [
    "- If our sample was different, our estimate may have been different, too."
   ]
  },
  {
   "cell_type": "markdown",
   "metadata": {
    "slideshow": {
     "slide_type": "fragment"
    }
   },
   "source": [
    "- **How different could the sample median have been – that is, what is the distribution of the sample median?** \n",
    "    - \"Narrow\" distribution $\\Rightarrow$ not too different.\n",
    "    - \"Wide\" distribution $\\Rightarrow$ quite different."
   ]
  },
  {
   "cell_type": "markdown",
   "metadata": {
    "slideshow": {
     "slide_type": "fragment"
    }
   },
   "source": [
    "- Our confidence in the estimate depends on the answer to this question."
   ]
  },
  {
   "cell_type": "markdown",
   "metadata": {
    "slideshow": {
     "slide_type": "slide"
    }
   },
   "source": [
    "### An impractical approach\n",
    "\n",
    "- One idea: repeatedly collect random samples of 500 **from the population** and compute their medians.\n",
    "    - This is what we did in Lecture 13 to compute an empirical distribution of the sample mean of flight delays."
   ]
  },
  {
   "cell_type": "code",
   "execution_count": null,
   "metadata": {},
   "outputs": [],
   "source": [
    "sample_medians = np.array([])\n",
    "for i in np.arange(1000):\n",
    "    median = population.sample(500).get('TotalWages').median()\n",
    "    sample_medians = np.append(sample_medians, median)\n",
    "sample_medians"
   ]
  },
  {
   "cell_type": "code",
   "execution_count": null,
   "metadata": {},
   "outputs": [],
   "source": [
    "(bpd.DataFrame()\n",
    " .assign(SampleMedians=sample_medians)\n",
    " .plot(kind='hist', density=True,\n",
    "       bins=30, ec='w', figsize=(8, 5),\n",
    "       title='Distribution of the Sample Median of 1000 Samples from the Population')\n",
    ");"
   ]
  },
  {
   "cell_type": "markdown",
   "metadata": {
    "slideshow": {
     "slide_type": "fragment"
    }
   },
   "source": [
    "- This shows an empirical distribution of the sample median. It is an approximation of the true probability distribution of the sample median, based on 1000 samples."
   ]
  },
  {
   "cell_type": "markdown",
   "metadata": {
    "slideshow": {
     "slide_type": "slide"
    }
   },
   "source": [
    "### The problem"
   ]
  },
  {
   "cell_type": "markdown",
   "metadata": {
    "slideshow": {
     "slide_type": "fragment"
    }
   },
   "source": [
    "- Drawing new samples like this is impractical – we usually can't just ask for new samples from the population.\n",
    "    - If we were able to do this, why not just collect more data in the first place?"
   ]
  },
  {
   "cell_type": "markdown",
   "metadata": {
    "slideshow": {
     "slide_type": "fragment"
    }
   },
   "source": [
    "- **Key insight**: our original sample, `my_sample`, looks a lot like the population.\n",
    "    - Their distributions are similar."
   ]
  },
  {
   "cell_type": "code",
   "execution_count": null,
   "metadata": {},
   "outputs": [],
   "source": [
    "fig, ax = plt.subplots(figsize=(10, 5))\n",
    "bins=np.arange(10_000, 300_000, 10_000)\n",
    "population.plot(kind='hist', y='TotalWages', ax=ax, density=True, alpha=.75, bins=bins, ec='w')\n",
    "my_sample.plot(kind='hist', y='TotalWages', ax=ax, density=True, alpha=.75, bins=bins, ec='w')\n",
    "plt.legend(['Population', 'My Sample']);"
   ]
  },
  {
   "cell_type": "markdown",
   "metadata": {
    "slideshow": {
     "slide_type": "fragment"
    }
   },
   "source": [
    "Note that unlike the previous histogram we saw, this is depicting the distribution of the population and of one particular sample (`my_sample`), **not** the distribution of sample medians for 1000 samples."
   ]
  },
  {
   "cell_type": "markdown",
   "metadata": {
    "slideshow": {
     "slide_type": "slide"
    }
   },
   "source": [
    "### Bootstrapping"
   ]
  },
  {
   "cell_type": "markdown",
   "metadata": {
    "slideshow": {
     "slide_type": "fragment"
    }
   },
   "source": [
    "- **Shortcut**: Use the sample in lieu of the population.\n",
    "    - The sample itself looks like the population.\n",
    "    - So, resampling from the sample is kind of like sampling from the population.\n",
    "    - The act of resampling from a sample is called **bootstrapping**."
   ]
  },
  {
   "cell_type": "markdown",
   "metadata": {
    "slideshow": {
     "slide_type": "fragment"
    }
   },
   "source": [
    "- In our case specifically:\n",
    "    - We have a sample of 500 salaries.\n",
    "    - We want another sample of 500 salaries, but we can't draw from the population.\n",
    "    - However, the original sample looks like the population.\n",
    "    - So, let's just **resample from the sample!**"
   ]
  },
  {
   "cell_type": "code",
   "execution_count": null,
   "metadata": {
    "scrolled": false,
    "slideshow": {
     "slide_type": "slide"
    }
   },
   "outputs": [],
   "source": [
    "show_bootstrapping_slides()"
   ]
  },
  {
   "cell_type": "markdown",
   "metadata": {
    "slideshow": {
     "slide_type": "slide"
    }
   },
   "source": [
    "### To replace or not replace?"
   ]
  },
  {
   "cell_type": "markdown",
   "metadata": {
    "slideshow": {
     "slide_type": "fragment"
    }
   },
   "source": [
    "- Our goal when bootstrapping is to create a sample of the same size as our original sample."
   ]
  },
  {
   "cell_type": "markdown",
   "metadata": {
    "slideshow": {
     "slide_type": "fragment"
    }
   },
   "source": [
    "- Let's repeatedly resample 3 numbers **without replacement** from an original sample of [1, 2, 3]."
   ]
  },
  {
   "cell_type": "code",
   "execution_count": null,
   "metadata": {},
   "outputs": [],
   "source": [
    "original = [1, 2, 3]\n",
    "for i in np.arange(10):\n",
    "    resample = np.random.choice(original, 3, replace=False)\n",
    "    print(\"Resample: \", resample, \"    Median: \", np.median(resample))"
   ]
  },
  {
   "cell_type": "markdown",
   "metadata": {
    "slideshow": {
     "slide_type": "fragment"
    }
   },
   "source": [
    "- Let's repeatedly resample 3 numbers **with replacement** from an original sample of [1, 2, 3]."
   ]
  },
  {
   "cell_type": "code",
   "execution_count": null,
   "metadata": {},
   "outputs": [],
   "source": [
    "original = [1, 2, 3]\n",
    "for i in np.arange(10):\n",
    "    resample = np.random.choice(original, 3, replace=True)\n",
    "    print(\"Resample: \", resample, \"    Median: \", np.median(resample))"
   ]
  },
  {
   "cell_type": "markdown",
   "metadata": {
    "slideshow": {
     "slide_type": "fragment"
    }
   },
   "source": [
    "- When we resample without replacement, resamples look just like the original samples.\n",
    "\n",
    "- When we resample with replacement, resamples can have a different mean, median, max, and min than the original sample."
   ]
  },
  {
   "cell_type": "markdown",
   "metadata": {
    "slideshow": {
     "slide_type": "fragment"
    }
   },
   "source": [
    "- So, we need to sample **with replacement** to ensure that our resamples can be different from the original sample."
   ]
  },
  {
   "cell_type": "markdown",
   "metadata": {
    "slideshow": {
     "slide_type": "slide"
    }
   },
   "source": [
    "### Bootstrapping the sample of salaries\n",
    "\n",
    "We can simulate the act of collecting new samples by **sampling with replacement from our original sample, `my_sample`**."
   ]
  },
  {
   "cell_type": "code",
   "execution_count": null,
   "metadata": {},
   "outputs": [],
   "source": [
    "# Note that the population DataFrame, population, doesn't appear anywhere here.\n",
    "# This is all based on one sample, my_sample.\n",
    "\n",
    "n_resamples = 5000\n",
    "boot_medians = np.array([])\n",
    "\n",
    "for i in range(n_resamples):\n",
    "    \n",
    "    # Resample from my_sample WITH REPLACEMENT.\n",
    "    resample = my_sample.sample(500, replace=True)\n",
    "    \n",
    "    # Compute the median.\n",
    "    median = resample.get('TotalWages').median()\n",
    "    \n",
    "    # Store it in our array of medians.\n",
    "    boot_medians = np.append(boot_medians, median)"
   ]
  },
  {
   "cell_type": "code",
   "execution_count": null,
   "metadata": {},
   "outputs": [],
   "source": [
    "boot_medians"
   ]
  },
  {
   "cell_type": "markdown",
   "metadata": {
    "slideshow": {
     "slide_type": "slide"
    }
   },
   "source": [
    "### Bootstrap distribution of the sample median"
   ]
  },
  {
   "cell_type": "code",
   "execution_count": null,
   "metadata": {
    "scrolled": false
   },
   "outputs": [],
   "source": [
    "bpd.DataFrame().assign(BootstrapMedians=boot_medians).plot(kind='hist', density=True, bins=np.arange(60000, 85000, 1000), ec='w', figsize=(10, 5))\n",
    "plt.scatter(population_median, 0.000004, color='blue', s=100, label='population median').set_zorder(2)\n",
    "plt.legend();"
   ]
  },
  {
   "cell_type": "markdown",
   "metadata": {
    "slideshow": {
     "slide_type": "fragment"
    }
   },
   "source": [
    "The population median (<span style=\"color:blue\"><b>blue dot</b></span>) is near the middle.\n",
    "\n",
    "**In reality, we'd never get to see this!**"
   ]
  },
  {
   "cell_type": "markdown",
   "metadata": {
    "slideshow": {
     "slide_type": "slide"
    }
   },
   "source": [
    "### What's the point of bootstrapping?\n",
    "\n",
    "We have a sample median wage:"
   ]
  },
  {
   "cell_type": "code",
   "execution_count": null,
   "metadata": {},
   "outputs": [],
   "source": [
    "my_sample.get('TotalWages').median()"
   ]
  },
  {
   "cell_type": "markdown",
   "metadata": {
    "slideshow": {
     "slide_type": "fragment"
    }
   },
   "source": [
    "With it, we can say that the population median wage is approximately \\\\$72,016, and not much else."
   ]
  },
  {
   "cell_type": "markdown",
   "metadata": {
    "slideshow": {
     "slide_type": "fragment"
    }
   },
   "source": [
    "But by bootstrapping our one sample, we can generate an empirical distribution of the sample median:"
   ]
  },
  {
   "cell_type": "code",
   "execution_count": null,
   "metadata": {
    "scrolled": false,
    "slideshow": {
     "slide_type": "-"
    }
   },
   "outputs": [],
   "source": [
    "(bpd.DataFrame()\n",
    " .assign(BootstrapMedians=boot_medians)\n",
    " .plot(kind='hist', density=True, bins=np.arange(60000, 85000, 1000), ec='w', figsize=(10, 5))\n",
    ")\n",
    "plt.legend();"
   ]
  },
  {
   "cell_type": "markdown",
   "metadata": {
    "slideshow": {
     "slide_type": "fragment"
    }
   },
   "source": [
    "which allows us to say things like\n",
    "\n",
    "> We think the population median wage is between \\\\$67,000 and \\\\$77,000."
   ]
  },
  {
   "cell_type": "markdown",
   "metadata": {
    "slideshow": {
     "slide_type": "fragment"
    }
   },
   "source": [
    "**Question**: We could also say that we think the population median wage is between \\\\$70,000 and \\\\$75,000, or between \\\\$60,000 and \\\\$80,000. What range should we pick?"
   ]
  },
  {
   "cell_type": "markdown",
   "metadata": {
    "slideshow": {
     "slide_type": "slide"
    }
   },
   "source": [
    "## Percentiles"
   ]
  },
  {
   "cell_type": "markdown",
   "metadata": {
    "slideshow": {
     "slide_type": "slide"
    }
   },
   "source": [
    "### Mathematical definition\n",
    "\n",
    "> Let $p$ be a number between 0 and 100. The $p$th percentile of a collection is the smallest value in the collection that is *at least as large* as $p$% of all the values. \n",
    "\n",
    "By this definition, any percentile between 0 and 100 can be computed for any collection of values and is **always an element of the collection.** "
   ]
  },
  {
   "cell_type": "markdown",
   "metadata": {
    "slideshow": {
     "slide_type": "slide"
    }
   },
   "source": [
    "### How to calculate percentiles using the mathematical definition\n",
    "\n",
    "Suppose there are $n$ elements in the collection. To find the $p$th percentile:"
   ]
  },
  {
   "cell_type": "markdown",
   "metadata": {
    "slideshow": {
     "slide_type": "fragment"
    }
   },
   "source": [
    "1. Sort the collection in increasing order."
   ]
  },
  {
   "cell_type": "markdown",
   "metadata": {
    "slideshow": {
     "slide_type": "fragment"
    }
   },
   "source": [
    "2. Define $h$ to be $p\\%$ of $n$: \n",
    "\n",
    "$$h = \\frac p{100} \\cdot n$$"
   ]
  },
  {
   "cell_type": "markdown",
   "metadata": {
    "slideshow": {
     "slide_type": "fragment"
    }
   },
   "source": [
    "3. If $h$ is an integer, define $k = h$. Otherwise, let $k$ be the smallest integer greater than $h$."
   ]
  },
  {
   "cell_type": "markdown",
   "metadata": {
    "slideshow": {
     "slide_type": "fragment"
    }
   },
   "source": [
    "4. Take the $k$th element of the sorted collection (start counting from 1, not 0)."
   ]
  },
  {
   "cell_type": "markdown",
   "metadata": {
    "slideshow": {
     "slide_type": "slide"
    }
   },
   "source": [
    "### Example\n",
    "\n",
    "What is the 25th percentile of the array `np.array([4, 10, 15, 21, 100])`?\n",
    "\n",
    "<br>\n",
    "\n",
    "<details><summary>✅ Click <b>here</b> to see the solution.</summary>\n",
    "    \n",
    "<ol>\n",
    "  <li>First, we need to sort the collection in increasing order. Conveniently, it's already sorted!</li>\n",
    "   <li>Define $h = \\frac{p}{100} \\cdot n$. Here, $p = 25$ and $n = 5$, so $h = \\frac{25}{100} \\cdot 5 = \\frac{5}{4} = 1.25$.</li>\n",
    "   <li>Since 1.25 is not an integer, $k$ must be the smallest integer greater than 1.25, which is 2.</li>\n",
    "    <li>If we start counting at 1, the element at position 2 is <code>10</code>, so the 25th percentile is <code>10</code>.</li>\n",
    "</ol>\n",
    "    \n",
    "</details>"
   ]
  },
  {
   "cell_type": "markdown",
   "metadata": {
    "slideshow": {
     "slide_type": "slide"
    }
   },
   "source": [
    "### Reflection\n",
    "\n",
    "Consider the array from the previous slide, `np.array([4, 10, 15, 21, 100])`. Here's how our percentile formula works:\n",
    "\n",
    "| value       | 4       | 10       | 15       | 21       | 100      \n",
    "|------------|---------|----------|----------|----------|-----------\n",
    "| percentile | [0, 20] | (20, 40] | (40, 60] | (60, 80] | (80, 100]\n",
    "\n",
    "For instance:\n",
    "- The 8th percentile and 9th percentile are both `4`.\n",
    "- The 50th percentile (median) is `15`.\n",
    "- The 79th percentile and 80th percentile are both `21`, but the 80.001st percentile is `100`.\n",
    "\n",
    "Notice that in the table above, each of the 5 values owns an equal percentage (20\\%) of the range 0-100."
   ]
  },
  {
   "cell_type": "markdown",
   "metadata": {
    "slideshow": {
     "slide_type": "slide"
    }
   },
   "source": [
    "### Concept Check ✅ – Answer at [cc.dsc10.com](http://cc.dsc10.com)\n",
    "\n",
    "What is the 70th percentile of the array `np.array([70, 18, 56, 89, 55, 35, 10, 45])`?\n",
    "\n",
    "<center>\n",
    "A. 35 \n",
    "&nbsp;&nbsp;&nbsp;&nbsp;&nbsp;&nbsp;&nbsp;&nbsp;&nbsp;&nbsp;&nbsp;&nbsp; B. 55 &nbsp;&nbsp;&nbsp;&nbsp;&nbsp;&nbsp;&nbsp;&nbsp;&nbsp;&nbsp;&nbsp;&nbsp; C. 56 &nbsp;&nbsp;&nbsp;&nbsp;&nbsp;&nbsp;&nbsp;&nbsp;&nbsp;&nbsp;&nbsp;&nbsp; D. 70 &nbsp;&nbsp;&nbsp;&nbsp;&nbsp;&nbsp;&nbsp;&nbsp;&nbsp;&nbsp;&nbsp;&nbsp; E. None of these\n",
    "</center>\n",
    "\n",
    "<br>\n",
    "\n",
    "<details><summary>✅ Click <b>here</b> to see the solution <b>after</b> you've tried it yourself.</summary>\n",
    "    \n",
    "<ol>\n",
    "  <li>First, we need to sort the collection in increasing order. This gives us <code>np.array([10, 18, 35, 45, 55, 56, 70, 89])</code>.</li>\n",
    "   <li>Define $h = \\frac{p}{100} \\cdot n$. Here, $p = 70$ and $n = 8$, so $h = \\frac{70}{100} \\cdot 8 = 5.6$.</li>\n",
    "   <li>Since 5.6 is not an integer, $k$ must be the smallest integer greater than 5.6, which is 6.</li>\n",
    "    <li>If we start counting at 1, the element at position 6 is <code>56</code>, so the 70th percentile is <code>56</code>.</li>\n",
    "</ol>"
   ]
  },
  {
   "cell_type": "markdown",
   "metadata": {
    "slideshow": {
     "slide_type": "slide"
    }
   },
   "source": [
    "### Calculating the percentile using our mathematical definition"
   ]
  },
  {
   "cell_type": "code",
   "execution_count": null,
   "metadata": {},
   "outputs": [],
   "source": [
    "def percentile(data, p):\n",
    "    data = np.sort(data)  # Returns a sorted copy of data.\n",
    "    n = len(data)\n",
    "    h = (p / 100) * n\n",
    "    k = int(np.ceil(h))   # If h is an integer, this is h. Otherwise, it rounds up.\n",
    "    return data[k - 1]    # - 1 because Python is 0-indexed but regular math is 1-indexed."
   ]
  },
  {
   "cell_type": "code",
   "execution_count": null,
   "metadata": {},
   "outputs": [],
   "source": [
    "example = np.array([70, 18, 56, 89, 55, 35, 10, 45])\n",
    "percentile(example, 50)"
   ]
  },
  {
   "cell_type": "code",
   "execution_count": null,
   "metadata": {},
   "outputs": [],
   "source": [
    "percentile(example, 70)"
   ]
  },
  {
   "cell_type": "markdown",
   "metadata": {
    "slideshow": {
     "slide_type": "slide"
    }
   },
   "source": [
    "### Another definition of percentile\n",
    "\n",
    "- The `numpy` package provides a function to calculate percentiles, `np.percentile(array, p)`, which returns the `p`th percentile of `array`.\n",
    "- `np.percentile` doesn't implement our version of percentile exactly, but for large arrays the two definitions are nearly the same.\n",
    "- We'll usually use `np.percentile` since it's faster."
   ]
  },
  {
   "cell_type": "code",
   "execution_count": null,
   "metadata": {},
   "outputs": [],
   "source": [
    "percentile(example, 50)"
   ]
  },
  {
   "cell_type": "code",
   "execution_count": null,
   "metadata": {},
   "outputs": [],
   "source": [
    "np.percentile(example, 50)"
   ]
  },
  {
   "cell_type": "markdown",
   "metadata": {
    "slideshow": {
     "slide_type": "slide"
    }
   },
   "source": [
    "## Confidence intervals"
   ]
  },
  {
   "cell_type": "markdown",
   "metadata": {
    "slideshow": {
     "slide_type": "slide"
    }
   },
   "source": [
    "### Using the bootstrapped distribution of sample medians\n",
    "\n",
    "Earlier in the lecture, we generated a bootstrapped distribution of sample medians."
   ]
  },
  {
   "cell_type": "code",
   "execution_count": null,
   "metadata": {},
   "outputs": [],
   "source": [
    "bpd.DataFrame().assign(BootstrapMedians=boot_medians).plot(kind='hist', density=True, bins=np.arange(60000, 85000, 1000), ec='w', figsize=(10, 5))\n",
    "plt.scatter(population_median, 0.000004, color='blue', s=100, label='population median').set_zorder(2)\n",
    "plt.legend();"
   ]
  },
  {
   "cell_type": "markdown",
   "metadata": {
    "slideshow": {
     "slide_type": "fragment"
    }
   },
   "source": [
    "What can we do with this distribution, now that we know about percentiles?"
   ]
  },
  {
   "cell_type": "markdown",
   "metadata": {
    "slideshow": {
     "slide_type": "slide"
    }
   },
   "source": [
    "### Using the bootstrapped distribution of sample medians"
   ]
  },
  {
   "cell_type": "markdown",
   "metadata": {
    "slideshow": {
     "slide_type": "fragment"
    }
   },
   "source": [
    "- We have a sample median, \\\\$72,016."
   ]
  },
  {
   "cell_type": "markdown",
   "metadata": {
    "slideshow": {
     "slide_type": "fragment"
    }
   },
   "source": [
    "- As such, we think the population median is close to \\\\$72,016. However, we're not quite sure _how_ close."
   ]
  },
  {
   "cell_type": "markdown",
   "metadata": {
    "slideshow": {
     "slide_type": "fragment"
    }
   },
   "source": [
    "- How do we capture our uncertainty about this guess?"
   ]
  },
  {
   "cell_type": "markdown",
   "metadata": {
    "slideshow": {
     "slide_type": "fragment"
    }
   },
   "source": [
    "- 💡 **Idea:** Find a range that captures **most** (e.g. 95%) of the bootstrapped distribution of sample medians."
   ]
  },
  {
   "cell_type": "markdown",
   "metadata": {
    "slideshow": {
     "slide_type": "slide"
    }
   },
   "source": [
    "### Confidence intervals\n",
    "\n",
    "Let's be a bit more precise."
   ]
  },
  {
   "cell_type": "markdown",
   "metadata": {
    "slideshow": {
     "slide_type": "fragment"
    }
   },
   "source": [
    "- **Goal**: Estimate an unknown population parameter."
   ]
  },
  {
   "cell_type": "markdown",
   "metadata": {
    "slideshow": {
     "slide_type": "fragment"
    }
   },
   "source": [
    "- We have been saying:\n",
    "> We think the population parameter is close to our sample statistic, $x$."
   ]
  },
  {
   "cell_type": "markdown",
   "metadata": {
    "slideshow": {
     "slide_type": "fragment"
    }
   },
   "source": [
    "- We want to say:\n",
    "> We think the population parameter is between $a$ and $b$."
   ]
  },
  {
   "cell_type": "markdown",
   "metadata": {
    "slideshow": {
     "slide_type": "fragment"
    }
   },
   "source": [
    "- To do this, we'll use the bootstrapped distribution of a sample statistic to compute an **interval** that contains \"the bulk\" of the sample statistics. Such an interval is called a **confidence interval**."
   ]
  },
  {
   "cell_type": "markdown",
   "metadata": {
    "slideshow": {
     "slide_type": "slide"
    }
   },
   "source": [
    "### Finding endpoints"
   ]
  },
  {
   "cell_type": "markdown",
   "metadata": {
    "slideshow": {
     "slide_type": "fragment"
    }
   },
   "source": [
    "- We want to find two points, $x$ and $y$, such that:\n",
    "    - The area to the left of $x$ in the bootstrapped distribution is about 2.5%.\n",
    "    - The area to the right of $y$ in the bootstrapped distribution is about 2.5%."
   ]
  },
  {
   "cell_type": "markdown",
   "metadata": {
    "slideshow": {
     "slide_type": "fragment"
    }
   },
   "source": [
    "- The interval $[x,y]$ will contain about 95% of the total area, i.e. 95% of the total values. As such, we will call $[x, y]$ a **95% confidence interval**."
   ]
  },
  {
   "cell_type": "markdown",
   "metadata": {
    "slideshow": {
     "slide_type": "fragment"
    }
   },
   "source": [
    "- $x$ and $y$ are the **2.5th percentile** and **97.5th percentile**, respectively."
   ]
  },
  {
   "cell_type": "markdown",
   "metadata": {
    "slideshow": {
     "slide_type": "slide"
    }
   },
   "source": [
    "### Computing a confidence interval"
   ]
  },
  {
   "cell_type": "code",
   "execution_count": null,
   "metadata": {},
   "outputs": [],
   "source": [
    "boot_medians"
   ]
  },
  {
   "cell_type": "code",
   "execution_count": null,
   "metadata": {},
   "outputs": [],
   "source": [
    "# Left endpoint.\n",
    "left = np.percentile(boot_medians, 2.5)\n",
    "left"
   ]
  },
  {
   "cell_type": "code",
   "execution_count": null,
   "metadata": {},
   "outputs": [],
   "source": [
    "# Right endpoint.\n",
    "right = np.percentile(boot_medians, 97.5)\n",
    "right"
   ]
  },
  {
   "cell_type": "code",
   "execution_count": null,
   "metadata": {},
   "outputs": [],
   "source": [
    "# Therefore, our interval is:\n",
    "[left, right]"
   ]
  },
  {
   "cell_type": "markdown",
   "metadata": {},
   "source": [
    "You will use the code above **very** frequently moving forward!"
   ]
  },
  {
   "cell_type": "markdown",
   "metadata": {
    "slideshow": {
     "slide_type": "slide"
    }
   },
   "source": [
    "### Visualizing our 95% confidence interval\n",
    "\n",
    "- Let's draw the interval we just computed on the histogram.\n",
    "- 95% of the bootstrap medians fell into this interval."
   ]
  },
  {
   "cell_type": "code",
   "execution_count": null,
   "metadata": {},
   "outputs": [],
   "source": [
    "bpd.DataFrame().assign(BootstrapMedians=boot_medians).plot(kind='hist', density=True, bins=np.arange(60000, 85000, 1000), ec='w', figsize=(10, 5), zorder=1)\n",
    "plt.plot([left, right], [0, 0], color='gold', linewidth=12, label='95% confidence interval', zorder=2);\n",
    "plt.scatter(population_median, 0.000004, color='blue', s=100, label='population median', zorder=3)\n",
    "plt.legend();"
   ]
  },
  {
   "cell_type": "markdown",
   "metadata": {},
   "source": [
    "- In this case, our 95% confidence interval (<span style=\"color:gold\"><b>gold line</b></span>) contains the true population parameter (<span style=\"color:blue\"><b>blue dot</b></span>).\n",
    "    - It won't always, because you might have a bad original sample!\n",
    "    - In reality, you won't know where the population parameter is, and so you won't know if your confidence interval contains it.\n",
    "- Note that the histogram is **not** centered around the population median (\\\\$74,441), but it is centered around the sample median (\\\\$72,016)."
   ]
  },
  {
   "cell_type": "markdown",
   "metadata": {
    "slideshow": {
     "slide_type": "slide"
    }
   },
   "source": [
    "### Concept Check ✅ – Answer at [cc.dsc10.com](http://cc.dsc10.com)\n",
    "\n",
    "We computed the following 95% confidence interval:"
   ]
  },
  {
   "cell_type": "code",
   "execution_count": null,
   "metadata": {},
   "outputs": [],
   "source": [
    "print('Interval:', [left, right])\n",
    "print('Width:', right - left)"
   ]
  },
  {
   "cell_type": "markdown",
   "metadata": {},
   "source": [
    "If we instead computed an 80% confidence interval, would it be wider or narrower?\n",
    "\n",
    "<center>\n",
    "A. Wider &nbsp;&nbsp;&nbsp;&nbsp;&nbsp;&nbsp;&nbsp;&nbsp;&nbsp;&nbsp;&nbsp;&nbsp;&nbsp;&nbsp;&nbsp;&nbsp; B. Narrower &nbsp;&nbsp;&nbsp;&nbsp;&nbsp;&nbsp;&nbsp;&nbsp;&nbsp;&nbsp;&nbsp;&nbsp;&nbsp;&nbsp;&nbsp;&nbsp; C. Impossible to tell\n",
    "</center"
   ]
  },
  {
   "cell_type": "markdown",
   "metadata": {
    "slideshow": {
     "slide_type": "slide"
    }
   },
   "source": [
    "### Reflection\n",
    "\n",
    "Now, instead of saying\n",
    "\n",
    "> We think the population median is close to our sample median, \\\\$72,016."
   ]
  },
  {
   "cell_type": "markdown",
   "metadata": {
    "slideshow": {
     "slide_type": "fragment"
    }
   },
   "source": [
    "We can say:\n",
    "\n",
    "> A 95% confidence interval for the population median is \\\\$66,996 to \\\\$76,527."
   ]
  },
  {
   "cell_type": "markdown",
   "metadata": {
    "slideshow": {
     "slide_type": "fragment"
    }
   },
   "source": [
    "Some lingering questions: What does 95% confidence mean? What are we confident about? Is this technique always \"good\"?"
   ]
  },
  {
   "cell_type": "markdown",
   "metadata": {
    "slideshow": {
     "slide_type": "slide"
    }
   },
   "source": [
    "## Summary, next time"
   ]
  },
  {
   "cell_type": "markdown",
   "metadata": {
    "slideshow": {
     "slide_type": "slide"
    }
   },
   "source": [
    "### Summary\n",
    "\n",
    "- By bootstrapping a single sample, we can generate an empirical distribution of a sample statistic. This distribution gives us a sense of how different the sample statistic could have been if we had collected a different original sample.\n",
    "- The $p$th percentile of a collection is the smallest value in the collection that is *at least as large* as $p$% of all the values. \n",
    "- After using the bootstrap to generate the empirical distribution of a sample statistic, we can create a $c$% confidence interval by taking the middle $c$% of values of the bootstrapped distribution.\n",
    "- Such an interval allows us to **quantify the uncertainty** in our estimate of a population parameter.\n",
    "    - Instead of providing just a single estimate of a population parameter, e.g. \\\\$72,016, we can provide a range of estimates, e.g. \\\\$66,996 to \\\\$76,527..\n",
    "    - Confidence intervals are used in a variety of fields to capture uncertainty. For instance, political researchers create confidence intervals for the proportion of votes their favorite candidate will receive, given a poll of voters."
   ]
  },
  {
   "cell_type": "markdown",
   "metadata": {
    "slideshow": {
     "slide_type": "slide"
    }
   },
   "source": [
    "### Next time\n",
    "\n",
    "We will:\n",
    "- Give more context to what the confidence level of a confidence interval means.\n",
    "- Look at statistics for which the bootstrap doesn't work well.\n",
    "- Use confidence intervals for hypothesis testing.\n",
    "- Start looking at measures of central tendency (mean, median, standard deviation)."
   ]
  }
 ],
 "metadata": {
  "kernelspec": {
   "display_name": "Python 3 (ipykernel)",
   "language": "python",
   "name": "python3"
  },
  "language_info": {
   "codemirror_mode": {
    "name": "ipython",
    "version": 3
   },
   "file_extension": ".py",
   "mimetype": "text/x-python",
   "name": "python",
   "nbconvert_exporter": "python",
   "pygments_lexer": "ipython3",
   "version": "3.9.7"
  },
  "livereveal": {
   "scroll": true,
   "transition": "none"
  },
  "rise": {
   "enable_chalkboard": true
  }
 },
 "nbformat": 4,
 "nbformat_minor": 2
}
