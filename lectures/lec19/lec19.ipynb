{
 "cells": [
  {
   "cell_type": "code",
   "execution_count": null,
   "metadata": {
    "slideshow": {
     "slide_type": "skip"
    }
   },
   "outputs": [],
   "source": [
    "# Set up packages for lecture. Don't worry about understanding this code,\n",
    "# but make sure to run it if you're following along.\n",
    "import numpy as np\n",
    "import babypandas as bpd\n",
    "import pandas as pd\n",
    "from matplotlib_inline.backend_inline import set_matplotlib_formats\n",
    "import matplotlib.pyplot as plt\n",
    "from scipy import stats\n",
    "set_matplotlib_formats(\"svg\")\n",
    "plt.style.use('ggplot')\n",
    "\n",
    "np.set_printoptions(threshold=20, precision=2, suppress=True)\n",
    "pd.set_option(\"display.max_rows\", 7)\n",
    "pd.set_option(\"display.max_columns\", 8)\n",
    "pd.set_option(\"display.precision\", 2)\n",
    "\n",
    "# Animations\n",
    "from IPython.display import display, IFrame, HTML\n",
    "import ipywidgets as widgets\n",
    "\n",
    "import warnings\n",
    "warnings.filterwarnings('ignore')\n",
    "\n",
    "def normal_curve(x, mu=0, sigma=1):\n",
    "    return 1 / np.sqrt(2*np.pi) * np.exp(-(x - mu)**2/(2 * sigma**2))\n",
    "\n",
    "def normal_area(a, b, bars=False, title=None):\n",
    "    x = np.linspace(-4, 4)\n",
    "    y = normal_curve(x)\n",
    "    ix = (x >= a) & (x <= b)\n",
    "    plt.plot(x, y, color='black')\n",
    "    plt.fill_between(x[ix], y[ix], color='gold')\n",
    "    if bars:\n",
    "        plt.axvline(a, color='red')\n",
    "        plt.axvline(b, color='red')\n",
    "    if title:\n",
    "        plt.title(title)\n",
    "    else:\n",
    "        plt.title(f'Area between {np.round(a, 2)} and {np.round(b, 2)}')\n",
    "    plt.show()\n",
    "    \n",
    "def area_within(z):\n",
    "    title = f'Proportion of values within {z} SDs of the mean: {np.round(stats.norm.cdf(z) - stats.norm.cdf(-z), 4)}'\n",
    "    normal_area(-z, z, title=title)\n",
    "\n",
    "def show_clt_slides():\n",
    "    src = \"https://docs.google.com/presentation/d/e/2PACX-1vTcJd3U1H1KoXqBFcWGKFUPjZbeW4oiNZZLCFY8jqvSDsl4L1rRTg7980nPs1TGCAecYKUZxH5MZIBh/embed?start=false&loop=false&delayms=3000&rm=minimal\"\n",
    "    width = 960\n",
    "    height = 509\n",
    "    display(IFrame(src, width, height))"
   ]
  },
  {
   "cell_type": "markdown",
   "metadata": {
    "slideshow": {
     "slide_type": "slide"
    }
   },
   "source": [
    "# Lecture 19 – Choosing Sample Sizes, Statistical Models\n",
    "\n",
    "## DSC 10, Fall 2023"
   ]
  },
  {
   "cell_type": "markdown",
   "metadata": {
    "slideshow": {
     "slide_type": "slide"
    }
   },
   "source": [
    "### Announcements\n",
    "\n",
    "- Quiz 3 is **today in discussion section**. \n",
    "    - It covers Lectures 14 through 17. \n",
    "    - Prepare by solving relevant problems on [practice.dsc10.com](https://practice.dsc10.com/).\n",
    "- Lab 5 is due on **Saturday 11/18 at 11:59PM**.\n",
    "- Homework 5 is due on **Tuesday 11/21 at 11:59PM**."
   ]
  },
  {
   "cell_type": "markdown",
   "metadata": {
    "slideshow": {
     "slide_type": "slide"
    }
   },
   "source": [
    "### Agenda\n",
    "\n",
    "- Recap: The Central Limit Theorem (CLT).\n",
    "- Choosing sample sizes.\n",
    "- Models."
   ]
  },
  {
   "cell_type": "markdown",
   "metadata": {
    "slideshow": {
     "slide_type": "slide"
    }
   },
   "source": [
    "## Recap: The Central Limit Theorem"
   ]
  },
  {
   "cell_type": "code",
   "execution_count": null,
   "metadata": {
    "slideshow": {
     "slide_type": "slide"
    }
   },
   "outputs": [],
   "source": [
    "show_clt_slides()"
   ]
  },
  {
   "cell_type": "markdown",
   "metadata": {
    "slideshow": {
     "slide_type": "slide"
    }
   },
   "source": [
    "### The Central Limit Theorem"
   ]
  },
  {
   "cell_type": "markdown",
   "metadata": {
    "slideshow": {
     "slide_type": "fragment"
    }
   },
   "source": [
    "- The Central Limit Theorem (CLT) says that the probability distribution of the **sum or mean** of a large random sample drawn with replacement will be roughly normal, regardless of the distribution of the population from which the sample is drawn."
   ]
  },
  {
   "cell_type": "markdown",
   "metadata": {
    "slideshow": {
     "slide_type": "fragment"
    }
   },
   "source": [
    "- The distribution of the sample mean is centered at the population mean, and its standard deviation is \n",
    "\n",
    "$$\\text{SD of Distribution of Possible Sample Means} = \\frac{\\text{Population SD}}{\\sqrt{\\text{sample size}}}$$"
   ]
  },
  {
   "cell_type": "markdown",
   "metadata": {
    "slideshow": {
     "slide_type": "fragment"
    }
   },
   "source": [
    "- When we collect a single sample, we won't know the population mean or SD, so we'll use the sample mean and SD as approximations."
   ]
  },
  {
   "cell_type": "markdown",
   "metadata": {
    "slideshow": {
     "slide_type": "fragment"
    }
   },
   "source": [
    "- **Key idea: The CLT allows us to estimate the distribution of the sample mean, given just a single sample, without having to bootstrap!**"
   ]
  },
  {
   "cell_type": "markdown",
   "metadata": {
    "slideshow": {
     "slide_type": "slide"
    }
   },
   "source": [
    "### Confidence intervals for the population mean\n",
    "\n",
    "A 95% confidence interval for the population mean is given by\n",
    "\n",
    "$$\n",
    "\\left[\\text{sample mean} - 2\\cdot \\frac{\\text{sample SD}}{\\sqrt{\\text{sample size}}},\n",
    "\\text{sample mean} + 2\\cdot \\frac{\\text{sample SD}}{\\sqrt{\\text{sample size}}}\n",
    "\\right]\n",
    "$$\n",
    "\n",
    "This CI doesn't require bootstrapping, and it only requires three numbers – the sample mean, the sample SD, and the sample size!"
   ]
  },
  {
   "cell_type": "markdown",
   "metadata": {
    "slideshow": {
     "slide_type": "slide"
    }
   },
   "source": [
    "### Bootstrapping vs. the CLT\n",
    "\n",
    "Bootstrapping still has its uses!\n",
    "\n",
    "| | Bootstrapping | CLT |\n",
    "| --- | --- | --- |\n",
    "| **Pro** | Works for many sample statistics <br> (mean, median, standard deviation). | Only requires 3 numbers – <br>the sample mean, sample SD, and sample size. |\n",
    "| **Con** | Very computationally expensive (requires drawing many, <br> many samples from the original sample). | Only works for the sample mean (and sum). | "
   ]
  },
  {
   "cell_type": "markdown",
   "metadata": {
    "slideshow": {
     "slide_type": "slide"
    }
   },
   "source": [
    "### Activity\n",
    "\n",
    "We just saw that when $z = 2$, the following is a 95% confidence interval for the population mean.\n",
    "\n",
    "$$\n",
    "\\left[\\text{sample mean} - z\\cdot \\frac{\\text{sample SD}}{\\sqrt{\\text{sample size}}},\n",
    "\\text{sample mean} + z\\cdot \\frac{\\text{sample SD}}{\\sqrt{\\text{sample size}}}\n",
    "\\right]\n",
    "$$"
   ]
  },
  {
   "cell_type": "markdown",
   "metadata": {
    "slideshow": {
     "slide_type": "fragment"
    }
   },
   "source": [
    "**Question**: What value of $z$ should we use to create an 80% confidence interval? 90%?"
   ]
  },
  {
   "cell_type": "code",
   "execution_count": null,
   "metadata": {},
   "outputs": [],
   "source": [
    "z = widgets.FloatSlider(value=2, min=0,max=4,step=0.05, description='z')\n",
    "ui = widgets.HBox([z])\n",
    "out = widgets.interactive_output(area_within, {'z': z})\n",
    "display(ui, out)"
   ]
  },
  {
   "cell_type": "markdown",
   "metadata": {
    "slideshow": {
     "slide_type": "slide"
    }
   },
   "source": [
    "### Concept Check ✅ – Answer at [cc.dsc10.com](http://cc.dsc10.com) \n",
    "\n",
    "Which one of these histograms corresponds to the distribution of the sample mean for samples of size 100 drawn from a population with mean 50 and SD 20?\n",
    "\n",
    "<center><img src='images/which-histogram.png' width=900></center>"
   ]
  },
  {
   "cell_type": "markdown",
   "metadata": {
    "slideshow": {
     "slide_type": "slide"
    }
   },
   "source": [
    "## Choosing sample sizes"
   ]
  },
  {
   "cell_type": "markdown",
   "metadata": {
    "slideshow": {
     "slide_type": "slide"
    }
   },
   "source": [
    "<center><img src=\"images/bereal.png\" width=50%></center>"
   ]
  },
  {
   "cell_type": "markdown",
   "metadata": {
    "slideshow": {
     "slide_type": "slide"
    }
   },
   "source": [
    "### Polling"
   ]
  },
  {
   "cell_type": "markdown",
   "metadata": {
    "slideshow": {
     "slide_type": "fragment"
    }
   },
   "source": [
    "- You want to estimate the proportion of UCSD students that use BeReal."
   ]
  },
  {
   "cell_type": "markdown",
   "metadata": {
    "slideshow": {
     "slide_type": "fragment"
    }
   },
   "source": [
    "- To do so, you will ask a random sample of UCSD students whether or not they use BeReal."
   ]
  },
  {
   "cell_type": "markdown",
   "metadata": {
    "slideshow": {
     "slide_type": "fragment"
    }
   },
   "source": [
    "- You want to create a confidence interval that has:\n",
    "    - A 95% confidence level.\n",
    "    - A width of at most 0.06.\n",
    "        - The interval (0.21, 0.25) would be fine, but the interval (0.21, 0.28) would not."
   ]
  },
  {
   "cell_type": "markdown",
   "metadata": {
    "slideshow": {
     "slide_type": "fragment"
    }
   },
   "source": [
    "**Question**: How big of a sample do you need? 🤔"
   ]
  },
  {
   "cell_type": "markdown",
   "metadata": {
    "slideshow": {
     "slide_type": "slide"
    }
   },
   "source": [
    "### Aside: Proportions are means!"
   ]
  },
  {
   "cell_type": "markdown",
   "metadata": {
    "slideshow": {
     "slide_type": "fragment"
    }
   },
   "source": [
    "- The sample we collect will consist of only two unique values:\n",
    "    - 1, if the student uses BeReal.\n",
    "    - 0, if they don't."
   ]
  },
  {
   "cell_type": "markdown",
   "metadata": {
    "slideshow": {
     "slide_type": "fragment"
    }
   },
   "source": [
    "- We're interested in the proportion of values in our sample that are 1."
   ]
  },
  {
   "cell_type": "markdown",
   "metadata": {
    "slideshow": {
     "slide_type": "fragment"
    }
   },
   "source": [
    "- This proportion is the same as the mean of our sample!"
   ]
  },
  {
   "cell_type": "markdown",
   "metadata": {
    "slideshow": {
     "slide_type": "fragment"
    }
   },
   "source": [
    "- For instance, suppose our sample is $0, 1, 1, 0, 1$. Then $\\frac{3}{5}$ of the values are $1$. The sample mean is\n",
    "\n",
    "$$\\frac{0 + 1 + 1 + 0 + 1}{5} = \\frac{3}{5}$$"
   ]
  },
  {
   "cell_type": "markdown",
   "metadata": {
    "slideshow": {
     "slide_type": "fragment"
    }
   },
   "source": [
    "**Key takeaway**: The CLT applies in this case as well! The distribution of the proportion of 1s in our sample is roughly normal."
   ]
  },
  {
   "cell_type": "markdown",
   "metadata": {
    "slideshow": {
     "slide_type": "slide"
    }
   },
   "source": [
    "### Our strategy\n",
    "\n",
    "We will:\n",
    "\n",
    "1. Collect a random sample.\n",
    "2. Compute the sample mean (i.e., the proportion of people who say \"yes\").\n",
    "3. Compute the sample standard deviation.\n",
    "4. Construct a 95% confidence interval for the population mean:\n",
    "\n",
    "$$\n",
    "\\left[\n",
    "\\text{sample mean} - 2\\cdot \\frac{\\text{sample SD}}{\\sqrt{\\text{sample size}}}, \\\n",
    "\\text{sample mean} + 2\\cdot \\frac{\\text{sample SD}}{\\sqrt{\\text{sample size}}}\n",
    "\\right]\n",
    "$$"
   ]
  },
  {
   "cell_type": "markdown",
   "metadata": {
    "slideshow": {
     "slide_type": "fragment"
    }
   },
   "source": [
    "Note that the width of our CI is the right endpoint minus the left endpoint:\n",
    "\n",
    "$$\n",
    "\\text{width} = 4 \\cdot \\frac{\\text{sample SD}}{\\sqrt{\\text{sample size}}}\n",
    "$$"
   ]
  },
  {
   "cell_type": "markdown",
   "metadata": {
    "slideshow": {
     "slide_type": "slide"
    }
   },
   "source": [
    "### Our strategy"
   ]
  },
  {
   "cell_type": "markdown",
   "metadata": {
    "slideshow": {
     "slide_type": "fragment"
    }
   },
   "source": [
    "- We want a CI whose width is at most 0.06.\n",
    "\n",
    "$$\\text{width} = 4 \\cdot \\frac{\\text{sample SD}}{\\sqrt{\\text{sample size}}}$$"
   ]
  },
  {
   "cell_type": "markdown",
   "metadata": {
    "slideshow": {
     "slide_type": "fragment"
    }
   },
   "source": [
    "- The width of our confidence interval depends on two things: the sample SD and the sample size."
   ]
  },
  {
   "cell_type": "markdown",
   "metadata": {
    "slideshow": {
     "slide_type": "fragment"
    }
   },
   "source": [
    "- If we know the sample SD, we can find the appropriate sample size by re-arranging the following inequality:\n",
    "\n",
    "$$4 \\cdot \\frac{\\text{sample SD}}{\\sqrt{\\text{sample size}}} \\leq 0.06$$"
   ]
  },
  {
   "cell_type": "markdown",
   "metadata": {
    "slideshow": {
     "slide_type": "fragment"
    }
   },
   "source": [
    "$$\\sqrt{\\text{sample size}} \\geq 4 \\cdot \\frac{\\text{sample SD}}{0.06} \\\\\n",
    "\\implies \\boxed{\\text{sample size} \\geq \\left( 4 \\cdot \\frac{\\text{sample SD}}{0.06} \\right)^2}$$"
   ]
  },
  {
   "cell_type": "markdown",
   "metadata": {
    "slideshow": {
     "slide_type": "fragment"
    }
   },
   "source": [
    "- **Problem**: Before polling, we don't know the sample SD, because we don't have a sample! We don't know the population SD either."
   ]
  },
  {
   "cell_type": "markdown",
   "metadata": {
    "slideshow": {
     "slide_type": "fragment"
    }
   },
   "source": [
    "- **Solution**: Find an upper bound – i.e. the largest possible value – for the sample SD and use that."
   ]
  },
  {
   "cell_type": "markdown",
   "metadata": {
    "slideshow": {
     "slide_type": "slide"
    }
   },
   "source": [
    "### Upper bound for the standard deviation of a sample"
   ]
  },
  {
   "cell_type": "markdown",
   "metadata": {
    "slideshow": {
     "slide_type": "fragment"
    }
   },
   "source": [
    "- Without any information about the values in a sample, we can't make any guarantees about the standard deviation of the sample."
   ]
  },
  {
   "cell_type": "markdown",
   "metadata": {
    "slideshow": {
     "slide_type": "fragment"
    }
   },
   "source": [
    "- However, in this case, we know that the only values in our sample will be 0 (\"no\") and 1 (\"yes\")."
   ]
  },
  {
   "cell_type": "markdown",
   "metadata": {
    "slideshow": {
     "slide_type": "fragment"
    }
   },
   "source": [
    "- In Homework 5, we introduce a formula for the standard deviation of a collection of 0s and 1s:\n",
    "\n",
    "$$\\text{SD of Collection of 0s and 1s} = \\sqrt{(\\text{Prop. of 0s}) \\times (\\text{Prop. of 1s})}$$"
   ]
  },
  {
   "cell_type": "code",
   "execution_count": null,
   "metadata": {},
   "outputs": [],
   "source": [
    "# Plot the SD of a collection of 0s and 1s with p proportion of Os.\n",
    "p = np.arange(0, 1.01, 0.01)\n",
    "sd = np.sqrt(p * (1 - p))\n",
    "plt.plot(p, sd)\n",
    "plt.xlabel('p')\n",
    "plt.ylabel(r'$\\sqrt{p(1-p)}$');"
   ]
  },
  {
   "cell_type": "markdown",
   "metadata": {
    "slideshow": {
     "slide_type": "fragment"
    }
   },
   "source": [
    "- **Fact**: The largest possible value of the SD of a collection of 0s and 1s is 0.5. \n",
    "    - This happens when half the values are 0 and half are 1."
   ]
  },
  {
   "cell_type": "markdown",
   "metadata": {
    "slideshow": {
     "slide_type": "slide"
    }
   },
   "source": [
    "### Choosing a sample size"
   ]
  },
  {
   "cell_type": "markdown",
   "metadata": {
    "slideshow": {
     "slide_type": "fragment"
    }
   },
   "source": [
    "- In the sample we will collect, the maximum possible SD is 0.5."
   ]
  },
  {
   "cell_type": "markdown",
   "metadata": {
    "slideshow": {
     "slide_type": "fragment"
    }
   },
   "source": [
    "- Earlier, we saw that to construct a confidence interval with the desired confidence level and width, our sample size needs to satisfy:\n",
    "\n",
    "$$\\text{sample size} \\geq \\left( 4 \\cdot \\frac{\\text{sample SD}}{0.06} \\right)^2$$"
   ]
  },
  {
   "cell_type": "markdown",
   "metadata": {
    "slideshow": {
     "slide_type": "fragment"
    }
   },
   "source": [
    "- Notice that as the sample SD increases, the required sample size increases."
   ]
  },
  {
   "cell_type": "markdown",
   "metadata": {
    "slideshow": {
     "slide_type": "fragment"
    }
   },
   "source": [
    "- By using the maximum possible SD above, **we ensure that we collect a large enough sample, no matter what the population and sample look like**."
   ]
  },
  {
   "cell_type": "markdown",
   "metadata": {
    "slideshow": {
     "slide_type": "slide"
    }
   },
   "source": [
    "### Choosing a sample size\n",
    "\n",
    "$$\\text{sample size} \\geq \\left( 4 \\cdot \\frac{\\text{sample SD}}{0.06} \\right)^2$$\n",
    "\n",
    "By substituting 0.5 for the sample size, we get"
   ]
  },
  {
   "cell_type": "markdown",
   "metadata": {
    "slideshow": {
     "slide_type": "fragment"
    }
   },
   "source": [
    "$$\\text{sample size} \\geq \\left( 4 \\cdot \\frac{\\text{0.5}}{0.06} \\right)^2$$"
   ]
  },
  {
   "cell_type": "markdown",
   "metadata": {
    "slideshow": {
     "slide_type": "fragment"
    }
   },
   "source": [
    "While any sample size that satisfies the above inequality will give us a confidence interval that satisfies the necessary properties, it's time-consuming to gather larger samples than necessary. So, we'll pick the **smallest sample size that satisfies the above inequality**."
   ]
  },
  {
   "cell_type": "code",
   "execution_count": null,
   "metadata": {},
   "outputs": [],
   "source": [
    "(4 * 0.5 / 0.06) ** 2"
   ]
  },
  {
   "cell_type": "markdown",
   "metadata": {
    "slideshow": {
     "slide_type": "fragment"
    }
   },
   "source": [
    "**Conclusion**: We must sample **1112 people** to construct a 95% CI for the population mean that is at most 0.06 wide."
   ]
  },
  {
   "cell_type": "markdown",
   "metadata": {
    "slideshow": {
     "slide_type": "slide"
    }
   },
   "source": [
    "### Activity\n",
    "\n",
    "Suppose we instead want an a 95% CI for the population mean that is at most 0.03 wide. What is the smallest sample size we could collect?\n",
    "\n",
    "<br>\n",
    "\n",
    "<details><summary>✅ Click <b>here</b> to see the answer <b>after</b> you've attempted the question yourself.</summary>\n",
    "\n",
    "$$\\text{sample size} \\geq \\left( 4 \\cdot \\frac{\\text{0.5}}{0.03} \\right)^2 = 4444.44$$ \n",
    "Therefore, the smallest sample size we could collect is 4445.\n",
    "    \n",
    "</details>"
   ]
  },
  {
   "cell_type": "markdown",
   "metadata": {
    "slideshow": {
     "slide_type": "slide"
    }
   },
   "source": [
    "## Statistical models"
   ]
  },
  {
   "cell_type": "markdown",
   "metadata": {
    "slideshow": {
     "slide_type": "slide"
    }
   },
   "source": [
    "### Statistical inference\n"
   ]
  },
  {
   "cell_type": "markdown",
   "metadata": {
    "slideshow": {
     "slide_type": "fragment"
    }
   },
   "source": [
    "- So far in the second half of this class, we've focused on the problem of parameter estimation. \n",
    "    - Given a single sample, we can construct a confidence interval using bootstrapping (for most statistics) or the CLT (for the sample mean). \n",
    "    - This confidence interval gives us a range of estimates for a parameter."
   ]
  },
  {
   "cell_type": "markdown",
   "metadata": {
    "slideshow": {
     "slide_type": "fragment"
    }
   },
   "source": [
    "- Next, we'll turn our attention to answering yes-no questions about the relationships between samples and populations.\n",
    "    - Example: Does it look like this jury panel was drawn randomly from this population of eligible jurors?\n",
    "    - Example: Does it look like this sequence of coin tosses was generated by a fair coin?"
   ]
  },
  {
   "cell_type": "markdown",
   "metadata": {
    "slideshow": {
     "slide_type": "fragment"
    }
   },
   "source": [
    "- Both of these problems fall under the umbrella of **statistical inference** – using a sample to draw conclusions about the population."
   ]
  },
  {
   "cell_type": "markdown",
   "metadata": {
    "slideshow": {
     "slide_type": "slide"
    }
   },
   "source": [
    "### Models"
   ]
  },
  {
   "cell_type": "markdown",
   "metadata": {
    "slideshow": {
     "slide_type": "fragment"
    }
   },
   "source": [
    "A model is a set of assumptions about how data was generated."
   ]
  },
  {
   "cell_type": "markdown",
   "metadata": {
    "slideshow": {
     "slide_type": "fragment"
    }
   },
   "source": [
    "<center><img src='images/box.jpg' width=50%></center>"
   ]
  },
  {
   "cell_type": "markdown",
   "metadata": {
    "slideshow": {
     "slide_type": "slide"
    }
   },
   "source": [
    "### Example\n",
    "\n",
    "<center><img src=\"https://upload.wikimedia.org/wikipedia/commons/e/e5/Pisa_experiment.png\" width=500></center>\n",
    "\n",
    "<center><a href=\"https://en.wikipedia.org/wiki/Galileo%27s_Leaning_Tower_of_Pisa_experiment\">Galileo's Leaning Tower of Pisa Experiment</a></center>"
   ]
  },
  {
   "cell_type": "markdown",
   "metadata": {
    "slideshow": {
     "slide_type": "slide"
    }
   },
   "source": [
    "### Goal"
   ]
  },
  {
   "cell_type": "markdown",
   "metadata": {
    "slideshow": {
     "slide_type": "fragment"
    }
   },
   "source": [
    "- Our goal is to **assess the quality of a model**."
   ]
  },
  {
   "cell_type": "markdown",
   "metadata": {
    "slideshow": {
     "slide_type": "fragment"
    }
   },
   "source": [
    "- Suppose we have access to a dataset. What we'll try to do is **determine whether a model \"explains\" the patterns in the dataset**."
   ]
  },
  {
   "cell_type": "markdown",
   "metadata": {
    "slideshow": {
     "slide_type": "slide"
    }
   },
   "source": [
    "## Example: Jury selection"
   ]
  },
  {
   "cell_type": "markdown",
   "metadata": {
    "slideshow": {
     "slide_type": "slide"
    }
   },
   "source": [
    "### Swain vs. Alabama, 1965"
   ]
  },
  {
   "cell_type": "markdown",
   "metadata": {
    "slideshow": {
     "slide_type": "fragment"
    }
   },
   "source": [
    "- Robert Swain was a Black man convicted of crime in Talladega County, Alabama."
   ]
  },
  {
   "cell_type": "markdown",
   "metadata": {
    "slideshow": {
     "slide_type": "fragment"
    }
   },
   "source": [
    "- He appealed the jury's decision all the way to the Supreme Court, on the grounds that Talladega County systematically excluded Black people from juries."
   ]
  },
  {
   "cell_type": "markdown",
   "metadata": {
    "slideshow": {
     "slide_type": "fragment"
    }
   },
   "source": [
    "<center>$\\substack{\\text{eligible} \\\\ \\text{population}}\n",
    "\\xrightarrow{\\substack{\\text{representative} \\\\ \\text{sample}}} \n",
    "\\substack{\\text{jury} \\\\ \\text{panel}}\n",
    "\\xrightarrow{\\substack{\\text{selection by} \\\\ \\text{judge/attorneys}}} \n",
    "\\substack{\\text{actual} \\\\ \\text{jury}}$</center>"
   ]
  },
  {
   "cell_type": "markdown",
   "metadata": {
    "slideshow": {
     "slide_type": "fragment"
    }
   },
   "source": [
    "- At the time, only men 21 years or older were allowed to serve on juries. **26%** of this eligible population was Black."
   ]
  },
  {
   "cell_type": "markdown",
   "metadata": {
    "slideshow": {
     "slide_type": "fragment"
    }
   },
   "source": [
    "- But of the 100 men on Robert Swain's jury panel, only **8** were Black."
   ]
  },
  {
   "cell_type": "markdown",
   "metadata": {
    "slideshow": {
     "slide_type": "slide"
    }
   },
   "source": [
    "### Supreme Court ruling"
   ]
  },
  {
   "cell_type": "markdown",
   "metadata": {
    "slideshow": {
     "slide_type": "fragment"
    }
   },
   "source": [
    "- About disparities between the percentages in the eligible population and the jury panel, the Supreme Court wrote:\n",
    "\n",
    "> \"... the overall percentage disparity has been small...”"
   ]
  },
  {
   "cell_type": "markdown",
   "metadata": {
    "slideshow": {
     "slide_type": "fragment"
    }
   },
   "source": [
    "- The Supreme Court denied Robert Swain’s appeal and he was sentenced to life in prison."
   ]
  },
  {
   "cell_type": "markdown",
   "metadata": {
    "slideshow": {
     "slide_type": "fragment"
    }
   },
   "source": [
    "- We now have the tools to show **quantitatively** that the Supreme Court's claim was misguided."
   ]
  },
  {
   "cell_type": "markdown",
   "metadata": {
    "slideshow": {
     "slide_type": "fragment"
    }
   },
   "source": [
    "- This \"overall percentage disparity\" turns out to be not so small, and is an example of racial bias.\n",
    "    - Jury panels were often made up of people in the jury commissioner's professional and social circles.\n",
    "    - Of the 8 Black men on the jury panel, **none** were selected to be part of the actual jury."
   ]
  },
  {
   "cell_type": "markdown",
   "metadata": {
    "slideshow": {
     "slide_type": "slide"
    }
   },
   "source": [
    "### Setup"
   ]
  },
  {
   "cell_type": "markdown",
   "metadata": {
    "slideshow": {
     "slide_type": "fragment"
    }
   },
   "source": [
    "- <span style=\"color:blue\"><b>Model</b></span>: Jury panels consist of 100 men, **randomly** chosen from a population that is 26% Black."
   ]
  },
  {
   "cell_type": "markdown",
   "metadata": {
    "slideshow": {
     "slide_type": "fragment"
    }
   },
   "source": [
    "- <span style=\"color:orange\"><b>Observation</b></span>: On the actual jury panel, only 8 out of 100 men were Black."
   ]
  },
  {
   "cell_type": "markdown",
   "metadata": {
    "slideshow": {
     "slide_type": "fragment"
    }
   },
   "source": [
    "- **Question**: Does the <span style=\"color:blue\">model</span> explain the <span style=\"color:orange\">observation</span>?"
   ]
  },
  {
   "cell_type": "markdown",
   "metadata": {
    "slideshow": {
     "slide_type": "slide"
    }
   },
   "source": [
    "### Our approach: Simulation"
   ]
  },
  {
   "cell_type": "markdown",
   "metadata": {
    "slideshow": {
     "slide_type": "fragment"
    }
   },
   "source": [
    "- We'll start by assuming that the model is true."
   ]
  },
  {
   "cell_type": "markdown",
   "metadata": {
    "slideshow": {
     "slide_type": "fragment"
    }
   },
   "source": [
    "- We'll generate many jury panels using this assumption."
   ]
  },
  {
   "cell_type": "markdown",
   "metadata": {
    "slideshow": {
     "slide_type": "fragment"
    }
   },
   "source": [
    "- We'll count the number of Black men in each simulated jury panel to see how likely it is for a random panel to contain 8 or fewer Black men.\n",
    "    - If we see 8 or fewer Black men often, then the model seems reasonable.\n",
    "    - If we rarely see 8 or fewer Black men, then the model may not be reasonable. "
   ]
  },
  {
   "cell_type": "markdown",
   "metadata": {
    "slideshow": {
     "slide_type": "slide"
    }
   },
   "source": [
    "### Simulating statistics\n",
    "\n",
    "Recall, a *statistic* is a number calculated from a sample.\n",
    "\n",
    "Our plan:"
   ]
  },
  {
   "cell_type": "markdown",
   "metadata": {
    "slideshow": {
     "slide_type": "fragment"
    }
   },
   "source": [
    "1. Run an experiment once to generate one value of our chosen statistic.\n",
    "    - In this case, sample 100 people randomly from a population that is 26% Black, and count **the number of Black men (statistic)**."
   ]
  },
  {
   "cell_type": "markdown",
   "metadata": {
    "slideshow": {
     "slide_type": "fragment"
    }
   },
   "source": [
    "2. Run the experiment many times, generating many values of the statistic, and store these statistics in an array."
   ]
  },
  {
   "cell_type": "markdown",
   "metadata": {
    "slideshow": {
     "slide_type": "fragment"
    }
   },
   "source": [
    "3. Visualize the resulting **empirical distribution of the statistic**."
   ]
  },
  {
   "cell_type": "markdown",
   "metadata": {
    "slideshow": {
     "slide_type": "slide"
    }
   },
   "source": [
    "### Step 1 – Running the experiment once"
   ]
  },
  {
   "cell_type": "markdown",
   "metadata": {
    "slideshow": {
     "slide_type": "fragment"
    }
   },
   "source": [
    "- How do we randomly sample a jury panel? \n",
    "    - `np.random.choice` won't help us, because we don't know how large the eligible population is."
   ]
  },
  {
   "cell_type": "markdown",
   "metadata": {
    "slideshow": {
     "slide_type": "fragment"
    }
   },
   "source": [
    "- The function `np.random.multinomial` helps us sample at random from a **categorical distribution**."
   ]
  },
  {
   "cell_type": "markdown",
   "metadata": {
    "slideshow": {
     "slide_type": "fragment"
    }
   },
   "source": [
    "```py\n",
    "np.random.multinomial(sample_size, pop_distribution)\n",
    "```"
   ]
  },
  {
   "cell_type": "markdown",
   "metadata": {
    "slideshow": {
     "slide_type": "fragment"
    }
   },
   "source": [
    "- `np.random.multinomial` samples at random from the population, **with replacement**, and returns a random array containing counts in each category.\n",
    "    - `pop_distribution` needs to be an array containing the probabilities of each category."
   ]
  },
  {
   "cell_type": "markdown",
   "metadata": {
    "slideshow": {
     "slide_type": "slide"
    }
   },
   "source": [
    "**Aside: Example usage of `np.random.multinomial`**\n",
    "\n",
    "On Halloween 👻, you trick-or-treated at 35 houses, each of which had an identical candy box, containing:\n",
    "- 30% Starbursts.\n",
    "- 30% Sour Patch Kids.\n",
    "- 40% Twix.\n",
    "\n",
    "At each house, you selected one candy blindly from the candy box.\n",
    "\n",
    "To simulate the act of going to 35 houses, we can use `np.random.multinomial`:"
   ]
  },
  {
   "cell_type": "code",
   "execution_count": null,
   "metadata": {},
   "outputs": [],
   "source": [
    "np.random.multinomial(35, [0.3, 0.3, 0.4])"
   ]
  },
  {
   "cell_type": "markdown",
   "metadata": {
    "slideshow": {
     "slide_type": "slide"
    }
   },
   "source": [
    "### Step 1 – Running the experiment once"
   ]
  },
  {
   "cell_type": "markdown",
   "metadata": {},
   "source": [
    "In our case, a randomly selected member of our population is Black with probability 0.26 and not Black with probability 1 - 0.26 = 0.74."
   ]
  },
  {
   "cell_type": "code",
   "execution_count": null,
   "metadata": {},
   "outputs": [],
   "source": [
    "demographics = [0.26, 0.74]"
   ]
  },
  {
   "cell_type": "markdown",
   "metadata": {},
   "source": [
    "Each time we run the following cell, we'll get a new random sample of 100 people from this population.\n",
    "- The first element of the resulting array is the number of Black men in the sample.\n",
    "- The second element is the number of non-Black men in the sample."
   ]
  },
  {
   "cell_type": "code",
   "execution_count": null,
   "metadata": {},
   "outputs": [],
   "source": [
    "np.random.multinomial(100, demographics)"
   ]
  },
  {
   "cell_type": "markdown",
   "metadata": {
    "slideshow": {
     "slide_type": "slide"
    }
   },
   "source": [
    "### Step 1 – Running the experiment once\n",
    "\n",
    "We also need to calculate the statistic, which in this case is the number of Black men in the random sample of 100."
   ]
  },
  {
   "cell_type": "code",
   "execution_count": null,
   "metadata": {},
   "outputs": [],
   "source": [
    "np.random.multinomial(100, demographics)[0]"
   ]
  },
  {
   "cell_type": "markdown",
   "metadata": {
    "slideshow": {
     "slide_type": "slide"
    }
   },
   "source": [
    "### Step 2 – Repeat the experiment many times\n",
    "\n",
    "* Let's run 10,000 simulations.\n",
    "* We'll keep track of the number of Black men in each simulated jury panel in the array `counts`."
   ]
  },
  {
   "cell_type": "code",
   "execution_count": null,
   "metadata": {},
   "outputs": [],
   "source": [
    "counts = np.array([])\n",
    "\n",
    "for i in np.arange(10000):\n",
    "    new_count = np.random.multinomial(100, demographics)[0]\n",
    "    counts = np.append(counts, new_count)\n",
    "    \n",
    "counts"
   ]
  },
  {
   "cell_type": "markdown",
   "metadata": {
    "slideshow": {
     "slide_type": "slide"
    }
   },
   "source": [
    "### Step 3 – Visualize the resulting distribution\n",
    "\n",
    "Was a jury panel with 8 Black men suspiciously unusual?"
   ]
  },
  {
   "cell_type": "code",
   "execution_count": null,
   "metadata": {
    "scrolled": false
   },
   "outputs": [],
   "source": [
    "(bpd.DataFrame().assign(count_black_men=counts)\n",
    "                .plot(kind='hist', bins = np.arange(9.5, 45, 1), \n",
    "                      density=True, ec='w', figsize=(10, 5),\n",
    "                      title='Empiricial Distribution of the Number of Black Men in Simulated Jury Panels of Size 100'));\n",
    "observed_count = 8\n",
    "plt.axvline(observed_count, color='black', linewidth=4, label='Observed Number of Black Men in Actual Jury Panel')\n",
    "plt.legend();"
   ]
  },
  {
   "cell_type": "code",
   "execution_count": null,
   "metadata": {},
   "outputs": [],
   "source": [
    "# In 10,000 random experiments, the panel with the fewest Black men had how many?\n",
    "counts.min()"
   ]
  },
  {
   "cell_type": "markdown",
   "metadata": {
    "slideshow": {
     "slide_type": "slide"
    }
   },
   "source": [
    "### Conclusion\n",
    "\n",
    "- Our simulation shows that there's essentially no chance that a random sample of 100 men drawn from a population in which 26% of men are Black will contain 8 or fewer Black men.\n",
    "- As a result, it seems that the model we proposed – that the jury panel was drawn at random from the eligible population – is flawed.\n",
    "- There were likely factors **other than chance** that explain why there were only 8 Black men on the jury panel."
   ]
  },
  {
   "cell_type": "markdown",
   "metadata": {
    "slideshow": {
     "slide_type": "slide"
    }
   },
   "source": [
    "## Summary, next time"
   ]
  },
  {
   "cell_type": "markdown",
   "metadata": {
    "slideshow": {
     "slide_type": "slide"
    }
   },
   "source": [
    "### Summary\n",
    "\n",
    "- A 95% confidence interval for the population mean is given by\n",
    "$$\n",
    "\\left[\\text{sample mean} - 2\\cdot \\frac{\\text{sample SD}}{\\sqrt{\\text{sample size}}},\n",
    "\\text{sample mean} + 2\\cdot \\frac{\\text{sample SD}}{\\sqrt{\\text{sample size}}}\n",
    "\\right]\n",
    "$$\n",
    "- If we want to construct a confidence interval of a particular width and confidence level for a population _proportion_:\n",
    "    1. Choose a confidence level (e.g. 95%) and maximum width (e.g. 0.06).\n",
    "    2. Solve for the minimum sample size that satisfies both conditions.\n",
    "    3. Collect a sample of that size.\n",
    "    4. Use the formula above to construct an interval.   \n",
    "- A **model** is an assumption about how data was generated. We're interested in determining the validity a model, given some data we've collected.\n",
    "- When assessing a model, we consider two viewpoints of the world: one where the model is true, and another where the model is false for some reason. "
   ]
  },
  {
   "cell_type": "markdown",
   "metadata": {
    "slideshow": {
     "slide_type": "slide"
    }
   },
   "source": [
    "### Next time\n"
   ]
  },
  {
   "cell_type": "markdown",
   "metadata": {},
   "source": [
    "- Next time, we'll see more examples of testing models and deciding between two viewpoints. \n",
    "- We'll formalize this notion, which is called hypothesis testing."
   ]
  }
 ],
 "metadata": {
  "kernelspec": {
   "display_name": "Python 3 (ipykernel)",
   "language": "python",
   "name": "python3"
  },
  "language_info": {
   "codemirror_mode": {
    "name": "ipython",
    "version": 3
   },
   "file_extension": ".py",
   "mimetype": "text/x-python",
   "name": "python",
   "nbconvert_exporter": "python",
   "pygments_lexer": "ipython3",
   "version": "3.9.13"
  },
  "livereveal": {
   "scroll": true,
   "transition": "none"
  },
  "rise": {
   "enable_chalkboard": true
  }
 },
 "nbformat": 4,
 "nbformat_minor": 2
}
