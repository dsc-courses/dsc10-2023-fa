{
 "cells": [
  {
   "cell_type": "code",
   "execution_count": null,
   "metadata": {
    "slideshow": {
     "slide_type": "skip"
    }
   },
   "outputs": [],
   "source": [
    "# Set up packages for lecture. Don't worry about understanding this code,\n",
    "# but make sure to run it if you're following along.\n",
    "import numpy as np\n",
    "import babypandas as bpd\n",
    "import pandas as pd\n",
    "from matplotlib_inline.backend_inline import set_matplotlib_formats\n",
    "import matplotlib.pyplot as plt\n",
    "set_matplotlib_formats(\"svg\")\n",
    "plt.style.use('ggplot')\n",
    "\n",
    "np.set_printoptions(threshold=20, precision=2, suppress=True)\n",
    "pd.set_option(\"display.max_rows\", 7)\n",
    "pd.set_option(\"display.max_columns\", 8)\n",
    "pd.set_option(\"display.precision\", 2)"
   ]
  },
  {
   "cell_type": "markdown",
   "metadata": {
    "slideshow": {
     "slide_type": "slide"
    }
   },
   "source": [
    "# Lecture 15 – Models and Viewpoints\n",
    "\n",
    "## DSC 10, Spring 2023"
   ]
  },
  {
   "cell_type": "markdown",
   "metadata": {
    "slideshow": {
     "slide_type": "slide"
    }
   },
   "source": [
    "### Announcements\n",
    "\n",
    "- Midterm Exam scores are available. See [this post](https://edstem.org/us/courses/38383/discussion/3083569) for details.\n",
    "    - Only worth 10%. Take it as a learning experience!\n",
    "    - Sign up for [1-on-1 tutoring](https://edstem.org/us/courses/38383/discussion/3089634) to review your exam with a tutor.\n",
    "- The Midterm Project is due **tomorrow at 11:59PM**.\n",
    "    - Slip days can be used if needed. Will detract from both partner's allocation.\n",
    "    - Only **one** partner should submit and \"Add Group Member\" on Gradescope.\n",
    "- Lab 4 is due on **Saturday 5/13 at 11:59PM**.\n",
    "- The Grade Report on Gradescope now includes your scores on the Midterm Exam, Homework 3, and Discussion 5.\n",
    "- **There won't be live lecture on Wednesday (Lecture 16) or Friday (Lecture 17), since I'll be at a conference. Instead, we've posted podcasts from an earlier version of the course. The content is core, so make sure to watch it.**\n",
    "    - The Lecture 16 and 17 notebooks and videos have already been posted.\n",
    "    - On Wednesday from 1-1:50PM in Center 109, tutors will go over commonly missed questions from the Midterm Exam."
   ]
  },
  {
   "cell_type": "markdown",
   "metadata": {
    "slideshow": {
     "slide_type": "slide"
    }
   },
   "source": [
    "### Agenda\n",
    "\n",
    "- Statistical models.\n",
    "- Example: Jury selection.\n",
    "- Example: Genetics of peas 🟢.\n",
    "- Viewpoints and test statistics.\n",
    "- Example: Is our coin fair?\n",
    "\n",
    "🚨 The second half of the course is more conceptual than the first. Reading the [textbook](https://inferentialthinking.com/chapters/intro.html) (and coming to lecture) will become even more important."
   ]
  },
  {
   "cell_type": "markdown",
   "metadata": {
    "slideshow": {
     "slide_type": "slide"
    }
   },
   "source": [
    "## Statistical models"
   ]
  },
  {
   "cell_type": "markdown",
   "metadata": {
    "slideshow": {
     "slide_type": "slide"
    }
   },
   "source": [
    "### Models"
   ]
  },
  {
   "cell_type": "markdown",
   "metadata": {
    "slideshow": {
     "slide_type": "fragment"
    }
   },
   "source": [
    "A model is a set of assumptions about how data was generated."
   ]
  },
  {
   "cell_type": "markdown",
   "metadata": {
    "slideshow": {
     "slide_type": "fragment"
    }
   },
   "source": [
    "<center><img src='data/box.jpg' width=50%></center>"
   ]
  },
  {
   "cell_type": "markdown",
   "metadata": {
    "slideshow": {
     "slide_type": "slide"
    }
   },
   "source": [
    "### Example\n",
    "\n",
    "<center><img src=\"https://upload.wikimedia.org/wikipedia/commons/e/e5/Pisa_experiment.png\" width=500></center>\n",
    "\n",
    "<center><a href=\"https://en.wikipedia.org/wiki/Galileo%27s_Leaning_Tower_of_Pisa_experiment\">Galileo's Leaning Tower of Pisa Experiment</a></center>"
   ]
  },
  {
   "cell_type": "markdown",
   "metadata": {
    "slideshow": {
     "slide_type": "slide"
    }
   },
   "source": [
    "### Goal"
   ]
  },
  {
   "cell_type": "markdown",
   "metadata": {
    "slideshow": {
     "slide_type": "fragment"
    }
   },
   "source": [
    "- Our goal is to **assess the quality of a model**."
   ]
  },
  {
   "cell_type": "markdown",
   "metadata": {
    "slideshow": {
     "slide_type": "fragment"
    }
   },
   "source": [
    "- Suppose we have access to a dataset. What we'll try to do is **determine whether a model \"explains\" the patterns in the dataset**."
   ]
  },
  {
   "cell_type": "markdown",
   "metadata": {
    "slideshow": {
     "slide_type": "slide"
    }
   },
   "source": [
    "## Example: Jury selection"
   ]
  },
  {
   "cell_type": "markdown",
   "metadata": {
    "slideshow": {
     "slide_type": "slide"
    }
   },
   "source": [
    "### Swain vs. Alabama, 1965"
   ]
  },
  {
   "cell_type": "markdown",
   "metadata": {
    "slideshow": {
     "slide_type": "fragment"
    }
   },
   "source": [
    "- Robert Swain was a Black man convicted of crime in Talladega County, Alabama."
   ]
  },
  {
   "cell_type": "markdown",
   "metadata": {
    "slideshow": {
     "slide_type": "fragment"
    }
   },
   "source": [
    "- He appealed the jury's decision all the way to the Supreme Court, on the grounds that Talladega County systematically excluded Black people from juries."
   ]
  },
  {
   "cell_type": "markdown",
   "metadata": {
    "slideshow": {
     "slide_type": "fragment"
    }
   },
   "source": [
    "<center>$\\substack{\\text{eligible} \\\\ \\text{population}}\n",
    "\\xrightarrow{\\substack{\\text{representative} \\\\ \\text{sample}}} \n",
    "\\substack{\\text{jury} \\\\ \\text{panel}}\n",
    "\\xrightarrow{\\substack{\\text{selection by} \\\\ \\text{judge/attorneys}}} \n",
    "\\substack{\\text{actual} \\\\ \\text{jury}}$</center>"
   ]
  },
  {
   "cell_type": "markdown",
   "metadata": {
    "slideshow": {
     "slide_type": "fragment"
    }
   },
   "source": [
    "- At the time, only men 21 years or older were allowed to serve on juries. 26% of this eligible population was Black."
   ]
  },
  {
   "cell_type": "markdown",
   "metadata": {
    "slideshow": {
     "slide_type": "fragment"
    }
   },
   "source": [
    "- But of the 100 men on Robert Swain's jury panel, only 8 were Black."
   ]
  },
  {
   "cell_type": "markdown",
   "metadata": {
    "slideshow": {
     "slide_type": "slide"
    }
   },
   "source": [
    "### Supreme Court ruling"
   ]
  },
  {
   "cell_type": "markdown",
   "metadata": {
    "slideshow": {
     "slide_type": "fragment"
    }
   },
   "source": [
    "- About disparities between the percentages in the eligible population and the jury panel, the Supreme Court wrote:\n",
    "\n",
    "> \"... the overall percentage disparity has been small...”"
   ]
  },
  {
   "cell_type": "markdown",
   "metadata": {
    "slideshow": {
     "slide_type": "fragment"
    }
   },
   "source": [
    "- The Supreme Court denied Robert Swain’s appeal and he was sentenced to life in prison."
   ]
  },
  {
   "cell_type": "markdown",
   "metadata": {
    "slideshow": {
     "slide_type": "fragment"
    }
   },
   "source": [
    "- We now have the tools to show **quantitatively** that the Supreme Court's claim was misguided."
   ]
  },
  {
   "cell_type": "markdown",
   "metadata": {
    "slideshow": {
     "slide_type": "fragment"
    }
   },
   "source": [
    "- This \"overall percentage disparity\" turns out to be not so small, and is an example of racial bias.\n",
    "    - Jury panels were often made up of people in the jury commissioner's professional and social circles.\n",
    "    - Of the 8 Black men on the jury panel, **none** were selected to be part of the actual jury."
   ]
  },
  {
   "cell_type": "markdown",
   "metadata": {
    "slideshow": {
     "slide_type": "slide"
    }
   },
   "source": [
    "### Setup"
   ]
  },
  {
   "cell_type": "markdown",
   "metadata": {
    "slideshow": {
     "slide_type": "fragment"
    }
   },
   "source": [
    "- <span style=\"color:blue\"><b>Model</b></span>: Jury panels consist of 100 men, **randomly** chosen from a population that is 26% Black."
   ]
  },
  {
   "cell_type": "markdown",
   "metadata": {
    "slideshow": {
     "slide_type": "fragment"
    }
   },
   "source": [
    "- <span style=\"color:orange\"><b>Observation</b></span>: On the actual jury panel, only 8 out of 100 men were Black."
   ]
  },
  {
   "cell_type": "markdown",
   "metadata": {
    "slideshow": {
     "slide_type": "fragment"
    }
   },
   "source": [
    "- **Question**: Does the <span style=\"color:blue\">model</span> explain the <span style=\"color:orange\">observation</span>?"
   ]
  },
  {
   "cell_type": "markdown",
   "metadata": {
    "slideshow": {
     "slide_type": "slide"
    }
   },
   "source": [
    "### Our approach: Simulation"
   ]
  },
  {
   "cell_type": "markdown",
   "metadata": {
    "slideshow": {
     "slide_type": "fragment"
    }
   },
   "source": [
    "- We'll start by assuming that the model is true."
   ]
  },
  {
   "cell_type": "markdown",
   "metadata": {
    "slideshow": {
     "slide_type": "fragment"
    }
   },
   "source": [
    "- We'll generate many jury panels using this assumption."
   ]
  },
  {
   "cell_type": "markdown",
   "metadata": {
    "slideshow": {
     "slide_type": "fragment"
    }
   },
   "source": [
    "- We'll count the number of Black men in each simulated jury panel to see how likely it is for a random panel to contain 8 or fewer Black men."
   ]
  },
  {
   "cell_type": "markdown",
   "metadata": {
    "slideshow": {
     "slide_type": "slide"
    }
   },
   "source": [
    "### Simulating statistics\n",
    "\n",
    "Recall, a *statistic* is a number calculated from a sample.\n",
    "\n",
    "Our plan:"
   ]
  },
  {
   "cell_type": "markdown",
   "metadata": {
    "slideshow": {
     "slide_type": "fragment"
    }
   },
   "source": [
    "1. Run an experiment once to generate one value of our chosen statistic.\n",
    "    - In this case, sample 100 people randomly from a population that is 26% Black, and count **the number of Black men (statistic)**."
   ]
  },
  {
   "cell_type": "markdown",
   "metadata": {
    "slideshow": {
     "slide_type": "fragment"
    }
   },
   "source": [
    "2. Run the experiment many times, generating many values of the statistic, and store these statistics in an array."
   ]
  },
  {
   "cell_type": "markdown",
   "metadata": {
    "slideshow": {
     "slide_type": "fragment"
    }
   },
   "source": [
    "3. Visualize the resulting **empirical distribution of the statistic**."
   ]
  },
  {
   "cell_type": "markdown",
   "metadata": {
    "slideshow": {
     "slide_type": "slide"
    }
   },
   "source": [
    "### Step 1 – Running the experiment once"
   ]
  },
  {
   "cell_type": "markdown",
   "metadata": {
    "slideshow": {
     "slide_type": "fragment"
    }
   },
   "source": [
    "- How do we randomly sample a jury panel? \n",
    "    - `np.random.choice` won't help us, because we don't know how large the eligible population is."
   ]
  },
  {
   "cell_type": "markdown",
   "metadata": {
    "slideshow": {
     "slide_type": "fragment"
    }
   },
   "source": [
    "- The function `np.random.multinomial` helps us sample at random from a **categorical distribution**."
   ]
  },
  {
   "cell_type": "markdown",
   "metadata": {
    "slideshow": {
     "slide_type": "fragment"
    }
   },
   "source": [
    "```py\n",
    "np.random.multinomial(sample_size, pop_distribution)\n",
    "```"
   ]
  },
  {
   "cell_type": "markdown",
   "metadata": {
    "slideshow": {
     "slide_type": "fragment"
    }
   },
   "source": [
    "- `np.random.multinomial` samples at random from the population, **with replacement**, and returns a random array containing counts in each category.\n",
    "    - `pop_distribution` needs to be an array containing the probabilities of each category."
   ]
  },
  {
   "cell_type": "markdown",
   "metadata": {
    "slideshow": {
     "slide_type": "slide"
    }
   },
   "source": [
    "**Aside: Example usage of `np.random.multinomial`**\n",
    "\n",
    "On Halloween 👻 you'll trick-or-treat at 35 houses, each of which has an identical candy box, containing:\n",
    "- 30% Starbursts.\n",
    "- 30% Sour Patch Kids.\n",
    "- 40% Twix.\n",
    "\n",
    "At each house, you'll select one candy blindly from the candy box.\n",
    "\n",
    "To simulate the act of going to 35 houses, we can use `np.random.multinomial`:"
   ]
  },
  {
   "cell_type": "code",
   "execution_count": null,
   "metadata": {},
   "outputs": [],
   "source": [
    "np.random.multinomial(35, [0.3, 0.3, 0.4])"
   ]
  },
  {
   "cell_type": "markdown",
   "metadata": {
    "slideshow": {
     "slide_type": "slide"
    }
   },
   "source": [
    "### Step 1 – Running the experiment once"
   ]
  },
  {
   "cell_type": "markdown",
   "metadata": {},
   "source": [
    "In our case, a randomly selected member of our population is Black with probability 0.26 and not Black with probability 1 - 0.26 = 0.74."
   ]
  },
  {
   "cell_type": "code",
   "execution_count": null,
   "metadata": {},
   "outputs": [],
   "source": [
    "demographics = [0.26, 0.74]"
   ]
  },
  {
   "cell_type": "markdown",
   "metadata": {},
   "source": [
    "Each time we run the following cell, we'll get a new random sample of 100 people from this population.\n",
    "- The first element of the resulting array is the number of Black men in the sample.\n",
    "- The second element is the number of non-Black men in the sample."
   ]
  },
  {
   "cell_type": "code",
   "execution_count": null,
   "metadata": {},
   "outputs": [],
   "source": [
    "np.random.multinomial(100, demographics)"
   ]
  },
  {
   "cell_type": "markdown",
   "metadata": {
    "slideshow": {
     "slide_type": "slide"
    }
   },
   "source": [
    "### Step 1 – Running the experiment once\n",
    "\n",
    "We also need to calculate the statistic, which in this case is the number of Black men in the random sample of 100."
   ]
  },
  {
   "cell_type": "code",
   "execution_count": null,
   "metadata": {},
   "outputs": [],
   "source": [
    "np.random.multinomial(100, demographics)[0]"
   ]
  },
  {
   "cell_type": "markdown",
   "metadata": {
    "slideshow": {
     "slide_type": "slide"
    }
   },
   "source": [
    "### Step 2 – Repeat the experiment many times\n",
    "\n",
    "* Let's run 10,000 simulations.\n",
    "* We'll keep track of the number of Black men in each simulated jury panel in the array `counts`."
   ]
  },
  {
   "cell_type": "code",
   "execution_count": null,
   "metadata": {},
   "outputs": [],
   "source": [
    "counts = np.array([])\n",
    "\n",
    "for i in np.arange(10000):\n",
    "    new_count = np.random.multinomial(100, demographics)[0]\n",
    "    counts = np.append(counts, new_count)"
   ]
  },
  {
   "cell_type": "code",
   "execution_count": null,
   "metadata": {},
   "outputs": [],
   "source": [
    "counts"
   ]
  },
  {
   "cell_type": "markdown",
   "metadata": {
    "slideshow": {
     "slide_type": "slide"
    }
   },
   "source": [
    "### Step 3 – Visualize the resulting distribution\n",
    "\n",
    "Was a jury panel with 8 Black men suspiciously unusual?"
   ]
  },
  {
   "cell_type": "code",
   "execution_count": null,
   "metadata": {
    "scrolled": false
   },
   "outputs": [],
   "source": [
    "(bpd.DataFrame().assign(count_black_men=counts)\n",
    "                .plot(kind='hist', bins = np.arange(9.5, 45, 1), \n",
    "                      density=True, ec='w', figsize=(10, 5),\n",
    "                      title='Empiricial Distribution of the Number of Black Men in Simulated Jury Panels of Size 100'));\n",
    "observed_count = 8\n",
    "plt.axvline(observed_count, color='black', linewidth=4, label='Observed Number of Black Men in Actual Jury Panel')\n",
    "plt.legend();"
   ]
  },
  {
   "cell_type": "code",
   "execution_count": null,
   "metadata": {},
   "outputs": [],
   "source": [
    "# In 10,000 random experiments, the panel with the fewest Black men had how many?\n",
    "counts.min()"
   ]
  },
  {
   "cell_type": "markdown",
   "metadata": {
    "slideshow": {
     "slide_type": "slide"
    }
   },
   "source": [
    "### Conclusion\n",
    "\n",
    "- Our simulation shows that there's essentially no chance that a random sample of 100 men drawn from a population in which 26% of men are Black will contain 8 or fewer Black men.\n",
    "- As a result, it seems that the model we proposed – that the jury panel was drawn at random from the eligible population – is flawed.\n",
    "- There were likely factors **other than chance** that explain why there were only 8 Black men on the jury panel."
   ]
  },
  {
   "cell_type": "markdown",
   "metadata": {
    "slideshow": {
     "slide_type": "slide"
    }
   },
   "source": [
    "## Example: Genetics of peas 🟢"
   ]
  },
  {
   "cell_type": "markdown",
   "metadata": {
    "slideshow": {
     "slide_type": "slide"
    }
   },
   "source": [
    "### Gregor Mendel, 1822-1884\n",
    "\n",
    "<center><img src=\"data/mendel-face.png\" width=65%></center>\n",
    "\n",
    "Mendel is known as the father of genetics. Many of his experiments involved pea plants. "
   ]
  },
  {
   "cell_type": "markdown",
   "metadata": {
    "slideshow": {
     "slide_type": "slide"
    }
   },
   "source": [
    "### Mendel's model and observation"
   ]
  },
  {
   "cell_type": "markdown",
   "metadata": {
    "slideshow": {
     "slide_type": "fragment"
    }
   },
   "source": [
    "- One type of pea plant that Mendel studied had flowers that were either purple or white."
   ]
  },
  {
   "cell_type": "markdown",
   "metadata": {
    "slideshow": {
     "slide_type": "fragment"
    }
   },
   "source": [
    "- <span style=\"color:blue\"><b>Mendel’s model</b></span>: Each plant has a 75% chance of growing purple flowers and a 25% chance of growing white flowers, independent of the colors of the other plants."
   ]
  },
  {
   "cell_type": "markdown",
   "metadata": {
    "slideshow": {
     "slide_type": "fragment"
    }
   },
   "source": [
    "- <span style=\"color:orange\"><b>Mendel’s observation</b></span>: Of the 929 pea plants he grew, 705 of them had purple flowers."
   ]
  },
  {
   "cell_type": "markdown",
   "metadata": {
    "slideshow": {
     "slide_type": "fragment"
    }
   },
   "source": [
    "- **Question**: Does Mendel's <span style=\"color:blue\">model</span> explain his <span style=\"color:orange\">observation</span>?"
   ]
  },
  {
   "cell_type": "markdown",
   "metadata": {
    "slideshow": {
     "slide_type": "slide"
    }
   },
   "source": [
    "### Choosing a statistic for simulation"
   ]
  },
  {
   "cell_type": "markdown",
   "metadata": {
    "slideshow": {
     "slide_type": "fragment"
    }
   },
   "source": [
    "- Plan: We'll start by assuming the model is true, and repeatedly draw samples of 929 pea plants from a population that is 75% purple and 25% white."
   ]
  },
  {
   "cell_type": "markdown",
   "metadata": {
    "slideshow": {
     "slide_type": "fragment"
    }
   },
   "source": [
    "- Each time, compute the proportion of plants in the sample with purple flowers. If that proportion is **much larger or much smaller** than 0.75, that is evidence against the model!"
   ]
  },
  {
   "cell_type": "markdown",
   "metadata": {
    "slideshow": {
     "slide_type": "fragment"
    }
   },
   "source": [
    "- One of the many possible statistics that encapsulates this logic:\n",
    "\n",
    "$$| \\text{sample proportion of plants with purple flowers} - 0.75 |$$"
   ]
  },
  {
   "cell_type": "code",
   "execution_count": null,
   "metadata": {},
   "outputs": [],
   "source": [
    "model = [0.75, 0.25]"
   ]
  },
  {
   "cell_type": "code",
   "execution_count": null,
   "metadata": {},
   "outputs": [],
   "source": [
    "# Draw 929 plants and calculate the proportion of plants with purple flowers.\n",
    "np.random.multinomial(929,  model)[0] / 929"
   ]
  },
  {
   "cell_type": "markdown",
   "metadata": {
    "slideshow": {
     "slide_type": "slide"
    }
   },
   "source": [
    "### Simulating Mendel's experiment\n",
    "- Mendel grew 929 pea plants.\n",
    "- We will simulate the act of growing 929 pea plants many times, using Mendel's model, and look at the resulting values of the statistic we chose."
   ]
  },
  {
   "cell_type": "code",
   "execution_count": null,
   "metadata": {},
   "outputs": [],
   "source": [
    "distances = np.array([])\n",
    "\n",
    "for i in np.arange(10000):\n",
    "    # Remember, model here is [0.75, 0.25].\n",
    "    prop_purple = np.random.multinomial(929,  model)[0] / 929\n",
    "    distance = abs(prop_purple - 0.75)\n",
    "    distances = np.append(distances, distance)"
   ]
  },
  {
   "cell_type": "code",
   "execution_count": null,
   "metadata": {},
   "outputs": [],
   "source": [
    "bpd.DataFrame().assign(simulated_abs_differences=distances) \\\n",
    "               .plot(kind='hist', bins=np.arange(0, 0.055, 0.0025),\n",
    "                     density=True, ec='w', figsize=(10, 5),\n",
    "                     title='Empirical Distribution of the Statistic | proportion purple - 0.75 |');"
   ]
  },
  {
   "cell_type": "markdown",
   "metadata": {
    "slideshow": {
     "slide_type": "fragment"
    }
   },
   "source": [
    "Without context, these numbers aren't helpful – we need to see where the value of the statistic in Mendel's original observation lies in this distribution!"
   ]
  },
  {
   "cell_type": "markdown",
   "metadata": {
    "slideshow": {
     "slide_type": "slide"
    }
   },
   "source": [
    "### Mendel's experiment\n",
    "- Of the 929 pea plants that Mendel grew, 705 had purple flowers.\n",
    "- Where does the **observed statistic** lie on the empirical distribution we just computed?"
   ]
  },
  {
   "cell_type": "code",
   "execution_count": null,
   "metadata": {},
   "outputs": [],
   "source": [
    "observed_distance = abs(705 / 929 - 0.75)\n",
    "observed_distance"
   ]
  },
  {
   "cell_type": "code",
   "execution_count": null,
   "metadata": {},
   "outputs": [],
   "source": [
    "%%capture mendel_plot\n",
    "\n",
    "bpd.DataFrame().assign(simulated_absolute_differences=distances) \\\n",
    "               .plot(kind='hist', bins=np.arange(0, 0.055, 0.0025),\n",
    "                     density=True, ec='w', figsize=(10, 5),\n",
    "                     title='Empirical Distribution of the Statistic | proportion purple - 0.75 |');\n",
    "plt.axvline(observed_distance, color='black', linewidth=4, label='Observed Value of the Statistic | proportion purple - 0.75 |')\n",
    "plt.legend()"
   ]
  },
  {
   "cell_type": "code",
   "execution_count": null,
   "metadata": {},
   "outputs": [],
   "source": [
    "mendel_plot()"
   ]
  },
  {
   "cell_type": "markdown",
   "metadata": {
    "slideshow": {
     "slide_type": "slide"
    }
   },
   "source": [
    "### Was Mendel's model any good?"
   ]
  },
  {
   "cell_type": "markdown",
   "metadata": {
    "slideshow": {
     "slide_type": "fragment"
    }
   },
   "source": [
    "- The empirical distribution we just drew (red histogram) shows the distribution of our statistic, $$| \\text{sample proportion of plants with purple flowers} - 0.75 |$$ for many different samples created according to Mendel's model."
   ]
  },
  {
   "cell_type": "markdown",
   "metadata": {
    "slideshow": {
     "slide_type": "fragment"
    }
   },
   "source": [
    "- The statistic calculated for his observation (black line), where 705 of 929 plants had purple flowers, seems like a pretty typical value according to the model."
   ]
  },
  {
   "cell_type": "markdown",
   "metadata": {
    "slideshow": {
     "slide_type": "fragment"
    }
   },
   "source": [
    "- Thus, it seems that according to the data we have, the model is reasonable. It does seem like Mendel's model explains his observation."
   ]
  },
  {
   "cell_type": "markdown",
   "metadata": {
    "slideshow": {
     "slide_type": "slide"
    }
   },
   "source": [
    "### Mendelian inheritance\n",
    "\n",
    "<center><img src='./data/mendel.png' width=\"400\" height=\"400\" /></center>"
   ]
  },
  {
   "cell_type": "markdown",
   "metadata": {
    "slideshow": {
     "slide_type": "slide"
    }
   },
   "source": [
    "## Viewpoints and test statistics"
   ]
  },
  {
   "cell_type": "markdown",
   "metadata": {
    "slideshow": {
     "slide_type": "slide"
    }
   },
   "source": [
    "### Choosing one of two viewpoints\n",
    "\n",
    "**Goal**: Choose between two views of the world, based on data in a sample."
   ]
  },
  {
   "cell_type": "markdown",
   "metadata": {
    "slideshow": {
     "slide_type": "fragment"
    }
   },
   "source": [
    "- \"This jury panel was selected at random.\" OR \"This jury panel was not selected at random, since there weren't enough Black men on it.\""
   ]
  },
  {
   "cell_type": "markdown",
   "metadata": {
    "slideshow": {
     "slide_type": "fragment"
    }
   },
   "source": [
    "- \"The probability of a pea plant having purple flowers is 75%.\" OR \"The probability of a pea plant having purple flowers is not 75%.\""
   ]
  },
  {
   "cell_type": "markdown",
   "metadata": {
    "slideshow": {
     "slide_type": "fragment"
    }
   },
   "source": [
    "- **How do we choose between viewpoints?**"
   ]
  },
  {
   "cell_type": "markdown",
   "metadata": {
    "slideshow": {
     "slide_type": "slide"
    }
   },
   "source": [
    "### Test statistics\n",
    "\n",
    "**How do we choose between viewpoints?**"
   ]
  },
  {
   "cell_type": "markdown",
   "metadata": {
    "slideshow": {
     "slide_type": "fragment"
    }
   },
   "source": [
    "**Step 1**: Start by assuming one of the viewpoints is true."
   ]
  },
  {
   "cell_type": "markdown",
   "metadata": {
    "slideshow": {
     "slide_type": "fragment"
    }
   },
   "source": [
    "**Step 2**: Simulate many samples according to that viewpoint."
   ]
  },
  {
   "cell_type": "markdown",
   "metadata": {
    "slideshow": {
     "slide_type": "fragment"
    }
   },
   "source": [
    "- For each sample, we calculate a single number – that is, a statistic.\n",
    "    - Jury panel: # of Black men.\n",
    "    - Pea plants: $ | \\text{proportion purple} - 0.75 | $."
   ]
  },
  {
   "cell_type": "markdown",
   "metadata": {
    "slideshow": {
     "slide_type": "fragment"
    }
   },
   "source": [
    "- This single number is called the **test statistic** since we use it when \"testing\" which viewpoint the data better supports."
   ]
  },
  {
   "cell_type": "markdown",
   "metadata": {
    "slideshow": {
     "slide_type": "fragment"
    }
   },
   "source": [
    "- Think of the test statistic as the number you record each time you perform an experiment."
   ]
  },
  {
   "cell_type": "markdown",
   "metadata": {
    "slideshow": {
     "slide_type": "slide"
    }
   },
   "source": [
    "### Choosing between viewpoints\n",
    "\n",
    "**Step 3**: Ask whether the **observed value of the test statistic** (black line) is consistent with the **simulated distribution of the test statistic** (red histogram)."
   ]
  },
  {
   "cell_type": "code",
   "execution_count": null,
   "metadata": {},
   "outputs": [],
   "source": [
    "# Our most recent example.\n",
    "mendel_plot()"
   ]
  },
  {
   "cell_type": "markdown",
   "metadata": {
    "slideshow": {
     "slide_type": "fragment"
    }
   },
   "source": [
    "- If so, we _think_ the viewpoint we used for the simulation is correct, so we **fail to reject** the viewpoint that we used for simulation."
   ]
  },
  {
   "cell_type": "markdown",
   "metadata": {
    "slideshow": {
     "slide_type": "fragment"
    }
   },
   "source": [
    "- If not, we _think_ the other viewpoint is correct, and we **reject** the viewpoint that we used for simulation."
   ]
  },
  {
   "cell_type": "markdown",
   "metadata": {
    "slideshow": {
     "slide_type": "slide"
    }
   },
   "source": [
    "## Example: Is our coin fair?"
   ]
  },
  {
   "cell_type": "markdown",
   "metadata": {
    "slideshow": {
     "slide_type": "slide"
    }
   },
   "source": [
    "### Example: Is our coin fair?\n",
    "\n",
    "- Let's suppose we find a coin on the ground and we aren't sure whether it's fair.\n",
    "- We flip the coin 400 times. Our results are recorded in the `flips_400` array below."
   ]
  },
  {
   "cell_type": "code",
   "execution_count": null,
   "metadata": {},
   "outputs": [],
   "source": [
    "flips_400 = bpd.read_csv('data/flips.csv').get('flips').values\n",
    "flips_400"
   ]
  },
  {
   "cell_type": "code",
   "execution_count": null,
   "metadata": {},
   "outputs": [],
   "source": [
    "heads = np.count_nonzero(flips_400 == 'Heads')\n",
    "heads"
   ]
  },
  {
   "cell_type": "code",
   "execution_count": null,
   "metadata": {},
   "outputs": [],
   "source": [
    "tails = len(flips_400) - heads\n",
    "tails"
   ]
  },
  {
   "cell_type": "markdown",
   "metadata": {
    "slideshow": {
     "slide_type": "fragment"
    }
   },
   "source": [
    "Let's put these values in an array, since our simulations will also result in arrays."
   ]
  },
  {
   "cell_type": "code",
   "execution_count": null,
   "metadata": {},
   "outputs": [],
   "source": [
    "flips = np.array([heads, tails])\n",
    "flips"
   ]
  },
  {
   "cell_type": "markdown",
   "metadata": {
    "slideshow": {
     "slide_type": "slide"
    }
   },
   "source": [
    "### Designing a test statistic for a pair of viewpoints\n",
    "\n",
    "Let's consider the pair of viewpoints “This coin is fair.” OR “This coin is not fair.\""
   ]
  },
  {
   "cell_type": "markdown",
   "metadata": {
    "slideshow": {
     "slide_type": "fragment"
    }
   },
   "source": [
    "- If we observe a large number of heads or a small number of heads, this suggests that the coin is \"not fair\"."
   ]
  },
  {
   "cell_type": "markdown",
   "metadata": {
    "slideshow": {
     "slide_type": "fragment"
    }
   },
   "source": [
    "- As such, our test statistic should capture how far our number of heads is from that of a fair coin."
   ]
  },
  {
   "cell_type": "markdown",
   "metadata": {
    "slideshow": {
     "slide_type": "fragment"
    }
   },
   "source": [
    "- One idea: $| \\text{number of heads} - 200 |$.\n",
    "    - If this number is large, that's evidence that the coin is not fair.\n",
    "    - If this number is small, that's evidence that the coin is fair."
   ]
  },
  {
   "cell_type": "code",
   "execution_count": null,
   "metadata": {},
   "outputs": [],
   "source": [
    "def dist_from_200(arr):\n",
    "    heads = arr[0]\n",
    "    return abs(heads - 200)"
   ]
  },
  {
   "cell_type": "code",
   "execution_count": null,
   "metadata": {},
   "outputs": [],
   "source": [
    "dist_from_200(flips)"
   ]
  },
  {
   "cell_type": "markdown",
   "metadata": {
    "slideshow": {
     "slide_type": "slide"
    }
   },
   "source": [
    "### Simulating a fair coin"
   ]
  },
  {
   "cell_type": "markdown",
   "metadata": {
    "slideshow": {
     "slide_type": "fragment"
    }
   },
   "source": [
    "- Define the model for a fair coin (done)."
   ]
  },
  {
   "cell_type": "markdown",
   "metadata": {
    "slideshow": {
     "slide_type": "fragment"
    }
   },
   "source": [
    "- Define the test statistic (done)."
   ]
  },
  {
   "cell_type": "markdown",
   "metadata": {
    "slideshow": {
     "slide_type": "fragment"
    }
   },
   "source": [
    "- Run the simulation: Flip the coin 400 times, calculate the test statistic, and add it to a `results` array. Repeat this process many, many times."
   ]
  },
  {
   "cell_type": "markdown",
   "metadata": {
    "slideshow": {
     "slide_type": "fragment"
    }
   },
   "source": [
    "- Plot a histogram of `results`."
   ]
  },
  {
   "cell_type": "code",
   "execution_count": null,
   "metadata": {},
   "outputs": [],
   "source": [
    "model = [0.5, 0.5]\n",
    "\n",
    "repetitions = 10000\n",
    "results = np.array([])\n",
    "for i in np.arange(repetitions):\n",
    "    coins = np.random.multinomial(400, model)\n",
    "    result = dist_from_200(coins)\n",
    "    results = np.append(results, result)\n",
    "\n",
    "results"
   ]
  },
  {
   "cell_type": "code",
   "execution_count": null,
   "metadata": {},
   "outputs": [],
   "source": [
    "bpd.DataFrame().assign(results=results).plot(kind='hist', bins=np.arange(0, 40, 2), \n",
    "                                             density=True, ec='w', figsize=(10, 5),\n",
    "                                             title='Empirical Distribution of the Statistic | Number of Heads - 200 |');\n",
    "plt.axvline(dist_from_200(flips), color='black', linewidth=4, label='Observed Value of the Statistic | Number of Heads - 200 |')\n",
    "plt.legend();"
   ]
  },
  {
   "cell_type": "markdown",
   "metadata": {},
   "source": [
    "- The distance between the number of heads in our observed sample (188) and 200 is 12, which is a typical value under the assumption that the coin is fair.\n",
    "- We don't have evidence to deny the viewpoint \"The coin is fair,\" so that's what we side with."
   ]
  },
  {
   "cell_type": "markdown",
   "metadata": {
    "slideshow": {
     "slide_type": "slide"
    }
   },
   "source": [
    "### Concept Check ✅ – Answer at [cc.dsc10.com](http://cc.dsc10.com) \n",
    "\n",
    "Let's now consider the pair of viewpoints “This coin is fair.” OR “This coin is **biased towards heads**.” Which test statistic would be appropriate?\n",
    "\n",
    "- A) $| \\text{number of heads} - 200 |$.\n",
    "- B) $\\text{number of heads}$.\n",
    "- C) Both are appropriate.\n",
    "- D) Neither is appropriate."
   ]
  },
  {
   "cell_type": "markdown",
   "metadata": {
    "slideshow": {
     "slide_type": "slide"
    }
   },
   "source": [
    "### Another pair of viewpoints"
   ]
  },
  {
   "cell_type": "markdown",
   "metadata": {
    "slideshow": {
     "slide_type": "fragment"
    }
   },
   "source": [
    "- If our two viewpoints are “This coin is fair.” OR “This coin is **biased towards heads**,\" the test statistic $| \\text{number of heads} - 200 |$ **won't work**. Why not?"
   ]
  },
  {
   "cell_type": "markdown",
   "metadata": {
    "slideshow": {
     "slide_type": "fragment"
    }
   },
   "source": [
    "- In our current example, the value of the statistic $| \\text{number of heads} - 200 |$ is 12. However, given just this information, we can't tell whether we saw:\n",
    "    - 212 heads, which would be evidence that the coin is biased towards heads.\n",
    "    - 188 heads, which would not be evidence that the coin is biased towards heads."
   ]
  },
  {
   "cell_type": "markdown",
   "metadata": {
    "slideshow": {
     "slide_type": "fragment"
    }
   },
   "source": [
    "- As such, for this pair of viewpoints, we need another test statistic."
   ]
  },
  {
   "cell_type": "markdown",
   "metadata": {
    "slideshow": {
     "slide_type": "fragment"
    }
   },
   "source": [
    "- Idea: $\\text{number of heads}$.\n",
    "    - If this number is large, that's evidence that the coin is biased towards heads.\n",
    "    - If this number is small, that's evidence that the coin is fair."
   ]
  },
  {
   "cell_type": "code",
   "execution_count": null,
   "metadata": {},
   "outputs": [],
   "source": [
    "def num_heads(arr):\n",
    "    return arr[0]"
   ]
  },
  {
   "cell_type": "markdown",
   "metadata": {
    "slideshow": {
     "slide_type": "slide"
    }
   },
   "source": [
    "### Simulating a fair coin, again\n",
    "\n",
    "All that will change from our previous simulation is the function we use to compute our test statistic."
   ]
  },
  {
   "cell_type": "code",
   "execution_count": null,
   "metadata": {},
   "outputs": [],
   "source": [
    "model = [0.5, 0.5]\n",
    "\n",
    "repetitions = 10000\n",
    "results = np.array([])\n",
    "for i in np.arange(repetitions):\n",
    "    coins = np.random.multinomial(400, model)\n",
    "    result = num_heads(coins)\n",
    "    results = np.append(results, result)\n",
    "\n",
    "results"
   ]
  },
  {
   "cell_type": "code",
   "execution_count": null,
   "metadata": {},
   "outputs": [],
   "source": [
    "bpd.DataFrame().assign(results=results).plot(kind='hist', bins=np.arange(160, 240, 4), \n",
    "                                             density=True, ec='w', figsize=(10, 5),\n",
    "                                             title='Empirical Distribution of the Number of Heads');\n",
    "plt.axvline(num_heads(flips), color='black', linewidth=4, label='Observed Value of the Number of Heads')\n",
    "plt.legend();"
   ]
  },
  {
   "cell_type": "markdown",
   "metadata": {},
   "source": [
    "- The number of heads in our observed sample is 188.\n",
    "- Under the assumption that the coin is fair, we often saw 188 or more heads.\n",
    "- As such, the coin is probably not biased in favor of heads, and we side with the viewpoint \"The coin is fair.\""
   ]
  },
  {
   "cell_type": "markdown",
   "metadata": {
    "slideshow": {
     "slide_type": "slide"
    }
   },
   "source": [
    "### Questions to consider before choosing a test statistic"
   ]
  },
  {
   "cell_type": "markdown",
   "metadata": {
    "slideshow": {
     "slide_type": "fragment"
    }
   },
   "source": [
    "- **Key idea**: Our choice of test statistic depends on the pair of viewpoints we want to decide between."
   ]
  },
  {
   "cell_type": "markdown",
   "metadata": {
    "slideshow": {
     "slide_type": "fragment"
    }
   },
   "source": [
    "- Our test statistic should be such that **high values lean towards one viewpoint and low values lean towards the other**."
   ]
  },
  {
   "cell_type": "markdown",
   "metadata": {
    "slideshow": {
     "slide_type": "fragment"
    }
   },
   "source": [
    "- We will avoid test statistics where both high and low values lean towards one viewpoint and values in the middle lean towards the other.\n",
    "    - In other words, we will avoid \"two-sided\" tests.    "
   ]
  },
  {
   "cell_type": "markdown",
   "metadata": {
    "slideshow": {
     "slide_type": "fragment"
    }
   },
   "source": [
    "- In our recent exploration, viewpoint 1 was \"The coin is fair.\"\n",
    "    - When viewpoint 2 was \"The coin is biased,\" the test statistic we chose was $|\\text{number of heads} - 200 |$.\n",
    "    - When viewpoint 2 was \"The coin is biased towards heads\", the test statistic we chose was $\\text{number of heads}$."
   ]
  },
  {
   "cell_type": "markdown",
   "metadata": {
    "slideshow": {
     "slide_type": "slide"
    }
   },
   "source": [
    "## Summary, next time"
   ]
  },
  {
   "cell_type": "markdown",
   "metadata": {
    "slideshow": {
     "slide_type": "slide"
    }
   },
   "source": [
    "### Summary\n",
    "\n",
    "- A model is an assumption about how data was generated. We're interested in determining the validity a model, given some data we've collected.\n",
    "- When assessing a model, we consider two viewpoints of the world: one where the model is true, and another where the model is false for some reason.\n",
    "- To assess a model, we:\n",
    "    1. Conduct an experiment to form an **observation**.\n",
    "    2. Simulate that experiment many times under the assumption that the model is true.\n",
    "    3. Compute a **test statistic** on each of the simulated samples, as well as on the observed sample.\n",
    "    4. Look at the resulting empirical distribution of test statistics and see where the observed test statistic falls. If it seems like an atypical value (too large or too small), that can be reason to believe the model is wrong."
   ]
  },
  {
   "cell_type": "markdown",
   "metadata": {
    "slideshow": {
     "slide_type": "slide"
    }
   },
   "source": [
    "### Next time\n",
    "\n",
    "- All throughout today's lecture, we've been performing what are known as **hypothesis tests**.\n",
    "- Next time, we'll formalize some of the language needed when working with hypothesis testing and make precise the process of deciding between two viewpoints.\n",
    "- **Remember**: No live lecture on Wednesday or Friday!"
   ]
  }
 ],
 "metadata": {
  "kernelspec": {
   "display_name": "Python 3 (ipykernel)",
   "language": "python",
   "name": "python3"
  },
  "language_info": {
   "codemirror_mode": {
    "name": "ipython",
    "version": 3
   },
   "file_extension": ".py",
   "mimetype": "text/x-python",
   "name": "python",
   "nbconvert_exporter": "python",
   "pygments_lexer": "ipython3",
   "version": "3.9.7"
  },
  "livereveal": {
   "scroll": true,
   "transition": "none"
  },
  "rise": {
   "enable_chalkboard": true
  }
 },
 "nbformat": 4,
 "nbformat_minor": 2
}
