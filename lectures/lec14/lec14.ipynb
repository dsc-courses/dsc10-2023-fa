{
 "cells": [
  {
   "cell_type": "code",
   "execution_count": null,
   "metadata": {
    "slideshow": {
     "slide_type": "skip"
    }
   },
   "outputs": [],
   "source": [
    "# Set up packages for lecture. Don't worry about understanding this code,\n",
    "# but make sure to run it if you're following along.\n",
    "import numpy as np\n",
    "import babypandas as bpd\n",
    "import pandas as pd\n",
    "from matplotlib_inline.backend_inline import set_matplotlib_formats\n",
    "import matplotlib.pyplot as plt\n",
    "set_matplotlib_formats(\"svg\")\n",
    "plt.style.use('ggplot')\n",
    "\n",
    "# Imports for animation.\n",
    "from lec14 import sampling_animation\n",
    "from IPython.display import display, HTML\n",
    "\n",
    "np.set_printoptions(threshold=20, precision=2, suppress=True)\n",
    "pd.set_option(\"display.max_rows\", 7)\n",
    "pd.set_option(\"display.max_columns\", 8)\n",
    "pd.set_option(\"display.precision\", 2)"
   ]
  },
  {
   "cell_type": "markdown",
   "metadata": {
    "slideshow": {
     "slide_type": "slide"
    }
   },
   "source": [
    "# Lecture 14 – Distributions and Sampling\n",
    "\n",
    "## DSC 10, Fall 2023"
   ]
  },
  {
   "cell_type": "markdown",
   "metadata": {
    "slideshow": {
     "slide_type": "slide"
    }
   },
   "source": [
    "### Announcements\n",
    "\n",
    "- Midterm Exam scores are available. See [this post](https://edstem.org/us/courses/48101/discussion/3762531) for details.\n",
    "    - Only worth 10%. Take it as a learning experience. If you do better on the final, we'll replace your score!\n",
    "    - Come to **discussion today** to see how to do the problems on the exam.\n",
    "- The Midterm Project is due **Saturday at 11:59PM**.\n",
    "    - *If you fail to plan, you plan to fail.* Get started!\n",
    "    - Slip days can be used if needed. Will detract from both partner's allocation.\n",
    "    - Only **one** partner should submit and \"Add Group Member\" on Gradescope."
   ]
  },
  {
   "cell_type": "markdown",
   "metadata": {
    "slideshow": {
     "slide_type": "slide"
    }
   },
   "source": [
    "### Agenda\n",
    "\n",
    "- Probability distributions vs. empirical distributions.\n",
    "- Populations and samples.\n",
    "- Parameters and statistics.\n",
    "\n",
    "🚨 The second half of the course is more conceptual than the first. Reading the [textbook](https://inferentialthinking.com/chapters/intro.html) (and coming to lecture) will become even more important."
   ]
  },
  {
   "cell_type": "markdown",
   "metadata": {
    "slideshow": {
     "slide_type": "slide"
    }
   },
   "source": [
    "## Probability distributions vs. empirical distributions"
   ]
  },
  {
   "cell_type": "markdown",
   "metadata": {
    "slideshow": {
     "slide_type": "slide"
    }
   },
   "source": [
    "### Probability distributions"
   ]
  },
  {
   "cell_type": "markdown",
   "metadata": {
    "slideshow": {
     "slide_type": "fragment"
    }
   },
   "source": [
    "- Consider a random quantity with various possible values, each of which has some associated probability."
   ]
  },
  {
   "cell_type": "markdown",
   "metadata": {
    "slideshow": {
     "slide_type": "fragment"
    }
   },
   "source": [
    "- A **probability distribution** is a description of:\n",
    "    - All possible values of the quantity.\n",
    "    - The **theoretical** probability of each value."
   ]
  },
  {
   "cell_type": "markdown",
   "metadata": {
    "slideshow": {
     "slide_type": "slide"
    }
   },
   "source": [
    "### Example: Probability distribution of a die roll 🎲\n",
    "\n",
    "The distribution is **uniform**, meaning that each outcome has the same chance of occurring."
   ]
  },
  {
   "cell_type": "code",
   "execution_count": null,
   "metadata": {},
   "outputs": [],
   "source": [
    "die_faces = np.arange(1, 7, 1)\n",
    "die = bpd.DataFrame().assign(face=die_faces)\n",
    "die"
   ]
  },
  {
   "cell_type": "code",
   "execution_count": null,
   "metadata": {},
   "outputs": [],
   "source": [
    "bins = np.arange(0.5, 6.6, 1)\n",
    "\n",
    "# Note that you can add titles to your visualizations, like this!\n",
    "die.plot(kind='hist', y='face', bins=bins, density=True, ec='w', \n",
    "         title='Probability Distribution of a Die Roll',\n",
    "         figsize=(5, 3))\n",
    "\n",
    "# You can also set the y-axis label with plt.ylabel.\n",
    "plt.ylabel('Probability');"
   ]
  },
  {
   "cell_type": "markdown",
   "metadata": {
    "slideshow": {
     "slide_type": "slide"
    }
   },
   "source": [
    "### Empirical distributions"
   ]
  },
  {
   "cell_type": "markdown",
   "metadata": {
    "slideshow": {
     "slide_type": "fragment"
    }
   },
   "source": [
    "- Unlike probability distributions, which are theoretical, **empirical distributions are based on observations**."
   ]
  },
  {
   "cell_type": "markdown",
   "metadata": {
    "slideshow": {
     "slide_type": "fragment"
    }
   },
   "source": [
    "- Commonly, these observations are of repetitions of an experiment."
   ]
  },
  {
   "cell_type": "markdown",
   "metadata": {
    "slideshow": {
     "slide_type": "fragment"
    }
   },
   "source": [
    "- An **empirical distribution** describes:\n",
    "    - All observed values.\n",
    "    - The proportion of experiments in which each value occurred."
   ]
  },
  {
   "cell_type": "markdown",
   "metadata": {
    "slideshow": {
     "slide_type": "fragment"
    }
   },
   "source": [
    "- Unlike probability distributions, empirical distributions represent what actually happened in practice. "
   ]
  },
  {
   "cell_type": "markdown",
   "metadata": {
    "slideshow": {
     "slide_type": "slide"
    }
   },
   "source": [
    "### Example: Empirical distribution of a die roll 🎲\n",
    "- Let's simulate a roll by using `np.random.choice`.\n",
    "- To simulate the rolling of a die, we must sample **with** replacement.\n",
    "    - If we roll a 4, we can roll a 4 again."
   ]
  },
  {
   "cell_type": "code",
   "execution_count": null,
   "metadata": {},
   "outputs": [],
   "source": [
    "num_rolls = 25\n",
    "many_rolls = np.random.choice(die_faces, num_rolls)\n",
    "many_rolls"
   ]
  },
  {
   "cell_type": "code",
   "execution_count": null,
   "metadata": {},
   "outputs": [],
   "source": [
    "(bpd.DataFrame()\n",
    " .assign(face=many_rolls) \n",
    " .plot(kind='hist', y='face', bins=bins, density=True, ec='w',\n",
    "       title=f'Empirical Distribution of {num_rolls} Dice Rolls',\n",
    "       figsize=(5, 3))\n",
    ")\n",
    "plt.ylabel('Probability');"
   ]
  },
  {
   "cell_type": "markdown",
   "metadata": {
    "slideshow": {
     "slide_type": "slide"
    }
   },
   "source": [
    "### Many die rolls 🎲\n",
    "\n",
    "What happens as we increase the number of rolls?"
   ]
  },
  {
   "cell_type": "code",
   "execution_count": null,
   "metadata": {
    "scrolled": false,
    "slideshow": {
     "slide_type": "-"
    }
   },
   "outputs": [],
   "source": [
    "for num_rolls in [10, 50, 100, 500, 1000, 5000, 10000]:\n",
    "    # Don't worry about how .sample works just yet – we'll cover it shortly.\n",
    "    (die.sample(n=num_rolls, replace=True)\n",
    "     .plot(kind='hist', y='face', bins=bins, density=True, ec='w', \n",
    "           title=f'Distribution of {num_rolls} Die Rolls',\n",
    "           figsize=(8, 3))\n",
    "    )"
   ]
  },
  {
   "cell_type": "markdown",
   "metadata": {
    "slideshow": {
     "slide_type": "slide"
    }
   },
   "source": [
    "### Why does this happen? ⚖️\n",
    "\n",
    "The **law of large numbers** states that if a chance experiment is repeated \n",
    "- many times,\n",
    "- independently, and\n",
    "- under the same conditions,"
   ]
  },
  {
   "cell_type": "markdown",
   "metadata": {
    "slideshow": {
     "slide_type": "fragment"
    }
   },
   "source": [
    " then the **proportion** of times that an event occurs gets closer and closer to the **theoretical probability** of that event."
   ]
  },
  {
   "cell_type": "markdown",
   "metadata": {
    "slideshow": {
     "slide_type": "fragment"
    }
   },
   "source": [
    "- For example, as you roll a die repeatedly, the proportion of times you roll a 5 gets closer to $\\frac{1}{6}$."
   ]
  },
  {
   "cell_type": "markdown",
   "metadata": {
    "slideshow": {
     "slide_type": "fragment"
    }
   },
   "source": [
    "- The law of large numbers is **why** we can use simulations to approximate probability distributions!"
   ]
  },
  {
   "cell_type": "markdown",
   "metadata": {
    "slideshow": {
     "slide_type": "slide"
    }
   },
   "source": [
    "## Sampling"
   ]
  },
  {
   "cell_type": "markdown",
   "metadata": {
    "slideshow": {
     "slide_type": "slide"
    }
   },
   "source": [
    "### Populations and samples"
   ]
  },
  {
   "cell_type": "markdown",
   "metadata": {
    "slideshow": {
     "slide_type": "fragment"
    }
   },
   "source": [
    "- A **population** is the complete group of people, objects, or events that we want to learn something about."
   ]
  },
  {
   "cell_type": "markdown",
   "metadata": {
    "slideshow": {
     "slide_type": "fragment"
    }
   },
   "source": [
    "- It's often infeasible to collect information about every member of a population."
   ]
  },
  {
   "cell_type": "markdown",
   "metadata": {
    "slideshow": {
     "slide_type": "fragment"
    }
   },
   "source": [
    "- Instead, we can collect a **sample**, which is a subset of the population."
   ]
  },
  {
   "cell_type": "markdown",
   "metadata": {
    "slideshow": {
     "slide_type": "fragment"
    }
   },
   "source": [
    "- **Goal**: Estimate the distribution of some numerical variable in the population, using only a sample.\n",
    "    - For example, suppose we want to know the height of every single UCSD student.\n",
    "    - It's too hard to collect this information for every single UCSD student – we can't find the **population distribution**.\n",
    "    - Instead, we can collect data from a subset of UCSD students, to form a **sample distribution**."
   ]
  },
  {
   "cell_type": "markdown",
   "metadata": {
    "slideshow": {
     "slide_type": "slide"
    }
   },
   "source": [
    "### Sampling strategies"
   ]
  },
  {
   "cell_type": "markdown",
   "metadata": {
    "slideshow": {
     "slide_type": "fragment"
    }
   },
   "source": [
    "- **Question**: How do we collect a good sample, so that the sample distribution closely resembles the population distribution?"
   ]
  },
  {
   "cell_type": "markdown",
   "metadata": {
    "slideshow": {
     "slide_type": "fragment"
    }
   },
   "source": [
    "- **Bad idea ❌**: Survey whoever you can get ahold of (e.g. internet survey, people in line at Panda Express at PC).\n",
    "   - Such a sample is known as a convenience sample.\n",
    "   - Convenience samples often contain hidden sources of **bias**."
   ]
  },
  {
   "cell_type": "markdown",
   "metadata": {
    "slideshow": {
     "slide_type": "fragment"
    }
   },
   "source": [
    "- **Good idea ✔️**: Select individuals at random. "
   ]
  },
  {
   "cell_type": "markdown",
   "metadata": {
    "slideshow": {
     "slide_type": "slide"
    }
   },
   "source": [
    "### Simple random sample\n",
    "\n",
    "A **simple random sample (SRS)** is a sample drawn **uniformly** at random **without replacement**.\n",
    "   - \"Uniformly\" means every individual has the same chance of being selected.\n",
    "   - \"Without replacement\" means we won't pick the same individual more than once."
   ]
  },
  {
   "cell_type": "markdown",
   "metadata": {
    "slideshow": {
     "slide_type": "slide"
    }
   },
   "source": [
    "### Sampling from a list or array"
   ]
  },
  {
   "cell_type": "markdown",
   "metadata": {
    "slideshow": {
     "slide_type": "-"
    }
   },
   "source": [
    "To perform an SRS from a list or array `options`, we use `np.random.choice(options, n, replace=False)`."
   ]
  },
  {
   "cell_type": "code",
   "execution_count": null,
   "metadata": {},
   "outputs": [],
   "source": [
    "staff = ['Oren Ciolli', 'Nate Del Rosario', 'Jack Determan', 'Sophia Fang', 'Charlie Gillet', \n",
    "         'Ashley Ho', 'Henry Ho', 'Vanessa Hu', 'Leena Kang', 'Norah Kerendian', 'Anthony Li', 'Weiyue Li', \n",
    "         'Jasmine Lo', 'Arjun Malleswaran', 'Mert Ozer', 'Baby Panda', 'Arya Rahnama', 'Aaron Rasin', 'Chandiner Rishi', 'Gina Roberg', \n",
    "         'Harshi Saha', 'Keenan Serrao', 'Abel Seyoum', 'Suhani Sharma', 'Yutian Shi', 'Ester Tsai', \n",
    "         'Bill Wang', 'Ylesia Wu', 'Jason Xu', 'Diego Zavalza', 'Ciro Zhang']\n",
    "\n",
    "# Simple random sample of 4 course staff members.\n",
    "np.random.choice(staff, 4, replace=False)"
   ]
  },
  {
   "cell_type": "markdown",
   "metadata": {
    "slideshow": {
     "slide_type": "fragment"
    }
   },
   "source": [
    "If we use `replace=True`, then we're sampling uniformly at random with replacement – there's no simpler term for this."
   ]
  },
  {
   "cell_type": "markdown",
   "metadata": {
    "slideshow": {
     "slide_type": "slide"
    }
   },
   "source": [
    "### Example: Distribution of flight delays ✈️\n",
    "\n",
    "`united_full` contains information about all United flights leaving SFO between 6/1/15 and 8/31/15.\n",
    "\n",
    "For this lecture, treat this dataset as our **population**."
   ]
  },
  {
   "cell_type": "code",
   "execution_count": null,
   "metadata": {},
   "outputs": [],
   "source": [
    "united_full = bpd.read_csv('data/united_summer2015.csv')\n",
    "united_full"
   ]
  },
  {
   "cell_type": "markdown",
   "metadata": {
    "slideshow": {
     "slide_type": "slide"
    }
   },
   "source": [
    "### Sampling rows from a DataFrame\n",
    "\n",
    "If we want to sample rows from a DataFrame, we can use the `.sample` method on a DataFrame. That is,\n",
    "\n",
    "```py\n",
    "df.sample(n)\n",
    "```\n",
    "\n",
    "returns a random subset of `n` rows of `df`, drawn **without replacement** (i.e. the default is `replace=False`, unlike `np.random.choice`)."
   ]
  },
  {
   "cell_type": "code",
   "execution_count": null,
   "metadata": {},
   "outputs": [],
   "source": [
    "# 5 flights, chosen randomly without replacement.\n",
    "united_full.sample(5)"
   ]
  },
  {
   "cell_type": "code",
   "execution_count": null,
   "metadata": {
    "scrolled": true
   },
   "outputs": [],
   "source": [
    "# 5 flights, chosen randomly with replacement.\n",
    "united_full.sample(5, replace=True)"
   ]
  },
  {
   "cell_type": "markdown",
   "metadata": {
    "slideshow": {
     "slide_type": "fragment"
    }
   },
   "source": [
    "**Note**: The probability of seeing the same row multiple times when sampling with replacement is quite low, since our sample size (5) is small relative to the size of the population (13825)."
   ]
  },
  {
   "cell_type": "markdown",
   "metadata": {
    "slideshow": {
     "slide_type": "slide"
    }
   },
   "source": [
    "### The effect of sample size"
   ]
  },
  {
   "cell_type": "markdown",
   "metadata": {
    "slideshow": {
     "slide_type": "fragment"
    }
   },
   "source": [
    "- The law of large numbers states that when we repeat a chance experiment more and more times, the empirical distribution will look more and more like the true probability distribution."
   ]
  },
  {
   "cell_type": "markdown",
   "metadata": {
    "slideshow": {
     "slide_type": "fragment"
    }
   },
   "source": [
    "- **Similarly, if we take a large simple random sample, then the sample distribution is likely to be a good approximation of the true population distribution.**"
   ]
  },
  {
   "cell_type": "markdown",
   "metadata": {
    "slideshow": {
     "slide_type": "slide"
    }
   },
   "source": [
    "### Population distribution of flight delays ✈️"
   ]
  },
  {
   "cell_type": "markdown",
   "metadata": {
    "slideshow": {
     "slide_type": "-"
    }
   },
   "source": [
    "We only need the `'Delay'`s, so let's select just that column."
   ]
  },
  {
   "cell_type": "code",
   "execution_count": null,
   "metadata": {},
   "outputs": [],
   "source": [
    "united = united_full.get(['Delay'])\n",
    "united"
   ]
  },
  {
   "cell_type": "code",
   "execution_count": null,
   "metadata": {},
   "outputs": [],
   "source": [
    "bins = np.arange(-20, 300, 10)\n",
    "united.plot(kind='hist', y='Delay', bins=bins, density=True, ec='w', \n",
    "            title='Population Distribution of Flight Delays', figsize=(8, 3))\n",
    "plt.ylabel('Proportion per minute');"
   ]
  },
  {
   "cell_type": "markdown",
   "metadata": {
    "slideshow": {
     "slide_type": "fragment"
    }
   },
   "source": [
    "Note that this distribution is **fixed** – nothing about it is random."
   ]
  },
  {
   "cell_type": "markdown",
   "metadata": {
    "slideshow": {
     "slide_type": "slide"
    }
   },
   "source": [
    "### Sample distribution of flight delays ✈️\n",
    "\n",
    "- The 13825 flight delays in `united` constitute our population.\n",
    "- Normally, we won't have access to the entire population.\n",
    "- To replicate a real-world scenario, we will sample from `united` **without replacement**."
   ]
  },
  {
   "cell_type": "code",
   "execution_count": null,
   "metadata": {},
   "outputs": [],
   "source": [
    "sample_size = 100 # Change this and see what happens!\n",
    "(united\n",
    " .sample(sample_size)\n",
    " .plot(kind='hist', y='Delay', bins=bins, density=True, ec='w',\n",
    "       title=f'Distribution of Flight Delays in a Sample of Size {sample_size}',\n",
    "       figsize=(8, 3))\n",
    ");"
   ]
  },
  {
   "cell_type": "markdown",
   "metadata": {},
   "source": [
    "Note that as we increase `sample_size`, the sample distribution of delays looks more and more like the true population distribution of delays."
   ]
  },
  {
   "cell_type": "markdown",
   "metadata": {
    "slideshow": {
     "slide_type": "slide"
    }
   },
   "source": [
    "## Parameters and statistics"
   ]
  },
  {
   "cell_type": "markdown",
   "metadata": {
    "slideshow": {
     "slide_type": "slide"
    }
   },
   "source": [
    "### Terminology"
   ]
  },
  {
   "cell_type": "markdown",
   "metadata": {
    "slideshow": {
     "slide_type": "fragment"
    }
   },
   "source": [
    "- **Statistical inference** is the practice of making conclusions about a population, using data from a random sample."
   ]
  },
  {
   "cell_type": "markdown",
   "metadata": {
    "slideshow": {
     "slide_type": "fragment"
    }
   },
   "source": [
    "- **Parameter**: A number associated with the population.\n",
    "    - Example: The population mean."
   ]
  },
  {
   "cell_type": "markdown",
   "metadata": {
    "slideshow": {
     "slide_type": "fragment"
    }
   },
   "source": [
    "- **Statistic**: A number calculated from the sample.\n",
    "    - Example: The sample mean."
   ]
  },
  {
   "cell_type": "markdown",
   "metadata": {
    "slideshow": {
     "slide_type": "fragment"
    }
   },
   "source": [
    "- A statistic can be used as an **estimate** for a parameter."
   ]
  },
  {
   "cell_type": "markdown",
   "metadata": {
    "slideshow": {
     "slide_type": "fragment"
    }
   },
   "source": [
    "_To remember: **p**arameter and **p**opulation both start with p, **s**tatistic and **s**ample both start with s._"
   ]
  },
  {
   "cell_type": "markdown",
   "metadata": {
    "slideshow": {
     "slide_type": "slide"
    }
   },
   "source": [
    "### Mean flight delay ✈️"
   ]
  },
  {
   "cell_type": "markdown",
   "metadata": {
    "slideshow": {
     "slide_type": "fragment"
    }
   },
   "source": [
    "**Question**: What was the average delay of _all_ United flights out of SFO in Summer 2015? 🤔"
   ]
  },
  {
   "cell_type": "markdown",
   "metadata": {
    "slideshow": {
     "slide_type": "fragment"
    }
   },
   "source": [
    "- We'd love to know the **mean delay in the population (parameter)**, but in practice we'll only have a **sample**."
   ]
  },
  {
   "cell_type": "markdown",
   "metadata": {
    "slideshow": {
     "slide_type": "fragment"
    }
   },
   "source": [
    "- How does the **mean delay in the sample (statistic)** compare to the **mean delay in the population (parameter)**?"
   ]
  },
  {
   "cell_type": "markdown",
   "metadata": {
    "slideshow": {
     "slide_type": "slide"
    }
   },
   "source": [
    "### Population mean\n",
    "\n",
    "The **population mean** is a **parameter**."
   ]
  },
  {
   "cell_type": "code",
   "execution_count": null,
   "metadata": {},
   "outputs": [],
   "source": [
    "# Calculate the mean of the population.\n",
    "united_mean = united.get('Delay').mean()\n",
    "united_mean"
   ]
  },
  {
   "cell_type": "markdown",
   "metadata": {
    "slideshow": {
     "slide_type": "fragment"
    }
   },
   "source": [
    "This number (like the population distribution) is fixed, and is not random. In reality, we would not be able to see this number – we can only see it right now because this is a demonstration for teaching!"
   ]
  },
  {
   "cell_type": "markdown",
   "metadata": {
    "slideshow": {
     "slide_type": "slide"
    }
   },
   "source": [
    "### Sample mean\n",
    "\n",
    "The **sample mean** is a **statistic**. Since it depends on our sample, which was drawn at random, the sample mean is **also random**."
   ]
  },
  {
   "cell_type": "code",
   "execution_count": null,
   "metadata": {},
   "outputs": [],
   "source": [
    "# Size 100.\n",
    "united.sample(100).get('Delay').mean()"
   ]
  },
  {
   "cell_type": "markdown",
   "metadata": {
    "slideshow": {
     "slide_type": "fragment"
    }
   },
   "source": [
    "- Each time we run the cell above, we are:\n",
    "    - Collecting a new sample of size 100 from the population, and\n",
    "    - Computing the sample mean.\n",
    "- We see a slightly different value on each run of the cell.\n",
    "    - Sometimes, the sample mean is close to the population mean.\n",
    "    - Sometimes, it's far away from the population mean."
   ]
  },
  {
   "cell_type": "markdown",
   "metadata": {
    "slideshow": {
     "slide_type": "slide"
    }
   },
   "source": [
    "### The effect of sample size\n",
    "\n",
    "What if we choose a larger sample size?"
   ]
  },
  {
   "cell_type": "code",
   "execution_count": null,
   "metadata": {},
   "outputs": [],
   "source": [
    "# Size 1000.\n",
    "united.sample(1000).get('Delay').mean()"
   ]
  },
  {
   "cell_type": "markdown",
   "metadata": {
    "slideshow": {
     "slide_type": "fragment"
    }
   },
   "source": [
    "- Each time we run the above cell, the result is still slightly different.\n",
    "- However, the results seem to be much closer together – and much closer to the true population mean – than when we used a sample size of 100.\n",
    "- **In general**, statistics computed on **larger** samples tend to be **better** estimates of population parameters than statistics computed on smaller samples."
   ]
  },
  {
   "cell_type": "markdown",
   "metadata": {
    "slideshow": {
     "slide_type": "slide"
    }
   },
   "source": [
    "**Smaller samples**:<center><img src='data/bullseye-high.png' width=300></center>"
   ]
  },
  {
   "cell_type": "markdown",
   "metadata": {
    "slideshow": {
     "slide_type": "fragment"
    }
   },
   "source": [
    "**Larger samples**:<center><img src='data/bullseye-low.png' width=300></center>"
   ]
  },
  {
   "cell_type": "markdown",
   "metadata": {
    "slideshow": {
     "slide_type": "slide"
    }
   },
   "source": [
    "### Probability distribution of a statistic"
   ]
  },
  {
   "cell_type": "markdown",
   "metadata": {
    "slideshow": {
     "slide_type": "fragment"
    }
   },
   "source": [
    "- The value of a statistic, e.g. the sample mean, is random, because it depends on a random sample."
   ]
  },
  {
   "cell_type": "markdown",
   "metadata": {
    "slideshow": {
     "slide_type": "fragment"
    }
   },
   "source": [
    "- Like other random quantities, we can study the \"probability distribution\" of the statistic (also known as its \"sampling distribution\").\n",
    "    - This describes all possible values of the statistic and all the corresponding probabilities.\n",
    "    - Why? **We want to know how different our statistic _could have_ been, had we collected a different sample.**"
   ]
  },
  {
   "cell_type": "markdown",
   "metadata": {
    "slideshow": {
     "slide_type": "fragment"
    }
   },
   "source": [
    "- Unfortunately, this can be hard to calculate exactly.\n",
    "    - Option 1: Do the math by hand.\n",
    "    - Option 2: Generate **all** possible samples and calculate the statistic on each sample."
   ]
  },
  {
   "cell_type": "markdown",
   "metadata": {
    "slideshow": {
     "slide_type": "fragment"
    }
   },
   "source": [
    "- So, we'll instead use a simulation to approximate the distribution of the sample statistic.\n",
    "    - We'll need to generate **a lot of** possible samples and calculate the statistic on each sample."
   ]
  },
  {
   "cell_type": "markdown",
   "metadata": {
    "slideshow": {
     "slide_type": "slide"
    }
   },
   "source": [
    "### Empirical distribution of a statistic"
   ]
  },
  {
   "cell_type": "markdown",
   "metadata": {
    "slideshow": {
     "slide_type": "fragment"
    }
   },
   "source": [
    "- The empirical distribution of a statistic is based on simulated values of the statistic. It describes:    \n",
    "    - All observed values of the statistic.\n",
    "    - The proportion of samples in which each value occurred."
   ]
  },
  {
   "cell_type": "markdown",
   "metadata": {
    "slideshow": {
     "slide_type": "fragment"
    }
   },
   "source": [
    "- The empirical distribution of a statistic can be a good approximation to the probability distribution of the statistic, **if the number of repetitions in the simulation is large**."
   ]
  },
  {
   "cell_type": "markdown",
   "metadata": {
    "slideshow": {
     "slide_type": "slide"
    }
   },
   "source": [
    "### Distribution of sample means"
   ]
  },
  {
   "cell_type": "markdown",
   "metadata": {
    "slideshow": {
     "slide_type": "fragment"
    }
   },
   "source": [
    "- To understand how different the sample mean can be in different samples, we'll:\n",
    "    - Repeatedly draw many samples.\n",
    "    - Record the mean of each.\n",
    "    - Draw a histogram of these values."
   ]
  },
  {
   "cell_type": "markdown",
   "metadata": {
    "slideshow": {
     "slide_type": "fragment"
    }
   },
   "source": [
    "- The animation below visualizes the process of repeatedly sampling 1000 flights and computing the mean flight delay. "
   ]
  },
  {
   "cell_type": "code",
   "execution_count": null,
   "metadata": {},
   "outputs": [],
   "source": [
    "%%capture\n",
    "anim, anim_means = sampling_animation(united, 1000);"
   ]
  },
  {
   "cell_type": "code",
   "execution_count": null,
   "metadata": {
    "scrolled": true
   },
   "outputs": [],
   "source": [
    "HTML(anim.to_jshtml())"
   ]
  },
  {
   "cell_type": "markdown",
   "metadata": {
    "slideshow": {
     "slide_type": "slide"
    }
   },
   "source": [
    "### What's the point?"
   ]
  },
  {
   "cell_type": "markdown",
   "metadata": {
    "slideshow": {
     "slide_type": "fragment"
    }
   },
   "source": [
    "- In practice, we will only be able to collect one sample and calculate one statistic.\n",
    "    - Sometimes, that sample will be very representative of the population, and the statistic will be very close to the parameter we are trying to estimate.\n",
    "    - Other times, that sample will not be as representative of the population, and the statistic will not be very close to the parameter we are trying to estimate."
   ]
  },
  {
   "cell_type": "markdown",
   "metadata": {
    "slideshow": {
     "slide_type": "fragment"
    }
   },
   "source": [
    "- The empirical distribution of the sample mean helps us answer the question \"**what would the sample mean have looked like if we drew a different sample?**\""
   ]
  },
  {
   "cell_type": "markdown",
   "metadata": {
    "slideshow": {
     "slide_type": "slide"
    }
   },
   "source": [
    "### Does sample size matter?"
   ]
  },
  {
   "cell_type": "code",
   "execution_count": null,
   "metadata": {},
   "outputs": [],
   "source": [
    "# Sample one thousand flights, two thousand times.\n",
    "sample_size = 1000\n",
    "repetitions = 2000\n",
    "sample_means = np.array([])\n",
    "\n",
    "for n in np.arange(repetitions):\n",
    "    m = united.sample(sample_size).get('Delay').mean()\n",
    "    sample_means = np.append(sample_means, m)\n",
    "\n",
    "bpd.DataFrame().assign(sample_means=sample_means) \\\n",
    "               .plot(kind='hist', bins=np.arange(10, 25, 0.5), density=True, ec='w',\n",
    "                     title=f'Distribution of Sample Mean with Sample Size {sample_size}',\n",
    "                     figsize=(10, 5));\n",
    "    \n",
    "plt.axvline(x=united_mean, c='black', linewidth=4, label='population mean')\n",
    "plt.legend();"
   ]
  },
  {
   "cell_type": "markdown",
   "metadata": {
    "slideshow": {
     "slide_type": "slide"
    }
   },
   "source": [
    "### Concept Check ✅ – Answer at [cc.dsc10.com](http://cc.dsc10.com) \n",
    "\n",
    "We just sampled **one thousand flights**, two thousand times. If we now sample **one hundred flights**, two thousand times, how will the histogram change?\n",
    "\n",
    "- A.  Narrower  \n",
    "- B.  Wider  \n",
    "- C.  Shifted left  \n",
    "- D.  Shifted right  \n",
    "- E.  Unchanged"
   ]
  },
  {
   "cell_type": "markdown",
   "metadata": {
    "slideshow": {
     "slide_type": "slide"
    }
   },
   "source": [
    "### How we sample matters!"
   ]
  },
  {
   "cell_type": "markdown",
   "metadata": {
    "slideshow": {
     "slide_type": "fragment"
    }
   },
   "source": [
    "* So far, we've taken large **simple random samples** from the full population.\n",
    "    * Simple random samples are taken without replacement.\n",
    "    * If the population is large enough, then it doesn't really matter if we sample with or without replacement."
   ]
  },
  {
   "cell_type": "markdown",
   "metadata": {
    "slideshow": {
     "slide_type": "fragment"
    }
   },
   "source": [
    "* The sample mean, for samples like this, is a good approximation of the population mean."
   ]
  },
  {
   "cell_type": "markdown",
   "metadata": {
    "slideshow": {
     "slide_type": "fragment"
    }
   },
   "source": [
    "* But this is not always the case if we sample differently."
   ]
  },
  {
   "cell_type": "markdown",
   "metadata": {
    "slideshow": {
     "slide_type": "slide"
    }
   },
   "source": [
    "## Summary, next time"
   ]
  },
  {
   "cell_type": "markdown",
   "metadata": {
    "slideshow": {
     "slide_type": "slide"
    }
   },
   "source": [
    "### Summary\n",
    "\n",
    "- The **probability distribution** of a random quantity describes the values it takes on along with the probability of each value occurring.\n",
    "- An **empirical distribution** describes the values and frequencies of the results of a random experiment.\n",
    "    - With more trials of an experiment, the empirical distribution gets closer to the probability distribution.\n",
    "- A **population distribution** describes the values and frequencies of some characteristic of a population.\n",
    "- A **sample distribution** describes the values and frequencies of some characteristic of a sample, which is a subset of a population.\n",
    "    - When we take a simple random sample, as we increase our sample size, the sample distribution gets closer and closer to the population distribution.\n",
    "- A **parameter** is a number associated with a **population**, and a **statistic** is a number associated with a **sample**.\n",
    "- We can use statistics calculated on a random samples to **estimate** population parameters.\n",
    "    - For example, to estimate the mean of a population, we can calculate the mean of the sample.\n",
    "    - Larger samples tend to lead to better estimates."
   ]
  },
  {
   "cell_type": "markdown",
   "metadata": {
    "slideshow": {
     "slide_type": "slide"
    }
   },
   "source": [
    "### Next time\n",
    "\n",
    "- Large random samples lead to better estimates, but how do we balance this with the practical challenges associated with collecting a very large sample? \n",
    "- Next time we'll introduce a clever solution called bootstrapping 🥾, which allows us to leverage the power of a single sample to get good estimates!"
   ]
  }
 ],
 "metadata": {
  "kernelspec": {
   "display_name": "Python 3 (ipykernel)",
   "language": "python",
   "name": "python3"
  },
  "language_info": {
   "codemirror_mode": {
    "name": "ipython",
    "version": 3
   },
   "file_extension": ".py",
   "mimetype": "text/x-python",
   "name": "python",
   "nbconvert_exporter": "python",
   "pygments_lexer": "ipython3",
   "version": "3.9.13"
  },
  "livereveal": {
   "scroll": true,
   "transition": "none"
  },
  "rise": {
   "enable_chalkboard": true
  }
 },
 "nbformat": 4,
 "nbformat_minor": 2
}
