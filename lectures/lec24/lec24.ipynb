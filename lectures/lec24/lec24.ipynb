{
 "cells": [
  {
   "cell_type": "code",
   "execution_count": null,
   "metadata": {
    "slideshow": {
     "slide_type": "skip"
    }
   },
   "outputs": [],
   "source": [
    "# Set up packages for lecture. Don't worry about understanding this code,\n",
    "# but make sure to run it if you're following along.\n",
    "import numpy as np\n",
    "import babypandas as bpd\n",
    "import pandas as pd\n",
    "from matplotlib_inline.backend_inline import set_matplotlib_formats\n",
    "import matplotlib.pyplot as plt\n",
    "set_matplotlib_formats(\"svg\")\n",
    "plt.style.use('ggplot')\n",
    "\n",
    "plt.rcParams['figure.figsize'] = (10, 5)\n",
    "\n",
    "np.set_printoptions(threshold=20, precision=2, suppress=True)\n",
    "pd.set_option(\"display.max_rows\", 7)\n",
    "pd.set_option(\"display.max_columns\", 8)\n",
    "pd.set_option(\"display.precision\", 2)\n",
    "\n",
    "# Animations\n",
    "from IPython.display import display\n",
    "import ipywidgets as widgets\n",
    "\n",
    "import warnings\n",
    "warnings.filterwarnings('ignore')\n",
    "\n",
    "# Demonstration code\n",
    "def r_scatter(r):\n",
    "    \"Generate a scatter plot with a correlation approximately r\"\n",
    "    x = np.random.normal(0, 1, 1000)\n",
    "    z = np.random.normal(0, 1, 1000)\n",
    "    y = r * x + (np.sqrt(1 - r ** 2)) * z\n",
    "    plt.scatter(x, y)\n",
    "    plt.xlim(-4, 4)\n",
    "    plt.ylim(-4, 4)\n",
    "    \n",
    "def show_scatter_grid():\n",
    "    plt.subplots(1, 4, figsize=(10, 2))\n",
    "    for i, r in enumerate([-1, -2/3, -1/3, 0]):\n",
    "        plt.subplot(1, 4, i+1)\n",
    "        r_scatter(r)\n",
    "        plt.title(f'r = {np.round(r, 2)}')\n",
    "    plt.show()\n",
    "    plt.subplots(1, 4, figsize=(10, 2))\n",
    "    for i, r in enumerate([1, 2/3, 1/3]):\n",
    "        plt.subplot(1, 4, i+1)\n",
    "        r_scatter(r)\n",
    "        plt.title(f'r = {np.round(r, 2)}')\n",
    "    plt.subplot(1, 4, 4)\n",
    "    plt.axis('off')\n",
    "    plt.show()"
   ]
  },
  {
   "cell_type": "markdown",
   "metadata": {
    "slideshow": {
     "slide_type": "slide"
    }
   },
   "source": [
    "# Lecture 24 – Correlation\n",
    "\n",
    "## DSC 10, Spring 2023"
   ]
  },
  {
   "cell_type": "markdown",
   "metadata": {
    "slideshow": {
     "slide_type": "slide"
    }
   },
   "source": [
    "### Announcements\n",
    "\n",
    "- Lab 7 is due on **Saturday 6/3 at 11:59PM**.\n",
    "- The Final Project is due on **Tuesday 6/6 at 11:59PM**.\n",
    "    - Issues saving your Final Project notebook? Watch [this video](https://edstem.org/us/courses/38383/discussion/3158956)!"
   ]
  },
  {
   "cell_type": "markdown",
   "metadata": {
    "slideshow": {
     "slide_type": "slide"
    }
   },
   "source": [
    "### Agenda\n",
    "\n",
    "- Association.\n",
    "- Correlation.\n",
    "- Regression.\n",
    "\n",
    "Remember to review the [end of Lecture 23](https://dsc10.com/resources/lectures/lec23/lec23.html#What-we've-learned-about-inference) for a high-level summary of the second half of the class so far."
   ]
  },
  {
   "cell_type": "markdown",
   "metadata": {
    "slideshow": {
     "slide_type": "slide"
    }
   },
   "source": [
    "## Association"
   ]
  },
  {
   "cell_type": "markdown",
   "metadata": {
    "slideshow": {
     "slide_type": "slide"
    }
   },
   "source": [
    "### Prediction"
   ]
  },
  {
   "cell_type": "markdown",
   "metadata": {
    "slideshow": {
     "slide_type": "fragment"
    }
   },
   "source": [
    "- Suppose we have a dataset with at least two numerical variables."
   ]
  },
  {
   "cell_type": "markdown",
   "metadata": {
    "slideshow": {
     "slide_type": "fragment"
    }
   },
   "source": [
    "- We're interested in **predicting** one variable based on another:\n",
    "    - Given my education level, what is my income?\n",
    "    - Given my height, how tall will my kid be as an adult?\n",
    "    - Given my age, how many countries have I visited?"
   ]
  },
  {
   "cell_type": "markdown",
   "metadata": {
    "slideshow": {
     "slide_type": "fragment"
    }
   },
   "source": [
    "- To do this effectively, we need to first observe a pattern between the two numerical variables."
   ]
  },
  {
   "cell_type": "markdown",
   "metadata": {
    "slideshow": {
     "slide_type": "fragment"
    }
   },
   "source": [
    "- To see if a pattern exists, we'll need to draw a scatter plot."
   ]
  },
  {
   "cell_type": "markdown",
   "metadata": {
    "slideshow": {
     "slide_type": "slide"
    }
   },
   "source": [
    "### Association"
   ]
  },
  {
   "cell_type": "markdown",
   "metadata": {
    "slideshow": {
     "slide_type": "fragment"
    }
   },
   "source": [
    "- An **association** is any relationship or link 🔗 between two variables in a **scatter plot**. Associations can be linear or non-linear."
   ]
  },
  {
   "cell_type": "markdown",
   "metadata": {
    "slideshow": {
     "slide_type": "fragment"
    }
   },
   "source": [
    "- If two variables have a positive association ↗️, then as one variable increases, the other tends to increase.\n",
    "- If two variables have a negative association ↘️, then as one variable increases, the other tends to decrease."
   ]
  },
  {
   "cell_type": "markdown",
   "metadata": {
    "slideshow": {
     "slide_type": "fragment"
    }
   },
   "source": [
    "- If two variables are associated, then we can predict the value of one variable based on the value of the other."
   ]
  },
  {
   "cell_type": "markdown",
   "metadata": {
    "slideshow": {
     "slide_type": "slide"
    }
   },
   "source": [
    "### Example: Hybrid cars 🚗"
   ]
  },
  {
   "cell_type": "code",
   "execution_count": null,
   "metadata": {
    "scrolled": true
   },
   "outputs": [],
   "source": [
    "hybrid = bpd.read_csv('data/hybrid.csv')\n",
    "hybrid"
   ]
  },
  {
   "cell_type": "markdown",
   "metadata": {
    "slideshow": {
     "slide_type": "slide"
    }
   },
   "source": [
    "### `'price'` vs. `'acceleration'`\n",
    "\n",
    "Is there an association between these two variables? If so, what kind?"
   ]
  },
  {
   "cell_type": "code",
   "execution_count": null,
   "metadata": {},
   "outputs": [],
   "source": [
    "hybrid.plot(kind='scatter', x='acceleration', y='price');"
   ]
  },
  {
   "cell_type": "markdown",
   "metadata": {
    "slideshow": {
     "slide_type": "slide"
    }
   },
   "source": [
    "### `'price'` vs. `'mpg'`\n",
    "\n",
    "Is there an association between these two variables? If so, what kind?"
   ]
  },
  {
   "cell_type": "code",
   "execution_count": null,
   "metadata": {},
   "outputs": [],
   "source": [
    "hybrid.plot(kind='scatter', x='mpg', y='price');"
   ]
  },
  {
   "cell_type": "markdown",
   "metadata": {
    "slideshow": {
     "slide_type": "fragment"
    }
   },
   "source": [
    "**Observations**:\n",
    "- There is a negative association – cars with better fuel economy tended to be cheaper.\n",
    "    - Why do we think that is? 🤔\n",
    "- The association looks more curved than linear. \n",
    "    - It may roughly follow $y \\approx \\frac{1}{x}$.\n",
    "   "
   ]
  },
  {
   "cell_type": "markdown",
   "metadata": {
    "slideshow": {
     "slide_type": "slide"
    }
   },
   "source": [
    "### Linear changes in units"
   ]
  },
  {
   "cell_type": "markdown",
   "metadata": {
    "slideshow": {
     "slide_type": "fragment"
    }
   },
   "source": [
    "- A linear change in units doesn't change the shape of the plot, it only changes the scale of the plot.\n",
    "    - Linear change means adding or subtracting a constant, and multiplying or dividing by a constant."
   ]
  },
  {
   "cell_type": "markdown",
   "metadata": {
    "slideshow": {
     "slide_type": "fragment"
    }
   },
   "source": [
    "- In other words, instead of plotting price in _dollars_ and fuel economy in _miles per gallon_, we can plot price in _Yen (🇯🇵)_ and fuel economy in _kilometers per liter_ and the plot would look the same, just with different axes:"
   ]
  },
  {
   "cell_type": "code",
   "execution_count": null,
   "metadata": {
    "slideshow": {
     "slide_type": "-"
    }
   },
   "outputs": [],
   "source": [
    "hybrid.assign(\n",
    "    km_per_liter=hybrid.get('mpg') * 0.425144,\n",
    "    yen=hybrid.get('price') * 139.77 \n",
    ").plot(kind='scatter', x='km_per_liter', y='yen');"
   ]
  },
  {
   "cell_type": "markdown",
   "metadata": {
    "slideshow": {
     "slide_type": "slide"
    }
   },
   "source": [
    "### Converting columns to standard units"
   ]
  },
  {
   "cell_type": "markdown",
   "metadata": {
    "slideshow": {
     "slide_type": "fragment"
    }
   },
   "source": [
    "- Recall: Suppose $x$ is a numerical variable, and $x_i$ is one value of that variable. To convert $x_i$ to standard units,\n",
    "$$x_{i \\: \\text{(su)}} = \\frac{x_i - \\text{mean of $x$}}{\\text{SD of $x$}}$$"
   ]
  },
  {
   "cell_type": "markdown",
   "metadata": {
    "slideshow": {
     "slide_type": "fragment"
    }
   },
   "source": [
    "- Converting columns to standard units makes different scatter plots comparable, by putting the $x$ and $y$ axes on the **same scale**.\n",
    "    - Both axes measure the number of standard deviations above the mean."
   ]
  },
  {
   "cell_type": "markdown",
   "metadata": {
    "slideshow": {
     "slide_type": "fragment"
    }
   },
   "source": [
    "- Converting columns to standard units doesn't change shape of the scatter plot, because the conversion is linear."
   ]
  },
  {
   "cell_type": "code",
   "execution_count": null,
   "metadata": {},
   "outputs": [],
   "source": [
    "def standard_units(any_numbers):\n",
    "    \"Convert any array of numbers to standard units.\"\n",
    "    any_numbers = np.array(any_numbers)\n",
    "    return (any_numbers - any_numbers.mean()) / np.std(any_numbers)"
   ]
  },
  {
   "cell_type": "code",
   "execution_count": null,
   "metadata": {},
   "outputs": [],
   "source": [
    "def standardize(df):\n",
    "    \"\"\"Return a DataFrame in which all columns of df are converted to standard units.\"\"\"\n",
    "    df_su = bpd.DataFrame()\n",
    "    for column in df.columns:\n",
    "        df_su = df_su.assign(**{column + ' (su)': standard_units(df.get(column))})\n",
    "    return df_su"
   ]
  },
  {
   "cell_type": "markdown",
   "metadata": {
    "slideshow": {
     "slide_type": "slide"
    }
   },
   "source": [
    "### Standard units for hybrid cars\n",
    "For a given pair of variables:\n",
    "- Which cars are average in both variables?\n",
    "- Which cars are well above or well below average in both variables?"
   ]
  },
  {
   "cell_type": "code",
   "execution_count": null,
   "metadata": {
    "scrolled": false
   },
   "outputs": [],
   "source": [
    "hybrid_su = standardize(hybrid.get(['price', 'acceleration', 'mpg'])).assign(vehicle=hybrid.get('vehicle'))\n",
    "hybrid_su"
   ]
  },
  {
   "cell_type": "markdown",
   "metadata": {
    "slideshow": {
     "slide_type": "slide"
    }
   },
   "source": [
    "### `'price'` vs. `'acceleration'`"
   ]
  },
  {
   "cell_type": "code",
   "execution_count": null,
   "metadata": {
    "scrolled": false,
    "slideshow": {
     "slide_type": "-"
    }
   },
   "outputs": [],
   "source": [
    "hybrid_su.plot(kind='scatter', x='acceleration (su)', y='price (su)');"
   ]
  },
  {
   "cell_type": "markdown",
   "metadata": {},
   "source": [
    "Which cars have `'acceleration'`s and `'price'`s that are more than 2 SDs above average?"
   ]
  },
  {
   "cell_type": "code",
   "execution_count": null,
   "metadata": {
    "slideshow": {
     "slide_type": "-"
    }
   },
   "outputs": [],
   "source": [
    "hybrid_su[(hybrid_su.get('acceleration (su)') > 2) &\n",
    "          (hybrid_su.get('price (su)') > 2)]"
   ]
  },
  {
   "cell_type": "markdown",
   "metadata": {
    "slideshow": {
     "slide_type": "slide"
    }
   },
   "source": [
    "### `'price'` vs. `'mpg'`"
   ]
  },
  {
   "cell_type": "code",
   "execution_count": null,
   "metadata": {
    "scrolled": false,
    "slideshow": {
     "slide_type": "-"
    }
   },
   "outputs": [],
   "source": [
    "hybrid_su.plot(kind='scatter', x='mpg (su)', y='price (su)');"
   ]
  },
  {
   "cell_type": "markdown",
   "metadata": {
    "slideshow": {
     "slide_type": "-"
    }
   },
   "source": [
    "Which cars have close to average `'mpg'`s and close to average `'price'`s?"
   ]
  },
  {
   "cell_type": "code",
   "execution_count": null,
   "metadata": {},
   "outputs": [],
   "source": [
    "hybrid_su[(hybrid_su.get('mpg (su)') <= 0.3) &\n",
    "          (hybrid_su.get('mpg (su)') >= -0.3) &\n",
    "          (hybrid_su.get('price (su)') <= 0.3) &\n",
    "          (hybrid_su.get('price (su)') >= -0.3)]"
   ]
  },
  {
   "cell_type": "markdown",
   "metadata": {
    "slideshow": {
     "slide_type": "slide"
    }
   },
   "source": [
    "### Observation on associations in standard units"
   ]
  },
  {
   "cell_type": "markdown",
   "metadata": {
    "slideshow": {
     "slide_type": "fragment"
    }
   },
   "source": [
    "- If two variables are positively associated  ↗️,\n",
    "    - when one variable is positive, the other tends to be positive, and\n",
    "    - when one variable is negative, the other also tends to be negative."
   ]
  },
  {
   "cell_type": "markdown",
   "metadata": {
    "slideshow": {
     "slide_type": "fragment"
    }
   },
   "source": [
    "- If two variables are negatively associated ↘️,\n",
    "    - when one variable is positive, the other tends to be negative, and vice versa."
   ]
  },
  {
   "cell_type": "markdown",
   "metadata": {
    "slideshow": {
     "slide_type": "fragment"
    }
   },
   "source": [
    "- If two variables aren't associated, there should be no such pattern."
   ]
  },
  {
   "cell_type": "markdown",
   "metadata": {
    "slideshow": {
     "slide_type": "slide"
    }
   },
   "source": [
    "## Correlation"
   ]
  },
  {
   "cell_type": "markdown",
   "metadata": {
    "slideshow": {
     "slide_type": "slide"
    }
   },
   "source": [
    "### Definition: Correlation coefficient\n",
    "\n",
    "The correlation coefficient $r$ of two variables $x$ and $y$ is defined as the \n",
    "- **average** value of the \n",
    "- **product** of $x$ and $y$\n",
    "- when both are measured in **standard units**."
   ]
  },
  {
   "cell_type": "markdown",
   "metadata": {
    "slideshow": {
     "slide_type": "fragment"
    }
   },
   "source": [
    "If `x` and `y` are two Series or arrays, \n",
    "```py\n",
    "r = (x_su * y_su).mean()\n",
    "```\n",
    "where `x_su` and `y_su` are `x` and `y` converted to standard units."
   ]
  },
  {
   "cell_type": "code",
   "execution_count": null,
   "metadata": {},
   "outputs": [],
   "source": [
    "def calculate_r(df, x, y):\n",
    "    x_su = df.get(x + ' (su)')\n",
    "    y_su = df.get(y + ' (su)')\n",
    "    return (x_su * y_su).mean()"
   ]
  },
  {
   "cell_type": "markdown",
   "metadata": {
    "slideshow": {
     "slide_type": "slide"
    }
   },
   "source": [
    "Let's calculate $r$ for `'acceleration'` and `'price'`."
   ]
  },
  {
   "cell_type": "code",
   "execution_count": null,
   "metadata": {
    "slideshow": {
     "slide_type": "-"
    }
   },
   "outputs": [],
   "source": [
    "hybrid_su"
   ]
  },
  {
   "cell_type": "code",
   "execution_count": null,
   "metadata": {
    "slideshow": {
     "slide_type": "-"
    }
   },
   "outputs": [],
   "source": [
    "r_acc_price = calculate_r(hybrid_su, 'acceleration', 'price')\n",
    "r_acc_price"
   ]
  },
  {
   "cell_type": "code",
   "execution_count": null,
   "metadata": {},
   "outputs": [],
   "source": [
    "hybrid_su.plot(kind='scatter', x='acceleration (su)', y='price (su)')\n",
    "plt.axvline(0, color='black');\n",
    "plt.axhline(0, color='black');"
   ]
  },
  {
   "cell_type": "markdown",
   "metadata": {
    "slideshow": {
     "slide_type": "fragment"
    }
   },
   "source": [
    "Note that the correlation is positive, and most data points fall in the lower left and upper right quadrants!"
   ]
  },
  {
   "cell_type": "markdown",
   "metadata": {
    "slideshow": {
     "slide_type": "slide"
    }
   },
   "source": [
    "Let's now calculate $r$ for `'mpg'` and `'price'`."
   ]
  },
  {
   "cell_type": "code",
   "execution_count": null,
   "metadata": {
    "scrolled": false
   },
   "outputs": [],
   "source": [
    "hybrid_su"
   ]
  },
  {
   "cell_type": "code",
   "execution_count": null,
   "metadata": {
    "slideshow": {
     "slide_type": "-"
    }
   },
   "outputs": [],
   "source": [
    "r_mpg_price = calculate_r(hybrid_su, 'mpg', 'price')\n",
    "r_mpg_price"
   ]
  },
  {
   "cell_type": "code",
   "execution_count": null,
   "metadata": {},
   "outputs": [],
   "source": [
    "hybrid_su.plot(kind='scatter', x='mpg (su)', y='price (su)');\n",
    "plt.axvline(0, color='black');\n",
    "plt.axhline(0, color='black');"
   ]
  },
  {
   "cell_type": "markdown",
   "metadata": {
    "slideshow": {
     "slide_type": "fragment"
    }
   },
   "source": [
    "Note that the correlation is negative, and most data points fall in the upper left and lower right quadrants!"
   ]
  },
  {
   "cell_type": "markdown",
   "metadata": {
    "slideshow": {
     "slide_type": "slide"
    }
   },
   "source": [
    "### The correlation coefficient, $r$"
   ]
  },
  {
   "cell_type": "markdown",
   "metadata": {
    "slideshow": {
     "slide_type": "fragment"
    }
   },
   "source": [
    "- $r$ measures how clustered points are around a straight line – **it measures linear association**.\n",
    "    - If two variables are correlated, it means they are linearly associated.\n"
   ]
  },
  {
   "cell_type": "markdown",
   "metadata": {
    "slideshow": {
     "slide_type": "fragment"
    }
   },
   "source": [
    "- $r$ is always between $-1$ and $1$.\n",
    "    - If $r = 1$, the scatter plot is a line of slope 1.\n",
    "    - If $r = -1$, the scatter plot is a line of slope -1.\n",
    "    - If $r = 0$, there is no linear association (_uncorrelated_)."
   ]
  },
  {
   "cell_type": "code",
   "execution_count": null,
   "metadata": {
    "scrolled": false
   },
   "outputs": [],
   "source": [
    "show_scatter_grid()"
   ]
  },
  {
   "cell_type": "markdown",
   "metadata": {
    "slideshow": {
     "slide_type": "fragment"
    }
   },
   "source": [
    "- $r$ is computed based on standard units.\n",
    "    - The correlation between price in _dollars_ and fuel economy in _miles per gallon_ is the same as the correlation between price in _Yen_ and fuel economy in _kilometers per liter_."
   ]
  },
  {
   "cell_type": "markdown",
   "metadata": {
    "slideshow": {
     "slide_type": "fragment"
    }
   },
   "source": [
    "- $r$ quantifies **how well we can predict one variable using the other**.\n",
    "   - If $r$ is close to $1$ or $-1$ we can predict one variable from the other quite accurately.\n",
    "   - If $r$ is close to $0$, we cannot make good predictions."
   ]
  },
  {
   "cell_type": "markdown",
   "metadata": {
    "slideshow": {
     "slide_type": "slide"
    }
   },
   "source": [
    "### Concept Check ✅ – Answer at [cc.dsc10.com](http://cc.dsc10.com) \n",
    "\n",
    "Which of the following does the scatter plot below show?\n",
    "\n",
    "- A. Association and correlation\n",
    "- B. Association but not correlation\n",
    "- C. Correlation but not association\n",
    "- D. Neither association nor correlation"
   ]
  },
  {
   "cell_type": "code",
   "execution_count": null,
   "metadata": {},
   "outputs": [],
   "source": [
    "x2 = bpd.DataFrame().assign(\n",
    "    x=np.arange(-6, 6.1, 0.5), \n",
    "    y=np.arange(-6, 6.1, 0.5) ** 2\n",
    ")\n",
    "x2.plot(kind='scatter', x='x', y='y');"
   ]
  },
  {
   "cell_type": "markdown",
   "metadata": {},
   "source": [
    "<details><summary>✅ Click <b>here</b> to see the answer <b>after</b> trying it yourself.</summary>\n",
    "\n",
    "B. Association but not correlation\n",
    "    \n",
    "Since there is a pattern in the scatter plot of $x$ and $y$, there is an association between $x$ and $y$. However, correlation refers to <b>linear</b> association, and there is no linear association between $x$ and $y$. The relationship between $x$ and $y$ is actually $y = x^2$. Even though the association between $x$ and $y$ is very strong, the association cannot be described by a linear function because as $x$ increases, $y$ first decreases, and then increases. \n",
    "    \n",
    "The correlation ($r$) between $x$ and $y$ is 0 – try to calculate it yourself!\n",
    "\n",
    "</details>"
   ]
  },
  {
   "cell_type": "markdown",
   "metadata": {
    "slideshow": {
     "slide_type": "slide"
    }
   },
   "source": [
    "## Regression"
   ]
  },
  {
   "cell_type": "markdown",
   "metadata": {
    "slideshow": {
     "slide_type": "slide"
    }
   },
   "source": [
    "### Example: Predicting heights  👪 📏\n",
    "\n",
    "The data below was collected in the late 1800s by [Francis Galton](https://en.wikipedia.org/wiki/Francis_Galton).\n",
    "- He was a eugenicist and proponent of scientific racism, which is why he collected this data.\n",
    "- Today, we understand that eugenics is immoral, and that there is no scientific evidence or any other justification for racism.\n",
    "- Galton is credited with discovering regression using this data."
   ]
  },
  {
   "cell_type": "code",
   "execution_count": null,
   "metadata": {},
   "outputs": [],
   "source": [
    "galton = bpd.read_csv('data/galton.csv')\n",
    "galton"
   ]
  },
  {
   "cell_type": "markdown",
   "metadata": {
    "slideshow": {
     "slide_type": "slide"
    }
   },
   "source": [
    "### Mothers and sons 👵👨\n",
    "\n",
    "Let's just consider the relationship between mothers' heights and their adult sons' heights."
   ]
  },
  {
   "cell_type": "code",
   "execution_count": null,
   "metadata": {},
   "outputs": [],
   "source": [
    "male_children = galton[galton.get('gender') == 'male']\n",
    "mom_son = bpd.DataFrame().assign(mom = male_children.get('mother'), \n",
    "                                 son = male_children.get('childHeight'))\n",
    "mom_son"
   ]
  },
  {
   "cell_type": "code",
   "execution_count": null,
   "metadata": {},
   "outputs": [],
   "source": [
    "mom_son.plot(kind='scatter', x='mom', y='son');"
   ]
  },
  {
   "cell_type": "markdown",
   "metadata": {
    "slideshow": {
     "slide_type": "slide"
    }
   },
   "source": [
    "### Predicting a son's height based on his mother's height\n",
    "\n",
    "- The scatter plot demonstrates a positive association between a mother's height (`'mom'`) and her son's height (`'son'`). \n",
    "- Let's quantify how *linear* that association is by computing the correlation between `'mom'` and `'son'`. \n",
    "- First, we standardize the data."
   ]
  },
  {
   "cell_type": "code",
   "execution_count": null,
   "metadata": {},
   "outputs": [],
   "source": [
    "mom_son_su = standardize(mom_son)\n",
    "mom_son_su.plot(kind='scatter', x='mom (su)', y='son (su)');"
   ]
  },
  {
   "cell_type": "code",
   "execution_count": null,
   "metadata": {
    "scrolled": true
   },
   "outputs": [],
   "source": [
    "r_mom_son = calculate_r(mom_son_su, 'mom', 'son')\n",
    "r_mom_son"
   ]
  },
  {
   "cell_type": "markdown",
   "metadata": {
    "slideshow": {
     "slide_type": "slide"
    }
   },
   "source": [
    "### Many possible ways to make predictions\n",
    "\n",
    "- We want a _simple_ strategy, or rule, for predicting a son's height. \n",
    "- The simplest possible prediction strategy just predicts the same value for every son's height, regardless of his mother's height. \n",
    "- Some such predictions are better than others."
   ]
  },
  {
   "cell_type": "code",
   "execution_count": null,
   "metadata": {},
   "outputs": [],
   "source": [
    "def constant_prediction(prediction):\n",
    "    mom_son_su.plot(kind='scatter', x='mom (su)', y='son (su)', title=f'Predicting a height of {prediction} SUs for all sons', figsize=(10, 5));\n",
    "    plt.axhline(prediction, color='orange', lw=4);\n",
    "    plt.xlim(-3, 3)\n",
    "    plt.show()\n",
    "\n",
    "prediction = widgets.FloatSlider(value=-3, min=-3,max=3,step=0.5, description='prediction')\n",
    "ui = widgets.HBox([prediction])\n",
    "out = widgets.interactive_output(constant_prediction, {'prediction': prediction})\n",
    "display(ui, out)"
   ]
  },
  {
   "cell_type": "markdown",
   "metadata": {
    "slideshow": {
     "slide_type": "fragment"
    }
   },
   "source": [
    "- Which of these predictions is the best? \n",
    "    - It depends on what we mean by \"best,\" but a natural choice is the rule that predicts 0 standard units, because this corresponds to the mean height of all sons."
   ]
  },
  {
   "cell_type": "code",
   "execution_count": null,
   "metadata": {},
   "outputs": [],
   "source": [
    "mom_son_su.plot(kind='scatter', x='mom (su)', y='son (su)', title='A good prediction is the mean height of sons (0 SUs)', figsize=(10, 5));\n",
    "plt.axhline(0, color='orange', lw=4);\n",
    "plt.xlim(-3, 3);"
   ]
  },
  {
   "cell_type": "markdown",
   "metadata": {
    "slideshow": {
     "slide_type": "slide"
    }
   },
   "source": [
    "### Better predictions\n",
    "\n",
    "- Since there is linear association between a son's height and his mother's height, we can make better predictions by allowing our predictions to vary with the mother's height. \n",
    "- The simplest way to do this uses a line to make predictions.\n",
    "- As before, some lines are better than others."
   ]
  },
  {
   "cell_type": "code",
   "execution_count": null,
   "metadata": {},
   "outputs": [],
   "source": [
    "def linear_prediction(slope):\n",
    "    x = np.linspace(-3, 3)\n",
    "    y = x * slope\n",
    "    mom_son_su.plot(kind='scatter', x='mom (su)', y='son (su)', figsize=(10, 5));\n",
    "    plt.plot(x, y, color='orange', lw=4)\n",
    "    plt.xlim(-3, 3)\n",
    "    plt.title(r\"Predicting sons' heights using $\\mathrm{son}_{\\mathrm{(su)}}$ = \" + str(np.round(slope, 2)) + r\"$ \\cdot \\mathrm{mother}_{\\mathrm{(su)}}$\")\n",
    "    plt.show()\n",
    "\n",
    "slope = widgets.FloatSlider(value=0, min=-1,max=1,step=1/6, description='slope')\n",
    "ui = widgets.HBox([slope])\n",
    "out = widgets.interactive_output(linear_prediction, {'slope': slope})\n",
    "display(ui, out)"
   ]
  },
  {
   "cell_type": "markdown",
   "metadata": {
    "slideshow": {
     "slide_type": "fragment"
    }
   },
   "source": [
    "- Which of these lines is the best? \n",
    "     - Again, it depends what we mean by \"best,\" but a good choice is the line that goes through the origin and has a slope of $r$.\n",
    "     - This line is called the **regression line**, and we'll see next time that it is the \"best\" line for making predictions in a certain sense."
   ]
  },
  {
   "cell_type": "code",
   "execution_count": null,
   "metadata": {},
   "outputs": [],
   "source": [
    "x = np.linspace(-3, 3)\n",
    "y = x * r_mom_son\n",
    "mom_son_su.plot(kind='scatter', x='mom (su)', y='son (su)', title=r'A good line goes through the origin and has slope $r$', figsize=(10, 5));\n",
    "plt.plot(x, y, color='orange', label='regression line', lw=4)\n",
    "plt.xlim(-3, 3)\n",
    "plt.legend();"
   ]
  },
  {
   "cell_type": "markdown",
   "metadata": {
    "slideshow": {
     "slide_type": "slide"
    }
   },
   "source": [
    "### The regression line\n",
    "\n",
    "- The regression line is the line through $(0,0)$ with slope $r$, when both variables are measured in **standard units**.\n",
    "\n",
    "<center><img src='data/regression-line.png' width=30%></center>\n",
    "\n",
    "- We use the regression line to make predictions!"
   ]
  },
  {
   "cell_type": "markdown",
   "metadata": {
    "slideshow": {
     "slide_type": "slide"
    }
   },
   "source": [
    "### Making predictions in standard units\n",
    "\n",
    "<center><img src='data/regression-line.png' width=30%></center>"
   ]
  },
  {
   "cell_type": "markdown",
   "metadata": {
    "slideshow": {
     "slide_type": "fragment"
    }
   },
   "source": [
    "- If $r = 0.32$, and the given $x$ is $2$ in standard units, then the prediction for $y$ is $0.64$ standard units.\n",
    "    - The regression line predicts that a mother whose height is $2$ SDs above average has a son whose height is $0.64$ SDs above average."
   ]
  },
  {
   "cell_type": "markdown",
   "metadata": {
    "slideshow": {
     "slide_type": "fragment"
    }
   },
   "source": [
    "- If $r = 0.32$, and the given $x$ is $-1$ in standard units, then the prediction for $y$ is $-0.32$ standard units."
   ]
  },
  {
   "cell_type": "markdown",
   "metadata": {
    "slideshow": {
     "slide_type": "fragment"
    }
   },
   "source": [
    "- We always _predict_ that a son will be somewhat **closer to average** in height than his mother.\n",
    "    - This is a consequence of the slope $r$ having magnitude less than 1.\n",
    "    - This effect is called **regression to the mean**."
   ]
  },
  {
   "cell_type": "markdown",
   "metadata": {
    "slideshow": {
     "slide_type": "fragment"
    }
   },
   "source": [
    "- The regression line passes through the origin $(0, 0)$ in standard units. This means that, no matter what $r$ is, **for an average $x$ value, we predict an average $y$ value**."
   ]
  },
  {
   "cell_type": "markdown",
   "metadata": {
    "slideshow": {
     "slide_type": "slide"
    }
   },
   "source": [
    "### Making predictions in original units\n",
    "\n",
    "Of course, we'd like to be able to predict a son's height in inches, not just in standard units. Given a mother's height in inches, here's how we'll predict her son's height in inches:\n",
    "1. Convert the mother's height from inches to standard units.\n",
    "\n",
    "$$x_{i \\: \\text{(su)}} = \\frac{x_i - \\text{mean of $x$}}{\\text{SD of $x$}}$$\n",
    "\n",
    "2. Multiply by the correlation coefficient to predict the son's height in standard units.\n",
    "\n",
    "$$\\text{predicted } y_{i \\: \\text{(su)}} = r \\cdot x_{i \\: \\text{(su)}}$$\n",
    "\n",
    "3. Convert the son's predicted height from standard units back to inches.\n",
    "\n",
    "$$\\text{predicted } y_i = \\text{predicted } y_{i \\: \\text{(su)}} \\cdot \\text{SD of $y$} + \\text{mean of $y$}$$"
   ]
  },
  {
   "cell_type": "markdown",
   "metadata": {
    "slideshow": {
     "slide_type": "slide"
    }
   },
   "source": [
    "Let's try it!"
   ]
  },
  {
   "cell_type": "code",
   "execution_count": null,
   "metadata": {},
   "outputs": [],
   "source": [
    "mom_mean = mom_son.get('mom').mean()\n",
    "mom_sd = np.std(mom_son.get('mom'))\n",
    "son_mean = mom_son.get('son').mean()\n",
    "son_sd = np.std(mom_son.get('son'))"
   ]
  },
  {
   "cell_type": "code",
   "execution_count": null,
   "metadata": {
    "slideshow": {
     "slide_type": "-"
    }
   },
   "outputs": [],
   "source": [
    "def predict_with_r(mom):\n",
    "    \"\"\"Return a prediction for the height of a son whose mother has height mom, \n",
    "    using linear regression.\n",
    "    \"\"\"\n",
    "    mom_su = (mom - mom_mean) / mom_sd\n",
    "    son_su = r_mom_son * mom_su\n",
    "    return son_su * son_sd + son_mean"
   ]
  },
  {
   "cell_type": "code",
   "execution_count": null,
   "metadata": {},
   "outputs": [],
   "source": [
    "predict_with_r(68)"
   ]
  },
  {
   "cell_type": "code",
   "execution_count": null,
   "metadata": {},
   "outputs": [],
   "source": [
    "predict_with_r(60)"
   ]
  },
  {
   "cell_type": "code",
   "execution_count": null,
   "metadata": {},
   "outputs": [],
   "source": [
    "preds = mom_son.assign(\n",
    "    predicted_height=mom_son.get('mom').apply(predict_with_r)\n",
    ")\n",
    "ax = preds.plot(kind='scatter', x='mom', y='son', title='Regression line predictions, in original units', figsize=(10, 5), label='original data')\n",
    "preds.plot(kind='line', x='mom', y='predicted_height', ax=ax, color='orange', label='regression line', lw=4);\n",
    "plt.legend();"
   ]
  },
  {
   "cell_type": "markdown",
   "metadata": {
    "slideshow": {
     "slide_type": "slide"
    }
   },
   "source": [
    "### Concept Check ✅ – Answer at [cc.dsc10.com](http://cc.dsc10.com) \n",
    "\n",
    "A course has a midterm (mean 80, standard deviation 15) and a really hard final (mean 50, standard deviation 12).\n",
    "\n",
    "If the scatter plot comparing midterm & final scores for students looks linearly associated with correlation 0.75, then what is the predicted final exam score for a student who received a 90 on the midterm?\n",
    "\n",
    "- A. 54\n",
    "- B. 56\n",
    "- C. 58\n",
    "- D. 60\n",
    "- E. 62"
   ]
  },
  {
   "cell_type": "markdown",
   "metadata": {
    "slideshow": {
     "slide_type": "slide"
    }
   },
   "source": [
    "## Summary, next time"
   ]
  },
  {
   "cell_type": "markdown",
   "metadata": {
    "slideshow": {
     "slide_type": "slide"
    }
   },
   "source": [
    "### Summary\n",
    "\n",
    "- The correlation coefficient, $r$, measures the linear association between two variables $x$ and $y$.\n",
    "    - It ranges between -1 and 1.\n",
    "- When both variables are measured in standard units, the regression line is the straight line passing through $(0, 0)$ with slope $r$. We can use it to make predictions for a $y$ value (e.g. son's height) given an $x$ value (e.g. mother's height)."
   ]
  },
  {
   "cell_type": "markdown",
   "metadata": {
    "slideshow": {
     "slide_type": "slide"
    }
   },
   "source": [
    "### Next time\n",
    "\n",
    "More on regression, including:\n",
    "  - What is the equation of the regression line in original units (e.g. inches)?\n",
    "  - In what sense is the regression line the \"best\" line for making predictions?"
   ]
  }
 ],
 "metadata": {
  "kernelspec": {
   "display_name": "Python 3 (ipykernel)",
   "language": "python",
   "name": "python3"
  },
  "language_info": {
   "codemirror_mode": {
    "name": "ipython",
    "version": 3
   },
   "file_extension": ".py",
   "mimetype": "text/x-python",
   "name": "python",
   "nbconvert_exporter": "python",
   "pygments_lexer": "ipython3",
   "version": "3.9.13"
  },
  "livereveal": {
   "scroll": true,
   "transition": "none"
  },
  "rise": {
   "enable_chalkboard": true
  }
 },
 "nbformat": 4,
 "nbformat_minor": 2
}
