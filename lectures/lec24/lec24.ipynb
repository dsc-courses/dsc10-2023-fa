{
 "cells": [
  {
   "cell_type": "code",
   "execution_count": null,
   "metadata": {
    "slideshow": {
     "slide_type": "skip"
    }
   },
   "outputs": [],
   "source": [
    "# Set up packages for lecture. Don't worry about understanding this code,\n",
    "# but make sure to run it if you're following along.\n",
    "import numpy as np\n",
    "import babypandas as bpd\n",
    "import pandas as pd\n",
    "from matplotlib_inline.backend_inline import set_matplotlib_formats\n",
    "import matplotlib.pyplot as plt\n",
    "set_matplotlib_formats(\"svg\")\n",
    "plt.style.use('ggplot')\n",
    "\n",
    "plt.rcParams['figure.figsize'] = (10, 5)\n",
    "\n",
    "np.set_printoptions(threshold=20, precision=2, suppress=True)\n",
    "pd.set_option(\"display.max_rows\", 7)\n",
    "pd.set_option(\"display.max_columns\", 8)\n",
    "pd.set_option(\"display.precision\", 2)\n",
    "\n",
    "import warnings\n",
    "warnings.filterwarnings('ignore')\n",
    "\n",
    "# Demonstration code\n",
    "from IPython.display import display\n",
    "import ipywidgets as widgets\n",
    "import plotly.express as px\n",
    "\n",
    "def r_scatter(r):\n",
    "    \"Generate a scatter plot with a correlation approximately r\"\n",
    "    x = np.random.normal(0, 1, 1000)\n",
    "    z = np.random.normal(0, 1, 1000)\n",
    "    y = r * x + (np.sqrt(1 - r ** 2)) * z\n",
    "    plt.scatter(x, y)\n",
    "    plt.xlim(-4, 4)\n",
    "    plt.ylim(-4, 4)\n",
    "    plt.title(f'$r={r}$')\n",
    "    \n",
    "def show_scatter_grid():\n",
    "    plt.subplots(1, 4, figsize=(10, 2))\n",
    "    for i, r in enumerate([-1, -2/3, -1/3, 0]):\n",
    "        plt.subplot(1, 4, i+1)\n",
    "        r_scatter(r)\n",
    "        plt.title(f'r = {np.round(r, 2)}')\n",
    "    plt.show()\n",
    "    plt.subplots(1, 4, figsize=(10, 2))\n",
    "    for i, r in enumerate([1, 2/3, 1/3]):\n",
    "        plt.subplot(1, 4, i+1)\n",
    "        r_scatter(r)\n",
    "        plt.title(f'$r = {np.round(r, 2)}$')\n",
    "    plt.subplot(1, 4, 4)\n",
    "    plt.axis('off')\n",
    "    plt.show()"
   ]
  },
  {
   "cell_type": "markdown",
   "metadata": {
    "slideshow": {
     "slide_type": "slide"
    }
   },
   "source": [
    "# Lecture 24 – Correlation\n",
    "\n",
    "## DSC 10, Fall 2023"
   ]
  },
  {
   "cell_type": "markdown",
   "metadata": {
    "slideshow": {
     "slide_type": "slide"
    }
   },
   "source": [
    "### Announcements\n",
    "\n",
    "- Quiz 4 is **today in discussion section**.\n",
    "    - It covers Lectures 18 through 22.\n",
    "    - Prepare by solving relevant problems on [practice.dsc10.com](https://practice.dsc10.com/).\n",
    "- Homework 6 is due **Friday at 11:59PM**.\n",
    "- The Final Project is due **Tuesday 12/5 at 11:59PM**. "
   ]
  },
  {
   "cell_type": "markdown",
   "metadata": {
    "slideshow": {
     "slide_type": "slide"
    }
   },
   "source": [
    "### Agenda\n",
    "\n",
    "- Recap: Statistical inference.\n",
    "- Association.\n",
    "- Correlation.\n",
    "- Regression."
   ]
  },
  {
   "cell_type": "markdown",
   "metadata": {
    "slideshow": {
     "slide_type": "slide"
    }
   },
   "source": [
    "## Recap: Statistical inference"
   ]
  },
  {
   "cell_type": "markdown",
   "metadata": {
    "slideshow": {
     "slide_type": "slide"
    }
   },
   "source": [
    "### What we've learned about inference\n",
    "\n",
    "At a high level, the second half of this class has been about **statistical inference** – using a sample to draw conclusions about the population."
   ]
  },
  {
   "cell_type": "markdown",
   "metadata": {
    "slideshow": {
     "slide_type": "fragment"
    }
   },
   "source": [
    "- To test whether a sample came from a known population distribution, use \"standard\" hypothesis testing. "
   ]
  },
  {
   "cell_type": "markdown",
   "metadata": {
    "slideshow": {
     "slide_type": "fragment"
    }
   },
   "source": [
    "- To test whether two samples came from the same unknown population distribution, use permutation testing."
   ]
  },
  {
   "cell_type": "markdown",
   "metadata": {
    "slideshow": {
     "slide_type": "fragment"
    }
   },
   "source": [
    "- To estimate a population parameter given a single sample, construct a confidence interval using bootstrapping (for most statistics) or the CLT (for the sample mean)."
   ]
  },
  {
   "cell_type": "markdown",
   "metadata": {
    "slideshow": {
     "slide_type": "fragment"
    }
   },
   "source": [
    "- To test whether a population parameter is equal to a particular value, $x$, construct a confidence interval using bootstrapping (for most statistics) or the CLT (for the sample mean), and check whether $x$ is in the interval."
   ]
  },
  {
   "cell_type": "markdown",
   "metadata": {
    "slideshow": {
     "slide_type": "slide"
    }
   },
   "source": [
    "### Moving forward"
   ]
  },
  {
   "cell_type": "markdown",
   "metadata": {
    "slideshow": {
     "slide_type": "fragment"
    }
   },
   "source": [
    "- For the remainder of the quarter, we'll switch our focus to **prediction** – given a sample, what can I predict about data not in that sample?"
   ]
  },
  {
   "cell_type": "markdown",
   "metadata": {
    "slideshow": {
     "slide_type": "fragment"
    }
   },
   "source": [
    "- Specifically, we'll focus on **linear regression**, a prediction technique that tries to find the best \"linear relationship\" between two numerical variables."
   ]
  },
  {
   "cell_type": "markdown",
   "metadata": {
    "slideshow": {
     "slide_type": "fragment"
    }
   },
   "source": [
    "- Along the way, we'll address another idea – **correlation**."
   ]
  },
  {
   "cell_type": "markdown",
   "metadata": {
    "slideshow": {
     "slide_type": "fragment"
    }
   },
   "source": [
    "- You will see linear regression in many more courses – it is one of the most important tools in the data science toolkit."
   ]
  },
  {
   "cell_type": "markdown",
   "metadata": {
    "slideshow": {
     "slide_type": "slide"
    }
   },
   "source": [
    "## Association"
   ]
  },
  {
   "cell_type": "markdown",
   "metadata": {
    "slideshow": {
     "slide_type": "slide"
    }
   },
   "source": [
    "### Prediction"
   ]
  },
  {
   "cell_type": "markdown",
   "metadata": {
    "slideshow": {
     "slide_type": "fragment"
    }
   },
   "source": [
    "- Suppose we have a dataset with at least two numerical variables."
   ]
  },
  {
   "cell_type": "markdown",
   "metadata": {
    "slideshow": {
     "slide_type": "fragment"
    }
   },
   "source": [
    "- We're interested in **predicting** one variable based on another:\n",
    "    - Given my education level, what is my income?\n",
    "    - Given my height, how tall will my kid be as an adult?\n",
    "    - Given my age, how many countries have I visited?"
   ]
  },
  {
   "cell_type": "markdown",
   "metadata": {
    "slideshow": {
     "slide_type": "fragment"
    }
   },
   "source": [
    "- To do this effectively, we need to first observe a pattern between the two numerical variables."
   ]
  },
  {
   "cell_type": "markdown",
   "metadata": {
    "slideshow": {
     "slide_type": "fragment"
    }
   },
   "source": [
    "- To see if a pattern exists, we'll need to draw a scatter plot."
   ]
  },
  {
   "cell_type": "markdown",
   "metadata": {
    "slideshow": {
     "slide_type": "slide"
    }
   },
   "source": [
    "### Association"
   ]
  },
  {
   "cell_type": "markdown",
   "metadata": {
    "slideshow": {
     "slide_type": "fragment"
    }
   },
   "source": [
    "- An **association** is any relationship or link 🔗 between two variables in a **scatter plot**. Associations can be linear or non-linear."
   ]
  },
  {
   "cell_type": "markdown",
   "metadata": {
    "slideshow": {
     "slide_type": "fragment"
    }
   },
   "source": [
    "- If two variables have a positive association ↗️, then as one variable increases, the other tends to increase."
   ]
  },
  {
   "cell_type": "markdown",
   "metadata": {
    "slideshow": {
     "slide_type": "fragment"
    }
   },
   "source": [
    "- If two variables have a negative association ↘️, then as one variable increases, the other tends to decrease."
   ]
  },
  {
   "cell_type": "markdown",
   "metadata": {
    "slideshow": {
     "slide_type": "fragment"
    }
   },
   "source": [
    "- If two variables are associated, then we can predict the value of one variable based on the value of the other."
   ]
  },
  {
   "cell_type": "markdown",
   "metadata": {
    "slideshow": {
     "slide_type": "slide"
    }
   },
   "source": [
    "### Example: Hybrid cars 🚗\n",
    "\n",
    "Our dataset, taken from [here](https://search.r-project.org/CRAN/refmans/DJL/html/dataset.hev.2013.html), contains information about several hybrid cars with model years from 1997 through 2013."
   ]
  },
  {
   "cell_type": "code",
   "execution_count": null,
   "metadata": {
    "scrolled": true
   },
   "outputs": [],
   "source": [
    "hybrid = bpd.read_csv('data/hybrid.csv')\n",
    "hybrid"
   ]
  },
  {
   "cell_type": "markdown",
   "metadata": {
    "slideshow": {
     "slide_type": "slide"
    }
   },
   "source": [
    "### `'price'` vs. `'acceleration'`\n",
    "\n",
    "Is there an association between these two variables? If so, what kind?\n",
    "\n",
    "(Note: When looking at a scatter plot, we often describe it in the form \"$y$ vs. $x$.\")"
   ]
  },
  {
   "cell_type": "code",
   "execution_count": null,
   "metadata": {
    "scrolled": true
   },
   "outputs": [],
   "source": [
    "hybrid.plot(kind='scatter', x='acceleration', y='price');"
   ]
  },
  {
   "cell_type": "markdown",
   "metadata": {
    "slideshow": {
     "slide_type": "fragment"
    }
   },
   "source": [
    "Acceleration here is measured in kilometers per hour per second – this means that larger accelerations correspond to quicker cars!"
   ]
  },
  {
   "cell_type": "markdown",
   "metadata": {
    "slideshow": {
     "slide_type": "slide"
    }
   },
   "source": [
    "### `'price'` vs. `'mpg'`\n",
    "\n",
    "Is there an association between these two variables? If so, what kind?"
   ]
  },
  {
   "cell_type": "code",
   "execution_count": null,
   "metadata": {},
   "outputs": [],
   "source": [
    "hybrid.plot(kind='scatter', x='mpg', y='price');"
   ]
  },
  {
   "cell_type": "markdown",
   "metadata": {
    "slideshow": {
     "slide_type": "fragment"
    }
   },
   "source": [
    "- There is a negative association – cars with better fuel economy tended to be cheaper.\n",
    "    - Why do we think that's the case?\n",
    "    - Is this always the case today, with the advent of expensive electric cars?"
   ]
  },
  {
   "cell_type": "markdown",
   "metadata": {
    "slideshow": {
     "slide_type": "fragment"
    }
   },
   "source": [
    "- The association looks more curved than linear. \n",
    "    - It may roughly follow $y \\approx \\frac{1}{x}$.   "
   ]
  },
  {
   "cell_type": "markdown",
   "metadata": {
    "slideshow": {
     "slide_type": "slide"
    }
   },
   "source": [
    "### Exploring the data\n",
    "\n",
    "Just for fun, we can look at an interactive version of the previous plot. Hover over a point to see the name of the corresponding car."
   ]
  },
  {
   "cell_type": "code",
   "execution_count": null,
   "metadata": {},
   "outputs": [],
   "source": [
    "px.scatter(hybrid.to_df(), x='mpg', y='price', hover_name='vehicle')"
   ]
  },
  {
   "cell_type": "markdown",
   "metadata": {},
   "source": [
    "Do you recognize any of the most expensive or most efficient cars? (If not, Google \"ActiveHybrid 7i\", \"Panamera S\", and \"Prius.\")"
   ]
  },
  {
   "cell_type": "markdown",
   "metadata": {
    "slideshow": {
     "slide_type": "slide"
    }
   },
   "source": [
    "### Measuring association"
   ]
  },
  {
   "cell_type": "markdown",
   "metadata": {
    "slideshow": {
     "slide_type": "fragment"
    }
   },
   "source": [
    "- We're able to look at a scatter plot and tell, roughly, whether there's an association between two variables and whether it's positive or negative."
   ]
  },
  {
   "cell_type": "markdown",
   "metadata": {
    "slideshow": {
     "slide_type": "fragment"
    }
   },
   "source": [
    "- Our first step when analyzing two numerical variables should **always** be to draw a scatter plot."
   ]
  },
  {
   "cell_type": "markdown",
   "metadata": {
    "slideshow": {
     "slide_type": "fragment"
    }
   },
   "source": [
    "- With that said, we should also have a way of measuring whether there is an association between two numerical variables quantitatively – that is, using math and code."
   ]
  },
  {
   "cell_type": "markdown",
   "metadata": {
    "slideshow": {
     "slide_type": "slide"
    }
   },
   "source": [
    "## Correlation"
   ]
  },
  {
   "cell_type": "markdown",
   "metadata": {
    "slideshow": {
     "slide_type": "slide"
    }
   },
   "source": [
    "### Definition: Correlation coefficient"
   ]
  },
  {
   "cell_type": "markdown",
   "metadata": {
    "slideshow": {
     "slide_type": "fragment"
    }
   },
   "source": [
    "- The correlation coefficient $r$ of two variables $x$ and $y$ measures the **strength of the linear association between $x$ and $y$.** That is, it measures how clustered points are around a straight line."
   ]
  },
  {
   "cell_type": "markdown",
   "metadata": {
    "slideshow": {
     "slide_type": "fragment"
    }
   },
   "source": [
    "- $r$ is the: \n",
    "    - **average** value of the \n",
    "    - **product** of $x$ and $y$,\n",
    "    - when both are measured in **standard units**."
   ]
  },
  {
   "cell_type": "markdown",
   "metadata": {
    "slideshow": {
     "slide_type": "fragment"
    }
   },
   "source": [
    "- $r$ is always between -1 and 1."
   ]
  },
  {
   "cell_type": "markdown",
   "metadata": {
    "slideshow": {
     "slide_type": "fragment"
    }
   },
   "source": [
    "- Let's look at some examples, before trying to understand where the formula comes from and learning how to interpret $r$."
   ]
  },
  {
   "cell_type": "markdown",
   "metadata": {
    "slideshow": {
     "slide_type": "slide"
    }
   },
   "source": [
    "### Example values of $r$\n",
    "\n",
    "Consider the following few scatter plots."
   ]
  },
  {
   "cell_type": "code",
   "execution_count": null,
   "metadata": {},
   "outputs": [],
   "source": [
    "show_scatter_grid()"
   ]
  },
  {
   "cell_type": "markdown",
   "metadata": {
    "slideshow": {
     "slide_type": "fragment"
    }
   },
   "source": [
    "**Observation**: When $r = 1$, the scatter plot of $x$ and $y$ is a line with a positive slope, and when $r = -1$, the scatter plot of $x$ and $y$ is a line with a negative slope. When $r = 0$, the scatter plot of $x$ and $y$ is a patternless cloud of points."
   ]
  },
  {
   "cell_type": "markdown",
   "metadata": {
    "slideshow": {
     "slide_type": "fragment"
    }
   },
   "source": [
    "To see more example scatter plots with different values of $r$, play with the widget that appears below."
   ]
  },
  {
   "cell_type": "code",
   "execution_count": null,
   "metadata": {},
   "outputs": [],
   "source": [
    "widgets.interact(r_scatter, r=(-1, 1, 0.05));"
   ]
  },
  {
   "cell_type": "markdown",
   "metadata": {
    "slideshow": {
     "slide_type": "fragment"
    }
   },
   "source": [
    "Let's now compute the value of $r$ for the two scatter plots (`'price'` vs. `'acceleration'` and `'price'` vs. `'mpg'`) we saw earlier."
   ]
  },
  {
   "cell_type": "markdown",
   "metadata": {
    "slideshow": {
     "slide_type": "slide"
    }
   },
   "source": [
    "### Calculating $r$"
   ]
  },
  {
   "cell_type": "markdown",
   "metadata": {
    "slideshow": {
     "slide_type": "fragment"
    }
   },
   "source": [
    "- $r$ is the average value of the product of $x$ and $y$, when both are measured in **standard units**."
   ]
  },
  {
   "cell_type": "markdown",
   "metadata": {
    "slideshow": {
     "slide_type": "fragment"
    }
   },
   "source": [
    "- Recall: Suppose $x$ is a numerical variable, and $x_i$ is one value of that variable. To convert $x_i$ to standard units,\n",
    "$$x_{i \\: \\text{(su)}} = \\frac{x_i - \\text{mean of $x$}}{\\text{SD of $x$}}$$"
   ]
  },
  {
   "cell_type": "code",
   "execution_count": null,
   "metadata": {},
   "outputs": [],
   "source": [
    "def standard_units(col):\n",
    "    return (col - col.mean()) / np.std(col)"
   ]
  },
  {
   "cell_type": "markdown",
   "metadata": {
    "slideshow": {
     "slide_type": "fragment"
    }
   },
   "source": [
    "Let's define a function that calculates the correlation, $r$, between two columns in a DataFrame."
   ]
  },
  {
   "cell_type": "code",
   "execution_count": null,
   "metadata": {
    "slideshow": {
     "slide_type": "fragment"
    }
   },
   "outputs": [],
   "source": [
    "def calculate_r(df, x, y):\n",
    "    '''Returns the average value of the product of x and y, \n",
    "       when both are measured in standard units.'''\n",
    "    x_su = standard_units(df.get(x))\n",
    "    y_su = standard_units(df.get(y))\n",
    "    return (x_su * y_su).mean()"
   ]
  },
  {
   "cell_type": "markdown",
   "metadata": {
    "slideshow": {
     "slide_type": "slide"
    }
   },
   "source": [
    "### `'price'` vs. `'acceleration'`\n",
    "\n",
    "Let's calculate $r$ for `'acceleration'` and `'price'`."
   ]
  },
  {
   "cell_type": "code",
   "execution_count": null,
   "metadata": {},
   "outputs": [],
   "source": [
    "hybrid.plot(kind='scatter', x='acceleration', y='price');"
   ]
  },
  {
   "cell_type": "code",
   "execution_count": null,
   "metadata": {
    "slideshow": {
     "slide_type": "-"
    }
   },
   "outputs": [],
   "source": [
    "calculate_r(hybrid, 'acceleration', 'price')"
   ]
  },
  {
   "cell_type": "markdown",
   "metadata": {
    "slideshow": {
     "slide_type": "fragment"
    }
   },
   "source": [
    "**Observation**: $r$ is positive, and the association between `'acceleration'` and `'price'` is positive."
   ]
  },
  {
   "cell_type": "markdown",
   "metadata": {
    "slideshow": {
     "slide_type": "slide"
    }
   },
   "source": [
    "### `'price'` vs. `'mpg'`\n",
    "\n",
    "Let's now calculate $r$ for `'mpg'` and `'price'`."
   ]
  },
  {
   "cell_type": "code",
   "execution_count": null,
   "metadata": {},
   "outputs": [],
   "source": [
    "hybrid.plot(kind='scatter', x='mpg', y='price');"
   ]
  },
  {
   "cell_type": "code",
   "execution_count": null,
   "metadata": {},
   "outputs": [],
   "source": [
    "calculate_r(hybrid, 'mpg', 'price')"
   ]
  },
  {
   "cell_type": "markdown",
   "metadata": {
    "slideshow": {
     "slide_type": "fragment"
    }
   },
   "source": [
    "**Observation**: $r$ is negative, and the association between `'mpg'` and `'price'` is negative.\n",
    "\n",
    "Also, $r$ here is closer to 0 than it was on the previous slide – that is, the **magnitude** (absolute value) of $r$ is less than in the previous scatter plot – and the points in this scatter plot look less like a straight line than they did in the previous scatter plot."
   ]
  },
  {
   "cell_type": "markdown",
   "metadata": {
    "slideshow": {
     "slide_type": "slide"
    }
   },
   "source": [
    "### Linear transformations"
   ]
  },
  {
   "cell_type": "markdown",
   "metadata": {
    "slideshow": {
     "slide_type": "fragment"
    }
   },
   "source": [
    "- To understand the role of standard units in the calculation of $r$, we need to discuss linear transformations."
   ]
  },
  {
   "cell_type": "markdown",
   "metadata": {
    "slideshow": {
     "slide_type": "fragment"
    }
   },
   "source": [
    "- A **linear transformation** to a variable results from adding, subtracting, multiplying, and/or dividing each value by a constant. For example, the conversion from degrees Celsius to degrees Fahrenheit is a linear transformation:\n",
    "    \n",
    "    $$\\text{temperature (Fahrenheit)} = \\frac{9}{5} \\times \\text{temperature (Celsius)} + 32$$"
   ]
  },
  {
   "cell_type": "markdown",
   "metadata": {
    "slideshow": {
     "slide_type": "fragment"
    }
   },
   "source": [
    "- When you apply a linear transformation to variables in a scatter plot, all you're doing is changing the units they're measured in. **This doesn't change the shape of the plot.**\n",
    "    "
   ]
  },
  {
   "cell_type": "markdown",
   "metadata": {
    "slideshow": {
     "slide_type": "fragment"
    }
   },
   "source": [
    "- In other words, instead of plotting price in _dollars_ and fuel economy in _miles per gallon_, we could plot price in _Yen (🇯🇵)_ and fuel economy in _kilometers per gallon_ and the plot would look the same, just with different axes."
   ]
  },
  {
   "cell_type": "code",
   "execution_count": null,
   "metadata": {},
   "outputs": [],
   "source": [
    "hybrid.plot(kind='scatter', x='mpg', y='price', title='price (dollars) vs. mpg');"
   ]
  },
  {
   "cell_type": "code",
   "execution_count": null,
   "metadata": {},
   "outputs": [],
   "source": [
    "hybrid.assign(\n",
    "    price_yen=hybrid.get('price') * 147.20, # The USD to Japanese Yen exchange rate as of today morning.\n",
    "    kpg=hybrid.get('mpg') * 1.6             # 1 mile is 1.6 kilometers.\n",
    ").plot(kind='scatter', x='kpg', y='price_yen', title='price (yen) vs. kpg');"
   ]
  },
  {
   "cell_type": "markdown",
   "metadata": {
    "slideshow": {
     "slide_type": "slide"
    }
   },
   "source": [
    "### Why does the formula for $r$ involve standard units?"
   ]
  },
  {
   "cell_type": "markdown",
   "metadata": {
    "slideshow": {
     "slide_type": "fragment"
    }
   },
   "source": [
    "- The conversion of a variable to standard units is a linear transformation.\n",
    "\n",
    "$$x_{i \\: \\text{(su)}} = \\frac{x_i - \\text{mean of $x$}}{\\text{SD of $x$}}$$"
   ]
  },
  {
   "cell_type": "markdown",
   "metadata": {
    "slideshow": {
     "slide_type": "fragment"
    }
   },
   "source": [
    "- Since changing the units doesn't change the shape of the plot, it also doesn't change the strength of the linear association present in the plot – **it doesn't change how much the plot resembles a straight line**. This means it shouldn't change the value of $r$."
   ]
  },
  {
   "cell_type": "markdown",
   "metadata": {
    "slideshow": {
     "slide_type": "fragment"
    }
   },
   "source": [
    "- By always converting both $x$ and $y$ to standard units when computing $r$, we're converting all variables to a consistent set of units, to ensure that the interpretation of $r$ doesn't depend on the specific units we happened to use."
   ]
  },
  {
   "cell_type": "markdown",
   "metadata": {
    "slideshow": {
     "slide_type": "fragment"
    }
   },
   "source": [
    "- For instance,\n",
    "\n",
    "    $$r\\big(\\text{price in dollars}, \\text{fuel economy in miles per gallon}\\big)$$\n",
    "    <center>and</center>\n",
    "    $$r\\big(\\text{price in Yen}, \\text{fuel economy in kilometers per gallon}\\big)$$\n",
    "    are the same, because prices and fuel economies are converted to standard units when computing $r$."
   ]
  },
  {
   "cell_type": "markdown",
   "metadata": {
    "slideshow": {
     "slide_type": "slide"
    }
   },
   "source": [
    "### Scatter plots in standard units\n",
    "\n",
    "To better understand why $r$ is the **average value of the product of $x$ and $y$**, when both are measured in standard units, let's convert the `'acceleration'`, `'mpg'`, and `'price'` columns to standard units, redraw the same scatter plots we saw earlier, and explore what we can learn from the product of $x$ and $y$ in standard units."
   ]
  },
  {
   "cell_type": "code",
   "execution_count": null,
   "metadata": {},
   "outputs": [],
   "source": [
    "def standardize(df):\n",
    "    \"\"\"Return a DataFrame in which all columns of df are converted to standard units.\"\"\"\n",
    "    df_su = bpd.DataFrame()\n",
    "    for column in df.columns:\n",
    "        # This uses syntax that is out of scope; don't worry about how it works.\n",
    "        df_su = df_su.assign(**{column + ' (su)': standard_units(df.get(column))})\n",
    "    return df_su\n",
    "\n",
    "hybrid_su = standardize(hybrid.get(['acceleration', 'mpg', 'price']))\n",
    "hybrid_su"
   ]
  },
  {
   "cell_type": "markdown",
   "metadata": {
    "slideshow": {
     "slide_type": "slide"
    }
   },
   "source": [
    "### `'price'` vs. `'acceleration'`\n",
    "\n",
    "Here, `'acceleration'` and `'price'` are both measured in standard units. Note that the shape of the scatter plot is the same as before; it's just that the axes are on a different scale."
   ]
  },
  {
   "cell_type": "code",
   "execution_count": null,
   "metadata": {},
   "outputs": [],
   "source": [
    "hybrid_su.plot(kind='scatter', x='acceleration (su)', y='price (su)')\n",
    "plt.axvline(0, color='black')\n",
    "plt.axhline(0, color='black');"
   ]
  },
  {
   "cell_type": "markdown",
   "metadata": {
    "slideshow": {
     "slide_type": "fragment"
    }
   },
   "source": [
    "- The association between `'acceleration'` ($x$) and `'price'` ($y$) is **positive** ↗️. Most data points fall in either the lower left quadrant (where $x_{i \\: \\text{(su)}}$ and $y_{i \\: \\text{(su)}}$ are both negative) or the upper right quadrant (where $x_{i \\: \\text{(su)}}$ and $y_{i \\: \\text{(su)}}$ are both positive)."
   ]
  },
  {
   "cell_type": "markdown",
   "metadata": {
    "slideshow": {
     "slide_type": "fragment"
    }
   },
   "source": [
    "- In other words, $x_{i \\: \\text{(su)}}$ and $y_{i \\: \\text{(su)}}$ usually have the same sign."
   ]
  },
  {
   "cell_type": "markdown",
   "metadata": {
    "slideshow": {
     "slide_type": "fragment"
    }
   },
   "source": [
    "- On average, $x_{i \\: \\text{(su)}} \\times y_{i \\: \\text{(su)}}$ should be **positive**, since when you multiply two numbers with the same sign, the result is positive."
   ]
  },
  {
   "cell_type": "markdown",
   "metadata": {
    "slideshow": {
     "slide_type": "fragment"
    }
   },
   "source": [
    "- As a result, $r$, which is the average of $x_{i \\: \\text{(su)}} \\times y_{i \\: \\text{(su)}}$, is **positive** here:"
   ]
  },
  {
   "cell_type": "code",
   "execution_count": null,
   "metadata": {},
   "outputs": [],
   "source": [
    "calculate_r(hybrid, 'acceleration', 'price')"
   ]
  },
  {
   "cell_type": "markdown",
   "metadata": {
    "slideshow": {
     "slide_type": "slide"
    }
   },
   "source": [
    "### `'price'` vs. `'mpg'`\n",
    "\n",
    "Here, `'mpg'` and `'price'` are both measured in standard units. Again, note that the shape of the scatter plot is the same as before."
   ]
  },
  {
   "cell_type": "code",
   "execution_count": null,
   "metadata": {},
   "outputs": [],
   "source": [
    "hybrid_su.plot(kind='scatter', x='mpg (su)', y='price (su)')\n",
    "plt.axvline(0, color='black');\n",
    "plt.axhline(0, color='black');"
   ]
  },
  {
   "cell_type": "markdown",
   "metadata": {
    "slideshow": {
     "slide_type": "fragment"
    }
   },
   "source": [
    "- The association between `'mpg'` ($x$) and `'price'` ($y$) is **negative** ↘️. Most data points fall in the upper left or lower right quadrants."
   ]
  },
  {
   "cell_type": "markdown",
   "metadata": {
    "slideshow": {
     "slide_type": "fragment"
    }
   },
   "source": [
    "- In other words, $x_{i \\: \\text{(su)}}$ and $y_{i \\: \\text{(su)}}$ usually have opposite signs – for most points, one of $x_{i \\: \\text{(su)}}$ or $y_{i \\: \\text{(su)}}$ is usually positive, while the other is negative."
   ]
  },
  {
   "cell_type": "markdown",
   "metadata": {
    "slideshow": {
     "slide_type": "fragment"
    }
   },
   "source": [
    "- On average, $x_{i \\: \\text{(su)}} \\times y_{i \\: \\text{(su)}}$ should be **negative**, since when you multiply two numbers with opposite signs ($\\text{positive number} \\times \\text{negative number}$) the result is negative."
   ]
  },
  {
   "cell_type": "markdown",
   "metadata": {
    "slideshow": {
     "slide_type": "fragment"
    }
   },
   "source": [
    "- As a result, $r$, which is the average of $x_{i \\: \\text{(su)}} \\times y_{i \\: \\text{(su)}}$, is **negative** here:"
   ]
  },
  {
   "cell_type": "code",
   "execution_count": null,
   "metadata": {},
   "outputs": [],
   "source": [
    "calculate_r(hybrid, 'mpg', 'price')"
   ]
  },
  {
   "cell_type": "markdown",
   "metadata": {
    "slideshow": {
     "slide_type": "slide"
    }
   },
   "source": [
    "### Interpreting $r$"
   ]
  },
  {
   "cell_type": "markdown",
   "metadata": {
    "slideshow": {
     "slide_type": "fragment"
    }
   },
   "source": [
    "- As mentioned before, the correlation coefficient $r$ of two variables $x$ and $y$ measures the **strength of the linear association between $x$ and $y$.** That is, it measures how clustered points are around a straight line."
   ]
  },
  {
   "cell_type": "markdown",
   "metadata": {
    "slideshow": {
     "slide_type": "fragment"
    }
   },
   "source": [
    "- **Terminology**: If two variables are correlated, it means they are linearly associated."
   ]
  },
  {
   "cell_type": "markdown",
   "metadata": {
    "slideshow": {
     "slide_type": "fragment"
    }
   },
   "source": [
    "- $r$ is always between $-1$ and $1$.\n",
    "    - If $r = 1$, the scatter plot of $x$ and $y$ is a line with a positive slope.\n",
    "    - If $r = -1$, the scatter plot of $x$ and $y$ is a line with a negative slope.\n",
    "    - If $r = 0$, there is no linear association between $x$ and $y$ (they are _uncorrelated_)."
   ]
  },
  {
   "cell_type": "code",
   "execution_count": null,
   "metadata": {},
   "outputs": [],
   "source": [
    "# Once again, run this cell and play with the slider that appears!\n",
    "widgets.interact(r_scatter, r=(-1, 1, 0.05));"
   ]
  },
  {
   "cell_type": "markdown",
   "metadata": {
    "slideshow": {
     "slide_type": "fragment"
    }
   },
   "source": [
    "- $r$ is computed based on standard units, and is symmetric.\n",
    "    - The correlation between price in _dollars_ and fuel economy in _miles per gallon_ is the same as the correlation between price in _Yen_ and fuel economy in _kilometers per gallon_.\n",
    "    - The correlation between price and fuel economy is the same as the correlation between fuel economy and price, because $x \\times y = y \\times x$."
   ]
  },
  {
   "cell_type": "markdown",
   "metadata": {
    "slideshow": {
     "slide_type": "fragment"
    }
   },
   "source": [
    "- $r$ quantifies **how well we can predict one variable using the other**.\n",
    "   - If $r$ is close to $1$ or $-1$ we can predict one variable from the other quite accurately.\n",
    "   - If $r$ is close to $0$, we cannot make good predictions."
   ]
  },
  {
   "cell_type": "markdown",
   "metadata": {
    "slideshow": {
     "slide_type": "slide"
    }
   },
   "source": [
    "### Concept Check ✅ – Answer at [cc.dsc10.com](http://cc.dsc10.com) \n",
    "\n",
    "Which of the following does the scatter plot below show?\n",
    "\n",
    "- A. Association and correlation.\n",
    "- B. Association but not correlation.\n",
    "- C. Correlation but not association.\n",
    "- D. Neither association nor correlation."
   ]
  },
  {
   "cell_type": "code",
   "execution_count": null,
   "metadata": {},
   "outputs": [],
   "source": [
    "x2 = bpd.DataFrame().assign(\n",
    "    x=np.arange(-6, 6.1, 0.5), \n",
    "    y=np.arange(-6, 6.1, 0.5) ** 2\n",
    ")\n",
    "x2.plot(kind='scatter', x='x', y='y');"
   ]
  },
  {
   "cell_type": "markdown",
   "metadata": {},
   "source": [
    "<details><summary>✅ Click <b>here</b> to see the answer <b>after</b> trying it yourself.</summary>\n",
    "\n",
    "B. Association but not correlation.\n",
    "    \n",
    "Since there is a pattern in the scatter plot of $x$ and $y$, there is an association between $x$ and $y$. However, correlation refers to <b>linear</b> association, and there is no linear association between $x$ and $y$. The relationship between $x$ and $y$ is actually $y = x^2$. Even though the association between $x$ and $y$ is very strong, the association cannot be described by a linear function because as $x$ increases, $y$ first decreases, and then increases. \n",
    "    \n",
    "The correlation ($r$) between $x$ and $y$ is 0 – try to calculate it yourself!\n",
    "\n",
    "</details>"
   ]
  },
  {
   "cell_type": "markdown",
   "metadata": {
    "slideshow": {
     "slide_type": "slide"
    }
   },
   "source": [
    "## Regression"
   ]
  },
  {
   "cell_type": "markdown",
   "metadata": {
    "slideshow": {
     "slide_type": "slide"
    }
   },
   "source": [
    "### Example: Predicting heights  👪 📏\n",
    "\n",
    "The data below was collected in the late 1800s by [Francis Galton](https://en.wikipedia.org/wiki/Francis_Galton).\n",
    "- He was a eugenicist and proponent of scientific racism, which is why he collected this data.\n",
    "- Today, we understand that eugenics is immoral, and that there is no scientific evidence or any other justification for racism.\n",
    "- Galton is credited with discovering regression using this data."
   ]
  },
  {
   "cell_type": "code",
   "execution_count": null,
   "metadata": {},
   "outputs": [],
   "source": [
    "galton = bpd.read_csv('data/galton.csv')\n",
    "galton"
   ]
  },
  {
   "cell_type": "markdown",
   "metadata": {
    "slideshow": {
     "slide_type": "slide"
    }
   },
   "source": [
    "### Predicting an adult son's height given his mother's height\n",
    "\n",
    "Let's focus on the relationship between mothers' heights and their adult sons' heights."
   ]
  },
  {
   "cell_type": "code",
   "execution_count": null,
   "metadata": {},
   "outputs": [],
   "source": [
    "male_children = galton[galton.get('gender') == 'male'].reset_index()\n",
    "mom_son = bpd.DataFrame().assign(mom=male_children.get('mother'), son=male_children.get('childHeight'))\n",
    "mom_son"
   ]
  },
  {
   "cell_type": "code",
   "execution_count": null,
   "metadata": {},
   "outputs": [],
   "source": [
    "mom_son.plot(kind='scatter', x='mom', y='son');"
   ]
  },
  {
   "cell_type": "markdown",
   "metadata": {
    "slideshow": {
     "slide_type": "fragment"
    }
   },
   "source": [
    "The scatter plot demonstrates a positive linear association between mothers' heights and their adult sons' heights, so $r$ should be positive."
   ]
  },
  {
   "cell_type": "code",
   "execution_count": null,
   "metadata": {},
   "outputs": [],
   "source": [
    "r_mom_son = calculate_r(mom_son, 'mom', 'son')\n",
    "r_mom_son"
   ]
  },
  {
   "cell_type": "markdown",
   "metadata": {
    "slideshow": {
     "slide_type": "slide"
    }
   },
   "source": [
    "### Many possible ways to make predictions\n",
    "\n",
    "- We want a _simple_ strategy, or rule, for predicting a son's height. \n",
    "- The simplest possible prediction strategy just predicts the same value for every son's height, regardless of his mother's height. \n",
    "- Some such predictions are better than others.\n",
    "- Note that in the scatter plot below, both `'mom'` and `'son'` are measured in standard units, not inches."
   ]
  },
  {
   "cell_type": "code",
   "execution_count": null,
   "metadata": {},
   "outputs": [],
   "source": [
    "mom_son_su = standardize(mom_son)\n",
    "\n",
    "def constant_prediction(prediction):\n",
    "    mom_son_su.plot(kind='scatter', x='mom (su)', y='son (su)', title=f'Predicting a height of {prediction} SUs for all sons', figsize=(10, 5));\n",
    "    plt.axhline(prediction, color='orange', lw=4);\n",
    "    plt.xlim(-3, 3)\n",
    "    plt.show()\n",
    "\n",
    "prediction = widgets.FloatSlider(value=-3, min=-3,max=3,step=0.5, description='prediction')\n",
    "ui = widgets.HBox([prediction])\n",
    "out = widgets.interactive_output(constant_prediction, {'prediction': prediction})\n",
    "display(ui, out)"
   ]
  },
  {
   "cell_type": "markdown",
   "metadata": {
    "slideshow": {
     "slide_type": "fragment"
    }
   },
   "source": [
    "- Which of these predictions is the best? \n",
    "    - It depends on what we mean by \"best,\" but a natural choice is the rule that predicts 0 standard units, because this corresponds to the mean height of all sons."
   ]
  },
  {
   "cell_type": "code",
   "execution_count": null,
   "metadata": {},
   "outputs": [],
   "source": [
    "mom_son_su.plot(kind='scatter', x='mom (su)', y='son (su)', title='A good prediction is the mean height of sons (0 SUs)', figsize=(10, 5));\n",
    "plt.axhline(0, color='orange', lw=4);\n",
    "plt.xlim(-3, 3);"
   ]
  },
  {
   "cell_type": "markdown",
   "metadata": {
    "slideshow": {
     "slide_type": "slide"
    }
   },
   "source": [
    "### Better predictions\n",
    "\n",
    "- Since there is a linear association between a son's height and his mother's height, we can make better predictions by allowing our predictions to vary with the mother's height. \n",
    "- The simplest way to do this uses a line to make predictions.\n",
    "- As before, some lines are better than others."
   ]
  },
  {
   "cell_type": "code",
   "execution_count": null,
   "metadata": {},
   "outputs": [],
   "source": [
    "def linear_prediction(slope):\n",
    "    x = np.linspace(-3, 3)\n",
    "    y = x * slope\n",
    "    mom_son_su.plot(kind='scatter', x='mom (su)', y='son (su)', figsize=(10, 5));\n",
    "    plt.plot(x, y, color='orange', lw=4)\n",
    "    plt.xlim(-3, 3)\n",
    "    plt.title(r\"Predicting sons' heights using $\\mathrm{son}_{\\mathrm{(su)}}$ = \" + str(np.round(slope, 2)) + r\"$ \\cdot \\mathrm{mother}_{\\mathrm{(su)}}$\")\n",
    "    plt.show()\n",
    "\n",
    "slope = widgets.FloatSlider(value=0, min=-1,max=1,step=1/6, description='slope')\n",
    "ui = widgets.HBox([slope])\n",
    "out = widgets.interactive_output(linear_prediction, {'slope': slope})\n",
    "display(ui, out)"
   ]
  },
  {
   "cell_type": "markdown",
   "metadata": {
    "slideshow": {
     "slide_type": "fragment"
    }
   },
   "source": [
    "- Which of these lines is the best? \n",
    "     - Again, it depends what we mean by \"best,\" but a good choice is the line that goes through the origin and has a slope of $r$.\n",
    "     - This line is called the **regression line**, and we'll see next time that it is the \"best\" line for making predictions in a certain sense."
   ]
  },
  {
   "cell_type": "code",
   "execution_count": null,
   "metadata": {},
   "outputs": [],
   "source": [
    "x = np.linspace(-3, 3)\n",
    "y = x * r_mom_son\n",
    "mom_son_su.plot(kind='scatter', x='mom (su)', y='son (su)', title=r'A good line goes through the origin and has slope $r$', figsize=(10, 5));\n",
    "plt.plot(x, y, color='orange', label='regression line', lw=4)\n",
    "plt.xlim(-3, 3)\n",
    "plt.legend();"
   ]
  },
  {
   "cell_type": "markdown",
   "metadata": {
    "slideshow": {
     "slide_type": "slide"
    }
   },
   "source": [
    "### The regression line\n",
    "\n",
    "- The regression line is the line through $(0,0)$ with slope $r$, when both variables are measured in **standard units**.\n",
    "\n",
    "<center><img src='data/regression-line.png' width=30%></center>\n",
    "\n",
    "- We use the regression line to make predictions!"
   ]
  },
  {
   "cell_type": "markdown",
   "metadata": {
    "slideshow": {
     "slide_type": "slide"
    }
   },
   "source": [
    "### Making predictions in standard units\n",
    "\n",
    "<center><img src='data/regression-line.png' width=30%></center>"
   ]
  },
  {
   "cell_type": "markdown",
   "metadata": {
    "slideshow": {
     "slide_type": "fragment"
    }
   },
   "source": [
    "- If $r = 0.32$, and the given $x$ is $2$ in standard units, then the prediction for $y$ is $0.64$ standard units.\n",
    "    - The regression line predicts that a mother whose height is $2$ SDs above average has a son whose height is $0.64$ SDs above average."
   ]
  },
  {
   "cell_type": "markdown",
   "metadata": {
    "slideshow": {
     "slide_type": "fragment"
    }
   },
   "source": [
    "- If $r = 0.32$, and the given $x$ is $-1$ in standard units, then the prediction for $y$ is $-0.32$ standard units."
   ]
  },
  {
   "cell_type": "markdown",
   "metadata": {
    "slideshow": {
     "slide_type": "fragment"
    }
   },
   "source": [
    "- The regression line always _predicts_ that a son will be somewhat **closer to average** in height than his mother. This effect is called **regression to the mean**, and is where the term _regression_ comes from.\n",
    "    - This is a consequence of the slope $r$ having a magnitude less than 1.\n",
    "    - It is not saying that a son _has to be_ closer to average in height than his mother; that's just what it predicts."
   ]
  },
  {
   "cell_type": "markdown",
   "metadata": {
    "slideshow": {
     "slide_type": "fragment"
    }
   },
   "source": [
    "- The regression line passes through the origin $(0, 0)$ in standard units. This means that, no matter what $r$ is, **for an average $x$ value, we predict an average $y$ value**."
   ]
  },
  {
   "cell_type": "markdown",
   "metadata": {
    "slideshow": {
     "slide_type": "slide"
    }
   },
   "source": [
    "### Making predictions in original units\n",
    "\n",
    "Ideally, we'd like to be able to predict a son's height in inches, not just in standard units. Given a mother's height in inches, here's how we'll predict her son's height in inches:\n",
    "1. Convert the mother's height from inches to standard units.\n",
    "\n",
    "$$x_{i \\: \\text{(su)}} = \\frac{x_i - \\text{mean of $x$}}{\\text{SD of $x$}}$$\n",
    "\n",
    "2. Multiply by the correlation coefficient to predict the son's height in standard units.\n",
    "\n",
    "$$\\text{predicted } y_{i \\: \\text{(su)}} = r \\cdot x_{i \\: \\text{(su)}}$$\n",
    "\n",
    "3. Convert the son's predicted height from standard units back to inches.\n",
    "\n",
    "$$\\text{predicted } y_i = \\text{predicted } y_{i \\: \\text{(su)}} \\cdot \\text{SD of $y$} + \\text{mean of $y$}$$"
   ]
  },
  {
   "cell_type": "markdown",
   "metadata": {
    "slideshow": {
     "slide_type": "slide"
    }
   },
   "source": [
    "Let's try it!"
   ]
  },
  {
   "cell_type": "code",
   "execution_count": null,
   "metadata": {},
   "outputs": [],
   "source": [
    "mom_mean = mom_son.get('mom').mean()\n",
    "mom_sd = np.std(mom_son.get('mom'))\n",
    "son_mean = mom_son.get('son').mean()\n",
    "son_sd = np.std(mom_son.get('son'))"
   ]
  },
  {
   "cell_type": "code",
   "execution_count": null,
   "metadata": {
    "slideshow": {
     "slide_type": "-"
    }
   },
   "outputs": [],
   "source": [
    "def predict_with_r(mom):\n",
    "    \"\"\"Return a prediction for the height of a son whose mother has height mom, \n",
    "    using linear regression.\n",
    "    \"\"\"\n",
    "    mom_su = (mom - mom_mean) / mom_sd\n",
    "    son_su = r_mom_son * mom_su\n",
    "    return son_su * son_sd + son_mean"
   ]
  },
  {
   "cell_type": "code",
   "execution_count": null,
   "metadata": {},
   "outputs": [],
   "source": [
    "predict_with_r(68)"
   ]
  },
  {
   "cell_type": "code",
   "execution_count": null,
   "metadata": {},
   "outputs": [],
   "source": [
    "predict_with_r(60)"
   ]
  },
  {
   "cell_type": "code",
   "execution_count": null,
   "metadata": {},
   "outputs": [],
   "source": [
    "preds = mom_son.assign(\n",
    "    predicted_height=mom_son.get('mom').apply(predict_with_r)\n",
    ")\n",
    "ax = preds.plot(kind='scatter', x='mom', y='son', title='Regression line predictions, in original units', figsize=(10, 5), label='original data')\n",
    "preds.plot(kind='line', x='mom', y='predicted_height', ax=ax, color='orange', label='regression line', lw=4);\n",
    "plt.legend();"
   ]
  },
  {
   "cell_type": "markdown",
   "metadata": {
    "slideshow": {
     "slide_type": "slide"
    }
   },
   "source": [
    "### Concept Check ✅ – Answer at [cc.dsc10.com](http://cc.dsc10.com) \n",
    "\n",
    "A course has a midterm (mean 80, standard deviation 15) and a really hard final (mean 50, standard deviation 12).\n",
    "\n",
    "If the scatter plot comparing midterm & final scores for students looks linearly associated with correlation 0.75, then what is the predicted final exam score for a student who received a 90 on the midterm?\n",
    "\n",
    "- A. 54\n",
    "- B. 56\n",
    "- C. 58\n",
    "- D. 60\n",
    "- E. 62"
   ]
  },
  {
   "cell_type": "markdown",
   "metadata": {
    "slideshow": {
     "slide_type": "slide"
    }
   },
   "source": [
    "## Summary, next time"
   ]
  },
  {
   "cell_type": "markdown",
   "metadata": {
    "slideshow": {
     "slide_type": "slide"
    }
   },
   "source": [
    "### Summary\n",
    "\n",
    "- The correlation coefficient, $r$, measures the strength of the linear association between two variables $x$ and $y$. It ranges between -1 and 1.\n",
    "- When both variables are measured in standard units, the regression line is the straight line passing through $(0, 0)$ with slope $r$. We can use it to make predictions for a $y$ value (e.g. son's height) given an $x$ value (e.g. mother's height)."
   ]
  },
  {
   "cell_type": "markdown",
   "metadata": {
    "slideshow": {
     "slide_type": "slide"
    }
   },
   "source": [
    "### Next time\n",
    "\n",
    "More on regression, including:\n",
    "  - What is the equation of the regression line in original units (e.g. inches)?\n",
    "  - In what sense is the regression line the \"best\" line for making predictions?"
   ]
  }
 ],
 "metadata": {
  "kernelspec": {
   "display_name": "Python 3 (ipykernel)",
   "language": "python",
   "name": "python3"
  },
  "language_info": {
   "codemirror_mode": {
    "name": "ipython",
    "version": 3
   },
   "file_extension": ".py",
   "mimetype": "text/x-python",
   "name": "python",
   "nbconvert_exporter": "python",
   "pygments_lexer": "ipython3",
   "version": "3.9.13"
  },
  "livereveal": {
   "scroll": true,
   "transition": "none"
  },
  "rise": {
   "enable_chalkboard": true
  }
 },
 "nbformat": 4,
 "nbformat_minor": 2
}
