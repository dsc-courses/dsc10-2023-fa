{
 "cells": [
  {
   "cell_type": "code",
   "execution_count": null,
   "metadata": {
    "slideshow": {
     "slide_type": "skip"
    }
   },
   "outputs": [],
   "source": [
    "# Imports\n",
    "import babypandas as bpd\n",
    "import numpy as np\n",
    "\n",
    "import plotly.express as px\n",
    "import matplotlib.pyplot as plt\n",
    "plt.style.use('ggplot')"
   ]
  },
  {
   "cell_type": "markdown",
   "metadata": {
    "slideshow": {
     "slide_type": "slide"
    }
   },
   "source": [
    "# Lecture 1 – Introduction\n",
    "\n",
    "## DSC 10, Spring 2023"
   ]
  },
  {
   "cell_type": "markdown",
   "metadata": {
    "slideshow": {
     "slide_type": "slide"
    }
   },
   "source": [
    "### Welcome to DSC 10! 👋\n",
    "- A guided tour of data science.\n",
    "    - Developed by UC Berkeley in 2015.\n",
    "    - Adapted by UC San Diego in 2017.\n",
    "- Learn just enough programming and statistics to do data science.\n",
    "    - Statistics without too much math, mostly simulation.\n",
    "    - Lays the foundation for all other courses in the DSC major."
   ]
  },
  {
   "cell_type": "markdown",
   "metadata": {
    "slideshow": {
     "slide_type": "slide"
    }
   },
   "source": [
    "### Agenda\n",
    "\n",
    "- Course staff.\n",
    "- What is data science?\n",
    "- How will this course run?\n",
    "- Fun demo."
   ]
  },
  {
   "cell_type": "markdown",
   "metadata": {
    "slideshow": {
     "slide_type": "slide"
    }
   },
   "source": [
    "## Course staff"
   ]
  },
  {
   "cell_type": "markdown",
   "metadata": {
    "slideshow": {
     "slide_type": "slide"
    }
   },
   "source": [
    "### Instructor: Suraj Rampure (call me Suraj, pronounced \"sooh-rudge\")\n",
    "\n",
    "- Originally from Windsor, ON, Canada 🇨🇦.\n",
    "- BS (’20) and MS (’21) in Electrical Engineering and Computer Sciences from UC Berkeley 🐻.\n",
    "- Second year teaching in the Halıcıoğlu Data Science Institute at UCSD.\n",
    "    - 4th time teaching DSC 10.\n",
    "    - Also running the [senior capstone program](https://hdsishowcase.com) and teaching [DSC 95](https://dsc95.com).\n",
    "    - Previously taught DSC 40A, 80, and 90.\n",
    "- Outside the classroom: travelling, watching basketball, learning to cook, watching TikTok, FaceTiming my dog 🐶, etc.\n"
   ]
  },
  {
   "cell_type": "markdown",
   "metadata": {
    "slideshow": {
     "slide_type": "slide"
    }
   },
   "source": [
    "<center><img src=\"images/mybreak.png\" width=40%></center>"
   ]
  },
  {
   "cell_type": "markdown",
   "metadata": {
    "slideshow": {
     "slide_type": "slide"
    }
   },
   "source": [
    "### TAs and tutors\n",
    "\n",
    "In addition, we have several other course staff members who are here to support you in discussion, office hours, and online.\n",
    "\n",
    "- **1 graduate TA**: Teresa Rexin.\n",
    "- **15 undergraduate tutors**: Gabriel Cha, Oren Ciolli, Sophia Fang, Doris Gao, Charlie Gillet, Raine Hoang, Vanessa Hu, Anthony Li, Jasmine Lo, Zoe Ludena, Arjun Malleswaran, Gina Roberg, Abel Seyoum, Costin Smilovici, and Suhani Sharma.\n",
    "\n",
    "Learn more about them at [dsc10.com/staff](https://dsc10.com/staff)."
   ]
  },
  {
   "cell_type": "markdown",
   "metadata": {
    "slideshow": {
     "slide_type": "slide"
    }
   },
   "source": [
    "## What is \"data science\"? 🤔"
   ]
  },
  {
   "cell_type": "markdown",
   "metadata": {
    "slideshow": {
     "slide_type": "slide"
    }
   },
   "source": [
    "<center><img src='images/what-is-ds.png' width=1250>Everyone seems to have their own definition of data science.</center>"
   ]
  },
  {
   "cell_type": "markdown",
   "metadata": {
    "slideshow": {
     "slide_type": "slide"
    }
   },
   "source": [
    "### What is \"data science\"?\n",
    "\n",
    "Data science is about **drawing useful conclusions from data using computation**. Throughout the quarter, we'll touch on several aspects of data science:"
   ]
  },
  {
   "cell_type": "markdown",
   "metadata": {
    "slideshow": {
     "slide_type": "fragment"
    }
   },
   "source": [
    "- First 4 weeks: use Python to **explore** data.\n",
    "    - Lots of visualization 📈📊 and \"data manipulation\", using industry-standard tools."
   ]
  },
  {
   "cell_type": "markdown",
   "metadata": {
    "slideshow": {
     "slide_type": "fragment"
    }
   },
   "source": [
    "- Next 4 weeks: use data to **infer** about a population, given just a sample.\n",
    "    - Rely heavily on simulation, rather than formulas."
   ]
  },
  {
   "cell_type": "markdown",
   "metadata": {
    "slideshow": {
     "slide_type": "fragment"
    }
   },
   "source": [
    "- Last 2 weeks: use data from the past to **predict** what may happen in the future.\n",
    "    - A taste of machine learning 🤖."
   ]
  },
  {
   "cell_type": "markdown",
   "metadata": {
    "slideshow": {
     "slide_type": "slide"
    }
   },
   "source": [
    "### Data science is more relevant than ever 🤧\n",
    "\n",
    "We've spent the last three years looking at graphs like this:\n",
    "\n",
    "<center><img src='images/covid.png' width=65%></center>\n",
    "\n",
    "As of March 2023, both the New York Times and Johns Hopkins have stopped updating their COVID dashboards."
   ]
  },
  {
   "cell_type": "markdown",
   "metadata": {
    "slideshow": {
     "slide_type": "slide"
    }
   },
   "source": [
    "### It can be fun, too!\n",
    "\n",
    "The site [The Pudding](https://pudding.cool) is home to several interactive data-rich articles.\n",
    "\n",
    "<center><img src='images/vocab.png' width=75%>(<a href=\"https://pudding.cool/projects/vocabulary\">source</a>)</center>"
   ]
  },
  {
   "cell_type": "markdown",
   "metadata": {
    "slideshow": {
     "slide_type": "slide"
    }
   },
   "source": [
    "<center><img src='images/map.png' width=65%>(<a href=\"https://pudding.cool/2023/03/same-name/\">source</a>)</center>\n",
    "\n",
    "The above map is called a choropleth. You will create a choropleth of your own this quarter on the Midterm Project!"
   ]
  },
  {
   "cell_type": "markdown",
   "metadata": {
    "slideshow": {
     "slide_type": "slide"
    }
   },
   "source": [
    "## Course logistics"
   ]
  },
  {
   "cell_type": "markdown",
   "metadata": {
    "slideshow": {
     "slide_type": "slide"
    }
   },
   "source": [
    "### Course website\n",
    "\n",
    "The course website is your one-stop-shop for all things related to the course.\n",
    "\n",
    "<center><h3><a href=\"https://dsc10.com\">dsc10.com</a></h3></center>\n",
    "\n",
    "This is where lectures, homeworks, labs, discussions, and all other content will be posted. Check it often, and **read the [syllabus](https://dsc10.com/syllabus)**!"
   ]
  },
  {
   "cell_type": "markdown",
   "metadata": {
    "slideshow": {
     "slide_type": "slide"
    }
   },
   "source": [
    "### Getting set up\n",
    "\n",
    "- **Ed**: Q&A forum. All announcements will be made here. You should have gotten email invitation; if not, there's a link on syllabus.\n",
    "- **Gradescope**: Where you will submit all assignments for autograding, and where all of your grades will live. You should have been automatically added; contact us if not.\n",
    "- **DataHub**: Where you will access and run all code in this class. Access at [datahub.ucsd.edu](https://datahub.ucsd.edu). More on Wednesday.\n",
    "- We will **not** be using Canvas for anything!\n",
    "\n",
    "In addition, you must also fill out the [Welcome Survey](https://docs.google.com/forms/d/e/1FAIpQLSfP_7dzEgsXgKcrV6zcafpJgepABS_WLXch_9iXHzTtJevTqw/viewform)."
   ]
  },
  {
   "cell_type": "markdown",
   "metadata": {
    "slideshow": {
     "slide_type": "slide"
    }
   },
   "source": [
    "### Lecture\n",
    "\n",
    "- Lectures will be in-person and recorded for viewing afterwards.\n",
    "    - You can attend either lecture section, as long as there is space for the students officially enrolled in that section.\n",
    "    - Recordings can be found at [podcast.ucsd.edu](https://podcast.ucsd.edu) and on the course website.\n",
    "- Slides/code from lecture will be linked on the course website, both in a \"runnable\" code format and as an HTML file (✏️), which you can save as a PDF and annotate on your tablet.\n",
    "- We will try to make lectures engaging. **Bring your laptop or tablet**, if you have one."
   ]
  },
  {
   "cell_type": "markdown",
   "metadata": {
    "slideshow": {
     "slide_type": "slide"
    }
   },
   "source": [
    "### Concept Check ✅ – Answer at [cc.dsc10.com](http://cc.dsc10.com) \n",
    "\n",
    "**What song was just played?**\n",
    "\n",
    "A. \"Don't Look Down (feat. Usher)\" by Martin Garrix\n",
    "\n",
    "B. \"Down (feat. Lil Wayne)\" by Jay Sean\n",
    "\n",
    "C. \"Sky Is Falling\" by Miguel\n",
    "\n",
    "D. \"Down (feat. Kanye West)\" by Chris Brown\n",
    "\n",
    "E. \"Coming Down\" by The Weeknd\n",
    "\n",
    "_(We are always going to use the same link for Concept Checks, so you should bookmark it._)"
   ]
  },
  {
   "cell_type": "markdown",
   "metadata": {
    "slideshow": {
     "slide_type": "slide"
    }
   },
   "source": [
    "### Discussion\n",
    "\n",
    "- Discussion sections are designed to give you practice with the **conceptual ideas** in the course.\n",
    "    - All assignments in this class will be done on the computer using code, but the exams are on-paper and in-person.\n",
    "    - For each discussion, we've prepared a problem set, **made up of old exam problems** (see [practice.dsc10.com](https://practice.dsc10.com)). \n",
    "    - Problem sets are posted online, so bring a computer or tablet to access them. But like exams, you will answer the problems **on paper**.\n",
    "    - Discussion problem sets aren't submitted anywhere.\n",
    "- Attendance is not required, however **extra credit** is provided for attending.\n",
    "    - If you do attend, you can attend either section, as long as there is space for the students officially enrolled in that section.\n",
    "    - Like lectures, discussions will be podcasted."
   ]
  },
  {
   "cell_type": "markdown",
   "metadata": {
    "slideshow": {
     "slide_type": "slide"
    }
   },
   "source": [
    "### Discussion schedule\n",
    "\n",
    "There are only two discussion sections:\n",
    "- A: Wednesdays, 2-2:50PM, Center Hall 214\n",
    "- B: Wednesdays, 3-3:50PM, Center Hall 214\n",
    "\n",
    "<div class=\"alert alert-block alert-danger\">\n",
    "<b>In the Schedule of Classes, this course has both a discussion section (DI) and a lab section (LA). We are using the listed lab section for discussion, and we are not using the discussion section listed on WebReg for anything. In short, ignore what WebReg says and follow the information above.</b>\n",
    "</div>\n",
    "\n",
    "Discussion starts **this Wednesday**. Discussion 1 will be focused on how to use DataHub, rather than on problem solving."
   ]
  },
  {
   "cell_type": "markdown",
   "metadata": {
    "slideshow": {
     "slide_type": "slide"
    }
   },
   "source": [
    "### Labs\n",
    "\n",
    "- Labs refer to **lab assignments**, which are a required part of the course and help you develop fluency in Python and working with data.\n",
    "- While working on labs, you'll be able to run **autograder tests** which tell you if your answers are correct.\n",
    "    - For labs, if you pass all autograder tests, you will get 100\\%!\n",
    "- You must submit labs individually, but you can discuss ideas with others (no sharing code).\n",
    "- Labs are _usually_ due on **Saturdays at 11:59PM** to Gradescope. The first lab (due Tuesday, April 11th) will have submission instructions."
   ]
  },
  {
   "cell_type": "markdown",
   "metadata": {
    "slideshow": {
     "slide_type": "slide"
    }
   },
   "source": [
    "### Homeworks and projects\n",
    "\n",
    "- Weekly homework assignments build off of skills you develop in labs.\n",
    "- A key difference between homeworks and labs is that **passing autograder tests does not guarantee a perfect score!**\n",
    "    - In homeworks, we have \"hidden tests\" that are only run after you submit the assignment.\n",
    "    - The tests that are available to you within the assignment itself only verify that your answer is reasonable/on the right track.\n",
    "- Again, you must work on homeworks yourself, but you can discuss ideas with other students (no sharing code).\n",
    "- Homeworks are _usually_ due on **Tuesdays at 11:59PM** and submitted to Gradescope.\n",
    "- In the **Midterm Project** and **Final Project**, you will do a deep dive into a dataset! Projects are longer than homeworks, so we give you more time to work on them.\n",
    "    - This quarter's projects: UCSD Admissions 💯 and Meteorite Landings ☄️.\n",
    "    - You can work on projects with partners, following these [project partner guidelines](https://dsc10.com/project-partners). Both of you should actively contribute to **all parts** of the project."
   ]
  },
  {
   "cell_type": "markdown",
   "metadata": {
    "slideshow": {
     "slide_type": "slide"
    }
   },
   "source": [
    "### Exams\n",
    "\n",
    "We will have two exams this quarter.\n",
    "- **Midterm Exam**: Friday, May 5th, during your scheduled lecture time.\n",
    "- **Final Exam**: Saturday, June 10th, 7-10PM.\n",
    "- Both exams will be conducted **in person and on paper**. Let us know if you have a conflict in the [Welcome Survey](https://docs.google.com/forms/d/e/1FAIpQLSfP_7dzEgsXgKcrV6zcafpJgepABS_WLXch_9iXHzTtJevTqw/viewform)."
   ]
  },
  {
   "cell_type": "markdown",
   "metadata": {
    "slideshow": {
     "slide_type": "slide"
    }
   },
   "source": [
    "### Readings and resources\n",
    "\n",
    "- We will draw readings from two sources. Readings for each lecture will be posted on the course homepage.\n",
    "    - [Computational and Inferential Thinking (CIT)](https://inferentialthinking.com), the textbook created for Berkeley's version of this course.\n",
    "    - [`babypandas` notes](https://notes.dsc10.com), written specifically for the first part of DSC 10.\n",
    "- The [Resources](https://dsc10.com/resources) tab of the course website contains links to helpful resources that you'll want to use throughout the course (e.g. DSC 10 Reference Sheet, programming tutorials, supplemental videos).\n",
    "- The [Debugging](https://dsc10.com/debugging) tab of the course website has answers to many common technical issues."
   ]
  },
  {
   "cell_type": "markdown",
   "metadata": {
    "slideshow": {
     "slide_type": "slide"
    }
   },
   "source": [
    "### A typical week in DSC 10\n",
    "\n",
    "| Sunday | Monday | Tuesday | Wednesday | Thursday | Friday | Saturday |\n",
    "|: -- :|: -- :|: -- :|: -- :|: -- :|: -- :|: -- :|\n",
    "| Nothing! 😎 | Lecture | | Lecture | | Lecture | |\n",
    "| | | | Discussion | | | |\n",
    "| | | **HW due** | | | | **Lab due** |\n",
    "\n",
    "See the [Syllabus](https://dsc10.com/syllabus) for more details."
   ]
  },
  {
   "cell_type": "markdown",
   "metadata": {
    "slideshow": {
     "slide_type": "slide"
    }
   },
   "source": [
    "### First assignment\n",
    "- Lab 0 is due **Tuesday, April 11th at 11:59PM**.\n",
    "    - Will be released tomorrow.\n",
    "- <span style='color:red'><b>🚨 Important: Start early and submit often</b>.</span>"
   ]
  },
  {
   "cell_type": "markdown",
   "metadata": {
    "slideshow": {
     "slide_type": "slide"
    }
   },
   "source": [
    "### Getting help\n",
    "This is a tough, fast-paced course, but we're here to help you – here's how:\n",
    "\n",
    "- **Office Hours (OH)**.\n",
    "    - Not held in an office – rather, held in a large open study space (San Diego Supercomputer Center, 2nd floor).\n",
    "    - Come with questions, or just to work!\n",
    "    - See the schedule and instructions on the [Calendar 📆](https://dsc10.com/calendar).\n",
    "    - There are a few remote office hours too, but we encourage you to come in-person.\n",
    "- **Ed**.\n",
    "    - Post here with any logistical or conceptual questions (please don't email).\n",
    "    - No code or solutions in public posts. Such posts should be private to course staff.\n",
    "    - Otherwise, post publicly (anonymously, if you'd like).\n",
    "- <span style=\"color:red;\"><b>🚨 Important: Use these to your advantage!</b></span>"
   ]
  },
  {
   "cell_type": "markdown",
   "metadata": {
    "slideshow": {
     "slide_type": "slide"
    }
   },
   "source": [
    "### Advice from previous students\n",
    "\n",
    "At the end of each quarter, we ask DSC 10 students to give advice to future students in the course. Here are some responses from Winter 2023:\n",
    "\n",
    "> Start the assignments early, every time that I started an assignment the day or even night of, I always struggled and the added pressure of not getting it in on time didn't help me one bit. The times that I started a day or two in advance, even if it was just completing a couple problems in advance, I felt way more relaxed and in turn I learned and retained a lot more.\n",
    "\n",
    "> Pay attention in lectures and to begin both labs and homework early because they will pile up. The lectures are very helpful references to use if you’re stuck during labs and homework’s and office hours are incredibly useful so go!!!\n",
    "\n",
    "> Use TA's and office hours as much as possible, also the reference sheet was crucial. \n",
    "\n",
    "> Office hours are really helpful, all the tutors knew what they were doing and could were able to help me work through any of the problems I got stuck on "
   ]
  },
  {
   "cell_type": "markdown",
   "metadata": {
    "slideshow": {
     "slide_type": "slide"
    }
   },
   "source": [
    "### Collaboration\n",
    "\n",
    "#### Asking questions is highly encouraged!\n",
    "- Discuss all questions with each other (except exams).\n",
    "- Submit lab assignments individually, but you can work with others (no sharing code).\n",
    "- Submit homeworks individually, but you can discuss problem-solving strategies with others (no sharing code).\n",
    "- Submit projects individually or in pairs."
   ]
  },
  {
   "cell_type": "markdown",
   "metadata": {
    "slideshow": {
     "slide_type": "fragment"
    }
   },
   "source": [
    "#### The limits of collaboration:\n",
    "- Don't share solutions with each other or look at someone’s code.\n",
    "- Project partners should both contribute to all parts of the project. Don't split up the project.\n",
    "- Don't use ChatGPT or GitHub Copilot – all work you submit should be written by **you**.\n",
    "- Academic integrity violations usually result in failing the course. "
   ]
  },
  {
   "cell_type": "markdown",
   "metadata": {
    "slideshow": {
     "slide_type": "slide"
    }
   },
   "source": [
    "### We're here for you!\n",
    "\n",
    "Regardless of your background, you can succeed in this course. **No prior programming or statistics experience will be assumed!**\n",
    "\n",
    "Watch on YouTube: [We’re All Data Scientists | Rebecca Nugent | TEDxCMU](https://www.youtube.com/watch?v=YMnqPTLoj7o)."
   ]
  },
  {
   "cell_type": "markdown",
   "metadata": {
    "slideshow": {
     "slide_type": "slide"
    }
   },
   "source": [
    "### Campus resources\n",
    "\n",
    "Counseling and Psychological Services (CAPS) is a campus unit that offers “short term counseling for academic, career, and personal issues and also offers psychiatry services for circumstances when medication can help with counseling.”\n",
    "If you or anyone you know is ever in need of mental health care, you should contact CAPS.\n",
    "\n",
    "<center><h3><a href=\"https://caps.ucsd.edu/\">caps.ucsd.edu</a></h3></center>"
   ]
  },
  {
   "cell_type": "markdown",
   "metadata": {
    "slideshow": {
     "slide_type": "slide"
    }
   },
   "source": [
    "### Opportunity: Python bootcamp\n",
    "\n",
    "Diversity in Data Science, a student organization, is running a one-week Python bootcamp specifically **for students in DSC 10 with no prior programming experience**. The bootcamp is **this week**. Sign up [**here**](https://docs.google.com/forms/d/e/1FAIpQLSdnfudRd1xvGqtpamqiorNJ73a0D2w0qpNhue4AlZTDD9YGKg/viewform).\n",
    "\n",
    "<br>\n",
    "\n",
    "<center><img src='images/spring23_dsc10bootcamp.png' width=30%></center>"
   ]
  },
  {
   "cell_type": "markdown",
   "metadata": {
    "slideshow": {
     "slide_type": "slide"
    }
   },
   "source": [
    "## Demo"
   ]
  },
  {
   "cell_type": "markdown",
   "metadata": {
    "slideshow": {
     "slide_type": "slide"
    }
   },
   "source": [
    "### _Little Women_ (1868)\n",
    "\n",
    "- _Little Women_, by Louisa May Alcott, is a novel that follows the life of four sisters – Meg, Jo, Beth, and Amy.\n",
    "    - A movie based on the novel was released in 2019, starring Emma Watson (Meg) and Timothée Chalamet (Laurie).\n",
    "- Using tools from this class, we'll learn (a bit) about the plot of the book, without reading it.\n",
    "- Do not worry about any of this code – we'll cover the necessary pieces in the weeks to come. Sit back and relax!"
   ]
  },
  {
   "cell_type": "code",
   "execution_count": null,
   "metadata": {
    "scrolled": true,
    "slideshow": {
     "slide_type": "slide"
    }
   },
   "outputs": [],
   "source": [
    "# Read in 'lw.txt' to a variable called little_women_text.\n",
    "little_women_text = open('data/lw.txt').read()"
   ]
  },
  {
   "cell_type": "code",
   "execution_count": null,
   "metadata": {
    "slideshow": {
     "slide_type": "slide"
    }
   },
   "outputs": [],
   "source": [
    "# See the first three thousand characters.\n",
    "little_women_text[:3000]"
   ]
  },
  {
   "cell_type": "code",
   "execution_count": null,
   "metadata": {
    "slideshow": {
     "slide_type": "slide"
    }
   },
   "outputs": [],
   "source": [
    "# Print the first three thousand characters.\n",
    "print(little_women_text[:3000])"
   ]
  },
  {
   "cell_type": "code",
   "execution_count": null,
   "metadata": {
    "slideshow": {
     "slide_type": "slide"
    }
   },
   "outputs": [],
   "source": [
    "# Create a variable \"chapters\" by splitting the text on 'CHAPTER '.\n",
    "chapters = little_women_text.split('CHAPTER ') \n",
    "\n",
    "# Create a DataFrame with one column - the text of each chapters.\n",
    "bpd.DataFrame().assign(chapters=chapters)"
   ]
  },
  {
   "cell_type": "code",
   "execution_count": null,
   "metadata": {
    "slideshow": {
     "slide_type": "slide"
    }
   },
   "outputs": [],
   "source": [
    "# Number of occurrences of each name in each chapter.\n",
    "\n",
    "counts = bpd.DataFrame().assign(\n",
    "    Amy=np.char.count(chapters, 'Amy'),\n",
    "    Beth=np.char.count(chapters, 'Beth'),\n",
    "    Jo=np.char.count(chapters, 'Jo'),\n",
    "    Meg=np.char.count(chapters, 'Meg'),\n",
    "    Laurie=np.char.count(chapters, 'Laurie'),\n",
    ")\n",
    "counts"
   ]
  },
  {
   "cell_type": "code",
   "execution_count": null,
   "metadata": {
    "scrolled": false,
    "slideshow": {
     "slide_type": "slide"
    }
   },
   "outputs": [],
   "source": [
    "# Cumulative number of times each name appears.\n",
    "\n",
    "cumulative_counts = bpd.DataFrame().assign(\n",
    "    Amy=np.cumsum(counts.get('Amy')),\n",
    "    Beth=np.cumsum(counts.get('Beth')),\n",
    "    Jo=np.cumsum(counts.get('Jo')),\n",
    "    Meg=np.cumsum(counts.get('Meg')),\n",
    "    Laurie=np.cumsum(counts.get('Laurie')),\n",
    "    Chapter=np.arange(1, 49, 1)\n",
    ")\n",
    "\n",
    "cumulative_counts"
   ]
  },
  {
   "cell_type": "code",
   "execution_count": null,
   "metadata": {
    "slideshow": {
     "slide_type": "slide"
    }
   },
   "outputs": [],
   "source": [
    "# Putting it all together, we get a helpful visualization.\n",
    "cumulative_counts_df = cumulative_counts.drop(columns=['Chapter']).to_df().melt().rename(columns={'variable': 'name', 'value': 'Count'})\n",
    "cumulative_counts_df = cumulative_counts_df.assign(Chapter=list(range(1, 49)) * 5)\n",
    "px.line(cumulative_counts_df, x='Chapter', y='Count', color='name', width=900, height=600, title='Cumulative Number of Times Each Name Appears', template='ggplot2')"
   ]
  },
  {
   "cell_type": "markdown",
   "metadata": {
    "slideshow": {
     "slide_type": "fragment"
    }
   },
   "source": [
    "- In Chapter 32, Jo moves to New York alone. Her relationship with which sister suffers the most from this faraway move?"
   ]
  },
  {
   "cell_type": "markdown",
   "metadata": {
    "slideshow": {
     "slide_type": "fragment"
    }
   },
   "source": [
    "- Laurie is a man who marries one of the sisters at the end. Which one?\n"
   ]
  },
  {
   "cell_type": "markdown",
   "metadata": {
    "slideshow": {
     "slide_type": "slide"
    }
   },
   "source": [
    "### Next time\n",
    "\n",
    "On Wednesday, we'll start programming in Python 🐍. Remember to bring a laptop or tablet if you have one.\n",
    "\n",
    "Discussion sections start on Wednesday as well."
   ]
  }
 ],
 "metadata": {
  "kernelspec": {
   "display_name": "Python 3 (ipykernel)",
   "language": "python",
   "name": "python3"
  },
  "language_info": {
   "codemirror_mode": {
    "name": "ipython",
    "version": 3
   },
   "file_extension": ".py",
   "mimetype": "text/x-python",
   "name": "python",
   "nbconvert_exporter": "python",
   "pygments_lexer": "ipython3",
   "version": "3.9.13"
  },
  "livereveal": {
   "scroll": true,
   "transition": "none"
  },
  "rise": {
   "enable_chalkboard": true
  }
 },
 "nbformat": 4,
 "nbformat_minor": 4
}
