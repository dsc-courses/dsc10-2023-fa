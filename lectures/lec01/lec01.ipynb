{
 "cells": [
  {
   "cell_type": "code",
   "execution_count": null,
   "metadata": {
    "slideshow": {
     "slide_type": "skip"
    }
   },
   "outputs": [],
   "source": [
    "# Imports\n",
    "import babypandas as bpd\n",
    "import numpy as np\n",
    "\n",
    "import plotly.express as px\n",
    "import matplotlib.pyplot as plt\n",
    "plt.style.use('ggplot')"
   ]
  },
  {
   "cell_type": "markdown",
   "metadata": {
    "slideshow": {
     "slide_type": "slide"
    }
   },
   "source": [
    "# Lecture 1 – Introduction\n",
    "\n",
    "## DSC 10, Fall 2023"
   ]
  },
  {
   "cell_type": "markdown",
   "metadata": {
    "slideshow": {
     "slide_type": "slide"
    }
   },
   "source": [
    "### Welcome to DSC 10! 👋\n",
    "- DSC 10 is a guided tour of data science.\n",
    "    - It was developed by UC Berkeley in 2015 and adapted by UCSD in 2017.\n",
    "- You'll learn just enough programming and statistics to do data science.\n",
    "    - We'll cover statistics without too much math – instead, we'll use simulation.\n",
    "    - This class lays the foundation for all other courses in the DSC major."
   ]
  },
  {
   "cell_type": "markdown",
   "metadata": {
    "slideshow": {
     "slide_type": "slide"
    }
   },
   "source": [
    "### Agenda\n",
    "\n",
    "- Course staff.\n",
    "- What is data science?\n",
    "- How will this course run?\n",
    "- Fun demo."
   ]
  },
  {
   "cell_type": "markdown",
   "metadata": {
    "slideshow": {
     "slide_type": "slide"
    }
   },
   "source": [
    "## Course staff"
   ]
  },
  {
   "cell_type": "markdown",
   "metadata": {
    "slideshow": {
     "slide_type": "slide"
    }
   },
   "source": [
    "### Instructor: Rod Albuyeh (call me Rod)\n",
    "- PhD in Political Science from USC.\n",
    "- FinTech and HealthTech data scientist for 8 years, on corporate sabattical 🙂.\n",
    "- Teaching at HDSI, GPS (forthcoming), and USD's applied AI master's program.\n",
    "    - 1st time teaching DSC 10! \n",
    "    - Also taught DSC 102, DSC 40A.\n",
    "- Outside interests: training mixed martial arts, tinkering with ML things, international politics, and retro gaming."
   ]
  },
  {
   "cell_type": "markdown",
   "metadata": {},
   "source": [
    "<center>\n",
    "    <table><tr>\n",
    "        <td> <img src=\"images/victory_mma.jpg\" width=400>  </td>\n",
    "        <td> <img src=\"images/robocar.jpg\" width=300> </td>\n",
    "    </tr></table>\n",
    "</center>"
   ]
  },
  {
   "cell_type": "markdown",
   "metadata": {
    "slideshow": {
     "slide_type": "slide"
    }
   },
   "source": [
    "### Instructor: Janine Tiefenbruck (call me Janine) \n",
    "- BS in Math and Computer Science at Loyola Maryland, PhD in Math (combinatorics) at UCSD 🔱.\n",
    "- Teaching at UCSD: Math ➡️ CSE ➡️ DSC.\n",
    "    - 10th time teaching DSC 10!\n",
    "    - Also teach DSC 40A often.\n",
    "- Outside interests: crafting, board games, hiking, baking 🎂."
   ]
  },
  {
   "cell_type": "markdown",
   "metadata": {
    "slideshow": {
     "slide_type": "-"
    }
   },
   "source": [
    "<center>\n",
    "    <table><tr>\n",
    "        <td> <img src=\"images/camping.jpg\" width=400>  </td>\n",
    "        <td> <img src=\"images/desserts.jpg\" width=220> </td>\n",
    "        <td> <img src=\"images/kids.jpg\" width=300> </td>\n",
    "    </tr></table>\n",
    "</center>"
   ]
  },
  {
   "cell_type": "markdown",
   "metadata": {
    "slideshow": {
     "slide_type": "slide"
    }
   },
   "source": [
    "### Instructor: Suraj Rampure (call me Suraj, pronounced \"sooh-rudge\")\n",
    "\n",
    "- Originally from Windsor, ON, Canada 🇨🇦.\n",
    "- BS and MS in Electrical Engineering and Computer Sciences from UC Berkeley 🐻.\n",
    "- Third year teaching in the Halıcıoğlu Data Science Institute at UCSD.\n",
    "    - 5th time teaching DSC 10.\n",
    "    - Also running the [senior capstone program](https://dsc-capstone.org) for the second time.\n",
    "    - Previously taught DSC 40A, 80, 90, and 95.\n",
    "- Outside interests: [travelling](https://my.flightradar24.com/surajrampure), hiking, watching basketball, FaceTiming my dog 🐶, etc."
   ]
  },
  {
   "cell_type": "markdown",
   "metadata": {
    "slideshow": {
     "slide_type": "-"
    }
   },
   "source": [
    "<center><img src=\"images/suraj-summer.png\" width=60%></center>"
   ]
  },
  {
   "cell_type": "markdown",
   "metadata": {
    "slideshow": {
     "slide_type": "slide"
    }
   },
   "source": [
    "### Course staff\n",
    "\n",
    "In addition, we have several other course staff members who are here to support you in discussion, office hours, and online.\n",
    "\n",
    "- **1 graduate TA**: Arya Rahnama.\n",
    "- **29 undergraduate tutors**: Oren Ciolli, Nate Del Rosario, Jack Determan, Sophia Fang, Charlie Gillet, Ashley Ho, Henry Ho, Vanessa Hu, Leena Kang, Norah Kerendian, Anthony Li, Weiyue Li, Jasmine Lo, Arjun Malleswaran, Mert Ozer, Aaron Rasin, Chandiner Rishi, Gina Roberg, Harshi Saha, Keenan Serrao, Abel Seyoum, Suhani Sharma, Yutian Shi, Ester Tsai, Bill Wang, Ylesia Wu, Jason Xu, Diego Zavalza, Ciro Zhang.\n",
    "- **1 stuffed panda mascot**: Baby Panda. 🐼\n",
    "\n",
    "Learn more about them at [dsc10.com/staff](https://dsc10.com/staff), and come say hi at the Meet the Professors mixer from 11:30AM-12:30PM in the patio of the [HDSI building](https://map.concept3d.com/?id=1005#!m/246301)."
   ]
  },
  {
   "cell_type": "markdown",
   "metadata": {
    "slideshow": {
     "slide_type": "slide"
    }
   },
   "source": [
    "## What is \"data science\"? 🤔"
   ]
  },
  {
   "cell_type": "markdown",
   "metadata": {
    "slideshow": {
     "slide_type": "slide"
    }
   },
   "source": [
    "<center><img src='images/data-science.png' width=1250>Everyone seems to have their own definition of data science.</center>"
   ]
  },
  {
   "cell_type": "markdown",
   "metadata": {
    "slideshow": {
     "slide_type": "slide"
    }
   },
   "source": [
    "### What is \"data science\"?\n",
    "\n",
    "Data science is about **drawing useful conclusions from data using computation**. Throughout the quarter, we'll touch on several aspects of data science:"
   ]
  },
  {
   "cell_type": "markdown",
   "metadata": {
    "slideshow": {
     "slide_type": "fragment"
    }
   },
   "source": [
    "- First 4 weeks: use Python to **explore** data.\n",
    "    - Lots of visualization 📈📊 and \"data manipulation\", using industry-standard tools."
   ]
  },
  {
   "cell_type": "markdown",
   "metadata": {
    "slideshow": {
     "slide_type": "fragment"
    }
   },
   "source": [
    "- Next 4 weeks: use data to **infer** about a population, given just a sample.\n",
    "    - Rely heavily on simulation, rather than formulas."
   ]
  },
  {
   "cell_type": "markdown",
   "metadata": {
    "slideshow": {
     "slide_type": "fragment"
    }
   },
   "source": [
    "- Last 2 weeks: use data from the past to **predict** what may happen in the future.\n",
    "    - A taste of machine learning 🤖."
   ]
  },
  {
   "cell_type": "markdown",
   "metadata": {
    "slideshow": {
     "slide_type": "slide"
    }
   },
   "source": [
    "### Data science is relevant 🤧\n",
    "\n",
    "We spent years looking at graphs like this:\n",
    "\n",
    "<center><img src='images/covid.png' width=65%></center>"
   ]
  },
  {
   "cell_type": "markdown",
   "metadata": {
    "slideshow": {
     "slide_type": "slide"
    }
   },
   "source": [
    "### It can be fun, too!\n",
    "\n",
    "The site [The Pudding](https://pudding.cool) is home to several interactive data-rich articles.\n",
    "\n",
    "<center><img src='images/vocab.png' width=75%>(<a href=\"https://pudding.cool/projects/vocabulary\">source</a>)</center>"
   ]
  },
  {
   "cell_type": "markdown",
   "metadata": {
    "slideshow": {
     "slide_type": "slide"
    }
   },
   "source": [
    "<center><img src='images/map.png' width=65%>(<a href=\"https://pudding.cool/2023/03/same-name/\">source</a>)</center>"
   ]
  },
  {
   "cell_type": "markdown",
   "metadata": {
    "slideshow": {
     "slide_type": "slide"
    }
   },
   "source": [
    "## Course logistics"
   ]
  },
  {
   "cell_type": "markdown",
   "metadata": {
    "slideshow": {
     "slide_type": "slide"
    }
   },
   "source": [
    "### Course website\n",
    "\n",
    "The course website is your one-stop-shop for all things related to the course.\n",
    "\n",
    "<center><h3><a href=\"https://dsc10.com\">dsc10.com</a></h3></center>\n",
    "\n",
    "This is where lectures, homeworks, labs, discussions, and all other content will be posted. Check it often, and **read the [syllabus](https://dsc10.com/syllabus)**!"
   ]
  },
  {
   "cell_type": "markdown",
   "metadata": {
    "slideshow": {
     "slide_type": "slide"
    }
   },
   "source": [
    "### Getting set up\n",
    "\n",
    "- **Ed**: Q&A forum. All announcements will be made here. You should have gotten email invitation; if not, [join here](https://edstem.org/us/join/2j8EjH).\n",
    "- **Gradescope**: Where you will submit all assignments, and where all of your grades will live. You should have been automatically added; contact us on Ed if not.\n",
    "- **DataHub**: Where you will access and run all code in this class. Access at [datahub.ucsd.edu](https://datahub.ucsd.edu). More next time.\n",
    "- We will **not** be using Canvas for anything!"
   ]
  },
  {
   "cell_type": "markdown",
   "metadata": {
    "slideshow": {
     "slide_type": "slide"
    }
   },
   "source": [
    "### First tasks\n",
    "\n",
    "1. Fill out the required [Welcome Survey](https://forms.gle/LBYWU9WMD2SRDz458) as soon as possible. \n",
    "2. Take the [pretest](https://practice.dsc10.com/pretest/), which is recommended to help you gauge your preparedness, brush up on prerequisite knowledge, and learn test-taking skills. We'll release the solutions on Monday."
   ]
  },
  {
   "cell_type": "markdown",
   "metadata": {
    "slideshow": {
     "slide_type": "slide"
    }
   },
   "source": [
    "### Lecture\n",
    "\n",
    "- Lectures will be in-person and recorded for viewing afterwards.\n",
    "    - You can attend any lecture section, as long as there is space for the students officially enrolled in that section.\n",
    "    - Recordings can be found at [podcast.ucsd.edu](https://podcast.ucsd.edu).\n",
    "- Slides/code from lecture will be linked on the course website, both in a \"runnable\" code format and as an HTML file (✏️), which you can save as a PDF and annotate on your tablet.\n",
    "- We will try to make lectures engaging. **Bring your laptop or tablet**, if you have one."
   ]
  },
  {
   "cell_type": "markdown",
   "metadata": {
    "slideshow": {
     "slide_type": "slide"
    }
   },
   "source": [
    "### Concept Check ✅ – Answer at [cc.dsc10.com](http://cc.dsc10.com) \n",
    "\n",
    "**Is it acceptable to recline your seat on an airplane?**\n",
    "\n",
    "<center><img src='images/reclining.jpeg' width=35%></center>\n",
    "\n",
    "A. Yes, you paid for the seat! \n",
    "\n",
    "B. Only if the person in front of you reclined their seat first.\n",
    "\n",
    "C. Only if you ask the person behind you and they're fine with it.\n",
    "\n",
    "D. No, it's rude.\n",
    "\n",
    "_(We are always going to use the same link for Concept Checks, so you should bookmark it._)"
   ]
  },
  {
   "cell_type": "markdown",
   "metadata": {
    "slideshow": {
     "slide_type": "slide"
    }
   },
   "source": [
    "### Discussion\n",
    "\n",
    "- Discussion sections are designed to give you practice with the **conceptual ideas** in the course and to prepare you for exams.\n",
    "    - All assignments in this class will be done on the computer using code, but exams and quizzes are on-paper and in-person.\n",
    "    - In discussion, you will work through **past exam problems** (see [practice.dsc10.com](https://practice.dsc10.com)). \n",
    "    - Problem sets are posted online, so bring a computer or tablet to access them. But like exams, you will answer the problems **on paper**.\n",
    "    - Discussion problem sets aren't submitted anywhere.\n",
    "- Discussions are not podcasted; you need to be an active participant of discussion to benefit from it.\n",
    "- There will be **four quizzes** throughout the quarter, administered in discussion section, which will help prepare you for exams and encourage you to review material regularly."
   ]
  },
  {
   "cell_type": "markdown",
   "metadata": {
    "slideshow": {
     "slide_type": "slide"
    }
   },
   "source": [
    "### Discussion schedule\n",
    "\n",
    "There are three discussion sections:\n",
    "\n",
    "- Section A: Wednesday 3-3:50PM in Pepper Canyon Hall 109\n",
    "- Section B: Wednesday 4-4:50PM in Pepper Canyon Hall 109\n",
    "- Section C: Wednesday 5-5:50PM in Mandeville B-210\n",
    "\n",
    "Students in Sections A, B, and C must attend the discussion section that corresponds to the lecture section they are enrolled in. \n",
    "- Students in Section D will be assigned to one of the other sections.\n",
    "- On the  [Welcome Survey](https://forms.gle/LBYWU9WMD2SRDz458), let us know if you have a conflict and we will do our best to reassign you to a different discussion section.\n",
    "- Students in Section D or with conflicts will hear back from us by Monday with their confirmed discussion section.\n",
    "\n",
    "<div class=\"alert alert-block alert-danger\">\n",
    "<b>In the Schedule of Classes, this course is listed as having both a discussion section (DI) and a lab section (LA), but we will only have one weekly meeting outside of lecture, which we'll refer to as a discussion section, scheduled at the time listed above. You should ignore what you see as DI or LA on WebReg and just use the schedule above instead.</b>\n",
    "</div>"
   ]
  },
  {
   "cell_type": "markdown",
   "metadata": {
    "slideshow": {
     "slide_type": "slide"
    }
   },
   "source": [
    "### Labs\n",
    "\n",
    "- Labs refer to **lab assignments**, which are a required part of the course and help you develop fluency in Python and working with data.\n",
    "- While working on labs, you'll be able to run **autograder tests** which tell you if your answers are correct.\n",
    "    - For labs, if you pass all autograder tests, you will get 100\\%!\n",
    "- You must submit labs individually, but you can discuss ideas with others (no sharing code).\n",
    "- All assignments, including labs will be due at **11:59PM** on the due date and submitted to Gradescope.\n",
    "- The first lab (due Thursday, October 5) will have submission instructions."
   ]
  },
  {
   "cell_type": "markdown",
   "metadata": {
    "slideshow": {
     "slide_type": "slide"
    }
   },
   "source": [
    "### Homeworks and projects\n",
    "\n",
    "- Weekly homework assignments build off of skills you develop in labs.\n",
    "- A key difference between homeworks and labs is that **passing autograder tests does not guarantee a perfect score!**\n",
    "    - In homeworks, we have \"hidden tests\" that are only run after you submit the assignment.\n",
    "    - The tests that are available to you within the assignment itself only verify that your answer is reasonable/on the right track.\n",
    "- Again, you must work on homeworks yourself, but you can discuss ideas with other students (no sharing code).\n",
    "- In the **Midterm Project** and **Final Project**, you will do a deep dive into a dataset! Projects are longer than homeworks, so we give you more time to work on them.\n",
    "    - You can work on projects with partners, following these [project partner guidelines](https://dsc10.com/project-partners). Both of you should actively contribute to **all parts** of the project."
   ]
  },
  {
   "cell_type": "markdown",
   "metadata": {
    "slideshow": {
     "slide_type": "slide"
    }
   },
   "source": [
    "### Exams\n",
    "\n",
    "We will have two exams this quarter.\n",
    "- **Midterm Exam**: Monday, October 30, during your registered lecture slot.\n",
    "- **Final Exam**: Saturday, December 9, 7-10PM.\n",
    "\n",
    "Both exams will be conducted **in person and on paper**. Let us know if you have a conflict on the [Welcome Survey](https://forms.gle/LBYWU9WMD2SRDz458)."
   ]
  },
  {
   "cell_type": "markdown",
   "metadata": {
    "slideshow": {
     "slide_type": "slide"
    }
   },
   "source": [
    "### Readings and resources\n",
    "\n",
    "- We will draw readings from two sources. Readings for each lecture will be posted on the course homepage.\n",
    "    - [Computational and Inferential Thinking (CIT)](https://inferentialthinking.com), the textbook created for Berkeley's version of this course.\n",
    "    - [`babypandas` notes](https://notes.dsc10.com), written specifically for the first part of DSC 10.\n",
    "- The [Resources](https://dsc10.com/resources) tab of the course website contains links to helpful resources that you'll want to use throughout the course (e.g. DSC 10 Reference Sheet, programming tutorials, supplemental videos).\n",
    "- The [Debugging](https://dsc10.com/debugging) tab of the course website has answers to many common technical issues."
   ]
  },
  {
   "cell_type": "markdown",
   "metadata": {
    "slideshow": {
     "slide_type": "slide"
    }
   },
   "source": [
    "### Weekly schedule for the first half of the quarter\n",
    "\n",
    "| Sunday | Monday | Tuesday | Wednesday | Thursday | Friday | Saturday |\n",
    "|: -- :|: -- :|: -- :|: -- :|: -- :|: -- :|: -- :|\n",
    "| | Lecture | | Lecture | | Lecture | |\n",
    "| | | | Discussion | | | |\n",
    "| | |  | | **Lab due** | | **HW due** |\n",
    "\n",
    "The deadlines in the second half are significantly different. Always refer to the [course website](https://dsc10.com/) for the schedule."
   ]
  },
  {
   "cell_type": "markdown",
   "metadata": {
    "slideshow": {
     "slide_type": "slide"
    }
   },
   "source": [
    "### First assignment\n",
    "- Lab 0 is due **Thursday, October 5 at 11:59PM**.\n",
    "    - It will be released by tomorrow. Check Ed for an announcement.\n",
    "- <span style='color:red'><b>🚨 Important: Start early and submit often</b>.</span>"
   ]
  },
  {
   "cell_type": "markdown",
   "metadata": {
    "slideshow": {
     "slide_type": "slide"
    }
   },
   "source": [
    "#### Getting help\n",
    "This is a tough, fast-paced course, but we're here to help you – here's how:\n",
    "\n",
    "- **Office Hours (OH)**.\n",
    "    - Not held in an office – rather, held in a large open study space (HDSI 155).\n",
    "    - Come with questions, or just to work!\n",
    "    - See the schedule and instructions on the [📆 Calendar](https://dsc10.com/calendar).\n",
    "- **Ed**.\n",
    "    - Post here with any logistical or conceptual questions; **please don't email**.\n",
    "    - No code or solutions in public posts. Such posts should be private to course staff.\n",
    "    - Otherwise, post publicly (anonymously, if you'd like).\n",
    "- <span style=\"color:red;\"><b>🚨 Important: Use these to your advantage!</b></span>"
   ]
  },
  {
   "cell_type": "markdown",
   "metadata": {
    "slideshow": {
     "slide_type": "slide"
    }
   },
   "source": [
    "### Advice from previous students\n",
    "\n",
    "At the end of each quarter, we ask DSC 10 students to give advice to future students in the course. Here are some responses from last year's students:\n",
    "\n",
    "> Start the assignments early, every time that I started an assignment the day or even night of, I always struggled and the added pressure of not getting it in on time didn't help me one bit. The times that I started a day or two in advance, even if it was just completing a couple problems in advance, I felt way more relaxed and in turn I learned and retained a lot more.\n",
    "\n",
    "> Pay attention in lectures and to begin both labs and homework early because they will pile up. The lectures are very helpful references to use if you’re stuck during labs and homework’s and office hours are incredibly useful so go!!!\n",
    "\n",
    "> Use TA's and office hours as much as possible, also the reference sheet was crucial. \n",
    "\n",
    "> Office hours are really helpful, all the tutors knew what they were doing and could were able to help me work through any of the problems I got stuck on "
   ]
  },
  {
   "cell_type": "markdown",
   "metadata": {
    "slideshow": {
     "slide_type": "slide"
    }
   },
   "source": [
    "### Academic Integrity policies\n",
    "\n",
    "#### Collaboration\n",
    "- Discuss all questions with each other (except, of course, on quizzes and exams).\n",
    "- Projects are submitted in pairs or individually. Both partners should contribute to all parts of the project, not split it up.\n",
    "- Labs and homeworks are submitted individually.\n",
    "- No other person should complete your work for you or write any of the code you submit in this course, with the exception of the work you do with a project partner.\n",
    "- Don't give someone else your code or look at someone else's code.\n",
    "\n"
   ]
  },
  {
   "cell_type": "markdown",
   "metadata": {
    "slideshow": {
     "slide_type": "fragment"
    }
   },
   "source": [
    "#### Generative Artificial Intelligence (GenAI)\n",
    "- The syllabus includes a [discussion of these tools](https://dsc10.com/syllabus/#use-of-generative-artificial-intelligence) and how you may use them in this class. Please read this carefully, ask questions about it, and proceed with care!"
   ]
  },
  {
   "cell_type": "markdown",
   "metadata": {
    "slideshow": {
     "slide_type": "slide"
    }
   },
   "source": [
    "### We're here for you!\n",
    "\n",
    "Regardless of your background, you can succeed in this course. **No prior programming or statistics experience will be assumed!**\n",
    "\n",
    "Watch on YouTube: [We’re All Data Scientists | Rebecca Nugent | TEDxCMU](https://www.youtube.com/watch?v=YMnqPTLoj7o)."
   ]
  },
  {
   "cell_type": "markdown",
   "metadata": {
    "slideshow": {
     "slide_type": "slide"
    }
   },
   "source": [
    "### Campus resources\n",
    "\n",
    "Counseling and Psychological Services (CAPS) is a campus unit that offers “short term counseling for academic, career, and personal issues and also offers psychiatry services for circumstances when medication can help with counseling.”\n",
    "If you or anyone you know is ever in need of mental health care, you should contact CAPS.\n",
    "\n",
    "<center><h3><a href=\"https://caps.ucsd.edu/\">caps.ucsd.edu</a></h3></center>"
   ]
  },
  {
   "cell_type": "markdown",
   "metadata": {
    "slideshow": {
     "slide_type": "slide"
    }
   },
   "source": [
    "## Demo"
   ]
  },
  {
   "cell_type": "markdown",
   "metadata": {
    "slideshow": {
     "slide_type": "slide"
    }
   },
   "source": [
    "### _Little Women_ (1868)\n",
    "\n",
    "- _Little Women_, by Louisa May Alcott, is a novel that follows the life of four sisters – Meg, Jo, Beth, and Amy.\n",
    "    - A movie based on the novel was released in 2019, starring Emma Watson (Meg) and Timothée Chalamet (Laurie).\n",
    "- Using tools from this class, we'll learn (a bit) about the plot of the book, without reading it.\n",
    "- Do not worry about any of this code – we'll cover the necessary pieces in the weeks to come. Sit back and relax!"
   ]
  },
  {
   "cell_type": "code",
   "execution_count": null,
   "metadata": {
    "scrolled": true,
    "slideshow": {
     "slide_type": "slide"
    }
   },
   "outputs": [],
   "source": [
    "# Read in 'lw.txt' to a variable called little_women_text.\n",
    "little_women_text = open('data/lw.txt').read()"
   ]
  },
  {
   "cell_type": "code",
   "execution_count": null,
   "metadata": {
    "slideshow": {
     "slide_type": "slide"
    }
   },
   "outputs": [],
   "source": [
    "# See the first three thousand characters.\n",
    "little_women_text[:3000]"
   ]
  },
  {
   "cell_type": "code",
   "execution_count": null,
   "metadata": {
    "slideshow": {
     "slide_type": "slide"
    }
   },
   "outputs": [],
   "source": [
    "# Print the first three thousand characters.\n",
    "print(little_women_text[:3000])"
   ]
  },
  {
   "cell_type": "code",
   "execution_count": null,
   "metadata": {
    "slideshow": {
     "slide_type": "slide"
    }
   },
   "outputs": [],
   "source": [
    "# Create a variable \"chapters\" by splitting the text on 'CHAPTER '.\n",
    "chapters = little_women_text.split('CHAPTER ') \n",
    "\n",
    "# Create a DataFrame with one column - the text of each chapters.\n",
    "bpd.DataFrame().assign(chapters=chapters)"
   ]
  },
  {
   "cell_type": "code",
   "execution_count": null,
   "metadata": {
    "slideshow": {
     "slide_type": "slide"
    }
   },
   "outputs": [],
   "source": [
    "# Number of occurrences of each name in each chapter.\n",
    "\n",
    "counts = bpd.DataFrame().assign(\n",
    "    Amy=np.char.count(chapters, 'Amy'),\n",
    "    Beth=np.char.count(chapters, 'Beth'),\n",
    "    Jo=np.char.count(chapters, 'Jo'),\n",
    "    Meg=np.char.count(chapters, 'Meg'),\n",
    "    Laurie=np.char.count(chapters, 'Laurie'),\n",
    ")\n",
    "counts"
   ]
  },
  {
   "cell_type": "code",
   "execution_count": null,
   "metadata": {
    "scrolled": false,
    "slideshow": {
     "slide_type": "slide"
    }
   },
   "outputs": [],
   "source": [
    "# Cumulative number of times each name appears.\n",
    "\n",
    "cumulative_counts = bpd.DataFrame().assign(\n",
    "    Amy=np.cumsum(counts.get('Amy')),\n",
    "    Beth=np.cumsum(counts.get('Beth')),\n",
    "    Jo=np.cumsum(counts.get('Jo')),\n",
    "    Meg=np.cumsum(counts.get('Meg')),\n",
    "    Laurie=np.cumsum(counts.get('Laurie')),\n",
    "    Chapter=np.arange(1, 49, 1)\n",
    ")\n",
    "\n",
    "cumulative_counts"
   ]
  },
  {
   "cell_type": "code",
   "execution_count": null,
   "metadata": {
    "slideshow": {
     "slide_type": "slide"
    }
   },
   "outputs": [],
   "source": [
    "# Putting it all together, we get a helpful visualization.\n",
    "cumulative_counts_df = cumulative_counts.drop(columns=['Chapter']).to_df().melt().rename(columns={'variable': 'name', 'value': 'Count'})\n",
    "cumulative_counts_df = cumulative_counts_df.assign(Chapter=list(range(1, 49)) * 5)\n",
    "px.line(cumulative_counts_df, x='Chapter', y='Count', color='name', width=900, height=600, title='Cumulative Number of Times Each Name Appears', template='ggplot2')"
   ]
  },
  {
   "cell_type": "markdown",
   "metadata": {
    "slideshow": {
     "slide_type": "fragment"
    }
   },
   "source": [
    "- In Chapter 32, Jo moves to New York alone. Her relationship with which sister suffers the most from this faraway move?"
   ]
  },
  {
   "cell_type": "markdown",
   "metadata": {
    "slideshow": {
     "slide_type": "fragment"
    }
   },
   "source": [
    "- Laurie is a man who marries one of the sisters at the end. Which one?\n"
   ]
  },
  {
   "cell_type": "markdown",
   "metadata": {
    "slideshow": {
     "slide_type": "slide"
    }
   },
   "source": [
    "### Next time\n",
    "\n",
    "On Monday, we'll start programming in Python 🐍. Remember to bring a laptop or tablet if you have one."
   ]
  }
 ],
 "metadata": {
  "kernelspec": {
   "display_name": "Python 3 (ipykernel)",
   "language": "python",
   "name": "python3"
  },
  "language_info": {
   "codemirror_mode": {
    "name": "ipython",
    "version": 3
   },
   "file_extension": ".py",
   "mimetype": "text/x-python",
   "name": "python",
   "nbconvert_exporter": "python",
   "pygments_lexer": "ipython3",
   "version": "3.9.7"
  },
  "livereveal": {
   "scroll": true,
   "transition": "none"
  },
  "rise": {
   "enable_chalkboard": true
  }
 },
 "nbformat": 4,
 "nbformat_minor": 4
}
