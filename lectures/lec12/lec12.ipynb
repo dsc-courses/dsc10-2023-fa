{
 "cells": [
  {
   "cell_type": "code",
   "execution_count": null,
   "metadata": {
    "slideshow": {
     "slide_type": "skip"
    }
   },
   "outputs": [],
   "source": [
    "# Set up packages for lecture. Don't worry about understanding this code,\n",
    "# but make sure to run it if you're following along.\n",
    "import numpy as np\n",
    "import babypandas as bpd\n",
    "from matplotlib_inline.backend_inline import set_matplotlib_formats\n",
    "import matplotlib.pyplot as plt\n",
    "set_matplotlib_formats(\"svg\")\n",
    "plt.style.use('ggplot')"
   ]
  },
  {
   "cell_type": "markdown",
   "metadata": {
    "slideshow": {
     "slide_type": "slide"
    }
   },
   "source": [
    "# Lecture 12 – Simulations\n",
    "\n",
    "## DSC 10, Spring 2023"
   ]
  },
  {
   "cell_type": "markdown",
   "metadata": {
    "slideshow": {
     "slide_type": "slide"
    }
   },
   "source": [
    "### Announcements\n",
    "\n",
    "- Lab 3 is due **tomorrow at 11:59PM**.\n",
    "- Homework 3 is due on **Tuesday 5/2 at 11:59PM**.\n",
    "- The Midterm Project is due on **Tuesday, 5/9 at 11:59PM**.\n",
    "    - Start early!\n",
    "    - Post in [this thread on Ed](https://edstem.org/us/courses/38383/discussion/3029800) if you're still looking for a partner.\n",
    "- Check out [this post on Ed](https://edstem.org/us/courses/38383/discussion/3014984) for explanations about common misconceptions from office hours.\n",
    "- The Midterm Exam is on **Friday 5/5 during your assigned lecture**."
   ]
  },
  {
   "cell_type": "markdown",
   "metadata": {
    "slideshow": {
     "slide_type": "slide"
    }
   },
   "source": [
    "### Midterm Exam details\n",
    "\n",
    "The Midterm Exam is on **Friday 5/5 during your assigned lecture**.\n",
    "- It will be a 50 minute, on-paper, closed-notes exam. We will provide you with first 2 pages of the [reference sheet](https://drive.google.com/file/d/1ky0Np67HS2O4LO913P-ing97SJG0j27n/view).\n",
    "- It will consist of multiple choice, fill-in-the-blank code, and short answer questions.\n",
    "- Bring a pen/pencil/eraser and a photo ID. No scantron or blue book needed.\n",
    "- No calculator, computers, notes, or other aids are allowed.\n",
    "- You will be assigned a specific seat sometime next week.\n",
    "- **Today's material is on the midterm; next week's is not.**\n",
    "- 🚨 **Look at past midterm exams at [practice.dsc10.com](https://practice.dsc10.com)!**"
   ]
  },
  {
   "cell_type": "markdown",
   "metadata": {
    "slideshow": {
     "slide_type": "slide"
    }
   },
   "source": [
    "### Agenda\n",
    "\n",
    "Simulations.\n",
    " - Example: What's the probability of getting 60 or more heads if we flip 100 coins?\n",
    " - Example: The \"Monty Hall\" Problem."
   ]
  },
  {
   "cell_type": "markdown",
   "metadata": {
    "slideshow": {
     "slide_type": "slide"
    }
   },
   "source": [
    "## Simulations"
   ]
  },
  {
   "cell_type": "markdown",
   "metadata": {
    "slideshow": {
     "slide_type": "slide"
    }
   },
   "source": [
    "### Simulations"
   ]
  },
  {
   "cell_type": "markdown",
   "metadata": {
    "slideshow": {
     "slide_type": "fragment"
    }
   },
   "source": [
    "- What is the probability of getting 60 or more heads if we flip 100 coins?"
   ]
  },
  {
   "cell_type": "markdown",
   "metadata": {
    "slideshow": {
     "slide_type": "fragment"
    }
   },
   "source": [
    "- While we _could_ calculate it by hand (and will learn how to in future courses), we can also **estimate** it using the computer:\n",
    "    1. Figure out how to run the experiment (flipping 100 coins) once.\n",
    "    2. Repeat the experiment many times.\n",
    "    3. Find the proportion of experiments in which the number of heads was 60 or more."
   ]
  },
  {
   "cell_type": "markdown",
   "metadata": {
    "slideshow": {
     "slide_type": "fragment"
    }
   },
   "source": [
    "- This is how we'll use **simulations** – to **estimate**, or approximate, a probability through computation.\n",
    "    - The techniques we will introduce in today's lecture will appear in almost every lecture for the remainder of the quarter!"
   ]
  },
  {
   "cell_type": "markdown",
   "metadata": {
    "slideshow": {
     "slide_type": "slide"
    }
   },
   "source": [
    "<center><img src=\"data/simulation.png\" width=75%</center>"
   ]
  },
  {
   "cell_type": "markdown",
   "metadata": {
    "slideshow": {
     "slide_type": "slide"
    }
   },
   "source": [
    "### Making a random choice"
   ]
  },
  {
   "cell_type": "markdown",
   "metadata": {
    "slideshow": {
     "slide_type": "fragment"
    }
   },
   "source": [
    "- To simulate, we need a way to perform a random experiment on the computer (e.g. flipping a coin, rolling a die)."
   ]
  },
  {
   "cell_type": "markdown",
   "metadata": {
    "slideshow": {
     "slide_type": "fragment"
    }
   },
   "source": [
    "- A helpful function is `np.random.choice(options)`.\n",
    "    - The input, `options`, is a list or array to choose from.\n",
    "    - The output is a random element in `options`. By default, all elements are equally likely to be chosen."
   ]
  },
  {
   "cell_type": "code",
   "execution_count": null,
   "metadata": {},
   "outputs": [],
   "source": [
    "# Simulate a fair coin flip.\n",
    "np.random.choice(['Heads', 'Tails'])"
   ]
  },
  {
   "cell_type": "code",
   "execution_count": null,
   "metadata": {
    "scrolled": true
   },
   "outputs": [],
   "source": [
    "# Simulate a roll of a die.\n",
    "np.random.choice(np.arange(1, 7))"
   ]
  },
  {
   "cell_type": "markdown",
   "metadata": {
    "slideshow": {
     "slide_type": "slide"
    }
   },
   "source": [
    "### Making multiple random choices\n",
    "\n",
    "`np.random.choice(options, n)` will return an array of `n` randomly selected elements from `options`."
   ]
  },
  {
   "cell_type": "code",
   "execution_count": null,
   "metadata": {
    "scrolled": true
   },
   "outputs": [],
   "source": [
    "# Simulate 10 fair coin flips.\n",
    "np.random.choice(['Heads', 'Tails'], 10)"
   ]
  },
  {
   "cell_type": "markdown",
   "metadata": {
    "slideshow": {
     "slide_type": "slide"
    }
   },
   "source": [
    "### With replacement vs. without replacement\n",
    "\n",
    "- By default, `np.random.choice` selects **with** replacement.\n",
    "- That is, after making a selection, that option is still available.\n",
    "    - e.g. if every time you draw a marble from a bag, you put it back.\n",
    "- If an option can only be selected once, select **without** replacement by specifying `replace=False`.\n",
    "    - e.g. if every time you draw a marble from a bag, you do not put it back."
   ]
  },
  {
   "cell_type": "code",
   "execution_count": null,
   "metadata": {},
   "outputs": [],
   "source": [
    "# Choose three colleges to win free HDH swag.\n",
    "colleges = ['Revelle', 'John Muir', 'Thurgood Marshall', \n",
    "            'Earl Warren', 'Eleanor Roosevelt', 'Sixth', 'Seventh']\n",
    "\n",
    "np.random.choice(colleges, 3, replace=False)"
   ]
  },
  {
   "cell_type": "markdown",
   "metadata": {
    "slideshow": {
     "slide_type": "slide"
    }
   },
   "source": [
    "## Example: What's the probability of getting 60 or more heads if we flip 100 coins?"
   ]
  },
  {
   "cell_type": "markdown",
   "metadata": {
    "slideshow": {
     "slide_type": "slide"
    }
   },
   "source": [
    "### Flipping coins\n",
    "\n",
    "What is the probability of getting 60 or more heads if we flip 100 coins?\n",
    "\n",
    "**Plan**:\n",
    "\n",
    "1. Figure out how to run the experiment (flipping 100 coins) once.\n",
    "2. Repeat the experiment many times.\n",
    "3. Find the proportion of experiments in which the number of heads was 60 or more."
   ]
  },
  {
   "cell_type": "markdown",
   "metadata": {
    "slideshow": {
     "slide_type": "slide"
    }
   },
   "source": [
    "### Step 1: Figure out how to run the experiment once\n",
    "\n",
    "- Use `np.random.choice` to flip 100 coins.\n",
    "- Use `np.count_nonzero` to count the number of heads.\n",
    "    - `np.count_nonzero(array)` returns the number of entries in `array` that are `True`.\n",
    "    "
   ]
  },
  {
   "cell_type": "code",
   "execution_count": null,
   "metadata": {},
   "outputs": [],
   "source": [
    "coins = np.random.choice(['Heads', 'Tails'], 100)\n",
    "coins"
   ]
  },
  {
   "cell_type": "code",
   "execution_count": null,
   "metadata": {},
   "outputs": [],
   "source": [
    "coins == 'Heads'"
   ]
  },
  {
   "cell_type": "code",
   "execution_count": null,
   "metadata": {},
   "outputs": [],
   "source": [
    "(coins == 'Heads').sum()"
   ]
  },
  {
   "cell_type": "code",
   "execution_count": null,
   "metadata": {},
   "outputs": [],
   "source": [
    "np.count_nonzero(coins == 'Heads') # Counts the number of Trues in the sequence."
   ]
  },
  {
   "cell_type": "code",
   "execution_count": null,
   "metadata": {},
   "outputs": [],
   "source": [
    "np.count_nonzero([5, 6, 0, 2])"
   ]
  },
  {
   "cell_type": "markdown",
   "metadata": {
    "slideshow": {
     "slide_type": "fragment"
    }
   },
   "source": [
    "- **Question**: Why is it called `count_nonzero`?\n",
    "- **Answer**: In Python, `True == 1` and `False == 0`, so counting the non-zero elements counts the number of `True`s."
   ]
  },
  {
   "cell_type": "markdown",
   "metadata": {
    "slideshow": {
     "slide_type": "slide"
    }
   },
   "source": [
    "### Aside: Defining a function to run the experiment\n",
    "\n",
    "This makes it easy to run the experiment repeatedly."
   ]
  },
  {
   "cell_type": "code",
   "execution_count": null,
   "metadata": {},
   "outputs": [],
   "source": [
    "def coin_experiment():\n",
    "    coins = np.random.choice(['Heads', 'Tails'], 100)\n",
    "    return np.count_nonzero(coins == 'Heads')"
   ]
  },
  {
   "cell_type": "code",
   "execution_count": null,
   "metadata": {},
   "outputs": [],
   "source": [
    "coin_experiment()"
   ]
  },
  {
   "cell_type": "markdown",
   "metadata": {
    "slideshow": {
     "slide_type": "slide"
    }
   },
   "source": [
    "### Step 2: Repeat the experiment many times\n",
    "\n",
    "- How do we run a piece of code many times? **Using a `for`-loop!**\n",
    "- Each time we run the experiment, we'll need to store the results in an array.\n",
    "    - To do this, we'll use `np.append`!"
   ]
  },
  {
   "cell_type": "code",
   "execution_count": null,
   "metadata": {},
   "outputs": [],
   "source": [
    "head_counts = np.array([])\n",
    "head_counts"
   ]
  },
  {
   "cell_type": "code",
   "execution_count": null,
   "metadata": {},
   "outputs": [],
   "source": [
    "head_counts = np.append(head_counts, 15)\n",
    "head_counts"
   ]
  },
  {
   "cell_type": "code",
   "execution_count": null,
   "metadata": {},
   "outputs": [],
   "source": [
    "head_counts = np.append(head_counts, 25)\n",
    "head_counts"
   ]
  },
  {
   "cell_type": "markdown",
   "metadata": {
    "slideshow": {
     "slide_type": "slide"
    }
   },
   "source": [
    "### Step 2: Repeat the experiment many times\n",
    "\n",
    "- Imagine we start with a blank sheet of paper, and each time we run the experiment, we write the number of heads we see down on the sheet of paper.\n",
    "- The sheet will start off empty, but eventually will have one number for each time we ran the experiment."
   ]
  },
  {
   "cell_type": "code",
   "execution_count": null,
   "metadata": {
    "slideshow": {
     "slide_type": "-"
    }
   },
   "outputs": [],
   "source": [
    "# Specify the number of repetitions.\n",
    "repetitions = 10000\n",
    "\n",
    "# Create an empty array to store the results.\n",
    "head_counts = np.array([])\n",
    "\n",
    "for i in np.arange(repetitions):\n",
    "    # For each repetition, run the experiment and add the result to head_counts.\n",
    "    head_count = coin_experiment()\n",
    "    head_counts = np.append(head_counts, head_count)"
   ]
  },
  {
   "cell_type": "code",
   "execution_count": null,
   "metadata": {
    "scrolled": true
   },
   "outputs": [],
   "source": [
    "len(head_counts)"
   ]
  },
  {
   "cell_type": "code",
   "execution_count": null,
   "metadata": {},
   "outputs": [],
   "source": [
    "head_counts"
   ]
  },
  {
   "cell_type": "markdown",
   "metadata": {
    "slideshow": {
     "slide_type": "slide"
    }
   },
   "source": [
    "### Step 3: Find the proportion of experiments in which the number of heads was 60 or more"
   ]
  },
  {
   "cell_type": "code",
   "execution_count": null,
   "metadata": {},
   "outputs": [],
   "source": [
    "# In how many experiments was the number of heads >= 60?\n",
    "at_least_60 = sum(head_counts >= 60)\n",
    "at_least_60"
   ]
  },
  {
   "cell_type": "code",
   "execution_count": null,
   "metadata": {},
   "outputs": [],
   "source": [
    "# What is this as a proportion?\n",
    "at_least_60 / repetitions"
   ]
  },
  {
   "cell_type": "code",
   "execution_count": null,
   "metadata": {},
   "outputs": [],
   "source": [
    "# Can also use np.mean()! Why?\n",
    "np.mean(head_counts >= 60)"
   ]
  },
  {
   "cell_type": "markdown",
   "metadata": {},
   "source": [
    "This is quite close to the true theoretical answer!"
   ]
  },
  {
   "cell_type": "code",
   "execution_count": null,
   "metadata": {},
   "outputs": [],
   "source": [
    "# The theoretical answer – don't worry about how or why this code works.\n",
    "import math\n",
    "sum([math.comb(100, i) * (1 / 2) ** 100 for i in np.arange(60, 101)])"
   ]
  },
  {
   "cell_type": "markdown",
   "metadata": {
    "slideshow": {
     "slide_type": "slide"
    }
   },
   "source": [
    "### Visualizing the distribution"
   ]
  },
  {
   "cell_type": "code",
   "execution_count": null,
   "metadata": {},
   "outputs": [],
   "source": [
    "head_counts"
   ]
  },
  {
   "cell_type": "code",
   "execution_count": null,
   "metadata": {},
   "outputs": [],
   "source": [
    "bpd.DataFrame().assign(\n",
    "    Number_of_Heads=head_counts\n",
    ").plot(kind='hist', bins=np.arange(30, 70), density=True, ec='w', figsize=(10, 5));\n",
    "plt.axvline(60, color='C1', linewidth=4);"
   ]
  },
  {
   "cell_type": "markdown",
   "metadata": {
    "slideshow": {
     "slide_type": "fragment"
    }
   },
   "source": [
    "- This histogram describes the distribution of the number of heads in each experiment.\n",
    "- Now we see another reason to use density histograms.\n",
    "    - Using density means that areas are **probabilities**.\n",
    "- Next class, we'll learn more about _why_ it's valid to estimate probabilities using simulations."
   ]
  },
  {
   "cell_type": "markdown",
   "metadata": {
    "slideshow": {
     "slide_type": "slide"
    }
   },
   "source": [
    "## Example: The \"Monty Hall\" Problem"
   ]
  },
  {
   "cell_type": "markdown",
   "metadata": {
    "slideshow": {
     "slide_type": "slide"
    }
   },
   "source": [
    "### The \"Monty Hall\" Problem\n",
    "\n",
    "Suppose you’re on a game show, and you’re given the choice of three doors. A car 🚗 is behind one of the doors, and goats 🐐🐐 are behind the other two.\n",
    "\n",
    "- You pick a door, say Door #2, and the host, **who knows what’s behind the doors**, opens another door, say Door #3, which has a goat. \n",
    "\n",
    "- The host then says to you, “Do you want to switch to Door #1 or stay with Door #2?” \n",
    "\n",
    "- **Question**: Should you stay or switch?\n",
    "\n",
    "_(The question was posed in Parade magazine’s \"Ask Marilyn\" column in 1990. It is called the \"Monty Hall problem\" because Monty Hall hosted a similar game show called \"Let's Make a Deal.\")_"
   ]
  },
  {
   "cell_type": "markdown",
   "metadata": {
    "slideshow": {
     "slide_type": "slide"
    }
   },
   "source": [
    "### Let's play!\n",
    "\n",
    "Below, we've embedded the Monty Hall simulator from [this site](https://montyhall.io/)."
   ]
  },
  {
   "cell_type": "code",
   "execution_count": null,
   "metadata": {},
   "outputs": [],
   "source": [
    "from IPython.display import IFrame\n",
    "IFrame('https://montyhall.io/', width=600, height=400)"
   ]
  },
  {
   "cell_type": "markdown",
   "metadata": {
    "slideshow": {
     "slide_type": "slide"
    }
   },
   "source": [
    "### Concept Check ✅ – Answer at [cc.dsc10.com](http://cc.dsc10.com) \n",
    "\n",
    "Suppose you originally selected Door #2. The host reveals Door #3 to have a goat behind it. What should you do?\n",
    "\n",
    "A. **Stay** with Door #2; it has just as high a chance of winning as Door #1. It doesn't matter whether you switch or not.\n",
    "\n",
    "B. **Switch** to Door #1; it has a higher chance of winning than Door #2."
   ]
  },
  {
   "cell_type": "markdown",
   "metadata": {
    "slideshow": {
     "slide_type": "slide"
    }
   },
   "source": [
    "### Time to simulate!"
   ]
  },
  {
   "cell_type": "markdown",
   "metadata": {
    "slideshow": {
     "slide_type": "fragment"
    }
   },
   "source": [
    "- Let's **estimate** the probability of winning if you switch."
   ]
  },
  {
   "cell_type": "markdown",
   "metadata": {
    "slideshow": {
     "slide_type": "fragment"
    }
   },
   "source": [
    "- If it's higher than 50%, then switching is the better strategy, otherwise staying is the better strategy."
   ]
  },
  {
   "cell_type": "markdown",
   "metadata": {
    "slideshow": {
     "slide_type": "fragment"
    }
   },
   "source": [
    "**Plan**:\n",
    "\n",
    "1. Figure out how to simulate a single game.\n",
    "2. Play the game many times, switching each time.\n",
    "3. Compute the proportion of wins."
   ]
  },
  {
   "cell_type": "markdown",
   "metadata": {
    "slideshow": {
     "slide_type": "slide"
    }
   },
   "source": [
    "### Step 1: Simulate a single game\n",
    "\n",
    "When you pick a door, there are three equally-likely outcomes:\n",
    "\n",
    "- Car.\n",
    "- Goat #1.\n",
    "- Goat #2."
   ]
  },
  {
   "cell_type": "code",
   "execution_count": null,
   "metadata": {},
   "outputs": [],
   "source": [
    "options = np.array(['Car', 'Goat #1', 'Goat #2'])\n",
    "behind_picked_door = np.random.choice(options)\n",
    "behind_picked_door"
   ]
  },
  {
   "cell_type": "markdown",
   "metadata": {
    "slideshow": {
     "slide_type": "slide"
    }
   },
   "source": [
    "### Step 1: Simulate a single game\n",
    "\n",
    "When the host opens a different door, they always reveal a goat."
   ]
  },
  {
   "cell_type": "code",
   "execution_count": null,
   "metadata": {},
   "outputs": [],
   "source": [
    "if behind_picked_door == 'Goat #1':\n",
    "    revealed = 'Goat #2'\n",
    "elif behind_picked_door == 'Goat #2':\n",
    "    revealed = 'Goat #1'\n",
    "else:\n",
    "    # This is the case in which you originally picked a car!\n",
    "    revealed = np.random.choice(['Goat #1', 'Goat #2'])\n",
    "\n",
    "revealed"
   ]
  },
  {
   "cell_type": "markdown",
   "metadata": {
    "slideshow": {
     "slide_type": "fragment"
    }
   },
   "source": [
    "If you always switch, you'll end up winning the prize that is neither `behind_picked_door` nor `revealed`."
   ]
  },
  {
   "cell_type": "code",
   "execution_count": null,
   "metadata": {},
   "outputs": [],
   "source": [
    "options"
   ]
  },
  {
   "cell_type": "code",
   "execution_count": null,
   "metadata": {},
   "outputs": [],
   "source": [
    "behind_picked_door"
   ]
  },
  {
   "cell_type": "code",
   "execution_count": null,
   "metadata": {},
   "outputs": [],
   "source": [
    "revealed"
   ]
  },
  {
   "cell_type": "code",
   "execution_count": null,
   "metadata": {},
   "outputs": [],
   "source": [
    "your_prize = options[(options != behind_picked_door) & (options != revealed)][0]\n",
    "your_prize"
   ]
  },
  {
   "cell_type": "markdown",
   "metadata": {
    "slideshow": {
     "slide_type": "slide"
    }
   },
   "source": [
    "### Step 1: Simulate a single game\n",
    "\n",
    "Let's put all of our work into a single function to make it easier to repeat."
   ]
  },
  {
   "cell_type": "code",
   "execution_count": null,
   "metadata": {},
   "outputs": [],
   "source": [
    "def simulate_switch_strategy():\n",
    "    options = np.array(['Car', 'Goat #1', 'Goat #2'])\n",
    "    behind_picked_door = np.random.choice(options)\n",
    "    \n",
    "    if behind_picked_door == 'Goat #1':\n",
    "        revealed = 'Goat #2'\n",
    "    elif behind_picked_door == 'Goat #2':\n",
    "        revealed = 'Goat #1'\n",
    "    else:\n",
    "        revealed = np.random.choice(['Goat #1', 'Goat #2'])\n",
    "        \n",
    "    your_prize = options[(options != behind_picked_door) & (options != revealed)][0]\n",
    "        \n",
    "    #print(behind_picked_door, 'was behind the door.', revealed, 'was revealed by the host. Your prize was:', your_prize)\n",
    "    return your_prize"
   ]
  },
  {
   "cell_type": "markdown",
   "metadata": {},
   "source": [
    "Now, every time we call `simulate_switch_strategy`, the result is your prize."
   ]
  },
  {
   "cell_type": "code",
   "execution_count": null,
   "metadata": {},
   "outputs": [],
   "source": [
    "simulate_switch_strategy()"
   ]
  },
  {
   "cell_type": "markdown",
   "metadata": {
    "slideshow": {
     "slide_type": "slide"
    }
   },
   "source": [
    "### Step 2: Play the game many times\n",
    "\n",
    "We should save your prize in each game; to do so, we'll use `np.append`."
   ]
  },
  {
   "cell_type": "code",
   "execution_count": null,
   "metadata": {},
   "outputs": [],
   "source": [
    "repetitions = 10000\n",
    "\n",
    "your_prizes = np.array([])\n",
    "\n",
    "for i in np.arange(repetitions):\n",
    "    your_prize = simulate_switch_strategy()\n",
    "    your_prizes = np.append(your_prizes, your_prize)"
   ]
  },
  {
   "cell_type": "code",
   "execution_count": null,
   "metadata": {},
   "outputs": [],
   "source": [
    "your_prizes"
   ]
  },
  {
   "cell_type": "markdown",
   "metadata": {
    "slideshow": {
     "slide_type": "slide"
    }
   },
   "source": [
    "### Step 3: Count the proportion of wins for this strategy (switching)"
   ]
  },
  {
   "cell_type": "code",
   "execution_count": null,
   "metadata": {},
   "outputs": [],
   "source": [
    "your_prizes"
   ]
  },
  {
   "cell_type": "code",
   "execution_count": null,
   "metadata": {},
   "outputs": [],
   "source": [
    "np.count_nonzero(your_prizes == 'Car')"
   ]
  },
  {
   "cell_type": "code",
   "execution_count": null,
   "metadata": {},
   "outputs": [],
   "source": [
    "np.count_nonzero(your_prizes == 'Car') / repetitions"
   ]
  },
  {
   "cell_type": "markdown",
   "metadata": {
    "slideshow": {
     "slide_type": "fragment"
    }
   },
   "source": [
    "This is quite close to the true probability of winning if you switch, $\\frac{2}{3}$."
   ]
  },
  {
   "cell_type": "markdown",
   "metadata": {
    "slideshow": {
     "slide_type": "slide"
    }
   },
   "source": [
    "### Alternate implementation"
   ]
  },
  {
   "cell_type": "markdown",
   "metadata": {
    "slideshow": {
     "slide_type": "fragment"
    }
   },
   "source": [
    "- Looking back at our implementation, we kept track of your prize in each game."
   ]
  },
  {
   "cell_type": "markdown",
   "metadata": {
    "slideshow": {
     "slide_type": "fragment"
    }
   },
   "source": [
    "- However, all we really needed to keep track of was the **number of games** in which you won a car."
   ]
  },
  {
   "cell_type": "markdown",
   "metadata": {
    "slideshow": {
     "slide_type": "fragment"
    }
   },
   "source": [
    "- **💡 Idea**: Keep a _tally_ of the number of times you won a car. That is, initialize `car_count` to 0, and add 1 to it each time your prize is a car."
   ]
  },
  {
   "cell_type": "code",
   "execution_count": null,
   "metadata": {},
   "outputs": [],
   "source": [
    "car_count = 0"
   ]
  },
  {
   "cell_type": "code",
   "execution_count": null,
   "metadata": {},
   "outputs": [],
   "source": [
    "for i in np.arange(repetitions):\n",
    "    your_prize = simulate_switch_strategy()\n",
    "    if your_prize == 'Car':\n",
    "        car_count = car_count + 1"
   ]
  },
  {
   "cell_type": "code",
   "execution_count": null,
   "metadata": {},
   "outputs": [],
   "source": [
    "car_count / repetitions"
   ]
  },
  {
   "cell_type": "markdown",
   "metadata": {
    "slideshow": {
     "slide_type": "fragment"
    }
   },
   "source": [
    "No arrays needed! This strategy won't always work; it depends on the goal of the simulation."
   ]
  },
  {
   "cell_type": "markdown",
   "metadata": {
    "slideshow": {
     "slide_type": "slide"
    }
   },
   "source": [
    "### What if you always stay with your original door?\n",
    "\n",
    "In this case, your prize is always the same as what was behind the picked door."
   ]
  },
  {
   "cell_type": "code",
   "execution_count": null,
   "metadata": {},
   "outputs": [],
   "source": [
    "car_count = 0\n",
    "\n",
    "for i in np.arange(repetitions):\n",
    "    options = np.array(['Car', 'Goat #1', 'Goat #2'])\n",
    "    behind_picked_door = np.random.choice(options)\n",
    "    your_prize = behind_picked_door\n",
    "    if your_prize == 'Car':\n",
    "        car_count = car_count + 1\n",
    "        \n",
    "car_count / repetitions"
   ]
  },
  {
   "cell_type": "markdown",
   "metadata": {
    "slideshow": {
     "slide_type": "fragment"
    }
   },
   "source": [
    "- This is quite close to the true probability of winning if you stay, $\\frac{1}{3}$."
   ]
  },
  {
   "cell_type": "markdown",
   "metadata": {
    "slideshow": {
     "slide_type": "fragment"
    }
   },
   "source": [
    "- **Conclusion**: It's better to switch. "
   ]
  },
  {
   "cell_type": "markdown",
   "metadata": {
    "slideshow": {
     "slide_type": "fragment"
    }
   },
   "source": [
    "- **Why?**\n",
    "    - If you originally choose a goat, Monty will reveal the other goat, and you'll win the car by switching. \n",
    "    - If you originally choose a car, you'll win by staying.\n",
    "    - But there are 2 goats and only 1 car, so you win twice as often by switching."
   ]
  },
  {
   "cell_type": "markdown",
   "metadata": {
    "slideshow": {
     "slide_type": "slide"
    }
   },
   "source": [
    "### Marilyn vos Savant's column in Parade magazine\n",
    "\n",
    "\n",
    "<div style=\"display: flex; margin-top: .5in; margin-right: 1in\">\n",
    "<div style=\"width: 85%;\">\n",
    "    <ul>\n",
    "        <li>When asked this question by a reader, vos Savant stated the correct answer: <i>switch</i>.</li>\n",
    "        <li>She received over 10,000 letters in disagreement, including over 1,000 letters from people with Ph.D.s.</li>\n",
    "        <li>This became a nationwide controversy, even getting a <a href='https://www.nytimes.com/1991/07/21/us/behind-monty-hall-s-doors-puzzle-debate-and-answer.html'>front-page New York Times article in 1991.</a></li>\n",
    "    </ul>\n",
    "</div>\n",
    "<div style=\"width: 30%;\">\n",
    "    <img src=\"data/vos_savant.jpg\" width=300>\n",
    "</div>\n",
    "</div>\n"
   ]
  },
  {
   "cell_type": "markdown",
   "metadata": {
    "slideshow": {
     "slide_type": "slide"
    }
   },
   "source": [
    "## Summary, next time"
   ]
  },
  {
   "cell_type": "markdown",
   "metadata": {
    "slideshow": {
     "slide_type": "slide"
    }
   },
   "source": [
    "### Simulations find probabilities\n",
    "\n",
    "- Calculating probabilities is important, but can be hard!\n",
    "    - You'll learn plenty of formulas in future DSC classes, if you end up taking them.\n",
    "- Simulations let us find probabilities through code rather than through math.\n",
    "- Many real-world scenarios are complicated.\n",
    "    - Simulations are much easier than math in many of these cases."
   ]
  },
  {
   "cell_type": "markdown",
   "metadata": {
    "slideshow": {
     "slide_type": "slide"
    }
   },
   "source": [
    "### The simulation \"recipe\"\n",
    "\n",
    "To estimate the probability of an event through simulation:\n",
    "1. Make a function that runs the experiment once.\n",
    "2. Run that function many times (usually 10,000) with a `for`-loop, and save the results in an array with `np.append`.\n",
    "3. Compute the proportion of times the event occurs using `np.count_nonzero`."
   ]
  },
  {
   "cell_type": "markdown",
   "metadata": {
    "slideshow": {
     "slide_type": "slide"
    }
   },
   "source": [
    "### What's next?\n",
    "\n",
    "- In the next class, we will start talking about sampling.\n",
    "    - Key idea: We want to learn something about a large population (e.g. all undergraduates at UCSD). However, it's far too difficult to survey everyone. If we collect a sample, what can we infer about the larger population?\n",
    "- **Next week's lecture material is not on the midterm.**"
   ]
  }
 ],
 "metadata": {
  "kernelspec": {
   "display_name": "Python 3 (ipykernel)",
   "language": "python",
   "name": "python3"
  },
  "language_info": {
   "codemirror_mode": {
    "name": "ipython",
    "version": 3
   },
   "file_extension": ".py",
   "mimetype": "text/x-python",
   "name": "python",
   "nbconvert_exporter": "python",
   "pygments_lexer": "ipython3",
   "version": "3.9.13"
  },
  "livereveal": {
   "scroll": true,
   "transition": "none"
  },
  "rise": {
   "enable_chalkboard": true
  }
 },
 "nbformat": 4,
 "nbformat_minor": 2
}
