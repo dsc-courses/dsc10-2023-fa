{
 "cells": [
  {
   "cell_type": "markdown",
   "metadata": {
    "slideshow": {
     "slide_type": "slide"
    }
   },
   "source": [
    "# Lecture 11 – Probability\n",
    "\n",
    "## DSC 10, Spring 2023"
   ]
  },
  {
   "cell_type": "markdown",
   "metadata": {
    "slideshow": {
     "slide_type": "slide"
    }
   },
   "source": [
    "### Announcements\n",
    "\n",
    "- Lab 3 is due on **Saturday 4/29 at 11:59PM**.\n",
    "- Homework 3 is due on **Tuesday 5/2 at 11:59PM**.\n",
    "- The Midterm Project is due on **Tuesday, 5/9 at 11:59PM**.\n",
    "    - You can work with a partner from any lecture section, but if you do, you must follow these [project partner guidelines](https://dsc10.com/project-partners/). In particular, you must both contribute to all parts of the project and not split up the problems.\n",
    "    - We will hold a mixer **today from 1:30 to 2:15PM in the Center Hall courtyard** to help you find a partner if you don't have one. See [this Ed post](https://edstem.org/us/courses/38383/discussion/3020444) for questions.\n",
    "    - Start early!\n",
    "- **Tomorrow from 12-1:30PM in CSE 1202**, a few other DSC professors and I will be participating in a \"[Hot Ones](https://www.youtube.com/@FirstWeFeast)\"-style event hosted by DS3. Come say hi!"
   ]
  },
  {
   "cell_type": "markdown",
   "metadata": {
    "slideshow": {
     "slide_type": "slide"
    }
   },
   "source": [
    "### Last time: `for`-loops\n",
    "\n",
    "- Almost every `for`-loop in DSC 10 will use the **accumulator pattern**.\n",
    "    - This means we initialize a variable, and repeatedly add on to it within a loop.\n",
    "    - The variable could be an integer, an array, or even a string (as in Homework 3, Question 4: Triton Tweets).\n",
    "    - Analogy: Start with a blank piece of paper and write something on it each time you run an experiment.\n",
    "    \n",
    "- Do **not** use `for`-loops to perform mathematical operations on every element of an array or Series.\n",
    "    - Instead, use DataFrame manipulations and built-in array or Series methods.\n",
    "    \n",
    "- Helpful video 🎥: [For Loops (and when not to use them) in DSC 10](https://www.youtube.com/watch?v=BlczSBT80fU).\n",
    "- More examples to come in Friday's lecture."
   ]
  },
  {
   "cell_type": "markdown",
   "metadata": {
    "slideshow": {
     "slide_type": "slide"
    }
   },
   "source": [
    "### Agenda\n",
    "\n",
    "We'll cover the basics of probability theory. This is a math lesson; take written notes ✍🏽."
   ]
  },
  {
   "cell_type": "markdown",
   "metadata": {
    "slideshow": {
     "slide_type": "slide"
    }
   },
   "source": [
    "### Probability resources\n",
    "\n",
    "Probability is a tricky subject. If it doesn't click during lecture or on the assignments, take a look at the following resources:\n",
    "- [Computational and Inferential Thinking, Chapter 9.5](https://inferentialthinking.com/chapters/09/5/Finding_Probabilities.html).\n",
    "- [Theory Meets Data, Chapters 1 and 2](http://stat88.org/textbook/content/Chapter_01/00_The_Basics.html).\n",
    "- [Khan Academy's unit on Probability](https://www.khanacademy.org/math/probability/xa88397b6:probability).\n",
    "\n",
    "We're also going to review probability again in next Wednesday's lecture (the lecture before the midterm)."
   ]
  },
  {
   "cell_type": "markdown",
   "metadata": {
    "slideshow": {
     "slide_type": "slide"
    }
   },
   "source": [
    "### Probability theory\n",
    "\n",
    "- Some things in life *seem* random.\n",
    "    - e.g., flipping a coin or rolling a die 🎲.\n",
    "- The **probability** of seeing \"heads\" when flipping a fair coin is $\\frac{1}{2}$.\n",
    "- One interpretation of probability says that if we flipped a coin infinitely many times, then $\\frac{1}{2}$ of the outcomes would be heads."
   ]
  },
  {
   "cell_type": "markdown",
   "metadata": {
    "slideshow": {
     "slide_type": "slide"
    }
   },
   "source": [
    "### Terminology\n",
    "\n",
    "- **Experiment**: A process or action whose result is random.\n",
    "    - e.g., rolling a die.\n",
    "    - e.g., flipping a coin twice.\n",
    "- **Outcome**: The result of an experiment.\n",
    "    - e.g., the possible outcomes of rolling a six-sided die are 1, 2, 3, 4, 5, and 6.\n",
    "    - e.g., the possible outcomes of flipping a coin twice are HH, HT, TH, and TT.\n",
    "- **Event**: A set of outcomes.\n",
    "    - e.g., the event that the die lands on a even number is the set of outcomes {2, 4, 6}.\n",
    "    - e.g., the event that the die lands on a 5 is the set of outcomes {5}.\n",
    "    - e.g., the event that there is at least 1 head in 2 flips is the set of outcomes {HH, HT, TH}."
   ]
  },
  {
   "cell_type": "markdown",
   "metadata": {
    "slideshow": {
     "slide_type": "slide"
    }
   },
   "source": [
    "### Terminology\n",
    "\n",
    "- **Probability**: A number between 0 and 1 (equivalently, between 0% and 100%) that describes the likelihood of an event.\n",
    "    - 0: The event never happens.\n",
    "    - 1: The event always happens.\n",
    "- Notation: If $A$ is an event, $P(A)$ is the probability of that event."
   ]
  },
  {
   "cell_type": "markdown",
   "metadata": {
    "slideshow": {
     "slide_type": "slide"
    }
   },
   "source": [
    "### Equally-likely outcomes\n",
    "\n",
    "- If all outcomes in event $A$ are equally likely, then the probability of $A$ is\n",
    "\n",
    "$$\n",
    "P(A) = \\frac{\n",
    "    \\text{# of outcomes satisfying $A$}\n",
    "}{\n",
    "    \\text{total # of outcomes}\n",
    "}\n",
    "$$\n",
    "\n",
    "- **Example 1**: Suppose we flip a fair coin 3 times. What is the probability we see exactly 2 heads?"
   ]
  },
  {
   "cell_type": "markdown",
   "metadata": {
    "slideshow": {
     "slide_type": "skip"
    }
   },
   "source": [
    "### Example 1 solved\n",
    "\n",
    "- When we flip a fair coin 3 times, there are 8 possible outcomes: HHH, HHT, HTH, HTT, THH, THT, TTH, and TTT.\n",
    "- These outcomes are all equally likely.\n",
    "- 3 of these outcomes have exactly 2 heads: HHT, HTH, and THH.\n",
    "- So, the probability of seeing exactly 2 heads in 3 flips of a fair coin is $\\frac{3}{8}$."
   ]
  },
  {
   "cell_type": "markdown",
   "metadata": {
    "slideshow": {
     "slide_type": "slide"
    }
   },
   "source": [
    "### Concept Check ✅ – Answer at [cc.dsc10.com](http://cc.dsc10.com) \n",
    "\n",
    "I have three cards: red, blue, and green. What is the chance that I choose a card at random and it is green, then – **without putting it back** – I choose another card at random and it is red?\n",
    "\n",
    "- A) $\\frac{1}{9}$\n",
    "- B) $\\frac{1}{6}$\n",
    "- C) $\\frac{1}{3}$\n",
    "- D) $\\frac{2}{3}$\n",
    "- E) None of the above."
   ]
  },
  {
   "cell_type": "markdown",
   "metadata": {
    "slideshow": {
     "slide_type": "skip"
    }
   },
   "source": [
    "### Solution\n",
    "\n",
    "- There are 6 possible outcomes: RG, RB, GR, GB, BR, and BG.\n",
    "- These outcomes are equally likely.\n",
    "- There is only 1 outcome which makes the event happen: GR.\n",
    "- Hence the probability is $\\frac{1}{6}$."
   ]
  },
  {
   "cell_type": "markdown",
   "metadata": {
    "slideshow": {
     "slide_type": "slide"
    }
   },
   "source": [
    "### Conditional probabilities\n",
    "\n",
    "- Two events $A$ and $B$ can both happen. Suppose that we know $A$ has happened, but we don't know if $B$ has.\n",
    "- If all outcomes are equally likely, then the conditional probability of $B$ given $A$ is:\n",
    "\n",
    "$$\n",
    "P(B \\text{ given } A)\n",
    "= \\frac{\n",
    "    \\text{# of outcomes satisfying both $A$ and $B$}\n",
    "}{\n",
    "    \\text{# of outcomes satisfying $A$}\n",
    "}\n",
    "$$\n",
    "- Intuitively, this is similar to the definition of the regular probability of $B$, $P(B) = \\frac{\n",
    "    \\text{# of outcomes satisfying $B$}\n",
    "}{\n",
    "    \\text{total # of outcomes}\n",
    "}$, if you restrict the set of possible outcomes to be just those in event $A$."
   ]
  },
  {
   "cell_type": "markdown",
   "metadata": {
    "slideshow": {
     "slide_type": "slide"
    }
   },
   "source": [
    "### Concept Check ✅ – Answer at [cc.dsc10.com](http://cc.dsc10.com) \n",
    "\n",
    "$$\n",
    "P(B \\text{ given } A)\n",
    "= \\frac{\n",
    "    \\text{# of outcomes satisfying both $A$ and $B$}\n",
    "}{\n",
    "    \\text{# of outcomes satisfying $A$}\n",
    "}\n",
    "$$\n",
    "\n",
    "I roll a six-sided die and don't tell you what the result is, but I tell you that it is 3 or less. What is the probability that the result is even?\n",
    "\n",
    "- A) $\\frac{1}{2}$\n",
    "- B) $\\frac{1}{3}$\n",
    "- C) $\\frac{1}{4}$\n",
    "- D) None of the above."
   ]
  },
  {
   "cell_type": "markdown",
   "metadata": {
    "slideshow": {
     "slide_type": "skip"
    }
   },
   "source": [
    "### Solution\n",
    "\n",
    "$$\n",
    "P(B \\text{ given } A)\n",
    "= \\frac{\n",
    "    \\text{# of outcomes satisfying both $A$ and $B$}\n",
    "}{\n",
    "    \\text{# of outcomes satisfying $A$}\n",
    "}\n",
    "$$\n",
    "\n",
    "- $A$ is the event \"roll is 3 or less\", $B$ is the event \"roll is even\".\n",
    "- There are three outcomes where the roll is 3 or less: 1, 2, and 3.\n",
    "- There is only one outcome where the roll is 3 or less and even: 2.\n",
    "- So the probability that the roll is even given that it is 3 or less is $P(B \\text{ given } A) = \\frac{1}{3}$."
   ]
  },
  {
   "cell_type": "markdown",
   "metadata": {
    "slideshow": {
     "slide_type": "slide"
    }
   },
   "source": [
    "### Probability that two events both happen\n",
    "\n",
    "- Suppose again that $A$ and $B$ are two events, and that all outcomes are equally likely. Then, the probability that both $A$ and $B$ occur is\n",
    "\n",
    "$$\n",
    "P(A \\text{ and } B) = \\frac{\n",
    "    \\text{# of outcomes satisfying both $A$ and $B$}\n",
    "}{\n",
    "    \\text{total # of outcomes}\n",
    "}\n",
    "$$\n",
    "\n",
    "- **Example 2**: I roll a fair six-sided die. What is the probability that the roll is 3 or less **and** even?"
   ]
  },
  {
   "cell_type": "markdown",
   "metadata": {
    "slideshow": {
     "slide_type": "skip"
    }
   },
   "source": [
    "### Example 2 solved\n",
    "\n",
    "I roll a fair six-sided die. What is the probability that the roll is 3 or less and even?\n",
    "\n",
    "- Only one outcome is both 3 or less and even: 2.\n",
    "- There are 6 total outcomes.\n",
    "- Thus, $P(A \\text{ and } B) = \\frac{1}{6}$."
   ]
  },
  {
   "cell_type": "markdown",
   "metadata": {
    "slideshow": {
     "slide_type": "slide"
    }
   },
   "source": [
    "### The multiplication rule\n",
    "\n",
    "- The multiplication rule specifies how to compute the probability of both $A$ and $B$ happening, even if all outcomes are not equally likely.\n",
    "\n",
    "$$\n",
    "    P(A \\text{ and } B)\n",
    "    =\n",
    "    P(A) \\cdot P(B \\text{ given } A)\n",
    "$$\n",
    "\n",
    "- **Example 2, again**: I roll a fair six-sided die. What is the probability that the roll is 3 or less and even?"
   ]
  },
  {
   "cell_type": "markdown",
   "metadata": {
    "slideshow": {
     "slide_type": "skip"
    }
   },
   "source": [
    "### Example 2 solved, again\n",
    "\n",
    "I roll a fair six-sided die. What is the probability that the roll is 3 or less and even?\n",
    "\n",
    "- The probability that the roll is 3 or less is $P(A) = \\frac{1}{2}$.\n",
    "- From before, the probability that the roll is even given that the roll is 3 or less is $P(B \\text{ given } A) = \\frac{1}{3}$.\n",
    "- Thus, the probability the roll is both 3 or less and even is $P(A \\text{ and } B) = \\frac{1}{2} \\cdot \\frac{1}{3} = \\frac{1}{6}$.\n",
    "- Note that an equivalent formula is $P(A \\text{ and } B) = P(B) \\cdot P (A \\text{ given } B)$.\n",
    "\n",
    "#### Generally, situations involving an \"and\" involve multiplication."
   ]
  },
  {
   "cell_type": "markdown",
   "metadata": {
    "slideshow": {
     "slide_type": "slide"
    }
   },
   "source": [
    "### What if $A$ isn't affected by $B$? 🤔\n",
    "\n",
    "- The multiplication rule states that, for any two events $A$ and $B$, $$P(A \\text{ and } B) = P(A) \\cdot P(B \\text{ given } A)$$\n",
    "- What if knowing that $A$ happens doesn't tell you anything about the likelihood of $B$ happening?\n",
    "    - Suppose we flip a fair coin three times.\n",
    "    - The probability that the second flip is heads doesn't depend on the result of the first flip.\n",
    "- Then, what is $P(A \\text{ and } B)$?"
   ]
  },
  {
   "cell_type": "markdown",
   "metadata": {
    "slideshow": {
     "slide_type": "slide"
    }
   },
   "source": [
    "### Independent events\n",
    "\n",
    "- Two events $A$ and $B$ are independent if $P(B \\text{ given } A) = P(B) \\:$, or equivalently if $$P(A \\text{ and } B) = P(A) \\cdot P(B)$$\n",
    "- **Example 3**: Suppose we have a coin that is **biased**, and flips heads with probability 0.7. Each flip is independent of all other flips. We flip it 5 times. What's the probability we see 5 heads in a row?"
   ]
  },
  {
   "cell_type": "markdown",
   "metadata": {
    "slideshow": {
     "slide_type": "skip"
    }
   },
   "source": [
    "### Example 3 solved\n",
    "\n",
    "Suppose we have a coin that is **biased**, and flips heads with probability 0.7. Each flip is independent of all other flips. We flip it 5 times. What's the probability we see 5 heads in a row?\n",
    "\n",
    "- The probability of seeing heads on a single flip is 0.7.\n",
    "- Each flip is independent.\n",
    "- So, the probability of seeing 5 heads in a row is\n",
    "\n",
    "$$0.7 \\cdot 0.7 \\cdot 0.7 \\cdot 0.7 \\cdot 0.7 = 0.7^5$$"
   ]
  },
  {
   "cell_type": "markdown",
   "metadata": {
    "slideshow": {
     "slide_type": "slide"
    }
   },
   "source": [
    "### Probability that an event *doesn't* happen\n",
    "\n",
    "- The probability that $A$ **doesn't** happen is $1 - P(A) \\:$.\n",
    "- For example, if the probability it is sunny tomorrow is 0.85, then the probability it is not sunny tomorrow is 0.15."
   ]
  },
  {
   "cell_type": "markdown",
   "metadata": {
    "slideshow": {
     "slide_type": "slide"
    }
   },
   "source": [
    "### Concept Check ✅ – Answer at [cc.dsc10.com](http://cc.dsc10.com) \n",
    "\n",
    "Every time I call my grandma 👵, the probability that she answers her phone is $\\frac{1}{3}$, independently for each call. If I call my grandma three times today, what is the chance that I will talk to her at least once?\n",
    "\n",
    "- A) $\\frac{1}{3}$\n",
    "- B) $\\frac{2}{3}$\n",
    "- C) $\\frac{1}{2}$\n",
    "- D) $1$\n",
    "- E) None of the above."
   ]
  },
  {
   "cell_type": "markdown",
   "metadata": {
    "slideshow": {
     "slide_type": "skip"
    }
   },
   "source": [
    "### Solution\n",
    "\n",
    "- Let's first calculate the probability that she **doesn't** answer her phone in three tries.\n",
    "    - The probability she doesn't answer her phone on any one attempt is $\\frac{2}{3}$.\n",
    "    - So the probability she doesn't answer her phone in three tries is $\\frac{2}{3} \\cdot \\frac{2}{3} \\cdot \\frac{2}{3} = \\frac{8}{27}$.\n",
    "- But we want the probability of her answering **at least** once. So we subtract the above result from 1.\n",
    "    - $1 - \\frac{8}{27} = \\frac{19}{27}$; none of the above!"
   ]
  },
  {
   "cell_type": "markdown",
   "metadata": {
    "slideshow": {
     "slide_type": "slide"
    }
   },
   "source": [
    "### Probability of either of two events happening\n",
    "\n",
    "- Suppose again that $A$ and $B$ are two events, and that all outcomes are equally likely. Then, the probability that either $A$ or $B$ occur is\n",
    "\n",
    "$$\n",
    "P(A \\text{ or } B) = \\frac{\n",
    "    \\text{# of outcomes satisfying either $A$ or $B$}\n",
    "    }{\n",
    "    \\text{total # of outcomes}\n",
    "    }\n",
    "$$\n",
    "\n",
    "- **Example 4**: I roll a fair six-sided die. What is the probability that the roll is even or at least 5?"
   ]
  },
  {
   "cell_type": "markdown",
   "metadata": {
    "slideshow": {
     "slide_type": "skip"
    }
   },
   "source": [
    "### Example 4 solved\n",
    "\n",
    "I roll a fair six-sided die. What is the probability that the roll is even or at least 5?\n",
    "- There are three outcomes that are even: 2, 4, 6.\n",
    "- There are two outcomes that are at least 5: 5, 6.\n",
    "- There are four total outcomes that satisfy at least one of the two conditions: 2, 4, 5, 6.\n",
    "- Thus, the probability that the roll is even or at least 5 is $\\frac{4}{6} = \\frac{2}{3}$.\n",
    "    - Note that this is not $P(A) + P(B) \\:$, which would be $\\frac{3}{6} + \\frac{2}{6} = \\frac{5}{6}$, because there is **overlap** between events $A$ and $B$."
   ]
  },
  {
   "cell_type": "markdown",
   "metadata": {
    "slideshow": {
     "slide_type": "slide"
    }
   },
   "source": [
    "### The addition rule\n",
    "\n",
    "- Suppose that if $A$ happens, then $B$ doesn't, and if $B$ happens, then $A$ doesn't.\n",
    "    - Such events are called **mutually exclusive** – they have **no overlap**.\n",
    "- If $A$ and $B$ are any two mutually exclusive events, then\n",
    "\n",
    "$$P(A \\text{ or } B) = P(A) + P(B)$$\n",
    "\n",
    "- **Example 5**: Suppose I have two biased coins, coin $A$ and coin $B$. Coin $A$ flips heads with probability 0.6, and coin $B$ flips heads with probability 0.3. I flip both coins once. What's the probability I see two different faces?"
   ]
  },
  {
   "cell_type": "markdown",
   "metadata": {
    "slideshow": {
     "slide_type": "skip"
    }
   },
   "source": [
    "### Example 5 solved\n",
    "\n",
    "Suppose I have two biased coins, coin $A$ and coin $B$. Coin $A$ flips heads with probability 0.6, and coin $B$ flips heads with probability 0.3. The two coins are independent of one another. I flip both coins once. What's the probability I see two different faces?\n",
    "\n",
    "- The event we see two different faces corresponds to either seeing a head then a tail, **or** a tail then a head (i.e. not both heads and not both tails).\n",
    "- The probability of seeing a head then a tail is $0.6 \\cdot (1 - 0.3)$, because the two coins are independent of one another.\n",
    "- The probability of seeing a tail then a head is $(1 - 0.6) \\cdot 0.3$.\n",
    "- So, the probability of seeing two different faces is\n",
    "\n",
    "$$0.6 \\cdot (1 - 0.3) + (1 - 0.6) \\cdot 0.3 = 0.54$$\n",
    "\n",
    "#### Generally, situations involving an \"or\" involve addition."
   ]
  },
  {
   "cell_type": "markdown",
   "metadata": {
    "slideshow": {
     "slide_type": "slide"
    }
   },
   "source": [
    "### Aside: Proof of the addition rule for equally-likely events\n",
    "\n",
    "You are not required to know how to \"prove\" anything in this course; you may just find this interesting.\n",
    "\n",
    "If $A$ and $B$ are events consisting of equally likely outcomes, and furthermore $A$ and $B$ are mutually exclusive (meaning they have no overlap), then\n",
    "\n",
    "$$\n",
    "\\begin{align*}\n",
    "    P(A \\text{ or } B) \n",
    "    &= \\frac{\n",
    "        \\text{# of outcomes satisfying either $A$ or $B$}\n",
    "        }{\n",
    "        \\text{total # of outcomes}\n",
    "        }\n",
    "        \\\\[1em]\n",
    "    &= \\frac{\n",
    "            (\\text{# of outcomes satisfying $A$})\n",
    "            +\n",
    "            (\\text{# of outcomes satisfying $B$})\n",
    "        }{\n",
    "        \\text{total # of outcomes}\n",
    "        }\n",
    "        \\\\[1em]\n",
    "    &= \\frac{\n",
    "            (\\text{# of outcomes satisfying $A$})\n",
    "        }{\n",
    "        \\text{total # of outcomes}\n",
    "        }\n",
    "        +\n",
    "        \\frac{\n",
    "            (\\text{# of outcomes satisfying $B$})\n",
    "        }{\n",
    "        \\text{total # of outcomes}\n",
    "        }\n",
    "    \\\\[1em]\n",
    "    &= P(A) + P(B)\n",
    "\\end{align*}\n",
    "$$"
   ]
  },
  {
   "cell_type": "markdown",
   "metadata": {
    "slideshow": {
     "slide_type": "slide"
    }
   },
   "source": [
    "### Summary, next time\n",
    "\n",
    "- Probability describes the likelihood of an event occurring.\n",
    "- There are several rules for computing probabilities. We looked at many special cases that involved equally-likely events.\n",
    "- There are two general rules to be aware of:\n",
    "    - The **multiplication rule**, which states that for any two events, $P(A \\text{ and } B) = P(B \\text{ given } A) \\cdot P(A) \\:$.\n",
    "    - The **addition rule**, which states that for any two **mutually exclusive** events, $P(A \\text{ or } B) = P(A) + P(B)$.\n",
    "- **Next time:** Simulations."
   ]
  }
 ],
 "metadata": {
  "celltoolbar": "Slideshow",
  "kernelspec": {
   "display_name": "Python 3 (ipykernel)",
   "language": "python",
   "name": "python3"
  },
  "language_info": {
   "codemirror_mode": {
    "name": "ipython",
    "version": 3
   },
   "file_extension": ".py",
   "mimetype": "text/x-python",
   "name": "python",
   "nbconvert_exporter": "python",
   "pygments_lexer": "ipython3",
   "version": "3.9.7"
  },
  "livereveal": {
   "scroll": true,
   "transition": "none"
  },
  "rise": {
   "enable_chalkboard": true
  }
 },
 "nbformat": 4,
 "nbformat_minor": 2
}
