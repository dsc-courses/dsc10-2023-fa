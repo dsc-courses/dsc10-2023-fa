{
 "cells": [
  {
   "cell_type": "code",
   "execution_count": null,
   "metadata": {
    "slideshow": {
     "slide_type": "skip"
    }
   },
   "outputs": [],
   "source": [
    "# Set up packages for lecture. Don't worry about understanding this code,\n",
    "# but make sure to run it if you're following along.\n",
    "import numpy as np\n",
    "import babypandas as bpd\n",
    "import pandas as pd\n",
    "from matplotlib_inline.backend_inline import set_matplotlib_formats\n",
    "import matplotlib.pyplot as plt\n",
    "set_matplotlib_formats(\"svg\")\n",
    "plt.style.use('ggplot')\n",
    "\n",
    "np.set_printoptions(threshold=20, precision=2, suppress=True)\n",
    "pd.set_option(\"display.max_rows\", 7)\n",
    "pd.set_option(\"display.max_columns\", 8)\n",
    "pd.set_option(\"display.precision\", 2)"
   ]
  },
  {
   "cell_type": "markdown",
   "metadata": {
    "slideshow": {
     "slide_type": "slide"
    }
   },
   "source": [
    "# Lecture 10 – Conditional Statements and Iteration\n",
    "\n",
    "## DSC 10, Spring 2023"
   ]
  },
  {
   "cell_type": "markdown",
   "metadata": {
    "slideshow": {
     "slide_type": "slide"
    }
   },
   "source": [
    "### Announcements\n",
    "\n",
    "- Homework 2 is due **tomorrow at 11:59PM**.\n",
    "- Lab 3 is due on **Saturday 4/29 at 11:59PM**.\n",
    "- Come to office hours for help! The schedule is [here](https://dsc10.com/calendar).\n",
    "    - In addition, we are offering 1-on-1 tutoring to all students in the class. 1-on-1 tutoring is meant for **conceptual** help, not assignment help. Look [here](https://edstem.org/us/courses/38383/discussion/3004310) to sign up for Week 4.\n",
    "- The Midterm Project will be released **tomorrow!**\n",
    "    - You can work with a partner from any lecture section, but if you do, you must follow these [project partner guidelines](https://dsc10.com/project-partners/). In particular, you must both contribute to all parts of the project and not split up the problems.\n",
    "    - We will hold a mixer on **Wednesday from 1:30 to 2:15PM in the Center Hall courtyard** to help you find a partner if you don't have one. More details to come tomorrow.\n",
    "- **This Thursday from 12-1:30PM in CSE 1202**, a few other DSC professors and I will be participating in a \"[Hot Ones](https://www.youtube.com/@FirstWeFeast)\"-style event hosted by DS3. Come say hi!"
   ]
  },
  {
   "cell_type": "markdown",
   "metadata": {
    "slideshow": {
     "slide_type": "slide"
    }
   },
   "source": [
    "### Agenda\n",
    "\n",
    "- Booleans.\n",
    "- Conditional statements (i.e. `if`-statements).\n",
    "- Iteration (i.e. `for`-loops).\n",
    "\n",
    "**Note:** \n",
    "- We've finished introducing new DataFrame manipulation techniques. \n",
    "- Today we'll cover some foundational programming tools, which will be very relevant as we start to cover more ideas in statistics (next week).\n",
    "- **The last lecture that will be in scope for the Midterm Exam is Lecture 12 (this Friday).**"
   ]
  },
  {
   "cell_type": "markdown",
   "metadata": {
    "slideshow": {
     "slide_type": "slide"
    }
   },
   "source": [
    "## Booleans"
   ]
  },
  {
   "cell_type": "markdown",
   "metadata": {
    "slideshow": {
     "slide_type": "slide"
    }
   },
   "source": [
    "### Recap: Booleans\n",
    "\n",
    "- `bool` is a data type in Python, just like `int`, `float`, and `str`. \n",
    "    - It stands for \"Boolean\", named after George Boole, an early mathematician.\n",
    "- There are only two possible Boolean values: `True` or `False`.\n",
    "    - Yes or no.\n",
    "    - On or off.\n",
    "    - 1 or 0.\n",
    "- Comparisons result in Boolean values."
   ]
  },
  {
   "cell_type": "code",
   "execution_count": null,
   "metadata": {},
   "outputs": [],
   "source": [
    "capstone = 'finished'\n",
    "units = 123"
   ]
  },
  {
   "cell_type": "code",
   "execution_count": null,
   "metadata": {},
   "outputs": [],
   "source": [
    "units >= 180"
   ]
  },
  {
   "cell_type": "code",
   "execution_count": null,
   "metadata": {},
   "outputs": [],
   "source": [
    "type(units >= 180)"
   ]
  },
  {
   "cell_type": "markdown",
   "metadata": {
    "slideshow": {
     "slide_type": "slide"
    }
   },
   "source": [
    "### Boolean operators; `not`\n",
    "\n",
    "There are three operators that allow us to perform arithmetic with Booleans – `not`, `and`, and `or`."
   ]
  },
  {
   "cell_type": "markdown",
   "metadata": {
    "slideshow": {
     "slide_type": "fragment"
    }
   },
   "source": [
    "`not` flips `True` ↔️ `False`."
   ]
  },
  {
   "cell_type": "code",
   "execution_count": null,
   "metadata": {},
   "outputs": [],
   "source": [
    "capstone"
   ]
  },
  {
   "cell_type": "code",
   "execution_count": null,
   "metadata": {},
   "outputs": [],
   "source": [
    "capstone == 'finished'"
   ]
  },
  {
   "cell_type": "code",
   "execution_count": null,
   "metadata": {},
   "outputs": [],
   "source": [
    "not capstone == 'finished'"
   ]
  },
  {
   "cell_type": "markdown",
   "metadata": {
    "slideshow": {
     "slide_type": "slide"
    }
   },
   "source": [
    "### The `and` operator\n",
    "\n",
    "The `and` operator is placed between two `bool`s. It is `True` if **both** are `True`; otherwise, it's `False`."
   ]
  },
  {
   "cell_type": "code",
   "execution_count": null,
   "metadata": {},
   "outputs": [],
   "source": [
    "capstone"
   ]
  },
  {
   "cell_type": "code",
   "execution_count": null,
   "metadata": {},
   "outputs": [],
   "source": [
    "units"
   ]
  },
  {
   "cell_type": "code",
   "execution_count": null,
   "metadata": {},
   "outputs": [],
   "source": [
    "capstone == 'finished' and units >= 180"
   ]
  },
  {
   "cell_type": "code",
   "execution_count": null,
   "metadata": {},
   "outputs": [],
   "source": [
    "capstone == 'finished' and units >= 120"
   ]
  },
  {
   "cell_type": "markdown",
   "metadata": {
    "slideshow": {
     "slide_type": "slide"
    }
   },
   "source": [
    "### The `or` operator\n",
    "\n",
    "The `or` operator is placed between two `bool`s. It is `True` if **at least one** is `True`; otherwise, it's `False`."
   ]
  },
  {
   "cell_type": "code",
   "execution_count": null,
   "metadata": {},
   "outputs": [],
   "source": [
    "capstone"
   ]
  },
  {
   "cell_type": "code",
   "execution_count": null,
   "metadata": {},
   "outputs": [],
   "source": [
    "units"
   ]
  },
  {
   "cell_type": "code",
   "execution_count": null,
   "metadata": {},
   "outputs": [],
   "source": [
    "capstone == 'finished' or units >= 180"
   ]
  },
  {
   "cell_type": "code",
   "execution_count": null,
   "metadata": {},
   "outputs": [],
   "source": [
    "# Both are True!\n",
    "capstone == 'finished' or units >= 0"
   ]
  },
  {
   "cell_type": "code",
   "execution_count": null,
   "metadata": {},
   "outputs": [],
   "source": [
    "# Both are False!\n",
    "capstone == 'not started' or units >= 180"
   ]
  },
  {
   "cell_type": "markdown",
   "metadata": {
    "slideshow": {
     "slide_type": "slide"
    }
   },
   "source": [
    "### Order of operations\n",
    "\n",
    "- By default, the order of operations is `not`, `and`, `or`. See the _precedence_ of all operators in Python [here](https://www.programiz.com/python-programming/precedence-associativity).\n",
    "- As usual, use **`(`parentheses`)`** to make expressions more clear."
   ]
  },
  {
   "cell_type": "code",
   "execution_count": null,
   "metadata": {},
   "outputs": [],
   "source": [
    "capstone"
   ]
  },
  {
   "cell_type": "code",
   "execution_count": null,
   "metadata": {},
   "outputs": [],
   "source": [
    "units"
   ]
  },
  {
   "cell_type": "code",
   "execution_count": null,
   "metadata": {},
   "outputs": [],
   "source": [
    "capstone == 'finished' or (capstone == 'in progress' and units >= 180)"
   ]
  },
  {
   "cell_type": "code",
   "execution_count": null,
   "metadata": {},
   "outputs": [],
   "source": [
    "# Different meaning!\n",
    "(capstone == 'finished' or capstone == 'in progress') and units >= 180"
   ]
  },
  {
   "cell_type": "code",
   "execution_count": null,
   "metadata": {},
   "outputs": [],
   "source": [
    "# \"and\" has precedence.\n",
    "capstone == 'finished' or capstone == 'in progress' and units >= 180"
   ]
  },
  {
   "cell_type": "markdown",
   "metadata": {
    "slideshow": {
     "slide_type": "slide"
    }
   },
   "source": [
    "### Booleans can be tricky!\n",
    "\n",
    "For instance, `not (a and b)` is **different** than `not a and not b`! If you're curious, read more about [De Morgan's Laws](https://blog.penjee.com/what-is-demorgans-law-in-programming-answered-with-pics/)."
   ]
  },
  {
   "cell_type": "code",
   "execution_count": null,
   "metadata": {},
   "outputs": [],
   "source": [
    "capstone"
   ]
  },
  {
   "cell_type": "code",
   "execution_count": null,
   "metadata": {},
   "outputs": [],
   "source": [
    "units"
   ]
  },
  {
   "cell_type": "code",
   "execution_count": null,
   "metadata": {},
   "outputs": [],
   "source": [
    "not (capstone == 'finished' and units >= 180)"
   ]
  },
  {
   "cell_type": "code",
   "execution_count": null,
   "metadata": {},
   "outputs": [],
   "source": [
    "(not capstone == 'finished') and (not units >= 180)"
   ]
  },
  {
   "cell_type": "markdown",
   "metadata": {
    "slideshow": {
     "slide_type": "slide"
    }
   },
   "source": [
    "### Note: `&` and `|` vs. `and` and `or`"
   ]
  },
  {
   "cell_type": "markdown",
   "metadata": {
    "slideshow": {
     "slide_type": "fragment"
    }
   },
   "source": [
    "- Use the `&` and `|` operators between two **Series**. Arithmetic will be done element-wise (separately for each row).\n",
    "    - This is relevant when writing DataFrame queries, e.g. `df[(df.get('capstone') == 'finished') & (df.get('units') >= 180)]`."
   ]
  },
  {
   "cell_type": "markdown",
   "metadata": {
    "slideshow": {
     "slide_type": "fragment"
    }
   },
   "source": [
    "- Use the `and` and `or` operators between two **individual** Booleans.\n",
    "    - e.g. `capstone == 'finished' and units >= 180`."
   ]
  },
  {
   "cell_type": "markdown",
   "metadata": {
    "slideshow": {
     "slide_type": "slide"
    }
   },
   "source": [
    "### Concept Check ✅ – Answer at [cc.dsc10.com](http://cc.dsc10.com) \n",
    "\n",
    "Suppose we define `a = True` and `b = True`. What does the following expression evaluate to?\n",
    "\n",
    "```py\n",
    "not (((not a) and b) or ((not b) or a))\n",
    "```\n",
    "\n",
    "A. `True`\n",
    "\n",
    "B. `False`\n",
    "\n",
    "C. Could be either one"
   ]
  },
  {
   "cell_type": "markdown",
   "metadata": {
    "slideshow": {
     "slide_type": "slide"
    }
   },
   "source": [
    "### Aside: The `in` operator\n",
    "\n",
    "Sometimes, we'll want to check if a particular element is in a list/array, or a particular **substring** is in a string. The `in` operator can do this for us:"
   ]
  },
  {
   "cell_type": "code",
   "execution_count": null,
   "metadata": {},
   "outputs": [],
   "source": [
    "3 in [1, 2, 3]"
   ]
  },
  {
   "cell_type": "code",
   "execution_count": null,
   "metadata": {},
   "outputs": [],
   "source": [
    "'ey' in 'hey my name is'"
   ]
  },
  {
   "cell_type": "code",
   "execution_count": null,
   "metadata": {},
   "outputs": [],
   "source": [
    "'dog' in 'hey my name is'"
   ]
  },
  {
   "cell_type": "markdown",
   "metadata": {
    "slideshow": {
     "slide_type": "slide"
    }
   },
   "source": [
    "## Conditionals"
   ]
  },
  {
   "cell_type": "markdown",
   "metadata": {
    "slideshow": {
     "slide_type": "slide"
    }
   },
   "source": [
    "### `if`-statements\n",
    "\n",
    "- Often, we'll want to run a block of code only if a particular conditional expression is `True`.\n",
    "- The syntax for this is as follows (don't forget the colon!):\n",
    "\n",
    "```py\n",
    "if <condition>:\n",
    "    <body>\n",
    "```\n",
    "            \n",
    "- Indentation matters!"
   ]
  },
  {
   "cell_type": "code",
   "execution_count": null,
   "metadata": {},
   "outputs": [],
   "source": [
    "capstone = 'finished'\n",
    "capstone"
   ]
  },
  {
   "cell_type": "code",
   "execution_count": null,
   "metadata": {},
   "outputs": [],
   "source": [
    "if capstone == 'finished':\n",
    "    print('Looks like you are ready to graduate!')"
   ]
  },
  {
   "cell_type": "markdown",
   "metadata": {
    "slideshow": {
     "slide_type": "slide"
    }
   },
   "source": [
    "### `else`\n",
    "\n",
    "If you want to do something else if the specified condition is `False`, use the `else` keyword."
   ]
  },
  {
   "cell_type": "code",
   "execution_count": null,
   "metadata": {},
   "outputs": [],
   "source": [
    "capstone = 'finished'\n",
    "capstone"
   ]
  },
  {
   "cell_type": "code",
   "execution_count": null,
   "metadata": {},
   "outputs": [],
   "source": [
    "if capstone == 'finished':\n",
    "    print('Looks like you are ready to graduate!')\n",
    "else:\n",
    "    print('Before you graduate, you need to finish your capstone project.')"
   ]
  },
  {
   "cell_type": "markdown",
   "metadata": {
    "slideshow": {
     "slide_type": "slide"
    }
   },
   "source": [
    "### `elif`\n",
    "\n",
    "- What if we want to check more than one condition? Use `elif`.\n",
    "- `elif`: if the specified condition is `False`, check the next condition.\n",
    "- If that condition is `False`, check the next condition, and so on, until we see a `True` condition.\n",
    "    - After seeing a `True` condition, it evaluates the indented code and stops.\n",
    "- If none of the conditions are `True`, the `else` body is run."
   ]
  },
  {
   "cell_type": "code",
   "execution_count": null,
   "metadata": {},
   "outputs": [],
   "source": [
    "capstone = 'in progress'\n",
    "units = 123\n",
    "\n",
    "if capstone == 'finished' and units >= 180:\n",
    "    print('Looks like you are ready to graduate!')\n",
    "elif capstone != 'finished' and units < 180:\n",
    "    print('Before you graduate, you need to finish your capstone project and take', \n",
    "          180 - units, 'more units.')\n",
    "elif units >= 180:\n",
    "    print('Before you graduate, you need to finish your capstone project.')\n",
    "else:\n",
    "    print('Before you graduate, you need to take', 180 - units, 'more units.')"
   ]
  },
  {
   "cell_type": "markdown",
   "metadata": {
    "slideshow": {
     "slide_type": "fragment"
    }
   },
   "source": [
    "What if we use `if` instead of `elif`?"
   ]
  },
  {
   "cell_type": "code",
   "execution_count": null,
   "metadata": {
    "slideshow": {
     "slide_type": "-"
    }
   },
   "outputs": [],
   "source": [
    "if capstone == 'finished' and units >= 180:\n",
    "    print('Looks like you are ready to graduate!')\n",
    "if capstone != 'finished' and units < 180:\n",
    "    print('Before you graduate, you need to finish your capstone project and take',\n",
    "          180 - units, 'more units.')\n",
    "if units >= 180:\n",
    "    print('Before you graduate, you need to finish your capstone project.')\n",
    "else:\n",
    "    print('Before you graduate, you need to take', 180 - units, 'more units.')"
   ]
  },
  {
   "cell_type": "markdown",
   "metadata": {
    "slideshow": {
     "slide_type": "slide"
    }
   },
   "source": [
    "### Example: Percentage to letter grade\n",
    "\n",
    "Below, complete the implementation of the function, `grade_converter`, which takes in a percentage grade (`grade`) and returns the corresponding letter grade, according to this table:\n",
    "\n",
    "| Letter | Range |\n",
    "| --- | --- |\n",
    "| A | [90, 100] |\n",
    "| B | [80, 90) |\n",
    "| C | [70, 80) |\n",
    "| D | [60, 70) |\n",
    "| F | [0, 60)\n",
    "\n",
    "Your function should work on these examples:\n",
    "\n",
    "```py\n",
    ">>> grade_converter(84)\n",
    "'B'\n",
    "\n",
    ">>> grade_converter(60)\n",
    "'D'\n",
    "```\n",
    "\n",
    "<br>\n",
    "\n",
    "<details>\n",
    "<summary>✅ Click <b>here</b> to see the answer <b>after</b> you've tried it yourself.</summary>\n",
    "    \n",
    "<pre>\n",
    "def grade_converter(grade):\n",
    "    if grade >= 90:\n",
    "        return 'A'\n",
    "    elif grade >= 80:\n",
    "        return 'B'\n",
    "    elif grade >= 70:\n",
    "        return 'C'\n",
    "    elif grade >= 60:\n",
    "        return 'D'\n",
    "    else:\n",
    "        return 'F'\n",
    "</pre>\n",
    "</details>"
   ]
  },
  {
   "cell_type": "code",
   "execution_count": null,
   "metadata": {},
   "outputs": [],
   "source": [
    "def grade_converter(grade):\n",
    "    ..."
   ]
  },
  {
   "cell_type": "code",
   "execution_count": null,
   "metadata": {},
   "outputs": [],
   "source": [
    "grade_converter(84)"
   ]
  },
  {
   "cell_type": "code",
   "execution_count": null,
   "metadata": {},
   "outputs": [],
   "source": [
    "grade_converter(60)"
   ]
  },
  {
   "cell_type": "markdown",
   "metadata": {
    "slideshow": {
     "slide_type": "slide"
    }
   },
   "source": [
    "### Activity\n",
    "\n",
    "```py\n",
    "\n",
    "def mystery(a, b):\n",
    "    if (a + b > 4) and (b > 0):\n",
    "        return 'bear'\n",
    "    elif (a * b >= 4) or (b < 0):\n",
    "        return 'triton'\n",
    "    else:\n",
    "        return 'bruin'\n",
    "```\n",
    "\n",
    "Without running code:\n",
    "1. What does `mystery(2, 2)` return?\n",
    "1. Find inputs so that calling `mystery` will produce `'bruin'`."
   ]
  },
  {
   "cell_type": "code",
   "execution_count": null,
   "metadata": {
    "slideshow": {
     "slide_type": "slide"
    }
   },
   "outputs": [],
   "source": [
    "def mystery(a, b):\n",
    "    if (a + b > 4) and (b > 0):\n",
    "        return 'bear'\n",
    "    elif (a * b >= 4) or (b < 0):\n",
    "        return 'triton'\n",
    "    else:\n",
    "        return 'bruin'"
   ]
  },
  {
   "cell_type": "code",
   "execution_count": null,
   "metadata": {},
   "outputs": [],
   "source": []
  },
  {
   "cell_type": "code",
   "execution_count": null,
   "metadata": {},
   "outputs": [],
   "source": []
  },
  {
   "cell_type": "markdown",
   "metadata": {
    "slideshow": {
     "slide_type": "slide"
    }
   },
   "source": [
    "## Iteration"
   ]
  },
  {
   "cell_type": "markdown",
   "metadata": {
    "slideshow": {
     "slide_type": "slide"
    }
   },
   "source": [
    "<center><img src='images/iteration.png' width=60%></center>"
   ]
  },
  {
   "cell_type": "markdown",
   "metadata": {
    "slideshow": {
     "slide_type": "slide"
    }
   },
   "source": [
    "### `for`-loops"
   ]
  },
  {
   "cell_type": "code",
   "execution_count": null,
   "metadata": {},
   "outputs": [],
   "source": [
    "import time\n",
    "\n",
    "print('Launching in...')\n",
    "\n",
    "for x in [10, 9, 8, 7, 6, 5, 4, 3, 2, 1]:\n",
    "    print('t-minus', x)\n",
    "    time.sleep(0.5) # Pauses for half a second\n",
    "    \n",
    "print('Blast off! 🚀')"
   ]
  },
  {
   "cell_type": "markdown",
   "metadata": {
    "slideshow": {
     "slide_type": "slide"
    }
   },
   "source": [
    "### `for`-loops\n",
    "\n",
    "- Loops allow us to repeat the execution of code. There are two types of loops in Python; the `for`-loop is one of them.\n",
    "- The syntax of a `for`-loop is as follows:\n",
    "```py\n",
    "for <element> in <sequence>:\n",
    "    <for body>\n",
    "```\n",
    "- Read this as: \"for each element of this sequence, repeat this code.\" \n",
    "    - Lists, arrays, and strings are all examples of sequences.\n",
    "- Like with `if`-statements, indentation matters!"
   ]
  },
  {
   "cell_type": "markdown",
   "metadata": {
    "slideshow": {
     "slide_type": "slide"
    }
   },
   "source": [
    "### Example: Squares"
   ]
  },
  {
   "cell_type": "code",
   "execution_count": null,
   "metadata": {},
   "outputs": [],
   "source": [
    "num = 4\n",
    "print(num, 'squared is', num ** 2)\n",
    "\n",
    "num = 2\n",
    "print(num, 'squared is', num ** 2)\n",
    "\n",
    "num = 1\n",
    "print(num, 'squared is', num ** 2)\n",
    "\n",
    "num = 3\n",
    "print(num, 'squared is', num ** 2)"
   ]
  },
  {
   "cell_type": "code",
   "execution_count": null,
   "metadata": {
    "scrolled": false,
    "slideshow": {
     "slide_type": "fragment"
    }
   },
   "outputs": [],
   "source": [
    "# The loop variable can be anything!\n",
    "\n",
    "list_of_numbers = [4, 2, 1, 3]\n",
    "\n",
    "for num in list_of_numbers:\n",
    "    print(num, 'squared is', num ** 2)"
   ]
  },
  {
   "cell_type": "markdown",
   "metadata": {
    "slideshow": {
     "slide_type": "fragment"
    }
   },
   "source": [
    "The line `print(num, 'squared is', num ** 2)` is run four times:\n",
    "- On the first iteration, `num` is 4.\n",
    "- On the second iteration, `num` is 2.\n",
    "- On the third iteration, `num` is 1.\n",
    "- On the fourth iteration, `num` is 3.\n",
    "\n",
    "This happens, even though there is no `num = ` anywhere."
   ]
  },
  {
   "cell_type": "markdown",
   "metadata": {
    "slideshow": {
     "slide_type": "slide"
    }
   },
   "source": [
    "### Activity\n",
    "\n",
    "Using the array `colleges`, write a `for`-loop that prints:\n",
    "\n",
    "```\n",
    "Revelle College\n",
    "John Muir College\n",
    "Thurgood Marshall College\n",
    "Earl Warren College\n",
    "Eleanor Roosevelt College\n",
    "Sixth College\n",
    "Seventh College\n",
    "```\n",
    "\n",
    "<br>\n",
    "<details>\n",
    "    <summary>✅ Click <b>here</b> to see the solution <b>after</b> you've tried it yourself.</summary>\n",
    "<br>\n",
    "<pre>\n",
    "for college in colleges:\n",
    "    print(college + ' College')\n",
    "</pre>\n",
    "    \n",
    "</details>"
   ]
  },
  {
   "cell_type": "code",
   "execution_count": null,
   "metadata": {},
   "outputs": [],
   "source": [
    "colleges = np.array(['Revelle', 'John Muir', 'Thurgood Marshall', \n",
    "            'Earl Warren', 'Eleanor Roosevelt', 'Sixth', 'Seventh'])"
   ]
  },
  {
   "cell_type": "code",
   "execution_count": null,
   "metadata": {},
   "outputs": [],
   "source": [
    "..."
   ]
  },
  {
   "cell_type": "markdown",
   "metadata": {
    "slideshow": {
     "slide_type": "slide"
    }
   },
   "source": [
    "### Ranges\n",
    "\n",
    "- Recall, each element of a list/array has a numerical position.\n",
    "    - The position of the first element is 0, the position of the second element is 1, etc.\n",
    "- We can write a `for`-loop that accesses each element in an array by using its position.\n",
    "- `np.arange` will come in handy."
   ]
  },
  {
   "cell_type": "code",
   "execution_count": null,
   "metadata": {},
   "outputs": [],
   "source": [
    "actions = np.array(['ate', 'slept', 'exercised'])\n",
    "feelings = np.array(['content 🙂', 'energized 😃', 'exhausted 😩'])"
   ]
  },
  {
   "cell_type": "code",
   "execution_count": null,
   "metadata": {},
   "outputs": [],
   "source": [
    "len(actions)"
   ]
  },
  {
   "cell_type": "code",
   "execution_count": null,
   "metadata": {},
   "outputs": [],
   "source": [
    "for i in np.arange(len(actions)):\n",
    "    print(i)"
   ]
  },
  {
   "cell_type": "code",
   "execution_count": null,
   "metadata": {},
   "outputs": [],
   "source": [
    "for i in np.arange(len(actions)):\n",
    "    print('I', actions[i], 'and I felt', feelings[i])"
   ]
  },
  {
   "cell_type": "markdown",
   "metadata": {
    "slideshow": {
     "slide_type": "slide"
    }
   },
   "source": [
    "### Example: Goldilocks and the Three Bears\n",
    "\n",
    "We don't have to use the loop variable!"
   ]
  },
  {
   "cell_type": "code",
   "execution_count": null,
   "metadata": {},
   "outputs": [],
   "source": [
    "for i in np.arange(3):\n",
    "    print('🐻')\n",
    "print('👧🏼')"
   ]
  },
  {
   "cell_type": "markdown",
   "metadata": {
    "slideshow": {
     "slide_type": "slide"
    }
   },
   "source": [
    "### Randomization and iteration"
   ]
  },
  {
   "cell_type": "markdown",
   "metadata": {
    "slideshow": {
     "slide_type": "fragment"
    }
   },
   "source": [
    "- In the next few lectures, we'll learn how to **simulate** random events, like flipping a coin."
   ]
  },
  {
   "cell_type": "markdown",
   "metadata": {
    "slideshow": {
     "slide_type": "fragment"
    }
   },
   "source": [
    "- Often, we will:\n",
    "    1. Run an experiment, e.g. \"flip 10 coins.\"\n",
    "    2. Compute some **statistic**, e.g. \"number of heads,\" and write it down somewhere.\n",
    "    3. Repeat steps 1 and 2 many, many times using a `for`-loop."
   ]
  },
  {
   "cell_type": "markdown",
   "metadata": {
    "slideshow": {
     "slide_type": "slide"
    }
   },
   "source": [
    "\n",
    "<center><img src='images/append.jpg' width=60%></center>\n"
   ]
  },
  {
   "cell_type": "markdown",
   "metadata": {
    "slideshow": {
     "slide_type": "slide"
    }
   },
   "source": [
    "### `np.append`\n",
    "\n",
    "- This function takes two inputs:\n",
    "    - An array.\n",
    "    - An element to add on to the end of the array.\n",
    "- It returns a new array. It does not modify the input array. \n",
    "- We typically use it like this to extend an array by one element:\n",
    "\n",
    "```py\n",
    "name_of_array = np.append(name_of_array, element_to_add)\n",
    "```\n",
    "- ⚠️ **Remember to store the result!**"
   ]
  },
  {
   "cell_type": "code",
   "execution_count": null,
   "metadata": {},
   "outputs": [],
   "source": [
    "some_array = np.array([])"
   ]
  },
  {
   "cell_type": "code",
   "execution_count": null,
   "metadata": {},
   "outputs": [],
   "source": [
    "np.append(some_array, 'hello')"
   ]
  },
  {
   "cell_type": "code",
   "execution_count": null,
   "metadata": {},
   "outputs": [],
   "source": [
    "some_array"
   ]
  },
  {
   "cell_type": "code",
   "execution_count": null,
   "metadata": {},
   "outputs": [],
   "source": [
    "# Need to save the new array!\n",
    "some_array = np.append(some_array, 'hello')\n",
    "some_array"
   ]
  },
  {
   "cell_type": "code",
   "execution_count": null,
   "metadata": {},
   "outputs": [],
   "source": [
    "some_array = np.append(some_array, 'there')\n",
    "some_array"
   ]
  },
  {
   "cell_type": "markdown",
   "metadata": {
    "slideshow": {
     "slide_type": "slide"
    }
   },
   "source": [
    "### Example: Coin flipping\n",
    "\n",
    "The function `flip(n)` flips `n` fair coins and returns the number of heads it saw. (Don't worry about how it works for now.)"
   ]
  },
  {
   "cell_type": "code",
   "execution_count": null,
   "metadata": {},
   "outputs": [],
   "source": [
    "def flip(n):\n",
    "    '''Returns the number of heads in n simulated coin flips, using randomness.'''\n",
    "    return np.random.multinomial(n, [0.5, 0.5])[0]"
   ]
  },
  {
   "cell_type": "code",
   "execution_count": null,
   "metadata": {},
   "outputs": [],
   "source": [
    "# Run this cell a few times – you'll see different results!\n",
    "flip(10)"
   ]
  },
  {
   "cell_type": "markdown",
   "metadata": {
    "slideshow": {
     "slide_type": "fragment"
    }
   },
   "source": [
    "Let's repeat the act of flipping 10 coins, 10000 times. \n",
    "- Each time, we'll use the `flip` function to flip 10 coins and compute the number of heads we saw.\n",
    "- We'll store these numbers in an array, `heads_array`.\n",
    "- Every time we use our `flip` function to flip 10 coins, we'll add an element to the end of `heads_array`."
   ]
  },
  {
   "cell_type": "code",
   "execution_count": null,
   "metadata": {},
   "outputs": [],
   "source": [
    "# heads_array starts empty – before the simulation, we haven't flipped any coins!\n",
    "heads_array = np.array([])\n",
    "\n",
    "for i in np.arange(10000):\n",
    "    \n",
    "    # Flip 10 coins and count the number of heads.\n",
    "    num_heads = flip(10)\n",
    "    \n",
    "    # Add the number of heads seen to heads_array.\n",
    "    heads_array = np.append(heads_array, num_heads)"
   ]
  },
  {
   "cell_type": "markdown",
   "metadata": {},
   "source": [
    "Now, `heads_array` contains 10000 numbers, each corresponding to the number of heads in 10 simulated coin flips."
   ]
  },
  {
   "cell_type": "code",
   "execution_count": null,
   "metadata": {},
   "outputs": [],
   "source": [
    "heads_array"
   ]
  },
  {
   "cell_type": "code",
   "execution_count": null,
   "metadata": {},
   "outputs": [],
   "source": [
    "len(heads_array)"
   ]
  },
  {
   "cell_type": "code",
   "execution_count": null,
   "metadata": {},
   "outputs": [],
   "source": [
    "(bpd.DataFrame().assign(num_heads=heads_array)\n",
    " .plot(kind='hist', density=True, bins=np.arange(0, 12), ec='w', legend=False, \n",
    "       title = 'Distribution of the number of heads in 10 coin flips')\n",
    ");"
   ]
  },
  {
   "cell_type": "markdown",
   "metadata": {},
   "source": [
    "\n",
    "<center><img src='images/accumulate.jpg' width=60%></center>\n",
    "\n"
   ]
  },
  {
   "cell_type": "markdown",
   "metadata": {
    "slideshow": {
     "slide_type": "slide"
    }
   },
   "source": [
    "### The accumulator pattern\n",
    "\n",
    "- To store our results, we'll typically use an `int` or an array.\n",
    "- If using an `int`, we define an `int` variable (usually to `0`) before the loop, then use `+` to add to it inside the loop.\n",
    "    - Think of this like using a tally.\n",
    "- If using an array, we create an array (usually empty) before the loop, then use `np.append` to add to it inside the loop.\n",
    "    - Think of this like writing the results on a piece of paper.\n",
    "- This pattern – of repeatedly adding to an `int` or an array – is called the accumulator pattern."
   ]
  },
  {
   "cell_type": "markdown",
   "metadata": {
    "slideshow": {
     "slide_type": "slide"
    }
   },
   "source": [
    "### `for`-loops in DSC 10\n",
    "\n",
    "- Almost every `for`-loop in DSC 10 will use the accumulator pattern.    \n",
    "- Do **not** use `for`-loops to perform mathematical operations on every element of an array or Series.\n",
    "    - Instead use DataFrame manipulations and built-in array or Series methods.\n",
    "    \n",
    "- Helpful video 🎥: [For Loops (and when not to use them) in DSC 10](https://www.youtube.com/watch?v=BlczSBT80fU)."
   ]
  },
  {
   "cell_type": "markdown",
   "metadata": {
    "slideshow": {
     "slide_type": "slide"
    }
   },
   "source": [
    "### Working with strings\n",
    "\n",
    "String are sequences, so we can iterate over them, too!"
   ]
  },
  {
   "cell_type": "code",
   "execution_count": null,
   "metadata": {},
   "outputs": [],
   "source": [
    "for letter in 'uc san diego':\n",
    "    print(letter.upper())"
   ]
  },
  {
   "cell_type": "code",
   "execution_count": null,
   "metadata": {},
   "outputs": [],
   "source": [
    "'california'.count('a')"
   ]
  },
  {
   "cell_type": "markdown",
   "metadata": {
    "slideshow": {
     "slide_type": "slide"
    }
   },
   "source": [
    "### Example: Vowel count\n",
    "\n",
    "Below, complete the implementation of the function `vowel_count`, which returns the number of vowels in the input string `s` (including repeats). Example behavior is shown below.\n",
    "\n",
    "```py\n",
    ">>> vowel_count('king triton')\n",
    "3\n",
    "\n",
    ">>> vowel_count('i go to uc san diego')\n",
    "8\n",
    "```\n",
    "\n",
    "<details>\n",
    "<summary>✅ Click <b>here</b> to see the answer <b>after</b> you've tried it yourself.</summary>\n",
    "    \n",
    "<pre>\n",
    "def vowel_count(s):\n",
    "    # We need to keep track of the number of vowels seen so far. Before we start, we've seen zero vowels.\n",
    "    number = 0\n",
    "    \n",
    "    # For each of the 5 vowels:\n",
    "    for vowel in 'aeiou':\n",
    "        # Count the number of occurrences of this vowel in s.\n",
    "        num_vowel = s.count(vowel)\n",
    "        # Add this count to the variable number.\n",
    "        number = number + num_vowel\n",
    "    # Once we've gotten through all 5 vowels, return the answer.\n",
    "    return number\n",
    "</pre>\n",
    "</details>"
   ]
  },
  {
   "cell_type": "code",
   "execution_count": null,
   "metadata": {},
   "outputs": [],
   "source": [
    "def vowel_count(s):\n",
    "    # We need to keep track of the number of vowels seen so far. Before we start, we've seen zero vowels.\n",
    "    number = 0\n",
    "    \n",
    "    # For each of the 5 vowels:\n",
    "       \n",
    "        # Count the number of occurrences of this vowel in s.\n",
    "        \n",
    "        # Add this count to the variable number.\n",
    "    \n",
    "    # Once we've gotten through all 5 vowels, return the answer.\n",
    "    "
   ]
  },
  {
   "cell_type": "code",
   "execution_count": null,
   "metadata": {},
   "outputs": [],
   "source": [
    "vowel_count('king triton')"
   ]
  },
  {
   "cell_type": "code",
   "execution_count": null,
   "metadata": {},
   "outputs": [],
   "source": [
    "vowel_count('i go to uc san diego')"
   ]
  },
  {
   "cell_type": "markdown",
   "metadata": {
    "slideshow": {
     "slide_type": "slide"
    }
   },
   "source": [
    "## Summary, next time"
   ]
  },
  {
   "cell_type": "markdown",
   "metadata": {
    "slideshow": {
     "slide_type": "slide"
    }
   },
   "source": [
    "### Summary\n",
    "\n",
    "- `if`-statements allow us to run pieces of code depending on whether certain conditions are `True`.\n",
    "- `for`-loops are used to repeat the execution of code for every element of a sequence.\n",
    "    - Lists, arrays, and strings are examples of sequences."
   ]
  },
  {
   "cell_type": "markdown",
   "metadata": {
    "slideshow": {
     "slide_type": "slide"
    }
   },
   "source": [
    "### Next time\n",
    "\n",
    "- Probability. \n",
    "- A math lesson – no code!"
   ]
  }
 ],
 "metadata": {
  "kernelspec": {
   "display_name": "Python 3 (ipykernel)",
   "language": "python",
   "name": "python3"
  },
  "language_info": {
   "codemirror_mode": {
    "name": "ipython",
    "version": 3
   },
   "file_extension": ".py",
   "mimetype": "text/x-python",
   "name": "python",
   "nbconvert_exporter": "python",
   "pygments_lexer": "ipython3",
   "version": "3.9.7"
  },
  "livereveal": {
   "scroll": true,
   "transition": "none"
  },
  "rise": {
   "enable_chalkboard": true
  }
 },
 "nbformat": 4,
 "nbformat_minor": 2
}
