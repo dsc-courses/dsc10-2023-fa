{
 "cells": [
  {
   "cell_type": "markdown",
   "id": "91b73383",
   "metadata": {},
   "source": [
    "# nba-data-prep\n",
    "\n",
    "Use this notebook to prepare the latest version of the NBA dataset that we use in lecture."
   ]
  },
  {
   "cell_type": "markdown",
   "id": "75e63b7b",
   "metadata": {},
   "source": [
    "We need two CSVs.\n",
    "\n",
    "- `raw_data/nba-salaries-2022.csv`: download the table [here](https://www.basketball-reference.com/contracts/players.html) as a CSV\n",
    "- `raw_data/nba-stats-2022.csv`: download the table [here](https://www.basketball-reference.com/leagues/NBA_2022_totals.html#totals_stats::pts) as a CSV\n",
    "\n",
    "Update these CSVs if you want to update the dataset."
   ]
  },
  {
   "cell_type": "code",
   "execution_count": 1,
   "id": "744ef343",
   "metadata": {},
   "outputs": [],
   "source": [
    "import pandas as pd\n",
    "import numpy as np\n",
    "import re"
   ]
  },
  {
   "cell_type": "code",
   "execution_count": 2,
   "id": "136ec553",
   "metadata": {},
   "outputs": [],
   "source": [
    "salaries = pd.read_csv('raw_data/nba-salaries-2022.csv', header=1)\n",
    "stats = pd.read_csv('raw_data/nba-stats-2022.csv')"
   ]
  },
  {
   "cell_type": "code",
   "execution_count": null,
   "id": "341b72e9",
   "metadata": {},
   "outputs": [],
   "source": [
    "team_files = open('raw_data/team_names.txt', 'r')\n",
    "team_dict = {}\n",
    "\n",
    "while True:\n",
    "    try:\n",
    "        line = team_files.readline().strip().replace('\\t', '').split('-')\n",
    "        abb = line[0].strip()\n",
    "        name = line[1].strip()\n",
    "        team_dict[abb] = name\n",
    "    except:\n",
    "        break"
   ]
  },
  {
   "cell_type": "code",
   "execution_count": null,
   "id": "35baef80",
   "metadata": {},
   "outputs": [],
   "source": [
    "merged = salaries.merge(stats, on='Player')\n",
    "merged = merged[merged['G'] >= 15]\n",
    "merged = merged[['Player', 'Tm_x', 'Pos', '2021-22']].dropna()\n",
    "merged"
   ]
  },
  {
   "cell_type": "code",
   "execution_count": null,
   "id": "7928a357",
   "metadata": {},
   "outputs": [],
   "source": [
    "merged['Player'] = merged['Player'].str.findall('(.*)\\\\\\\\.*').str[0]\n",
    "merged['Team'] = merged['Tm_x'].replace(team_dict)\n",
    "merged['Salary'] = merged['2021-22'].str[1:].astype(int)\n",
    "merged['Position'] = merged['Pos']"
   ]
  },
  {
   "cell_type": "code",
   "execution_count": null,
   "id": "9da3577a",
   "metadata": {},
   "outputs": [],
   "source": [
    "merged = merged[['Player', 'Position', 'Team', 'Salary']] \\\n",
    "                .groupby('Player') \\\n",
    "                .first() \\\n",
    "                .reset_index() \\\n",
    "                .sort_values(['Team', 'Salary'], ascending=[True, False])"
   ]
  },
  {
   "cell_type": "code",
   "execution_count": null,
   "id": "225cda0e",
   "metadata": {},
   "outputs": [],
   "source": [
    "merged.to_csv('../data/nba-2022.csv', index=False)"
   ]
  }
 ],
 "metadata": {
  "kernelspec": {
   "display_name": "Python 3 (ipykernel)",
   "language": "python",
   "name": "python3"
  },
  "language_info": {
   "codemirror_mode": {
    "name": "ipython",
    "version": 3
   },
   "file_extension": ".py",
   "mimetype": "text/x-python",
   "name": "python",
   "nbconvert_exporter": "python",
   "pygments_lexer": "ipython3",
   "version": "3.9.7"
  }
 },
 "nbformat": 4,
 "nbformat_minor": 5
}
