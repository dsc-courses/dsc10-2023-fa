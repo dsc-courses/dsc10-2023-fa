{
 "cells": [
  {
   "cell_type": "code",
   "execution_count": 2,
   "metadata": {},
   "outputs": [],
   "source": [
    "import os\n",
    "\n",
    "def write_markdown_file(line):\n",
    "    # Split the line by tab to get individual fields\n",
    "    fields = line.strip().split('\\t')\n",
    "    \n",
    "    # Extract information from fields\n",
    "    timestamp, full_name, pronouns, _, description, hometown, askabout, food = fields\n",
    "    first_name, last_name = full_name.split()\n",
    "    \n",
    "    # Format the markdown content\n",
    "    content = f\"\"\"---\n",
    "name: {full_name}\n",
    "role: Tutor\n",
    "pronouns: {pronouns}\n",
    "email: \n",
    "photo: ../assets/staff-images/fa23/{last_name.lower()}-{first_name.lower()}.jpg\n",
    "description: {description}\n",
    "hometown: {hometown}\n",
    "askabout: {askabout}\n",
    "foodemoji: 🍛\n",
    "food: {food}\n",
    "---\"\"\"\n",
    "    \n",
    "    path = \"../_staffers/\"\n",
    "\n",
    "    # Define the file name\n",
    "    file_name = f\"{path}{last_name.lower()}-{first_name.lower()}.md\"\n",
    "    \n",
    "    # Write the content to the file\n",
    "    with open(file_name, 'w') as f:\n",
    "        f.write(content)\n",
    "    \n",
    "    print(f\"{file_name} has been written successfully!\")\n",
    "\n",
    "\n"
   ]
  },
  {
   "cell_type": "code",
   "execution_count": 4,
   "metadata": {},
   "outputs": [
    {
     "name": "stdout",
     "output_type": "stream",
     "text": [
      "../_staffers/determan-jack.md has been written successfully!\n"
     ]
    }
   ],
   "source": [
    "# Example usage\n",
    "line = \"\"\"9/23/2023 15:39:49\tJack Determan\the/him\thttps://docs.google.com/document/d/1pp8K6yliNPON9WQHkBpyjvT4httDjk4k605icGI6nek/edit\t2nd year, Math - Computer Science, ERC\tNorth Andover, MA\tProfessional Certification in Web Development through Harvard, Soccer, Piano, Running, Chess, Ethics/Philosophies in Data Science/Statistics\tDuke's La Jolla\"\"\"\n",
    "write_markdown_file(line)"
   ]
  },
  {
   "cell_type": "code",
   "execution_count": 5,
   "metadata": {},
   "outputs": [
    {
     "name": "stdout",
     "output_type": "stream",
     "text": [
      "['9/23/2023 15:39:49\\tJack Determan\\the/him\\thttps://docs.google.com/document/d/1pp8K6yliNPON9WQHkBpyjvT4httDjk4k605icGI6nek/edit']\n",
      "Failed to download and save image for Jack Determan. Error: 500 Server Error: Internal Server Error for url: https://doc-00-18-docs.googleusercontent.com/docs/securesc/ha0ro937gcuc7l7deffksulhg5h7mbp1/2ev1bkrej3q58b78mkfoiuch107vtntl/1695546150000/16520039577878111519/*/1pp8K6yliNPON9WQHkBpyjvT4httDjk4k605icGI6nek?e=download&uuid=feebf430-bb36-428b-bb06-2885e834f336\n"
     ]
    }
   ],
   "source": [
    "import os\n",
    "import re\n",
    "import csv\n",
    "import requests\n",
    "from PIL import Image\n",
    "from io import BytesIO\n",
    "\n",
    "def download_and_save_images(csv_content, directory):\n",
    "    # Create directory if it doesn't exist\n",
    "    if not os.path.exists(directory):\n",
    "        os.makedirs(directory)\n",
    "    \n",
    "    # Parse the CSV content line by line\n",
    "    reader = csv.reader(csv_content.splitlines())\n",
    "    next(reader)  # Skip the header row\n",
    "    \n",
    "    for row in reader:\n",
    "        print(row)\n",
    "        timestamp, full_name, pronouns, link = row[0].split(\"\\t\")\n",
    "        first_name, last_name = full_name.split()\n",
    "        \n",
    "        # Format the file name\n",
    "        file_name = f\"{last_name.lower()}-{first_name.lower()}.jpg\"\n",
    "        file_path = os.path.join(directory, file_name)\n",
    "        \n",
    "        match = re.search(r'/d/([^/]+)/', link)\n",
    "        if match:\n",
    "            file_id = match.group(1)\n",
    "            download_link = f\"https://drive.google.com/uc?export=download&id={file_id}\"\n",
    "        else:\n",
    "            print(f\"Failed to extract file ID from link for {full_name}. Skipping.\")\n",
    "            continue\n",
    "        \n",
    "        try:\n",
    "            # Download the image using the modified download link\n",
    "            response = requests.get(download_link)\n",
    "            response.raise_for_status()\n",
    "            \n",
    "            # Open the image and convert it to JPEG if necessary\n",
    "            img = Image.open(BytesIO(response.content))\n",
    "            if img.format != 'JPEG':\n",
    "                img = img.convert('RGB')\n",
    "            \n",
    "            # Save the image to the specified directory\n",
    "            img.save(file_path, 'JPEG')\n",
    "            print(f\"Image for {full_name} has been saved successfully to {file_path}\")\n",
    "        \n",
    "        except Exception as e:\n",
    "            print(f\"Failed to download and save image for {full_name}. Error: {e}\")\n",
    "\n",
    "# The CSV content\n",
    "csv_content = \"\"\"9/18/2023 15:48:03\tNorah Kerendian\tshe/her\thttps://drive.google.com/file/d/16mvLT-ueRnHhdvPDM0_im_gEOEj2bMsj/view?usp=sharing\n",
    "9/23/2023 15:39:49\tJack Determan\the/him\thttps://docs.google.com/document/d/1pp8K6yliNPON9WQHkBpyjvT4httDjk4k605icGI6nek/edit\"\"\"\n",
    "\n",
    "# The directory where the images should be saved\n",
    "directory = \"/Users/weiyueli/dsc10-2023-fa/assets/staff-images/fa23\"\n",
    "\n",
    "# Call the function with the CSV content and the directory\n",
    "download_and_save_images(csv_content, directory)\n"
   ]
  },
  {
   "cell_type": "code",
   "execution_count": null,
   "metadata": {},
   "outputs": [],
   "source": []
  }
 ],
 "metadata": {
  "kernelspec": {
   "display_name": "dsc80",
   "language": "python",
   "name": "python3"
  },
  "language_info": {
   "codemirror_mode": {
    "name": "ipython",
    "version": 3
   },
   "file_extension": ".py",
   "mimetype": "text/x-python",
   "name": "python",
   "nbconvert_exporter": "python",
   "pygments_lexer": "ipython3",
   "version": "3.8.16"
  },
  "orig_nbformat": 4
 },
 "nbformat": 4,
 "nbformat_minor": 2
}
