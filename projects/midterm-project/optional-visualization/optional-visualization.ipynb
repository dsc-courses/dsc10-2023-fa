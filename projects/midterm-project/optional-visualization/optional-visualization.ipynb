{
 "cells": [
  {
   "cell_type": "markdown",
   "id": "e9806e51",
   "metadata": {},
   "source": [
    "# Optional: Interactive Visualization\n",
    "\n",
    "This is a completely optional section of the project. There's no place to submit it. Feel free to come back to it later on when you have more time.\n",
    "\n",
    "*Note*: You won't be able to work on this section unless you've completed at least Question 3."
   ]
  },
  {
   "cell_type": "code",
   "execution_count": null,
   "id": "f6eb23f6",
   "metadata": {},
   "outputs": [],
   "source": [
    "import babypandas as bpd\n",
    "import numpy as np\n",
    "import plotly.express as px"
   ]
  },
  {
   "cell_type": "markdown",
   "id": "eb7fd54f",
   "metadata": {},
   "source": [
    "Run the cell below to load in the `ucsd_state` DataFrame you produced in Question 3.\n",
    "\n",
    "If you see the following error:\n",
    "\n",
    "```\n",
    "FileNotFoundError: [Errno 2] No such file or directory: 'ucsd_state.csv'\n",
    "```\n",
    "\n",
    "you need to go back to the [main notebook](../midterm-project.ipynb) and run the cell at the end of the project notebook that starts with `ucsd_state.to_csv`."
   ]
  },
  {
   "cell_type": "code",
   "execution_count": null,
   "id": "bf279b59",
   "metadata": {},
   "outputs": [],
   "source": [
    "ucsd_state = bpd.read_csv('ucsd_state.csv')\n",
    "ucsd_state"
   ]
  },
  {
   "cell_type": "markdown",
   "id": "be086cf5",
   "metadata": {},
   "source": [
    "In Question 1.5, you created a scatter plot that had `'Applied'` on the $x$-axis and `'AcceptanceRate'` on the $y$-axis. Like all of the other plots you created in this class, it was _static_, meaning that you couldn't click on it or move things around.\n",
    "\n",
    "What we'll do here is produce an interactive version of the same plot, and modify the colors to highlight **your high school**!\n",
    "\n",
    "First, note that we're going to use a new visualization library, called `plotly`. This is what we used to create the [map](https://dsc10.com/resources/midterm_project/q3.11-map.html) you'll see in Question 3.11, and what we used to create the interactive _Little Women_ graph at the end of [Lecture 1](https://dsc10.com/resources/lectures/lec01/lec01.html#Next-time).\n",
    "\n",
    "We've imported `plotly.express` as `px`, and the relevant function is `px.scatter`. Below, we create a scatter plot that should resemble the one you produced in Question 1.5."
   ]
  },
  {
   "cell_type": "code",
   "execution_count": null,
   "id": "b491f742",
   "metadata": {},
   "outputs": [],
   "source": [
    "# The .to_df() converts ucsd_state from a babypandas DataFrame to a pandas DataFrame,\n",
    "# which plotly requires.\n",
    "px.scatter(ucsd_state.to_df(),      \n",
    "           x='Applied',\n",
    "           y='AcceptanceRate')"
   ]
  },
  {
   "cell_type": "markdown",
   "id": "e762e27a",
   "metadata": {},
   "source": [
    "Note that you can hover over any point and see the exact values of `'Applied'` and `'AcceptanceRate'`.\n",
    "\n",
    "But, we can take things further! Below, we've modified the plot so that when you hover over a school's name, you see its `'ID'`, and so that in-state schools appear blue and out-of-state schools appear red."
   ]
  },
  {
   "cell_type": "code",
   "execution_count": null,
   "id": "13359f22",
   "metadata": {},
   "outputs": [],
   "source": [
    "px.scatter(ucsd_state.to_df(),      \n",
    "           x='Applied',\n",
    "           y='AcceptanceRate',\n",
    "           hover_name='ID',\n",
    "           color='instate')"
   ]
  },
  {
   "cell_type": "markdown",
   "id": "c4e8888d",
   "metadata": {},
   "source": [
    "But, let's take things a step further. Let's suppose we're interested in just the schools from California, and how schools from San Diego County and Canyon Crest Academy specifically fare. First, we can query for only the schools that are in-state."
   ]
  },
  {
   "cell_type": "code",
   "execution_count": null,
   "id": "eeeeb789",
   "metadata": {},
   "outputs": [],
   "source": [
    "in_state_only = ucsd_state[ucsd_state.get('instate') == True]\n",
    "in_state_only"
   ]
  },
  {
   "cell_type": "markdown",
   "id": "e40c423d",
   "metadata": {},
   "source": [
    "Now, since all of the schools have known `'Region'`s, we can color each point according to the `'Region'`, or county. We can also use `'Name'` as the `hover_name` instead of `'ID'`, since no in-state schools have missing `'Name'`s."
   ]
  },
  {
   "cell_type": "code",
   "execution_count": null,
   "id": "4ac1087f",
   "metadata": {},
   "outputs": [],
   "source": [
    "px.scatter(in_state_only.to_df(),      \n",
    "           x='Applied',\n",
    "           y='AcceptanceRate',\n",
    "           hover_name='Name',\n",
    "           color='Region')"
   ]
  },
  {
   "cell_type": "markdown",
   "id": "c4a86b48",
   "metadata": {},
   "source": [
    "The issue is that there are a lot of colors. It would be nice if we could reduce this plot to just have three colors:\n",
    "- One for our school of interest, Canyon Crest Academy.\n",
    "- One for other schools in San Diego County.\n",
    "- One for all other schools.\n",
    "\n",
    "To do that, we'll add a column to `in_state_only` that describes the above \"category\" that each school is in. The following function implements this logic."
   ]
  },
  {
   "cell_type": "code",
   "execution_count": null,
   "id": "5a62695e",
   "metadata": {},
   "outputs": [],
   "source": [
    "def find_category(name, county):\n",
    "    if name == 'CANYON CREST ACADEMY':\n",
    "        return 'Canyon Crest Academy'\n",
    "    elif county == 'San Diego':\n",
    "        return 'San Diego'\n",
    "    else:\n",
    "        return 'Other California County'"
   ]
  },
  {
   "cell_type": "markdown",
   "id": "ecbd1054",
   "metadata": {},
   "source": [
    "Since the function needs to look at multiple columns of `in_state_only` as inputs, we can't use the `.apply` method, since the `.apply` method only works on a single Series. Instead, we'll use a `for`-loop. We almost **never** need to use `for`-loops with DataFrames, but this is one of the rare instances where we do."
   ]
  },
  {
   "cell_type": "code",
   "execution_count": null,
   "id": "2af50a1f",
   "metadata": {},
   "outputs": [],
   "source": [
    "categories = np.array([])\n",
    "\n",
    "for i in np.arange(in_state_only.shape[0]):\n",
    "    name = in_state_only.get('Name').iloc[i]\n",
    "    county = in_state_only.get('Region').iloc[i]\n",
    "    category = find_category(name, county)\n",
    "    categories = np.append(categories, category)"
   ]
  },
  {
   "cell_type": "markdown",
   "id": "6934b0ae",
   "metadata": {},
   "source": [
    "Now, `categories` is an array containing the category of each school."
   ]
  },
  {
   "cell_type": "code",
   "execution_count": null,
   "id": "e6b61455",
   "metadata": {},
   "outputs": [],
   "source": [
    "len(categories)"
   ]
  },
  {
   "cell_type": "markdown",
   "id": "857a03dd",
   "metadata": {},
   "source": [
    "We can add it as a column to `in_state_only`."
   ]
  },
  {
   "cell_type": "code",
   "execution_count": null,
   "id": "a7cee9b3",
   "metadata": {},
   "outputs": [],
   "source": [
    "in_state_only = in_state_only.assign(Category=categories)\n",
    "in_state_only"
   ]
  },
  {
   "cell_type": "markdown",
   "id": "9991d22e",
   "metadata": {},
   "source": [
    "Now, instead of setting `color='Region'`, we can set `color='Category'` and we will only see three different colors!"
   ]
  },
  {
   "cell_type": "code",
   "execution_count": null,
   "id": "3c23bd2d",
   "metadata": {},
   "outputs": [],
   "source": [
    "px.scatter(in_state_only.to_df(),      \n",
    "           x='Applied',\n",
    "           y='AcceptanceRate',\n",
    "           hover_name='Name',\n",
    "           color='Category')"
   ]
  },
  {
   "cell_type": "markdown",
   "id": "38674df6",
   "metadata": {},
   "source": [
    "You can see Canyon Crest Academy around the point (350, 0.2). The issue is it's kind of hard to spot, since all of the circles are quite small. One thing we can do is change the `size` argument, to tell `plotly` to make some circles bigger than others. By setting `size='Enrolled'`, the size of a point will be larger for schools where more students actually enrolled at UCSD!"
   ]
  },
  {
   "cell_type": "code",
   "execution_count": null,
   "id": "bbacbbb2",
   "metadata": {},
   "outputs": [],
   "source": [
    "px.scatter(in_state_only.to_df(),      \n",
    "           x='Applied',\n",
    "           y='AcceptanceRate',\n",
    "           hover_name='Name',\n",
    "           color='Category',\n",
    "           size='Enrolled')"
   ]
  },
  {
   "cell_type": "markdown",
   "id": "8cc35450",
   "metadata": {},
   "source": [
    "Starting to look cool! But, we can keep going. We may want to pick our own colors for the points – we can do that by creating a dictionary whose keys are the categories and values are the colors we want.\n",
    "\n",
    "Note that #777777 is a color in \"hex\", a standard way of specifying colors. You can see a hex color picker [here](https://g.co/kgs/S2wzwF)."
   ]
  },
  {
   "cell_type": "code",
   "execution_count": null,
   "id": "e8d77e2e",
   "metadata": {},
   "outputs": [],
   "source": [
    "color_dictionary = {\n",
    "    'Canyon Crest Academy': 'blue',\n",
    "    'San Diego': 'gold',\n",
    "    'Other California County': '#777777'\n",
    "}"
   ]
  },
  {
   "cell_type": "markdown",
   "id": "a02cc940",
   "metadata": {},
   "source": [
    "By setting the `color_discrete_map` argument to `color_dictionary`, we can see the colors we picked:"
   ]
  },
  {
   "cell_type": "code",
   "execution_count": null,
   "id": "3b49b331",
   "metadata": {},
   "outputs": [],
   "source": [
    "px.scatter(in_state_only.to_df(),      \n",
    "           x='Applied',\n",
    "           y='AcceptanceRate',\n",
    "           hover_name='Name',\n",
    "           color='Category',\n",
    "           size='Enrolled',\n",
    "           color_discrete_map=color_dictionary)"
   ]
  },
  {
   "cell_type": "markdown",
   "id": "1e04b773",
   "metadata": {},
   "source": [
    "We're just getting started, there are plenty of other things we can do to this plot! For instance, we can add a title, change the background color, and font:"
   ]
  },
  {
   "cell_type": "code",
   "execution_count": null,
   "id": "259e78fb",
   "metadata": {},
   "outputs": [],
   "source": [
    "fig = px.scatter(in_state_only.to_df(),      \n",
    "           x='Applied',\n",
    "           y='AcceptanceRate',\n",
    "           hover_name='Name',\n",
    "           color='Category',\n",
    "           size='Enrolled',\n",
    "           color_discrete_map=color_dictionary,\n",
    "           title='Acceptance Rate vs. Number of Applicants to UCSD in Fall 2022')\n",
    "\n",
    "fig.update_layout(\n",
    "    plot_bgcolor='#EEEEEE',\n",
    "    font={'family': 'Arial'}\n",
    ")\n",
    "\n",
    "fig.add_annotation(\n",
    "    x=360,\n",
    "    y=0.23,\n",
    "    text='<span style=\"color:blue\"><b>This</b> is my high school!</span>',\n",
    ")"
   ]
  },
  {
   "cell_type": "markdown",
   "id": "898f0edf",
   "metadata": {},
   "source": [
    "Feel free to explore! You'll note that the entire notebook above has been done for you.\n",
    "\n",
    "If you're up for it, modify this plot so that it highlights your high school. If you're not from California, this will require a good amount of work, and your high school may not even be in the dataset (Suraj's isn't). Have fun with it – change the colors, add more annotations, and customize it to your own liking.\n",
    "\n",
    "Of course, this is entirely optional, and won't be graded in any way. But if you do produce something cool, take a screenshot and share it with us in [this Ed thread](https://edstem.org/us/courses/38383/discussion/3019418)!"
   ]
  }
 ],
 "metadata": {
  "kernelspec": {
   "display_name": "Python 3 (ipykernel)",
   "language": "python",
   "name": "python3"
  },
  "language_info": {
   "codemirror_mode": {
    "name": "ipython",
    "version": 3
   },
   "file_extension": ".py",
   "mimetype": "text/x-python",
   "name": "python",
   "nbconvert_exporter": "python",
   "pygments_lexer": "ipython3",
   "version": "3.9.7"
  }
 },
 "nbformat": 4,
 "nbformat_minor": 5
}
