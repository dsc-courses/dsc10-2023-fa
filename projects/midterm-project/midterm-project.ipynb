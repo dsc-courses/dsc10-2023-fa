{
 "cells": [
  {
   "cell_type": "markdown",
   "id": "27993e8b",
   "metadata": {},
   "source": [
    "<img src=\"data/images/banner.png\" width=100%>\n",
    "\n",
    "Welcome to the Midterm Project!\n",
    "\n",
    "Projects in DSC 10 are similar in format to homeworks, but are different in a few key ways. First, a project is comprehensive, meaning that it draws upon everything we've learned this quarter so far. Second, since problems can vary quite a bit in difficulty, some problems will be worth more points than others. Finally, in a project, the problems are more open-ended; they will usually ask for some result, but won't tell you what method should be used to get it. There might be several equally-valid approaches, and several steps might be necessary. This is closer to how data science is done in \"real life.\"\n",
    "\n",
    "It is important that you **start early** on the project! It will take the place of a homework in the week that it is due, but you should also expect it to take longer than a homework. You are especially encouraged to **find a partner** to work through the project with. If you work in a pair, you must follow the [Project Partner Guidelines](https://dsc10.com/project-partners/) on the course website. In particular, you must work together at the same time, and you are not allowed to split up the project and each work on certain problems. If you work with a partner, only one of you needs to upload your notebook to Gradescope; after uploading, you'll see an option to add the other partner to the submission.\n",
    "\n",
    "**Important:** The `otter` tests don't usually tell you that your answer is correct. More often, they help catch basic mistakes. It's up to you to ensure that your answer is correct. If you're not sure, ask someone (not for the answer, but for some guidance about your approach). Directly sharing answers between groups is not okay, but discussing problems with the course staff or with other students is encouraged.\n",
    "\n",
    "**Avoid looping through DataFrames unless instructed to do so. Do not import any packages.** Loops in Python are slow, and looping through DataFrames should usually be avoided in favor of the DataFrame methods we've learned in class, which are much faster. Please do not import any additional packages – you don't need them, and our autograder may not be able to run your code if you do.\n",
    "\n",
    "As you work through this project, there are a few resources you may want to have open:\n",
    "- [DSC 10 Reference Sheet](https://drive.google.com/file/d/1mQApk9Ovdi-QVqMgnNcq5dZcWucUKoG-/view)\n",
    "- [`babypandas` notes](https://notes.dsc10.com/front.html)\n",
    "- [`babypandas` documentation](https://babypandas.readthedocs.io/en/latest/)\n",
    "- Other links in the [Resources](https://dsc10.com/resources/) and [Debugging](https://dsc10.com/debugging/) tabs of the course website\n",
    "\n",
    "<div class=\"alert alert-block alert-warning\"> <b>Keep <a href=\"https://edstem.org/us/courses/48101/discussion/3700333\n",
    "\">this</a> post on Ed open; we'll post there if we have any clarifications or updates we need to make on the project. </div>\n",
    "\n",
    "Start early, good luck, and let's begin! 🏃"
   ]
  },
  {
   "cell_type": "code",
   "execution_count": null,
   "id": "8dded1f3",
   "metadata": {},
   "outputs": [],
   "source": [
    "# Please don't change this cell, but make sure to run it.\n",
    "import babypandas as bpd\n",
    "import numpy as np\n",
    "from IPython.display import HTML, display, IFrame, YouTubeVideo, Markdown, clear_output\n",
    "import ipywidgets as widgets\n",
    "\n",
    "import matplotlib.pyplot as plt\n",
    "plt.style.use('ggplot')\n",
    "plt.rcParams[\"figure.figsize\"] = (10, 5)\n",
    "\n",
    "import otter\n",
    "import numbers\n",
    "grader = otter.Notebook()\n",
    "\n",
    "def play_spotify(uri):\n",
    "    code = uri[uri.rfind(':')+1:]\n",
    "    src = f\"https://open.spotify.com/embed/track/{code}\"\n",
    "    width = 400\n",
    "    height = 75\n",
    "    display(IFrame(src, width, height))"
   ]
  },
  {
   "cell_type": "markdown",
   "id": "ed6f336b",
   "metadata": {},
   "source": [
    "<a id='outline'></a>\n",
    "\n",
    "### Outline \n",
    "\n",
    "The project is divided into four main sections, each of which contains several questions. Use the outline below to help you quickly navigate to the part of the project you're working on. Questions are worth one point each, unless they contain a ⭐️⭐️ next to them, in which case they are worth two points (e.g. **Question 0.3. ⭐️⭐️**). You can expect questions worth two points to be longer and more challenging than questions worth one point.\n",
    "\n",
    "- [Welcome to `tswift`, it's been waitin' for you! 👩‍💻](#section0)\n",
    "- [Section 1: Data Visualization 👀](#section1)\n",
    "- [Section 2:  Song Recommender 🎧](#section2)\n",
    "- [Section 3: Lyric Searcher 🔍](#section3)\n",
    "- [Section 4: Keywords 🔑](#section4)\n",
    "\n",
    "\n",
    "There's also a [Taylor Swift Emoji Quiz 💯](#emojiquiz) at the end of the project, just for fun. Try to identify the Taylor Swift song based on an emoji description, and see how many you can get!"
   ]
  },
  {
   "cell_type": "markdown",
   "id": "a8c98ee3",
   "metadata": {},
   "source": [
    "<a id='section0'></a>\n",
    "## Welcome to `tswift`, it's been waitin' for you! 👩‍💻\n",
    "<small>(<a href=\"#outline\">return to the outline</a>)</small>"
   ]
  },
  {
   "cell_type": "markdown",
   "id": "ea21413e",
   "metadata": {},
   "source": [
    "In case you've been living under a rock, allow us to introduce you to Taylor Swift, a famous singer, songwriter, and cultural icon. She has set all kinds of records in the music industry, including earning the most American Music Awards in history. She is also the most-streamed female artist on Spotify, a digital music streaming service. \n",
    "\n",
    "With its origins in country music, Taylor Swift's style has evolved a lot since her 2006 debut album. In her most recent concert tour, *The Eras Tour*, she guides fans through these musical \"eras\" in a three-hour performance which fans are paying thousands of dollars to attend. Just a few weeks ago, a film version of *The Eras Tour* came to movie theaters,  and in one weekend became the highest-grossing concert film in history.\n",
    "\n",
    "<img src=\"data/images/eras.jpg\" width=50%>\n",
    "\n",
    "Chances are, you probably have heard some of Taylor Swift's songs; you might even know the words to all of them. In this project, we'll look at Taylor Swift's songs through the lens of data science. We have data on both the lyrics and audio qualities of Taylor Swift's musical body of work. \n",
    "\n",
    "The datasets we will use contain all songs on each of Taylor Swift's [ten studio albums](https://en.wikipedia.org/wiki/Taylor_Swift_albums_discography#Studio_albums). We've chosen to use deluxe or extended versions of these albums when available, to include more songs, but we've eliminated duplicate versions of songs, such as acoustic versions and remixes. We've also chosen to include the rerecorded \"[Taylor's Version](https://www.vox.com/culture/22278732/taylor-swift-re-recording-1989-speak-now-enchanted-mine-master-rights-scooter-braun)\" when available. Our datasets don't include Taylor Swift songs that were released as part of movie soundtracks, live recordings, holiday specials, or through any other mechanism.\n",
    "\n",
    "We'll work with two DataFrames throughout the project:\n",
    "- The `lyrics` DataFrame contains the lyrics of each Taylor Swift song.  The data in `lyrics` comes from [Genius](https://genius.com/), \"the world's biggest collection of song lyrics and crowdsourced musical knowledge.\"\n",
    "- The `tswift` DataFrame contains information about the audio features of each song. The data in `tswift` comes from [Spotify](https://open.spotify.com/). \n",
    "\n",
    "Let's start by reading in these DataFrames and taking a look around. Run the cell below to load `lyrics`."
   ]
  },
  {
   "cell_type": "code",
   "execution_count": null,
   "id": "d72e3b42",
   "metadata": {
    "scrolled": true
   },
   "outputs": [],
   "source": [
    "lyrics = bpd.read_csv('data/lyrics.csv')\n",
    "lyrics"
   ]
  },
  {
   "cell_type": "markdown",
   "id": "3c6e90db",
   "metadata": {
    "deletable": false,
    "editable": false
   },
   "source": [
    "**Question 0.1.** Choose an appropriate index for `lyrics` and set the index to that column.\n",
    "\n",
    "<!--\n",
    "BEGIN QUESTION\n",
    "name: q0_1\n",
    "points: 1\n",
    "-->"
   ]
  },
  {
   "cell_type": "code",
   "execution_count": null,
   "id": "2618d488",
   "metadata": {
    "scrolled": false
   },
   "outputs": [],
   "source": [
    "lyrics = ...\n",
    "lyrics"
   ]
  },
  {
   "cell_type": "code",
   "execution_count": null,
   "id": "87fcd49d",
   "metadata": {
    "deletable": false,
    "editable": false
   },
   "outputs": [],
   "source": [
    "grader.check(\"q0_1\")"
   ]
  },
  {
   "cell_type": "markdown",
   "id": "c7c4b3f8",
   "metadata": {
    "deletable": false,
    "editable": false
   },
   "source": [
    "**Question 0.2.** Set `mastermind` to the lyrics of the song `'Mastermind'`. Compare what happens when you display the value of `mastermind` versus print `mastermind`.\n",
    "\n",
    "<!--\n",
    "BEGIN QUESTION\n",
    "name: q0_2\n",
    "points: 1\n",
    "-->"
   ]
  },
  {
   "cell_type": "code",
   "execution_count": null,
   "id": "757afba7",
   "metadata": {
    "scrolled": true
   },
   "outputs": [],
   "source": [
    "mastermind = ...\n",
    "mastermind"
   ]
  },
  {
   "cell_type": "code",
   "execution_count": null,
   "id": "271d5567",
   "metadata": {
    "deletable": false,
    "editable": false
   },
   "outputs": [],
   "source": [
    "grader.check(\"q0_2\")"
   ]
  },
  {
   "cell_type": "markdown",
   "id": "0038614f",
   "metadata": {},
   "source": [
    "Since the lyrics data is all text, you'll be working a lot with strings throughout this project. Make sure to review the [available string methods](https://docs.python.org/3/library/stdtypes.html#string-methods) so you know how to work with the lyrics data effectively.\n",
    "\n",
    "Next, let's look at the `tswift` DataFrame. Run the cell below to load in the DataFrame and take a look around."
   ]
  },
  {
   "cell_type": "code",
   "execution_count": null,
   "id": "cf408883",
   "metadata": {},
   "outputs": [],
   "source": [
    "tswift = bpd.read_csv('data/tswift.csv')\n",
    "tswift"
   ]
  },
  {
   "cell_type": "markdown",
   "id": "9069d3d0",
   "metadata": {},
   "source": [
    "`tswift` contains a lot of information! We've used the [documentation](https://developer.spotify.com/documentation/web-api/reference/#/operations/get-several-audio-features) provided by Spotify to create the table below, which describes the columns present in `tswift` and what they represent. Note that many of these features (such as `'Valence'`) are defined and determined by Spotify. We have no way of knowing exactly how they determine the values of these audio features for each song, as their algorithms are proprietary.\n",
    "\n",
    "| Variable Name | Data Type | Explanation |\n",
    "| -------- | ------- | ------- |\n",
    "| `'URI'`  | str | Unique identifier for the song in Spotify. |\n",
    "| `'Album'`  | str | Album name. |\n",
    "| `'Song Name'`  | str | Song name. |\n",
    "| `'Disc Number'`  | int | Disc number, usually 1 unless the album contains more than 1 disc. |\n",
    "| `'Track Number'`  | int | The number of the track on the specified disc. |\n",
    "| `'Popularity'`  | int | 0 to 100 scale of the current popularity of the song. |\n",
    "| `'Explicit'`  | bool | True if the song contains explicit words, False otherwise. |\n",
    "| `'Danceability'`  | float | 0 to 1 scale of how suitable a track is for dancing. |\n",
    "| `'Energy'`  | float | 0 to 1 scale of a track's activity and intensity. |\n",
    "| `'Key'`  | int | The average key/pitch of a track, where 0 = C, 1 = C#/Db, 2 = D, and so on. |\n",
    "| `'Loudness'`  | float | The average loudness of a track, measured on a relative scale in decibels. Values typically range between -60 (softer) and 0 (louder). |\n",
    "| `'Mode'`  | int | Either 0 for a minor key, or 1 for a major key.|\n",
    "| `'Speechiness'`  | float | 0 to 1 scale measuring the prevalence of spoken words. |\n",
    "| `'Acousticness'`  | float | 0 to 1 scale measuring how likely a track is to be acoustic. |\n",
    "| `'Instrumentalness'`  | float | 0 to 1 scale measuring how likely a track is to be instrumental (without vocals). |\n",
    "| `'Liveness'`  | float | 0 to 1 scale measuring how likely a track is to have been recorded with a live audience.|\n",
    "| `'Valence'`  | float | 0 to 1 scale of how positive or happy a track is. |\n",
    "| `'Tempo'`  | float | The estimated number of beats per minute. |\n",
    "| `'Duration_ms'`  | int | Length of song in milliseconds. |\n",
    "| `'Time Signature'`  | int | The number of beats in each bar (or measure). |"
   ]
  },
  {
   "cell_type": "markdown",
   "id": "486edffe",
   "metadata": {},
   "source": [
    "One piece of information we'd like to have in `tswift`, which is currently missing, is the year in which each album was released. This variable would allow us to explore trends over time. The `albums` DataFrame contains the information we need. Run the next cell to load it in."
   ]
  },
  {
   "cell_type": "code",
   "execution_count": null,
   "id": "74b03cce",
   "metadata": {},
   "outputs": [],
   "source": [
    "albums = bpd.read_csv('data/albums.csv')\n",
    "albums"
   ]
  },
  {
   "cell_type": "markdown",
   "id": "eab9cf7b",
   "metadata": {},
   "source": [
    "**Question 0.3.** ⭐⭐ Add a column to `tswift` called `'Year'` that contains the year of each song's release, as an int, based on the data in `albums`.\n",
    "\n",
    "***Note:*** This problem has two stars because it's a multi-step, more challenging problem. Take it one step at a time. Feel free to create additional cells."
   ]
  },
  {
   "cell_type": "code",
   "execution_count": null,
   "id": "30b6be2d",
   "metadata": {},
   "outputs": [],
   "source": [
    "tswift = ...\n",
    "tswift"
   ]
  },
  {
   "cell_type": "code",
   "execution_count": null,
   "id": "962cc260",
   "metadata": {
    "deletable": false,
    "editable": false
   },
   "outputs": [],
   "source": [
    "grader.check(\"q0_3\")"
   ]
  },
  {
   "cell_type": "markdown",
   "id": "4a604336",
   "metadata": {},
   "source": [
    "Now that `tswift` has all of the information we need, we'll set its index to `'URI'`, since we were told in the data description table that `'URI'`s are unique."
   ]
  },
  {
   "cell_type": "code",
   "execution_count": null,
   "id": "fd16a623",
   "metadata": {},
   "outputs": [],
   "source": [
    "tswift = tswift.set_index('URI')\n",
    "tswift"
   ]
  },
  {
   "cell_type": "markdown",
   "id": "4491bb6e",
   "metadata": {},
   "source": [
    "Now we have our data in the format we need for the rest of the project. In the next two sections of the project, we'll work with the `tswift` DataFrame. Then we'll pivot to work with the `lyrics` DataFrame in the last two sections. Let's begin!"
   ]
  },
  {
   "cell_type": "markdown",
   "id": "e73e898d",
   "metadata": {},
   "source": [
    "<a id='section1'></a>\n",
    "## Section 1: Data Visualization 👀\n",
    "\n",
    "> Ooh, look what you made me do.   \n",
    "\n",
    "<small>(<a href=\"#outline\">return to the outline</a>)</small>"
   ]
  },
  {
   "cell_type": "markdown",
   "id": "417e3111",
   "metadata": {},
   "source": [
    "In this section, we'll use the `tswift` DataFrame to create visualizations that will help us answer questions about Taylor Swift's music, including:\n",
    "- How many songs did Taylor Swift release each year?\n",
    "- How do different audio features such as `'Loudness'` and `'Energy'` relate to one another?\n",
    "- Are Taylor Swift's songs generally more positive or more negative?\n",
    "- Which Taylor Swift album has the most songs in a minor key?"
   ]
  },
  {
   "cell_type": "markdown",
   "id": "4ba18ae6",
   "metadata": {
    "deletable": false,
    "editable": false
   },
   "source": [
    "**Question 1.1.** To start, let's address the following question:\n",
    "\n",
    "> How many songs did Taylor Swift release each year?\n",
    "\n",
    "There are several types of plots that could be used to answer this question. Which of the following plot type would **not** be an appropriate tool to help you answer this question? Set `q1_1` to either 1, 2, or 3, corresponding to your choice from the options below. \n",
    "\n",
    "1. Scatter plot\n",
    "1. Line plot\n",
    "1. Bar chart\n",
    "\n",
    "<!--\n",
    "BEGIN QUESTION\n",
    "name: q1_1\n",
    "points: 1\n",
    "-->"
   ]
  },
  {
   "cell_type": "code",
   "execution_count": null,
   "id": "a7536c9e",
   "metadata": {},
   "outputs": [],
   "source": [
    "q1_1 = ..."
   ]
  },
  {
   "cell_type": "code",
   "execution_count": null,
   "id": "a2ef18d3",
   "metadata": {
    "deletable": false,
    "editable": false
   },
   "outputs": [],
   "source": [
    "grader.check(\"q1_1\")"
   ]
  },
  {
   "cell_type": "markdown",
   "id": "ba29b5ac",
   "metadata": {},
   "source": [
    "**Question 1.2.** Now, create any plot, from among the plot types mentioned Question 1.1, that **will** help you answer the question of how many songs were released each year. Make sure to give your plot a meaningful title. "
   ]
  },
  {
   "cell_type": "code",
   "execution_count": null,
   "id": "eacc5952",
   "metadata": {},
   "outputs": [],
   "source": [
    "# Create your plot here."
   ]
  },
  {
   "cell_type": "markdown",
   "id": "1707ae96",
   "metadata": {
    "deletable": false,
    "editable": false
   },
   "source": [
    "Use the plot to determine the year with the most songs. After looking at the plot, store the year in the variable `year_with_most_songs` by manually typing it in, as an int.\n",
    "\n",
    "<!--\n",
    "BEGIN QUESTION\n",
    "name: q1_2\n",
    "points: 1\n",
    "-->"
   ]
  },
  {
   "cell_type": "code",
   "execution_count": null,
   "id": "9c4fb22e",
   "metadata": {},
   "outputs": [],
   "source": [
    "year_with_most_songs = ...\n",
    "year_with_most_songs"
   ]
  },
  {
   "cell_type": "code",
   "execution_count": null,
   "id": "c653cb37",
   "metadata": {
    "deletable": false,
    "editable": false
   },
   "outputs": [],
   "source": [
    "grader.check(\"q1_2\")"
   ]
  },
  {
   "cell_type": "markdown",
   "id": "4b963bb7",
   "metadata": {
    "deletable": false,
    "editable": false
   },
   "source": [
    "**Question 1.3.** Taylor Swift actually released two albums, sometimes called sister albums 👯, in the `year_with_most_songs`. Use code to find out which two albums were released that year. Specifically, set `sister_albums` to an array containing the names of these albums as strings, in any order. Do not type in the album names manually; write code to get them for you.\n",
    "\n",
    "***Hint:*** The Series method `.unique()` might be helpful.\n",
    "\n",
    "<!--\n",
    "BEGIN QUESTION\n",
    "name: q1_3\n",
    "points: 1\n",
    "-->"
   ]
  },
  {
   "cell_type": "code",
   "execution_count": null,
   "id": "8db74bb5",
   "metadata": {},
   "outputs": [],
   "source": [
    "sister_albums = ...\n",
    "sister_albums"
   ]
  },
  {
   "cell_type": "code",
   "execution_count": null,
   "id": "a6158f0e",
   "metadata": {
    "deletable": false,
    "editable": false
   },
   "outputs": [],
   "source": [
    "grader.check(\"q1_3\")"
   ]
  },
  {
   "cell_type": "markdown",
   "id": "b50ac37a",
   "metadata": {
    "deletable": false,
    "editable": false
   },
   "source": [
    "**Question 1.4.** Create a visualization *or* write code to answer the following question:\n",
    "\n",
    "> Which album has the most songs?\n",
    "\n",
    "Save the name of the album as `most_songs_album`. If you create a visualization to answer the question, it's fine to hardcode the answer as a string; if you write code to answer the question, it's fine to assign `most_songs_album` to an expression that evaluates to a string.\n",
    "\n",
    "<!--\n",
    "BEGIN QUESTION\n",
    "name: q1_4\n",
    "points: 1\n",
    "-->"
   ]
  },
  {
   "cell_type": "code",
   "execution_count": null,
   "id": "dd50c26e",
   "metadata": {},
   "outputs": [],
   "source": [
    "most_songs_album = ...\n",
    "most_songs_album"
   ]
  },
  {
   "cell_type": "code",
   "execution_count": null,
   "id": "bb44cd2d",
   "metadata": {
    "deletable": false,
    "editable": false
   },
   "outputs": [],
   "source": [
    "grader.check(\"q1_4\")"
   ]
  },
  {
   "cell_type": "markdown",
   "id": "e6bcf6fb",
   "metadata": {},
   "source": [
    "The `'Popularity'` column in `tswift` contains a number, on a scale of 0 to 100, that ranks how popular a track is relative to other tracks on Spotify. Every stream, save, share, like, and playlist recommendation contributes to a song's `'Popularity'`. Songs with a higher `'Popularity'` are more likely to be recommended to new listeners and added to algorithmically-generated playlists."
   ]
  },
  {
   "cell_type": "markdown",
   "id": "c14ebc4f",
   "metadata": {
    "deletable": false,
    "editable": false
   },
   "source": [
    "**Question 1.5.** What are the most and least popular Taylor Swift songs right now? Save your answers as `most_pop` and `least_pop`, respectively.\n",
    "\n",
    "<!--\n",
    "BEGIN QUESTION\n",
    "name: q1_5\n",
    "points: 1\n",
    "-->"
   ]
  },
  {
   "cell_type": "code",
   "execution_count": null,
   "id": "2125cec7",
   "metadata": {},
   "outputs": [],
   "source": [
    "most_pop = ...\n",
    "least_pop = ...\n",
    "\n",
    "print(f'The most popular Taylor Swift song right now is {most_pop}.')\n",
    "print(f'The least popular Taylor Swift song right now is {least_pop}.')"
   ]
  },
  {
   "cell_type": "code",
   "execution_count": null,
   "id": "0e117e8d",
   "metadata": {
    "deletable": false,
    "editable": false
   },
   "outputs": [],
   "source": [
    "grader.check(\"q1_5\")"
   ]
  },
  {
   "cell_type": "markdown",
   "id": "adcfaaf5",
   "metadata": {
    "deletable": false,
    "editable": false
   },
   "source": [
    "**Question 1.6.** ⭐⭐ Create a DataFrame named `popularity_by_year` that is indexed by `'Year'` and has two columns:\n",
    "- `'Max_Popularity'` should contain the highest popularity among all songs released that year.\n",
    "- `'Median_Popularity'` should contain the median popularity of all songs released that year. \n",
    "\n",
    "<!--\n",
    "BEGIN QUESTION\n",
    "name: q1_6\n",
    "points: 2\n",
    "-->"
   ]
  },
  {
   "cell_type": "code",
   "execution_count": null,
   "id": "17f86bb0",
   "metadata": {
    "scrolled": true
   },
   "outputs": [],
   "source": [
    "popularity_by_year = ...\n",
    "popularity_by_year"
   ]
  },
  {
   "cell_type": "code",
   "execution_count": null,
   "id": "a63ee25a",
   "metadata": {
    "deletable": false,
    "editable": false
   },
   "outputs": [],
   "source": [
    "grader.check(\"q1_6\")"
   ]
  },
  {
   "cell_type": "markdown",
   "id": "8cad318d",
   "metadata": {
    "deletable": false,
    "editable": false
   },
   "source": [
    "<!-- BEGIN QUESTION -->\n",
    "\n",
    "**Question 1.7.** Create an overlaid line plot showing how the `'Max_Popularity'` and `'Median_Popularity'` are related to `'Year'`. Give your plot an appropriate title.\n",
    "\n",
    "<!--\n",
    "BEGIN QUESTION\n",
    "name: q1_7\n",
    "manual: true\n",
    "points: 1\n",
    "-->"
   ]
  },
  {
   "cell_type": "code",
   "execution_count": null,
   "id": "02f6fefe",
   "metadata": {},
   "outputs": [],
   "source": [
    "# Create your plot here."
   ]
  },
  {
   "cell_type": "markdown",
   "id": "7b8769b8",
   "metadata": {},
   "source": [
    "<!-- END QUESTION -->\n",
    "\n",
    "\n",
    "\n",
    "**Question 1.8.** Let's explore the relationship between different variables in the `tswift` dataset. Specifically:\n",
    "- `'Loudness'` is the average loudness of a track measured on a relative scale in decibels. Values typically range between -60 (softer) and 0 (louder).\n",
    "- `'Energy'` is a 0 to 1 scale of a track's activity and intensity, where higher values are more energetic.\n",
    "\n",
    "In the cell below, create a plot that shows the relationship between `'Loudness'` (on the horizontal axis) and `'Energy'` (on the vertical axis) in Taylor Swift's songs. Include an appropriate title. We've included some additional code to draw the best-fitting line to describe the relationship between these variables. We'll learn more about best-fitting lines when we study regression later in the course!"
   ]
  },
  {
   "cell_type": "code",
   "execution_count": null,
   "id": "369e8160",
   "metadata": {},
   "outputs": [],
   "source": [
    "# Create your plot here.\n",
    "\n",
    "# The code below plots the line of best fit; do not alter it!\n",
    "x = tswift.get('Loudness')\n",
    "y = tswift.get('Energy')\n",
    "a, b = np.polyfit(x, y, 1)\n",
    "plt.plot(x, a * x + b, label='Line of Best Fit')        \n",
    "plt.legend()\n",
    "plt.show()"
   ]
  },
  {
   "cell_type": "markdown",
   "id": "fa70e643",
   "metadata": {
    "deletable": false,
    "editable": false
   },
   "source": [
    "What is the relationship between `'Loudness'` and `'Energy'` for Taylor Swift's songs? Set `q1_8` to either 1, 2, or 3, corresponding to your choice from the options below. \n",
    "\n",
    "1. Louder songs tend to be higher in energy.\n",
    "1. Louder songs tend to be lower in energy.\n",
    "1. There is no clear relationship between `'Loudness'` and `'Energy'`.\n",
    "\n",
    "<!--\n",
    "BEGIN QUESTION\n",
    "name: q1_8\n",
    "points: 1\n",
    "-->"
   ]
  },
  {
   "cell_type": "code",
   "execution_count": null,
   "id": "3f7fc6f5",
   "metadata": {},
   "outputs": [],
   "source": [
    "q1_8 = ..."
   ]
  },
  {
   "cell_type": "code",
   "execution_count": null,
   "id": "a39511ca",
   "metadata": {
    "deletable": false,
    "editable": false
   },
   "outputs": [],
   "source": [
    "grader.check(\"q1_8\")"
   ]
  },
  {
   "cell_type": "markdown",
   "id": "cbfa2ce9",
   "metadata": {},
   "source": [
    "**Question 1.9.** Another one of Spotify's audio features is `'Valence'`, which measures the positivity, or \"happiness\", of a track on a 0 to 1 scale. Larger values correspond to more positive songs.\n",
    "\n",
    "In the cell below, create a plot that shows the relationship between `'Valence'` (on the horizontal axis) and `'Popularity'` (on the vertical axis) in Taylor Swift's songs. Include an appropriate title. As in the previous question, we've included code to plot the best-fitting line."
   ]
  },
  {
   "cell_type": "code",
   "execution_count": null,
   "id": "9f125a70",
   "metadata": {},
   "outputs": [],
   "source": [
    "# Create your plot here.\n",
    "\n",
    "# The code below plots the line of best fit; do not alter it!\n",
    "x = tswift.get('Valence')\n",
    "y = tswift.get('Popularity')\n",
    "a, b = np.polyfit(x, y, 1)\n",
    "plt.plot(x, a * x + b, label='Line of Best Fit')        \n",
    "plt.legend()\n",
    "plt.show()"
   ]
  },
  {
   "cell_type": "markdown",
   "id": "743ec2cd",
   "metadata": {
    "deletable": false,
    "editable": false
   },
   "source": [
    "What is the relationship between `'Valence'` and `'Popularity'` for Taylor Swift's songs? Set `q1_9` to either 1, 2, or 3, corresponding to your choice from the options below.\n",
    "\n",
    "1. Positive songs tend to be more popular.\n",
    "1. Positive songs tend to be less popular.\n",
    "1. There is no clear relationship between `'Valence'` and `'Popularity'`.\n",
    "\n",
    "<!--\n",
    "BEGIN QUESTION\n",
    "name: q1_9\n",
    "points: 1\n",
    "-->"
   ]
  },
  {
   "cell_type": "code",
   "execution_count": null,
   "id": "ee92d236",
   "metadata": {},
   "outputs": [],
   "source": [
    "q1_9 = ..."
   ]
  },
  {
   "cell_type": "code",
   "execution_count": null,
   "id": "91497c9b",
   "metadata": {
    "deletable": false,
    "editable": false
   },
   "outputs": [],
   "source": [
    "grader.check(\"q1_9\")"
   ]
  },
  {
   "cell_type": "markdown",
   "id": "fb158b7b",
   "metadata": {},
   "source": [
    "**Question 1.10.** Create a plot that visualizes the distribution of `'Valence'` for all of Taylor Swift's songs. Include an appropriate title."
   ]
  },
  {
   "cell_type": "code",
   "execution_count": null,
   "id": "556d19d5",
   "metadata": {
    "scrolled": true
   },
   "outputs": [],
   "source": [
    "# Create your plot here."
   ]
  },
  {
   "cell_type": "markdown",
   "id": "82cc9a01",
   "metadata": {
    "deletable": false,
    "editable": false
   },
   "source": [
    "Are Taylor Swift's songs more positive or negative on average?  Set `q1_10` to either 1 or 2, corresponding to your choice from the options below.\n",
    "\n",
    "1. Taylor Swift's songs are more positive on average.\n",
    "2. Taylor Swift's songs are more negative on average.\n",
    "\n",
    "<!--\n",
    "BEGIN QUESTION\n",
    "name: q1_10\n",
    "points: 1\n",
    "-->"
   ]
  },
  {
   "cell_type": "code",
   "execution_count": null,
   "id": "36916350",
   "metadata": {},
   "outputs": [],
   "source": [
    "q1_10 = ..."
   ]
  },
  {
   "cell_type": "code",
   "execution_count": null,
   "id": "0e746562",
   "metadata": {
    "deletable": false,
    "editable": false
   },
   "outputs": [],
   "source": [
    "grader.check(\"q1_10\")"
   ]
  },
  {
   "cell_type": "markdown",
   "id": "d78c794a",
   "metadata": {},
   "source": [
    "In the `tswift` DataFrame, the `'Mode'` of a song is 1 if the song is written in a major key or 0 if it's written in a minor key. Generally, songs in a major key (e.g. G major) sound more upbeat, bright, and fun, while songs in a minor key (e.g. D minor) sound more dark, sad, or serious.\n",
    "\n",
    "For example, the song `'Shake It Off'`, from the album `'1989'`, has a `'Mode'` of 1 because it was written in G major. Run the cell below and press play to hear a snippet of it right here in your notebook."
   ]
  },
  {
   "cell_type": "code",
   "execution_count": null,
   "id": "076e60a1",
   "metadata": {},
   "outputs": [],
   "source": [
    "play_spotify('3fthfkkvy9av3q3uAGVf7U')"
   ]
  },
  {
   "cell_type": "markdown",
   "id": "2a04360c",
   "metadata": {},
   "source": [
    "On the other hand, the song `'Look What You Made Me Do'`, from the album `'Reputation'`, has a `'Mode'` of 0 because it was written in A minor. Again, run the cell below and press play to hear a snippet of it."
   ]
  },
  {
   "cell_type": "code",
   "execution_count": null,
   "id": "f85a7342",
   "metadata": {},
   "outputs": [],
   "source": [
    "play_spotify('1P17dC1amhFzptugyAO7Il')"
   ]
  },
  {
   "cell_type": "markdown",
   "id": "259f8f37",
   "metadata": {},
   "source": [
    "**Question 1.11.** ⭐⭐ Create a plot that shows the number of songs in a minor key on each album, but **only among albums with at least two songs in a minor key**. Make sure your plot has a title and a legend that accurately describe what is being shown."
   ]
  },
  {
   "cell_type": "markdown",
   "id": "af317e76",
   "metadata": {
    "deletable": false,
    "editable": false
   },
   "source": [
    "<!-- BEGIN QUESTION -->\n",
    "\n",
    "<!--\n",
    "BEGIN QUESTION\n",
    "name: q1_11\n",
    "points: 2\n",
    "manual: true\n",
    "-->"
   ]
  },
  {
   "cell_type": "code",
   "execution_count": null,
   "id": "6c403340",
   "metadata": {},
   "outputs": [],
   "source": [
    "# Create your plot here."
   ]
  },
  {
   "cell_type": "markdown",
   "id": "2693b797",
   "metadata": {
    "deletable": false,
    "editable": false
   },
   "source": [
    "<!-- END QUESTION -->\n",
    "\n",
    "**Question 1.12.** Next, let's explore how certain audio features differ from one album to another. Since we only have audio features for songs, not albums, we'll calculate the values of an audio feature for an album by averaging the values of that audio feature across all songs on the album. For example, to compute the `'Energy'` of the `'Midnights'` album, we would compute the mean `'Energy'` of all songs on the `'Midnights'` album.\n",
    "\n",
    "Below, complete the implementation of the function `sort_albums_by`, which takes in the column name of an audio feature (e.g. `'Energy'`) and returns an array of the names of all ten Taylor Swift albums, with the albums sorted in descending order of the given feature. For example, `sort_albums_by('Energy')` would return an array whose first element is the name of the album with the highest mean `'Energy'` across all its songs.\n",
    "\n",
    "<!--\n",
    "BEGIN QUESTION\n",
    "name: q1_12\n",
    "points: 1\n",
    "-->"
   ]
  },
  {
   "cell_type": "code",
   "execution_count": null,
   "id": "1189d6fa",
   "metadata": {
    "scrolled": true
   },
   "outputs": [],
   "source": [
    "def sort_albums_by(feature):\n",
    "    ..."
   ]
  },
  {
   "cell_type": "code",
   "execution_count": null,
   "id": "1a959954",
   "metadata": {
    "deletable": false,
    "editable": false
   },
   "outputs": [],
   "source": [
    "grader.check(\"q1_12\")"
   ]
  },
  {
   "cell_type": "markdown",
   "id": "483df884",
   "metadata": {},
   "source": [
    "Now, run the cell below to see how the albums rank for each audio feature."
   ]
  },
  {
   "cell_type": "code",
   "execution_count": null,
   "id": "2a30c958",
   "metadata": {
    "scrolled": false
   },
   "outputs": [],
   "source": [
    "features = ['Popularity', 'Explicit', 'Danceability', 'Energy', 'Loudness',\n",
    "            'Speechiness', 'Acousticness', 'Instrumentalness', 'Liveness',\n",
    "            'Valence', 'Duration_ms', 'Tempo']\n",
    "\n",
    "for feature in features:\n",
    "    # These lines display the output nicely. You don't need to understand how they work.\n",
    "    display(Markdown(f\"Taylor Swift albums, in descending order of `'{feature}'`:\"))\n",
    "    display(Markdown(\"- \" + \", \".join(sort_albums_by(feature))))"
   ]
  },
  {
   "cell_type": "markdown",
   "id": "b760ca20",
   "metadata": {},
   "source": [
    "**Question 1.13.** Let's look closely at one result from above, duplicated below. Recall that `'Explicit'` is a Boolean variable that determines whether the song includes explicit words. 🤬"
   ]
  },
  {
   "cell_type": "code",
   "execution_count": null,
   "id": "541478e2",
   "metadata": {},
   "outputs": [],
   "source": [
    "display(Markdown(f\"Taylor Swift albums, in descending order of `'Explicit'`:\"))\n",
    "display(Markdown(\"- \" + \", \".join(sort_albums_by('Explicit'))))"
   ]
  },
  {
   "cell_type": "markdown",
   "id": "09095c8f",
   "metadata": {
    "deletable": false,
    "editable": false
   },
   "source": [
    "What can you conclude based only on the information displayed by the cell above? Assign a list with the numbers of all the true statements to the variable `q1_13`.\n",
    "\n",
    "1. There are more explicit words in `'evermore'` than in `'Midnights'`. \n",
    "2. A higher fraction of songs on `'evermore'` use explicit words than on `'Midnights'`.\n",
    "3. There are more songs that use explicit words in `'evermore'` than on `'Midnights'`.\n",
    "4. If you randomly select a song from `'evermore'`, the probability it contains explicit words exceeds the probability that a randomly selected song from `'Midnights'` contains explicit words. \n",
    "\n",
    "<!--\n",
    "BEGIN QUESTION\n",
    "name: q1_13\n",
    "points: 1\n",
    "-->"
   ]
  },
  {
   "cell_type": "code",
   "execution_count": null,
   "id": "d9a9e39e",
   "metadata": {},
   "outputs": [],
   "source": [
    "q1_13 = ..."
   ]
  },
  {
   "cell_type": "code",
   "execution_count": null,
   "id": "9f9f5029",
   "metadata": {
    "deletable": false,
    "editable": false
   },
   "outputs": [],
   "source": [
    "grader.check(\"q1_13\")"
   ]
  },
  {
   "cell_type": "markdown",
   "id": "e0f8fecd",
   "metadata": {},
   "source": [
    "**Question 1.14.** ⭐⭐ While Taylor Swift is primarily a solo artist, she has collaborated with other artists on a number of songs. For example, she featured Lana Del Rey in the song `'Snow On The Beach (Ft. Lana Del Rey)'` and HAIM in `'no body, no crime (Ft. HAIM)'`. All the collaborative songs in `tswift` are indicated by `'Ft.'` in the name of the song, just like in these examples.\n",
    "\n",
    "Create an overlaid vertical bar chart that allows you to compare the average values of `'Explicit'`, `'Danceability'` and `'Acousticness'` for collaborative songs versus solo songs. Make sure your plot has a title and a legend that accurately describes what is being shown."
   ]
  },
  {
   "cell_type": "code",
   "execution_count": null,
   "id": "78e6e982",
   "metadata": {},
   "outputs": [],
   "source": [
    "# Create your plot here."
   ]
  },
  {
   "cell_type": "markdown",
   "id": "3a144a3a",
   "metadata": {
    "deletable": false,
    "editable": false
   },
   "source": [
    "Do collaborative songs have higher values of `'Explicit'`, `'Danceability'`, and `'Acousticness'` than solo songs, on average? Assign a list with the numbers of all the true statements to the variable `q1_14`.\n",
    "\n",
    "1. Collaborative songs have a higher value of `'Explicit'` than solo songs, on average.\n",
    "1. Collaborative songs have a higher value of `'Danceability'` than solo songs, on average.\n",
    "1. Collaborative songs have a higher value of `'Acousticness'` than solo songs, on average.\n",
    "\n",
    "<!--\n",
    "BEGIN QUESTION\n",
    "name: q1_14\n",
    "points: 2\n",
    "-->"
   ]
  },
  {
   "cell_type": "code",
   "execution_count": null,
   "id": "a775c279",
   "metadata": {},
   "outputs": [],
   "source": [
    "q1_14 = ..."
   ]
  },
  {
   "cell_type": "code",
   "execution_count": null,
   "id": "31bf2f6b",
   "metadata": {
    "deletable": false,
    "editable": false
   },
   "outputs": [],
   "source": [
    "grader.check(\"q1_14\")"
   ]
  },
  {
   "cell_type": "markdown",
   "id": "145d27af",
   "metadata": {},
   "source": [
    "<a id='section2'></a>\n",
    "## Section 2: Song Recommender 🎧\n",
    "\n",
    "> Your favorite song was playing from the far side of the gym.\n",
    "\n",
    "<small>(<a href=\"#outline\">return to the outline</a>)</small>"
   ]
  },
  {
   "cell_type": "markdown",
   "id": "ebcc1736",
   "metadata": {},
   "source": [
    "In this section, we'll create a Taylor Swift song recommender tool. The tool will allow you to input a song you like, selected from a collection of popular songs  on Spotify, and it will recommend to you the songs in Taylor Swift's body of work that are most similar to your input song.\n",
    "\n",
    "We are already familiar with the `tswift` DataFrame; this contains the Taylor Swift songs from which we will make our recommendations.  \n",
    "\n",
    "We will also use a separate dataset of allowed input songs. For this, we have a collection of popular songs with more than one billion streams on Spotify. Let's load in this data and store it in the DataFrame `billions_club`. `billions_club` contains all the same columns as `tswift`, except that it doesn't have a `'Year'` column, and it has an additional column named `'Artist'`, because it includes songs by a variety of artists."
   ]
  },
  {
   "cell_type": "code",
   "execution_count": null,
   "id": "510ea4b1",
   "metadata": {
    "scrolled": false
   },
   "outputs": [],
   "source": [
    "billions_club = bpd.read_csv('data/billions_club.csv').set_index('URI')\n",
    "billions_club"
   ]
  },
  {
   "cell_type": "markdown",
   "id": "56c2ca54",
   "metadata": {},
   "source": [
    "The goal in this section is to find a song in the `billions_club` DataFrame that we like and use it as an input to our recommender tool to find Taylor Swift songs with a similar sound. The problem is, in the preview of the DataFrame above, we can only see the first few rows and the last few rows of `billions_club`, so it's hard to see all of the possible songs we can choose from. Let's browse the DataFrame by randomly selecting ten rows to display. "
   ]
  },
  {
   "cell_type": "code",
   "execution_count": null,
   "id": "bc85109d",
   "metadata": {
    "scrolled": true
   },
   "outputs": [],
   "source": [
    "# Run this cell a few times!\n",
    "billions_club.sample(10).get(['Song Name', 'Artist'])"
   ]
  },
  {
   "cell_type": "markdown",
   "id": "0937597a",
   "metadata": {
    "deletable": false,
    "editable": false
   },
   "source": [
    "**Question 2.1.** Run the previous cell a few times until you find a song you like; you'll use this song as the input to the recommender tool. Record the `'URI'` of your favorite song in the variable `favorite_uri`. You should just input this value manually based on what you find from browsing the DataFrame. (You can double-click a value in the index to highlight it, and then copy and paste it below.)\n",
    "\n",
    "Then, using code, find the `'Song Name'` of this song and save it in the variable `favorite_song_name`.\n",
    "\n",
    "<!--\n",
    "BEGIN QUESTION\n",
    "name: q2_1\n",
    "points: 1\n",
    "-->"
   ]
  },
  {
   "cell_type": "code",
   "execution_count": null,
   "id": "22652661",
   "metadata": {},
   "outputs": [],
   "source": [
    "favorite_uri = ...\n",
    "favorite_song_name = ...\n",
    "\n",
    "print(f'My favorite song is {favorite_song_name}. It has a URI of {favorite_uri}.')"
   ]
  },
  {
   "cell_type": "code",
   "execution_count": null,
   "id": "b69d75f5",
   "metadata": {
    "deletable": false,
    "editable": false
   },
   "outputs": [],
   "source": [
    "grader.check(\"q2_1\")"
   ]
  },
  {
   "cell_type": "markdown",
   "id": "085e87b7",
   "metadata": {},
   "source": [
    "You can also listen to a preview of your favorite song in the notebook by running the cell below and pressing play."
   ]
  },
  {
   "cell_type": "code",
   "execution_count": null,
   "id": "42e40ab2",
   "metadata": {},
   "outputs": [],
   "source": [
    "play_spotify(favorite_uri) "
   ]
  },
  {
   "cell_type": "markdown",
   "id": "4a39a284",
   "metadata": {},
   "source": [
    "We will allow our recommender tool to base its recommendations on a customizable set of audio features. When not specified, the tool will use *all* of the audio features that are measured on a 0 to 1 scale, which we'll store in the variable `default_features`. But you can choose to use only a subset of these features when asking for recommendations, based on whatever is important to you!"
   ]
  },
  {
   "cell_type": "code",
   "execution_count": null,
   "id": "3b0c6ec4",
   "metadata": {},
   "outputs": [],
   "source": [
    "default_features = [\n",
    "    'Danceability', \n",
    "    'Energy',\n",
    "    'Speechiness',\n",
    "    'Acousticness',\n",
    "    'Instrumentalness',\n",
    "    'Liveness',\n",
    "    'Valence'\n",
    "]"
   ]
  },
  {
   "cell_type": "markdown",
   "id": "378115fc",
   "metadata": {},
   "source": [
    "Let's start building our recommender tool! \n",
    "\n",
    "The first step of the process is to extract the features of our favorite song from a DataFrame of songs. The thing is, each song is stored as a row of a DataFrame, and we don't have any experience accessing full rows of DataFrames. We typically access entire columns of data using `.get`, but we've never needed to access whole rows before. \n",
    "\n",
    "It turns out that the `.loc` accessor that we've used on Series also works on DataFrames. If we use `.loc` directly on a DataFrame, we can extract the contents of an individual row as a Series. When all the values in a row are of the same data type, we can then convert that Series into an array. \n",
    "\n",
    "For example, the next cell creates a small example DataFrame."
   ]
  },
  {
   "cell_type": "code",
   "execution_count": null,
   "id": "745f0217",
   "metadata": {
    "scrolled": false
   },
   "outputs": [],
   "source": [
    "example_df = bpd.DataFrame().assign(x=[1, 2], y=[3, 4], z=[5, 6])\n",
    "example_df"
   ]
  },
  {
   "cell_type": "markdown",
   "id": "ff52a97d",
   "metadata": {},
   "source": [
    "We can extract the values from the second row of `example_df` as follows."
   ]
  },
  {
   "cell_type": "code",
   "execution_count": null,
   "id": "ecc32d4a",
   "metadata": {},
   "outputs": [],
   "source": [
    "example_df.loc[1]"
   ]
  },
  {
   "cell_type": "markdown",
   "id": "820910d4",
   "metadata": {},
   "source": [
    "Notice that this is a Series whose index values are the column names of `example_df`. If we want to work with the values in this Series an array, we can convert the Series to an array."
   ]
  },
  {
   "cell_type": "code",
   "execution_count": null,
   "id": "265433f0",
   "metadata": {},
   "outputs": [],
   "source": [
    "np.array(example_df.loc[1])"
   ]
  },
  {
   "cell_type": "markdown",
   "id": "700fb5dd",
   "metadata": {
    "deletable": false,
    "editable": false
   },
   "source": [
    "**Question 2.2.** Use what you just learned about accessing rows to complete the implementation of the function `get_feature_values`. The inputs to `get_feature_values` are:\n",
    "- `input_uri`, the `'URI'` of a song whose features you want to extract as an array.\n",
    "- `song_df`, a DataFrame that has a row corresponding to the song with the given `input_uri` and columns containing audio features.\n",
    "- `feature_list`, a list of features to extract.\n",
    "\n",
    "It should return an **array** containing the values of the specified features for the song, in the order that they appear in `feature_list`. If there is no song with the given `input_uri` in `song_df`, the function should print `'This URI was not found.'` and return `None`. (`None` is a special Python keyword; it should not go in quotes, and it will turn green when you type it.)\n",
    "\n",
    "Example behavior is given below.\n",
    "\n",
    "```py\n",
    "# This URI corresponds to the song \"Creepin' (with The Weeknd & 21 Savage)\".\n",
    "# Query for it in billions_club; you'll see that its 'Valence', 'Instrumentalness', and 'Energy'\n",
    "# match the values in the array below.\n",
    ">>> get_feature_values('2dHHgzDwk4BJdRwy9uXhTO', billions_club, ['Valence', 'Instrumentalness', 'Energy'])\n",
    "array([0.172, 0.   , 0.62 ])\n",
    "```\n",
    "\n",
    "After implementing your function, use it to extract some audio features from your favorite song in `billions_club`, whose `'URI'` was stored in `favorite_uri`. You can use any of the audio features in `default_features` that you like.\n",
    "\n",
    "***Hint:*** Use the `in` keyword to check if `input_uri` is a valid `'URI'`. \n",
    "\n",
    "***Note:*** We're writing a very general function that allows `song_df` to be any DataFrame of songs. For now, we'll only call the function with `billions_club` as `song_df`, but later in this section, we'll see how to use the function with `song_df` set to something else.\n",
    "\n",
    "<!--\n",
    "BEGIN QUESTION\n",
    "name: q2_2\n",
    "points: 1\n",
    "-->"
   ]
  },
  {
   "cell_type": "code",
   "execution_count": null,
   "id": "7b6d9cd4",
   "metadata": {},
   "outputs": [],
   "source": [
    "def get_feature_values(input_uri, song_df, feature_list):\n",
    "    ...\n",
    "\n",
    "# Now call your function to extract some audio features of your favorite song.\n",
    "get_feature_values(favorite_uri, billions_club, ['Danceability', 'Energy'])"
   ]
  },
  {
   "cell_type": "code",
   "execution_count": null,
   "id": "f9efb55c",
   "metadata": {
    "deletable": false,
    "editable": false
   },
   "outputs": [],
   "source": [
    "grader.check(\"q2_2\")"
   ]
  },
  {
   "cell_type": "markdown",
   "id": "8e468c3f",
   "metadata": {},
   "source": [
    "We now know how to extract the features of a song (as an array) from a DataFrame using `get_feature_values`. But, what will we do with this feature array once we extract it? We'll want to compare the features of our song to the features of each Taylor Swift song to identify the Taylor Swift songs that are most similar to the song we selected. Since each audio feature is numerical, we need a way to compare two arrays of numbers and measure the similarity between them.\n",
    "\n",
    "For this, we'll use the Euclidean distance, which you may know more simply as just \"distance\". Euclidean distance is a fundamental concept in mathematics (more specifically, geometry) used to measure how far away two points are. We're most familiar with this concept in two dimensions, where it corresponds to the distance between two points in the plane. Here is the distance formula in two dimensions:\n",
    "\n",
    "<p style=\"text-align: center;\"><strong>Distance between two points $(x_1, y_1)$ and $(x_2, y_2)$ in 2 dimensions:</strong></p>\n",
    "\n",
    "<p style=\"text-align: center;\">$d = \\sqrt{(x_2 - x_1)^2 + (y_2 - y_1)^2}$</p>\n",
    "\n",
    "<img src=\"data/images/distance.png\" width=30%>\n",
    "\n",
    "The picture above shows that the distance formula is really an application of the Pythagorean theorem relating the side lengths of a right triangle: $c^2 = a^2 + b^2$.\n",
    "\n",
    "However, Euclidean distance is not limited to two dimensions; it can be generalized to more dimensions. In general, in $n$-dimensional space (where $n$ can be any positive integer), we can generalize the Euclidean distance formula as follows:\n",
    "\n",
    "<p style=\"text-align: center;\"><strong>Distance between two points $(x_1, x_2, \\ldots, x_n)$ and $(y_1, y_2, \\ldots, y_n)$ in $n$ dimensions:</strong></p>\n",
    " \n",
    "<p style=\"text-align: center;\">$d = \\sqrt{(x_1 - y_1)^2 + (x_2 - y_2)^2 + \\ldots + (x_n - y_n)^2}$</p>\n",
    "\n",
    "What can we do with this? For our application, let's think of the feature array for a given song as a point in $n$-dimensional space. For example, if the features we care about are `['Valence', 'Acousticness', 'Energy']`, then for any given song, we have a point in 3-dimensional space. Then, to measure how similar two songs are, we can compute the Euclidean distance between their two points in 3-dimensional space. **The closer this distance is to 0, the more similar the two songs are!**\n",
    "\n",
    "For instance, suppose we want to compute the similarity between the songs `'Bad Blood'` by `'Taylor Swift'` and `'What Makes You Beautiful'` by `'One Direction'` using the aforementioned three features. Using `get_feature_values`:\n",
    "- `'Bad Blood'` has the feature array `np.array([0.287, 0.0885, 0.794])`, and\n",
    "- `'What Makes You Beautiful'` has the feature array `np.array([0.888, 0.009, 0.787])`.\n",
    "\n",
    "Then, the Euclidean distance between the two songs' points is:\n",
    "\n",
    "$$\\sqrt{(0.287 - 0.888)^2 + (0.0855 - 0.009)^2 + (0.794 - 0.787)^2} = 0.606275...$$"
   ]
  },
  {
   "cell_type": "markdown",
   "id": "62615288",
   "metadata": {
    "deletable": false,
    "editable": false
   },
   "source": [
    "**Question 2.3.** ⭐⭐ Now, let's apply the concept of Euclidean distance to calculate the similarity between two songs. Complete the implementation of the function `calculate_similarity` below. This function takes in two arrays of the same length, which we can think of as two points in $n$-dimensional space, where $n$ is the length of each array. The function should output the Euclidean distance between these two points, as a float, with no rounding.\n",
    "\n",
    "Example behavior is given below.\n",
    "\n",
    "```py\n",
    "# Note: We've hard-coded the inputs to calculate_similarity just for this example;\n",
    "# typically, you'll find feature arrays by calling your get_feature_values function.\n",
    ">>> calculate_similarity(np.array([0.287, 0.0885, 0.794]), np.array([0.888, 0.009, 0.787]))\n",
    "0.6062757211038555\n",
    "```\n",
    "\n",
    "Then, use both the `calculate_similarity` and the `get_feature_values` functions you've defined to calculate the similarity (Euclidean distance) between your favorite song and the Taylor Swift song `'Karma'`, based on the features `'Danceability'`, `'Energy'`, `'Valence'`, and `'Acousticness'`. Store your result in `favorite_vs_karma`. \n",
    "\n",
    "<!--\n",
    "BEGIN QUESTION\n",
    "name: q2_3\n",
    "points: 2\n",
    "-->"
   ]
  },
  {
   "cell_type": "code",
   "execution_count": null,
   "id": "3bbc0c49",
   "metadata": {},
   "outputs": [],
   "source": [
    "def calculate_similarity(features_1, features_2):\n",
    "    ...\n",
    "\n",
    "favorite_vs_karma = ...\n",
    "favorite_vs_karma"
   ]
  },
  {
   "cell_type": "code",
   "execution_count": null,
   "id": "bfa8c55a",
   "metadata": {
    "deletable": false,
    "editable": false
   },
   "outputs": [],
   "source": [
    "grader.check(\"q2_3\")"
   ]
  },
  {
   "cell_type": "markdown",
   "id": "d3b5d12c",
   "metadata": {
    "deletable": false,
    "editable": false
   },
   "source": [
    "**Question 2.4.** ⭐⭐ So far, we know how to compute the similarity between two particular songs. Now, let's extend what we've learned to compute the similarity between a given song and *each* of the Taylor Swift songs in `tswift`. \n",
    "\n",
    "Use the two functions you've defined so far in this section (`get_feature_values` and `calculate_similarity`) to complete the implementation of the function `calculate_similarity_for_all`. This function should calculate the similarity scores between the input song and each of the Taylor Swift songs in `tswift`, one by one, and output an array of similarity scores.  The inputs to `calculate_similarity_for_all` are:\n",
    "\n",
    "- `input_uri`, the `'URI'` of a song whose features you will compare to each song in `tswift`.\n",
    "- `song_df`, a DataFrame that has a row corresponding to the song with the given `input_uri` and columns containing audio features.\n",
    "- `feature_list`, a list of features to include in the similarity score.\n",
    "\n",
    "Make sure your output array has the similarities of all songs in the order they appear in the `tswift` DataFrame. For example, if the first song in `tswift` is `'Anti-Hero'` (it may not be), then the first element of your output array should be the similarity between the input song and `'Anti-Hero'`.\n",
    "\n",
    "While we don't normally iterate through DataFrames, Series, or indexes, in this question, you should use a `for`-loop to iterate through the values in the index of `tswift`, extracting the features from one Taylor Swift song at a time and using those features to compute the similarity with the input song.\n",
    "\n",
    "A sample function call is provided. Feel free to try other example inputs.\n",
    "<!--\n",
    "BEGIN QUESTION\n",
    "name: q2_4\n",
    "points: 2\n",
    "-->"
   ]
  },
  {
   "cell_type": "code",
   "execution_count": null,
   "id": "b1f3a21f",
   "metadata": {},
   "outputs": [],
   "source": [
    "def calculate_similarity_for_all(input_uri, song_df, feature_list):\n",
    "    similarity_scores = ...\n",
    "    return similarity_scores\n",
    "\n",
    "# Feel free to comment this line out or change the arguments!\n",
    "calculate_similarity_for_all(favorite_uri, billions_club, ['Danceability', 'Energy', 'Valence', 'Acousticness'])"
   ]
  },
  {
   "cell_type": "code",
   "execution_count": null,
   "id": "680a9081",
   "metadata": {
    "deletable": false,
    "editable": false
   },
   "outputs": [],
   "source": [
    "grader.check(\"q2_4\")"
   ]
  },
  {
   "cell_type": "markdown",
   "id": "4f78a564",
   "metadata": {
    "deletable": false,
    "editable": false
   },
   "source": [
    "**Question 2.5.** Now that we have the similarity scores between our input song and every single Taylor Swift song, let's use them to find the Taylor Swift songs that are most similar to our input song. Complete the implementation of the function `select_top_recommendations`, which takes in an array `similarity_scores`, like the one you just created, and a positive integer `n`. The function should return a DataFrame of the `n` songs from `tswift` that correspond to the `n` **lowest** values in `similarity_scores`, sorted in increasing order of similarity score.\n",
    "- Remember, the most similar songs are the ones whose similarity scores are lowest, because songs are more similar when they have a lower Euclidean distance.\n",
    "- The DataFrame returned by `select_top_recommendations` should have all the same columns as `tswift`, though as mentioned above, it should only have `n` rows.\n",
    "\n",
    "***Hint:*** You may want to add a new column to your DataFrame containing the contents of `similarity_scores`. Make sure to drop this column at the end, so that your output DataFrame has exactly `n` rows and 20 columns.\n",
    "<!--\n",
    "BEGIN QUESTION\n",
    "name: q2_5\n",
    "points: 1\n",
    "-->"
   ]
  },
  {
   "cell_type": "code",
   "execution_count": null,
   "id": "8ff18a57",
   "metadata": {},
   "outputs": [],
   "source": [
    "def select_top_recommendations(similarity_scores, n):\n",
    "    ..."
   ]
  },
  {
   "cell_type": "code",
   "execution_count": null,
   "id": "4d64bffa",
   "metadata": {
    "deletable": false,
    "editable": false
   },
   "outputs": [],
   "source": [
    "grader.check(\"q2_5\")"
   ]
  },
  {
   "cell_type": "markdown",
   "id": "be12cd38",
   "metadata": {
    "deletable": false,
    "editable": false
   },
   "source": [
    "**Question 2.6.** It's time to combine everything we've implemented so far into a single function. Below, complete the \n",
    "implementation of the function `song_recommender`. The inputs to `song_recommender` are:\n",
    "\n",
    "- `input_uri`, the `'URI'` of a song which you want to find recommendations similar to.\n",
    "- `song_df`, a DataFrame that has a row corresponding to the song with the given `input_uri` and columns containing audio features.\n",
    "- `n`, the number of top-matching songs to be shown.\n",
    "- `feature_list`, a list of features to include in the similarity computation. This is an optional parameter; if not included, the similarity should be based on all features in `default_features`.\n",
    " \n",
    "The output should be an `n`-row DataFrame whose index contains `'URI'`s and whose only columns are `'Album'`, `'Song Name'`, and the columns included in `feature_list`. Each row in the returned DataFrame should correspond to a song; the songs should be sorted in decreasing order of similarity (that is, in increasing order of similarity score – the same way that the rows are ordered in the output of `select_top_recommendations`).\n",
    "\n",
    "***Hints:***\n",
    "- You've done most of the work already. It's possible to solve this problem in one (long) line of code. We say this not to encourage you to write one long line of code, but to emphasize that you don't need to write a ton of code within the body of `song_recommender`.\n",
    "- The `+` symbol, when placed between two lists, concatenates the lists, just like when the `+` symbol is placed between two strings, it concatenates the strings. This will be useful when making sure that your output DataFrame has only certain columns.\n",
    "<!--\n",
    "BEGIN QUESTION\n",
    "name: q2_6\n",
    "points: 1\n",
    "-->"
   ]
  },
  {
   "cell_type": "code",
   "execution_count": null,
   "id": "d61ae78f",
   "metadata": {},
   "outputs": [],
   "source": [
    "def song_recommender(input_uri, song_df, n, feature_list=default_features):\n",
    "    ...\n",
    "    \n",
    "# The following call to song_recommender finds the 5 Taylor Swift songs\n",
    "# that are most similar to your chosen song, in terms of 'Danceability' and 'Energy'.\n",
    "# We've also include a print statement to help you interpet the output.\n",
    "print(f'Taylor Swift songs that are most similar to {favorite_song_name}:')\n",
    "song_recommender(favorite_uri, billions_club, 5, ['Danceability', 'Energy'])"
   ]
  },
  {
   "cell_type": "code",
   "execution_count": null,
   "id": "d3e40f5c",
   "metadata": {
    "deletable": false,
    "editable": false
   },
   "outputs": [],
   "source": [
    "grader.check(\"q2_6\")"
   ]
  },
  {
   "cell_type": "markdown",
   "id": "c4efaf94",
   "metadata": {},
   "source": [
    "Nice work! You now have the ability to pick a song you like and audio features that are important to you and use your function to get back recommendations of Taylor Swift songs that are similar to the song you chose.\n",
    "\n",
    "But wait – it gets cooler.\n",
    "\n",
    "The cell below is long, but it sets up an interactive widget, which allows you to choose any song in `billions_club` from a dropdown menu and plays for you the 5 most similar songs from Taylor Swift's repertoire, according to all of the features in `default_features`. Run the cell below to check it out!"
   ]
  },
  {
   "cell_type": "code",
   "execution_count": null,
   "id": "623974e2",
   "metadata": {},
   "outputs": [],
   "source": [
    "# Run this cell. Don't change any of the code.\n",
    "default = 'Bank Account by 21 Savage'\n",
    "\n",
    "def get_and_format_recommendations(song_name):\n",
    "    song, artist = song_name.split(' by ')\n",
    "    row = billions_club[(billions_club.get('Song Name') == song) & (billions_club.get('Artist') == artist)]\n",
    "    uri = row.index[0]\n",
    "    recommendations_df = song_recommender(uri, billions_club, 5, default_features)\n",
    "    display(HTML(f'<h3>The song you chose was {billions_club.get(\"Song Name\").loc[uri]} by {billions_club.get(\"Artist\").loc[uri]}.</h3>'))\n",
    "    play_spotify(uri)\n",
    "    display(HTML('<h4>Here are the 5 most similar Taylor Swift songs we found.</h4>'))\n",
    "    for recommended_uri in recommendations_df.index:\n",
    "        play_spotify(recommended_uri)\n",
    "\n",
    "song_options = np.sort(billions_club.get('Song Name') + ' by ' + billions_club.get('Artist'))\n",
    "song_widget = widgets.Dropdown(options=song_options, description='Song', layout={'width': '525px'}, value=default)\n",
    "   \n",
    "def change_rec(change):\n",
    "    if change['name'] == 'value' and change['new'] != change['old']:\n",
    "        clear_output()\n",
    "        display(song_widget)\n",
    "        get_and_format_recommendations(song_widget.value)\n",
    "\n",
    "display(song_widget)\n",
    "get_and_format_recommendations(default)\n",
    "song_widget.observe(change_rec)"
   ]
  },
  {
   "cell_type": "markdown",
   "id": "1b927a34",
   "metadata": {},
   "source": [
    "You did all of the calculations behind-the-scenes to make this widget work – nice job!"
   ]
  },
  {
   "cell_type": "markdown",
   "id": "136c41b7",
   "metadata": {},
   "source": [
    "**Question 2.7.** ⭐️⭐️ Up until now, our goal has been to find the songs in `tswift` that are most similar to our chosen song in `billions_club`. That's what the above widget does.\n",
    "\n",
    "However, we can also use the functions we've defined to determine the similarity between any pair of songs in `tswift`, since all of the functions we've defined so far in this section take a `song_df` as an input.\n",
    "\n",
    "To wrap up Section 2, complete the implementation of the function `most_similar_pair`, which takes in a single argument, a `feature_list`, and returns **an array of length two containing the names of the two songs in `tswift` that are the most similar to one another**, according to the features in `feature_list`. The returned array can have these two songs in either order.\n",
    "\n",
    "Remember, the more similar two songs are, the lower their similarity score (Euclidean distance). What you need to find, then, is the pair of songs with the lowest similarity score. To do this, you'll need to find the similarity scores between all pairs of Taylor Swift songs. Make sure the two songs you find are actually different songs, and not the same song twice! \n",
    "\n",
    "This is a tough problem, but we've provided many hints as comments. Before writing any code, try to think conceptually of the steps that need to be performed."
   ]
  },
  {
   "cell_type": "code",
   "execution_count": null,
   "id": "4f04d9d4",
   "metadata": {},
   "outputs": [],
   "source": [
    "def most_similar_pair(feature_list=default_features):\n",
    "    # Initialize an empty array to store the most similar pair of songs.\n",
    "    # This is NOT an accumulator pattern question, where you append to pair_of_songs in a loop.\n",
    "    # Instead, when you find a pair of songs that's more similar than the\"most similar pair\" \n",
    "    # you've ever seen, you'll update this array to contain those two songs instead.\n",
    "    pair_of_songs = np.array([])\n",
    "    \n",
    "    # Any time you find a pair of songs that's more similar than any pair you've ever seen,\n",
    "    # you should update this variable. We initialize it to 1.01 because the maximum possible\n",
    "    # similarity score is 1, so we know that this variable will be updated in the first iteration\n",
    "    # of the for-loop, corresponding to the most similar pair of songs we've seen so far.\n",
    "    lowest_similarity_score_seen = 1.01\n",
    "    \n",
    "    # Loop over the URIs of Taylor Swift's songs.\n",
    "    for uri in tswift.index:\n",
    "        # Calculate similarities between this song and all other Taylor Swift songs.\n",
    "        similarities = ...\n",
    "        \n",
    "        # Add the array of similarity scores as a column to tswift.\n",
    "        # Sort the rows so that the most similar songs are at the top.\n",
    "        with_similarities = ...\n",
    "        \n",
    "        # Every song will have a similarity score (distance) of 0 with itself,\n",
    "        # so if we just take the smallest similarity score, we'll end up with two of the same song. \n",
    "        # Take the second-smallest similarity to account for this.\n",
    "        current_lowest_similarity_score = ...\n",
    "        if current_lowest_similarity_score < lowest_similarity_score_seen: \n",
    "            # Update the lowest_similarity_score_seen and pair_of_songs variables.\n",
    "            # Make sure to get the names of the songs from the with_similarities DataFrame.\n",
    "            ...\n",
    "        \n",
    "    return pair_of_songs\n",
    "\n",
    "# Once you've implemented the function, run this cell to try out an example function call.\n",
    "# DON'T CHANGE the function call below, but you can make other function calls in new cells.\n",
    "# It's totally fine if it takes up to a minute to run each function call.\n",
    "most_similar_dance_acoustic = most_similar_pair(['Danceability', 'Acousticness'])\n",
    "most_similar_dance_acoustic"
   ]
  },
  {
   "cell_type": "code",
   "execution_count": null,
   "id": "ce6f5705",
   "metadata": {
    "deletable": false,
    "editable": false
   },
   "outputs": [],
   "source": [
    "grader.check(\"q2_7\")"
   ]
  },
  {
   "cell_type": "markdown",
   "id": "80e3c701",
   "metadata": {},
   "source": [
    "Let's put your hard work to good use. Run the cell below to find and play the pair of Taylor Swift songs that are most similar to one another, according to all the features in `default_features`."
   ]
  },
  {
   "cell_type": "code",
   "execution_count": null,
   "id": "fa2c26c7",
   "metadata": {},
   "outputs": [],
   "source": [
    "name_1, name_2 = most_similar_pair()\n",
    "uri_1 = tswift[tswift.get('Song Name') == name_1].index[0]\n",
    "uri_2 = tswift[tswift.get('Song Name') == name_2].index[0]\n",
    "play_spotify(uri_1)\n",
    "play_spotify(uri_2)"
   ]
  },
  {
   "cell_type": "markdown",
   "id": "e4814983",
   "metadata": {},
   "source": [
    "What do you think – do they sound similar? If not, you may want to check your code!\n",
    "\n",
    "Right before Question 2.7, you got to interact with a widget that let you choose a song from `billions_club` and played the 5 most similar Taylor Swift songs, according to all features in `default_features`. Run the cell below to see a similar widget, but where the possible song options are songs in `tswift`. This time, songs are sorted first by album in alphabetical order, then by song name in alphabetical order."
   ]
  },
  {
   "cell_type": "code",
   "execution_count": null,
   "id": "55bcca70",
   "metadata": {},
   "outputs": [],
   "source": [
    "# Run this cell. Don't change any of the code.\n",
    "default_tswift = 'Enchanted, from the album Speak Now'\n",
    "\n",
    "def get_and_format_recommendations_tswift(song_name):\n",
    "    song, album = song_name.split(', from the album ')\n",
    "    \n",
    "    row = tswift[(tswift.get('Song Name') == song)]\n",
    "    uri = row.index[0]\n",
    "    recommendations_df = song_recommender(uri, tswift, 6, default_features)\n",
    "    display(HTML(f'<h3>The song you chose was {tswift.get(\"Song Name\").loc[uri]}, from the album {tswift.get(\"Album\").loc[uri]}.</h3>'))\n",
    "    play_spotify(recommendations_df.index[0])\n",
    "    display(HTML('<h4>Here are the 5 most similar <b>other</b> Taylor Swift songs we found.</h4>'))\n",
    "    for recommended_uri in recommendations_df.index[1:]:\n",
    "        play_spotify(recommended_uri)\n",
    "\n",
    "by_album = tswift.sort_values(['Album', 'Disc Number', 'Track Number'])\n",
    "song_options_tswift = np.array(by_album.get('Song Name') + ', from the album ' + by_album.get('Album'))\n",
    "song_widget_tswift = widgets.Dropdown(options=song_options_tswift, description='Song', layout={'width': '525px'}, value=default_tswift)\n",
    "   \n",
    "def change_rec_tswift(change):\n",
    "    if change['name'] == 'value' and change['new'] != change['old']:\n",
    "        clear_output()\n",
    "        display(song_widget_tswift)\n",
    "        get_and_format_recommendations_tswift(song_widget_tswift.value)\n",
    "\n",
    "display(song_widget_tswift)\n",
    "get_and_format_recommendations_tswift(default_tswift)\n",
    "song_widget_tswift.observe(change_rec_tswift)"
   ]
  },
  {
   "cell_type": "markdown",
   "id": "70a33944",
   "metadata": {},
   "source": [
    "Awesome job! Have you found any new songs to listen to? We have... 🎶"
   ]
  },
  {
   "cell_type": "markdown",
   "id": "803df07b",
   "metadata": {},
   "source": [
    "<a id='section3'></a>\n",
    "## Section 3: Lyric Searcher 🔍\n",
    "\n",
    "> Dark side, I search for your dark side.\n",
    "\n",
    "<small>(<a href=\"#outline\">return to the outline</a>)</small>"
   ]
  },
  {
   "cell_type": "markdown",
   "id": "2442e772",
   "metadata": {},
   "source": [
    "In this section, we'll create a Taylor Swift lyric searcher similar to [this online tool](https://shaynak.github.io/taylor-swift/) created by Shayna Kothari, a software engineer at Facebook. Run the next cell and try inputting some search terms to explore what it does!"
   ]
  },
  {
   "cell_type": "code",
   "execution_count": null,
   "id": "5b9c8ceb",
   "metadata": {},
   "outputs": [],
   "source": [
    "display(IFrame(src=\"https://shaynak.github.io/taylor-swift\", width=800, height=600))"
   ]
  },
  {
   "cell_type": "markdown",
   "id": "dfba83df",
   "metadata": {},
   "source": [
    "Creating our own version of this search tool will involve multiple steps, but we'll start simple and gradually increase the complexity of our search. Our search tool will have some differences from the online tool, but it will be similar.\n",
    "\n",
    "To implement our lyric searcher, we won't need any of the musical data in `tswift`, just lyrics of the songs themselves. At this point in the project, we'll switch our attention to the `lyrics` DataFrame."
   ]
  },
  {
   "cell_type": "code",
   "execution_count": null,
   "id": "601c1554",
   "metadata": {},
   "outputs": [],
   "source": [
    "lyrics"
   ]
  },
  {
   "cell_type": "markdown",
   "id": "d29e3607",
   "metadata": {},
   "source": [
    "**Question 3.1.** To start, create a DataFrame named `casually_cruel` that has the same index and columns as `lyrics` and a row for each song that has the exact string `'casually cruel'` in the lyrics."
   ]
  },
  {
   "cell_type": "code",
   "execution_count": null,
   "id": "034d7e95",
   "metadata": {
    "scrolled": false
   },
   "outputs": [],
   "source": [
    "casually_cruel = ...\n",
    "casually_cruel"
   ]
  },
  {
   "cell_type": "code",
   "execution_count": null,
   "id": "2f03a113",
   "metadata": {
    "deletable": false,
    "editable": false
   },
   "outputs": [],
   "source": [
    "grader.check(\"q3_1\")"
   ]
  },
  {
   "cell_type": "markdown",
   "id": "3ba878c4",
   "metadata": {},
   "source": [
    "If you search the phrase `'casually cruel'` on the lyric searcher website, or if you're a big Swiftie, you'll recognize that there's another song, `'Mr. Perfectly Fine'`, that uses this same phrase, but for some reason, it's not appearing among our search results. Try printing out the lyrics to `'Mr. Perfectly Fine'` and see if you can figure out why it doesn't appear in our `casually_cruel` DataFrame. "
   ]
  },
  {
   "cell_type": "code",
   "execution_count": null,
   "id": "c9f9f9ff",
   "metadata": {},
   "outputs": [],
   "source": [
    "# Why is Mr. Perfectly Fine not included? \n"
   ]
  },
  {
   "cell_type": "markdown",
   "id": "3e468ce2",
   "metadata": {},
   "source": [
    "**Question 3.2.** Now, write a function called `phrase_match_df` with one parameter, a string `phrase`. The function should return a DataFrame with the same index and columns as `lyrics`, with a row for each song that includes the given `phrase` in the lyrics, regardless of capitalization.\n",
    "\n",
    "For example, on the input phrase of `'casually cruel'`, the function should return a DataFrame with two rows; the same two rows should be returned on the input phrase `'CASUALLY cRUEL'`."
   ]
  },
  {
   "cell_type": "code",
   "execution_count": null,
   "id": "df05e8d4",
   "metadata": {},
   "outputs": [],
   "source": [
    "def phrase_match_df(phrase):\n",
    "    ...\n",
    "\n",
    "# Feel free to the argument in the function call below to experiment!\n",
    "phrase_match_df('casually cruel')"
   ]
  },
  {
   "cell_type": "code",
   "execution_count": null,
   "id": "16501d3c",
   "metadata": {
    "deletable": false,
    "editable": false
   },
   "outputs": [],
   "source": [
    "grader.check(\"q3_2\")"
   ]
  },
  {
   "cell_type": "markdown",
   "id": "21a10f8f",
   "metadata": {},
   "source": [
    "Let's try to figure out exactly where in a song a certain phrase appears. For example, we know the phrase `'casually cruel'` appears in `'All Too Well (10 Minute Version)'` but what line(s) is it a part of? Does it appear several times or just once?\n",
    "\n",
    "First, when we refer to a line of a song, we're referring to what gets printed on its own line when the lyrics are printed. Lines *can* be blank, which usually happens as a separator between different parts of the song, such as the chorus and the verse. For example, the fifth line of `'Mastermind'` is blank, as you can see below."
   ]
  },
  {
   "cell_type": "code",
   "execution_count": null,
   "id": "e236078f",
   "metadata": {
    "scrolled": true
   },
   "outputs": [],
   "source": [
    "print(mastermind)"
   ]
  },
  {
   "cell_type": "markdown",
   "id": "b7de5ae9",
   "metadata": {},
   "source": [
    "**Question 3.3.** Set the variable `fine_lines` to a list of all the lines of `'Mr. Perfectly Fine'`. Some of these lines will be blank (meaning they will appear as empty strings).\n",
    "\n",
    "***Hint:*** Lines are separated by newline characters `'\\n'`."
   ]
  },
  {
   "cell_type": "code",
   "execution_count": null,
   "id": "19028b29",
   "metadata": {},
   "outputs": [],
   "source": [
    "fine_lines = ...\n",
    "fine_lines"
   ]
  },
  {
   "cell_type": "code",
   "execution_count": null,
   "id": "21cc9849",
   "metadata": {
    "deletable": false,
    "editable": false
   },
   "outputs": [],
   "source": [
    "grader.check(\"q3_3\")"
   ]
  },
  {
   "cell_type": "markdown",
   "id": "67c4a51f",
   "metadata": {},
   "source": [
    "**Question 3.4.** Loop through the list `fine_lines`, and when you encounter a line that contains the phrase `'casually cruel'` (with any capitalization), append that line to the array `cruel_fine_lines`, which we have already initialized to be empty.\n",
    "\n",
    "Note that when you append a line to `cruel_fine_lines`, the line should maintain the capitalization of the original lyrics. They should also appear in the same order they appear in `fine_lines`. If there are duplicate lines, include all occurrences of the line."
   ]
  },
  {
   "cell_type": "code",
   "execution_count": null,
   "id": "ca4cdc81",
   "metadata": {},
   "outputs": [],
   "source": [
    "phrase = 'casually cruel'\n",
    "cruel_fine_lines = np.array([])\n",
    "for line in fine_lines:\n",
    "    ...\n",
    "cruel_fine_lines"
   ]
  },
  {
   "cell_type": "code",
   "execution_count": null,
   "id": "050c8844",
   "metadata": {
    "deletable": false,
    "editable": false
   },
   "outputs": [],
   "source": [
    "grader.check(\"q3_4\")"
   ]
  },
  {
   "cell_type": "markdown",
   "id": "7107c61c",
   "metadata": {},
   "source": [
    "**Question 3.5.** Now, we're ready to generalize our work so that we can search for *any* phrase in *any* song. Complete the implementation of the function `isolate_phrase`, which takes as input the name of a song in the `lyrics` DataFrame and a phrase to search for, and returns an array of all lines in the song containing the phrase. \n",
    "\n",
    "As in the previous question, this should be a case-insensitive search, meaning the phrase is considered a match even if it appears with different capitalization, though the line you add to the output array should have the original capitalization of the song lyrics. \n",
    "\n",
    "The search should also include results where the target phrase appears as part of a longer word or phrase. For example, the output of `isolate_phrase('Midnights', 'plan')` should include the line `'Once upon a time, the planets and the fates'` because `'plan'` is a part of `'planets'`. Note that this is not necessarily desirable behavior, but it's the most straightforward to implement because we can use the [string method `.count()`](https://www.programiz.com/python-programming/methods/string/count) to count the number of occurrences of a substring in a string.\n",
    "\n",
    "Be careful: sometimes the same phrase can appear multiple times in a single line. When that happens, the line should only appear in the output array once."
   ]
  },
  {
   "cell_type": "code",
   "execution_count": null,
   "id": "d0fda5d3",
   "metadata": {
    "scrolled": true
   },
   "outputs": [],
   "source": [
    "def isolate_phrase(song_title, phrase):\n",
    "    ...\n",
    "\n",
    "isolate_phrase('Mastermind', 'plan')"
   ]
  },
  {
   "cell_type": "code",
   "execution_count": null,
   "id": "63e3d11b",
   "metadata": {
    "deletable": false,
    "editable": false
   },
   "outputs": [],
   "source": [
    "grader.check(\"q3_5\")"
   ]
  },
  {
   "cell_type": "markdown",
   "id": "8ea900a5",
   "metadata": {},
   "source": [
    "When we search the lyric searcher website for a specific phrase, notice that it displays not only the line where the search term was found, but also the lines immediately before and after, if they exist. \n",
    "\n",
    "Let's look closely at the four instances of the word `'time'` in the song `'Mastermind'` and see how these search results are displayed on the website.\n",
    "\n",
    "<img src=\"data/images/mastermind_time.jpg\" width=100%>"
   ]
  },
  {
   "cell_type": "markdown",
   "id": "a190f873",
   "metadata": {},
   "source": [
    "If there is a match for `'time'` in the first line, like `'Once upon a time'`, there is no previous line of the song. As a result, this line and the next are the only two lines in the output.\n",
    "\n",
    "If there is a match anywhere besides the first and last lines, there is a previous line and a next line, so all three lines should get added to the output. It's possible that the previous line or next line is blank; for instance, this happens in the second match in the example above, `'At the same time'`, which is followed by a blank line because it is at the end of the first verse.\n",
    "\n",
    "If there is a match in the last line, the previous line and the matching line should be output, but there is no next line."
   ]
  },
  {
   "cell_type": "markdown",
   "id": "a080297d",
   "metadata": {},
   "source": [
    "**Question 3.6.** ⭐⭐ Let's now define a function, `surround_phrase`, that works similarly to `isolate_phrase` except instead of only appending to the output array the lines where a match occurs, it should also append the previous and next lines, if they exist (even if they are blank lines). \n",
    "\n",
    "Start with the code you wrote for `isolate_phrase` and modify as needed. Instead of looping through all the lines, you'll want to handle matches in the first line and last line separately from matches in the middle. Think about three cases of matches: a match in the first line, a match in the middle, and a match in the last line.\n",
    "\n",
    "Example behavior is given below. \n",
    "\n",
    "```py\n",
    ">>> surround_phrase('Mastermind', 'time')\n",
    "\n",
    "array(['Once upon a time, the planets and the fates',\n",
    "       'And all the stars aligned', \n",
    "       'You and I ended up in the same room',\n",
    "       'At the same time', \n",
    "       '',\n",
    "       'To make them love me and make it seem effortless',\n",
    "       \"This is the first time I've felt the need to confess\",\n",
    "       'And I swear', \n",
    "       'Saw a wide smirk on your face',\n",
    "       'You knew the entire time', \n",
    "       \"You knew that I'm a mastermind\"],\n",
    "      dtype='<U52')\n",
    "```"
   ]
  },
  {
   "cell_type": "code",
   "execution_count": null,
   "id": "2016c850",
   "metadata": {
    "scrolled": true
   },
   "outputs": [],
   "source": [
    "def surround_phrase(song_title, phrase):\n",
    "    ...\n",
    "\n",
    "surround_phrase('Mastermind', 'time')"
   ]
  },
  {
   "cell_type": "code",
   "execution_count": null,
   "id": "1459da56",
   "metadata": {
    "deletable": false,
    "editable": false
   },
   "outputs": [],
   "source": [
    "grader.check(\"q3_6\")"
   ]
  },
  {
   "cell_type": "markdown",
   "id": "0bcb3bb5",
   "metadata": {},
   "source": [
    "Our lyric searcher is looking more like the website, but it's hard to parse the output. Let's make the output array easier to understand by doing what the website does: including the name of the song and album after each match. "
   ]
  },
  {
   "cell_type": "markdown",
   "id": "52dbbb44",
   "metadata": {},
   "source": [
    "**Question 3.7.** Write a function called `one_song_search` that works similarly to `surround_phrase`, except it should also append to the array a string that includes the song name and album name, after each match. Format this string like this: `'Song Name, Album Name'`, where the capitalization and spelling of song and album names are exactly as the appear in `lyrics`.\n",
    "\n",
    "***Hint:*** We solved this problem by taking our code from `surround_phrase` and adding four lines of code to it. The first calculated the name of the album the song was from. The other three lines of code each appended a string with the song and album. We needed three such appends to deal with the three cases: a match in the first line, a match in a middle line, and a match in the last line."
   ]
  },
  {
   "cell_type": "code",
   "execution_count": null,
   "id": "1aa56733",
   "metadata": {},
   "outputs": [],
   "source": [
    "def one_song_search(song_title, phrase):\n",
    "    ...\n",
    "    \n",
    "one_song_search('Mastermind', 'time')"
   ]
  },
  {
   "cell_type": "code",
   "execution_count": null,
   "id": "5621edae",
   "metadata": {
    "deletable": false,
    "editable": false
   },
   "outputs": [],
   "source": [
    "grader.check(\"q3_7\")"
   ]
  },
  {
   "cell_type": "markdown",
   "id": "f526381a",
   "metadata": {},
   "source": [
    "We now have search results for a single song, but we need to extend our search to the entire body of Taylor Swift's work. To do this, we'll first use our `phrase_match_df` function from earlier to create a smaller DataFrame of just the songs that contain our target phrase. Then we'll loop through the entries in the `'Lyrics'` column of this smaller DataFrame and call our `one_song_search` function on each song's lyrics."
   ]
  },
  {
   "cell_type": "markdown",
   "id": "13043cd2",
   "metadata": {},
   "source": [
    "**Question 3.8.** Fill in the blanks below to try out the strategy outlined above to search for `'fifteen'` in all of Taylor Swift's songs. We've initialized an empty array called `fifteen_array`, where you should store all of your matches from all songs. \n",
    "\n",
    "***Hint:*** We usually use `np.append` to append a single item to an array. However, you can also use it to append a whole array of items to an array. "
   ]
  },
  {
   "cell_type": "code",
   "execution_count": null,
   "id": "e4db31dd",
   "metadata": {},
   "outputs": [],
   "source": [
    "fifteen_songs = phrase_match_df('fifteen')\n",
    "fifteen_array = np.array([])\n",
    "...\n",
    "fifteen_array"
   ]
  },
  {
   "cell_type": "code",
   "execution_count": null,
   "id": "f7413e15",
   "metadata": {
    "deletable": false,
    "editable": false
   },
   "outputs": [],
   "source": [
    "grader.check(\"q3_8\")"
   ]
  },
  {
   "cell_type": "markdown",
   "id": "ccceff08",
   "metadata": {},
   "source": [
    "**Question 3.9.** Generalize the previous example by writing a function `search_for` that takes a phrase as input and searches all of Taylor Swift's songs for that phrase, returning an output array as we've discussed. For example, `search_for('fifteen')` should return an array with the same contents as `fifteen_array` above."
   ]
  },
  {
   "cell_type": "code",
   "execution_count": null,
   "id": "aea79f82",
   "metadata": {},
   "outputs": [],
   "source": [
    "def search_for(phrase):\n",
    "    ...\n",
    "\n",
    "# Feel free to change the function call below.\n",
    "# Make sure to try some other words and phrases.\n",
    "search_for('fifteen')"
   ]
  },
  {
   "cell_type": "code",
   "execution_count": null,
   "id": "e4f6cf6a",
   "metadata": {
    "deletable": false,
    "editable": false
   },
   "outputs": [],
   "source": [
    "grader.check(\"q3_9\")"
   ]
  },
  {
   "cell_type": "markdown",
   "id": "af666d6b",
   "metadata": {},
   "source": [
    "Our search tool works pretty well! However, it's still very hard to read the output in this format. Let's display it more nicely, and at the same time, implement something that the website has: a count of the total number of matches (usages), and the number of songs with a match. For example, the search term `'fifteen'` is used 16 times in 5 songs throughout Taylor Swift's repertoire."
   ]
  },
  {
   "cell_type": "markdown",
   "id": "0e7116c1",
   "metadata": {},
   "source": [
    "<img src=\"data/images/fifteen.jpg\" width=60%>"
   ]
  },
  {
   "cell_type": "markdown",
   "id": "a1bfe9cf",
   "metadata": {},
   "source": [
    "**Question 3.10.** Complete the implementation of the function `search_and_display`, which takes as input a phrase to search for, calls the function `search_for` on that input phrase, and then nicely displays the output. In addition, the `search_and_display` function should calculate the total number of usages of the input phrase across all songs, as well as the number of songs in which the input phrase appears, and return both of these values in a list whose first element is the number of usages and whose second element is the number of songs.\n",
    "\n",
    "We've provided the code to do the displaying; you don't need to understand how this works. Your job is to calculate the total number of usages in `num_usages` and the number of songs in `num_songs`, and to return a list of two elements as described. You'll see a comment that says `# TODO` above every line you need to complete."
   ]
  },
  {
   "cell_type": "code",
   "execution_count": null,
   "id": "98d2bb7b",
   "metadata": {
    "scrolled": false
   },
   "outputs": [],
   "source": [
    "def search_and_display(phrase, to_display=True):\n",
    "    # Ignore the optional to_display argument.\n",
    "    # By default, we will display all of the lyrics as done in search_for.\n",
    "    \n",
    "    match_array = search_for(phrase)   \n",
    "    \n",
    "    num_usages = 0\n",
    "    matching_songs = np.array([])\n",
    "    \n",
    "    for line in match_array:\n",
    "        \n",
    "        # If the line represents a song name and album name, display it nicely.\n",
    "        if line in np.array(lyrics.reset_index().get('Song') + \", \" + lyrics.reset_index().get('Album')):\n",
    "            if to_display:\n",
    "                display(HTML(f'<center><b><i>{line}</i></b></center>')) # Display song and album names in bold italics.\n",
    "                display(Markdown('___')) # Add horizontal line between matches.\n",
    "            \n",
    "            # TODO: Update matching_songs.\n",
    "            matching_songs = ...\n",
    "        \n",
    "        # Otherwise, if the line is not blank, print it.\n",
    "        elif len(line) > 0:\n",
    "            if to_display:\n",
    "                display(HTML(f'<center>{line}</center>'))\n",
    "            \n",
    "            # TODO: Update num_usages.\n",
    "            num_usages = ...\n",
    "            \n",
    "    # TODO: Create a list of two elements to output.\n",
    "    output_list = ...\n",
    "    \n",
    "    if to_display:\n",
    "        display(HTML('<h3><center><span style=\"color:#888\">Found ' + str(output_list[0]) + ' usages of \\\"' + phrase + '\\\" across ' + str(output_list[1]) + ' songs.</span></center></h3>'))\n",
    "    return output_list \n",
    "\n",
    "# An example function call. Feel free to change it.\n",
    "fifteen_stats = search_and_display('fifteen')"
   ]
  },
  {
   "cell_type": "code",
   "execution_count": null,
   "id": "c1bb82ce",
   "metadata": {
    "deletable": false,
    "editable": false
   },
   "outputs": [],
   "source": [
    "grader.check(\"q3_10\")"
   ]
  },
  {
   "cell_type": "markdown",
   "id": "f647aeae",
   "metadata": {},
   "source": [
    "We now have a search tool that can search Taylor Swift's body of work for any phrase and display the results in much the same format as the online search tool we tried to replicate. Well done!\n",
    "\n",
    "Run the cell below to play around with an interactive version of `search_and_display`. It'll show you a text box; type a phrase and hit \"enter\" to see the value of `search_and_display` when called on your input."
   ]
  },
  {
   "cell_type": "code",
   "execution_count": null,
   "id": "2f281847",
   "metadata": {
    "scrolled": false
   },
   "outputs": [],
   "source": [
    "# Run this cell. Don't change any of the code.\n",
    "default_lyric = 'casually cruel'\n",
    "\n",
    "lyric_box = widgets.Text(\n",
    "    value=default_lyric,\n",
    "    placeholder='Type a phrase here and hit enter.',\n",
    "    description='Phrase:',\n",
    "    layout={'width': '525px'},\n",
    "    disabled=False   \n",
    ")\n",
    "\n",
    "def change_matches(change):\n",
    "    clear_output()\n",
    "    display(lyric_box)\n",
    "    search_and_display(lyric_box.value)\n",
    "\n",
    "display(lyric_box)\n",
    "search_and_display(default_lyric)\n",
    "lyric_box.on_submit(change_matches)"
   ]
  },
  {
   "cell_type": "markdown",
   "id": "45e7523a",
   "metadata": {},
   "source": [
    "You may notice that for certain search terms, our search tool gives different results than the online search tool. There are a few reasons why. First, the set of songs we are searching is not exactly the same. Our `lyrics` DataFrame includes all the songs from Taylor Swift's studio albums, and the online search tool includes a few additional songs, like songs from movie soundtracks. \n",
    "\n",
    "Moreover, our search results always include matches where the search term is part of a longer word or phrase, like how `'plan'` is part of `'planets'`. The online search tool handles this more carefully, with options to search for an exact phrase, to include plurals, or to do a wilcard search which is similar to how we've chosen to implement the search. We'll stop here with our lyric searcher, but if you're interested in extending your lyric searcher further, you can try implementing some of these features from the online tool after you submit the project. There are lots of details to consider, such as how to pluralize words (it's not always as simple as adding an `'s'`)!"
   ]
  },
  {
   "cell_type": "markdown",
   "id": "4ef08679",
   "metadata": {},
   "source": [
    "<a id='section4'></a>\n",
    "## Section 4: Keywords 🔑\n",
    "\n",
    "> I didn't know you were keeping count, but, oh, you were keeping count.\n",
    "\n",
    "<small>(<a href=\"#outline\">return to the outline</a>)</small>"
   ]
  },
  {
   "cell_type": "markdown",
   "id": "d844f624",
   "metadata": {},
   "source": [
    "In this section, we'll identify keywords that summarize each song in Taylor Swift's album `'Lover'` 💕.\n",
    "\n",
    "For example, you'll discover, after completing Section 4,  that the single word that best summarizes the song `'London Boy'` is `'fancy'`. Listen to the song below and see if you agree!"
   ]
  },
  {
   "cell_type": "code",
   "execution_count": null,
   "id": "6cde2e3c",
   "metadata": {},
   "outputs": [],
   "source": [
    "play_spotify('1LLXZFeAHK9R4xUramtUKw')"
   ]
  },
  {
   "cell_type": "markdown",
   "id": "50cace26",
   "metadata": {},
   "source": [
    "Pretty cool, right? You'll soon learn how to find the best keywords for each song yourself. The first step in calculating keywords is to identify every unique word used on the `'Lover'` album."
   ]
  },
  {
   "cell_type": "markdown",
   "id": "34b9bc40",
   "metadata": {},
   "source": [
    "**Question 4.1.** To start, create a DataFrame called `lover_df` with the same columns as `lyrics`, but with only the songs from the `'Lover'` album."
   ]
  },
  {
   "cell_type": "code",
   "execution_count": null,
   "id": "6280dc15",
   "metadata": {
    "scrolled": false
   },
   "outputs": [],
   "source": [
    "lover_df = ...\n",
    "lover_df"
   ]
  },
  {
   "cell_type": "code",
   "execution_count": null,
   "id": "4620f223",
   "metadata": {
    "deletable": false,
    "editable": false
   },
   "outputs": [],
   "source": [
    "grader.check(\"q4_1\")"
   ]
  },
  {
   "cell_type": "markdown",
   "id": "c87fbb45",
   "metadata": {},
   "source": [
    "**Question 4.2.** Now, we want to determine the words used in all the lyrics in `lover_df`. Store all such unique words in an array called `unique_words_raw`. Deal with capitalization and punctuation as follows:\n",
    "- Words with the same letters that are capitalized differently are considered the same. For example, `'talk'`, `'Talk'`, and `'talK'` should all be counted as the same word. All words in `unique_words_raw` should be in lowercase, so all of these words should be counted as `'talk'`.\n",
    "- Words that use the same letters but have different punctuation are considered different. For example, `'\"for'` and `'for'` will both be words in `unique_words_raw`, as they're not considered the same word. \n",
    "\n",
    "***Hints:***\n",
    "- Words may be separated by spaces or by newline characters, `\\n`. The string method `.split()` when called with no arguments will separate on both of these; this is what you want!\n",
    "- You can use the `.sum()` method on a Series of lists to concatenate the lists into a single, larger list. "
   ]
  },
  {
   "cell_type": "code",
   "execution_count": null,
   "id": "4ffcf900",
   "metadata": {
    "scrolled": true
   },
   "outputs": [],
   "source": [
    "unique_words_raw = ...\n",
    "unique_words_raw"
   ]
  },
  {
   "cell_type": "code",
   "execution_count": null,
   "id": "72389b62",
   "metadata": {
    "deletable": false,
    "editable": false
   },
   "outputs": [],
   "source": [
    "grader.check(\"q4_2\")"
   ]
  },
  {
   "cell_type": "markdown",
   "id": "b2427e0b",
   "metadata": {},
   "source": [
    "As mentioned above, some of the words in `unique_words_raw` contain punctuation.  For example, both `'\"for'` and `'for'` are in `unique_words_raw`, although they correspond to the same English word."
   ]
  },
  {
   "cell_type": "code",
   "execution_count": null,
   "id": "12579434",
   "metadata": {},
   "outputs": [],
   "source": [
    "'for' in unique_words_raw and '\"for' in unique_words_raw"
   ]
  },
  {
   "cell_type": "markdown",
   "id": "c29fba0a",
   "metadata": {},
   "source": [
    "Let's reconcile this by removing punctuation from the words in `unique_words_raw` and then keeping only the unique words that remain."
   ]
  },
  {
   "cell_type": "markdown",
   "id": "db7af113",
   "metadata": {},
   "source": [
    "**Question 4.3.** Complete the implementation of the function `drop_punctuation`, which takes in a string `word` and performs the actions below to address the aforementioned issues (there may be other issues with the data, but don't worry about them).\n",
    "\n",
    "1. Remove quotations (`'` and `\"`) at the beginning and end of strings. \n",
    "1. Replace all double quotes (`\"`) with single quotes (`'`).\n",
    "1. Remove the following punctuation symbols: `(`, `)`, `?`, `.`, `,`, `;`, `-`, `_`, `\\`.\n",
    "\n",
    "The function should return a version of the input word with these changes.\n",
    "\n",
    "***Hint:*** When removing `\\`, use `\\\\` instead of `\\`. You need to \"escape\" the backslash. "
   ]
  },
  {
   "cell_type": "code",
   "execution_count": null,
   "id": "2d4bd87e",
   "metadata": {},
   "outputs": [],
   "source": [
    "def drop_punctuation(word):\n",
    "    ..."
   ]
  },
  {
   "cell_type": "code",
   "execution_count": null,
   "id": "fc085b45",
   "metadata": {
    "deletable": false,
    "editable": false
   },
   "outputs": [],
   "source": [
    "grader.check(\"q4_3\")"
   ]
  },
  {
   "cell_type": "markdown",
   "id": "12bb1071",
   "metadata": {},
   "source": [
    "**Question 4.4.** Use the `drop_punctuation` function to create an array of all the unique words used in the `'Lover'` album, without punctuation. Store that array in `unique_words`. Notice that after removing punctuation, there may be duplicate words (for example, `'for'` and `'\"for'` become the same word after punctuation is dropped), but make sure there are no duplicates in `unique_words`."
   ]
  },
  {
   "cell_type": "code",
   "execution_count": null,
   "id": "ceeee5a7",
   "metadata": {
    "scrolled": true
   },
   "outputs": [],
   "source": [
    "unique_words = ...\n",
    "unique_words"
   ]
  },
  {
   "cell_type": "code",
   "execution_count": null,
   "id": "4db08c94",
   "metadata": {
    "deletable": false,
    "editable": false
   },
   "outputs": [],
   "source": [
    "grader.check(\"q4_4\")"
   ]
  },
  {
   "cell_type": "markdown",
   "id": "820865c0",
   "metadata": {},
   "source": [
    "Now that we've determined which words appear in the `'Lover'` album, we'll attempt to describe how important each word is to each song. To do this, we'll use a method from natural language processing called the **term frequency-inverse document frequency (TF-IDF)**. \n",
    "\n",
    "The purpose of TF-IDF is to measure how important a term is in a document relative to a collection of documents. In our case, terms are words, documents are songs, and the collection of documents we're interested in is the collection of songs on the album `'Lover'`.\n",
    "\n",
    "Given a word,  $\\textbf{term}$,  in a document,  $\\textbf{doc}$, the TF-IDF of the word in the document is the product:\n",
    "\n",
    "$$\n",
    "\\begin{align*}\\text{TF-IDF}(\\textbf{term}, \\textbf{doc}) &= \\text{TF}(\\textbf{term}, \\textbf{doc}) \\cdot \\text{IDF}(\\textbf{term}) \\\\\\ &= \\frac{\\text{number of occurrences of $\\textbf{term}$ in $\\textbf{doc}$}}{\\text{total number of words in $\\textbf{doc}$}} \\cdot \\ln \\left(\\frac{\\text{total number of documents}}{\\text{number of documents in which $\\textbf{term}$ appears}} \\right) \\end{align*} $$\n",
    "\n",
    "Let's look at the term frequency (TF) first. This is just the proportion of words in document $\\textbf{doc}$ that are equal to $\\textbf{term}$.\n",
    "\n",
    "- **Example:** What is the term frequency (TF) of \"Taylor\" in the following document?\n",
    "\n",
    "    - \"My friend named her baby <b>Taylor</b> because she is a huge <b>Taylor</b> Swift fan.\"\n",
    "\n",
    "- **Answer:** $\\frac{2}{14}$, because two of the fourteen words in the document are \"Taylor\".\n",
    "\n",
    "Remember that usually, a document will consist of an entire song, not just of a single line (like above).\n",
    "\n",
    "Now, let's look at the inverse document frequency (IDF). This is the natural logarithm of the reciprocal of the proportion of documents in the collection containing $\\textbf{term}$. One way to think of the IDF is as a \"rarity factor\" – words that appear frequently in the full collection of documents are not very rare, and hence have low IDF, while words that rarely appear in the full collection of documents have high IDF.\n",
    "\n",
    "- **Example:** What is the inverse document frequency (IDF) of \"Taylor\" in the following four documents?\n",
    "\n",
    "    - \"My friend named her baby <b>Taylor</b> because she is a huge <b>Taylor</b> Swift fan.\"\n",
    "    - \"I wanted to see <b>Taylor</b> Swift on the Eras Tour, but the tickets were way too expensive, so I saw the movie instead.\"\n",
    "    - \"I can't even afford a movie ticket.\"\n",
    "    - \"Tailor and <b>Taylor</b> are homophones.\"\n",
    "    \n",
    "- **Answer:** $\\ln \\left(\\frac{4}{3}\\right) \\approx 0.288$ because three of the four documents include the word \"Taylor\".\n",
    "\n",
    "Putting these together, we can now compute the TF-IDF.\n",
    "\n",
    "- **Example:** What is the term frequency-inverse document frequency (TF-IDF) of \"Taylor\" in the first document in this collection of four documents?\n",
    "\n",
    "- **Answer:** $\\frac{2}{14} \\cdot \\ln \\left(\\frac{4}{3}\\right) \\approx 0.041$, by multiplying the term frequency with the inverse document frequency.\n",
    "\n",
    "The idea behind TF-IDF is that for a word to be a good summary of a document, it should appear frequently in that document, but not too frequently in the full collection of documents. This means words like \"I\" or \"and\" won't have high TF-IDF, because while they may appear frequently in a document (high TF), they appear too often in general to be considered good summary words (low IDF).\n",
    "\n",
    "In our case, the words that best summarize a song will be the words within that song with the highest TF-IDFs."
   ]
  },
  {
   "cell_type": "markdown",
   "id": "02585bf5",
   "metadata": {},
   "source": [
    "Run the cell below to load in a DataFrame named `counts_df` that has a row for each word in the `'Lover'` album and a column for each song on the album.  Each entry counts the number of instances of a word in a song. "
   ]
  },
  {
   "cell_type": "code",
   "execution_count": null,
   "id": "9566e000",
   "metadata": {},
   "outputs": [],
   "source": [
    "counts_df = bpd.read_csv('data/word_counts.csv').set_index('word')\n",
    "counts_df"
   ]
  },
  {
   "cell_type": "markdown",
   "id": "b06b5050",
   "metadata": {},
   "source": [
    "For instance, the preview above tells us that the word `\"you're\"` appears 4 times in `'Cruel Summer'`.\n",
    "\n",
    "The `counts_df` DataFrame will be useful in the next several questions."
   ]
  },
  {
   "cell_type": "markdown",
   "id": "20881ec6",
   "metadata": {},
   "source": [
    "**Question 4.5.** ⭐⭐ Now, it's time for some calculations 🧮. Let's begin by computing the TF-IDF for the word `'about'` in the song `'You Need To Calm Down'`. To start, make sure you understand the \"Taylor\" TF-IDF example given above, and consider how you will use the data available in `counts_df`.\n",
    "\n",
    "We've provided four variables for you to fill in: `tf_numerator`, `tf_denominator`, `idf_numerator`, and `idf_denominator`. We then compute the TF-IDF from those four variables and store the result in `tfidf_of_about`."
   ]
  },
  {
   "cell_type": "code",
   "execution_count": null,
   "id": "43effcdc",
   "metadata": {},
   "outputs": [],
   "source": [
    "tf_numerator = ...\n",
    "tf_denominator = ...\n",
    "idf_numerator = ...\n",
    "idf_denominator = ...\n",
    "tfidf_of_about = (tf_numerator / tf_denominator) * np.log(idf_numerator / idf_denominator) \n",
    "tfidf_of_about"
   ]
  },
  {
   "cell_type": "code",
   "execution_count": null,
   "id": "e0ce7564",
   "metadata": {
    "deletable": false,
    "editable": false
   },
   "outputs": [],
   "source": [
    "grader.check(\"q4_5\")"
   ]
  },
  {
   "cell_type": "markdown",
   "id": "52db88af",
   "metadata": {},
   "source": [
    "Imagine you wanted to calculate the TF-IDF for the word `'about'` in the song `'False God'`. You could do that by taking the code you just wrote and changing every instance of `'You Need To Calm Down'` to `'False God'`. Notice that you may get a different value for the term frequency (TF) because the word `'about'` may be more prevalent in one song than another. However, you'd get the same exact value for the inverse document frequency (IDF) because IDF is calculated based only the term (word) not the document (song), as we can see in the formula introduced earlier:\n",
    "\n",
    "$$\n",
    "\\begin{align*}\\text{TF-IDF}(\\textbf{term}, \\textbf{doc}) &= \\text{TF}(\\textbf{term}, \\textbf{doc}) \\cdot \\text{IDF}(\\textbf{term}) \\\\\\ &= \\frac{\\text{number of occurrences of $\\textbf{term}$ in $\\textbf{doc}$}}{\\text{total number of words in $\\textbf{doc}$}} \\cdot \\ln \\left(\\frac{\\text{total number of documents}}{\\text{number of documents in which $\\textbf{term}$ appears}} \\right) \\end{align*} $$\n",
    "\n",
    "This means that if we wanted to calculate the TF-IDF for the word `'about'` in *every* song on the `'Lover'` album, we could save some time and energy by just computing the IDF for `'about'` one time, in advance. Then for each song, we'd just need to calculate the TF of `'about'` in that song and multiply with the IDF for `'about'` that we'd already pre-computed.\n",
    "\n",
    "In the next question, we'll pre-compute the IDF values for all words and store them in an array so that we can more easily compute TF-IDF values later.\n",
    "\n",
    "**Question 4.6.** Fill in the blanks in the code below to calculate IDF values for each word on the `'Lover'` album. The strategy is as follows:\n",
    "\n",
    "1. Begin by storing all the words used on the album in an array called `word_array`. You should get these words from `counts_df`.\n",
    "1. Loop through this array, one word at a time, calculating the IDF, and storing the result in `idf_array`, which has been initialized to an empty array.\n",
    "\n",
    "At the end, `idf_array` should have the IDF values for every word on the album, in the same order that they appear in `counts_df`. That is, the first element of `idf_array` should be the IDF of `'16th'`."
   ]
  },
  {
   "cell_type": "code",
   "execution_count": null,
   "id": "9be619dd",
   "metadata": {},
   "outputs": [],
   "source": [
    "idf_array = np.array([])\n",
    "word_array = ...\n",
    "# Loop through each word and compute the IDF of that word.\n",
    "for word in word_array:\n",
    "    ...\n",
    "    \n",
    "# Display the resulting array of IDF values.\n",
    "idf_array"
   ]
  },
  {
   "cell_type": "code",
   "execution_count": null,
   "id": "3dd13ca7",
   "metadata": {
    "deletable": false,
    "editable": false
   },
   "outputs": [],
   "source": [
    "grader.check(\"q4_6\")"
   ]
  },
  {
   "cell_type": "markdown",
   "id": "a6c1f288",
   "metadata": {},
   "source": [
    "**Question 4.7.** ⭐⭐ Now, we are ready to calculate the TF-IDF for each word in each song. We've already calculated the IDF values and stored them in `idf_array`, so we'll want to make use of them here! \n",
    "\n",
    "We'll approach this problem one song at a time. For each song, we'll calculate the TF-IDF values for that song, for every word that appears on the album. We can calculate all the TF-IDF values for a given song at the same time using Series arithmetic, which works element-wise. Once we obtain a Series of all the TF-IDF values for a song, we can add that Series as a column to a DataFrame, gradually building up the DataFrame one column (one song) at a time. \n",
    "\n",
    "We've provided an outline of the strategy and some code to handle the assignment of new columns, which includes details that you don't need to worry about. Your job is to fill in the blanks below. \n",
    "\n",
    "Once you've filled in the blanks, run the code cell to create a DataFrame called `every_tfidf` where the columns are the songs on the album `'Lover'`, the rows are the words that appear in the lyrics of the album, and the entries are the TF-IDF values for each song and each word. "
   ]
  },
  {
   "cell_type": "code",
   "execution_count": null,
   "id": "c50b3976",
   "metadata": {
    "scrolled": false
   },
   "outputs": [],
   "source": [
    "# Create a new empty DataFrame to store TF-IDF values.\n",
    "every_tfidf = bpd.DataFrame()\n",
    "\n",
    "# Create an array with the names of all songs on the Lover album.\n",
    "songs_array = ...\n",
    "\n",
    "# Loop through the songs, and for each song, compute a Series of TF-IDF values for each word.\n",
    "for song in songs_array:\n",
    "    # Assign tf_numerators to a Series of the numerators of the TF values of each word, for this song.\n",
    "    tf_numerators = ...\n",
    "    \n",
    "    # Assign tf_denominator to the denominator of all TF values, for this song. \n",
    "    # Note that this is a single number, not a Series or array.\n",
    "    # We use the same denominator when calculating the TF of each word, for this song.\n",
    "    tf_denominator = ...\n",
    "    \n",
    "    # Assign tfs to a Series of the TF values of each word, for this song.\n",
    "    tfs = ...\n",
    "    \n",
    "    # Assign tfidfs to a Series of the TF-IDF values of each word, for this song.\n",
    "    # Remember that you've already calculated the IDF of each word, so use those values here.\n",
    "    tfidfs = ...\n",
    "    \n",
    "    # Add a new column to the DataFrame every_tfidf.\n",
    "    # The column name is the song title and the contents are the values in tfidfs.\n",
    "    # Don't worry about how the line of code below works.\n",
    "    every_tfidf = every_tfidf.assign(**{song: tfidfs})\n",
    "\n",
    "every_tfidf"
   ]
  },
  {
   "cell_type": "code",
   "execution_count": null,
   "id": "9e32f5bb",
   "metadata": {
    "deletable": false,
    "editable": false
   },
   "outputs": [],
   "source": [
    "grader.check(\"q4_7\")"
   ]
  },
  {
   "cell_type": "markdown",
   "id": "0912968d",
   "metadata": {},
   "source": [
    "It's a good idea to verify that the TF-IDF of the word `'about'` in the song `'You Need To Calm Down'` according to the DataFrame above is the same as you calculated in Question 4.5. Let's do that using code. The following cell should evaluate to `True`."
   ]
  },
  {
   "cell_type": "code",
   "execution_count": null,
   "id": "af1b79eb",
   "metadata": {},
   "outputs": [],
   "source": [
    "every_tfidf.get('You Need To Calm Down').loc['about'] == tfidf_of_about"
   ]
  },
  {
   "cell_type": "markdown",
   "id": "03bb00e2",
   "metadata": {},
   "source": [
    "Now that we've done the hard work of calculating all these TF-IDF values, it's time to reap the benefits and find our keywords!\n",
    "\n",
    "**Question 4.8.** Find the 10 words with the highest TF-IDF values for the song `'Cruel Summer'`. Store these words in an array called `top_10_summer`. Sort the words in decreasing order of TF-IDF, breaking ties any way you like. These words should be a good summary for `'Cruel Summer'`. ⛱️"
   ]
  },
  {
   "cell_type": "code",
   "execution_count": null,
   "id": "323eb1dd",
   "metadata": {
    "scrolled": true
   },
   "outputs": [],
   "source": [
    "top_10_summer = ...\n",
    "top_10_summer"
   ]
  },
  {
   "cell_type": "code",
   "execution_count": null,
   "id": "2d51489e",
   "metadata": {
    "deletable": false,
    "editable": false
   },
   "outputs": [],
   "source": [
    "grader.check(\"q4_8\")"
   ]
  },
  {
   "cell_type": "markdown",
   "id": "5990d67c",
   "metadata": {},
   "source": [
    "**Question 4.9.** Complete the implementation of the function `ten_keywords`, which takes in the name of a song on the `'Lover'` album and returns an array of the 10 words with the highest TF-IDF values, sorted in decreasing order of TF-IDF. Again, ties can be broken in any way."
   ]
  },
  {
   "cell_type": "code",
   "execution_count": null,
   "id": "0a51de6a",
   "metadata": {},
   "outputs": [],
   "source": [
    "def ten_keywords(song_name):\n",
    "    ...\n",
    "    \n",
    "# Here's one sample call, but try some more!\n",
    "ten_keywords('London Boy')"
   ]
  },
  {
   "cell_type": "code",
   "execution_count": null,
   "id": "dd41ab83",
   "metadata": {
    "deletable": false,
    "editable": false
   },
   "outputs": [],
   "source": [
    "grader.check(\"q4_9\")"
   ]
  },
  {
   "cell_type": "markdown",
   "id": "f9e75329",
   "metadata": {},
   "source": [
    "Let's have some fun visualizing the keywords for each song in a word cloud. The code provided below, adapted from an [article by Tia Plagata](https://towardsdatascience.com/how-to-create-beautiful-word-clouds-in-python-cfcf85141214), creates a word cloud for any song on the `'Lover'` album. A word cloud is a type of data visualization for text data, showing more important words as bigger and bolder. Try it out, and feel free to have fun with it! "
   ]
  },
  {
   "cell_type": "code",
   "execution_count": null,
   "id": "aa271b20",
   "metadata": {},
   "outputs": [],
   "source": [
    "# We need to import some packages to make word clouds.\n",
    "from wordcloud import WordCloud\n",
    "from PIL import Image\n",
    "\n",
    "# This function creates a word cloud for a given song.\n",
    "def generate_lyrics_wordcloud(song_name):\n",
    "    cloud = WordCloud(scale=3,\n",
    "                      max_words=150,\n",
    "                      colormap='RdPu',\n",
    "                      mask=np.array(Image.open('data/images/heart.jpeg')),\n",
    "                      background_color='white',\n",
    "                      collocations=False).generate(lover_df.get('Lyrics').loc[song_name])\n",
    "    plt.figure(figsize=(7, 5), dpi=100)\n",
    "    plt.imshow(cloud)\n",
    "    plt.axis('off')\n",
    "    plt.show()\n",
    "\n",
    "default_lover = 'I Forgot That You Existed'\n",
    "\n",
    "song_options_lover = np.array(lover_df.index)\n",
    "song_widget_lover = widgets.Dropdown(options=song_options_lover, description='Song', layout={'width': '525px'}, value=default_lover)\n",
    "\n",
    "def change_rec_lover(change):\n",
    "    if change['name'] == 'value' and change['new'] != change['old']:\n",
    "        clear_output()\n",
    "        display(song_widget_lover)\n",
    "        display(HTML('Note: It may take a few seconds for the updated word cloud to appear.'))\n",
    "        generate_lyrics_wordcloud(song_widget_lover.value)\n",
    "\n",
    "display(song_widget_lover)\n",
    "generate_lyrics_wordcloud(default_lover)\n",
    "song_widget_lover.observe(change_rec_lover)"
   ]
  },
  {
   "cell_type": "markdown",
   "id": "e92a1b39",
   "metadata": {},
   "source": [
    "## Parting Thoughts 💭 \n",
    "\n",
    "Big congratulations on finishing the Midterm Project! 🎉 We hope this experience gave you a taste of what doing data science is really like: frustrating at times, but incredibly satisfying when you produce a finished product you're proud of! If you feeling like telling everyone you know about the cool song recommender you created or the beautiful word clouds you generated, that's a good sign!\n",
    "\n",
    "You're likely a stronger programmer and data scientist now than you were before you started this project, after all the effort you put into completing it. As a reminder of the growth you can achieve through hard work, and the fact that success does not come by accident, here's a spoof of Taylor Swift's song `'Mastermind'` about succeeding in DSC 10. \n",
    "\n",
    "```\n",
    "Once upon a time, \n",
    "pandas were just bears, Jupyter was in the sky.\n",
    "I took a ten week course in data science,\n",
    "And learned otherwise.\n",
    "\n",
    "In the front row of class, 8am.\n",
    "Asking questions on Ed yet again.\n",
    "Churning through all the practice problems.\n",
    "Solutions? Don't need them.\n",
    "\n",
    "What if I told you none of it was accidental?\n",
    "From the first class that you taught me, nothing was gonna stop me?\n",
    "I laid the groundwork and then did the hard work.\n",
    "The test cases all passed one at a time.\n",
    "\n",
    "What if I told you I'm a mastermind?\n",
    "I'm good at data science.\n",
    "I just worked all the time. \n",
    "And now I'm a mastermind.\n",
    "\n",
    "You see, all the wisest students had to do it this way.\n",
    "'Cause we were born to understand things as we toil away.\n",
    "\n",
    "If you fail to plan, you plan to fail.\n",
    "Strategy sets the scene for the tale.\n",
    "So I cleared time in my schedule \n",
    "For a lot of nights in Geisel.\n",
    "\n",
    "What if I told you none of it was accidental?\n",
    "From the first class that you taught me, nothing was gonna stop me?\n",
    "I laid the groundwork and then did the hard work.\n",
    "The test cases all passed one at a time.\n",
    "\n",
    "What if I told you I'm a mastermind?\n",
    "I’m good at data science.\n",
    "It was all by design.\n",
    "And now I'm a mastermind.\n",
    "\n",
    "No one wanted to work with me on the big project. \n",
    "So I've been getting all the tutor help I can get.\n",
    "I think they love me for all the effort I have spent.\n",
    "This is the first time I felt the need to confess.\n",
    "And I swear, I'm only understanding this material \n",
    "'Cause I care.\n",
    "\n",
    "So I told you none of it was accidental.\n",
    "And when finals were graded, nothing was gonna stop me.\n",
    "I peeked at Gradescope, exclaimed with newfound hope, \n",
    "\"My final exam grade is ninety nine!\"\n",
    "\n",
    "Because I am a mastermind.\n",
    "I'm good at data science. \n",
    "Yeah, all I can do is smile.\n",
    "'Cause I'm a mastermind.\n",
    "```\n",
    "\n",
    "\n",
    "\n",
    "\n",
    "\n",
    "\n"
   ]
  },
  {
   "cell_type": "markdown",
   "id": "12a8f0a2",
   "metadata": {},
   "source": [
    "<a id='emojiquiz'></a>\n",
    "\n",
    "## Taylor Swift Emoji Quiz 💯\n",
    "\n",
    "Just for fun, here are some emojis that describe particular Taylor Swift songs. See how many you can identify! We'll post the answers on Ed after the project is due. \n",
    "\n",
    "1. 👋👋👶\n",
    "1. ⛔🎮\n",
    "1. 👑❤\n",
    "1. 🖼🔥\n",
    "1. 🕛🌧\n",
    "1. 🍀 1️⃣\n",
    "1. 📃💍\n",
    "1. ❄🔁\n",
    "1. 😢➡🎸\n",
    "1. 🎠\n",
    "1. 🔎🧶\n",
    "1. 🏹\n",
    "1. ❄🏖\n",
    "1. 🚗💨\n",
    "1. 👎🩸\n",
    "1. 🍭🚫\n",
    "1. 🍾😧\n",
    "1. 🍦🏝\n",
    "1. 🧼🧹\n",
    "1. 🃏🔁\n",
    "1. 🌟💡\n",
    "1. 📜➡🍼\n",
    "1. 🧨✈\n",
    "1. 💕📖\n",
    "1. 🗣⏳\n",
    "1. 👻😱\n",
    "1. 🔌👆\n",
    "1. 🚫🦸‍♀️\n"
   ]
  },
  {
   "cell_type": "markdown",
   "id": "c2515c19",
   "metadata": {},
   "source": [
    "## References and Data Sources 📖\n",
    "\n",
    "If you're interested in learning more about the data and analysis that inspired this project, check out Alice Zhao's blog post [A Data Scientist Breaks Down All 10 Taylor Swift Albums (The Extended Version)](https://adashofdata.com/2023/03/01/a-data-scientist-breaks-down-all-10-taylor-swift-albums-the-extended-version/). Here's a plot from Alice's analysis showing that Taylor Swift's music is getting more experimental over time.\n",
    "\n",
    "<center><img src='data/images/evolution.jpg' width=600></center>\n",
    "\n",
    "Below are links to all the resources we used in developing this project. Thanks to all the people who provide these resources!\n",
    "\n",
    "- Shayna Kothari, [Taylor Swift Lyric Searcher](https://shaynak.github.io/taylor-swift/) and [source code](https://github.com/shaynak/taylor-swift) \n",
    "- Tia Plagata, [How to Create Beautiful Word Clouds in Python](https://towardsdatascience.com/how-to-create-beautiful-word-clouds-in-python-cfcf85141214)\n",
    "- Melanie Walsh, [Introduction to Cultural Analytics & Python](https://melaniewalsh.github.io/Intro-Cultural-Analytics/welcome.html)\n",
    "- Cameron Watts, [Extracting Song Data From the Spotify API Using Python](https://towardsdatascience.com/extracting-song-data-from-the-spotify-api-using-python-b1e79388d50)\n",
    "- Alice Zhao, A Dash of Data, [A Data Scientist Breaks Down All 10 Taylor Swift Albums (The Extended Version)](https://adashofdata.com/2023/03/01/a-data-scientist-breaks-down-all-10-taylor-swift-albums-the-extended-version/) and [source code](https://github.com/adashofdata/taylor_swift_data)\n",
    "- Lyrics data from [Genius API](https://genius.com/)\n",
    "- Musical data from [Spotify API](https://developer.spotify.com/)\n"
   ]
  },
  {
   "cell_type": "markdown",
   "id": "eb775ed3",
   "metadata": {},
   "source": [
    "**_Citations:_** Did you use any generative artificial intelligence tools to assist you on this assignment? If so, please state, for each tool you used, the name of the tool (ex. ChatGPT) and the problem(s) in this assignment where you used the tool for help."
   ]
  },
  {
   "cell_type": "markdown",
   "id": "c08bbb14",
   "metadata": {},
   "source": [
    "<hr style=\"color:Maroon;background-color:Maroon;border:0 none; height: 3px;\">\n",
    "\n",
    "Please cite tools here.\n",
    "\n",
    "<hr style=\"color:Maroon;background-color:Maroon;border:0 none; height: 3px;\">"
   ]
  },
  {
   "cell_type": "markdown",
   "id": "a1262098",
   "metadata": {},
   "source": [
    "## Submission Instructions 📧\n",
    "\n",
    "As usual, follow these steps to submit your assignment:\n",
    "\n",
    "Select `Kernel -> Restart & Run All` to ensure that you have executed all cells, including the test cells.\n",
    "1. Read through the notebook to make sure everything is fine and all tests passed.\n",
    "1. Run the cell below to run all tests, and make sure that they all pass.\n",
    "1. Download your notebook using `File -> Download as -> Notebook (.ipynb)`, then upload your notebook to Gradescope. \n",
    "1. If working with a partner, don't forget to add your partner as a group member on Gradescope!\n",
    "1. Stick around while the Gradescope autograder grades your work. Make sure you see that all tests have passed on Gradescope.\n",
    "1. Check that you have a confirmation email from Gradescope and save it as proof of your submission.\n",
    "\n",
    "If running all the tests at once causes a test to fail that didn't fail when you ran the notebook in order, check to see if you changed a variable's value later in your code. Make sure to use new variable names instead of reusing ones that are used in the tests. \n",
    "\n",
    "Remember, the tests here and on Gradescope just check the format of your answers. We will run correctness tests after the due date has passed."
   ]
  },
  {
   "cell_type": "code",
   "execution_count": null,
   "id": "30bbe30e",
   "metadata": {},
   "outputs": [],
   "source": [
    "grader.check_all()"
   ]
  }
 ],
 "metadata": {
  "kernelspec": {
   "display_name": "Python 3 (ipykernel)",
   "language": "python",
   "name": "python3"
  },
  "language_info": {
   "codemirror_mode": {
    "name": "ipython",
    "version": 3
   },
   "file_extension": ".py",
   "mimetype": "text/x-python",
   "name": "python",
   "nbconvert_exporter": "python",
   "pygments_lexer": "ipython3",
   "version": "3.9.7"
  },
  "vscode": {
   "interpreter": {
    "hash": "aee8b7b246df8f9039afb4144a1f6fd8d2ca17a180786b69acc140d282b71a49"
   }
  }
 },
 "nbformat": 4,
 "nbformat_minor": 5
}
