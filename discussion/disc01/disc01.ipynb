{
 "cells": [
  {
   "cell_type": "markdown",
   "id": "10b7b71e",
   "metadata": {
    "slideshow": {
     "slide_type": "slide"
    }
   },
   "source": [
    "# Discussion 1 – Getting Started with Jupyter Notebooks\n",
    "\n",
    "## DSC 10, Fall 2023"
   ]
  },
  {
   "cell_type": "markdown",
   "id": "f2f0cd79",
   "metadata": {
    "slideshow": {
     "slide_type": "slide"
    }
   },
   "source": [
    "### Agenda\n",
    "\n",
    "- Introduction.\n",
    "- Group activity.\n",
    "- Using Jupyter notebooks.\n",
    "- Good programming style.\n",
    "- Practice problems."
   ]
  },
  {
   "cell_type": "markdown",
   "id": "4e652b89",
   "metadata": {
    "slideshow": {
     "slide_type": "slide"
    }
   },
   "source": [
    "### Hi! I am Arya Rahnama\n",
    "- BS in Computer Science and Mathematics from Oregon State University.\n",
    "- Currently a 1st year Data Science Masters student at UCSD.\n",
    "    - 1st time TAing DSC 10!\n",
    "    - Previously tutored 2x for DSC 40A (Theoretical Foundations of DS).\n",
    "- Data Science internships at Intel and Deloitte.\n",
    "- Outside interests: video games, chess, basketball, my dog."
   ]
  },
  {
   "cell_type": "markdown",
   "id": "345cf667",
   "metadata": {
    "slideshow": {
     "slide_type": "slide"
    }
   },
   "source": [
    "### Important Dates\n",
    "\n",
    "- There are four quizzes throughout the quarter, administered in discussion section:\n",
    "    - Quiz 1: Wednesday, October 11 (next week).\n",
    "    - Quiz 2: Wednesday, October 25.\n",
    "    - Quiz 3: Wednesday, November 15.\n",
    "    - Quiz 4: Wednesday, November 29.\n",
    "- Each quiz is worth 5%, and your lowest quiz is dropped (15% total)."
   ]
  },
  {
   "cell_type": "markdown",
   "id": "3dd1d1dd",
   "metadata": {
    "slideshow": {
     "slide_type": "slide"
    }
   },
   "source": [
    "### Group Activity\n",
    "Find a group of 2-4 people sitting near you and introduce yourself! Ask your classmates about:\n",
    "- Major, college, and year at UCSD.\n",
    "- Hometown (who is from the furthest away?).\n",
    "- Favorite hobby.\n",
    "- Why are you interested in data science?\n",
    "\n",
    "Then complete the next two coding activities together with your group."
   ]
  },
  {
   "cell_type": "markdown",
   "id": "9f6642ff",
   "metadata": {
    "slideshow": {
     "slide_type": "slide"
    }
   },
   "source": [
    "### Coding Activity 1\n",
    "Without running the cells below, can you identify what is wrong with the following code?"
   ]
  },
  {
   "cell_type": "code",
   "execution_count": null,
   "id": "2b8e36a3",
   "metadata": {
    "slideshow": {
     "slide_type": "-"
    }
   },
   "outputs": [],
   "source": [
    "abs(5, -10)"
   ]
  },
  {
   "cell_type": "code",
   "execution_count": null,
   "id": "fed2122c",
   "metadata": {
    "slideshow": {
     "slide_type": "-"
    }
   },
   "outputs": [],
   "source": [
    "a + b = c"
   ]
  },
  {
   "cell_type": "markdown",
   "id": "f2dbe09b",
   "metadata": {
    "slideshow": {
     "slide_type": "slide"
    }
   },
   "source": [
    "### Coding Activity 2\n",
    "What is the value of `x` at the end of these statements? Can you predict what value will be displayed when we run the cell below? "
   ]
  },
  {
   "cell_type": "code",
   "execution_count": null,
   "id": "5cc944d6",
   "metadata": {
    "slideshow": {
     "slide_type": "-"
    }
   },
   "outputs": [],
   "source": [
    "x = 3\n",
    "y = x ** 2\n",
    "x + 7\n",
    "max(x, y)"
   ]
  },
  {
   "cell_type": "markdown",
   "id": "eee08426",
   "metadata": {
    "slideshow": {
     "slide_type": "slide"
    }
   },
   "source": [
    "### Using Jupyter Notebooks\n",
    "\n",
    "Let's see how to:\n",
    "- Add and delete cells, run all, run before, run after. \n",
    "- Run current cell using **shift + enter**. \n",
    "- Change cells to code or markdown.\n",
    "- Enter command mode (blue bar) and edit mode (green bar). \n",
    "- Add cell before with 'a', add cell after with 'b', and delete cell with 'dd'.\n",
    "    - All keyboard shortcuts are under the \"Help\" tab\n",
    "- Comment and indent blocks of text.\n",
    "- Tab to autocomplete variable names.\n",
    "- Display variables in code cells"
   ]
  },
  {
   "cell_type": "markdown",
   "id": "168298d5",
   "metadata": {
    "slideshow": {
     "slide_type": "slide"
    }
   },
   "source": [
    "### Jupyter Notebook Memory\n",
    "- The Jupyter kernel has short-term memory: leaving it for a while or restarting it will cause it to \"forget\" all the variables you've defined.\n",
    "- When this happens, restart the kernel and run all cells.\n",
    "    - In the menu, Kernel -> Restart and Run All does this in one step, but it will stop at the first error it encounters.\n",
    "- Be careful - running cells out of order or running cells multiple times may cause problems."
   ]
  },
  {
   "cell_type": "code",
   "execution_count": null,
   "id": "99e71d2d",
   "metadata": {
    "scrolled": true,
    "slideshow": {
     "slide_type": "slide"
    }
   },
   "outputs": [],
   "source": [
    "a = 3"
   ]
  },
  {
   "cell_type": "code",
   "execution_count": null,
   "id": "9ffd6c53",
   "metadata": {},
   "outputs": [],
   "source": [
    "b = 7"
   ]
  },
  {
   "cell_type": "code",
   "execution_count": null,
   "id": "e1a59295",
   "metadata": {},
   "outputs": [],
   "source": [
    "print(\"a:\", a)\n",
    "print(\"b:\", a)\n",
    "a = a + b\n",
    "a"
   ]
  },
  {
   "cell_type": "markdown",
   "id": "0c1812c9",
   "metadata": {
    "slideshow": {
     "slide_type": "slide"
    }
   },
   "source": [
    "### Navigating Jupyter Notebooks Video\n",
    "\n",
    "We highly recommend watching [this video](https://youtu.be/Hq8VaNirDRQ) for more information. The video is long, but is timestamped so you can jump to specific topics:\n",
    "\n",
    "Timestamps:  \n",
    "0:20 – What is DataHub?  \n",
    "1:04 – Accessing DataHub  \n",
    "2:15 – File organization  \n",
    "4:07 – Clicking links on the course website  \n",
    "6:29 – Uploading files and creating new notebooks  \n",
    "10:02 – Running cells (IMPORTANT!)  \n",
    "10:58 – Test cases in labs vs. homeworks  \n",
    "11:57 – Restarting the kernel  \n",
    "13:49 – Restart and Run All  \n",
    "14:40 – Adding and deleting cells with keyboard shortcuts; command mode vs. edit mode  \n",
    "17:54 – Interrupting the kernel  \n",
    "19:11 – Saving  \n",
    "20:05 – Download as .ipynb (even on iPads!)  "
   ]
  },
  {
   "cell_type": "code",
   "execution_count": null,
   "id": "c1a41334",
   "metadata": {},
   "outputs": [],
   "source": [
    "from IPython.display import YouTubeVideo\n",
    "YouTubeVideo(\"Hq8VaNirDRQ\")"
   ]
  },
  {
   "cell_type": "markdown",
   "id": "29b94e5a",
   "metadata": {
    "slideshow": {
     "slide_type": "slide"
    }
   },
   "source": [
    "### Debugging\n",
    "\n",
    "If you run into a technical issue, check out the [debugging page](https://dsc10.com/debugging/) on the course website."
   ]
  },
  {
   "cell_type": "markdown",
   "id": "48e4b93b",
   "metadata": {
    "slideshow": {
     "slide_type": "slide"
    }
   },
   "source": [
    "### Good programming style\n",
    "#### Variable Names\n",
    "- Choose descriptive, concise variable names.\n",
    "- See [r/badcode](https://www.reddit.com/r/badcode/) for more fun examples.\n",
    "\n",
    "<img src='images/goodcode.png' width=50% style=\"float:left\"> <font color=\"red\" style=\"font-size:2.5em\"> <b>vs</b> </font><img src='images/badcode.png' width=30% style=\"float:right\">"
   ]
  },
  {
   "cell_type": "markdown",
   "id": "a7a54310",
   "metadata": {
    "slideshow": {
     "slide_type": "fragment"
    }
   },
   "source": [
    "- If using multiple words, `separate_like_this` (called snake_case).\n",
    "<center><img src='images/image.png' width=45%></center>"
   ]
  },
  {
   "cell_type": "markdown",
   "id": "7425fc27",
   "metadata": {
    "slideshow": {
     "slide_type": "slide"
    }
   },
   "source": [
    "### Whitespace\n",
    "\n",
    "Whitespace doesn't affect the running of your code in Python, but for readability (and future classes or programming languages!) this is important.\n",
    "\n",
    "- Put spaces in between operators (`x = 1` vs `x=1`).\n",
    "- Don't be afraid to start new lines or create new variables if your line of code becomes too long.\n",
    "- Break up long lines of code with `\\`.\n",
    "<img src='images/example.png' width=70%>"
   ]
  },
  {
   "cell_type": "code",
   "execution_count": null,
   "id": "c6f404dd",
   "metadata": {
    "slideshow": {
     "slide_type": "slide"
    }
   },
   "outputs": [],
   "source": [
    "# Comment your code like this!\n",
    "section_a_students = 150\n",
    "total_students = 525 # Total number of students in all sections of the class."
   ]
  },
  {
   "cell_type": "markdown",
   "id": "c6dc2427",
   "metadata": {
    "slideshow": {
     "slide_type": "slide"
    }
   },
   "source": [
    "### Practice problems\n",
    "\n",
    "Navigate to [practice.dsc10.com](https://practice.dsc10.com) to work on today's problem set in small groups. These questions are designed to give you practice for quizzes and exams. Work on them **on paper** without using a Jupyter notebook."
   ]
  }
 ],
 "metadata": {
  "kernelspec": {
   "display_name": "Python 3 (ipykernel)",
   "language": "python",
   "name": "python3"
  },
  "language_info": {
   "codemirror_mode": {
    "name": "ipython",
    "version": 3
   },
   "file_extension": ".py",
   "mimetype": "text/x-python",
   "name": "python",
   "nbconvert_exporter": "python",
   "pygments_lexer": "ipython3",
   "version": "3.9.7"
  },
  "latex_envs": {
   "LaTeX_envs_menu_present": true,
   "autoclose": false,
   "autocomplete": true,
   "bibliofile": "biblio.bib",
   "cite_by": "apalike",
   "current_citInitial": 1,
   "eqLabelWithNumbers": true,
   "eqNumInitial": 1,
   "hotkeys": {
    "equation": "Ctrl-E",
    "itemize": "Ctrl-I"
   },
   "labels_anchors": false,
   "latex_user_defs": false,
   "report_style_numbering": false,
   "user_envs_cfg": false
  },
  "livereveal": {
   "scroll": true,
   "transition": "none"
  },
  "rise": {
   "enable_chalkboard": true
  }
 },
 "nbformat": 4,
 "nbformat_minor": 5
}
