{
 "cells": [
  {
   "cell_type": "markdown",
   "metadata": {},
   "source": [
    "# Homework 2: DataFrames, Data Visualization, and Functions\n",
    "\n",
    "## Due Tuesday, April 25 at 11:59PM\n",
    "\n",
    "Welcome to Homework 2! This week, we will cover DataFrame manipulations, making visualizations, and defining functions. You can find additional help on these topics in  [BPD 6, 9-12](https://notes.dsc10.com/01-getting_started/functions-defining.html) in the `babypandas` notes and [CIT 7-7.3](https://inferentialthinking.com/chapters/07/Visualization.html) in the textbook."
   ]
  },
  {
   "cell_type": "markdown",
   "metadata": {},
   "source": [
    "### Instructions\n",
    "\n",
    "Remember to start early and submit often. You are given six slip days throughout the quarter to extend deadlines. See the syllabus for more details. With the exception of using slip days, late work will not be accepted unless you have made special arrangements with your instructor.\n",
    "\n",
    "**Important**: For homeworks, the `otter` tests don't usually tell you that your answer is correct. More often, they help catch careless mistakes. It's up to you to ensure that your answer is correct. If you're not sure, ask someone (not for the answer, but for some guidance about your approach). These are great questions for office hours (see the schedule on the [Calendar](https://dsc10.com/calendar)) or Ed. Directly sharing answers is not okay, but discussing problems with the course staff or with other students is encouraged. \n",
    "\n",
    "**Please do not use for-loops for any questions in this homework.** If you don't know what a for-loop is, don't worry – we haven't covered them yet. But if you do know what they are and are wondering why it's not OK to use them, it is because loops in Python are slow, and looping over arrays and DataFrames should usually be avoided."
   ]
  },
  {
   "cell_type": "code",
   "execution_count": null,
   "metadata": {},
   "outputs": [],
   "source": [
    "# Please don't change this cell, but do make sure to run it\n",
    "import babypandas as bpd\n",
    "import numpy as np\n",
    "\n",
    "import matplotlib.pyplot as plt\n",
    "plt.style.use('ggplot')\n",
    "plt.rcParams['figure.figsize'] = (10, 5)\n",
    "\n",
    "import otter\n",
    "grader = otter.Notebook()\n",
    "\n",
    "import warnings\n",
    "warnings.simplefilter('ignore')"
   ]
  },
  {
   "cell_type": "markdown",
   "metadata": {},
   "source": [
    "## 1. Are You Scared Yet? Analyzing Horror Movies 🎃😱"
   ]
  },
  {
   "cell_type": "markdown",
   "metadata": {},
   "source": [
    "<center><img src=\"./images/hocus_pocus.jpg\" width = 400/></center>\n",
    "\n",
    "Spooky season may have passed a few months ago, but it's never too late to watch horror movies! We've provided a file, `data/horror_movies.csv`, that contains information about 464 movies. For each movie, we have 10 pieces of information (see the data description below) that we'll use to generate some insights about the state of horror movies in recent years. \n",
    "\n",
    "| Column      | Description |\n",
    "| ----------- | ----------- |\n",
    "| `'Title'`      | Title of the movie       |\n",
    "| `'Country'`   | Country the movie was originally released in        |\n",
    "| `'Maturity Rating'` | A rating given to the movie by the Motion Picture Association |\n",
    "| `'Review Rating'` | The IMDb rating of the film, representing how good it was | \n",
    "| `'Language'` | The language the movie is in | \n",
    "| `'Filming Locations'` | The location in which the movie was filmed |\n",
    "| `'Budget'` | The total amount spent on the movie |\n",
    "| `'Release Month'` | The month the movie was released |\n",
    "| `'Release Day'` | The day the movie was released |\n",
    "| `'Run Time'` | The length of the film in minutes |"
   ]
  },
  {
   "cell_type": "markdown",
   "metadata": {},
   "source": [
    "Run the cell below to read the file containing all of the horror movies into a DataFrame called `horror`."
   ]
  },
  {
   "cell_type": "code",
   "execution_count": null,
   "metadata": {},
   "outputs": [],
   "source": [
    "horror = bpd.read_csv('data/horror_movies.csv') \n",
    "horror"
   ]
  },
  {
   "cell_type": "markdown",
   "metadata": {},
   "source": [
    "**Question 1.1.** Examine the columns available in `horror` and consider which would be the best choice of index for this DataFrame. Change the `horror` DataFrame so that it's indexed by the values in this column instead of the default index."
   ]
  },
  {
   "cell_type": "code",
   "execution_count": null,
   "metadata": {
    "scrolled": true
   },
   "outputs": [],
   "source": [
    "horror = ...\n",
    "horror"
   ]
  },
  {
   "cell_type": "code",
   "execution_count": null,
   "metadata": {
    "deletable": false,
    "editable": false
   },
   "outputs": [],
   "source": [
    "grader.check(\"q1_1\")"
   ]
  },
  {
   "cell_type": "markdown",
   "metadata": {},
   "source": [
    "_Note:_ If you were to run the cell where you set the index of `horror` again, you'd see an error message. Stop and think about _why_ you'd run into an error. Once you've thought about it, click the thinking emoji below to see the reason for the error.\n",
    "\n",
    "<br>\n",
    "\n",
    "<details>\n",
    "    <summary>Why would there be an error? 🤔</summary>\n",
    "    There would be an error since you'd be trying to set the index of <code>horror</code> to a column that no longer exists in <code>horror</code> – the column wouldn't exist because it was converted to the index the first time you ran the cell (and the index is not a column)!\n",
    "</details>\n",
    "\n",
    "If you acually ran the cell twice and got an error message, don't worry. To get rid of it, re-run the cell in 1.1 where you defined the `horror` DataFrame, then run the cell in 1.2 just once, and you'll be good to go.\n",
    "\n",
    "When you submit your work for autograding, the entire notebook will be run from start to finish. Each cell will run only once, so it's no problem if your code errors on the second run. In this case, it means you're doing something right!"
   ]
  },
  {
   "cell_type": "markdown",
   "metadata": {},
   "source": [
    "**Question 1.2.** *Dream Nightmare*, released in 2016, is one of the three lowest-budget movies in our dataset. What is the budget of `'Dream Nightmare (2016)'`, and what is its `'Review Rating'`? Assign your answers to variables `DN_budget` and `DN_rating`, respectively."
   ]
  },
  {
   "cell_type": "code",
   "execution_count": null,
   "metadata": {},
   "outputs": [],
   "source": [
    "DN_budget = ...\n",
    "DN_rating = ...\n",
    "print(\"The budget for Dream Nightmare was\", DN_budget, \"and the rating was\", DN_rating)"
   ]
  },
  {
   "cell_type": "code",
   "execution_count": null,
   "metadata": {
    "deletable": false,
    "editable": false
   },
   "outputs": [],
   "source": [
    "grader.check(\"q1_2\")"
   ]
  },
  {
   "cell_type": "markdown",
   "metadata": {},
   "source": [
    "**Question 1.3.** Assign `lowest_rated_movie` to the name of the movie with the lowest `'Review Rating'` (including the year in parentheses), and set the `'Review Rating'` of that movie to `lowest_rating`."
   ]
  },
  {
   "cell_type": "code",
   "execution_count": null,
   "metadata": {},
   "outputs": [],
   "source": [
    "lowest_rated_movie = ...\n",
    "lowest_rating = ...\n",
    "print(\"The lowest-rated movie is\", lowest_rated_movie, \"with a rating of\", lowest_rating)"
   ]
  },
  {
   "cell_type": "code",
   "execution_count": null,
   "metadata": {
    "deletable": false,
    "editable": false
   },
   "outputs": [],
   "source": [
    "grader.check(\"q1_3\")"
   ]
  },
  {
   "cell_type": "markdown",
   "metadata": {},
   "source": [
    "**Question 1.4.** That's a very low rating, but how does that compare to the other movies included in the dataset? First, plot a density histogram that shows the distribution of `'Review Rating'`. Then compute the difference between the lowest rating and the **median** movie rating, and assign the result to the variable `below_med`.\n",
    "\n",
    "When plotting your histogram, remember to set `density=True` and `ec='w'`. You don't have to set the `bins` argument."
   ]
  },
  {
   "cell_type": "code",
   "execution_count": null,
   "metadata": {},
   "outputs": [],
   "source": [
    "# Create your histogram here.\n",
    "\n",
    "# Then calculate below_med.\n",
    "below_med = ...\n",
    "below_med"
   ]
  },
  {
   "cell_type": "code",
   "execution_count": null,
   "metadata": {
    "deletable": false,
    "editable": false
   },
   "outputs": [],
   "source": [
    "grader.check(\"q1_4\")"
   ]
  },
  {
   "cell_type": "markdown",
   "metadata": {},
   "source": [
    "**Question 1.5.** How many movies in our dataset were released in April and have been given a `'Maturity Rating'`? Note that movies without a `'Maturity Rating'` appear as either `'NOT RATED'` or `'UNRATED'`.  Set the number of such movies equal to the variable `apr_rated_count`."
   ]
  },
  {
   "cell_type": "code",
   "execution_count": null,
   "metadata": {},
   "outputs": [],
   "source": [
    "apr_rated_count = ...\n",
    "apr_rated_count"
   ]
  },
  {
   "cell_type": "code",
   "execution_count": null,
   "metadata": {
    "deletable": false,
    "editable": false
   },
   "outputs": [],
   "source": [
    "grader.check(\"q1_5\")"
   ]
  },
  {
   "cell_type": "markdown",
   "metadata": {},
   "source": [
    "**Question 1.6.** Which movie titles contain the word `'night'`, with any capitalization? Create an *array* called `night_movies` containing the titles of all such movies, capitalized exactly as they appear in the DataFrame. \n",
    "\n",
    "*Hints:*\n",
    "- To convert a Series into an array, call the function `np.array` on the Series.\n",
    "- The movie names are all strings, so they may have inconsistencies in how they're capitalized. We want to count movie titles with the words `'Night'`, `'night'`, and even `'NiGHt'`. If we want to account for variations in capitalization, what operation should we call on the movie names **first**? (You may end up using `.str` twice! [This video](https://www.youtube.com/watch?v=TCcEhVA6Euw&list=PLDNbnocpJUhbczUw2Rw6bqreEECMvZ8gN&index=2) and [this section of Lecture 6](https://dsc10.com/resources/lectures/lec06/lec06.html#How-do-we-include-songs-with-other-artists,-as-well?) may help.)"
   ]
  },
  {
   "cell_type": "code",
   "execution_count": null,
   "metadata": {},
   "outputs": [],
   "source": [
    "night_movies = ...\n",
    "night_movies"
   ]
  },
  {
   "cell_type": "code",
   "execution_count": null,
   "metadata": {
    "deletable": false,
    "editable": false
   },
   "outputs": [],
   "source": [
    "grader.check(\"q1_6\")"
   ]
  },
  {
   "cell_type": "markdown",
   "metadata": {},
   "source": [
    "**Question 1.7.** What proportion of movies in our dataset were originally released in each country? Create a DataFrame indexed by `'Country'` with one column called `'Proportion'` containing the proportion of movies in the dataset that were released in that country. Order the rows in descending order of `'Proportion'` and assign this DataFrame to `country_proportions`.\n",
    "\n",
    "*Hints:*\n",
    "- Proportions can be easily calculated from counts.\n",
    "- If you pass in a **list** of columns names to `.get()`, the result will be a DataFrame containing only the columns specified in the list. "
   ]
  },
  {
   "cell_type": "code",
   "execution_count": null,
   "metadata": {},
   "outputs": [],
   "source": [
    "country_proportions = ...\n",
    "country_proportions"
   ]
  },
  {
   "cell_type": "code",
   "execution_count": null,
   "metadata": {
    "deletable": false,
    "editable": false
   },
   "outputs": [],
   "source": [
    "grader.check(\"q1_7\")"
   ]
  },
  {
   "cell_type": "markdown",
   "metadata": {},
   "source": [
    "**Question 1.8**  Create a horizontal bar chart that displays the median `'Review Rating'` for each country. Sort the bars so the country that with the lowest median appears at the very top, and the country with the highest median appears at the bottom.\n",
    "\n",
    "_*Hint*_: To get the bar chart to display nicely, try adding the keyword argument `figsize=(10, 10)`."
   ]
  },
  {
   "cell_type": "markdown",
   "metadata": {
    "deletable": false,
    "editable": false
   },
   "source": [
    "<!-- BEGIN QUESTION -->\n",
    "\n",
    "<!--\n",
    "BEGIN QUESTION\n",
    "name: q1_8\n",
    "manual: True\n",
    "-->"
   ]
  },
  {
   "cell_type": "code",
   "execution_count": null,
   "metadata": {},
   "outputs": [],
   "source": [
    "# Create your bar chart here.\n",
    "..."
   ]
  },
  {
   "cell_type": "markdown",
   "metadata": {},
   "source": [
    "<!-- END QUESTION -->\n",
    "\n",
    "\n",
    "\n",
    "## 2. Shine Bright Like a Diamond 💎"
   ]
  },
  {
   "cell_type": "markdown",
   "metadata": {},
   "source": [
    "In this section, we're going to be working alongside Jack the Jeweler to learn more about the diamond business! The data in `data/diamonds.csv` contains details about 10,000 diamonds, including the quality, dimensions, and price. The information about these diamonds can help Jack get a better understanding about what is valued most in the diamond business. The columns are described below:\n",
    "\n",
    "| Column      | Description |\n",
    "| ----------- | ----------- |\n",
    "| `'carat'`      | The number of carats of the diamond       |\n",
    "| `'cut'`   | The cut quality of the diamond   |\n",
    "| `'color'` | The color of the diamond |\n",
    "| `'clarity'` | The clarity of the diamond | \n",
    "| `'price'` | The diamond's price |\n",
    "| `'x'` | The length of the diamond, in mm |\n",
    "| `'y'` | The width of the diamond, in mm |\n",
    "| `'z'` | The depth of the diamond, in mm |"
   ]
  },
  {
   "cell_type": "markdown",
   "metadata": {},
   "source": [
    "Run the cell below to read in the data."
   ]
  },
  {
   "cell_type": "code",
   "execution_count": null,
   "metadata": {},
   "outputs": [],
   "source": [
    "diamonds = bpd.read_csv('data/diamonds.csv')\n",
    "diamonds"
   ]
  },
  {
   "cell_type": "markdown",
   "metadata": {},
   "source": [
    "**Question 2.1.** One of the first things that Jack learned about when entering the diamond business was the *depth percentage* measurement. The depth percentage of a diamond is ratio of the depth to the mean of the width and length, times 100:\n",
    "\n",
    "$$\\text{depth percentage} =\\dfrac{\\text{depth (in mm)}}{\\text{mean of width and length (in mm)}} \\cdot 100$$\n",
    "    \n",
    "Assign to the variable `depth_percentage` a Series with the depth percentage of each diamond in `diamonds`. Then, add a column named `'depth_percentage'` containing this Series to the `diamonds` DataFrame."
   ]
  },
  {
   "cell_type": "code",
   "execution_count": null,
   "metadata": {},
   "outputs": [],
   "source": [
    "depth_percentage = ...\n",
    "diamonds = ...\n",
    "diamonds"
   ]
  },
  {
   "cell_type": "code",
   "execution_count": null,
   "metadata": {
    "deletable": false,
    "editable": false
   },
   "outputs": [],
   "source": [
    "grader.check(\"q2_1\")"
   ]
  },
  {
   "cell_type": "markdown",
   "metadata": {},
   "source": [
    "Depth percentage is important to jewelers because it determines how light refracts through the stone, which in turn affects the visual appearance of the diamond. Diamonds that are too shallow have grey rings (called \"fish eyes\" 🐟 ), and diamonds that are too deep have dark spots in the middle (called \"nail heads\" 🔨). The ideal depth percentage for a diamond is between 54 and 66 percent, inclusive. These diamonds really sparkle! ✨"
   ]
  },
  {
   "cell_type": "markdown",
   "metadata": {},
   "source": [
    "<center><img src=images/depth_percentage.jpg width=500>\n",
    "(<a href=\"https://www.ori-diamonds.com/blog/diamond-depth\">source</a>)</center>"
   ]
  },
  {
   "cell_type": "markdown",
   "metadata": {},
   "source": [
    "**Question 2.2.** Jack is curious as to how common ideally proportioned diamonds actually are. Calculate the proportion of diamonds that have an ideal depth percentage (between 54 to 66 percent, inclusive) and set the result to the variable `ideal_prop`."
   ]
  },
  {
   "cell_type": "code",
   "execution_count": null,
   "metadata": {
    "scrolled": true
   },
   "outputs": [],
   "source": [
    "ideal_prop = ...\n",
    "ideal_prop"
   ]
  },
  {
   "cell_type": "code",
   "execution_count": null,
   "metadata": {
    "deletable": false,
    "editable": false
   },
   "outputs": [],
   "source": [
    "grader.check(\"q2_2\")"
   ]
  },
  {
   "cell_type": "markdown",
   "metadata": {},
   "source": [
    "**Question 2.3.** Jack has been taught that the depth percentage has an impact on the visual impact of a diamond, which he suspects also affects the price. Create a scatter plot showing how the price of a diamond varies with its depth percentage."
   ]
  },
  {
   "cell_type": "markdown",
   "metadata": {
    "deletable": false,
    "editable": false
   },
   "source": [
    "<!-- BEGIN QUESTION -->\n",
    "\n",
    "<!--\n",
    "BEGIN QUESTION\n",
    "name: q2_3\n",
    "manual: True\n",
    "-->"
   ]
  },
  {
   "cell_type": "code",
   "execution_count": null,
   "metadata": {},
   "outputs": [],
   "source": [
    "# Create your scatter plot here.\n",
    "..."
   ]
  },
  {
   "cell_type": "markdown",
   "metadata": {},
   "source": [
    "<!-- END QUESTION -->\n",
    "\n",
    "\n",
    "\n",
    "Hmm... perhaps there's a bit more to diamond pricing than just depth percentage! Jack explains that there are four common measures of the quality of a diamond, sometimes called the 4 C's: `'carat'`, `'cut'`, `'clarity'`, and `'color'`.\n",
    "\n",
    "1) The `'carat'` simply measures the weight of the diamond. \n",
    "\n",
    "2) The `'cut'` is related to the depth proportion, and is considered either Ideal, Premium, Very Good, Good, or Fair (in descending order of quality).\n",
    "\n",
    "3) The `'clarity'` describes whether the diamond has any flaws. In descending order of quality, the values of `'clarity'` in our dataset are `'IF'` (which stands for \"internally flawless\"), `'VVS1'`, `'VVS2'`, `'VS1'`, `'VS2'`, `'SI1'`, `'SI2'`, and `'I1'`.\n",
    "\n",
    "<br>\n",
    "\n",
    "<center><img src=images/clarity.jpg width=400>\n",
    "(<a href=\"https://www.petragems.com/education/diamond-clarity/\">source</a>)</center>\n",
    "\n",
    "4) The `'color'` of each diamond in our dataset is described by a letter between `'D'` and `'J'`, where `'D'` represents a diamond with no color, and `'J'` represents a diamond with some color to it. Diamonds with less color are considered higher quality.\n",
    "\n",
    "<center><img src=images/color.jpg width=200>\n",
    "(<a href=\"https://bashertjewelry.com/pages/diamonds-color-grading\">source</a>)</center>\n",
    "\n",
    "The `'carat'` column of `diamonds` contains numerical data, but the columns for the other 3 C's contain ordered categorical data. Since the data has an order to it, we can convert the values in those columns into numerical values, to make for easier comparisons. For example, if we assign all the values of `'J'` in the `'color'` column to 1, all the values of `'I'` in the `'color'` column to 2, etc., we'll more easily be able to search for diamonds where the color is better than an `'F'` (we could search for color values greater than 5).\n",
    "\n",
    "For each of `'cut'`, `'clarity'`, and `'color'`, let's translate the data from categorical values to numerical values. For all three of these quality measures, we'll use the number 1 to represent the lowest quality category, and we'll count up from there by one for each category. For example, the numbers for `'clarity'` will range from 1 (for `'I1'`-rated diamonds) to 8 (for internally flawless, or `'IF'`-rated diamonds).\n"
   ]
  },
  {
   "cell_type": "markdown",
   "metadata": {},
   "source": [
    "One way to do this conversion is to use a Python [dictionary](https://www.tutorialspoint.com/python/python_dictionary.htm).  A dictionary is a simple way to map a unique key to a value.  For example, the dictionary below maps course codes to course names."
   ]
  },
  {
   "cell_type": "code",
   "execution_count": null,
   "metadata": {},
   "outputs": [],
   "source": [
    "dsc_courses = {\n",
    "    # key: value\n",
    "    'DSC 10': 'Principles of Data Science',\n",
    "    'DSC 20': 'Programming and Basic Data Structures for Data Science',\n",
    "    'DSC 30': 'Data Structures and Algorithms for Data Science',\n",
    "    'DSC 40A': 'Theoretical Foundations of Data Science I',\n",
    "    'DSC 40B': 'Theoretical Foundations of Data Science II',\n",
    "    'DSC 80': 'The Practice and Application of Data Science'\n",
    "}"
   ]
  },
  {
   "cell_type": "markdown",
   "metadata": {},
   "source": [
    "We can access the value corresponding to each key using bracket notation."
   ]
  },
  {
   "cell_type": "code",
   "execution_count": null,
   "metadata": {},
   "outputs": [],
   "source": [
    "dsc30_name = dsc_courses['DSC 30']\n",
    "dsc30_name"
   ]
  },
  {
   "cell_type": "markdown",
   "metadata": {},
   "source": [
    "Here, `'DSC 30'` is the key and `'Data Structures and Algorithms for Data Science'` is the value.\n",
    "\n",
    "Use dictionaries to help in categorical to numerical value conversions. For example, below is a dictionary containing each category in `'clarity'` as keys and numbers 1-8 as values."
   ]
  },
  {
   "cell_type": "code",
   "execution_count": null,
   "metadata": {},
   "outputs": [],
   "source": [
    "clarity_nums = {\n",
    "    'IF': 8,\n",
    "    'VVS1': 7,\n",
    "    'VVS2': 6,\n",
    "    'VS1': 5,\n",
    "    'VS2': 4,\n",
    "    'SI1': 3,\n",
    "    'SI2': 2,\n",
    "    'I1': 1\n",
    "}"
   ]
  },
  {
   "cell_type": "markdown",
   "metadata": {},
   "source": [
    "**Question 2.4.** Create three functions, called `cut_numerical`, `clarity_numerical` and `color_numerical`, where each function takes in a string value describing the categorical quality for the `'cut'`, `'clarity'`, or `'color'`, respectively, and outputs the corresponding numerical value, as described above.\n",
    "\n",
    "*Hint*: When implementing `clarity_numerical`, you can use the dictionary `clarity_nums` defined above; if you do so, your implementation of `clarity_numerical` should only take one line of code. When implementing the other two functions, you may want to define your own dictionaries. There is a way to implement these functions that doesn't involve dictionaries, but you'll find that the dictionary approach is much more concise."
   ]
  },
  {
   "cell_type": "code",
   "execution_count": null,
   "metadata": {},
   "outputs": [],
   "source": [
    "def cut_numerical(cut):\n",
    "    ...\n",
    "    \n",
    "def clarity_numerical(clarity):\n",
    "    ...\n",
    "\n",
    "def color_numerical(color):\n",
    "    ..."
   ]
  },
  {
   "cell_type": "code",
   "execution_count": null,
   "metadata": {
    "deletable": false,
    "editable": false
   },
   "outputs": [],
   "source": [
    "grader.check(\"q2_4\")"
   ]
  },
  {
   "cell_type": "markdown",
   "metadata": {},
   "source": [
    "**Question 2.5.** Now, replace the categorical values in the `'cut'`, `'clarity'`, and `'color'` columns of `diamonds` with their numerical equivalents.\n",
    "\n",
    "_Hint_: You can use the `.assign` method to replace values in a column, without having to create additional columns."
   ]
  },
  {
   "cell_type": "code",
   "execution_count": null,
   "metadata": {},
   "outputs": [],
   "source": [
    "diamonds = ...\n",
    "diamonds"
   ]
  },
  {
   "cell_type": "code",
   "execution_count": null,
   "metadata": {
    "deletable": false,
    "editable": false
   },
   "outputs": [],
   "source": [
    "grader.check(\"q2_5\")"
   ]
  },
  {
   "cell_type": "markdown",
   "metadata": {},
   "source": [
    "**Question 2.6.** One of Jack's customers comes into Jack's store asking for a diamond whose `'cut'` is `'Premium'` or better, and whose `'color'` is `'F'` or better. The customer only has $500 to spend on a diamond. Assign `customer_choices` to a DataFrame of all the diamonds in `diamonds` that fit the customer's criteria and budget."
   ]
  },
  {
   "cell_type": "code",
   "execution_count": null,
   "metadata": {},
   "outputs": [],
   "source": [
    "customer_choices = ...\n",
    "customer_choices"
   ]
  },
  {
   "cell_type": "code",
   "execution_count": null,
   "metadata": {
    "deletable": false,
    "editable": false
   },
   "outputs": [],
   "source": [
    "grader.check(\"q2_6\")"
   ]
  },
  {
   "cell_type": "markdown",
   "metadata": {},
   "source": [
    "**Question 2.7.** Jack wants you to find out which of the 4 C's is most closely connected to the price of a diamond. Assign an integer from 1 to 4 representing your answer to Jack's question to the variable `best_price_indicator`.\n",
    "\n",
    "1. `'carat'`\n",
    "2. `'cut'`\n",
    "3. `'clarity'`\n",
    "4. `'color'`\n",
    "\n",
    "*Hint*: Use scatter plots to see the relationship of each variable with `'price'`."
   ]
  },
  {
   "cell_type": "code",
   "execution_count": null,
   "metadata": {},
   "outputs": [],
   "source": [
    "best_price_indicator = ..."
   ]
  },
  {
   "cell_type": "code",
   "execution_count": null,
   "metadata": {
    "deletable": false,
    "editable": false
   },
   "outputs": [],
   "source": [
    "grader.check(\"q2_7\")"
   ]
  },
  {
   "cell_type": "markdown",
   "metadata": {},
   "source": [
    "**Question 2.8.** Jack asks you to show him the median price of a diamond as the length of the diamond (in mm) increases. Since Jack is more of a visuals type of person, he wants you to show him this trend in a graph. Create a plot that shows the trend of the median price of a diamond as the length of the diamond increases."
   ]
  },
  {
   "cell_type": "markdown",
   "metadata": {
    "deletable": false,
    "editable": false
   },
   "source": [
    "<!-- BEGIN QUESTION -->\n",
    "\n",
    "<!--\n",
    "BEGIN QUESTION\n",
    "name: q2_8\n",
    "manual: True\n",
    "-->"
   ]
  },
  {
   "cell_type": "code",
   "execution_count": null,
   "metadata": {},
   "outputs": [],
   "source": [
    "# Create your plot here.\n",
    "..."
   ]
  },
  {
   "cell_type": "markdown",
   "metadata": {},
   "source": [
    "<!-- END QUESTION -->\n",
    "\n",
    "\n",
    "\n",
    "## 3. Game On! 🎮"
   ]
  },
  {
   "cell_type": "markdown",
   "metadata": {},
   "source": [
    "Here, we'll be working with a dataset taken from [Kaggle](https://www.kaggle.com/datasets/rush4ratio/video-game-sales-with-ratings) that contains sales information for thousands of video games, including some released this year. In the cell below, we load the dataset in as a DataFrame named `video_games`. Take some time to understand what each column of `video_games` represents, as we haven't provided you with a description of each column."
   ]
  },
  {
   "cell_type": "code",
   "execution_count": null,
   "metadata": {},
   "outputs": [],
   "source": [
    "# Run this cell to load the dataset.\n",
    "video_games = bpd.read_csv('data/video_game_ratings.csv')\n",
    "video_games"
   ]
  },
  {
   "cell_type": "markdown",
   "metadata": {},
   "source": [
    "**Question 3.1.** If you look at the `'votes'` column in the DataFrame, you'll notice that there are commas in some of the numbers. For example, in the second row of the DataFrame, the value in the `'votes'` column is `'36,441'`. These commas indicate that the `'votes'` column contains strings, not integers, since Python never displays integers with commas.\n",
    "\n",
    "Write a function `convert_votes_to_int` that takes in a string `v` as input and outputs `v` as an integer, after removing any commas. \n",
    "\n",
    "Then, use your function to update the `'votes'` column in the `video_games` DataFrame so that it contains integers rather than strings. Make sure to \"save\" your changes in the `video_games` DataFrame!"
   ]
  },
  {
   "cell_type": "code",
   "execution_count": null,
   "metadata": {},
   "outputs": [],
   "source": [
    "def convert_votes_to_int(v):\n",
    "    ..."
   ]
  },
  {
   "cell_type": "code",
   "execution_count": null,
   "metadata": {},
   "outputs": [],
   "source": [
    "video_games = ...\n",
    "video_games"
   ]
  },
  {
   "cell_type": "code",
   "execution_count": null,
   "metadata": {
    "deletable": false,
    "editable": false
   },
   "outputs": [],
   "source": [
    "grader.check(\"q3_1\")"
   ]
  },
  {
   "cell_type": "markdown",
   "metadata": {},
   "source": [
    "**Question 3.2.** You are curious as to whether there is a relationship between the number of votes a game receives and the rating of the game. Create an appropriate plot that shows the relationship between these two variables."
   ]
  },
  {
   "cell_type": "code",
   "execution_count": null,
   "metadata": {},
   "outputs": [],
   "source": [
    "# Create your plot here.\n",
    "..."
   ]
  },
  {
   "cell_type": "markdown",
   "metadata": {},
   "source": [
    "Now, use the plot you made to answer the following question: \n",
    "\n",
    "> What type of ratings do video games with a higher number of votes tend to have?\n",
    "\n",
    "Assign an integer from 1 to 3 representing your answer to the variable `q3_2`.\n",
    "\n",
    "1. Video games with a higher number of votes tend to have higher ratings.\n",
    "2. Video games with a higher number of votes tend to have lower ratings.\n",
    "3. There is no association between number of votes and rating."
   ]
  },
  {
   "cell_type": "code",
   "execution_count": null,
   "metadata": {},
   "outputs": [],
   "source": [
    "q3_2 = ...\n",
    "q3_2"
   ]
  },
  {
   "cell_type": "code",
   "execution_count": null,
   "metadata": {
    "deletable": false,
    "editable": false
   },
   "outputs": [],
   "source": [
    "grader.check(\"q3_2\")"
   ]
  },
  {
   "cell_type": "markdown",
   "metadata": {},
   "source": [
    "**Question 3.3.** Assign `most_common_genres` to a DataFrame that contains the ten most common genres of video games, in descending order. The DataFrame should be indexed by `'genre'` and have only one column, `'count'`, which is the number of video games in that genre.\n",
    "\n",
    "*Note:* For this question, we will treat each video game as having only one genre. For example, `'Action, Adventure, Drama'` is considered to be its own genre."
   ]
  },
  {
   "cell_type": "code",
   "execution_count": null,
   "metadata": {
    "scrolled": true
   },
   "outputs": [],
   "source": [
    "most_common_genres = ...\n",
    "most_common_genres"
   ]
  },
  {
   "cell_type": "code",
   "execution_count": null,
   "metadata": {
    "deletable": false,
    "editable": false
   },
   "outputs": [],
   "source": [
    "grader.check(\"q3_3\")"
   ]
  },
  {
   "cell_type": "markdown",
   "metadata": {},
   "source": [
    "**Question 3.4.** Using the `most_common_genres` DataFrame you created in Question 3.3, create a horizontal bar chart that shows the distribution of video games into these ten genres. Make sure your plot has the most common genre as the top-most bar in the bar chart."
   ]
  },
  {
   "cell_type": "markdown",
   "metadata": {
    "deletable": false,
    "editable": false
   },
   "source": [
    "<!-- BEGIN QUESTION -->\n",
    "\n",
    "<!--\n",
    "BEGIN QUESTION\n",
    "name: q3_4\n",
    "manual: true\n",
    "-->"
   ]
  },
  {
   "cell_type": "code",
   "execution_count": null,
   "metadata": {},
   "outputs": [],
   "source": [
    "# Create your plot here.\n",
    "..."
   ]
  },
  {
   "cell_type": "markdown",
   "metadata": {},
   "source": [
    "<!-- END QUESTION -->\n",
    "\n",
    "\n",
    "\n",
    "**Question 3.5.** Assign the variable `third_lowest` to the genre of video games with the third lowest average rating (among all genres, not just the ones you looked at in Questions 3.3 and 3.4).\n",
    "\n",
    "Do not manually type out your answer. Use `babypandas` methods to produce the answer.\n",
    "\n",
    "*Note:* Again, we will consider a video game with multiple genres to have only one genre. For example, `'Action, Adventure, Drama'` is considered to be its own genre."
   ]
  },
  {
   "cell_type": "code",
   "execution_count": null,
   "metadata": {},
   "outputs": [],
   "source": [
    "third_lowest = ...\n",
    "third_lowest"
   ]
  },
  {
   "cell_type": "code",
   "execution_count": null,
   "metadata": {
    "deletable": false,
    "editable": false
   },
   "outputs": [],
   "source": [
    "grader.check(\"q3_5\")"
   ]
  },
  {
   "cell_type": "markdown",
   "metadata": {},
   "source": [
    "**Question 3.6.** Create a histogram showing the distribution of video game ratings in the `video_games` DataFrame.\n",
    "\n",
    "Remember to set `density=True` since we always use density histograms and `ec='w'` to make the separation of the bars more clear. You don't have to set the `bins` argument."
   ]
  },
  {
   "cell_type": "markdown",
   "metadata": {
    "deletable": false,
    "editable": false
   },
   "source": [
    "<!-- BEGIN QUESTION -->\n",
    "\n",
    "<!--\n",
    "BEGIN QUESTION\n",
    "name: q3_6\n",
    "manual: true\n",
    "-->"
   ]
  },
  {
   "cell_type": "code",
   "execution_count": null,
   "metadata": {},
   "outputs": [],
   "source": [
    "# Create your plot here.\n",
    "..."
   ]
  },
  {
   "cell_type": "markdown",
   "metadata": {
    "deletable": false,
    "editable": false
   },
   "source": [
    "<!-- END QUESTION -->\n",
    "\n",
    "**Question 3.7.** There is one director who has directed exactly 27 video games **alone** (with no-codirectors).\n",
    "\n",
    "Below, assign `director_of_27` to the name of this director. Do not manually type out the director's name. Instead, use `babypandas` methods to extract the name.\n",
    "\n",
    "<!--\n",
    "BEGIN QUESTION\n",
    "name: q3_7\n",
    "-->"
   ]
  },
  {
   "cell_type": "code",
   "execution_count": null,
   "metadata": {},
   "outputs": [],
   "source": [
    "director_of_27 = ...\n",
    "director_of_27"
   ]
  },
  {
   "cell_type": "code",
   "execution_count": null,
   "metadata": {
    "deletable": false,
    "editable": false
   },
   "outputs": [],
   "source": [
    "grader.check(\"q3_7\")"
   ]
  },
  {
   "cell_type": "markdown",
   "metadata": {},
   "source": [
    "## 4. Let's TED Talk 💡🎤"
   ]
  },
  {
   "cell_type": "markdown",
   "metadata": {},
   "source": [
    "TED Talks (Technology, Entertainment, and Design) are short, powerful presentations that cover a wide range of topics, delivered by experts in the field. In 2019, a few UCSD Alumni and students were even featured speakers at TEDxUCSD. Over the years, TED Talks have become an important platform for the sharing and culmination of ideas, and are viewed by millions daily. There will even be another TEDxUCSD event this May 2023!\n",
    "\n",
    "<img src=\"./images/TED-UCSD.PNG\" width=350/>\n",
    "\n",
    "We have a dataset of TED Talks on YouTube from [Kaggle](https://www.kaggle.com/datasets/purnasaikirank/ted-talks-youtube?resource=download). First, we'll read in the data from a CSV. There is no good index, so we will leave it unset."
   ]
  },
  {
   "cell_type": "code",
   "execution_count": null,
   "metadata": {},
   "outputs": [],
   "source": [
    "ted_data = bpd.read_csv('data/ted_main.csv')\n",
    "ted_data"
   ]
  },
  {
   "cell_type": "markdown",
   "metadata": {},
   "source": [
    "**Question 4.1.** You'll notice that the values in the `'published_date'` column are really large integers. It turns out they're stored as Unix timestamps, which measure the number of seconds that have elapsed since midnight on January 1st, 1970. So, January 1st, 1970, at 00:00:00 UTC is time 0. (If you're curious, [this site](https://www.unixtimestamp.com) shows a live \"Unix timestamp clock.\")\n",
    "\n",
    "Define a function `timestamp_to_year` that takes a Unix timestamp as input, like the values listed in the DataFrame above, and returns the corresponding year as an integer.\n",
    "\n",
    "*Note*: Don't worry about leap years or leap seconds here."
   ]
  },
  {
   "cell_type": "code",
   "execution_count": null,
   "metadata": {},
   "outputs": [],
   "source": [
    "def timestamp_to_year(timestamp):\n",
    "    ..."
   ]
  },
  {
   "cell_type": "code",
   "execution_count": null,
   "metadata": {
    "deletable": false,
    "editable": false
   },
   "outputs": [],
   "source": [
    "grader.check(\"q4_1\")"
   ]
  },
  {
   "cell_type": "markdown",
   "metadata": {},
   "source": [
    "**Question 4.2.** Use your `timestamp_to_year` function and the `.apply` method to convert all of the timestamps in the `'published_date'` column of `ted_data` into their correct year. Do this without creating an additional column or reordering the existing columns. Assign the resulting DataFrame to the variable name `ted`."
   ]
  },
  {
   "cell_type": "code",
   "execution_count": null,
   "metadata": {},
   "outputs": [],
   "source": [
    "ted = ...\n",
    "ted"
   ]
  },
  {
   "cell_type": "code",
   "execution_count": null,
   "metadata": {
    "deletable": false,
    "editable": false
   },
   "outputs": [],
   "source": [
    "grader.check(\"q4_2\")"
   ]
  },
  {
   "cell_type": "markdown",
   "metadata": {},
   "source": [
    "🚨 **Important**: For the rest of the questions in this section, use the DataFrame `ted` instead of `ted_data`."
   ]
  },
  {
   "cell_type": "markdown",
   "metadata": {},
   "source": [
    "**Question 4.3.** \n",
    "Define a function named `clean_title` that takes as input a string from the `'title'` column of `ted` and returns the title of the TED talk, without the speaker's name included. Example behavior is shown below.\n",
    "\n",
    "```py\n",
    ">>> clean_title('Ken Robinson: Do schools kill creativity?')\n",
    "'Do schools kill creativity?'\n",
    "```\n",
    "\n",
    "Once you have created the function, use the `.apply` method to apply the function on all elements of the `'title'` column in `ted`. Do not create a new column or a new DataFrame.\n",
    "\n",
    "\n",
    "_*Hint*_: The string method [`.split`](https://docs.python.org/3/library/stdtypes.html#str.split) will be helpful."
   ]
  },
  {
   "cell_type": "code",
   "execution_count": null,
   "metadata": {},
   "outputs": [],
   "source": [
    "def clean_title(title):\n",
    "    ...\n",
    "    \n",
    "ted = ...\n",
    "    \n",
    "# Test cases for your own reference. Feel free to test out more!\n",
    "print(clean_title('Ken Robinson: Do schools kill creativity?'))  # Should print 'Do schools kill creativity?'\n",
    "print(clean_title(\"Hans Rosling: The best stats you've ever seen\")) # Should print 'The best stats you've ever seen'"
   ]
  },
  {
   "cell_type": "code",
   "execution_count": null,
   "metadata": {
    "deletable": false,
    "editable": false
   },
   "outputs": [],
   "source": [
    "grader.check(\"q4_3\")"
   ]
  },
  {
   "cell_type": "markdown",
   "metadata": {},
   "source": [
    "**Question 4.4.** We'll say a talk's title is a question if the character `'?'` appears anywhere in the title. Add a column to `ted` named `'is_question'` that contains the value `True` for talks whose titles are questions and `False` for talks whose titles aren't questions. Save the resulting DataFrame as `ted_with_question`; **don't** modify the current `ted` DataFrame, otherwise you may start to fail some test cases you're currently passing.\n",
    "\n",
    "*Hint*: If you try and check whether a title contains `'?'` using the same method you used in Question 1.6, you'll run into an error. Instead of using just `'?'`, you'll need to use `'\\?'`. When using the Series method from Question 1.6, the `'?'` is interpreted as a special character; by using `'\\?'` as the input to that Series method, we're telling Python to find all titles that contain a literal question mark. (If you're curious, the technical term for this is \"escaping\" the `'?'` character.)"
   ]
  },
  {
   "cell_type": "code",
   "execution_count": null,
   "metadata": {},
   "outputs": [],
   "source": [
    "..."
   ]
  },
  {
   "cell_type": "code",
   "execution_count": null,
   "metadata": {
    "deletable": false,
    "editable": false
   },
   "outputs": [],
   "source": [
    "grader.check(\"q4_4\")"
   ]
  },
  {
   "cell_type": "markdown",
   "metadata": {},
   "source": [
    "**Question 4.5.** Using the `'is_question'` column that you created in Question 4.4, calculate the mean number of views for titles that are questions and for titles that are not questions. Store the result for titles with a question in a variable called `mean_views_with_question`, and the result for titles without a question in a variable called `mean_views_without_question`."
   ]
  },
  {
   "cell_type": "code",
   "execution_count": null,
   "metadata": {},
   "outputs": [],
   "source": [
    "mean_views_with_question = ...\n",
    "mean_views_without_question = ...\n",
    "\n",
    "print('Average views of talks with questions in the title:', mean_views_with_question)\n",
    "print('Average views of talks without questions in the title:', mean_views_without_question)"
   ]
  },
  {
   "cell_type": "code",
   "execution_count": null,
   "metadata": {
    "deletable": false,
    "editable": false
   },
   "outputs": [],
   "source": [
    "grader.check(\"q4_5\")"
   ]
  },
  {
   "cell_type": "markdown",
   "metadata": {},
   "source": [
    "**Question 4.6.** Create a horizontal bar chart that displays the mean views for each of the **top 20 TED Talk events** in the dataset. Sort the bars so that the event with the highest mean views appears at the very top, and the event with the lowest mean views appears at the very bottom."
   ]
  },
  {
   "cell_type": "markdown",
   "metadata": {
    "deletable": false,
    "editable": false
   },
   "source": [
    "<!-- BEGIN QUESTION -->\n",
    "\n",
    "<!--\n",
    "BEGIN QUESTION\n",
    "name: q4_6\n",
    "manual: true\n",
    "\n",
    "-->"
   ]
  },
  {
   "cell_type": "code",
   "execution_count": null,
   "metadata": {},
   "outputs": [],
   "source": [
    "# Create your plot here.\n",
    "..."
   ]
  },
  {
   "cell_type": "markdown",
   "metadata": {},
   "source": [
    "<!-- END QUESTION -->\n",
    "\n",
    "\n",
    "\n",
    "So far, we haven't used the `'ratings'` column in `ted_with_question` at all for our analysis. The values in the `'ratings'` column appear to be formatted strangely:"
   ]
  },
  {
   "cell_type": "code",
   "execution_count": null,
   "metadata": {},
   "outputs": [],
   "source": [
    "first_rating_string = ted_with_question.get('ratings').iloc[0]\n",
    "first_rating_string"
   ]
  },
  {
   "cell_type": "code",
   "execution_count": null,
   "metadata": {},
   "outputs": [],
   "source": [
    "type(first_rating_string)"
   ]
  },
  {
   "cell_type": "markdown",
   "metadata": {},
   "source": [
    "If we look closely, we see that each value in the `'ratings'` column looks like a list of dictionaries! While these values _look_ like lists, they are actually strings.\n",
    "\n",
    "Conveniently, it turns out there's a function built into Python called `eval` that takes in a string that contains a Python expression and evaluates that expression. We use it below."
   ]
  },
  {
   "cell_type": "code",
   "execution_count": null,
   "metadata": {},
   "outputs": [],
   "source": [
    "eval(\"np.array([1, 2, 3]) + np.array([4, 5, 6])\")"
   ]
  },
  {
   "cell_type": "code",
   "execution_count": null,
   "metadata": {},
   "outputs": [],
   "source": [
    "eval(\"ted.shape[0]\")"
   ]
  },
  {
   "cell_type": "markdown",
   "metadata": {},
   "source": [
    "In the two examples above, `eval` seemed to make things more complicated, not less complicated. However, `eval` can help turn the values in the `'ratings'` column, which are strings (of lists, of dictionaries), to actual lists.\n",
    "\n",
    "For example:"
   ]
  },
  {
   "cell_type": "code",
   "execution_count": null,
   "metadata": {},
   "outputs": [],
   "source": [
    "first_rating_list = eval(first_rating_string)\n",
    "first_rating_list"
   ]
  },
  {
   "cell_type": "code",
   "execution_count": null,
   "metadata": {},
   "outputs": [],
   "source": [
    "type(first_rating_list)"
   ]
  },
  {
   "cell_type": "markdown",
   "metadata": {},
   "source": [
    "Now it's a bit more clear as to how these lists are formatted. Each individual dictionary corresponds to a different tag that a video received, e.g. `'Funny'` or `'Persuasive'`. The associated `'count'` values represent the number of votes, or ratings, that video received for the corresponding tag. For instance, the first talk in the dataset received 10704 votes for the `'Persuasive'` tag.\n",
    "\n",
    "Below, we've defined a function that takes in a single value from the `'ratings'` column and returns a single dictionary (not a list of dictionaries) corresponding to the most common tag for that video. You don't need to understand how the function works."
   ]
  },
  {
   "cell_type": "code",
   "execution_count": null,
   "metadata": {},
   "outputs": [],
   "source": [
    "def most_common_tag_dict(rating_str):\n",
    "    rating_list = eval(rating_str)\n",
    "    rating_list_sorted = sorted(rating_list, key=lambda x: x['count'])\n",
    "    return rating_list_sorted[-1]"
   ]
  },
  {
   "cell_type": "markdown",
   "metadata": {},
   "source": [
    "For example, in the string below, the tag with the most votes is `'Inspiring'`:"
   ]
  },
  {
   "cell_type": "code",
   "execution_count": null,
   "metadata": {},
   "outputs": [],
   "source": [
    "first_rating_string"
   ]
  },
  {
   "cell_type": "markdown",
   "metadata": {},
   "source": [
    "And so:"
   ]
  },
  {
   "cell_type": "code",
   "execution_count": null,
   "metadata": {},
   "outputs": [],
   "source": [
    "most_common_tag_dict(first_rating_string)"
   ]
  },
  {
   "cell_type": "markdown",
   "metadata": {},
   "source": [
    "**Question 4.7.** Complete the implementation of the function `most_common_tag_name`, which takes in a value from the `'ratings'` column of `ted_with_question` and returns the name of the most common tag as a string. For instance, `most_common_tag_name(first_rating_string)` should return `'Inspiring'`.\n",
    "\n",
    "Then, assign `ted_final` to a DataFrame with all of the same columns as `ted_with_question`, with an additional column named `'most_common_tag'` containing the most common tag name for each talk.\n",
    "\n",
    "_*Hint*_: Most of the work has already been done for you – you should use `most_common_tag_dict` in your implementation of `most_common_tag_name`."
   ]
  },
  {
   "cell_type": "code",
   "execution_count": null,
   "metadata": {},
   "outputs": [],
   "source": [
    "def most_common_tag_name(rating_string):\n",
    "    ...\n",
    "    \n",
    "ted_final = ...\n",
    "ted_final"
   ]
  },
  {
   "cell_type": "code",
   "execution_count": null,
   "metadata": {
    "deletable": false,
    "editable": false
   },
   "outputs": [],
   "source": [
    "grader.check(\"q4_7\")"
   ]
  },
  {
   "cell_type": "markdown",
   "metadata": {},
   "source": [
    "**Question 4.8.** Finally, create a plot that depicts the distribution of the `'most_common_tag'` column."
   ]
  },
  {
   "cell_type": "markdown",
   "metadata": {
    "deletable": false,
    "editable": false
   },
   "source": [
    "<!-- BEGIN QUESTION -->\n",
    "\n",
    "<!--\n",
    "BEGIN QUESTION\n",
    "name: q4_8\n",
    "manual: true\n",
    "-->"
   ]
  },
  {
   "cell_type": "code",
   "execution_count": null,
   "metadata": {},
   "outputs": [],
   "source": []
  },
  {
   "cell_type": "markdown",
   "metadata": {},
   "source": [
    "<!-- END QUESTION -->\n",
    "\n",
    "\n",
    "\n",
    "Are you inspired? What would you give a talk about at TEDxUCSD if given a chance?\n",
    "\n",
    "If you're curious, in the cell below, create a plot that depicts the average number of views each `'most_common_tag'` received. Which `'most_common_tag'` is the most popular, on average? 😱"
   ]
  },
  {
   "cell_type": "code",
   "execution_count": null,
   "metadata": {},
   "outputs": [],
   "source": []
  },
  {
   "cell_type": "markdown",
   "metadata": {},
   "source": [
    "<div class=\"alert alert-block alert-danger\">\n",
    "    In this question, we used the Python <code>eval</code> function out of necessity. In general, it's a good idea to <b>avoid</b> the <code>eval</code> function. This is because it's possible to call it on an input that looks safe, but contains malicious code. If you're really curious, watch starting around 9 minutes in <a href=\"https://podcast.ucsd.edu/watch/wi23/dsc80_a00/15\">this video</a> – you can see an example from another data science course where we call the <code>eval</code> function and lose all of our files!\n",
    "</div>"
   ]
  },
  {
   "cell_type": "markdown",
   "metadata": {},
   "source": [
    "## 5. Final Stretch 🧘‍♀️"
   ]
  },
  {
   "cell_type": "markdown",
   "metadata": {},
   "source": [
    "Suppose we have a DataFrame called `data` with two numerical columns, `'x'` and `'y'`. Consider the following scatter plot, which was generated by calling `data.plot(kind='scatter', x='x', y='y')`:\n",
    "\n",
    "<img src=\"images/q4_scatter_plot.png\" width=400/>\n",
    "\n",
    "Now consider these two histograms:\n",
    "\n",
    "<center>\n",
    "    <table><tr>\n",
    "        <td><center><b>Histogram A</b><br> <img src=\"images/q4_histogram_one.png\" width=400></center> </td>\n",
    "        <td><center><b>Histogram B</b><br> <img src=\"images/q4_histogram_two.png\" width=400></center> </td>\n",
    "    </tr></table>\n",
    "</center>"
   ]
  },
  {
   "cell_type": "markdown",
   "metadata": {},
   "source": [
    "**Question 5.1.** Which of the following lines of code generated **Histogram B**? Assign either `1`, `2`, `3`, or `4` to `which_code`.\n",
    " 1. `data.plot(kind='hist', density=False, y='x')`\n",
    " 2. `data.plot(kind='hist', density=False, y='y')` \n",
    " 3. `data.plot(kind='hist', density=True, y='x')`\n",
    " 4. `data.plot(kind='hist', density=True, y='y')`"
   ]
  },
  {
   "cell_type": "code",
   "execution_count": null,
   "metadata": {},
   "outputs": [],
   "source": [
    "which_code = ..."
   ]
  },
  {
   "cell_type": "code",
   "execution_count": null,
   "metadata": {
    "deletable": false,
    "editable": false
   },
   "outputs": [],
   "source": [
    "grader.check(\"q5_1\")"
   ]
  },
  {
   "cell_type": "markdown",
   "metadata": {},
   "source": [
    "**Question 5.2.** Suppose we run this block of code:\n",
    "\n",
    "```py\n",
    "new_data = bpd.DataFrame().assign(\n",
    "    x = data.get('x') / 3,\n",
    "    y = data.get('y')\n",
    ")\n",
    "```\n",
    "    \n",
    "We then run \n",
    "\n",
    "`new_data.plot(kind='hist', density=True, y='x')`.\n",
    "\n",
    "How will this histogram look compared to the histogram created by \n",
    "\n",
    "`data.plot(kind='hist', density=True, y='x')`, \n",
    "\n",
    "assuming both histograms are drawn on the same axes? Assign `histogram_difference` to either 1, 2, 3, or 4, corresponding to your choice.\n",
    "\n",
    "1. The `new_data` histogram will be narrower and taller than the `data` histogram.\n",
    "2. The `new_data` histogram will be narrower and shorter than the `data` histogram.\n",
    "3. The `new_data` histogram will be wider and taller than the `data` histogram.\n",
    "4. The `new_data` histogram will be wider and shorter than the `data` histogram.\n",
    "\n",
    "_*Hint*_: Look at the end of [Lecture 7](https://dsc10.com/resources/lectures/lec07/lec07.html#Plotting-overlaid-histograms) for an example of two histograms drawn on the same axes."
   ]
  },
  {
   "cell_type": "code",
   "execution_count": null,
   "metadata": {},
   "outputs": [],
   "source": [
    "histogram_difference = ..."
   ]
  },
  {
   "cell_type": "code",
   "execution_count": null,
   "metadata": {
    "deletable": false,
    "editable": false
   },
   "outputs": [],
   "source": [
    "grader.check(\"q5_2\")"
   ]
  },
  {
   "cell_type": "markdown",
   "metadata": {},
   "source": [
    "**Question 5.3.** Below, we show Histogram A again.\n",
    "\n",
    "<img src=\"./images/q4_histogram_one.png\" width=400/>\n",
    "\n",
    "What **percent** of values in Histogram A are between -2 (inclusive) and 0 (exclusive)? While we cannot answer this question exactly since we do not know where the bins start and end, we can still approximate the answer. Assign the variable `percent_between` to a number 1 through 5, corresponding to the closest answer.\n",
    "\n",
    "1. 22% \n",
    "2. 27% \n",
    "3. 34%\n",
    "4. 41%\n",
    "5. 48%"
   ]
  },
  {
   "cell_type": "code",
   "execution_count": null,
   "metadata": {},
   "outputs": [],
   "source": [
    "percent_between = ..."
   ]
  },
  {
   "cell_type": "code",
   "execution_count": null,
   "metadata": {
    "deletable": false,
    "editable": false
   },
   "outputs": [],
   "source": [
    "grader.check(\"q5_3\")"
   ]
  },
  {
   "cell_type": "markdown",
   "metadata": {},
   "source": [
    "## Finish Line "
   ]
  },
  {
   "cell_type": "markdown",
   "metadata": {},
   "source": [
    "To submit your assignment:\n",
    "\n",
    "1. Select `Kernel -> Restart & Run All` to ensure that you have executed all cells, including the test cells.\n",
    "2. Read through the notebook to make sure everything is fine and all tests passed.\n",
    "3. Run the cell below to run all tests, and make sure that they all pass.\n",
    "4. Download your notebook using `File -> Download as -> Notebook (.ipynb)`, then upload your notebook to Gradescope.\n",
    "5. Stick around while the Gradescope autograder grades your work. Make sure you see that all tests have passed on Gradescope.\n",
    "6. Check that you have a confirmation email from Gradescope and save it as proof of your submission. \n",
    "\n",
    "With homeworks, unlike with labs, the grade you see on Gradescope is **not your final score**. We will run correctness tests after the assignment's due date has passed."
   ]
  },
  {
   "cell_type": "code",
   "execution_count": null,
   "metadata": {},
   "outputs": [],
   "source": [
    "grader.check_all()"
   ]
  }
 ],
 "metadata": {
  "kernelspec": {
   "display_name": "Python 3 (ipykernel)",
   "language": "python",
   "name": "python3"
  },
  "language_info": {
   "codemirror_mode": {
    "name": "ipython",
    "version": 3
   },
   "file_extension": ".py",
   "mimetype": "text/x-python",
   "name": "python",
   "nbconvert_exporter": "python",
   "pygments_lexer": "ipython3",
   "version": "3.9.12"
  },
  "toc": {
   "base_numbering": 1,
   "nav_menu": {},
   "number_sections": true,
   "sideBar": true,
   "skip_h1_title": false,
   "title_cell": "Table of Contents",
   "title_sidebar": "Contents",
   "toc_cell": false,
   "toc_position": {},
   "toc_section_display": true,
   "toc_window_display": false
  }
 },
 "nbformat": 4,
 "nbformat_minor": 4
}
