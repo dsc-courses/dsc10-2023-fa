{
 "cells": [
  {
   "cell_type": "markdown",
   "metadata": {},
   "source": [
    "# Homework 1: Basic Python, Arrays, and DataFrames\n",
    "\n",
    "## Due Saturday, October 14th at 11:59PM\n",
    "\n",
    "Welcome to Homework 1! This week's homework will cover basic Python, arrays, and DataFrames. You can find additional help on these topics in [Chapter 1](https://www.inferentialthinking.com/chapters/01/what-is-data-science.html) of Computational and Inferential Thinking and [BPD 1-11](https://notes.dsc10.com/01-getting_started/tools.html) in the `babypandas` notes.\n"
   ]
  },
  {
   "cell_type": "markdown",
   "metadata": {},
   "source": [
    "### Instructions\n",
    "\n",
    "Remember to start early and submit often. You are given six slip days throughout the quarter to extend deadlines. See the syllabus for more details. With the exception of using slip days, late work will not be accepted unless you have made special arrangements with your instructor.\n",
    "\n",
    "**Important**: For homeworks, the `otter` tests don't usually tell you that your answer is correct. More often, they help catch careless mistakes. It's up to you to ensure that your answer is correct. If you're not sure, ask someone (not for the answer, but for some guidance about your approach). These are great questions for office hours (the schedule can be found [here](https://dsc10.com/calendar)) or Ed. Directly sharing answers is not okay, but discussing problems with the course staff or with other students is encouraged. "
   ]
  },
  {
   "cell_type": "code",
   "execution_count": null,
   "metadata": {},
   "outputs": [],
   "source": [
    "# Please don't change this cell, but do make sure to run it.\n",
    "import babypandas as bpd\n",
    "import matplotlib.pyplot as plt\n",
    "import numpy as np\n",
    "import otter\n",
    "grader = otter.Notebook()\n",
    "\n",
    "plt.style.use('ggplot')"
   ]
  },
  {
   "cell_type": "markdown",
   "metadata": {},
   "source": [
    "## 1. Characters in Peter Pan 👦🏼👱🏻‍♀️🧚👴🏻"
   ]
  },
  {
   "cell_type": "markdown",
   "metadata": {},
   "source": [
    "In Lecture 1, we counted the number of times that the characters Amy, Beth, Jo, Meg, and Laurie were named in each chapter of the classic book _Little Women_. In this question, we'll look at another classic book – _Peter Pan (1911)_ by J. M. Barrie. In 1991, the copyright protections of the original book (but not the movies!) expired, and so sites like Project Gutenberg are able to post copies of the book without violating any copyright laws. Click [here](https://www.gutenberg.org/files/16/16-h/16-h.htm) to read an eBook of the original novel."
   ]
  },
  {
   "cell_type": "markdown",
   "metadata": {},
   "source": [
    "<center><img src=images/peter-pan-illustration.png width=350>(<a href=\"https://en.wikipedia.org/wiki/Peter_and_Wendy\">source</a>)</center>"
   ]
  },
  {
   "cell_type": "markdown",
   "metadata": {},
   "source": [
    "Four of the main characters in _Peter Pan_ are Peter Pan (👦🏼), Wendy Darling (👱🏻‍♀️), Tinker Bell (🧚), and Mr. Smee \n",
    "(👴🏻).\n",
    "\n",
    "Below, we've written code that shows the number of mentions of each of these four characters in the first 12 chapters of the book. However, instead of displaying this information in a line chart, as was done in Lecture 1, we will use a bar chart.\n",
    "\n",
    "Run the cell below to generate this bar chart of the first 12 chapters. This cell contains code that hasn't yet been covered in the course. It isn't expected that you'll understand the code, but you should be able to interpret the bar chart it generates. The questions below can all be answered from the bar chart alone! It may help to open another copy of the notebook in a new tab so you can easily refer to the bar chart throughout this question."
   ]
  },
  {
   "cell_type": "code",
   "execution_count": null,
   "metadata": {
    "tags": []
   },
   "outputs": [],
   "source": [
    "# Open the book and split it into chapters.\n",
    "book_file = 'data/peter-and-wendy.txt'\n",
    "raw_book = open(book_file, encoding=\"utf-8\").read()\n",
    "end_pos = raw_book.index('Chapter XIII')\n",
    "chapters = raw_book[:end_pos].split('Chapter ')[1:]\n",
    "\n",
    "# Find the number of words in each chapter.\n",
    "chapter_lengths = (np.array([len(c.split(' ')) for c in chapters]) / 100)\n",
    "# Find the number of mentions per 100 words for each character and chapter.\n",
    "characters = bpd.DataFrame().assign(\n",
    "    Chapter=np.arange(1, 13),\n",
    "    Peter=np.char.count(chapters, 'Peter') / chapter_lengths,\n",
    "    Wendy=np.char.count(chapters, 'Wendy') / chapter_lengths,\n",
    "    Tinker_Bell=np.char.count(chapters, 'Tinker Bell') / chapter_lengths,\n",
    "    Smee=np.char.count(chapters, 'Smee') / chapter_lengths\n",
    ")\n",
    "\n",
    "characters.plot(kind='bar', x='Chapter', figsize=(14, 8))\n",
    "plt.ylabel('Mentions per 100 words in chapter');"
   ]
  },
  {
   "cell_type": "markdown",
   "metadata": {},
   "source": [
    "Looking at the bar chart, we see that the height of the bar for Peter in Chapter 1 is 0.27 and the y-axis of this graph is “Mentions per 100 words in chapter”;  this means that 0.27 of every 100 words in Chapter 1 are `\"Peter\"`. In other words, $0.27\\%$ of the words in Chapter 1 are `\"Peter\"`."
   ]
  },
  {
   "cell_type": "markdown",
   "metadata": {},
   "source": [
    "**Question 1.1.**  The following sentences are the very first time Peter Pan, Tinker Bell, and Mr. Smee are mentioned in the book, respectively:\n",
    "\n",
    "> There never was a simpler happier family until the coming of Peter Pan.\n",
    "\n",
    ">  It was a girl called Tinker Bell exquisitely gowned in a skeleton leaf.\n",
    "\n",
    "> The boat drew nearer. It was the pirate dinghy, with three figures in her, Smee and Starkey, and the third a captive, no other than Tiger Lily. \n",
    "\n",
    "Which chapters are each of these sentences from? Assign the variables `peter_debut`, `tinker_bell_debut`, `smee_debut` to an integer between 1 and 12."
   ]
  },
  {
   "cell_type": "code",
   "execution_count": null,
   "metadata": {
    "tags": []
   },
   "outputs": [],
   "source": [
    "peter_debut = ...\n",
    "tinker_bell_debut = ...\n",
    "smee_debut = ..."
   ]
  },
  {
   "cell_type": "code",
   "execution_count": null,
   "metadata": {
    "deletable": false,
    "editable": false
   },
   "outputs": [],
   "source": [
    "grader.check(\"q1_1\")"
   ]
  },
  {
   "cell_type": "markdown",
   "metadata": {},
   "source": [
    "**Question 1.2.** Wendy is mentioned 28 times in Chapter 8. How many times is Peter mentioned in Chapter 8? Assign the variable `peter_mentioned` to 1, 2, 3, 4, or 5 corresponding to the answer choices below. Remember to input your answer as either **1, 2, 3, 4, or 5, corresponding to the option numbers below, and not to the number of times Peter is mentioned.** For example, if you think Peter is mentioned 44 times, you should set `peter_mentioned` to 5, not 44.\n",
    "\n",
    "1. 28 times\n",
    "1. 30 times\n",
    "1. 34 times\n",
    "1. 40 times\n",
    "1. 44 times"
   ]
  },
  {
   "cell_type": "code",
   "execution_count": null,
   "metadata": {
    "tags": []
   },
   "outputs": [],
   "source": [
    "peter_mentioned = ..."
   ]
  },
  {
   "cell_type": "code",
   "execution_count": null,
   "metadata": {
    "deletable": false,
    "editable": false
   },
   "outputs": [],
   "source": [
    "grader.check(\"q1_2\")"
   ]
  },
  {
   "cell_type": "markdown",
   "metadata": {},
   "source": [
    "**Question 1.3.** Chapter 3 is quite long, as its the chapter when Peter tells Wendy that he ran away from his parents. For reference, Chapter 6 is 2369 words long while Chapter 3 is 3931 words long. Based on this information and the plot, which of the following is correct? Assign the variable `pp_part3` to 1, 2, 3, or 4.\n",
    "\n",
    "1. Peter is mentioned more times in Chapter 3 than in Chapter 6. Tinker Bell is mentioned more times in Chapter 3 than in Chapter 6.\n",
    "1. Peter is mentioned more times in Chapter 3 than in Chapter 6. Tinker Bell is mentioned fewer times in Chapter 3 than in Chapter 6.\n",
    "1. Peter is mentioned fewer times in Chapter 3 than in Chapter 6. Tinker Bell is mentioned more times in Chapter 3 than in Chapter 6.\n",
    "1. Peter is mentioned fewer times in Chapter 3 than in Chapter 6. Tinker Bell is mentioned fewer times in Chapter 3 than in Chapter 6."
   ]
  },
  {
   "cell_type": "code",
   "execution_count": null,
   "metadata": {
    "tags": []
   },
   "outputs": [],
   "source": [
    "pp_part3 = ..."
   ]
  },
  {
   "cell_type": "code",
   "execution_count": null,
   "metadata": {
    "deletable": false,
    "editable": false
   },
   "outputs": [],
   "source": [
    "grader.check(\"q1_3\")"
   ]
  },
  {
   "cell_type": "markdown",
   "metadata": {},
   "source": [
    "**Question 1.4.** Which of the following is a valid conclusion we can make based off of the above plot alone? Assign `pp_part4` to 1, 2, 3, 4, or 5. There is only one correct answer.\n",
    "\n",
    "1. Wendy is mentioned more times in Chapter 10 than she is in Chapter 11.\n",
    "\n",
    "1. Mr. Smee is mentioned more in Chapter 8 than any other chapter.\n",
    "\n",
    "1. Tinker Bell is mentioned roughly the same number of times in Chapters 6 and 10.\n",
    "\n",
    "1. Tinker Bell is mentioned less in Chapter 5 than any other chapter.\n",
    "\n",
    "1. Peter and Wendy are mentioned roughly the same number of times in Chapter 11."
   ]
  },
  {
   "cell_type": "code",
   "execution_count": null,
   "metadata": {
    "tags": []
   },
   "outputs": [],
   "source": [
    "pp_part4 = ..."
   ]
  },
  {
   "cell_type": "code",
   "execution_count": null,
   "metadata": {
    "deletable": false,
    "editable": false
   },
   "outputs": [],
   "source": [
    "grader.check(\"q1_4\")"
   ]
  },
  {
   "cell_type": "markdown",
   "metadata": {},
   "source": [
    "**_Note:_**  The tests in this section only check that you set each variable to a number in the correct range. Unlike in labs, tests in homeworks **do not** check that you answered correctly; they only check that your answer is *reasonable*, or in the correct format. To put it another way: all of your tests might pass, but that doesn't mean you'll get full credit – some of your answers may still be wrong. It's up to you to make sure that they're right!"
   ]
  },
  {
   "cell_type": "markdown",
   "metadata": {},
   "source": [
    "## 2. Python Basics 🐍"
   ]
  },
  {
   "cell_type": "markdown",
   "metadata": {},
   "source": [
    "**Question 2.1.** When you run the following cell, Python produces a cryptic error message."
   ]
  },
  {
   "cell_type": "code",
   "execution_count": null,
   "metadata": {
    "tags": []
   },
   "outputs": [],
   "source": [
    "2023 = 2025 - 2.0"
   ]
  },
  {
   "cell_type": "markdown",
   "metadata": {},
   "source": [
    "Choose the best explanation of what's wrong with the code, and then assign 1, 2, 3, or 4 to `basics_part1` below to indicate your answer.\n",
    "\n",
    "1. The left hand side is an `int`, while the right hand side is a `float`. The left side should be `2023.0` isntead.\n",
    "\n",
    "1. The result should be written after the calculation. It should be `2025 - 2.0 = 2023`.\n",
    "\n",
    "1. Python is not able to subtract a `float` from an `int` because they are of different data types.\n",
    "\n",
    "1. This is trying to create a variable named `2023`, which doesn't make sense because `2023` is a number.\n"
   ]
  },
  {
   "cell_type": "markdown",
   "metadata": {},
   "source": [
    "<font color=red>**🚨 Important: Once you have finished this question, \"comment\"  out the above code cell out by replacing it with `# 2023 = 2025 - 2.0`. This will prevent the error message from appearing when your notebook is graded.**</font>"
   ]
  },
  {
   "cell_type": "code",
   "execution_count": null,
   "metadata": {
    "tags": []
   },
   "outputs": [],
   "source": [
    "basics_part1 = ..."
   ]
  },
  {
   "cell_type": "code",
   "execution_count": null,
   "metadata": {
    "deletable": false,
    "editable": false
   },
   "outputs": [],
   "source": [
    "grader.check(\"q2_1\")"
   ]
  },
  {
   "cell_type": "markdown",
   "metadata": {},
   "source": [
    "**Question 2.2.** Consider the following poorly-written code."
   ]
  },
  {
   "cell_type": "code",
   "execution_count": null,
   "metadata": {
    "tags": []
   },
   "outputs": [],
   "source": [
    "two = 2\n",
    "three = 3\n",
    "two = two + three\n",
    "two = two * three\n",
    "two = two * two\n",
    "two = -two"
   ]
  },
  {
   "cell_type": "markdown",
   "metadata": {},
   "source": [
    "As this code executes, what values does the variable `two` take on? Assign 1, 2, 3, or 4 to `basics_part2` to indicate your answer.\n",
    "\n",
    "1. The variable `two` takes on the values 2, 5, 6, 4, -4.\n",
    "\n",
    "2. The variable `two` takes on the values 2, 5, 15, 225, -225.\n",
    "\n",
    "3. The variable `two` takes on the values 2, 5, 6, 12, -12.\n",
    "\n",
    "4. The variable `two` takes on the values 2, 5, 12, 144, -144."
   ]
  },
  {
   "cell_type": "code",
   "execution_count": null,
   "metadata": {},
   "outputs": [],
   "source": [
    "basics_part2 = ..."
   ]
  },
  {
   "cell_type": "code",
   "execution_count": null,
   "metadata": {
    "deletable": false,
    "editable": false
   },
   "outputs": [],
   "source": [
    "grader.check(\"q2_2\")"
   ]
  },
  {
   "cell_type": "markdown",
   "metadata": {},
   "source": [
    "## 3. Road Trip   🚘 "
   ]
  },
  {
   "cell_type": "markdown",
   "metadata": {},
   "source": [
    "This summer, you went on a road trip with your friend Bill. Now, you want to perform some calculations on data you gathered throughout your journey. Answer the questions below, using Python to perform all the intermediate calculations, such as adding, squaring, and dividing.\n",
    "\n",
    "Note that the `math` package has not been imported. You don't need it for this question, and **you should not import it**, otherwise the autograder may produce an error.\n",
    "\n",
    "**Question 3.1.** On the first day of the trip, Bill drove the car at three different speeds, for varying lengths of time, as shown below:\n",
    "\n",
    "| Journey | Speed (miles per hour) | Time (hours)|\n",
    "| --- | --- | --- |\n",
    "| Part 1 | 56 | 3 |\n",
    "| Part 2 | 44 | 4 |\n",
    "| Part 3 | 80 | 2 |\n",
    "\n",
    "Bill was lucky to avoid a ticket in the last part of the journey!\n",
    "\n",
    "Using this information, calculate the average speed, in miles per hour, at which Bill drove the car that day, and assign your answer to the variable `means_part1`. Recall from math and physics that the average speed is the total distance driven divided by the total time taken."
   ]
  },
  {
   "cell_type": "code",
   "execution_count": null,
   "metadata": {
    "tags": []
   },
   "outputs": [],
   "source": [
    "# Feel free to define intermediate variables to use in your solution.\n",
    "\n",
    "total_distance = ...\n",
    "total_time = ...\n",
    "means_part1 = ...\n",
    "means_part1"
   ]
  },
  {
   "cell_type": "code",
   "execution_count": null,
   "metadata": {
    "deletable": false,
    "editable": false
   },
   "outputs": [],
   "source": [
    "grader.check(\"q3_1\")"
   ]
  },
  {
   "cell_type": "markdown",
   "metadata": {},
   "source": [
    "**Question 3.2.** On the second day of the trip, Bill drove the car three times again, but this time at the speeds and distances seen below:\n",
    "\n",
    "| Journey | Speed (miles per hour) | Distance (miles)|\n",
    "| --- | --- | --- |\n",
    "| Part 1 | 56 | 3 |\n",
    "| Part 2 | 44 | 4 |\n",
    "| Part 3 | 80 | 2 |\n",
    "\n",
    "Using this information, calculate the average speed, in miles per hour, at which Bill drove the car that day, and assign your answer to the variable `means_part2`. \n",
    "\n",
    "Note that the third column is **`'Distance (miles)'`, not `'Time (hours)'`**. Unlike in Question 3.1, you aren't given the amount of time that each part of the journey took; you need to compute these times yourself. To calculate the time taken for each part of the journey, divide the distance for that part by the speed for that part. Finally, add up the times for the three parts of the trip to find the total time."
   ]
  },
  {
   "cell_type": "code",
   "execution_count": null,
   "metadata": {
    "tags": []
   },
   "outputs": [],
   "source": [
    "# Feel free to define intermediate variables to use in your solution.\n",
    "\n",
    "\n",
    "total_distance2 = ...\n",
    "total_time2 = ...\n",
    "\n",
    "means_part2 = ...\n",
    "means_part2"
   ]
  },
  {
   "cell_type": "code",
   "execution_count": null,
   "metadata": {
    "deletable": false,
    "editable": false
   },
   "outputs": [],
   "source": [
    "grader.check(\"q3_2\")"
   ]
  },
  {
   "cell_type": "markdown",
   "metadata": {},
   "source": [
    "**Question 3.3.** On the way back home, Bill stopped at a pet store to buy an aquarium. The only one available was a rectangular tank, which unfortunately didn't fit in the car because of your suitcases. This tank had a height of 56 inches, a width of 44 inches, and a length of 80 inches. \n",
    "\n",
    "Bill thought that the aquarium would have fit in the car with all your suitcases if it had the same volume, but was shaped as a cube instead. What would the length of each side of such an aquarium be in inches? Save your answer in the variable `means_part3`."
   ]
  },
  {
   "cell_type": "code",
   "execution_count": null,
   "metadata": {},
   "outputs": [],
   "source": [
    "# Feel free to define intermediate variables to use in your solution.\n",
    "\n",
    "\n",
    "means_part3 = ...\n",
    "means_part3"
   ]
  },
  {
   "cell_type": "code",
   "execution_count": null,
   "metadata": {
    "deletable": false,
    "editable": false
   },
   "outputs": [],
   "source": [
    "grader.check(\"q3_3\")"
   ]
  },
  {
   "cell_type": "markdown",
   "metadata": {},
   "source": [
    "In this problem, though you calculated three different quantities in three different ways, all of your results are actually considered **means**, of various kinds!\n",
    "\n",
    "In Question 3.1., given $n$ values $x_1, x_2, ..., x_n$, you found an *arithmetic mean*, using the formula\n",
    "\n",
    "$${x_1+x_2+...+x_n \\over n},$$\n",
    "\n",
    "where the numerator represented total distance and the denominator represented total time. An arithmetic mean is the usual type of mean or average you're used to seeing. It turns out that you actually computed a more sophisticated arithmetic mean, known as a _weighted arithmetic mean_, \n",
    "\n",
    "$$\\frac{w_1 x_1 + w_2 x_2 + ... + w_n x_n}{w_1 + w_2 + ... + w_n},$$\n",
    "\n",
    "where the weights $w_1, w_2, w_3$ were the times travelled in each part of the journey.\n",
    "\n",
    "In Question 3.2., given  $n$ values $x_1, x_2, ..., x_n$, you found a *harmonic mean*, using the formula\n",
    "\n",
    "$${n \\over {{1 \\over x_1}+{1 \\over x_2}+ ... + {1 \\over x_n}}},$$ \n",
    "\n",
    "\n",
    "where the numerator represented total distance and the denominator represented total time. To calculate the total time, you needed to sum the time taken for each part of the trip, calculated using the fact that time is distance over speed. Again, it turns out that you actually computed the _weighted harmonic mean_, but this time the weights were the distances travelled. If you're curious, see the formula [here](https://en.wikipedia.org/wiki/Harmonic_mean#Weighted_harmonic_mean).\n",
    "\n",
    "Finally in Question 3.3., given $n$ values $x_1, x_2, ..., x_n$, you found a *geometric mean*, using the formula \n",
    "\n",
    "$${\\sqrt[n]{x_1 \\cdot x_2 \\cdot ... \\cdot x_n}},$$ \n",
    "\n",
    "where each value represented a dimension of the rectangular tank. \n",
    "\n",
    "As you can see, there are many different notions of the mean. You'll learn about some of them if you take DSC 40A!"
   ]
  },
  {
   "cell_type": "markdown",
   "metadata": {},
   "source": [
    "## 4. Social Media Usage Among Communities 📱"
   ]
  },
  {
   "cell_type": "markdown",
   "metadata": {},
   "source": [
    "In this problem, we want to compare and contrast social media usage among Americans who live in different types of communities (urban, suburban, and rural). The data below comes from [Pew Research Center's 2021 Social Media Fact Sheet](https://www.pewresearch.org/internet/fact-sheet/social-media/?tabId=tab-c14683cb-c4f4-41d0-a635-52c4eeae0245). It shows what percent of residents of each type of community use Facebook, Instagram, and LinkedIn.\n",
    "\n",
    "| Percent of community using platform       | Urban  | Suburban  | Rural |\n",
    "|-------------------------------------------|-------------|-----------|-----------|\n",
    "| Facebook        | 70 | 70 | 67 | \n",
    "| Instagram       | 45 | 41 | 25 | \n",
    "| LinkedIn    | 30 | 33  | 15 | \n",
    "\n",
    "We define the **dissimilarity** between two communities as the largest absolute difference between their three respective usage percentages.\n",
    "\n",
    "To better understand dissimilarity, consider the following hypothetical situation, where we compare the social media usage in community A and community B. Suppose:\n",
    "* Community A's *usage of Facebook* is **10 percent more** than community B's.\n",
    "* Community A's *usage of Instagram* is **3 percent less** than community B's.\n",
    "* Community A's *usage of LinkedIn* is **7 percent less** than community B's.\n",
    "\n",
    "Then, we would say the dissimilarity between community A and community B is 10, since 10 is larger than both 3 and 7."
   ]
  },
  {
   "cell_type": "markdown",
   "metadata": {},
   "source": [
    "**Question 4.1.** \n",
    "Using this method, compute the dissimilarity between urban and suburban communities.  Assign the result to the variable `dissimilarity`. Use a single expression (a single line of code) to compute the answer. Let Python perform all the arithmetic (like subtracting) rather than simplifying the expression yourself. \n",
    "\n",
    "**_Hint:_**  The built-in `abs` function computes absolute values. "
   ]
  },
  {
   "cell_type": "code",
   "execution_count": null,
   "metadata": {
    "tags": []
   },
   "outputs": [],
   "source": [
    "dissimilarity = ...\n",
    "dissimilarity"
   ]
  },
  {
   "cell_type": "code",
   "execution_count": null,
   "metadata": {
    "deletable": false,
    "editable": false
   },
   "outputs": [],
   "source": [
    "grader.check(\"q4_1\")"
   ]
  },
  {
   "cell_type": "markdown",
   "metadata": {},
   "source": [
    "**Question 4.2.** Which pair of communities is **most** dissimilar, according to this measurement? Assign either 1, 2, or 3 to the variable `most_dissimilar` below. Check whether your answer matches up with your intuition.\n",
    "\n",
    "1. urban and suburban communities\n",
    "1. suburban and rural communities\n",
    "1. urban and rural communities"
   ]
  },
  {
   "cell_type": "code",
   "execution_count": null,
   "metadata": {
    "tags": []
   },
   "outputs": [],
   "source": [
    "most_dissimilar = ..."
   ]
  },
  {
   "cell_type": "code",
   "execution_count": null,
   "metadata": {
    "deletable": false,
    "editable": false
   },
   "outputs": [],
   "source": [
    "grader.check(\"q4_2\")"
   ]
  },
  {
   "cell_type": "markdown",
   "metadata": {},
   "source": [
    "**Question 4.3.** It turns out that if we eliminated a certain one of the three social media percentages in the table (for example, getting rid of the Instagram row) and recalculated dissimilarities based on the remaining two percentages only, we would find the dissimilarity between each pair of communities to be the same as if we had used all three percentages. In other words, one of the three rows of the table ends up not factoring into the calculation for dissimilarity, for all three pairs of communities.\n",
    "\n",
    "Which percentage can be eliminated without changing the dissimilarity of any pair of communities in the table? Assign either 1, 2, or 3 to the variable `disposable` below.\n",
    "\n",
    "1. Facebook\n",
    "1. Instagram\n",
    "1. LinkedIn"
   ]
  },
  {
   "cell_type": "code",
   "execution_count": null,
   "metadata": {
    "tags": []
   },
   "outputs": [],
   "source": [
    "disposable = ..."
   ]
  },
  {
   "cell_type": "code",
   "execution_count": null,
   "metadata": {
    "deletable": false,
    "editable": false
   },
   "outputs": [],
   "source": [
    "grader.check(\"q4_3\")"
   ]
  },
  {
   "cell_type": "markdown",
   "metadata": {},
   "source": [
    "## 5. Arrays 🗃️"
   ]
  },
  {
   "cell_type": "markdown",
   "metadata": {},
   "source": [
    "**Question 5.1.** Make an array called `quirky_numbers` containing the following numbers (in the given order):\n",
    "\n",
    "1. The square root of 45\n",
    "2. 88 degrees, in radians\n",
    "3. $2^3 + 7^8$\n",
    "4. The mathematical constant $e$ divided by 2 (that is, $\\frac{e}{2}$)\n",
    "5. The base 10 logarithm of 22\n",
    "\n",
    "**_Hint:_**  Check out the functions constants available in the `numpy` module, which has been imported as `np`. If you're unsure of what function to use, a quick Google search should do the trick.  Do **not** import `math` or any other modules. \n",
    "\n",
    "**_Note:_**  In this problem, as with all others, we'll only check that your answer is correct. There may be several valid ways to produce the correct answer."
   ]
  },
  {
   "cell_type": "code",
   "execution_count": null,
   "metadata": {
    "scrolled": true,
    "tags": []
   },
   "outputs": [],
   "source": [
    "quirky_numbers = ...\n",
    "quirky_numbers"
   ]
  },
  {
   "cell_type": "code",
   "execution_count": null,
   "metadata": {
    "deletable": false,
    "editable": false
   },
   "outputs": [],
   "source": [
    "grader.check(\"q5_1\")"
   ]
  },
  {
   "cell_type": "markdown",
   "metadata": {
    "deletable": false,
    "editable": false
   },
   "source": [
    "**Question 5.2.** Make an array called `likes` containing the following three strings, in the specified order:\n",
    "- `'I like eating'`\n",
    "- `'art'`\n",
    "- `'and bananas.'`\n",
    "\n",
    "<!--\n",
    "BEGIN QUESTION\n",
    "name: q5_2\n",
    "-->"
   ]
  },
  {
   "cell_type": "code",
   "execution_count": null,
   "metadata": {
    "tags": []
   },
   "outputs": [],
   "source": [
    "likes = ...\n",
    "likes"
   ]
  },
  {
   "cell_type": "code",
   "execution_count": null,
   "metadata": {
    "deletable": false,
    "editable": false
   },
   "outputs": [],
   "source": [
    "grader.check(\"q5_2\")"
   ]
  },
  {
   "cell_type": "markdown",
   "metadata": {},
   "source": [
    "<center><img src=images/banana.jpg width=300><a href=\"https://www.nbcnews.com/news/us-news/man-who-ate-120-000-art-banana-said-he-would-n1098391\">NYC artist who ate $120K banana off wall at Miami gallery says he would do it again</a></center>\n",
    "\n",
    "\n",
    "In [Lecture 3](https://dsc10.com/resources/lectures/lec03/lec03.html#String-methods), we looked at several string methods, like `upper` and `replace`. Strings have another method that we haven't seen yet, called `join`. `join` takes one argument, an array of strings, and it returns a single string. Specifically, `some_string.join(some_array)` evaluates to a new string consisting of all of elements in `some_array`, with `some_string` inserted in between each element.\n",
    "\n",
    "For example, `'-'.join(np.array(['call', '858', '534', '2230']))` evaluates to `'call-858-534-2230'`.\n",
    "\n",
    "**Question 5.3.** Use the array `likes` and the method `join` to make two strings:\n",
    "\n",
    "1. `'I like eating, art, and bananas.'` (call this one `by_comma`)\n",
    "1. `'I like eating art and bananas.'` (call this one `by_space`)"
   ]
  },
  {
   "cell_type": "code",
   "execution_count": null,
   "metadata": {
    "scrolled": true,
    "tags": []
   },
   "outputs": [],
   "source": [
    "by_comma = ...\n",
    "by_space = ...\n",
    "\n",
    "# Don't change the lines below.\n",
    "print(by_comma)\n",
    "print(by_space)"
   ]
  },
  {
   "cell_type": "code",
   "execution_count": null,
   "metadata": {
    "deletable": false,
    "editable": false
   },
   "outputs": [],
   "source": [
    "grader.check(\"q5_3\")"
   ]
  },
  {
   "cell_type": "markdown",
   "metadata": {},
   "source": [
    "Now let's get some practice accessing individual elements of arrays.  In Python (and in many programming languages), elements are accessed by *integer position*, with the position of the first element being zero. That's probably not the way you learned to count, so it's easy to get mixed up here. Be careful!"
   ]
  },
  {
   "cell_type": "markdown",
   "metadata": {},
   "source": [
    "**Question 5.4.** The cell below creates an array of strings."
   ]
  },
  {
   "cell_type": "code",
   "execution_count": null,
   "metadata": {
    "scrolled": true,
    "tags": []
   },
   "outputs": [],
   "source": [
    "some_strings = np.array(['flowers', '🌼', '🌸', '🌻', 'dog', '🐶', 'cat', '🐈'])\n",
    "some_strings"
   ]
  },
  {
   "cell_type": "markdown",
   "metadata": {},
   "source": [
    "What is the integer position of `'🌻'` in the array? You can just type in the answer, which should be of type `int`. This is a conceptual question, not a coding question.\n",
    "\n",
    "**_Note:_**  Your answer should be a **positive** integer!"
   ]
  },
  {
   "cell_type": "code",
   "execution_count": null,
   "metadata": {
    "tags": []
   },
   "outputs": [],
   "source": [
    "sunflower_position = ...\n",
    "sunflower_position"
   ]
  },
  {
   "cell_type": "code",
   "execution_count": null,
   "metadata": {
    "deletable": false,
    "editable": false
   },
   "outputs": [],
   "source": [
    "grader.check(\"q5_4\")"
   ]
  },
  {
   "cell_type": "markdown",
   "metadata": {},
   "source": [
    "**Question 5.5.** Suppose you have an array with 350 elements. What is the integer position of the ninth-to-last element in this array? You can just type in the answer, which should be of type `int`. This is a conceptual question, not a coding question.\n",
    "\n",
    "**_Note:_**  Again, your answer should be a **positive** integer!"
   ]
  },
  {
   "cell_type": "code",
   "execution_count": null,
   "metadata": {
    "tags": []
   },
   "outputs": [],
   "source": [
    "ninth_last_position = ...\n",
    "ninth_last_position"
   ]
  },
  {
   "cell_type": "code",
   "execution_count": null,
   "metadata": {
    "deletable": false,
    "editable": false
   },
   "outputs": [],
   "source": [
    "grader.check(\"q5_5\")"
   ]
  },
  {
   "cell_type": "markdown",
   "metadata": {},
   "source": [
    "**Question 5.6.** Suppose you have an array with 663 elements. At what integer position is the middle element of this array? You can just type in the answer, which should be of type `int`. This is a conceptual question, not a coding question.\n",
    "\n",
    "**_Note:_**  Again, your answer should be a **positive** integer!"
   ]
  },
  {
   "cell_type": "code",
   "execution_count": null,
   "metadata": {
    "tags": []
   },
   "outputs": [],
   "source": [
    "mid_position = ...\n",
    "mid_position"
   ]
  },
  {
   "cell_type": "code",
   "execution_count": null,
   "metadata": {
    "deletable": false,
    "editable": false
   },
   "outputs": [],
   "source": [
    "grader.check(\"q5_6\")"
   ]
  },
  {
   "cell_type": "markdown",
   "metadata": {},
   "source": [
    "By the way, it's also possible to use negative integer positions to access elements in an array, which can be easier than using positive integer positions sometimes.  If a position is negative, you count from the end of the array rather than from the beginning. Position -1 corresponds to the last element, -2 corresponds to the second-to-last element, and so on. For instance, to find the third-to-last element of `some_strings`, we could use:"
   ]
  },
  {
   "cell_type": "code",
   "execution_count": null,
   "metadata": {
    "scrolled": true,
    "tags": []
   },
   "outputs": [],
   "source": [
    "some_strings[-3]"
   ]
  },
  {
   "cell_type": "markdown",
   "metadata": {},
   "source": [
    "## 6. Unisex Names ⚥"
   ]
  },
  {
   "cell_type": "markdown",
   "metadata": {},
   "source": [
    "The table below shows data on the eight most common unisex names in America. The data originally comes from the Social Security Administration, but it was compiled and curated by FiveThirtyEight for their 2015 article [The Most Common Unisex Names In America: Is Yours One Of Them?](https://fivethirtyeight.com/features/there-are-922-unisex-names-in-america-is-yours-one-of-them/).\n",
    "\n",
    "For each name in the table below, we have the `'Count'`, which estimates the number of living people with that name, and the `'Male Share'`, or the proportion of people with that name who are male. Throughout this problem, we'll use *male* to mean assigned male at birth and *female* to mean assigned female at birth. We will assume that each person fits into exactly one of these two categories. \n",
    "\n",
    "|Name|Count|Male Share|\n",
    "|---|---|---|\n",
    "|Casey|177000|0.5843|\n",
    "|Riley|155000|0.5076|\n",
    "|Jessie|136000|0.4778|\n",
    "|Jackie|133000|0.4211|\n",
    "|Avery|122000|0.3352|\n",
    "|Jaime|110000|0.5617|\n",
    "|Peyton|95000|0.4337|\n",
    "|Kerry|89000|0.4839|\n",
    "\n",
    "In this question, we'll be working with the data from the `'Count'` and `'Male Share'` columns as *arrays* named `count` and `male_share`, respectively. Here are those arrays:"
   ]
  },
  {
   "cell_type": "code",
   "execution_count": null,
   "metadata": {
    "scrolled": true
   },
   "outputs": [],
   "source": [
    "count = np.array([177000, 155000, 136000, 133000, 122000, 110000, 95000, 89000])\n",
    "count"
   ]
  },
  {
   "cell_type": "code",
   "execution_count": null,
   "metadata": {},
   "outputs": [],
   "source": [
    "male_share = np.array([0.5843, 0.5076, 0.4778, 0.4211, 0.3352, 0.5617, 0.4337, 0.4839]) \n",
    "male_share"
   ]
  },
  {
   "cell_type": "markdown",
   "metadata": {},
   "source": [
    "Remember, the `numpy` package (`np` for short) provides many handy functions for working with arrays. These are specifically designed to work with arrays and are faster than using Python's built-in functions. \n",
    "\n",
    "Some frequently used array functions are `np.min`, `np.max`, `np.sum`, `np.abs`, and `np.round`. There are many more, which you can browse by typing `np.` into a code cell and hitting the *tab* key. These are all in addition to array methods, which we access using dot notation. (For instance, both `arr.max()` and `np.max(arr)` return the largest element in the array `arr`.)"
   ]
  },
  {
   "cell_type": "markdown",
   "metadata": {},
   "source": [
    "**Question 6.1.** What proportion of people with each name are female? Store the female share proportions for each name in a new array called `female_share`. "
   ]
  },
  {
   "cell_type": "code",
   "execution_count": null,
   "metadata": {},
   "outputs": [],
   "source": [
    "female_share = ...\n",
    "female_share"
   ]
  },
  {
   "cell_type": "code",
   "execution_count": null,
   "metadata": {
    "deletable": false,
    "editable": false
   },
   "outputs": [],
   "source": [
    "grader.check(\"q6_1\")"
   ]
  },
  {
   "cell_type": "markdown",
   "metadata": {},
   "source": [
    "**Question 6.2.** Now let's find the gap between the male and female shares for each name. Use `male_share` and `female_share` to create an array called `gaps` containing the absolute differences between the male share and female share for each name."
   ]
  },
  {
   "cell_type": "code",
   "execution_count": null,
   "metadata": {},
   "outputs": [],
   "source": [
    "gaps = ...\n",
    "gaps"
   ]
  },
  {
   "cell_type": "code",
   "execution_count": null,
   "metadata": {
    "deletable": false,
    "editable": false
   },
   "outputs": [],
   "source": [
    "grader.check(\"q6_2\")"
   ]
  },
  {
   "cell_type": "markdown",
   "metadata": {},
   "source": [
    "**Question 6.3.** Now, find the gap between the male and female shares for each name, but this time, you're only allowed to use the variable `male_share`. You may not use `female_share`. Create an array called `gaps_again` containing the absolute differences between the male share and female share for each name. The answer will be the same as the last question, but your code should be different."
   ]
  },
  {
   "cell_type": "code",
   "execution_count": null,
   "metadata": {},
   "outputs": [],
   "source": [
    "gaps_again = ...\n",
    "gaps_again"
   ]
  },
  {
   "cell_type": "code",
   "execution_count": null,
   "metadata": {
    "deletable": false,
    "editable": false
   },
   "outputs": [],
   "source": [
    "grader.check(\"q6_3\")"
   ]
  },
  {
   "cell_type": "markdown",
   "metadata": {},
   "source": [
    "**Question 6.4.** You might say that the most unisex name is the one with the smallest gap. Find the smallest value in the `gaps` array and save it as `smallest_gap`. Referring back to the table, try to figure out which name that is!"
   ]
  },
  {
   "cell_type": "code",
   "execution_count": null,
   "metadata": {},
   "outputs": [],
   "source": [
    "smallest_gap = ...\n",
    "smallest_gap"
   ]
  },
  {
   "cell_type": "code",
   "execution_count": null,
   "metadata": {
    "deletable": false,
    "editable": false
   },
   "outputs": [],
   "source": [
    "grader.check(\"q6_4\")"
   ]
  },
  {
   "cell_type": "markdown",
   "metadata": {},
   "source": [
    "**Question 6.5.** Recall that the `count` array contains the estimated number of people with each name. Create an array called `male_count` containing the estimated number of males with each name, and another called `female_count` containing the estimated number of females with each name. Make sure to round each value to the nearest whole number."
   ]
  },
  {
   "cell_type": "code",
   "execution_count": null,
   "metadata": {},
   "outputs": [],
   "source": [
    "male_count = ...\n",
    "female_count = ...\n",
    "print('male_count: ', male_count, '\\nfemale_count: ', female_count) # Don't change this line!"
   ]
  },
  {
   "cell_type": "code",
   "execution_count": null,
   "metadata": {
    "deletable": false,
    "editable": false
   },
   "outputs": [],
   "source": [
    "grader.check(\"q6_5\")"
   ]
  },
  {
   "cell_type": "markdown",
   "metadata": {},
   "source": [
    "**Question 6.6.** In Question 6.4, we explored one way of defining the most unisex name. In this question, we'll look at another way.\n",
    "\n",
    "You might say that the most unisex name is the one for which the number of males with that name is closest to the number of females with that name. Assign `smallest_diff` to the smallest absolute difference between the number of males and number of females, among the given names. Referring back to the table, try to figure out which name that is!"
   ]
  },
  {
   "cell_type": "code",
   "execution_count": null,
   "metadata": {},
   "outputs": [],
   "source": [
    "smallest_diff = ...\n",
    "smallest_diff"
   ]
  },
  {
   "cell_type": "code",
   "execution_count": null,
   "metadata": {
    "deletable": false,
    "editable": false
   },
   "outputs": [],
   "source": [
    "grader.check(\"q6_6\")"
   ]
  },
  {
   "cell_type": "markdown",
   "metadata": {},
   "source": [
    "**Question 6.7.** Perhaps instead of working with proportions as we've done here, you prefer to work with percentages. Create an array called `male_percentage` that contains the percentage of people with each name who are male. Similarly, create an array `female_percentage` with the percentage of people with each name who are female. Round each percentage to two decimal places."
   ]
  },
  {
   "cell_type": "code",
   "execution_count": null,
   "metadata": {},
   "outputs": [],
   "source": [
    "male_percentage = ...\n",
    "female_percentage = ...\n",
    "print('male_percentage: ', male_percentage, '\\nfemale_percentage: ', female_percentage) # Don't change this line!"
   ]
  },
  {
   "cell_type": "code",
   "execution_count": null,
   "metadata": {
    "deletable": false,
    "editable": false
   },
   "outputs": [],
   "source": [
    "grader.check(\"q6_7\")"
   ]
  },
  {
   "cell_type": "markdown",
   "metadata": {},
   "source": [
    "## 7. World Cup 🌎⚽"
   ]
  },
  {
   "cell_type": "markdown",
   "metadata": {},
   "source": [
    "The Federale Internationale de Football Association (FIFA) is the international governing body of soccer (or football, depending where you're from). FIFA has 209 member countries, making it one of the most respected sports organizations in the world. The organization has hosted an international tournament, called the World Cup, every four years since 1930, except for during WWII. The most recent one took place in 2022 in Qatar. \n",
    "\n",
    "<img src=\"images/messi.jpeg\" width=60%>\n",
    "\n",
    "The file `world_cup.csv` in the `data/` directory contains information about every World Cup tournament that has ever taken place. Its columns are described below.\n",
    "\n",
    "| Column      | Description |\n",
    "| ----------- | ----------- |\n",
    "| `'Year'`      | Year of World Cup     |\n",
    "| `'Host'`   | Name of host country        |\n",
    "| `'Total Attendance'` | Total number of people in attendance across all matches  |\n",
    "| `'Matches'` | Total number of matches played |\n",
    "| `'Teams'` | The  total number of teams that competed in the World Cup |\n",
    "| `'First'` | Winner of the World Cup |\n",
    "| `'Second'` | The team in second place | \n",
    "| `'Third'` | The team in third place|\n",
    "| `'Fourth'` | The team in fourth place |"
   ]
  },
  {
   "cell_type": "markdown",
   "metadata": {},
   "source": [
    "**Question 7.1.** Read this file into a DataFrame called `world_cup`. "
   ]
  },
  {
   "cell_type": "code",
   "execution_count": null,
   "metadata": {},
   "outputs": [],
   "source": [
    "world_cup = ...\n",
    "world_cup"
   ]
  },
  {
   "cell_type": "code",
   "execution_count": null,
   "metadata": {
    "deletable": false,
    "editable": false
   },
   "outputs": [],
   "source": [
    "grader.check(\"q7_1\")"
   ]
  },
  {
   "cell_type": "markdown",
   "metadata": {},
   "source": [
    "**Question 7.2.** Add a column to `world_cup` called `'Average_Attendance'` that contains the average number of attendees per match in each World Cup tournament. Do not round."
   ]
  },
  {
   "cell_type": "code",
   "execution_count": null,
   "metadata": {},
   "outputs": [],
   "source": [
    "world_cup = ...\n",
    "world_cup"
   ]
  },
  {
   "cell_type": "code",
   "execution_count": null,
   "metadata": {
    "deletable": false,
    "editable": false
   },
   "outputs": [],
   "source": [
    "grader.check(\"q7_2\")"
   ]
  },
  {
   "cell_type": "markdown",
   "metadata": {},
   "source": [
    "**Question 7.3.** Create a new DataFrame, `world_cup_by_year`, by setting the index of `world_cup` to `'Year'`. Don't change `world_cup`."
   ]
  },
  {
   "cell_type": "code",
   "execution_count": null,
   "metadata": {
    "scrolled": true
   },
   "outputs": [],
   "source": [
    "world_cup_by_year = ...\n",
    "world_cup_by_year"
   ]
  },
  {
   "cell_type": "code",
   "execution_count": null,
   "metadata": {
    "deletable": false,
    "editable": false
   },
   "outputs": [],
   "source": [
    "grader.check(\"q7_3\")"
   ]
  },
  {
   "cell_type": "markdown",
   "metadata": {},
   "source": [
    "You should think about why we've chosen to set the index to `'Year'`, instead of any other column."
   ]
  },
  {
   "cell_type": "markdown",
   "metadata": {},
   "source": [
    "**Question 7.4.** Ashley was born in 2002. Where was the World Cup held that year, and who won? Assign your results to `location_02` and `winner_02`, respectively.\n",
    "\n",
    "Don't type in the answers by hand; get Python to extract this information for you."
   ]
  },
  {
   "cell_type": "code",
   "execution_count": null,
   "metadata": {},
   "outputs": [],
   "source": [
    "location_02 = ...\n",
    "winner_02 = ...\n",
    "\n",
    "# Don't change the lines below.\n",
    "print('Location(s):', location_02)\n",
    "print('Winner:', winner_02)"
   ]
  },
  {
   "cell_type": "code",
   "execution_count": null,
   "metadata": {
    "deletable": false,
    "editable": false
   },
   "outputs": [],
   "source": [
    "grader.check(\"q7_4\")"
   ]
  },
  {
   "cell_type": "markdown",
   "metadata": {},
   "source": [
    "**Question 7.5.** Since the first tournament in 1930, more and more countries have joined FIFA, which means more matches are played in each tournament. Using DataFrame operations, find the number of World Cup tournaments that had more than 50 matches. Assign the number of such tournaments to `over_50_matches`. "
   ]
  },
  {
   "cell_type": "code",
   "execution_count": null,
   "metadata": {},
   "outputs": [],
   "source": [
    "over_50_matches = ...\n",
    "over_50_matches"
   ]
  },
  {
   "cell_type": "code",
   "execution_count": null,
   "metadata": {
    "deletable": false,
    "editable": false
   },
   "outputs": [],
   "source": [
    "grader.check(\"q7_5\")"
   ]
  },
  {
   "cell_type": "markdown",
   "metadata": {},
   "source": [
    "**Question 7.6.** Assign `tenth_highest_attendance` to the tenth highest total attendance of all World Cup tournaments. Assign `tenth_highest_year` to the year in which this attendance occurred.\n",
    "\n",
    "Again, don't type in these values by hand; get Python to extract this information for you.\n",
    "\n",
    "**_Note:_** Remember that you can perform intermediate steps in the lines before `tenth_highest_attendance` and `tenth_highest_year`."
   ]
  },
  {
   "cell_type": "code",
   "execution_count": null,
   "metadata": {
    "scrolled": true
   },
   "outputs": [],
   "source": [
    "tenth_highest_attendance = ...\n",
    "tenth_highest_year = ...\n",
    "\n",
    "# Don't change the lines below.\n",
    "print('Attendance:', tenth_highest_attendance)\n",
    "print('Year:', tenth_highest_year)"
   ]
  },
  {
   "cell_type": "code",
   "execution_count": null,
   "metadata": {
    "deletable": false,
    "editable": false
   },
   "outputs": [],
   "source": [
    "grader.check(\"q7_6\")"
   ]
  },
  {
   "cell_type": "markdown",
   "metadata": {},
   "source": [
    "**Question 7.7.** There are two countries tied for having hosted the most tournaments, France and Italy, having hosted 2 times each. \n",
    "\n",
    "Find out which country was a more popular host, by finding the sum of the `'Total Attendance'` for each country, for the two times it was a host. Assign these totals to `france_total_attendance` and `italy_total_attendance`."
   ]
  },
  {
   "cell_type": "code",
   "execution_count": null,
   "metadata": {},
   "outputs": [],
   "source": [
    "france_total_attendance = ...\n",
    "italy_total_attendance = ...\n",
    "\n",
    "# Don't change the lines below.\n",
    "print('France:', france_total_attendance)\n",
    "print('Italy: ', italy_total_attendance)"
   ]
  },
  {
   "cell_type": "code",
   "execution_count": null,
   "metadata": {
    "deletable": false,
    "editable": false
   },
   "outputs": [],
   "source": [
    "grader.check(\"q7_7\")"
   ]
  },
  {
   "cell_type": "markdown",
   "metadata": {},
   "source": [
    "**Question 7.8.** Now find out which country was the most popular host overall by finding the sum of the `'Total Attendance'` for each country that has ever hosted a World Cup tournament. Assign the name of the host country with the greatest total attendance across all World Cups to `most_popular_host`.\n",
    "\n",
    "**_Hint:_** Our solution for this question used only one line of code (thanks, `groupby`)!"
   ]
  },
  {
   "cell_type": "code",
   "execution_count": null,
   "metadata": {},
   "outputs": [],
   "source": [
    "most_popular_host = ...\n",
    "most_popular_host"
   ]
  },
  {
   "cell_type": "code",
   "execution_count": null,
   "metadata": {
    "deletable": false,
    "editable": false
   },
   "outputs": [],
   "source": [
    "grader.check(\"q7_8\")"
   ]
  },
  {
   "cell_type": "markdown",
   "metadata": {},
   "source": [
    "**Question 7.9.** Determine which country won the World Cup championship the most number of times (i.e. the country that came in first the most number of times). Assign this country to `most_frequent_winner`, and the number of times this country won to `win_count`.\n",
    "\n",
    "Again, don't type in these values by hand; get Python to extract this information for you."
   ]
  },
  {
   "cell_type": "code",
   "execution_count": null,
   "metadata": {},
   "outputs": [],
   "source": [
    "most_frequent_winner = ...\n",
    "win_count = ...\n",
    "\n",
    "# Don't change the lines below.\n",
    "print('Most frequent winner:', most_frequent_winner)\n",
    "print('Number of World Cup championships: ', win_count)"
   ]
  },
  {
   "cell_type": "code",
   "execution_count": null,
   "metadata": {
    "deletable": false,
    "editable": false
   },
   "outputs": [],
   "source": [
    "grader.check(\"q7_9\")"
   ]
  },
  {
   "cell_type": "markdown",
   "metadata": {},
   "source": [
    "## Finish Line: Almost there, but make sure to follow the steps below to submit! 🏁\n",
    "\n",
    "**_Citations:_** Did you use any generative artificial intelligence tools to assist you on this assignment? If so, please state, for each tool you used, the name of the tool (ex. ChatGPT) and the problem(s) in this assignment where you used the tool for help."
   ]
  },
  {
   "cell_type": "markdown",
   "metadata": {},
   "source": [
    "<hr style=\"color:Maroon;background-color:Maroon;border:0 none; height: 3px;\">\n",
    "\n",
    "Please cite tools here.\n",
    "\n",
    "<hr style=\"color:Maroon;background-color:Maroon;border:0 none; height: 3px;\">"
   ]
  },
  {
   "cell_type": "markdown",
   "metadata": {},
   "source": [
    "To submit your assignment:\n",
    "\n",
    "1. Make sure to comment out the code in Question 2.1 that causes an error.\n",
    "1. Select `Kernel -> Restart & Run All` to ensure that you have executed all cells, including the test cells. \n",
    "1. Read through the notebook to make sure all cells ran and all tests passed.\n",
    "1. Run the cell below to run all tests, and make sure that they all pass.\n",
    "1. Download your notebook using `File -> Download as -> Notebook (.ipynb)`, then upload your notebook to Gradescope.\n",
    "1. Stick around while the Gradescope autograder grades your work. Make sure you see that all tests have passed on Gradescope.\n",
    "1. Check that you have a confirmation email from Gradescope and save it as proof of your submission. \n",
    "\n",
    "With homeworks, unlike with labs, the grade you see on Gradescope is **not your final score**. We will run correctness tests after the assignment's due date has passed."
   ]
  },
  {
   "cell_type": "code",
   "execution_count": null,
   "metadata": {},
   "outputs": [],
   "source": [
    "grader.check_all()"
   ]
  }
 ],
 "metadata": {
  "kernelspec": {
   "display_name": "Python 3 (ipykernel)",
   "language": "python",
   "name": "python3"
  },
  "language_info": {
   "codemirror_mode": {
    "name": "ipython",
    "version": 3
   },
   "file_extension": ".py",
   "mimetype": "text/x-python",
   "name": "python",
   "nbconvert_exporter": "python",
   "pygments_lexer": "ipython3",
   "version": "3.9.7"
  }
 },
 "nbformat": 4,
 "nbformat_minor": 4
}
