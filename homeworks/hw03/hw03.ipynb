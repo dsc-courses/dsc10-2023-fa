{
 "cells": [
  {
   "cell_type": "markdown",
   "metadata": {},
   "source": [
    "# Homework 3: DataFrames, Control Flow, and Probability\n",
    "\n",
    "## Due Tuesday, May 2nd at 11:59PM\n",
    "\n",
    "Welcome to Homework 3! This homework will cover lots of different topics:\n",
    "- Grouping with subgroups (see [BPD 11](https://notes.dsc10.com/02-data_sets/groupby.html#subgroups))\n",
    "- Merging DataFrames (see [BPD 13](https://notes.dsc10.com/02-data_sets/merging.html))\n",
    "- Conditional statements (see [CIT 9.1](https://inferentialthinking.com/chapters/09/1/Conditional_Statements.html))\n",
    "- Iteration (see [CIT 9.2](https://inferentialthinking.com/chapters/09/2/Iteration.html))\n",
    "- Probability (see [CIT 9.5](https://inferentialthinking.com/chapters/09/5/Finding_Probabilities.html))"
   ]
  },
  {
   "cell_type": "markdown",
   "metadata": {},
   "source": [
    "### Instructions\n",
    "\n",
    "Remember to start early and submit often. You are given six slip days throughout the quarter to extend deadlines. See the syllabus for more details. With the exception of using slip days, late work will not be accepted unless you have made special arrangements with your instructor.\n",
    "\n",
    "**Important**: For homeworks, the `otter` tests don't usually tell you that your answer is correct. More often, they help catch careless mistakes. It's up to you to ensure that your answer is correct. If you're not sure, ask someone (not for the answer, but for some guidance about your approach). These are great questions for office hours (the schedule can be found [here](https://dsc10.com/calendar)) or Ed. Directly sharing answers is not okay, but discussing problems with the course staff or with other students is encouraged. "
   ]
  },
  {
   "cell_type": "code",
   "execution_count": null,
   "metadata": {},
   "outputs": [],
   "source": [
    "# Please don't change this cell, but do make sure to run it.\n",
    "import babypandas as bpd\n",
    "import matplotlib.pyplot as plt\n",
    "plt.style.use('ggplot')\n",
    "plt.rcParams['figure.figsize'] = (10, 5)\n",
    "\n",
    "import numpy as np\n",
    "import otter\n",
    "grader = otter.Notebook()\n",
    "\n",
    "# We need to import some extra packages for some fun demonstrations.\n",
    "import json\n",
    "from ipywidgets import interact, widgets\n",
    "from IPython.display import YouTubeVideo, HTML, display, clear_output, Image, IFrame\n",
    "\n",
    "# Don't worry about this.\n",
    "def read_json(path):\n",
    "    f = open(path, 'r')\n",
    "    return json.load(f)\n",
    "\n",
    "def candy_map():\n",
    "    src = f\"https://map.candystore.com/halloween/2022/fullscreen.html\"\n",
    "    width = 600\n",
    "    height = 400\n",
    "    display(IFrame(src, width, height))\n",
    "    \n",
    "import warnings\n",
    "warnings.simplefilter('ignore')\n",
    "\n",
    "%reload_ext pandas_tutor"
   ]
  },
  {
   "cell_type": "markdown",
   "metadata": {},
   "source": [
    "### Supplemental Video on DataHub and Jupyter Notebooks\n",
    "\n",
    "In Lab 0, we linked you to a video that walks you through key ideas you should be aware of when working on DataHub and in Jupyter Notebooks, including\n",
    "- how files are organized on DataHub\n",
    "- what it means to \"restart the kernel\"\n",
    "- how to use keyboard shortcuts (most important: use `SHIFT + ENTER` to run a cell!)\n",
    "\n",
    "We're linking it here again for your convenience. If you feel a little shaky on how to work your way around a notebook or troubleshoot issues, we recommend you give it another watch. (When troubleshooting, make sure to always check the [Debugging](https://dsc10.com/debugging/) tab on the course website as well.)\n",
    "\n",
    "The video is quite long, but if you open the video directly on YouTube (which you can do by clicking the video's title after it loads in the next cell) you'll see timestamps in the description which you can use to jump to different parts of the video depending on what you'd like to learn more about."
   ]
  },
  {
   "cell_type": "code",
   "execution_count": null,
   "metadata": {
    "scrolled": true
   },
   "outputs": [],
   "source": [
    "# Run this cell.\n",
    "YouTubeVideo('Hq8VaNirDRQ')"
   ]
  },
  {
   "cell_type": "markdown",
   "metadata": {},
   "source": [
    "## 1. 100 Years of \"S\" Baby Names 👶🏻"
   ]
  },
  {
   "cell_type": "markdown",
   "metadata": {},
   "source": [
    "In this problem, we'll look at baby names starting with \"S\". The data file `data/baby_names.csv` contains information about \"S\" baby names in the US from the past 100 years. Run the cell below to read in the data."
   ]
  },
  {
   "cell_type": "code",
   "execution_count": null,
   "metadata": {
    "scrolled": true
   },
   "outputs": [],
   "source": [
    "baby = bpd.read_csv('data/baby_names.csv')\n",
    "baby"
   ]
  },
  {
   "cell_type": "code",
   "execution_count": null,
   "metadata": {},
   "outputs": [],
   "source": [
    "baby[baby.get(\"Name\") == \"Sarah\"]"
   ]
  },
  {
   "cell_type": "markdown",
   "metadata": {},
   "source": [
    "The DataFrame `baby` has a row for each `'State'` (50 US states plus Washington DC), `'Gender'` (`'M'` or `'F'`, as assigned at birth), `'Year'` (between 1972 and 2021), and `'Name'`. The `'Count'` column records the number of babies of that gender who were given that name in one state in one year. \n",
    "\n",
    "For example, the first row of the DataFrame shows that there were 5 female babies named Sarah born in Alaska in 1922. There are many other rows corresponding to a `'Name'` of Sarah, which come from other years, other states, and also male babies named Sarah, of which there are some!\n",
    "\n",
    "Run the cell below to find out when and where many male Sarahs were born."
   ]
  },
  {
   "cell_type": "code",
   "execution_count": null,
   "metadata": {},
   "outputs": [],
   "source": [
    "male_sarahs = baby[(baby.get('Name')=='Sarah') & (baby.get('Gender')=='M') ]\n",
    "male_sarahs.sort_values(by='Count', ascending=False)"
   ]
  },
  {
   "cell_type": "markdown",
   "metadata": {},
   "source": [
    "**Question 1.1.** There are many more female Sarahs than male Sarahs. Create a line plot that shows how the number of female babies named Sarah has changed over time in the US. Then use your plot to answer the question that follows."
   ]
  },
  {
   "cell_type": "code",
   "execution_count": null,
   "metadata": {},
   "outputs": [],
   "source": [
    "# Create your line plot here."
   ]
  },
  {
   "cell_type": "markdown",
   "metadata": {},
   "source": [
    "Around what year was the peak in popularity for the name Sarah for female babies? Choose the closest answer from the options below and set `female_sarah_peak` to 1, 2, 3, or 4 corresponding to your answer choice.\n",
    "1. 1960\n",
    "1. 1980\n",
    "1. 2000\n",
    "1. 2010"
   ]
  },
  {
   "cell_type": "code",
   "execution_count": null,
   "metadata": {},
   "outputs": [],
   "source": [
    "female_sarah_peak = ..."
   ]
  },
  {
   "cell_type": "code",
   "execution_count": null,
   "metadata": {
    "deletable": false,
    "editable": false
   },
   "outputs": [],
   "source": [
    "grader.check(\"q1_1\")"
   ]
  },
  {
   "cell_type": "markdown",
   "metadata": {},
   "source": [
    "**Question 1.2.** In the `baby` DataFrame, how many babies of each gender were born in each state? Create a DataFrame named `num_babies` with one row for each gender in each state and columns `'State'`, `'Gender'`, and `'Count'`, which contains the total number of babies of each gender in each state with an \"S\" name. The first few rows of `num_babies` are shown below.\n",
    "\n",
    "<table border=\"1\" class=\"dataframe\">\n",
    "  <thead>\n",
    "    <tr style=\"text-align: right;\">\n",
    "      <th></th>\n",
    "      <th>State</th>\n",
    "      <th>Gender</th>\n",
    "      <th>Count</th>\n",
    "    </tr>\n",
    "  </thead>\n",
    "  <tbody>\n",
    "    <tr>\n",
    "      <th>0</th>\n",
    "      <td>AK</td>\n",
    "      <td>F</td>\n",
    "      <td>18578</td>\n",
    "    </tr>\n",
    "    <tr>\n",
    "      <th>1</th>\n",
    "      <td>AK</td>\n",
    "      <td>M</td>\n",
    "      <td>12977</td>\n",
    "    </tr>\n",
    "    <tr>\n",
    "      <th>2</th>\n",
    "      <td>AL</td>\n",
    "      <td>F</td>\n",
    "      <td>210111</td>\n",
    "    </tr>\n",
    "    <tr>\n",
    "      <th>3</th>\n",
    "      <td>AL</td>\n",
    "      <td>M</td>\n",
    "      <td>99395</td>\n",
    "    </tr>\n",
    "  </tbody>\n",
    "</table>\n",
    "\n",
    "*Hints*: \n",
    "- You can do this in one line of code.\n",
    "- Don't forget to use `.reset_index()`.\n"
   ]
  },
  {
   "cell_type": "code",
   "execution_count": null,
   "metadata": {},
   "outputs": [],
   "source": [
    "num_babies = ...\n",
    "num_babies"
   ]
  },
  {
   "cell_type": "code",
   "execution_count": null,
   "metadata": {
    "deletable": false,
    "editable": false
   },
   "outputs": [],
   "source": [
    "grader.check(\"q1_2\")"
   ]
  },
  {
   "cell_type": "markdown",
   "metadata": {},
   "source": [
    "A gendered name is a combination of a name and a gender, such as male Sarahs. Let's explore the average age of people with each gendered name. For example, let's calculate the average age of all male Sarahs."
   ]
  },
  {
   "cell_type": "code",
   "execution_count": null,
   "metadata": {},
   "outputs": [],
   "source": [
    "male_sarahs"
   ]
  },
  {
   "cell_type": "markdown",
   "metadata": {},
   "source": [
    "We'll define the age of a person as 2023 (the current year) minus the year in which the person was born. This doesn't take into account people's birthdays, because we don't have that information. For example, if a male Sarah was born in 1983, they will be counted as 2023 - 1983 = 40 years old. Therefore the **total age** of all the male Sarahs is given below."
   ]
  },
  {
   "cell_type": "code",
   "execution_count": null,
   "metadata": {},
   "outputs": [],
   "source": [
    "total_age = ((2023 - male_sarahs.get('Year')) * male_sarahs.get('Count')).sum()\n",
    "total_age"
   ]
  },
  {
   "cell_type": "markdown",
   "metadata": {},
   "source": [
    "To find the average age, we need to know how many male Sarahs there are. The **total count** of male Sarahs is given below."
   ]
  },
  {
   "cell_type": "code",
   "execution_count": null,
   "metadata": {},
   "outputs": [],
   "source": [
    "total_count = male_sarahs.get('Count').sum()\n",
    "total_count"
   ]
  },
  {
   "cell_type": "markdown",
   "metadata": {},
   "source": [
    "Therefore the **average age** of male Sarahs is given below."
   ]
  },
  {
   "cell_type": "code",
   "execution_count": null,
   "metadata": {},
   "outputs": [],
   "source": [
    "average_age = total_age / total_count\n",
    "average_age"
   ]
  },
  {
   "cell_type": "markdown",
   "metadata": {},
   "source": [
    "Notice that we _cannot_ calculate the average age of male Sarahs as follows."
   ]
  },
  {
   "cell_type": "code",
   "execution_count": null,
   "metadata": {},
   "outputs": [],
   "source": [
    "age = 2023 - male_sarahs.get('Year')\n",
    "age.mean()"
   ]
  },
  {
   "cell_type": "markdown",
   "metadata": {},
   "source": [
    "This is incorrect because it does not take into account the fact that there were more male Sarahs born some years than others."
   ]
  },
  {
   "cell_type": "markdown",
   "metadata": {},
   "source": [
    "**Question 1.3.** Create a DataFrame named `avg_age` that has one row for each gendered name and columns `'Gender'`, `'Name'`, and `'Average_Age'`, which contains the average age of all people with each gendered name. The first few rows of `avg_age` are shown below.\n",
    "\n",
    "<table border=\"1\" class=\"dataframe\">\n",
    "  <thead>\n",
    "    <tr style=\"text-align: right;\">\n",
    "      <th></th>\n",
    "      <th>Gender</th>\n",
    "      <th>Name</th>\n",
    "      <th>Average_Age</th>\n",
    "    </tr>\n",
    "  </thead>\n",
    "  <tbody>\n",
    "    <tr>\n",
    "      <th>0</th>\n",
    "      <td>M</td>\n",
    "      <td>Saabir</td>\n",
    "      <td>3.500000</td>\n",
    "    </tr>\n",
    "    <tr>\n",
    "      <th>1</th>\n",
    "      <td>F</td>\n",
    "      <td>Saachi</td>\n",
    "      <td>12.309859</td>\n",
    "    </tr>\n",
    "    <tr>\n",
    "      <th>2</th>\n",
    "      <td>M</td>\n",
    "      <td>Saad</td>\n",
    "      <td>17.347826</td>\n",
    "    </tr>\n",
    "    <tr>\n",
    "      <th>3</th>\n",
    "      <td>F</td>\n",
    "      <td>Saadia</td>\n",
    "      <td>47.454545</td>\n",
    "    </tr>\n",
    "  </tbody>\n",
    "</table>\n",
    "\n",
    "*Hints*: \n",
    "- Before attempting this question, make sure you understand the strategy shown above for finding the average age of male Sarahs. You will need to generalize this approach.\n",
    "- This is a multi-step problem. Add cells and display your intermediate results so you can see your progress as you go.\n",
    "- You should check that the average age for male Sarahs in your DataFrame `avg_age` is the same as we found above.\n"
   ]
  },
  {
   "cell_type": "code",
   "execution_count": null,
   "metadata": {},
   "outputs": [],
   "source": [
    "avg_age = ...\n",
    "avg_age"
   ]
  },
  {
   "cell_type": "code",
   "execution_count": null,
   "metadata": {
    "deletable": false,
    "editable": false
   },
   "outputs": [],
   "source": [
    "grader.check(\"q1_3\")"
   ]
  },
  {
   "cell_type": "markdown",
   "metadata": {},
   "source": [
    "## 2. Death and Taxes 💰💸\n",
    "\n",
    "The United States, like many countries, uses a progressive tax bracket system. This means that as your earnings increase, the percentage of your earnings you owe in tax also increases. In addition, the US tax system uses marginal tax brackets – what this means is that US taxpayers pay different tax percentages on different \"chunks\" of their earnings.\n",
    "\n",
    "This year, taxes were due on April 18th, however, most California counties (including San Diego) received a blanket 6 month \"disaster\" extension, making the new deadline October 16th. If you want to read more about this extension, here's a link to a [news article](https://www.cbs8.com/article/news/local/working-for-you/tax-deadline-for-all-san-diegans-october-16th/509-cbefb862-efc9-4cee-aa56-6951d1996992) about it. Let's suppose the tax brackets for the 2023 tax year for single filers are defined by the table below. These are pretty close to the actual brackets, but for simplicity's sake we'll use 5 brackets instead of 7. \n",
    "\n",
    "| Tax Bracket | Taxable Income |\n",
    "| --- | --- |\n",
    "| 10% | [$0, \\\\$11,000] |\n",
    "| 12% | (\\\\$11,000, \\\\$44,725] |\n",
    "| 22% | (\\\\$44,725, \\\\$95,375] |\n",
    "| 24% | (\\\\$95,375, \\\\$182,100] |\n",
    "| 32% | Over \\\\$182,100 |\n",
    "\n",
    "**You will need to use these numbers throughout this question.**\n",
    "\n",
    "A few notes:\n",
    "- The notation $(a, b]$ means \"greater than $a$ and less than or equal to $b$\". For example, someone with a taxable income of \\\\$44,725 is in the 12% bracket, but someone with a taxable income of \\\\$44,725.01 is in the 22% bracket.\n",
    "- \"Taxable income\" refers to the part of one's income that is taxable; in the US there is what's known as a \"standard deduction\" which can be thought of as a discount on your taxes. In this question, we won't worry about deductions.\n",
    "\n",
    "If someone has a taxable income of \\\\$75,000, we say they are in the 22% tax bracket. However, such an individual doesn't owe 22% of \\\\$75,000 in taxes. Instead, they owe:\n",
    "- 10% of \\\\$11,000, **plus**\n",
    "- 12% of \\\\$33,725 (which is \\\\$44,725 - \\\\$11,000), **plus**\n",
    "- 22% of \\\\$30,275 (which is \\\\$75,000 - \\\\$44,725).\n",
    "\n",
    "More concretely, their tax owed is\n",
    "$$0.1 \\cdot \\$11{,}000 + 0.12 \\cdot \\$33{,}725 + 0.22 \\cdot \\$30{,}275 = \\$11{,}807.50.$$ \n",
    "\n",
    "This makes their **effective tax rate** \n",
    "$$\\frac{\\$11{,}807.50}{\\$75{,}000} = 0.15743,$$\n",
    "or 15.743\\%, because they wound up having to pay 15.743\\% of their taxable income in taxes. We will give effective tax rates as percentages, rounded to three decimal places.\n",
    "\n",
    "If you want to read more about the US federal income tax system, click [here](https://www.taxpolicycenter.org/briefing-book/how-do-federal-income-tax-rates-work)."
   ]
  },
  {
   "cell_type": "markdown",
   "metadata": {},
   "source": [
    "**Question 2.1.** Complete the implementation of the function `tax_bracket`, which takes in a taxable income (`income`) and returns the tax bracket it is in, as a **proportion**. For instance, `tax_bracket(75000)` should evaluate to `0.22` and `tax_bracket(402150)` should evaluate to `0.32`.\n",
    "\n",
    "For your convenience, the tax bracket table is shown again below.\n",
    "\n",
    "| Tax Bracket | Taxable Income |\n",
    "| --- | --- |\n",
    "| 10% | [$0, \\\\$11,000] |\n",
    "| 12% | (\\\\$11,000, \\\\$44,725] |\n",
    "| 22% | (\\\\$44,725, \\\\$95,375] |\n",
    "| 24% | (\\\\$95,375, \\\\$182,100] |\n",
    "| 32% | Over \\\\$182,100 |\n",
    "\n",
    "*Hint*: Use `elif`."
   ]
  },
  {
   "cell_type": "code",
   "execution_count": null,
   "metadata": {},
   "outputs": [],
   "source": [
    "def tax_bracket(income):\n",
    "    ..."
   ]
  },
  {
   "cell_type": "code",
   "execution_count": null,
   "metadata": {
    "deletable": false,
    "editable": false
   },
   "outputs": [],
   "source": [
    "grader.check(\"q2_1\")"
   ]
  },
  {
   "cell_type": "markdown",
   "metadata": {},
   "source": [
    "**Question 2.2.** Complete the implementation of the function `tax_owed`, which takes in a taxable income (`income`) and returns the amount of tax owed by an individual with that taxable income. For instance, `tax_owed(75000)` should evaluate to `11807.5` as in the example at the start of Question 2.\n",
    "\n",
    "For your convenience, the tax bracket table is shown again below.\n",
    "\n",
    "| Tax Bracket | Taxable Income |\n",
    "| --- | --- |\n",
    "| 10% | [$0, \\\\$11,000] |\n",
    "| 12% | (\\\\$11,000, \\\\$44,725] |\n",
    "| 22% | (\\\\$44,725, \\\\$95,375] |\n",
    "| 24% | (\\\\$95,375, \\\\$182,100] |\n",
    "| 32% | Over \\\\$182,100 |\n",
    "\n",
    "*Hint*: Below are some suggested steps to break down this problem into manageable chunks.\n",
    "1. Make sure you understand the example calculating the tax owed on \\\\$75,000 of taxable income. \n",
    "2. Once you're sure you understand the given example calculation, then calculate the tax owed for a different taxable income, say \\\\$152,000, by hand. \n",
    "3. In a blank cell in your notebook, write Python code to compute the tax owed for \\\\$152,000 in taxable income and verify you get the same answer as when you did it by hand. \n",
    "4. Once you have that working, write the more general function and test it on a variety of inputs."
   ]
  },
  {
   "cell_type": "code",
   "execution_count": null,
   "metadata": {},
   "outputs": [],
   "source": [
    "def tax_owed(income):\n",
    "    ..."
   ]
  },
  {
   "cell_type": "code",
   "execution_count": null,
   "metadata": {
    "deletable": false,
    "editable": false
   },
   "outputs": [],
   "source": [
    "grader.check(\"q2_2\")"
   ]
  },
  {
   "cell_type": "markdown",
   "metadata": {},
   "source": [
    "**Question 2.3.** Finally, complete the implementation of `effective_tax_rate`, which takes in a taxable income (`income`) and returns the effective tax rate for an individual with that taxable income, as a **percentage** rounded to three decimal places. For instance, `effective_tax_rate(75000)` should evaluate to `15.743` because someone who earns \\\\$75,000 of taxable income winds up having to pay 15.743\\% of that amount in taxes. \n",
    "\n",
    "If `income` is less than or equal to 0, `effective_tax_rate` should evaluate to `0`.\n",
    "\n",
    "*Hint*: You should use your `tax_owed` function. Our entire solution is only four lines, and two of them are for handling the case when `income <= 0`."
   ]
  },
  {
   "cell_type": "code",
   "execution_count": null,
   "metadata": {},
   "outputs": [],
   "source": [
    "def effective_tax_rate(income):\n",
    "    ..."
   ]
  },
  {
   "cell_type": "code",
   "execution_count": null,
   "metadata": {
    "deletable": false,
    "editable": false
   },
   "outputs": [],
   "source": [
    "grader.check(\"q2_3\")"
   ]
  },
  {
   "cell_type": "markdown",
   "metadata": {},
   "source": [
    "### Fun Demo\n",
    "\n",
    "You just did all of the math necessary to build an income tax calculator, like the ones you see on many financial websites. Run the following cell once you've completed the rest of this question!"
   ]
  },
  {
   "cell_type": "code",
   "execution_count": null,
   "metadata": {},
   "outputs": [],
   "source": [
    "# Don't worry about the code, just play with the slider that appears after running.\n",
    "def plot_income_calculator(income):\n",
    "    s = f'''\n",
    "    <h1>DSC 10 Tax Calculator 💰💸</h1>\n",
    "    <h3>{'${:,.2f}'.format(income)}</h3>\n",
    "    Taxable Income\n",
    "    \n",
    "    <h2>{'${:,.2f}'.format(tax_owed(income))}</h2>\n",
    "    Tax Owed\n",
    "    \n",
    "    <h3>{'{:,.1f}'.format((effective_tax_rate(income))) + '%'}</h3>\n",
    "    Effective Tax Rate\n",
    "    \n",
    "    '''\n",
    "    display(HTML(s))\n",
    "    \n",
    "interact(plot_income_calculator, income=(0, 200000, 1000));"
   ]
  },
  {
   "cell_type": "markdown",
   "metadata": {},
   "source": [
    "## 3. Trick or Treat 🍭🎃\n",
    "\n",
    "Halloween is almost exactly 6 months away, and companies are getting ready for the 2023 Halloween season. They are asking you to analyze data about the most popular Halloween candies in each state. \n",
    "\n",
    "In this question, our data comes from [this article](https://www.candystore.com/blogs/facts-trivia/halloween-candy-map-popular?y=2022). Run the cell below to see a fun interactive data visualization from the same article."
   ]
  },
  {
   "cell_type": "code",
   "execution_count": null,
   "metadata": {},
   "outputs": [],
   "source": [
    "candy_map()"
   ]
  },
  {
   "cell_type": "code",
   "execution_count": null,
   "metadata": {},
   "outputs": [],
   "source": [
    "states = bpd.read_csv('data/popular_candy_by_state.csv')\n",
    "states"
   ]
  },
  {
   "cell_type": "markdown",
   "metadata": {},
   "source": [
    "In the `states` DataFrame above, each state's `'Most_Popular_Candy'` is recorded, based on candy sales in that state. `'Pounds_Of_Candy'` refers to the total pounds of that specific candy sold in that state. For instance, the first row is telling us that 105,263 pounds of Skittles were sold in Alabama.<br>\n",
    "\n",
    "The `states` DataFrame does not contain any information about the candies themselves, e.g. which candies are chocolate and which candies are fruity. For this information, we can refer to a dataset curated by FiveThirtyEight for their article [The Ultimate Halloween Candy Power Ranking](https://fivethirtyeight.com/videos/the-ultimate-halloween-candy-power-ranking/). Run the cell below to load in a dataset containing information about many varieties of candy and save it as a DataFrame named `varieties`.\n",
    "\n",
    "_Note_: The column in `varieties` that contains the names of the candies is `'competitorname'`, because these candies were all competing against each other in FiveThirtyEight's Halloween Candy Power Ranking."
   ]
  },
  {
   "cell_type": "code",
   "execution_count": null,
   "metadata": {},
   "outputs": [],
   "source": [
    "varieties = bpd.read_csv('data/halloween_candy.csv')\n",
    "varieties"
   ]
  },
  {
   "cell_type": "markdown",
   "metadata": {},
   "source": [
    "**Question 3.1.** Using the `merge` method, combine the `states` and `varieties` DataFrames, and assign the resulting DataFrame to the variable `states_and_varieties`. \n",
    "- `states_and_varieties` should contain all of the columns in both `states` and `varieties`, minus the `'competitorname'` column from `varieties`, which is redundant with the `'Most_Popular_Candy'` column from `states`.\n",
    "- Sort `states_and_varieties` by `'State'` in ascending order.\n",
    "- Reset the index of `states_and_varieties` so that it is `0`, `1`, `2`, and so on. Make sure the old index isn't also included as a column.\n",
    "\n",
    "*Hint*: Notice how `'Most_Popular_Candy'` from `states` and `'competitorname'` from `varieties` contain names of candy. How can you use this in your `merge`?"
   ]
  },
  {
   "cell_type": "code",
   "execution_count": null,
   "metadata": {},
   "outputs": [],
   "source": [
    "states_and_varieties = ...\n",
    "states_and_varieties"
   ]
  },
  {
   "cell_type": "code",
   "execution_count": null,
   "metadata": {
    "deletable": false,
    "editable": false
   },
   "outputs": [],
   "source": [
    "grader.check(\"q3_1\")"
   ]
  },
  {
   "cell_type": "markdown",
   "metadata": {
    "deletable": false,
    "editable": false
   },
   "source": [
    "**Question 3.2.** If you completed Question 3.1 correctly, you'll notice that `states_and_varieties` has fewer rows than both `states` and `varieties`. This is because there are some candies that are in `states` and not in `varieties`, and other candies that are in `varieties` and not in `states`. \n",
    "\n",
    "Below, assign `states_not_varieties` to the number of different candies that are in `states` and not in `varieties`. Similarly, assign `varieties_not_states` to the number of different candies that are in `varieties` and not in `states`.\n",
    "\n",
    "_Hint_: There are two ways to find the number of unique values in a column.\n",
    "\n",
    "1. Group by that column. On the resulting DataFrame, use `.shape[0]`.\n",
    "\n",
    "2. Use the `.unique()` method on the Series corresponding to that column. Use `len` on the resulting array.\n",
    "\n",
    "You'll need to do this three times – once each for the columns that contain candy names in `states`, `varieties`, and `states_and_varieties`.\n",
    "\n",
    "\n",
    "<!--\n",
    "BEGIN QUESTION\n",
    "name: q3_2\n",
    "-->"
   ]
  },
  {
   "cell_type": "code",
   "execution_count": null,
   "metadata": {
    "scrolled": true
   },
   "outputs": [],
   "source": [
    "states_not_varieties = ...\n",
    "varieties_not_states = ...\n",
    "\n",
    "print('There are', states_not_varieties, 'candies in `states` that are not in `varieties`.')\n",
    "print('There are', varieties_not_states, 'candies in `varieties` that are not in `states`.')"
   ]
  },
  {
   "cell_type": "code",
   "execution_count": null,
   "metadata": {
    "deletable": false,
    "editable": false
   },
   "outputs": [],
   "source": [
    "grader.check(\"q3_2\")"
   ]
  },
  {
   "cell_type": "markdown",
   "metadata": {},
   "source": [
    "Now that we better understand how `states_and_varieties` came to be, let's use it to learn more about states' candy preferences."
   ]
  },
  {
   "cell_type": "code",
   "execution_count": null,
   "metadata": {},
   "outputs": [],
   "source": [
    "states_and_varieties"
   ]
  },
  {
   "cell_type": "markdown",
   "metadata": {
    "deletable": false,
    "editable": false
   },
   "source": [
    "The 0s and 1s in the columns `'chocolate'`, `'fruity'`, `'caramel'`, etc. can be interpreted as Boolean values. For instance, since the state `'CA'` has a 1 in its `'chocolate'` column, it means that California's most popular candy includes chocolate.\n",
    "\n",
    "**Question 3.3.** Among just the states in `states_and_varieties` where the most popular candy includes chocolate, what proportion of these states have a most popular candy that also includes caramel? Assign your answer to `p_caramel_given_chocolate`. It should be a decimal between 0 and 1.\n",
    "\n",
    "<!--\n",
    "BEGIN QUESTION\n",
    "name: q3_3\n",
    "-->"
   ]
  },
  {
   "cell_type": "code",
   "execution_count": null,
   "metadata": {},
   "outputs": [],
   "source": [
    "p_caramel_given_chocolate = ...\n",
    "p_caramel_given_chocolate"
   ]
  },
  {
   "cell_type": "code",
   "execution_count": null,
   "metadata": {
    "deletable": false,
    "editable": false
   },
   "outputs": [],
   "source": [
    "grader.check(\"q3_3\")"
   ]
  },
  {
   "cell_type": "markdown",
   "metadata": {},
   "source": [
    "## 4. Triton Tweets 🧜‍♂️💬\n",
    "\n",
    "\n",
    "<img src = \"data/triton_logo.jpg\" width=200>\n",
    "\n",
    "UCSD is starting it's own messaging app called Triton Tweets exclusive to staff and students! One of the key features of Triton Tweets is that when students send out messages, an emoji representing their college is automatically added to the end of their message. Your job in this question is to decide what emoji represents each college (not including the brand-new Eigth College) and to add these emojis to their tweets, using Python dictionaries and `for`-loops."
   ]
  },
  {
   "cell_type": "markdown",
   "metadata": {},
   "source": [
    " We'll start by reminding you about Python dictionaries, which we also looked at briefly in Homework 2 (in the question about diamonds 💎). Dictionaries provide a convenient way to store data in `key: value` pairs. Here's an example dictionary you also saw in Homework 2."
   ]
  },
  {
   "cell_type": "code",
   "execution_count": null,
   "metadata": {},
   "outputs": [],
   "source": [
    "dsc_courses = {\n",
    "    # key: value\n",
    "    'DSC 10': 'Principles of Data Science',\n",
    "    'DSC 20': 'Programming and Basic Data Structures for Data Science',\n",
    "    'DSC 30': 'Data Structures and Algorithms for Data Science',\n",
    "    'DSC 40A': 'Theoretical Foundations of Data Science I',\n",
    "    'DSC 40B': 'Theoretical Foundations of Data Science II',\n",
    "    'DSC 80': 'The Practice and Application of Data Science'\n",
    "}"
   ]
  },
  {
   "cell_type": "markdown",
   "metadata": {},
   "source": [
    "We can access the value corresponding to each key using bracket notation."
   ]
  },
  {
   "cell_type": "code",
   "execution_count": null,
   "metadata": {},
   "outputs": [],
   "source": [
    "dsc30_name = dsc_courses['DSC 30']\n",
    "dsc30_name"
   ]
  },
  {
   "cell_type": "markdown",
   "metadata": {},
   "source": [
    "Here, `'DSC 30'` is the key and `'Data Structures and Algorithms for Data Science'` is the value."
   ]
  },
  {
   "cell_type": "markdown",
   "metadata": {},
   "source": [
    "We can extract all keys from a dictionary using the .keys() method:"
   ]
  },
  {
   "cell_type": "code",
   "execution_count": null,
   "metadata": {
    "scrolled": true
   },
   "outputs": [],
   "source": [
    "dsc_courses.keys()"
   ]
  },
  {
   "cell_type": "markdown",
   "metadata": {},
   "source": [
    "We can iterate through all of the keys (or values) of a dictionary if needed. For example:"
   ]
  },
  {
   "cell_type": "code",
   "execution_count": null,
   "metadata": {},
   "outputs": [],
   "source": [
    "for course in dsc_courses.keys():\n",
    "    print('I am taking', course)"
   ]
  },
  {
   "cell_type": "markdown",
   "metadata": {},
   "source": [
    "In Python, emojis can be included as part of a string. For example:"
   ]
  },
  {
   "cell_type": "code",
   "execution_count": null,
   "metadata": {},
   "outputs": [],
   "source": [
    "'🤣'"
   ]
  },
  {
   "cell_type": "markdown",
   "metadata": {},
   "source": [
    "If you remove the quotes from the emoji above, you will see `SyntaxError: invalid character` in identifier. Make sure that throughout this question, your emojis are contained within strings! (Fun fact, they cannot currently be used as variable names. Try it and see what error you get!)\n",
    "\n",
    "The website [getemoji.com](https://getemoji.com/) allows you to copy and paste emojis. To select an emoji, double click it to highlight it. Try copying and pasting an emoji of your choice from that site into the code cell below. Don't forget to enclose it in quotes!"
   ]
  },
  {
   "cell_type": "code",
   "execution_count": null,
   "metadata": {},
   "outputs": [],
   "source": [
    "# Copy and paste any emoji into this code cell."
   ]
  },
  {
   "cell_type": "markdown",
   "metadata": {},
   "source": [
    "**Question 4.1** In the cell below, create a dictionary called `colleges` that has the following seven keys:\n",
    "- `'<Revelle>'` \n",
    "- `'<Muir>'`\n",
    "- `'<Marshall>'`\n",
    "- `'<Warren>'`\n",
    "- `'<ERC>'`\n",
    "- `'<Sixth>'`\n",
    "- `'<Seventh>'`\n",
    "\n",
    "The reason why we are writing the college is <> brackets is because the username format for Triton Tweets is \"@name\\<college\\>.\" Every username is made up of an @ symbol, the student's name, and their college in <> brackets. You can assume that <> characters will never exist within the name portion of the username. By the end of this question, \\<college\\> will be changed into an emoji.\n",
    "\n",
    "The values corresponding to each of these seven keys must be emojis, but they can be any emoji you want, as long as:\n",
    "\n",
    "- they are copied from the site [getemoji.com](https://getemoji.com/)\n",
    "- they are not in the \"New Emojis\" category at the bottom \n",
    "\n",
    "Have fun with it! We've chosen an emoji for `'<Revelle>'` as an example for you, but feel free to change it.\n",
    "\n",
    "Some troubleshooting tips:\n",
    "\n",
    "After defining your dictionary, you may see some emoijs displayed with `'\\U001...'` instead of their actual graphic. **If this happens, pick different emojis.**\n",
    "If you fail the test case that says your emojis are invalid, and you're certain you correctly defined your dictionary, you may consider choosing other emojis that are more generic that are more likely to be recognized by our autograder. This most likely won't be a problem."
   ]
  },
  {
   "cell_type": "code",
   "execution_count": null,
   "metadata": {},
   "outputs": [],
   "source": [
    "colleges = {\n",
    "    '<Revelle>': '🩺',\n",
    "    ...\n",
    "}\n",
    "type(colleges)"
   ]
  },
  {
   "cell_type": "code",
   "execution_count": null,
   "metadata": {
    "deletable": false,
    "editable": false
   },
   "outputs": [],
   "source": [
    "grader.check(\"q4_1\")"
   ]
  },
  {
   "cell_type": "markdown",
   "metadata": {},
   "source": [
    "Great! Now, if we want to create strings that use the college emojis, we don't need to copy-paste the emojis themselves – we can just access them from the `colleges` dictionary."
   ]
  },
  {
   "cell_type": "code",
   "execution_count": null,
   "metadata": {},
   "outputs": [],
   "source": [
    "colleges['<Sixth>']"
   ]
  },
  {
   "cell_type": "code",
   "execution_count": null,
   "metadata": {},
   "outputs": [],
   "source": [
    "# Remember, the + symbol concatenates strings!\n",
    "'@Sarah' + colleges['<ERC>']"
   ]
  },
  {
   "cell_type": "markdown",
   "metadata": {},
   "source": [
    "Recall, in [Lecture 10](https://dsc10.com/resources/lectures/lec10/lec10.html), we introduced the accumulator pattern. In the coin-flipping example, we started with an empty array, and added to it in each iteration of our `for`-loop.\n",
    "\n",
    "We can also use the accumulator pattern for strings, by starting with an empty string, and repeatedly adding onto it via concatenation. Here's an example that loops through the letters in a word and replaces certain letters with emojis."
   ]
  },
  {
   "cell_type": "code",
   "execution_count": null,
   "metadata": {},
   "outputs": [],
   "source": [
    "output = ''\n",
    "for ch in 'goodbye':\n",
    "    if ch != 'o':\n",
    "        output = output + ch\n",
    "    else:\n",
    "        output = output + colleges[\"<ERC>\"]\n",
    "output"
   ]
  },
  {
   "cell_type": "markdown",
   "metadata": {},
   "source": [
    "In the above example, we started with an empty string, `'output'`. For each character of the string `'goodbye'`, we added a single new character to `'output'`. If the character happened to be an 'o', it was replaced by the `'<ERC>'` emoji inside the `'colleges'` dictionary. "
   ]
  },
  {
   "cell_type": "markdown",
   "metadata": {},
   "source": [
    "**Question 4.2.** Now, complete the implementation of the function `emojify`, which take as input a string that represents the students' username. The username has the format \"@name\\<college\\>.\" Every username will be made up of an @ symbol, the student's name, and their college in <> brackets. You can assume that <> characters will never exist within the name portion of the username. The function should return a new string with the \\<college\\> replaced by the corresponding emoji from the `colleges` dictionary. You can also include a message that goes after the username. Here is how the function would work on various example usernames and tweets. Your emojis may look different depending on what emojis you used in the `colleges` dictionary.\n",
    "\n",
    "```py\n",
    ">>> emojify('@Sophia<ERC>: I love DSC10!')\n",
    "'@Sophia🌎: I love DSC10!'\n",
    "\n",
    ">>> emojify('@Billy<Sixth>: Makai is the best dining hall!')\n",
    "'@Billy🐈: Makai is the best dining hall!'\n",
    "\n",
    ">>> emojify('@Raine<Warren>: I have not slept in days')\n",
    "'@Raine🧸: I have not slept in days'\n",
    "```\n",
    "\n",
    "_Note_: As we did in the preceding example, use the dictionary `colleges` to access the emojis – don't actually write any emojis within your function.\n",
    "\n",
    "_Hints_: \n",
    "- You will need to use a `for`-loops for this question. Refer to the example dictionary from the start of the problem (where we printed 'I am taking DSC 10') for some clues on how to start.\n",
    "- Look into the [.replace](https://www.w3schools.com/python/ref_string_replace.asp) method for strings.\n",
    "- Remember to write a general function that works for any answer word, not just `'@Sarah<ERC>'`."
   ]
  },
  {
   "cell_type": "code",
   "execution_count": null,
   "metadata": {},
   "outputs": [],
   "source": [
    "def emojify(tweet):\n",
    "    \n",
    "    ...\n",
    "        \n",
    "    # Don't change this.\n",
    "    return tweet\n",
    "\n",
    "# An example call to emojify. Try out some other usernames too.\n",
    "emojify('@Sarah<ERC>: Make sure to come to the club social tonight!')"
   ]
  },
  {
   "cell_type": "code",
   "execution_count": null,
   "metadata": {
    "deletable": false,
    "editable": false
   },
   "outputs": [],
   "source": [
    "grader.check(\"q4_2\")"
   ]
  },
  {
   "cell_type": "markdown",
   "metadata": {},
   "source": [
    "### Fun Demo\n",
    "\n",
    "Run the cell below to produce a text box (don't worry about the code itself). Type a username (@name\\<college\\>) in the text box and watch it get categorized live! "
   ]
  },
  {
   "cell_type": "code",
   "execution_count": null,
   "metadata": {},
   "outputs": [],
   "source": [
    "def emojify_live(type_here):\n",
    "    display(HTML('<h2>' + emojify(type_here) + '</h2>'))\n",
    "interact(emojify_live, type_here=\"\");"
   ]
  },
  {
   "cell_type": "markdown",
   "metadata": {
    "deletable": false,
    "editable": false
   },
   "source": [
    "## 5. Alternating Means 🔁\n",
    "\n",
    "In this problem, we'll define two functions that compute some sort of \"alternating mean\" of a sequence of values.\n",
    "\n",
    "**Question 5.1.** Complete the implementation of the function `alternating_mean`, which takes in an array of numbers, `values`, and computes the mean of **every other element** in the original array starting with the element at position 0.\n",
    "\n",
    "```py\n",
    ">>> alternating_mean(np.array([3, 1.5, 4, 3.5]))\n",
    "3.5 # Comes from (3 + 4) / 2.\n",
    "\n",
    ">>> alternating_mean(np.array([3, 1.5, 4, 3.5, 5.9]))\n",
    "4.3 # Comes from (3 + 4 + 5.9) / 3.\n",
    "\n",
    "```\n",
    "\n",
    "Once you've written your function, you should test it out on several arrays yourself to make sure it works as intended.\n",
    "\n",
    "_Hint_: Compute the mean by finding the sum of every other element in the array and dividing it by the number of elements that were summed.\n",
    "\n",
    "<!--\n",
    "BEGIN QUESTION\n",
    "name: q5_1\n",
    "-->"
   ]
  },
  {
   "cell_type": "code",
   "execution_count": null,
   "metadata": {},
   "outputs": [],
   "source": [
    "def alternating_mean(values):\n",
    "    ...\n",
    "    \n",
    "# Feel free to change this input to make sure your function works correctly.\n",
    "alternating_mean(np.array([3, 1.5, 4, 3.5]))"
   ]
  },
  {
   "cell_type": "code",
   "execution_count": null,
   "metadata": {
    "deletable": false,
    "editable": false
   },
   "outputs": [],
   "source": [
    "grader.check(\"q5_1\")"
   ]
  },
  {
   "cell_type": "markdown",
   "metadata": {
    "deletable": false,
    "editable": false
   },
   "source": [
    "**Question 5.2.** In math, the word \"alternating\" is sometimes used to indicate that the signs of the elements of a sequence oscillate, or \"bounce\", back and forth between positive and negative. Complete the implementation of the function `alternating_sign_mean`, which takes in an array of positive numbers, `values`, and computes the mean of **_every_ element** in the original array with **alternating signs**, starting with a positive sign for the element at position 0, a negative sign for the element at position 1, and so on. Example behavior is shown below.\n",
    "\n",
    "```py\n",
    ">>> alternating_sign_mean(np.array([3, 2, 9.5]))\n",
    "3.5 # Comes from (3 + (-2) + 9.5) / 3.\n",
    "\n",
    ">>> alternating_sign_mean(np.array([3, 2.5, 7, 6.5]))\n",
    "0.25 # Comes from (3 + (-2.5) + 7 + (-6.5)) / 4.\n",
    "```\n",
    "\n",
    "*Hint*: If `x` is an integer, `x % 2` evaluates to 0 when `x` is even and to 1 when `x` is odd. If `x` represents the position of an element in the array, you can use this to help you figure out whether the sign should be positive or negative.\n",
    "\n",
    "<!--\n",
    "BEGIN QUESTION\n",
    "name: q5_2\n",
    "-->"
   ]
  },
  {
   "cell_type": "code",
   "execution_count": null,
   "metadata": {},
   "outputs": [],
   "source": [
    "def alternating_sign_mean(values):\n",
    "    ...\n",
    "    \n",
    "# Feel free to change this input to make sure your function works correctly.\n",
    "alternating_sign_mean(np.array([3, 2, 9.5]))"
   ]
  },
  {
   "cell_type": "code",
   "execution_count": null,
   "metadata": {
    "deletable": false,
    "editable": false
   },
   "outputs": [],
   "source": [
    "grader.check(\"q5_2\")"
   ]
  },
  {
   "cell_type": "markdown",
   "metadata": {},
   "source": [
    "## 6. Lucky Triton Lotto 🔱 🎱 \n",
    "\n",
    "Suppose UCSD holds an annual lottery called the Lucky Triton Lotto, where students can enter to win Triton Cash, or even free housing! Here's how the Lucky Triton Lotto works:\n",
    "\n",
    "- First, you pick five **different** numbers, one at a time, from 1 to 34, representing that according to [USNews](https://www.usnews.com/best-colleges/university-of-california-san-diego-1317#:~:text=based%20academic%20calendar.-,University%20of%20California%2C%20San%20Diego's%20ranking%20in%20the%202022%2D2023,Jolla%20community%20of%20San%20Diego.), UCSD is ranked 34 in the nation for best universities to attend for 2022-2023.\n",
    "- Then, you separately pick a number from 1 to 10. This is because UCSD's Data Science program is rank 10th in [USNews's](https://ucsdtritons.com/news/2020/9/8/general-triton-tuesday-uc-san-diego-home-to-award-winning-faculty.aspx) Best Undergraduate Data Science Programs list. Let's say you select 3.\n",
    "- The six numbers you have selected, or  **your numbers**, can be represented all together as (7, 12, 24, 15, 13, 3). This is a _sequence_ of six numbers – **order matters**!\n",
    "\n",
    "The **winning numbers** are chosen by King Triton drawing five balls, one at a time, **without replacement**, from a pot of white balls numbered 1 to 34. Then, he draws a gold ball, the Tritonball, from a pot of gold balls numbered 1 to 10. Both pots are completely separate, hence the different ball colors. For example, maybe the winning numbers are (15, 9, 24, 23, 1, 3).\n",
    "\n",
    "We’ll assume for this problem that in order to win the grand prize (free housing), all six of your numbers need to match the winning numbers and be in the **exact same positions**. In other words, your entire sequence of numbers must be exactly the same as the sequence of winning numbers. However, if some numbers in your sequence match up with the corresponding number in the winning sequence, you will still win some Triton Cash. \n",
    "\n",
    "Suppose again that you select (7, 12, 24, 15, 13, 3) and the winning numbers are (15, 9, 24, 23, 1, 3). In this case, two of your numbers are considered to match two of the winning numbers. \n",
    "- Your numbers: (7, 12, **24**, 15, 13, **3**)\n",
    "- Winning numbers: (15, 9, **24**, 23, 1, **3**)\n",
    "\n",
    "You won't win free housing, but you will win some Triton Cash. Note that although both sequences include the number 15 within the first five numbers (representing a white ball), since they are in different positions, that's not considered a match.\n"
   ]
  },
  {
   "cell_type": "markdown",
   "metadata": {},
   "source": [
    "**Question 6.1.** What is the probability that your Tritonball number (the last number in your sequence) matches the winning Tritonball number? Calculate your answer and assign it to `tritonball_chance`. If you need to do any calculations (e.g. multiplication or division), make Python do it; don't use a separate calculator. Your result should be a decimal number between 0 and 1."
   ]
  },
  {
   "cell_type": "code",
   "execution_count": null,
   "metadata": {},
   "outputs": [],
   "source": [
    "tritonball_chance = ...\n",
    "tritonball_chance"
   ]
  },
  {
   "cell_type": "code",
   "execution_count": null,
   "metadata": {
    "deletable": false,
    "editable": false
   },
   "outputs": [],
   "source": [
    "grader.check(\"q6_1\")"
   ]
  },
  {
   "cell_type": "markdown",
   "metadata": {},
   "source": [
    "**Question 6.2.** What is the probability that your first three numbers match the first three winning numbers? Calculate your answer and assign it to `first_three_chance`. If you need to do any calculations (e.g. multiplication or division), make Python do it; don't use a separate calculator. Your result should be a decimal number between 0 and 1.\n",
    "\n",
    "_Hint_: You need **all three** of the first three numbers to match. What probability rule should you use?"
   ]
  },
  {
   "cell_type": "code",
   "execution_count": null,
   "metadata": {},
   "outputs": [],
   "source": [
    "first_three_chance = ...\n",
    "first_three_chance"
   ]
  },
  {
   "cell_type": "code",
   "execution_count": null,
   "metadata": {
    "deletable": false,
    "editable": false
   },
   "outputs": [],
   "source": [
    "grader.check(\"q6_2\")"
   ]
  },
  {
   "cell_type": "markdown",
   "metadata": {},
   "source": [
    "**Question 6.3.** What is the probability that you win the grand prize, free housing? Calculate your answer and assign it to `free_housing_chance`. If you need to do any calculations (e.g. multiplication or division), make Python do it; don't use a separate calculator. Your result should be a decimal number between 0 and 1.\n",
    "\n",
    "_Hint_: When you select a ball without replacement, what happens to the total number of balls you can select next time?"
   ]
  },
  {
   "cell_type": "code",
   "execution_count": null,
   "metadata": {},
   "outputs": [],
   "source": [
    "free_housing_chance = ...\n",
    "free_housing_chance"
   ]
  },
  {
   "cell_type": "code",
   "execution_count": null,
   "metadata": {
    "deletable": false,
    "editable": false
   },
   "outputs": [],
   "source": [
    "grader.check(\"q6_3\")"
   ]
  },
  {
   "cell_type": "markdown",
   "metadata": {},
   "source": [
    "**Question 6.4.** What is the probability that you do **not** win free housing? Calculate your answer and assign it to `no_free_housing_chance`. If you need to do any calculations (e.g. multiplication or division), make Python do it; don't use a separate calculator. Your result should be a decimal number between 0 and 1."
   ]
  },
  {
   "cell_type": "code",
   "execution_count": null,
   "metadata": {
    "scrolled": true
   },
   "outputs": [],
   "source": [
    "no_free_housing_chance = ...\n",
    "no_free_housing_chance"
   ]
  },
  {
   "cell_type": "code",
   "execution_count": null,
   "metadata": {
    "deletable": false,
    "editable": false
   },
   "outputs": [],
   "source": [
    "grader.check(\"q6_4\")"
   ]
  },
  {
   "cell_type": "markdown",
   "metadata": {},
   "source": [
    "## Finish Line 🏁"
   ]
  },
  {
   "cell_type": "markdown",
   "metadata": {},
   "source": [
    "To submit your assignment:\n",
    "\n",
    "1. Select `Kernel -> Restart & Run All` to ensure that you have executed all cells, including the test cells.\n",
    "1. Read through the notebook to make sure everything is fine and all tests passed.\n",
    "1. Run the cell below to run all tests, and make sure that they all pass.\n",
    "1. Download your notebook using `File -> Download as -> Notebook (.ipynb)`, then upload your notebook to Gradescope.\n",
    "1. Stick around while the Gradescope autograder grades your work. Make sure you see that all tests have passed on Gradescope.\n",
    "1. Check that you have a confirmation email from Gradescope and save it as proof of your submission."
   ]
  },
  {
   "cell_type": "code",
   "execution_count": null,
   "metadata": {},
   "outputs": [],
   "source": [
    "grader.check_all()"
   ]
  }
 ],
 "metadata": {
  "kernelspec": {
   "display_name": "Python 3 (ipykernel)",
   "language": "python",
   "name": "python3"
  },
  "language_info": {
   "codemirror_mode": {
    "name": "ipython",
    "version": 3
   },
   "file_extension": ".py",
   "mimetype": "text/x-python",
   "name": "python",
   "nbconvert_exporter": "python",
   "pygments_lexer": "ipython3",
   "version": "3.9.12"
  }
 },
 "nbformat": 4,
 "nbformat_minor": 4
}
